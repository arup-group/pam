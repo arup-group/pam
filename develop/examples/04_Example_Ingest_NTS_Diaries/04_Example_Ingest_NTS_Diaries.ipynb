{
 "cells": [
  {
   "attachments": {},
   "cell_type": "markdown",
   "metadata": {
    "ExecuteTime": {
     "end_time": "2020-11-10T19:48:47.722892Z",
     "start_time": "2020-11-10T19:48:46.948691Z"
    }
   },
   "source": [
    "# Converting the National Travel Survey into a Simple MATSim Format Population\n",
    "\n",
    "This notebook demonstrates an example workflow for converting tabular diary data from UK NTS (household attributes, person attributes and trip data) into MATSim formatted xml population data for London households.\n",
    "\n",
    "This includes:\n",
    "- pre-processing of tabular inputs\n",
    "- loading data into pam\n",
    "- household sampling\n",
    "- facility sampling\n",
    "- preliminary investigation\n",
    "- writing to xml\n",
    "\n",
    "This example is highly simplified. Of particular note: the diary data used is spatially very aggregate (trip locations are aggregated to inner/outer London). This creates significant variance in the sampled trip lengths. Generally we would expect more precise spatial data to be used. Alternately the complexity of the facility sampling step can be improved to better account for known trip features such as mode and duration.\n",
    "\n",
    "The diary data used is available from the UK Data Service (https://beta.ukdataservice.ac.uk/datacatalogue/studies/study?id=5340) and is described here:http://doc.ukdataservice.ac.uk/doc/5340/mrdoc/pdf/5340_nts_user_guidance_1995-2016.pdf"
   ]
  },
  {
   "cell_type": "code",
   "execution_count": 1,
   "metadata": {
    "ExecuteTime": {
     "end_time": "2020-11-23T09:59:00.355147Z",
     "start_time": "2020-11-23T09:58:59.245038Z"
    },
    "execution": {
     "iopub.execute_input": "2023-07-04T15:30:19.096745Z",
     "iopub.status.busy": "2023-07-04T15:30:19.096653Z",
     "iopub.status.idle": "2023-07-04T15:30:19.516000Z",
     "shell.execute_reply": "2023-07-04T15:30:19.515684Z"
    }
   },
   "outputs": [],
   "source": [
    "import os\n",
    "\n",
    "import geopandas as gp\n",
    "import pandas as pd\n",
    "\n",
    "from pam import read, write\n",
    "from pam.plot.stats import plot_activity_times, plot_leg_times\n",
    "from pam.samplers.spatial import RandomPointSampler"
   ]
  },
  {
   "cell_type": "code",
   "execution_count": 2,
   "metadata": {
    "execution": {
     "iopub.execute_input": "2023-07-04T15:30:19.517804Z",
     "iopub.status.busy": "2023-07-04T15:30:19.517673Z",
     "iopub.status.idle": "2023-07-04T15:30:19.519640Z",
     "shell.execute_reply": "2023-07-04T15:30:19.519297Z"
    }
   },
   "outputs": [],
   "source": [
    "use_dummy_data = True"
   ]
  },
  {
   "cell_type": "code",
   "execution_count": 3,
   "metadata": {
    "ExecuteTime": {
     "end_time": "2020-11-23T09:59:00.383199Z",
     "start_time": "2020-11-23T09:59:00.357541Z"
    },
    "execution": {
     "iopub.execute_input": "2023-07-04T15:30:19.521198Z",
     "iopub.status.busy": "2023-07-04T15:30:19.521093Z",
     "iopub.status.idle": "2023-07-04T15:30:19.523172Z",
     "shell.execute_reply": "2023-07-04T15:30:19.522858Z"
    }
   },
   "outputs": [],
   "source": [
    "out_dir = \"./outputs\"  # outputs are writen here\n",
    "\n",
    "# required inputs from the National Travel Survey\n",
    "if use_dummy_data:\n",
    "    households_csv = \"./data/dummyNTS/householdeul2017.tab\"\n",
    "    individuals_csv = \"./data/dummyNTS/individualeul2017.tab\"\n",
    "    trips_csv = \"./data/dummyNTS/tripeul2017.tab\"\n",
    "\n",
    "else:\n",
    "    households_csv = \"~/Data/UKDA-5340-tab/tab/householdeul2017.tab\"\n",
    "    individuals_csv = \"~/Data/UKDA-5340-tab/tab/individualeul2017.tab\"\n",
    "    trips_csv = \"~/Data/UKDA-5340-tab/tab/tripeul2017.tab\""
   ]
  },
  {
   "attachments": {},
   "cell_type": "markdown",
   "metadata": {},
   "source": [
    "## Load data"
   ]
  },
  {
   "attachments": {},
   "cell_type": "markdown",
   "metadata": {
    "ExecuteTime": {
     "end_time": "2020-08-03T17:13:00.123065Z",
     "start_time": "2020-08-03T17:13:00.093023Z"
    }
   },
   "source": [
    "### Load households data\n",
    "\n",
    "1. Load household data into pandas DataFrame.\n",
    "2. Create some mappings of participation and weighting by household for use later. These are described in http://doc.ukdataservice.ac.uk/doc/5340/mrdoc/pdf/5340_nts_user_guidance_1995-2016.pdf"
   ]
  },
  {
   "cell_type": "code",
   "execution_count": 4,
   "metadata": {
    "ExecuteTime": {
     "end_time": "2020-11-23T09:59:02.359648Z",
     "start_time": "2020-11-23T09:59:01.049612Z"
    },
    "execution": {
     "iopub.execute_input": "2023-07-04T15:30:19.524581Z",
     "iopub.status.busy": "2023-07-04T15:30:19.524477Z",
     "iopub.status.idle": "2023-07-04T15:30:19.536325Z",
     "shell.execute_reply": "2023-07-04T15:30:19.536056Z"
    }
   },
   "outputs": [
    {
     "data": {
      "text/html": [
       "<div>\n",
       "<style scoped>\n",
       "    .dataframe tbody tr th:only-of-type {\n",
       "        vertical-align: middle;\n",
       "    }\n",
       "\n",
       "    .dataframe tbody tr th {\n",
       "        vertical-align: top;\n",
       "    }\n",
       "\n",
       "    .dataframe thead th {\n",
       "        text-align: right;\n",
       "    }\n",
       "</style>\n",
       "<table border=\"1\" class=\"dataframe\">\n",
       "  <thead>\n",
       "    <tr style=\"text-align: right;\">\n",
       "      <th></th>\n",
       "      <th>HouseholdID</th>\n",
       "      <th>SurveyYear</th>\n",
       "      <th>PSUID</th>\n",
       "      <th>W2</th>\n",
       "      <th>OutCom_B02ID</th>\n",
       "      <th>HHIncome2002_B02ID</th>\n",
       "      <th>AddressType_B01ID</th>\n",
       "      <th>Ten1_B02ID</th>\n",
       "      <th>Landlord_B01ID</th>\n",
       "      <th>ResLength_B01ID</th>\n",
       "      <th>...</th>\n",
       "      <th>NumCarVan</th>\n",
       "      <th>WalkBus_B01ID</th>\n",
       "      <th>Getbus_B01ID</th>\n",
       "      <th>WalkRail_B01ID</th>\n",
       "      <th>WalkRailAlt_B01ID</th>\n",
       "      <th>HRPWorkStat_B02ID</th>\n",
       "      <th>HRPSEGWorkStat_B01ID</th>\n",
       "      <th>HHoldOAClass2011_B03ID</th>\n",
       "      <th>Settlement2011EW_B03ID</th>\n",
       "      <th>Settlement2011EW_B04ID</th>\n",
       "    </tr>\n",
       "  </thead>\n",
       "  <tbody>\n",
       "    <tr>\n",
       "      <th>0</th>\n",
       "      <td>1</td>\n",
       "      <td>2002</td>\n",
       "      <td>1</td>\n",
       "      <td>1</td>\n",
       "      <td>1</td>\n",
       "      <td>2</td>\n",
       "      <td>3</td>\n",
       "      <td>1</td>\n",
       "      <td>-10</td>\n",
       "      <td>3</td>\n",
       "      <td>...</td>\n",
       "      <td>2</td>\n",
       "      <td>1</td>\n",
       "      <td>5</td>\n",
       "      <td>1</td>\n",
       "      <td>-9</td>\n",
       "      <td>1</td>\n",
       "      <td>3</td>\n",
       "      <td>-10</td>\n",
       "      <td>1</td>\n",
       "      <td>1</td>\n",
       "    </tr>\n",
       "    <tr>\n",
       "      <th>1</th>\n",
       "      <td>2</td>\n",
       "      <td>2002</td>\n",
       "      <td>1</td>\n",
       "      <td>1</td>\n",
       "      <td>1</td>\n",
       "      <td>1</td>\n",
       "      <td>3</td>\n",
       "      <td>1</td>\n",
       "      <td>-10</td>\n",
       "      <td>8</td>\n",
       "      <td>...</td>\n",
       "      <td>0</td>\n",
       "      <td>1</td>\n",
       "      <td>5</td>\n",
       "      <td>2</td>\n",
       "      <td>-9</td>\n",
       "      <td>3</td>\n",
       "      <td>5</td>\n",
       "      <td>-10</td>\n",
       "      <td>1</td>\n",
       "      <td>1</td>\n",
       "    </tr>\n",
       "    <tr>\n",
       "      <th>2</th>\n",
       "      <td>3</td>\n",
       "      <td>2002</td>\n",
       "      <td>1</td>\n",
       "      <td>1</td>\n",
       "      <td>1</td>\n",
       "      <td>3</td>\n",
       "      <td>3</td>\n",
       "      <td>1</td>\n",
       "      <td>-10</td>\n",
       "      <td>8</td>\n",
       "      <td>...</td>\n",
       "      <td>2</td>\n",
       "      <td>1</td>\n",
       "      <td>4</td>\n",
       "      <td>3</td>\n",
       "      <td>-9</td>\n",
       "      <td>1</td>\n",
       "      <td>3</td>\n",
       "      <td>-10</td>\n",
       "      <td>1</td>\n",
       "      <td>1</td>\n",
       "    </tr>\n",
       "  </tbody>\n",
       "</table>\n",
       "<p>3 rows × 33 columns</p>\n",
       "</div>"
      ],
      "text/plain": [
       "   HouseholdID  SurveyYear  PSUID  W2  OutCom_B02ID  HHIncome2002_B02ID  \\\n",
       "0            1        2002      1   1             1                   2   \n",
       "1            2        2002      1   1             1                   1   \n",
       "2            3        2002      1   1             1                   3   \n",
       "\n",
       "   AddressType_B01ID  Ten1_B02ID  Landlord_B01ID  ResLength_B01ID  ...  \\\n",
       "0                  3           1             -10                3  ...   \n",
       "1                  3           1             -10                8  ...   \n",
       "2                  3           1             -10                8  ...   \n",
       "\n",
       "   NumCarVan  WalkBus_B01ID  Getbus_B01ID  WalkRail_B01ID  WalkRailAlt_B01ID  \\\n",
       "0          2              1             5               1                 -9   \n",
       "1          0              1             5               2                 -9   \n",
       "2          2              1             4               3                 -9   \n",
       "\n",
       "   HRPWorkStat_B02ID  HRPSEGWorkStat_B01ID  HHoldOAClass2011_B03ID  \\\n",
       "0                  1                     3                     -10   \n",
       "1                  3                     5                     -10   \n",
       "2                  1                     3                     -10   \n",
       "\n",
       "   Settlement2011EW_B03ID  Settlement2011EW_B04ID  \n",
       "0                       1                       1  \n",
       "1                       1                       1  \n",
       "2                       1                       1  \n",
       "\n",
       "[3 rows x 33 columns]"
      ]
     },
     "execution_count": 4,
     "metadata": {},
     "output_type": "execute_result"
    }
   ],
   "source": [
    "hh_in = pd.read_csv(\n",
    "    households_csv,\n",
    "    sep=\"\\t\",\n",
    "    usecols=[\n",
    "        \"HouseholdID\",\n",
    "        \"SurveyYear\",\n",
    "        \"PSUID\",\n",
    "        \"W2\",\n",
    "        \"OutCom_B02ID\",\n",
    "        \"HHIncome2002_B02ID\",\n",
    "        \"AddressType_B01ID\",\n",
    "        \"Ten1_B02ID\",\n",
    "        \"Landlord_B01ID\",\n",
    "        \"ResLength_B01ID\",\n",
    "        \"HHoldCountry_B01ID\",\n",
    "        \"HHoldGOR_B02ID\",\n",
    "        \"HHoldNumAdults\",\n",
    "        \"HHoldNumChildren\",\n",
    "        \"HHoldNumPeople\",\n",
    "        \"HHoldStruct_B02ID\",\n",
    "        \"NumLicHolders\",\n",
    "        \"HHoldEmploy_B01ID\",\n",
    "        \"NumVehicles\",\n",
    "        \"NumBike\",\n",
    "        \"NumCar\",\n",
    "        \"NumMCycle\",\n",
    "        \"NumVanLorry\",\n",
    "        \"NumCarVan\",\n",
    "        \"WalkBus_B01ID\",\n",
    "        \"Getbus_B01ID\",\n",
    "        \"WalkRail_B01ID\",\n",
    "        \"WalkRailAlt_B01ID\",\n",
    "        \"HRPWorkStat_B02ID\",\n",
    "        \"HRPSEGWorkStat_B01ID\",\n",
    "        \"HHoldOAClass2011_B03ID\",\n",
    "        \"Settlement2011EW_B03ID\",\n",
    "        \"Settlement2011EW_B04ID\",\n",
    "    ],\n",
    ")\n",
    "\n",
    "hh_in.HHIncome2002_B02ID = pd.to_numeric(hh_in.HHIncome2002_B02ID, errors=\"coerce\")\n",
    "hh_in.NumLicHolders = pd.to_numeric(hh_in.NumLicHolders, errors=\"coerce\")\n",
    "hh_in.NumVehicles = pd.to_numeric(hh_in.NumVehicles, errors=\"coerce\")\n",
    "hh_in.NumCar = pd.to_numeric(hh_in.NumCar, errors=\"coerce\")\n",
    "hh_in.NumMCycle = pd.to_numeric(hh_in.NumMCycle, errors=\"coerce\")\n",
    "hh_in.NumVanLorry = pd.to_numeric(hh_in.NumVanLorry, errors=\"coerce\")\n",
    "hh_in.NumCarVan = pd.to_numeric(hh_in.NumCarVan, errors=\"coerce\")\n",
    "hh_in.Settlement2011EW_B04ID = pd.to_numeric(hh_in.Settlement2011EW_B04ID, errors=\"coerce\")\n",
    "\n",
    "hh_in.head()"
   ]
  },
  {
   "cell_type": "code",
   "execution_count": 5,
   "metadata": {
    "ExecuteTime": {
     "end_time": "2020-11-23T09:59:02.471138Z",
     "start_time": "2020-11-23T09:59:02.362042Z"
    },
    "execution": {
     "iopub.execute_input": "2023-07-04T15:30:19.537794Z",
     "iopub.status.busy": "2023-07-04T15:30:19.537709Z",
     "iopub.status.idle": "2023-07-04T15:30:19.539609Z",
     "shell.execute_reply": "2023-07-04T15:30:19.539326Z"
    }
   },
   "outputs": [],
   "source": [
    "participation_mapping = dict(zip(hh_in.HouseholdID, hh_in.OutCom_B02ID))\n",
    "weight_mapping = dict(zip(hh_in.HouseholdID, hh_in.W2))"
   ]
  },
  {
   "attachments": {},
   "cell_type": "markdown",
   "metadata": {
    "ExecuteTime": {
     "end_time": "2020-08-04T10:49:47.862682Z",
     "start_time": "2020-08-04T10:49:47.799479Z"
    }
   },
   "source": [
    "### Load person data\n",
    "\n",
    "Load person attributes data into pandas DataFrame."
   ]
  },
  {
   "cell_type": "code",
   "execution_count": 6,
   "metadata": {
    "ExecuteTime": {
     "end_time": "2020-11-23T09:59:06.030164Z",
     "start_time": "2020-11-23T09:59:02.474033Z"
    },
    "execution": {
     "iopub.execute_input": "2023-07-04T15:30:19.540932Z",
     "iopub.status.busy": "2023-07-04T15:30:19.540833Z",
     "iopub.status.idle": "2023-07-04T15:30:19.548520Z",
     "shell.execute_reply": "2023-07-04T15:30:19.548231Z"
    }
   },
   "outputs": [
    {
     "data": {
      "text/html": [
       "<div>\n",
       "<style scoped>\n",
       "    .dataframe tbody tr th:only-of-type {\n",
       "        vertical-align: middle;\n",
       "    }\n",
       "\n",
       "    .dataframe tbody tr th {\n",
       "        vertical-align: top;\n",
       "    }\n",
       "\n",
       "    .dataframe thead th {\n",
       "        text-align: right;\n",
       "    }\n",
       "</style>\n",
       "<table border=\"1\" class=\"dataframe\">\n",
       "  <thead>\n",
       "    <tr style=\"text-align: right;\">\n",
       "      <th></th>\n",
       "      <th>SurveyYear</th>\n",
       "      <th>IndividualID</th>\n",
       "      <th>HouseholdID</th>\n",
       "      <th>PSUID</th>\n",
       "      <th>VehicleID</th>\n",
       "      <th>PersNo</th>\n",
       "      <th>Age_B01ID</th>\n",
       "      <th>OfPenAge_B01ID</th>\n",
       "      <th>Sex_B01ID</th>\n",
       "      <th>EdAttn1_B01ID</th>\n",
       "      <th>...</th>\n",
       "      <th>CarAccess_B01ID</th>\n",
       "      <th>DrivDisable_B01ID</th>\n",
       "      <th>WkPlace_B01ID</th>\n",
       "      <th>ES2000_B01ID</th>\n",
       "      <th>NSSec_B03ID</th>\n",
       "      <th>SC_B01ID</th>\n",
       "      <th>Stat_B01ID</th>\n",
       "      <th>SVise_B01ID</th>\n",
       "      <th>EcoStat_B02ID</th>\n",
       "      <th>PossHom_B01ID</th>\n",
       "    </tr>\n",
       "  </thead>\n",
       "  <tbody>\n",
       "    <tr>\n",
       "      <th>0</th>\n",
       "      <td>2002</td>\n",
       "      <td>1</td>\n",
       "      <td>1</td>\n",
       "      <td>1</td>\n",
       "      <td>1</td>\n",
       "      <td>1</td>\n",
       "      <td>13</td>\n",
       "      <td>2</td>\n",
       "      <td>2</td>\n",
       "      <td>-10</td>\n",
       "      <td>...</td>\n",
       "      <td>2</td>\n",
       "      <td>-9</td>\n",
       "      <td>1</td>\n",
       "      <td>7</td>\n",
       "      <td>2</td>\n",
       "      <td>3</td>\n",
       "      <td>1</td>\n",
       "      <td>2</td>\n",
       "      <td>2</td>\n",
       "      <td>2</td>\n",
       "    </tr>\n",
       "    <tr>\n",
       "      <th>1</th>\n",
       "      <td>2002</td>\n",
       "      <td>2</td>\n",
       "      <td>1</td>\n",
       "      <td>1</td>\n",
       "      <td>2</td>\n",
       "      <td>2</td>\n",
       "      <td>13</td>\n",
       "      <td>2</td>\n",
       "      <td>1</td>\n",
       "      <td>-10</td>\n",
       "      <td>...</td>\n",
       "      <td>2</td>\n",
       "      <td>-9</td>\n",
       "      <td>1</td>\n",
       "      <td>7</td>\n",
       "      <td>3</td>\n",
       "      <td>4</td>\n",
       "      <td>1</td>\n",
       "      <td>2</td>\n",
       "      <td>1</td>\n",
       "      <td>2</td>\n",
       "    </tr>\n",
       "    <tr>\n",
       "      <th>2</th>\n",
       "      <td>2002</td>\n",
       "      <td>3</td>\n",
       "      <td>1</td>\n",
       "      <td>1</td>\n",
       "      <td></td>\n",
       "      <td>3</td>\n",
       "      <td>4</td>\n",
       "      <td>2</td>\n",
       "      <td>1</td>\n",
       "      <td>-10</td>\n",
       "      <td>...</td>\n",
       "      <td>4</td>\n",
       "      <td>-9</td>\n",
       "      <td>-9</td>\n",
       "      <td>-9</td>\n",
       "      <td>-9</td>\n",
       "      <td>-9</td>\n",
       "      <td>-9</td>\n",
       "      <td>-9</td>\n",
       "      <td>-9</td>\n",
       "      <td>-9</td>\n",
       "    </tr>\n",
       "    <tr>\n",
       "      <th>3</th>\n",
       "      <td>2002</td>\n",
       "      <td>4</td>\n",
       "      <td>1</td>\n",
       "      <td>1</td>\n",
       "      <td></td>\n",
       "      <td>4</td>\n",
       "      <td>2</td>\n",
       "      <td>2</td>\n",
       "      <td>2</td>\n",
       "      <td>-10</td>\n",
       "      <td>...</td>\n",
       "      <td>4</td>\n",
       "      <td>-9</td>\n",
       "      <td>-9</td>\n",
       "      <td>-9</td>\n",
       "      <td>-9</td>\n",
       "      <td>-9</td>\n",
       "      <td>-9</td>\n",
       "      <td>-9</td>\n",
       "      <td>-9</td>\n",
       "      <td>-9</td>\n",
       "    </tr>\n",
       "    <tr>\n",
       "      <th>4</th>\n",
       "      <td>2002</td>\n",
       "      <td>5</td>\n",
       "      <td>2</td>\n",
       "      <td>1</td>\n",
       "      <td></td>\n",
       "      <td>1</td>\n",
       "      <td>18</td>\n",
       "      <td>1</td>\n",
       "      <td>2</td>\n",
       "      <td>-10</td>\n",
       "      <td>...</td>\n",
       "      <td>6</td>\n",
       "      <td>2</td>\n",
       "      <td>-9</td>\n",
       "      <td>6</td>\n",
       "      <td>1</td>\n",
       "      <td>3</td>\n",
       "      <td>1</td>\n",
       "      <td>1</td>\n",
       "      <td>4</td>\n",
       "      <td>-9</td>\n",
       "    </tr>\n",
       "  </tbody>\n",
       "</table>\n",
       "<p>5 rows × 23 columns</p>\n",
       "</div>"
      ],
      "text/plain": [
       "   SurveyYear  IndividualID  HouseholdID  PSUID VehicleID  PersNo  Age_B01ID  \\\n",
       "0        2002             1            1      1         1       1         13   \n",
       "1        2002             2            1      1         2       2         13   \n",
       "2        2002             3            1      1                 3          4   \n",
       "3        2002             4            1      1                 4          2   \n",
       "4        2002             5            2      1                 1         18   \n",
       "\n",
       "   OfPenAge_B01ID  Sex_B01ID  EdAttn1_B01ID  ...  CarAccess_B01ID  \\\n",
       "0               2          2            -10  ...                2   \n",
       "1               2          1            -10  ...                2   \n",
       "2               2          1            -10  ...                4   \n",
       "3               2          2            -10  ...                4   \n",
       "4               1          2            -10  ...                6   \n",
       "\n",
       "   DrivDisable_B01ID  WkPlace_B01ID  ES2000_B01ID  NSSec_B03ID  SC_B01ID  \\\n",
       "0                 -9              1             7            2         3   \n",
       "1                 -9              1             7            3         4   \n",
       "2                 -9             -9            -9           -9        -9   \n",
       "3                 -9             -9            -9           -9        -9   \n",
       "4                  2             -9             6            1         3   \n",
       "\n",
       "   Stat_B01ID  SVise_B01ID  EcoStat_B02ID  PossHom_B01ID  \n",
       "0           1            2              2              2  \n",
       "1           1            2              1              2  \n",
       "2          -9           -9             -9             -9  \n",
       "3          -9           -9             -9             -9  \n",
       "4           1            1              4             -9  \n",
       "\n",
       "[5 rows x 23 columns]"
      ]
     },
     "execution_count": 6,
     "metadata": {},
     "output_type": "execute_result"
    }
   ],
   "source": [
    "persons_in = pd.read_csv(\n",
    "    individuals_csv,\n",
    "    sep=\"\\t\",\n",
    "    usecols=[\n",
    "        \"SurveyYear\",\n",
    "        \"IndividualID\",\n",
    "        \"HouseholdID\",\n",
    "        \"PSUID\",\n",
    "        \"VehicleID\",\n",
    "        \"PersNo\",\n",
    "        \"Age_B01ID\",\n",
    "        \"OfPenAge_B01ID\",\n",
    "        \"Sex_B01ID\",\n",
    "        \"EdAttn1_B01ID\",\n",
    "        \"EdAttn2_B01ID\",\n",
    "        \"EdAttn3_B01ID\",\n",
    "        \"DrivLic_B02ID\",\n",
    "        \"CarAccess_B01ID\",\n",
    "        \"DrivDisable_B01ID\",\n",
    "        \"WkPlace_B01ID\",\n",
    "        \"ES2000_B01ID\",\n",
    "        \"NSSec_B03ID\",\n",
    "        \"SC_B01ID\",\n",
    "        \"Stat_B01ID\",\n",
    "        \"SVise_B01ID\",\n",
    "        \"EcoStat_B02ID\",\n",
    "        \"PossHom_B01ID\",\n",
    "    ],\n",
    ")\n",
    "persons_in.head()"
   ]
  },
  {
   "attachments": {},
   "cell_type": "markdown",
   "metadata": {},
   "source": [
    "### load trip data\n",
    "\n",
    "1. Load trip data into pandas DataFrame format.\n",
    "2. Apply some preliminary formatting\n",
    "3. Replace headers so that we can use pam read method:\n",
    "\n",
    "\n",
    "- pid - person ID\n",
    "- hid - household ID\n",
    "- seq - trip sequence number\n",
    "- hzone - household zone\n",
    "- ozone - trip origin zone\n",
    "- dzone - trip destination zone\n",
    "- purp - trip purpose\n",
    "- mode - trip mode\n",
    "- tst - trip start time (minutes)\n",
    "- tet - trip end time (minutes)\n",
    "- freq - weighting for representative population"
   ]
  },
  {
   "cell_type": "code",
   "execution_count": 7,
   "metadata": {
    "ExecuteTime": {
     "end_time": "2020-11-23T09:59:19.495376Z",
     "start_time": "2020-11-23T09:59:06.038395Z"
    },
    "execution": {
     "iopub.execute_input": "2023-07-04T15:30:19.549833Z",
     "iopub.status.busy": "2023-07-04T15:30:19.549746Z",
     "iopub.status.idle": "2023-07-04T15:30:19.556966Z",
     "shell.execute_reply": "2023-07-04T15:30:19.556696Z"
    }
   },
   "outputs": [
    {
     "data": {
      "text/html": [
       "<div>\n",
       "<style scoped>\n",
       "    .dataframe tbody tr th:only-of-type {\n",
       "        vertical-align: middle;\n",
       "    }\n",
       "\n",
       "    .dataframe tbody tr th {\n",
       "        vertical-align: top;\n",
       "    }\n",
       "\n",
       "    .dataframe thead th {\n",
       "        text-align: right;\n",
       "    }\n",
       "</style>\n",
       "<table border=\"1\" class=\"dataframe\">\n",
       "  <thead>\n",
       "    <tr style=\"text-align: right;\">\n",
       "      <th></th>\n",
       "      <th>TripID</th>\n",
       "      <th>SurveyYear</th>\n",
       "      <th>DayID</th>\n",
       "      <th>IndividualID</th>\n",
       "      <th>HouseholdID</th>\n",
       "      <th>PSUID</th>\n",
       "      <th>PersNo</th>\n",
       "      <th>TravDay</th>\n",
       "      <th>JourSeq</th>\n",
       "      <th>ShortWalkTrip_B01ID</th>\n",
       "      <th>NumStages</th>\n",
       "      <th>MainMode_B04ID</th>\n",
       "      <th>TripPurpose_B04ID</th>\n",
       "      <th>TripPurpFrom_B01ID</th>\n",
       "      <th>TripPurpTo_B01ID</th>\n",
       "      <th>TripStart</th>\n",
       "      <th>TripEnd</th>\n",
       "      <th>TripOrigUA2009_B01ID</th>\n",
       "      <th>TripDestUA2009_B01ID</th>\n",
       "    </tr>\n",
       "  </thead>\n",
       "  <tbody>\n",
       "    <tr>\n",
       "      <th>0</th>\n",
       "      <td>1</td>\n",
       "      <td>2002</td>\n",
       "      <td>2</td>\n",
       "      <td>1</td>\n",
       "      <td>1</td>\n",
       "      <td>1</td>\n",
       "      <td>1</td>\n",
       "      <td>2</td>\n",
       "      <td>1</td>\n",
       "      <td>2</td>\n",
       "      <td>1</td>\n",
       "      <td>4</td>\n",
       "      <td>7</td>\n",
       "      <td>23</td>\n",
       "      <td>10</td>\n",
       "      <td>675</td>\n",
       "      <td>683</td>\n",
       "      <td>530</td>\n",
       "      <td>550</td>\n",
       "    </tr>\n",
       "    <tr>\n",
       "      <th>1</th>\n",
       "      <td>2</td>\n",
       "      <td>2002</td>\n",
       "      <td>2</td>\n",
       "      <td>1</td>\n",
       "      <td>1</td>\n",
       "      <td>1</td>\n",
       "      <td>1</td>\n",
       "      <td>2</td>\n",
       "      <td>2</td>\n",
       "      <td>2</td>\n",
       "      <td>1</td>\n",
       "      <td>4</td>\n",
       "      <td>6</td>\n",
       "      <td>10</td>\n",
       "      <td>8</td>\n",
       "      <td>720</td>\n",
       "      <td>735</td>\n",
       "      <td>530</td>\n",
       "      <td>550</td>\n",
       "    </tr>\n",
       "    <tr>\n",
       "      <th>2</th>\n",
       "      <td>3</td>\n",
       "      <td>2002</td>\n",
       "      <td>2</td>\n",
       "      <td>1</td>\n",
       "      <td>1</td>\n",
       "      <td>1</td>\n",
       "      <td>1</td>\n",
       "      <td>2</td>\n",
       "      <td>3</td>\n",
       "      <td>2</td>\n",
       "      <td>1</td>\n",
       "      <td>4</td>\n",
       "      <td>7</td>\n",
       "      <td>8</td>\n",
       "      <td>10</td>\n",
       "      <td>770</td>\n",
       "      <td>780</td>\n",
       "      <td>530</td>\n",
       "      <td>550</td>\n",
       "    </tr>\n",
       "    <tr>\n",
       "      <th>3</th>\n",
       "      <td>4</td>\n",
       "      <td>2002</td>\n",
       "      <td>2</td>\n",
       "      <td>1</td>\n",
       "      <td>1</td>\n",
       "      <td>1</td>\n",
       "      <td>1</td>\n",
       "      <td>2</td>\n",
       "      <td>4</td>\n",
       "      <td>2</td>\n",
       "      <td>1</td>\n",
       "      <td>12</td>\n",
       "      <td>7</td>\n",
       "      <td>10</td>\n",
       "      <td>23</td>\n",
       "      <td>1110</td>\n",
       "      <td>1130</td>\n",
       "      <td>530</td>\n",
       "      <td>550</td>\n",
       "    </tr>\n",
       "    <tr>\n",
       "      <th>4</th>\n",
       "      <td>5</td>\n",
       "      <td>2002</td>\n",
       "      <td>3</td>\n",
       "      <td>1</td>\n",
       "      <td>1</td>\n",
       "      <td>1</td>\n",
       "      <td>1</td>\n",
       "      <td>3</td>\n",
       "      <td>1</td>\n",
       "      <td>2</td>\n",
       "      <td>1</td>\n",
       "      <td>4</td>\n",
       "      <td>7</td>\n",
       "      <td>23</td>\n",
       "      <td>10</td>\n",
       "      <td>760</td>\n",
       "      <td>770</td>\n",
       "      <td>530</td>\n",
       "      <td>550</td>\n",
       "    </tr>\n",
       "  </tbody>\n",
       "</table>\n",
       "</div>"
      ],
      "text/plain": [
       "   TripID  SurveyYear  DayID  IndividualID  HouseholdID  PSUID  PersNo  \\\n",
       "0       1        2002      2             1            1      1       1   \n",
       "1       2        2002      2             1            1      1       1   \n",
       "2       3        2002      2             1            1      1       1   \n",
       "3       4        2002      2             1            1      1       1   \n",
       "4       5        2002      3             1            1      1       1   \n",
       "\n",
       "   TravDay  JourSeq  ShortWalkTrip_B01ID  NumStages  MainMode_B04ID  \\\n",
       "0        2        1                    2          1               4   \n",
       "1        2        2                    2          1               4   \n",
       "2        2        3                    2          1               4   \n",
       "3        2        4                    2          1              12   \n",
       "4        3        1                    2          1               4   \n",
       "\n",
       "   TripPurpose_B04ID  TripPurpFrom_B01ID  TripPurpTo_B01ID  TripStart  \\\n",
       "0                  7                  23                10        675   \n",
       "1                  6                  10                 8        720   \n",
       "2                  7                   8                10        770   \n",
       "3                  7                  10                23       1110   \n",
       "4                  7                  23                10        760   \n",
       "\n",
       "   TripEnd  TripOrigUA2009_B01ID  TripDestUA2009_B01ID  \n",
       "0      683                   530                   550  \n",
       "1      735                   530                   550  \n",
       "2      780                   530                   550  \n",
       "3     1130                   530                   550  \n",
       "4      770                   530                   550  "
      ]
     },
     "execution_count": 7,
     "metadata": {},
     "output_type": "execute_result"
    }
   ],
   "source": [
    "travel_diaries_in = pd.read_csv(\n",
    "    trips_csv,\n",
    "    sep=\"\\t\",\n",
    "    usecols=[\n",
    "        \"TripID\",\n",
    "        \"SurveyYear\",\n",
    "        \"DayID\",\n",
    "        \"IndividualID\",\n",
    "        \"HouseholdID\",\n",
    "        \"PSUID\",\n",
    "        \"PersNo\",\n",
    "        \"TravDay\",\n",
    "        \"JourSeq\",\n",
    "        \"ShortWalkTrip_B01ID\",\n",
    "        \"NumStages\",\n",
    "        \"MainMode_B04ID\",\n",
    "        \"TripPurpFrom_B01ID\",\n",
    "        \"TripPurpTo_B01ID\",\n",
    "        \"TripPurpose_B04ID\",\n",
    "        \"TripStart\",\n",
    "        \"TripEnd\",\n",
    "        \"TripOrigUA2009_B01ID\",\n",
    "        \"TripDestUA2009_B01ID\",\n",
    "    ],\n",
    ")\n",
    "\n",
    "travel_diaries_in.TripStart = pd.to_numeric(travel_diaries_in.TripStart, errors=\"coerce\")\n",
    "travel_diaries_in.TripEnd = pd.to_numeric(travel_diaries_in.TripEnd, errors=\"coerce\")\n",
    "\n",
    "travel_diaries_in.head()"
   ]
  },
  {
   "cell_type": "code",
   "execution_count": 8,
   "metadata": {
    "ExecuteTime": {
     "end_time": "2020-11-23T09:59:19.921306Z",
     "start_time": "2020-11-23T09:59:19.500969Z"
    },
    "execution": {
     "iopub.execute_input": "2023-07-04T15:30:19.558230Z",
     "iopub.status.busy": "2023-07-04T15:30:19.558149Z",
     "iopub.status.idle": "2023-07-04T15:30:19.560738Z",
     "shell.execute_reply": "2023-07-04T15:30:19.560449Z"
    }
   },
   "outputs": [],
   "source": [
    "travel_diaries_in[\"participation\"] = travel_diaries_in.HouseholdID.map(participation_mapping)\n",
    "travel_diaries_in[\"hh_weight\"] = travel_diaries_in.HouseholdID.map(weight_mapping)"
   ]
  },
  {
   "cell_type": "code",
   "execution_count": 9,
   "metadata": {
    "ExecuteTime": {
     "end_time": "2020-11-23T09:59:21.535710Z",
     "start_time": "2020-11-23T09:59:19.924030Z"
    },
    "execution": {
     "iopub.execute_input": "2023-07-04T15:30:19.561988Z",
     "iopub.status.busy": "2023-07-04T15:30:19.561899Z",
     "iopub.status.idle": "2023-07-04T15:30:19.564105Z",
     "shell.execute_reply": "2023-07-04T15:30:19.563827Z"
    }
   },
   "outputs": [],
   "source": [
    "travel_diaries = travel_diaries_in.loc[travel_diaries_in.participation.isin([1, 2])]"
   ]
  },
  {
   "cell_type": "code",
   "execution_count": 10,
   "metadata": {
    "ExecuteTime": {
     "end_time": "2020-11-23T09:59:21.576839Z",
     "start_time": "2020-11-23T09:59:21.538108Z"
    },
    "execution": {
     "iopub.execute_input": "2023-07-04T15:30:19.565311Z",
     "iopub.status.busy": "2023-07-04T15:30:19.565227Z",
     "iopub.status.idle": "2023-07-04T15:30:19.570727Z",
     "shell.execute_reply": "2023-07-04T15:30:19.570405Z"
    }
   },
   "outputs": [
    {
     "data": {
      "text/html": [
       "<div>\n",
       "<style scoped>\n",
       "    .dataframe tbody tr th:only-of-type {\n",
       "        vertical-align: middle;\n",
       "    }\n",
       "\n",
       "    .dataframe tbody tr th {\n",
       "        vertical-align: top;\n",
       "    }\n",
       "\n",
       "    .dataframe thead th {\n",
       "        text-align: right;\n",
       "    }\n",
       "</style>\n",
       "<table border=\"1\" class=\"dataframe\">\n",
       "  <thead>\n",
       "    <tr style=\"text-align: right;\">\n",
       "      <th></th>\n",
       "      <th>TripID</th>\n",
       "      <th>SurveyYear</th>\n",
       "      <th>DayID</th>\n",
       "      <th>IndividualID</th>\n",
       "      <th>HouseholdID</th>\n",
       "      <th>PSUID</th>\n",
       "      <th>PersNo</th>\n",
       "      <th>TravDay</th>\n",
       "      <th>JourSeq</th>\n",
       "      <th>ShortWalkTrip_B01ID</th>\n",
       "      <th>...</th>\n",
       "      <th>MainMode_B04ID</th>\n",
       "      <th>TripPurpose_B04ID</th>\n",
       "      <th>TripPurpFrom_B01ID</th>\n",
       "      <th>TripPurpTo_B01ID</th>\n",
       "      <th>TripStart</th>\n",
       "      <th>TripEnd</th>\n",
       "      <th>TripOrigUA2009_B01ID</th>\n",
       "      <th>TripDestUA2009_B01ID</th>\n",
       "      <th>participation</th>\n",
       "      <th>hh_weight</th>\n",
       "    </tr>\n",
       "  </thead>\n",
       "  <tbody>\n",
       "    <tr>\n",
       "      <th>0</th>\n",
       "      <td>1</td>\n",
       "      <td>2002</td>\n",
       "      <td>2</td>\n",
       "      <td>1</td>\n",
       "      <td>1</td>\n",
       "      <td>1</td>\n",
       "      <td>1</td>\n",
       "      <td>2</td>\n",
       "      <td>1</td>\n",
       "      <td>2</td>\n",
       "      <td>...</td>\n",
       "      <td>4</td>\n",
       "      <td>7</td>\n",
       "      <td>23</td>\n",
       "      <td>10</td>\n",
       "      <td>675</td>\n",
       "      <td>683</td>\n",
       "      <td>530</td>\n",
       "      <td>550</td>\n",
       "      <td>1</td>\n",
       "      <td>1</td>\n",
       "    </tr>\n",
       "    <tr>\n",
       "      <th>1</th>\n",
       "      <td>2</td>\n",
       "      <td>2002</td>\n",
       "      <td>2</td>\n",
       "      <td>1</td>\n",
       "      <td>1</td>\n",
       "      <td>1</td>\n",
       "      <td>1</td>\n",
       "      <td>2</td>\n",
       "      <td>2</td>\n",
       "      <td>2</td>\n",
       "      <td>...</td>\n",
       "      <td>4</td>\n",
       "      <td>6</td>\n",
       "      <td>10</td>\n",
       "      <td>8</td>\n",
       "      <td>720</td>\n",
       "      <td>735</td>\n",
       "      <td>530</td>\n",
       "      <td>550</td>\n",
       "      <td>1</td>\n",
       "      <td>1</td>\n",
       "    </tr>\n",
       "    <tr>\n",
       "      <th>2</th>\n",
       "      <td>3</td>\n",
       "      <td>2002</td>\n",
       "      <td>2</td>\n",
       "      <td>1</td>\n",
       "      <td>1</td>\n",
       "      <td>1</td>\n",
       "      <td>1</td>\n",
       "      <td>2</td>\n",
       "      <td>3</td>\n",
       "      <td>2</td>\n",
       "      <td>...</td>\n",
       "      <td>4</td>\n",
       "      <td>7</td>\n",
       "      <td>8</td>\n",
       "      <td>10</td>\n",
       "      <td>770</td>\n",
       "      <td>780</td>\n",
       "      <td>530</td>\n",
       "      <td>550</td>\n",
       "      <td>1</td>\n",
       "      <td>1</td>\n",
       "    </tr>\n",
       "    <tr>\n",
       "      <th>3</th>\n",
       "      <td>4</td>\n",
       "      <td>2002</td>\n",
       "      <td>2</td>\n",
       "      <td>1</td>\n",
       "      <td>1</td>\n",
       "      <td>1</td>\n",
       "      <td>1</td>\n",
       "      <td>2</td>\n",
       "      <td>4</td>\n",
       "      <td>2</td>\n",
       "      <td>...</td>\n",
       "      <td>12</td>\n",
       "      <td>7</td>\n",
       "      <td>10</td>\n",
       "      <td>23</td>\n",
       "      <td>1110</td>\n",
       "      <td>1130</td>\n",
       "      <td>530</td>\n",
       "      <td>550</td>\n",
       "      <td>1</td>\n",
       "      <td>1</td>\n",
       "    </tr>\n",
       "    <tr>\n",
       "      <th>4</th>\n",
       "      <td>5</td>\n",
       "      <td>2002</td>\n",
       "      <td>3</td>\n",
       "      <td>1</td>\n",
       "      <td>1</td>\n",
       "      <td>1</td>\n",
       "      <td>1</td>\n",
       "      <td>3</td>\n",
       "      <td>1</td>\n",
       "      <td>2</td>\n",
       "      <td>...</td>\n",
       "      <td>4</td>\n",
       "      <td>7</td>\n",
       "      <td>23</td>\n",
       "      <td>10</td>\n",
       "      <td>760</td>\n",
       "      <td>770</td>\n",
       "      <td>530</td>\n",
       "      <td>550</td>\n",
       "      <td>1</td>\n",
       "      <td>1</td>\n",
       "    </tr>\n",
       "  </tbody>\n",
       "</table>\n",
       "<p>5 rows × 21 columns</p>\n",
       "</div>"
      ],
      "text/plain": [
       "   TripID  SurveyYear  DayID  IndividualID  HouseholdID  PSUID  PersNo  \\\n",
       "0       1        2002      2             1            1      1       1   \n",
       "1       2        2002      2             1            1      1       1   \n",
       "2       3        2002      2             1            1      1       1   \n",
       "3       4        2002      2             1            1      1       1   \n",
       "4       5        2002      3             1            1      1       1   \n",
       "\n",
       "   TravDay  JourSeq  ShortWalkTrip_B01ID  ...  MainMode_B04ID  \\\n",
       "0        2        1                    2  ...               4   \n",
       "1        2        2                    2  ...               4   \n",
       "2        2        3                    2  ...               4   \n",
       "3        2        4                    2  ...              12   \n",
       "4        3        1                    2  ...               4   \n",
       "\n",
       "   TripPurpose_B04ID  TripPurpFrom_B01ID  TripPurpTo_B01ID  TripStart  \\\n",
       "0                  7                  23                10        675   \n",
       "1                  6                  10                 8        720   \n",
       "2                  7                   8                10        770   \n",
       "3                  7                  10                23       1110   \n",
       "4                  7                  23                10        760   \n",
       "\n",
       "   TripEnd  TripOrigUA2009_B01ID  TripDestUA2009_B01ID  participation  \\\n",
       "0      683                   530                   550              1   \n",
       "1      735                   530                   550              1   \n",
       "2      780                   530                   550              1   \n",
       "3     1130                   530                   550              1   \n",
       "4      770                   530                   550              1   \n",
       "\n",
       "   hh_weight  \n",
       "0          1  \n",
       "1          1  \n",
       "2          1  \n",
       "3          1  \n",
       "4          1  \n",
       "\n",
       "[5 rows x 21 columns]"
      ]
     },
     "execution_count": 10,
     "metadata": {},
     "output_type": "execute_result"
    }
   ],
   "source": [
    "travel_diaries.head()"
   ]
  },
  {
   "cell_type": "code",
   "execution_count": 11,
   "metadata": {
    "ExecuteTime": {
     "end_time": "2020-11-23T09:59:21.676906Z",
     "start_time": "2020-11-23T09:59:21.579327Z"
    },
    "execution": {
     "iopub.execute_input": "2023-07-04T15:30:19.571931Z",
     "iopub.status.busy": "2023-07-04T15:30:19.571841Z",
     "iopub.status.idle": "2023-07-04T15:30:19.577793Z",
     "shell.execute_reply": "2023-07-04T15:30:19.577493Z"
    }
   },
   "outputs": [
    {
     "data": {
      "text/html": [
       "<div>\n",
       "<style scoped>\n",
       "    .dataframe tbody tr th:only-of-type {\n",
       "        vertical-align: middle;\n",
       "    }\n",
       "\n",
       "    .dataframe tbody tr th {\n",
       "        vertical-align: top;\n",
       "    }\n",
       "\n",
       "    .dataframe thead th {\n",
       "        text-align: right;\n",
       "    }\n",
       "</style>\n",
       "<table border=\"1\" class=\"dataframe\">\n",
       "  <thead>\n",
       "    <tr style=\"text-align: right;\">\n",
       "      <th></th>\n",
       "      <th>TripID</th>\n",
       "      <th>SurveyYear</th>\n",
       "      <th>DayID</th>\n",
       "      <th>IndividualID</th>\n",
       "      <th>HouseholdID</th>\n",
       "      <th>PSUID</th>\n",
       "      <th>PersNo</th>\n",
       "      <th>TravDay</th>\n",
       "      <th>seq</th>\n",
       "      <th>ShortWalkTrip_B01ID</th>\n",
       "      <th>...</th>\n",
       "      <th>mode</th>\n",
       "      <th>TripPurpose_B04ID</th>\n",
       "      <th>oact</th>\n",
       "      <th>dact</th>\n",
       "      <th>tst</th>\n",
       "      <th>tet</th>\n",
       "      <th>ozone</th>\n",
       "      <th>dzone</th>\n",
       "      <th>participation</th>\n",
       "      <th>hh_weight</th>\n",
       "    </tr>\n",
       "  </thead>\n",
       "  <tbody>\n",
       "    <tr>\n",
       "      <th>0</th>\n",
       "      <td>1</td>\n",
       "      <td>2002</td>\n",
       "      <td>2</td>\n",
       "      <td>1</td>\n",
       "      <td>1</td>\n",
       "      <td>1</td>\n",
       "      <td>1</td>\n",
       "      <td>2</td>\n",
       "      <td>1</td>\n",
       "      <td>2</td>\n",
       "      <td>...</td>\n",
       "      <td>4</td>\n",
       "      <td>7</td>\n",
       "      <td>23</td>\n",
       "      <td>10</td>\n",
       "      <td>675</td>\n",
       "      <td>683</td>\n",
       "      <td>530</td>\n",
       "      <td>550</td>\n",
       "      <td>1</td>\n",
       "      <td>1</td>\n",
       "    </tr>\n",
       "    <tr>\n",
       "      <th>1</th>\n",
       "      <td>2</td>\n",
       "      <td>2002</td>\n",
       "      <td>2</td>\n",
       "      <td>1</td>\n",
       "      <td>1</td>\n",
       "      <td>1</td>\n",
       "      <td>1</td>\n",
       "      <td>2</td>\n",
       "      <td>2</td>\n",
       "      <td>2</td>\n",
       "      <td>...</td>\n",
       "      <td>4</td>\n",
       "      <td>6</td>\n",
       "      <td>10</td>\n",
       "      <td>8</td>\n",
       "      <td>720</td>\n",
       "      <td>735</td>\n",
       "      <td>530</td>\n",
       "      <td>550</td>\n",
       "      <td>1</td>\n",
       "      <td>1</td>\n",
       "    </tr>\n",
       "    <tr>\n",
       "      <th>2</th>\n",
       "      <td>3</td>\n",
       "      <td>2002</td>\n",
       "      <td>2</td>\n",
       "      <td>1</td>\n",
       "      <td>1</td>\n",
       "      <td>1</td>\n",
       "      <td>1</td>\n",
       "      <td>2</td>\n",
       "      <td>3</td>\n",
       "      <td>2</td>\n",
       "      <td>...</td>\n",
       "      <td>4</td>\n",
       "      <td>7</td>\n",
       "      <td>8</td>\n",
       "      <td>10</td>\n",
       "      <td>770</td>\n",
       "      <td>780</td>\n",
       "      <td>530</td>\n",
       "      <td>550</td>\n",
       "      <td>1</td>\n",
       "      <td>1</td>\n",
       "    </tr>\n",
       "    <tr>\n",
       "      <th>3</th>\n",
       "      <td>4</td>\n",
       "      <td>2002</td>\n",
       "      <td>2</td>\n",
       "      <td>1</td>\n",
       "      <td>1</td>\n",
       "      <td>1</td>\n",
       "      <td>1</td>\n",
       "      <td>2</td>\n",
       "      <td>4</td>\n",
       "      <td>2</td>\n",
       "      <td>...</td>\n",
       "      <td>12</td>\n",
       "      <td>7</td>\n",
       "      <td>10</td>\n",
       "      <td>23</td>\n",
       "      <td>1110</td>\n",
       "      <td>1130</td>\n",
       "      <td>530</td>\n",
       "      <td>550</td>\n",
       "      <td>1</td>\n",
       "      <td>1</td>\n",
       "    </tr>\n",
       "    <tr>\n",
       "      <th>4</th>\n",
       "      <td>5</td>\n",
       "      <td>2002</td>\n",
       "      <td>3</td>\n",
       "      <td>1</td>\n",
       "      <td>1</td>\n",
       "      <td>1</td>\n",
       "      <td>1</td>\n",
       "      <td>3</td>\n",
       "      <td>1</td>\n",
       "      <td>2</td>\n",
       "      <td>...</td>\n",
       "      <td>4</td>\n",
       "      <td>7</td>\n",
       "      <td>23</td>\n",
       "      <td>10</td>\n",
       "      <td>760</td>\n",
       "      <td>770</td>\n",
       "      <td>530</td>\n",
       "      <td>550</td>\n",
       "      <td>1</td>\n",
       "      <td>1</td>\n",
       "    </tr>\n",
       "  </tbody>\n",
       "</table>\n",
       "<p>5 rows × 21 columns</p>\n",
       "</div>"
      ],
      "text/plain": [
       "   TripID  SurveyYear  DayID  IndividualID  HouseholdID  PSUID  PersNo  \\\n",
       "0       1        2002      2             1            1      1       1   \n",
       "1       2        2002      2             1            1      1       1   \n",
       "2       3        2002      2             1            1      1       1   \n",
       "3       4        2002      2             1            1      1       1   \n",
       "4       5        2002      3             1            1      1       1   \n",
       "\n",
       "   TravDay  seq  ShortWalkTrip_B01ID  ...  mode  TripPurpose_B04ID  oact  \\\n",
       "0        2    1                    2  ...     4                  7    23   \n",
       "1        2    2                    2  ...     4                  6    10   \n",
       "2        2    3                    2  ...     4                  7     8   \n",
       "3        2    4                    2  ...    12                  7    10   \n",
       "4        3    1                    2  ...     4                  7    23   \n",
       "\n",
       "   dact   tst   tet  ozone  dzone  participation  hh_weight  \n",
       "0    10   675   683    530    550              1          1  \n",
       "1     8   720   735    530    550              1          1  \n",
       "2    10   770   780    530    550              1          1  \n",
       "3    23  1110  1130    530    550              1          1  \n",
       "4    10   760   770    530    550              1          1  \n",
       "\n",
       "[5 rows x 21 columns]"
      ]
     },
     "execution_count": 11,
     "metadata": {},
     "output_type": "execute_result"
    }
   ],
   "source": [
    "travel_diaries = travel_diaries.rename(\n",
    "    columns={  # rename data\n",
    "        \"JourSeq\": \"seq\",\n",
    "        \"TripOrigUA2009_B01ID\": \"ozone\",\n",
    "        \"TripDestUA2009_B01ID\": \"dzone\",\n",
    "        \"TripPurpFrom_B01ID\": \"oact\",\n",
    "        \"TripPurpTo_B01ID\": \"dact\",\n",
    "        \"MainMode_B04ID\": \"mode\",\n",
    "        \"TripStart\": \"tst\",\n",
    "        \"TripEnd\": \"tet\",\n",
    "    },\n",
    ")\n",
    "\n",
    "travel_diaries.head()"
   ]
  },
  {
   "cell_type": "code",
   "execution_count": 12,
   "metadata": {
    "ExecuteTime": {
     "end_time": "2020-11-23T09:59:21.720775Z",
     "start_time": "2020-11-23T09:59:21.680364Z"
    },
    "execution": {
     "iopub.execute_input": "2023-07-04T15:30:19.579044Z",
     "iopub.status.busy": "2023-07-04T15:30:19.578957Z",
     "iopub.status.idle": "2023-07-04T15:30:19.581734Z",
     "shell.execute_reply": "2023-07-04T15:30:19.581462Z"
    }
   },
   "outputs": [
    {
     "data": {
      "text/plain": [
       "TripID                 int64\n",
       "SurveyYear             int64\n",
       "DayID                  int64\n",
       "IndividualID           int64\n",
       "HouseholdID            int64\n",
       "PSUID                  int64\n",
       "PersNo                 int64\n",
       "TravDay                int64\n",
       "seq                    int64\n",
       "ShortWalkTrip_B01ID    int64\n",
       "NumStages              int64\n",
       "mode                   int64\n",
       "TripPurpose_B04ID      int64\n",
       "oact                   int64\n",
       "dact                   int64\n",
       "tst                    int64\n",
       "tet                    int64\n",
       "ozone                  int64\n",
       "dzone                  int64\n",
       "participation          int64\n",
       "hh_weight              int64\n",
       "dtype: object"
      ]
     },
     "execution_count": 12,
     "metadata": {},
     "output_type": "execute_result"
    }
   ],
   "source": [
    "travel_diaries.dtypes"
   ]
  },
  {
   "cell_type": "code",
   "execution_count": 13,
   "metadata": {
    "ExecuteTime": {
     "end_time": "2020-11-23T09:59:21.767674Z",
     "start_time": "2020-11-23T09:59:21.729518Z"
    },
    "execution": {
     "iopub.execute_input": "2023-07-04T15:30:19.583033Z",
     "iopub.status.busy": "2023-07-04T15:30:19.582947Z",
     "iopub.status.idle": "2023-07-04T15:30:19.584799Z",
     "shell.execute_reply": "2023-07-04T15:30:19.584527Z"
    }
   },
   "outputs": [],
   "source": [
    "def check_uniques(df):\n",
    "    for c in df.columns:\n",
    "        print(c)\n",
    "        n = df[c].nunique()\n",
    "        if n < 1000:\n",
    "            print(df[c].unique())"
   ]
  },
  {
   "cell_type": "code",
   "execution_count": 14,
   "metadata": {
    "ExecuteTime": {
     "end_time": "2020-11-23T09:59:21.922539Z",
     "start_time": "2020-11-23T09:59:21.772210Z"
    },
    "execution": {
     "iopub.execute_input": "2023-07-04T15:30:19.586021Z",
     "iopub.status.busy": "2023-07-04T15:30:19.585931Z",
     "iopub.status.idle": "2023-07-04T15:30:19.590181Z",
     "shell.execute_reply": "2023-07-04T15:30:19.589872Z"
    }
   },
   "outputs": [
    {
     "name": "stdout",
     "output_type": "stream",
     "text": [
      "TripID\n",
      "[  1   2   3   4   5   6   7   8   9  10  11  12  13  14  15  16  17  18\n",
      "  19  20  21  22  23  24  25  26  27  28  29  30  31  32  33  34  35  36\n",
      "  37  38  39  40  41  42  43  44  45  46  47  48  49  50  51  52  53  54\n",
      "  55  56  57  58  59  60  61  62  63  64  65  66  67  68  69  70  71  72\n",
      "  73  74  75  76  77  78  79  80  81  82  83  84  85  86  87  88  89  90\n",
      "  91  92  93  94  95  96  97  98  99 100 101 102 103 104 105 106 107 108\n",
      " 109 110 111 112 113 114 115 116 117 118 119 120 121 122 123 124 125 126\n",
      " 127 128 129 130 131 132 133 134 135 136 137 138 139 140 141 142 143 144\n",
      " 145 146 147 148 149]\n",
      "SurveyYear\n",
      "[2002]\n",
      "DayID\n",
      "[ 2  3  5  6  7  8  9 10 11 12 13 14 16 17 19 20 21 23 24 26 27 28 29 30\n",
      " 33 35 36 37 38 39 40 41 42 43 44 45 46 47 49]\n",
      "IndividualID\n",
      "[1 2 3 4 5 6 7]\n",
      "HouseholdID\n",
      "[1 2 3]\n",
      "PSUID\n",
      "[1]\n",
      "PersNo\n",
      "[1 2 3 4]\n",
      "TravDay\n",
      "[2 3 5 6 7 1 4]\n",
      "seq\n",
      "[ 1  2  3  4  5  6  7  8  9 10 11 12 13 14 15]\n",
      "ShortWalkTrip_B01ID\n",
      "[2 1]\n",
      "NumStages\n",
      "[1 4 3 2]\n",
      "mode\n",
      "[ 4 12  3  1 11  7]\n",
      "TripPurpose_B04ID\n",
      "[7 6 3 4 5 1 2]\n",
      "oact\n",
      "[23 10  8 20  5  9 22  1 12  4  3  6 14  2 18]\n",
      "dact\n",
      "[10  8 23 20  5  9 22  1 12  4  3  6 14 18]\n",
      "tst\n",
      "[ 675  720  770 1110  760  790  810  845  865  908  922  940 1015 1080\n",
      "  905  738  755 1050 1220 1270  525  546  745  764 1060  833 1320  530\n",
      " 1265  605  620  960  970 1075  360  350  875  898 1310  345  870  900\n",
      "  923 1311  990  585  560  840  438 1010 1105 1112  440  965  921  980\n",
      " 1115  910  820  853 1013 1023 1298 1306  702  975 1087  495 1070 1052]\n",
      "tet\n",
      "[ 683  735  780 1130  770  805  825  852  873  914  926  955 1032 1108\n",
      "  785  917  752  761 1076 1223 1275  540  556  760  774 1127  836 1325\n",
      "  535 1272  608  675  690  962  972 1078  363 1080  355  890  912  931\n",
      " 1316  348  887  915  933 1314  855 1020  795  730  750  885  465 1036\n",
      " 1110 1120  984  950 1005  471  922  830  862  906 1023 1034 1305 1312\n",
      "  627  710  468  986 1085 1091  550 1100 1115  559]\n",
      "ozone\n",
      "[530]\n",
      "dzone\n",
      "[550]\n",
      "participation\n",
      "[1]\n",
      "hh_weight\n",
      "[1]\n"
     ]
    }
   ],
   "source": [
    "check_uniques(travel_diaries)"
   ]
  },
  {
   "attachments": {},
   "cell_type": "markdown",
   "metadata": {},
   "source": [
    "## Area Mapping\n",
    "\n",
    "The NTS documentation refers to a 'modified' 2009 Unitary Authorities. The Unmodified 2017 UAs are included below for reference. They 2017 UA names are similar but not the same as the NTS mappings.\n",
    "\n",
    "Found here: https://data.gov.uk/dataset/4e1d5b2c-bb91-42ad-b420-f7fcab638389/counties-and-unitary-authorities-december-2017-full-extent-boundaries-in-uk-wgs84.\n",
    "\n",
    "We have built our own geometry:"
   ]
  },
  {
   "cell_type": "code",
   "execution_count": 15,
   "metadata": {
    "ExecuteTime": {
     "end_time": "2020-11-23T09:59:21.952200Z",
     "start_time": "2020-11-23T09:59:21.925277Z"
    },
    "execution": {
     "iopub.execute_input": "2023-07-04T15:30:19.591604Z",
     "iopub.status.busy": "2023-07-04T15:30:19.591522Z",
     "iopub.status.idle": "2023-07-04T15:30:19.593136Z",
     "shell.execute_reply": "2023-07-04T15:30:19.592822Z"
    }
   },
   "outputs": [],
   "source": [
    "area_path = \"./data/dummyNTS/NTSareas.geojson\""
   ]
  },
  {
   "cell_type": "code",
   "execution_count": 16,
   "metadata": {
    "ExecuteTime": {
     "end_time": "2020-11-23T09:59:32.378392Z",
     "start_time": "2020-11-23T09:59:21.955206Z"
    },
    "execution": {
     "iopub.execute_input": "2023-07-04T15:30:19.594482Z",
     "iopub.status.busy": "2023-07-04T15:30:19.594392Z",
     "iopub.status.idle": "2023-07-04T15:30:19.655511Z",
     "shell.execute_reply": "2023-07-04T15:30:19.655184Z"
    }
   },
   "outputs": [
    {
     "data": {
      "text/html": [
       "<div>\n",
       "<style scoped>\n",
       "    .dataframe tbody tr th:only-of-type {\n",
       "        vertical-align: middle;\n",
       "    }\n",
       "\n",
       "    .dataframe tbody tr th {\n",
       "        vertical-align: top;\n",
       "    }\n",
       "\n",
       "    .dataframe thead th {\n",
       "        text-align: right;\n",
       "    }\n",
       "</style>\n",
       "<table border=\"1\" class=\"dataframe\">\n",
       "  <thead>\n",
       "    <tr style=\"text-align: right;\">\n",
       "      <th></th>\n",
       "      <th>id</th>\n",
       "      <th>name</th>\n",
       "      <th>geometry</th>\n",
       "    </tr>\n",
       "  </thead>\n",
       "  <tbody>\n",
       "    <tr>\n",
       "      <th>0</th>\n",
       "      <td>530.0</td>\n",
       "      <td>West Midlands</td>\n",
       "      <td>POLYGON ((-1.95366 52.66273, -1.95457 52.66264...</td>\n",
       "    </tr>\n",
       "    <tr>\n",
       "      <th>1</th>\n",
       "      <td>550.0</td>\n",
       "      <td>West Yorkshire</td>\n",
       "      <td>POLYGON ((-1.87994 53.95590, -1.87982 53.95681...</td>\n",
       "    </tr>\n",
       "  </tbody>\n",
       "</table>\n",
       "</div>"
      ],
      "text/plain": [
       "      id            name                                           geometry\n",
       "0  530.0   West Midlands  POLYGON ((-1.95366 52.66273, -1.95457 52.66264...\n",
       "1  550.0  West Yorkshire  POLYGON ((-1.87994 53.95590, -1.87982 53.95681..."
      ]
     },
     "execution_count": 16,
     "metadata": {},
     "output_type": "execute_result"
    }
   ],
   "source": [
    "areas = gp.read_file(area_path)\n",
    "areas.head()"
   ]
  },
  {
   "cell_type": "code",
   "execution_count": 17,
   "metadata": {
    "ExecuteTime": {
     "end_time": "2020-11-23T09:59:33.886738Z",
     "start_time": "2020-11-23T09:59:32.383388Z"
    },
    "execution": {
     "iopub.execute_input": "2023-07-04T15:30:19.657092Z",
     "iopub.status.busy": "2023-07-04T15:30:19.656982Z",
     "iopub.status.idle": "2023-07-04T15:30:19.727004Z",
     "shell.execute_reply": "2023-07-04T15:30:19.726635Z"
    }
   },
   "outputs": [
    {
     "data": {
      "text/plain": [
       "<Axes: >"
      ]
     },
     "execution_count": 17,
     "metadata": {},
     "output_type": "execute_result"
    },
    {
     "data": {
      "image/png": "[encoded data removed]",
      "text/plain": [
       "<Figure size 432x432 with 1 Axes>"
      ]
     },
     "metadata": {
      "needs_background": "light"
     },
     "output_type": "display_data"
    }
   ],
   "source": [
    "areas.plot(figsize=(6, 6))"
   ]
  },
  {
   "attachments": {},
   "cell_type": "markdown",
   "metadata": {},
   "source": [
    "## Clean out incomplete plans"
   ]
  },
  {
   "cell_type": "code",
   "execution_count": 18,
   "metadata": {
    "ExecuteTime": {
     "end_time": "2020-11-23T09:59:33.918312Z",
     "start_time": "2020-11-23T09:59:33.888534Z"
    },
    "execution": {
     "iopub.execute_input": "2023-07-04T15:30:19.728671Z",
     "iopub.status.busy": "2023-07-04T15:30:19.728545Z",
     "iopub.status.idle": "2023-07-04T15:30:19.730727Z",
     "shell.execute_reply": "2023-07-04T15:30:19.730435Z"
    }
   },
   "outputs": [],
   "source": [
    "def remove_broken_plans(plan):\n",
    "    if plan.isnull().values.any():\n",
    "        return None\n",
    "    for col in [\"ozone\", \"dzone\"]:\n",
    "        if -8 in list(plan[col]):\n",
    "            return None\n",
    "    return plan"
   ]
  },
  {
   "cell_type": "code",
   "execution_count": 19,
   "metadata": {
    "ExecuteTime": {
     "end_time": "2020-11-23T10:04:57.830263Z",
     "start_time": "2020-11-23T09:59:33.923065Z"
    },
    "execution": {
     "iopub.execute_input": "2023-07-04T15:30:19.732150Z",
     "iopub.status.busy": "2023-07-04T15:30:19.732049Z",
     "iopub.status.idle": "2023-07-04T15:30:19.774775Z",
     "shell.execute_reply": "2023-07-04T15:30:19.774465Z"
    }
   },
   "outputs": [],
   "source": [
    "clean_travel_diaries = (\n",
    "    travel_diaries.groupby([\"IndividualID\", \"TravDay\"], group_keys=False).apply(remove_broken_plans).reset_index(drop=True)\n",
    ")"
   ]
  },
  {
   "cell_type": "code",
   "execution_count": 20,
   "metadata": {
    "ExecuteTime": {
     "end_time": "2020-11-23T10:04:57.970972Z",
     "start_time": "2020-11-23T10:04:57.833810Z"
    },
    "execution": {
     "iopub.execute_input": "2023-07-04T15:30:19.776292Z",
     "iopub.status.busy": "2023-07-04T15:30:19.776200Z",
     "iopub.status.idle": "2023-07-04T15:30:19.781820Z",
     "shell.execute_reply": "2023-07-04T15:30:19.781523Z"
    }
   },
   "outputs": [
    {
     "data": {
      "text/html": [
       "<div>\n",
       "<style scoped>\n",
       "    .dataframe tbody tr th:only-of-type {\n",
       "        vertical-align: middle;\n",
       "    }\n",
       "\n",
       "    .dataframe tbody tr th {\n",
       "        vertical-align: top;\n",
       "    }\n",
       "\n",
       "    .dataframe thead th {\n",
       "        text-align: right;\n",
       "    }\n",
       "</style>\n",
       "<table border=\"1\" class=\"dataframe\">\n",
       "  <thead>\n",
       "    <tr style=\"text-align: right;\">\n",
       "      <th></th>\n",
       "      <th>TripID</th>\n",
       "      <th>SurveyYear</th>\n",
       "      <th>DayID</th>\n",
       "      <th>IndividualID</th>\n",
       "      <th>HouseholdID</th>\n",
       "      <th>PSUID</th>\n",
       "      <th>PersNo</th>\n",
       "      <th>TravDay</th>\n",
       "      <th>seq</th>\n",
       "      <th>ShortWalkTrip_B01ID</th>\n",
       "      <th>...</th>\n",
       "      <th>mode</th>\n",
       "      <th>TripPurpose_B04ID</th>\n",
       "      <th>oact</th>\n",
       "      <th>dact</th>\n",
       "      <th>tst</th>\n",
       "      <th>tet</th>\n",
       "      <th>ozone</th>\n",
       "      <th>dzone</th>\n",
       "      <th>participation</th>\n",
       "      <th>hh_weight</th>\n",
       "    </tr>\n",
       "  </thead>\n",
       "  <tbody>\n",
       "    <tr>\n",
       "      <th>0</th>\n",
       "      <td>1</td>\n",
       "      <td>2002</td>\n",
       "      <td>2</td>\n",
       "      <td>1</td>\n",
       "      <td>1</td>\n",
       "      <td>1</td>\n",
       "      <td>1</td>\n",
       "      <td>2</td>\n",
       "      <td>1</td>\n",
       "      <td>2</td>\n",
       "      <td>...</td>\n",
       "      <td>4</td>\n",
       "      <td>7</td>\n",
       "      <td>23</td>\n",
       "      <td>10</td>\n",
       "      <td>675</td>\n",
       "      <td>683</td>\n",
       "      <td>530</td>\n",
       "      <td>550</td>\n",
       "      <td>1</td>\n",
       "      <td>1</td>\n",
       "    </tr>\n",
       "    <tr>\n",
       "      <th>1</th>\n",
       "      <td>2</td>\n",
       "      <td>2002</td>\n",
       "      <td>2</td>\n",
       "      <td>1</td>\n",
       "      <td>1</td>\n",
       "      <td>1</td>\n",
       "      <td>1</td>\n",
       "      <td>2</td>\n",
       "      <td>2</td>\n",
       "      <td>2</td>\n",
       "      <td>...</td>\n",
       "      <td>4</td>\n",
       "      <td>6</td>\n",
       "      <td>10</td>\n",
       "      <td>8</td>\n",
       "      <td>720</td>\n",
       "      <td>735</td>\n",
       "      <td>530</td>\n",
       "      <td>550</td>\n",
       "      <td>1</td>\n",
       "      <td>1</td>\n",
       "    </tr>\n",
       "    <tr>\n",
       "      <th>2</th>\n",
       "      <td>3</td>\n",
       "      <td>2002</td>\n",
       "      <td>2</td>\n",
       "      <td>1</td>\n",
       "      <td>1</td>\n",
       "      <td>1</td>\n",
       "      <td>1</td>\n",
       "      <td>2</td>\n",
       "      <td>3</td>\n",
       "      <td>2</td>\n",
       "      <td>...</td>\n",
       "      <td>4</td>\n",
       "      <td>7</td>\n",
       "      <td>8</td>\n",
       "      <td>10</td>\n",
       "      <td>770</td>\n",
       "      <td>780</td>\n",
       "      <td>530</td>\n",
       "      <td>550</td>\n",
       "      <td>1</td>\n",
       "      <td>1</td>\n",
       "    </tr>\n",
       "    <tr>\n",
       "      <th>3</th>\n",
       "      <td>4</td>\n",
       "      <td>2002</td>\n",
       "      <td>2</td>\n",
       "      <td>1</td>\n",
       "      <td>1</td>\n",
       "      <td>1</td>\n",
       "      <td>1</td>\n",
       "      <td>2</td>\n",
       "      <td>4</td>\n",
       "      <td>2</td>\n",
       "      <td>...</td>\n",
       "      <td>12</td>\n",
       "      <td>7</td>\n",
       "      <td>10</td>\n",
       "      <td>23</td>\n",
       "      <td>1110</td>\n",
       "      <td>1130</td>\n",
       "      <td>530</td>\n",
       "      <td>550</td>\n",
       "      <td>1</td>\n",
       "      <td>1</td>\n",
       "    </tr>\n",
       "    <tr>\n",
       "      <th>4</th>\n",
       "      <td>5</td>\n",
       "      <td>2002</td>\n",
       "      <td>3</td>\n",
       "      <td>1</td>\n",
       "      <td>1</td>\n",
       "      <td>1</td>\n",
       "      <td>1</td>\n",
       "      <td>3</td>\n",
       "      <td>1</td>\n",
       "      <td>2</td>\n",
       "      <td>...</td>\n",
       "      <td>4</td>\n",
       "      <td>7</td>\n",
       "      <td>23</td>\n",
       "      <td>10</td>\n",
       "      <td>760</td>\n",
       "      <td>770</td>\n",
       "      <td>530</td>\n",
       "      <td>550</td>\n",
       "      <td>1</td>\n",
       "      <td>1</td>\n",
       "    </tr>\n",
       "  </tbody>\n",
       "</table>\n",
       "<p>5 rows × 21 columns</p>\n",
       "</div>"
      ],
      "text/plain": [
       "   TripID  SurveyYear  DayID  IndividualID  HouseholdID  PSUID  PersNo  \\\n",
       "0       1        2002      2             1            1      1       1   \n",
       "1       2        2002      2             1            1      1       1   \n",
       "2       3        2002      2             1            1      1       1   \n",
       "3       4        2002      2             1            1      1       1   \n",
       "4       5        2002      3             1            1      1       1   \n",
       "\n",
       "   TravDay  seq  ShortWalkTrip_B01ID  ...  mode  TripPurpose_B04ID  oact  \\\n",
       "0        2    1                    2  ...     4                  7    23   \n",
       "1        2    2                    2  ...     4                  6    10   \n",
       "2        2    3                    2  ...     4                  7     8   \n",
       "3        2    4                    2  ...    12                  7    10   \n",
       "4        3    1                    2  ...     4                  7    23   \n",
       "\n",
       "   dact   tst   tet  ozone  dzone  participation  hh_weight  \n",
       "0    10   675   683    530    550              1          1  \n",
       "1     8   720   735    530    550              1          1  \n",
       "2    10   770   780    530    550              1          1  \n",
       "3    23  1110  1130    530    550              1          1  \n",
       "4    10   760   770    530    550              1          1  \n",
       "\n",
       "[5 rows x 21 columns]"
      ]
     },
     "execution_count": 20,
     "metadata": {},
     "output_type": "execute_result"
    }
   ],
   "source": [
    "clean_travel_diaries.head()"
   ]
  },
  {
   "cell_type": "code",
   "execution_count": 21,
   "metadata": {
    "ExecuteTime": {
     "end_time": "2020-11-23T10:04:58.083788Z",
     "start_time": "2020-11-23T10:04:57.992403Z"
    },
    "execution": {
     "iopub.execute_input": "2023-07-04T15:30:19.783142Z",
     "iopub.status.busy": "2023-07-04T15:30:19.783036Z",
     "iopub.status.idle": "2023-07-04T15:30:19.785023Z",
     "shell.execute_reply": "2023-07-04T15:30:19.784755Z"
    }
   },
   "outputs": [
    {
     "name": "stdout",
     "output_type": "stream",
     "text": [
      "149\n",
      "149\n"
     ]
    }
   ],
   "source": [
    "print(len(travel_diaries))\n",
    "print(len(clean_travel_diaries))"
   ]
  },
  {
   "attachments": {},
   "cell_type": "markdown",
   "metadata": {},
   "source": [
    "## Build Mappings and apply to common fields\n",
    "\n",
    "We simplify key trip variables such as mode and activity."
   ]
  },
  {
   "cell_type": "code",
   "execution_count": 22,
   "metadata": {
    "ExecuteTime": {
     "end_time": "2020-11-23T10:04:58.172340Z",
     "start_time": "2020-11-23T10:04:58.103360Z"
    },
    "execution": {
     "iopub.execute_input": "2023-07-04T15:30:19.786317Z",
     "iopub.status.busy": "2023-07-04T15:30:19.786218Z",
     "iopub.status.idle": "2023-07-04T15:30:19.788445Z",
     "shell.execute_reply": "2023-07-04T15:30:19.788155Z"
    }
   },
   "outputs": [],
   "source": [
    "def string_to_dict(string):\n",
    "    \"\"\"Used to build dicts from NTS rtf format dictionaries (cut and paste from the NTS documentation).\"\"\"\n",
    "    mapping = {}\n",
    "    for line in string.split(\"\\n\"):\n",
    "        _, v, l = line.split(\"\\t\")\n",
    "        v = v.split(\" = \")[1]\n",
    "        l = l.split(\" = \")[1]\n",
    "        mapping[float(v)] = str(l)\n",
    "    return mapping"
   ]
  },
  {
   "cell_type": "code",
   "execution_count": 23,
   "metadata": {
    "ExecuteTime": {
     "end_time": "2020-11-23T10:04:58.466019Z",
     "start_time": "2020-11-23T10:04:58.185590Z"
    },
    "execution": {
     "iopub.execute_input": "2023-07-04T15:30:19.789723Z",
     "iopub.status.busy": "2023-07-04T15:30:19.789627Z",
     "iopub.status.idle": "2023-07-04T15:30:19.793980Z",
     "shell.execute_reply": "2023-07-04T15:30:19.793686Z"
    }
   },
   "outputs": [],
   "source": [
    "mode_mapping = {\n",
    "    1: \"walk\",\n",
    "    2: \"bike\",\n",
    "    3: \"car\",  #'Car/van driver'\n",
    "    4: \"car\",  #'Car/van driver'\n",
    "    5: \"car\",  #'Motorcycle',\n",
    "    6: \"car\",  #'Other private transport',\n",
    "    7: \"pt\",  # Bus in London',\n",
    "    8: \"pt\",  #'Other local bus',\n",
    "    9: \"pt\",  #'Non-local bus',\n",
    "    10: \"pt\",  #'London Underground',\n",
    "    11: \"pt\",  #'Surface Rail',\n",
    "    12: \"car\",  #'Taxi/minicab',\n",
    "    13: \"pt\",  #'Other public transport',\n",
    "    -10: \"DEAD\",\n",
    "    -8: \"NA\",\n",
    "}\n",
    "\n",
    "purp_mapping = {\n",
    "    1: \"work\",\n",
    "    2: \"work\",  #'In course of work',\n",
    "    3: \"education\",\n",
    "    4: \"shop\",  #'Food shopping',\n",
    "    5: \"shop\",  #'Non food shopping',\n",
    "    6: \"medical\",  #'Personal business medical',\n",
    "    7: \"other\",  #'Personal business eat/drink',\n",
    "    8: \"other\",  #'Personal business other',\n",
    "    9: \"other\",  #'Eat/drink with friends',\n",
    "    10: \"visit\",  #'Visit friends',\n",
    "    11: \"other\",  #'Other social',\n",
    "    12: \"other\",  #'Entertain/ public activity',\n",
    "    13: \"other\",  #'Sport: participate',\n",
    "    14: \"home\",  #'Holiday: base',\n",
    "    15: \"other\",  #'Day trip/just walk',\n",
    "    16: \"other\",  #'Other non-escort',\n",
    "    17: \"escort\",  #'Escort home',\n",
    "    18: \"escort\",  #'Escort work',\n",
    "    19: \"escort\",  #'Escort in course of work',\n",
    "    20: \"escort\",  #'Escort education',\n",
    "    21: \"escort\",  #'Escort shopping/personal business',\n",
    "    22: \"escort\",  #'Other escort',\n",
    "    23: \"home\",  #'Home',\n",
    "    -10: \"DEAD\",\n",
    "    -8: \"NA\",\n",
    "}\n",
    "\n",
    "clean_travel_diaries[\"mode\"] = clean_travel_diaries[\"mode\"].map(mode_mapping)\n",
    "clean_travel_diaries[\"oact\"] = clean_travel_diaries[\"oact\"].map(purp_mapping)\n",
    "clean_travel_diaries[\"dact\"] = clean_travel_diaries[\"dact\"].map(purp_mapping)"
   ]
  },
  {
   "attachments": {},
   "cell_type": "markdown",
   "metadata": {},
   "source": [
    "## Reweight and Split Days\n",
    "\n",
    "In order to get the most from our small sample we treat individual diary days as new persons. In order to maintain the original household weighting we reduce this accordingly."
   ]
  },
  {
   "cell_type": "code",
   "execution_count": 24,
   "metadata": {
    "ExecuteTime": {
     "end_time": "2020-11-23T10:07:34.500482Z",
     "start_time": "2020-11-23T10:04:58.468222Z"
    },
    "execution": {
     "iopub.execute_input": "2023-07-04T15:30:19.795196Z",
     "iopub.status.busy": "2023-07-04T15:30:19.795114Z",
     "iopub.status.idle": "2023-07-04T15:30:19.800767Z",
     "shell.execute_reply": "2023-07-04T15:30:19.800517Z"
    }
   },
   "outputs": [],
   "source": [
    "# reweight and split ids for unique days\n",
    "\n",
    "\n",
    "def reweight(group):\n",
    "    \"\"\"\n",
    "    Reweight based on multiple diary days, ie if an agent has two diary days, we will treat these as\n",
    "    two unique agents, so we half the original weighting.\n",
    "    \"\"\"\n",
    "    group[\"freq\"] = group.hh_weight / group.DayID.nunique()\n",
    "    return group\n",
    "\n",
    "\n",
    "trips = clean_travel_diaries.groupby(\"IndividualID\", group_keys=False).apply(reweight)\n",
    "trips[\"pid\"] = [f\"{p}_{d}\" for p, d in zip(trips.IndividualID, trips.TravDay)]\n",
    "trips[\"hid\"] = [f\"{h}_{d}\" for h, d in zip(trips.HouseholdID, trips.TravDay)]"
   ]
  },
  {
   "cell_type": "code",
   "execution_count": 25,
   "metadata": {
    "ExecuteTime": {
     "end_time": "2020-11-23T10:07:34.642431Z",
     "start_time": "2020-11-23T10:07:34.516529Z"
    },
    "execution": {
     "iopub.execute_input": "2023-07-04T15:30:19.801957Z",
     "iopub.status.busy": "2023-07-04T15:30:19.801874Z",
     "iopub.status.idle": "2023-07-04T15:30:19.807763Z",
     "shell.execute_reply": "2023-07-04T15:30:19.807451Z"
    }
   },
   "outputs": [
    {
     "data": {
      "text/html": [
       "<div>\n",
       "<style scoped>\n",
       "    .dataframe tbody tr th:only-of-type {\n",
       "        vertical-align: middle;\n",
       "    }\n",
       "\n",
       "    .dataframe tbody tr th {\n",
       "        vertical-align: top;\n",
       "    }\n",
       "\n",
       "    .dataframe thead th {\n",
       "        text-align: right;\n",
       "    }\n",
       "</style>\n",
       "<table border=\"1\" class=\"dataframe\">\n",
       "  <thead>\n",
       "    <tr style=\"text-align: right;\">\n",
       "      <th></th>\n",
       "      <th>TripID</th>\n",
       "      <th>SurveyYear</th>\n",
       "      <th>DayID</th>\n",
       "      <th>IndividualID</th>\n",
       "      <th>HouseholdID</th>\n",
       "      <th>PSUID</th>\n",
       "      <th>PersNo</th>\n",
       "      <th>TravDay</th>\n",
       "      <th>seq</th>\n",
       "      <th>ShortWalkTrip_B01ID</th>\n",
       "      <th>...</th>\n",
       "      <th>dact</th>\n",
       "      <th>tst</th>\n",
       "      <th>tet</th>\n",
       "      <th>ozone</th>\n",
       "      <th>dzone</th>\n",
       "      <th>participation</th>\n",
       "      <th>hh_weight</th>\n",
       "      <th>freq</th>\n",
       "      <th>pid</th>\n",
       "      <th>hid</th>\n",
       "    </tr>\n",
       "  </thead>\n",
       "  <tbody>\n",
       "    <tr>\n",
       "      <th>0</th>\n",
       "      <td>1</td>\n",
       "      <td>2002</td>\n",
       "      <td>2</td>\n",
       "      <td>1</td>\n",
       "      <td>1</td>\n",
       "      <td>1</td>\n",
       "      <td>1</td>\n",
       "      <td>2</td>\n",
       "      <td>1</td>\n",
       "      <td>2</td>\n",
       "      <td>...</td>\n",
       "      <td>visit</td>\n",
       "      <td>675</td>\n",
       "      <td>683</td>\n",
       "      <td>530</td>\n",
       "      <td>550</td>\n",
       "      <td>1</td>\n",
       "      <td>1</td>\n",
       "      <td>0.2</td>\n",
       "      <td>1_2</td>\n",
       "      <td>1_2</td>\n",
       "    </tr>\n",
       "    <tr>\n",
       "      <th>1</th>\n",
       "      <td>2</td>\n",
       "      <td>2002</td>\n",
       "      <td>2</td>\n",
       "      <td>1</td>\n",
       "      <td>1</td>\n",
       "      <td>1</td>\n",
       "      <td>1</td>\n",
       "      <td>2</td>\n",
       "      <td>2</td>\n",
       "      <td>2</td>\n",
       "      <td>...</td>\n",
       "      <td>other</td>\n",
       "      <td>720</td>\n",
       "      <td>735</td>\n",
       "      <td>530</td>\n",
       "      <td>550</td>\n",
       "      <td>1</td>\n",
       "      <td>1</td>\n",
       "      <td>0.2</td>\n",
       "      <td>1_2</td>\n",
       "      <td>1_2</td>\n",
       "    </tr>\n",
       "    <tr>\n",
       "      <th>2</th>\n",
       "      <td>3</td>\n",
       "      <td>2002</td>\n",
       "      <td>2</td>\n",
       "      <td>1</td>\n",
       "      <td>1</td>\n",
       "      <td>1</td>\n",
       "      <td>1</td>\n",
       "      <td>2</td>\n",
       "      <td>3</td>\n",
       "      <td>2</td>\n",
       "      <td>...</td>\n",
       "      <td>visit</td>\n",
       "      <td>770</td>\n",
       "      <td>780</td>\n",
       "      <td>530</td>\n",
       "      <td>550</td>\n",
       "      <td>1</td>\n",
       "      <td>1</td>\n",
       "      <td>0.2</td>\n",
       "      <td>1_2</td>\n",
       "      <td>1_2</td>\n",
       "    </tr>\n",
       "    <tr>\n",
       "      <th>3</th>\n",
       "      <td>4</td>\n",
       "      <td>2002</td>\n",
       "      <td>2</td>\n",
       "      <td>1</td>\n",
       "      <td>1</td>\n",
       "      <td>1</td>\n",
       "      <td>1</td>\n",
       "      <td>2</td>\n",
       "      <td>4</td>\n",
       "      <td>2</td>\n",
       "      <td>...</td>\n",
       "      <td>home</td>\n",
       "      <td>1110</td>\n",
       "      <td>1130</td>\n",
       "      <td>530</td>\n",
       "      <td>550</td>\n",
       "      <td>1</td>\n",
       "      <td>1</td>\n",
       "      <td>0.2</td>\n",
       "      <td>1_2</td>\n",
       "      <td>1_2</td>\n",
       "    </tr>\n",
       "    <tr>\n",
       "      <th>4</th>\n",
       "      <td>5</td>\n",
       "      <td>2002</td>\n",
       "      <td>3</td>\n",
       "      <td>1</td>\n",
       "      <td>1</td>\n",
       "      <td>1</td>\n",
       "      <td>1</td>\n",
       "      <td>3</td>\n",
       "      <td>1</td>\n",
       "      <td>2</td>\n",
       "      <td>...</td>\n",
       "      <td>visit</td>\n",
       "      <td>760</td>\n",
       "      <td>770</td>\n",
       "      <td>530</td>\n",
       "      <td>550</td>\n",
       "      <td>1</td>\n",
       "      <td>1</td>\n",
       "      <td>0.2</td>\n",
       "      <td>1_3</td>\n",
       "      <td>1_3</td>\n",
       "    </tr>\n",
       "  </tbody>\n",
       "</table>\n",
       "<p>5 rows × 24 columns</p>\n",
       "</div>"
      ],
      "text/plain": [
       "   TripID  SurveyYear  DayID  IndividualID  HouseholdID  PSUID  PersNo  \\\n",
       "0       1        2002      2             1            1      1       1   \n",
       "1       2        2002      2             1            1      1       1   \n",
       "2       3        2002      2             1            1      1       1   \n",
       "3       4        2002      2             1            1      1       1   \n",
       "4       5        2002      3             1            1      1       1   \n",
       "\n",
       "   TravDay  seq  ShortWalkTrip_B01ID  ...   dact   tst   tet ozone dzone  \\\n",
       "0        2    1                    2  ...  visit   675   683   530   550   \n",
       "1        2    2                    2  ...  other   720   735   530   550   \n",
       "2        2    3                    2  ...  visit   770   780   530   550   \n",
       "3        2    4                    2  ...   home  1110  1130   530   550   \n",
       "4        3    1                    2  ...  visit   760   770   530   550   \n",
       "\n",
       "   participation  hh_weight  freq  pid  hid  \n",
       "0              1          1   0.2  1_2  1_2  \n",
       "1              1          1   0.2  1_2  1_2  \n",
       "2              1          1   0.2  1_2  1_2  \n",
       "3              1          1   0.2  1_2  1_2  \n",
       "4              1          1   0.2  1_3  1_3  \n",
       "\n",
       "[5 rows x 24 columns]"
      ]
     },
     "execution_count": 25,
     "metadata": {},
     "output_type": "execute_result"
    }
   ],
   "source": [
    "trips.head()"
   ]
  },
  {
   "cell_type": "code",
   "execution_count": 26,
   "metadata": {
    "ExecuteTime": {
     "end_time": "2020-11-23T10:07:34.763851Z",
     "start_time": "2020-11-23T10:07:34.712210Z"
    },
    "execution": {
     "iopub.execute_input": "2023-07-04T15:30:19.809097Z",
     "iopub.status.busy": "2023-07-04T15:30:19.809011Z",
     "iopub.status.idle": "2023-07-04T15:30:19.812305Z",
     "shell.execute_reply": "2023-07-04T15:30:19.811951Z"
    }
   },
   "outputs": [],
   "source": [
    "def expand_days(trips, target, trips_on=\"Diary_number\", target_on=\"Diary_number\", new_id=\"pid\", trim=True):\n",
    "    \"\"\"\n",
    "    Expand target df based on mapping between trips target_on and new_id.\n",
    "    This is so slow. Fix\n",
    "    Set index to new_id.\n",
    "    \"\"\"\n",
    "    print(\"Building mapping.\")\n",
    "    mapping = {}\n",
    "    for i, person in trips.groupby(target_on):\n",
    "        mapping[i] = list(set(person[new_id]))\n",
    "    n = len(mapping)\n",
    "\n",
    "    if trim:\n",
    "        print(\"Trimming target.\")\n",
    "        selection = set(trips[trips_on])\n",
    "        target = target.loc[target[target_on].isin(selection)]\n",
    "\n",
    "    expanded = pd.DataFrame()\n",
    "    for p, (i, ids) in enumerate(mapping.items()):\n",
    "        if not p % 10:\n",
    "            print(f\"Building expanded data {p}/{n}\", end=\"\\r\", flush=True)\n",
    "        for idx in ids:\n",
    "            split = target.loc[target[target_on] == i]\n",
    "            expanded = pd.concat([expanded, split.assign(**{new_id: idx})])\n",
    "    expanded = expanded.set_index(new_id)\n",
    "    print(\"Done\")\n",
    "    return expanded"
   ]
  },
  {
   "cell_type": "code",
   "execution_count": 27,
   "metadata": {
    "ExecuteTime": {
     "end_time": "2020-11-23T10:58:31.895656Z",
     "start_time": "2020-11-23T10:07:34.767754Z"
    },
    "execution": {
     "iopub.execute_input": "2023-07-04T15:30:19.813565Z",
     "iopub.status.busy": "2023-07-04T15:30:19.813478Z",
     "iopub.status.idle": "2023-07-04T15:30:19.822526Z",
     "shell.execute_reply": "2023-07-04T15:30:19.822267Z"
    }
   },
   "outputs": [
    {
     "name": "stdout",
     "output_type": "stream",
     "text": [
      "Building mapping.\n",
      "Trimming target.\n",
      "Building expanded data 0/3\r"
     ]
    },
    {
     "name": "stdout",
     "output_type": "stream",
     "text": [
      "Done\n"
     ]
    }
   ],
   "source": [
    "hhs = expand_days(trips, hh_in, trips_on=\"HouseholdID\", target_on=\"HouseholdID\", new_id=\"hid\")"
   ]
  },
  {
   "cell_type": "code",
   "execution_count": 28,
   "metadata": {
    "ExecuteTime": {
     "end_time": "2020-11-23T10:58:31.978135Z",
     "start_time": "2020-11-23T10:58:31.915713Z"
    },
    "execution": {
     "iopub.execute_input": "2023-07-04T15:30:19.823891Z",
     "iopub.status.busy": "2023-07-04T15:30:19.823796Z",
     "iopub.status.idle": "2023-07-04T15:30:19.829288Z",
     "shell.execute_reply": "2023-07-04T15:30:19.828987Z"
    }
   },
   "outputs": [
    {
     "data": {
      "text/html": [
       "<div>\n",
       "<style scoped>\n",
       "    .dataframe tbody tr th:only-of-type {\n",
       "        vertical-align: middle;\n",
       "    }\n",
       "\n",
       "    .dataframe tbody tr th {\n",
       "        vertical-align: top;\n",
       "    }\n",
       "\n",
       "    .dataframe thead th {\n",
       "        text-align: right;\n",
       "    }\n",
       "</style>\n",
       "<table border=\"1\" class=\"dataframe\">\n",
       "  <thead>\n",
       "    <tr style=\"text-align: right;\">\n",
       "      <th></th>\n",
       "      <th>HouseholdID</th>\n",
       "      <th>SurveyYear</th>\n",
       "      <th>PSUID</th>\n",
       "      <th>W2</th>\n",
       "      <th>OutCom_B02ID</th>\n",
       "      <th>HHIncome2002_B02ID</th>\n",
       "      <th>AddressType_B01ID</th>\n",
       "      <th>Ten1_B02ID</th>\n",
       "      <th>Landlord_B01ID</th>\n",
       "      <th>ResLength_B01ID</th>\n",
       "      <th>...</th>\n",
       "      <th>NumCarVan</th>\n",
       "      <th>WalkBus_B01ID</th>\n",
       "      <th>Getbus_B01ID</th>\n",
       "      <th>WalkRail_B01ID</th>\n",
       "      <th>WalkRailAlt_B01ID</th>\n",
       "      <th>HRPWorkStat_B02ID</th>\n",
       "      <th>HRPSEGWorkStat_B01ID</th>\n",
       "      <th>HHoldOAClass2011_B03ID</th>\n",
       "      <th>Settlement2011EW_B03ID</th>\n",
       "      <th>Settlement2011EW_B04ID</th>\n",
       "    </tr>\n",
       "    <tr>\n",
       "      <th>hid</th>\n",
       "      <th></th>\n",
       "      <th></th>\n",
       "      <th></th>\n",
       "      <th></th>\n",
       "      <th></th>\n",
       "      <th></th>\n",
       "      <th></th>\n",
       "      <th></th>\n",
       "      <th></th>\n",
       "      <th></th>\n",
       "      <th></th>\n",
       "      <th></th>\n",
       "      <th></th>\n",
       "      <th></th>\n",
       "      <th></th>\n",
       "      <th></th>\n",
       "      <th></th>\n",
       "      <th></th>\n",
       "      <th></th>\n",
       "      <th></th>\n",
       "      <th></th>\n",
       "    </tr>\n",
       "  </thead>\n",
       "  <tbody>\n",
       "    <tr>\n",
       "      <th>1_3</th>\n",
       "      <td>1</td>\n",
       "      <td>2002</td>\n",
       "      <td>1</td>\n",
       "      <td>1</td>\n",
       "      <td>1</td>\n",
       "      <td>2</td>\n",
       "      <td>3</td>\n",
       "      <td>1</td>\n",
       "      <td>-10</td>\n",
       "      <td>3</td>\n",
       "      <td>...</td>\n",
       "      <td>2</td>\n",
       "      <td>1</td>\n",
       "      <td>5</td>\n",
       "      <td>1</td>\n",
       "      <td>-9</td>\n",
       "      <td>1</td>\n",
       "      <td>3</td>\n",
       "      <td>-10</td>\n",
       "      <td>1</td>\n",
       "      <td>1</td>\n",
       "    </tr>\n",
       "    <tr>\n",
       "      <th>1_2</th>\n",
       "      <td>1</td>\n",
       "      <td>2002</td>\n",
       "      <td>1</td>\n",
       "      <td>1</td>\n",
       "      <td>1</td>\n",
       "      <td>2</td>\n",
       "      <td>3</td>\n",
       "      <td>1</td>\n",
       "      <td>-10</td>\n",
       "      <td>3</td>\n",
       "      <td>...</td>\n",
       "      <td>2</td>\n",
       "      <td>1</td>\n",
       "      <td>5</td>\n",
       "      <td>1</td>\n",
       "      <td>-9</td>\n",
       "      <td>1</td>\n",
       "      <td>3</td>\n",
       "      <td>-10</td>\n",
       "      <td>1</td>\n",
       "      <td>1</td>\n",
       "    </tr>\n",
       "    <tr>\n",
       "      <th>1_1</th>\n",
       "      <td>1</td>\n",
       "      <td>2002</td>\n",
       "      <td>1</td>\n",
       "      <td>1</td>\n",
       "      <td>1</td>\n",
       "      <td>2</td>\n",
       "      <td>3</td>\n",
       "      <td>1</td>\n",
       "      <td>-10</td>\n",
       "      <td>3</td>\n",
       "      <td>...</td>\n",
       "      <td>2</td>\n",
       "      <td>1</td>\n",
       "      <td>5</td>\n",
       "      <td>1</td>\n",
       "      <td>-9</td>\n",
       "      <td>1</td>\n",
       "      <td>3</td>\n",
       "      <td>-10</td>\n",
       "      <td>1</td>\n",
       "      <td>1</td>\n",
       "    </tr>\n",
       "    <tr>\n",
       "      <th>1_6</th>\n",
       "      <td>1</td>\n",
       "      <td>2002</td>\n",
       "      <td>1</td>\n",
       "      <td>1</td>\n",
       "      <td>1</td>\n",
       "      <td>2</td>\n",
       "      <td>3</td>\n",
       "      <td>1</td>\n",
       "      <td>-10</td>\n",
       "      <td>3</td>\n",
       "      <td>...</td>\n",
       "      <td>2</td>\n",
       "      <td>1</td>\n",
       "      <td>5</td>\n",
       "      <td>1</td>\n",
       "      <td>-9</td>\n",
       "      <td>1</td>\n",
       "      <td>3</td>\n",
       "      <td>-10</td>\n",
       "      <td>1</td>\n",
       "      <td>1</td>\n",
       "    </tr>\n",
       "    <tr>\n",
       "      <th>1_5</th>\n",
       "      <td>1</td>\n",
       "      <td>2002</td>\n",
       "      <td>1</td>\n",
       "      <td>1</td>\n",
       "      <td>1</td>\n",
       "      <td>2</td>\n",
       "      <td>3</td>\n",
       "      <td>1</td>\n",
       "      <td>-10</td>\n",
       "      <td>3</td>\n",
       "      <td>...</td>\n",
       "      <td>2</td>\n",
       "      <td>1</td>\n",
       "      <td>5</td>\n",
       "      <td>1</td>\n",
       "      <td>-9</td>\n",
       "      <td>1</td>\n",
       "      <td>3</td>\n",
       "      <td>-10</td>\n",
       "      <td>1</td>\n",
       "      <td>1</td>\n",
       "    </tr>\n",
       "  </tbody>\n",
       "</table>\n",
       "<p>5 rows × 33 columns</p>\n",
       "</div>"
      ],
      "text/plain": [
       "     HouseholdID  SurveyYear  PSUID  W2  OutCom_B02ID  HHIncome2002_B02ID  \\\n",
       "hid                                                                         \n",
       "1_3            1        2002      1   1             1                   2   \n",
       "1_2            1        2002      1   1             1                   2   \n",
       "1_1            1        2002      1   1             1                   2   \n",
       "1_6            1        2002      1   1             1                   2   \n",
       "1_5            1        2002      1   1             1                   2   \n",
       "\n",
       "     AddressType_B01ID  Ten1_B02ID  Landlord_B01ID  ResLength_B01ID  ...  \\\n",
       "hid                                                                  ...   \n",
       "1_3                  3           1             -10                3  ...   \n",
       "1_2                  3           1             -10                3  ...   \n",
       "1_1                  3           1             -10                3  ...   \n",
       "1_6                  3           1             -10                3  ...   \n",
       "1_5                  3           1             -10                3  ...   \n",
       "\n",
       "     NumCarVan  WalkBus_B01ID  Getbus_B01ID  WalkRail_B01ID  \\\n",
       "hid                                                           \n",
       "1_3          2              1             5               1   \n",
       "1_2          2              1             5               1   \n",
       "1_1          2              1             5               1   \n",
       "1_6          2              1             5               1   \n",
       "1_5          2              1             5               1   \n",
       "\n",
       "     WalkRailAlt_B01ID  HRPWorkStat_B02ID  HRPSEGWorkStat_B01ID  \\\n",
       "hid                                                               \n",
       "1_3                 -9                  1                     3   \n",
       "1_2                 -9                  1                     3   \n",
       "1_1                 -9                  1                     3   \n",
       "1_6                 -9                  1                     3   \n",
       "1_5                 -9                  1                     3   \n",
       "\n",
       "     HHoldOAClass2011_B03ID  Settlement2011EW_B03ID  Settlement2011EW_B04ID  \n",
       "hid                                                                          \n",
       "1_3                     -10                       1                       1  \n",
       "1_2                     -10                       1                       1  \n",
       "1_1                     -10                       1                       1  \n",
       "1_6                     -10                       1                       1  \n",
       "1_5                     -10                       1                       1  \n",
       "\n",
       "[5 rows x 33 columns]"
      ]
     },
     "execution_count": 28,
     "metadata": {},
     "output_type": "execute_result"
    }
   ],
   "source": [
    "hhs.head()"
   ]
  },
  {
   "cell_type": "code",
   "execution_count": 29,
   "metadata": {
    "ExecuteTime": {
     "end_time": "2020-11-23T12:10:07.759760Z",
     "start_time": "2020-11-23T10:58:31.993216Z"
    },
    "execution": {
     "iopub.execute_input": "2023-07-04T15:30:19.830605Z",
     "iopub.status.busy": "2023-07-04T15:30:19.830503Z",
     "iopub.status.idle": "2023-07-04T15:30:19.850445Z",
     "shell.execute_reply": "2023-07-04T15:30:19.850190Z"
    }
   },
   "outputs": [
    {
     "name": "stdout",
     "output_type": "stream",
     "text": [
      "Building mapping.\n",
      "Trimming target.\n",
      "Building expanded data 0/7\r"
     ]
    },
    {
     "name": "stdout",
     "output_type": "stream",
     "text": [
      "Done\n"
     ]
    }
   ],
   "source": [
    "people = expand_days(trips, persons_in, trips_on=\"IndividualID\", target_on=\"IndividualID\", new_id=\"pid\")"
   ]
  },
  {
   "cell_type": "code",
   "execution_count": 30,
   "metadata": {
    "ExecuteTime": {
     "end_time": "2020-11-23T12:10:07.823487Z",
     "start_time": "2020-11-23T12:10:07.762160Z"
    },
    "execution": {
     "iopub.execute_input": "2023-07-04T15:30:19.851920Z",
     "iopub.status.busy": "2023-07-04T15:30:19.851815Z",
     "iopub.status.idle": "2023-07-04T15:30:19.857574Z",
     "shell.execute_reply": "2023-07-04T15:30:19.857304Z"
    }
   },
   "outputs": [
    {
     "data": {
      "text/html": [
       "<div>\n",
       "<style scoped>\n",
       "    .dataframe tbody tr th:only-of-type {\n",
       "        vertical-align: middle;\n",
       "    }\n",
       "\n",
       "    .dataframe tbody tr th {\n",
       "        vertical-align: top;\n",
       "    }\n",
       "\n",
       "    .dataframe thead th {\n",
       "        text-align: right;\n",
       "    }\n",
       "</style>\n",
       "<table border=\"1\" class=\"dataframe\">\n",
       "  <thead>\n",
       "    <tr style=\"text-align: right;\">\n",
       "      <th></th>\n",
       "      <th>SurveyYear</th>\n",
       "      <th>IndividualID</th>\n",
       "      <th>HouseholdID</th>\n",
       "      <th>PSUID</th>\n",
       "      <th>VehicleID</th>\n",
       "      <th>PersNo</th>\n",
       "      <th>Age_B01ID</th>\n",
       "      <th>OfPenAge_B01ID</th>\n",
       "      <th>Sex_B01ID</th>\n",
       "      <th>EdAttn1_B01ID</th>\n",
       "      <th>...</th>\n",
       "      <th>CarAccess_B01ID</th>\n",
       "      <th>DrivDisable_B01ID</th>\n",
       "      <th>WkPlace_B01ID</th>\n",
       "      <th>ES2000_B01ID</th>\n",
       "      <th>NSSec_B03ID</th>\n",
       "      <th>SC_B01ID</th>\n",
       "      <th>Stat_B01ID</th>\n",
       "      <th>SVise_B01ID</th>\n",
       "      <th>EcoStat_B02ID</th>\n",
       "      <th>PossHom_B01ID</th>\n",
       "    </tr>\n",
       "    <tr>\n",
       "      <th>pid</th>\n",
       "      <th></th>\n",
       "      <th></th>\n",
       "      <th></th>\n",
       "      <th></th>\n",
       "      <th></th>\n",
       "      <th></th>\n",
       "      <th></th>\n",
       "      <th></th>\n",
       "      <th></th>\n",
       "      <th></th>\n",
       "      <th></th>\n",
       "      <th></th>\n",
       "      <th></th>\n",
       "      <th></th>\n",
       "      <th></th>\n",
       "      <th></th>\n",
       "      <th></th>\n",
       "      <th></th>\n",
       "      <th></th>\n",
       "      <th></th>\n",
       "      <th></th>\n",
       "    </tr>\n",
       "  </thead>\n",
       "  <tbody>\n",
       "    <tr>\n",
       "      <th>1_3</th>\n",
       "      <td>2002</td>\n",
       "      <td>1</td>\n",
       "      <td>1</td>\n",
       "      <td>1</td>\n",
       "      <td>1</td>\n",
       "      <td>1</td>\n",
       "      <td>13</td>\n",
       "      <td>2</td>\n",
       "      <td>2</td>\n",
       "      <td>-10</td>\n",
       "      <td>...</td>\n",
       "      <td>2</td>\n",
       "      <td>-9</td>\n",
       "      <td>1</td>\n",
       "      <td>7</td>\n",
       "      <td>2</td>\n",
       "      <td>3</td>\n",
       "      <td>1</td>\n",
       "      <td>2</td>\n",
       "      <td>2</td>\n",
       "      <td>2</td>\n",
       "    </tr>\n",
       "    <tr>\n",
       "      <th>1_2</th>\n",
       "      <td>2002</td>\n",
       "      <td>1</td>\n",
       "      <td>1</td>\n",
       "      <td>1</td>\n",
       "      <td>1</td>\n",
       "      <td>1</td>\n",
       "      <td>13</td>\n",
       "      <td>2</td>\n",
       "      <td>2</td>\n",
       "      <td>-10</td>\n",
       "      <td>...</td>\n",
       "      <td>2</td>\n",
       "      <td>-9</td>\n",
       "      <td>1</td>\n",
       "      <td>7</td>\n",
       "      <td>2</td>\n",
       "      <td>3</td>\n",
       "      <td>1</td>\n",
       "      <td>2</td>\n",
       "      <td>2</td>\n",
       "      <td>2</td>\n",
       "    </tr>\n",
       "    <tr>\n",
       "      <th>1_6</th>\n",
       "      <td>2002</td>\n",
       "      <td>1</td>\n",
       "      <td>1</td>\n",
       "      <td>1</td>\n",
       "      <td>1</td>\n",
       "      <td>1</td>\n",
       "      <td>13</td>\n",
       "      <td>2</td>\n",
       "      <td>2</td>\n",
       "      <td>-10</td>\n",
       "      <td>...</td>\n",
       "      <td>2</td>\n",
       "      <td>-9</td>\n",
       "      <td>1</td>\n",
       "      <td>7</td>\n",
       "      <td>2</td>\n",
       "      <td>3</td>\n",
       "      <td>1</td>\n",
       "      <td>2</td>\n",
       "      <td>2</td>\n",
       "      <td>2</td>\n",
       "    </tr>\n",
       "    <tr>\n",
       "      <th>1_5</th>\n",
       "      <td>2002</td>\n",
       "      <td>1</td>\n",
       "      <td>1</td>\n",
       "      <td>1</td>\n",
       "      <td>1</td>\n",
       "      <td>1</td>\n",
       "      <td>13</td>\n",
       "      <td>2</td>\n",
       "      <td>2</td>\n",
       "      <td>-10</td>\n",
       "      <td>...</td>\n",
       "      <td>2</td>\n",
       "      <td>-9</td>\n",
       "      <td>1</td>\n",
       "      <td>7</td>\n",
       "      <td>2</td>\n",
       "      <td>3</td>\n",
       "      <td>1</td>\n",
       "      <td>2</td>\n",
       "      <td>2</td>\n",
       "      <td>2</td>\n",
       "    </tr>\n",
       "    <tr>\n",
       "      <th>1_7</th>\n",
       "      <td>2002</td>\n",
       "      <td>1</td>\n",
       "      <td>1</td>\n",
       "      <td>1</td>\n",
       "      <td>1</td>\n",
       "      <td>1</td>\n",
       "      <td>13</td>\n",
       "      <td>2</td>\n",
       "      <td>2</td>\n",
       "      <td>-10</td>\n",
       "      <td>...</td>\n",
       "      <td>2</td>\n",
       "      <td>-9</td>\n",
       "      <td>1</td>\n",
       "      <td>7</td>\n",
       "      <td>2</td>\n",
       "      <td>3</td>\n",
       "      <td>1</td>\n",
       "      <td>2</td>\n",
       "      <td>2</td>\n",
       "      <td>2</td>\n",
       "    </tr>\n",
       "  </tbody>\n",
       "</table>\n",
       "<p>5 rows × 23 columns</p>\n",
       "</div>"
      ],
      "text/plain": [
       "     SurveyYear  IndividualID  HouseholdID  PSUID VehicleID  PersNo  \\\n",
       "pid                                                                   \n",
       "1_3        2002             1            1      1         1       1   \n",
       "1_2        2002             1            1      1         1       1   \n",
       "1_6        2002             1            1      1         1       1   \n",
       "1_5        2002             1            1      1         1       1   \n",
       "1_7        2002             1            1      1         1       1   \n",
       "\n",
       "     Age_B01ID  OfPenAge_B01ID  Sex_B01ID  EdAttn1_B01ID  ...  \\\n",
       "pid                                                       ...   \n",
       "1_3         13               2          2            -10  ...   \n",
       "1_2         13               2          2            -10  ...   \n",
       "1_6         13               2          2            -10  ...   \n",
       "1_5         13               2          2            -10  ...   \n",
       "1_7         13               2          2            -10  ...   \n",
       "\n",
       "     CarAccess_B01ID  DrivDisable_B01ID  WkPlace_B01ID  ES2000_B01ID  \\\n",
       "pid                                                                    \n",
       "1_3                2                 -9              1             7   \n",
       "1_2                2                 -9              1             7   \n",
       "1_6                2                 -9              1             7   \n",
       "1_5                2                 -9              1             7   \n",
       "1_7                2                 -9              1             7   \n",
       "\n",
       "     NSSec_B03ID  SC_B01ID  Stat_B01ID  SVise_B01ID  EcoStat_B02ID  \\\n",
       "pid                                                                  \n",
       "1_3            2         3           1            2              2   \n",
       "1_2            2         3           1            2              2   \n",
       "1_6            2         3           1            2              2   \n",
       "1_5            2         3           1            2              2   \n",
       "1_7            2         3           1            2              2   \n",
       "\n",
       "     PossHom_B01ID  \n",
       "pid                 \n",
       "1_3              2  \n",
       "1_2              2  \n",
       "1_6              2  \n",
       "1_5              2  \n",
       "1_7              2  \n",
       "\n",
       "[5 rows x 23 columns]"
      ]
     },
     "execution_count": 30,
     "metadata": {},
     "output_type": "execute_result"
    }
   ],
   "source": [
    "people.head()"
   ]
  },
  {
   "attachments": {},
   "cell_type": "markdown",
   "metadata": {},
   "source": [
    "## Load into PAM\n",
    "\n",
    "We load the pandas formatted data into Pam using the `pam.read.load_travel_diary_from_to` read method. We do some very preliminary validation of plans and assurance."
   ]
  },
  {
   "cell_type": "code",
   "execution_count": 31,
   "metadata": {
    "ExecuteTime": {
     "end_time": "2020-11-23T12:10:08.008552Z",
     "start_time": "2020-11-23T12:10:07.963560Z"
    },
    "execution": {
     "iopub.execute_input": "2023-07-04T15:30:19.858795Z",
     "iopub.status.busy": "2023-07-04T15:30:19.858713Z",
     "iopub.status.idle": "2023-07-04T15:30:19.860870Z",
     "shell.execute_reply": "2023-07-04T15:30:19.860563Z"
    }
   },
   "outputs": [],
   "source": [
    "trips.tst = trips.tst.astype(int)\n",
    "trips.tet = trips.tet.astype(int)"
   ]
  },
  {
   "cell_type": "code",
   "execution_count": 32,
   "metadata": {
    "ExecuteTime": {
     "end_time": "2020-11-23T12:10:17.801118Z",
     "start_time": "2020-11-23T12:10:08.014383Z"
    },
    "execution": {
     "iopub.execute_input": "2023-07-04T15:30:19.862172Z",
     "iopub.status.busy": "2023-07-04T15:30:19.862071Z",
     "iopub.status.idle": "2023-07-04T15:30:19.890147Z",
     "shell.execute_reply": "2023-07-04T15:30:19.889889Z"
    },
    "scrolled": true
   },
   "outputs": [
    {
     "name": "stderr",
     "output_type": "stream",
     "text": [
      "Using from-to activity parser using 'oact' and 'dact' columns\n"
     ]
    },
    {
     "name": "stderr",
     "output_type": "stream",
     "text": [
      "Adding pid->hh mapping to persons_attributes from trips.\n"
     ]
    },
    {
     "name": "stderr",
     "output_type": "stream",
     "text": [
      "\n",
      "        Unable to load household area ('hzone') - not found in trips_diary or unable to build from attributes.\n",
      "        Pam will try to infer home location from activities, but this behaviour is not recommended.\n",
      "        \n"
     ]
    },
    {
     "name": "stderr",
     "output_type": "stream",
     "text": [
      "Using freq of 'None' for all trips.\n"
     ]
    },
    {
     "name": "stderr",
     "output_type": "stream",
     "text": [
      "Using freq of 'None' for all households.\n"
     ]
    },
    {
     "name": "stderr",
     "output_type": "stream",
     "text": [
      " Person pid:2_5 hid:1_5 plan does not start with 'home' activity: work\n"
     ]
    },
    {
     "name": "stderr",
     "output_type": "stream",
     "text": [
      " Person pid:2_6 hid:1_6 plan does not start with 'home' activity: work\n"
     ]
    },
    {
     "name": "stderr",
     "output_type": "stream",
     "text": [
      " Person pid:3_6 hid:1_6 plan does not start with 'home' activity: education\n"
     ]
    },
    {
     "name": "stderr",
     "output_type": "stream",
     "text": [
      " Person pid:2_7 hid:1_7 plan does not start with 'home' activity: work\n"
     ]
    },
    {
     "name": "stdout",
     "output_type": "stream",
     "text": [
      "hello there\n"
     ]
    }
   ],
   "source": [
    "population = read.load_travel_diary(\n",
    "    trips=trips, persons_attributes=people, hhs_attributes=hhs, trip_freq_as_person_freq=True,\n",
    ")"
   ]
  },
  {
   "cell_type": "code",
   "execution_count": 33,
   "metadata": {
    "ExecuteTime": {
     "end_time": "2020-11-23T12:10:17.999106Z",
     "start_time": "2020-11-23T12:10:17.804047Z"
    },
    "execution": {
     "iopub.execute_input": "2023-07-04T15:30:19.891639Z",
     "iopub.status.busy": "2023-07-04T15:30:19.891553Z",
     "iopub.status.idle": "2023-07-04T15:30:19.893817Z",
     "shell.execute_reply": "2023-07-04T15:30:19.893553Z"
    }
   },
   "outputs": [],
   "source": [
    "population.fix_plans()"
   ]
  },
  {
   "cell_type": "code",
   "execution_count": 34,
   "metadata": {
    "ExecuteTime": {
     "end_time": "2020-11-23T12:10:18.064982Z",
     "start_time": "2020-11-23T12:10:18.001901Z"
    },
    "execution": {
     "iopub.execute_input": "2023-07-04T15:30:19.895060Z",
     "iopub.status.busy": "2023-07-04T15:30:19.894978Z",
     "iopub.status.idle": "2023-07-04T15:30:19.896995Z",
     "shell.execute_reply": "2023-07-04T15:30:19.896722Z"
    }
   },
   "outputs": [],
   "source": [
    "# this should be replaced with a more direct method\n",
    "for hh in population.households.values():\n",
    "    for p in hh.people.values():\n",
    "        p.validate()"
   ]
  },
  {
   "cell_type": "code",
   "execution_count": 35,
   "metadata": {
    "ExecuteTime": {
     "end_time": "2020-11-23T12:10:18.106291Z",
     "start_time": "2020-11-23T12:10:18.067138Z"
    },
    "execution": {
     "iopub.execute_input": "2023-07-04T15:30:19.898183Z",
     "iopub.status.busy": "2023-07-04T15:30:19.898103Z",
     "iopub.status.idle": "2023-07-04T15:30:19.900267Z",
     "shell.execute_reply": "2023-07-04T15:30:19.900011Z"
    }
   },
   "outputs": [
    {
     "data": {
      "text/plain": [
       "3.285714285714285"
      ]
     },
     "execution_count": 35,
     "metadata": {},
     "output_type": "execute_result"
    }
   ],
   "source": [
    "population.size  # this also accounts for the weighting"
   ]
  },
  {
   "cell_type": "code",
   "execution_count": 36,
   "metadata": {
    "ExecuteTime": {
     "end_time": "2020-11-23T12:10:18.169445Z",
     "start_time": "2020-11-23T12:10:18.119285Z"
    },
    "execution": {
     "iopub.execute_input": "2023-07-04T15:30:19.901487Z",
     "iopub.status.busy": "2023-07-04T15:30:19.901401Z",
     "iopub.status.idle": "2023-07-04T15:30:19.903518Z",
     "shell.execute_reply": "2023-07-04T15:30:19.903288Z"
    }
   },
   "outputs": [
    {
     "data": {
      "text/plain": [
       "{'num_households': 18,\n",
       " 'num_people': 39,\n",
       " 'num_activities': 175,\n",
       " 'num_legs': 136}"
      ]
     },
     "execution_count": 36,
     "metadata": {},
     "output_type": "execute_result"
    }
   ],
   "source": [
    "population.stats"
   ]
  },
  {
   "cell_type": "code",
   "execution_count": 37,
   "metadata": {
    "ExecuteTime": {
     "end_time": "2020-11-23T12:10:18.219002Z",
     "start_time": "2020-11-23T12:10:18.176008Z"
    },
    "execution": {
     "iopub.execute_input": "2023-07-04T15:30:19.904706Z",
     "iopub.status.busy": "2023-07-04T15:30:19.904618Z",
     "iopub.status.idle": "2023-07-04T15:30:19.906894Z",
     "shell.execute_reply": "2023-07-04T15:30:19.906605Z"
    }
   },
   "outputs": [
    {
     "data": {
      "text/plain": [
       "{'education', 'escort', 'home', 'medical', 'other', 'shop', 'visit', 'work'}"
      ]
     },
     "execution_count": 37,
     "metadata": {},
     "output_type": "execute_result"
    }
   ],
   "source": [
    "population.activity_classes"
   ]
  },
  {
   "cell_type": "code",
   "execution_count": 38,
   "metadata": {
    "ExecuteTime": {
     "end_time": "2020-11-23T12:10:18.270601Z",
     "start_time": "2020-11-23T12:10:18.222929Z"
    },
    "execution": {
     "iopub.execute_input": "2023-07-04T15:30:19.908159Z",
     "iopub.status.busy": "2023-07-04T15:30:19.908067Z",
     "iopub.status.idle": "2023-07-04T15:30:19.910466Z",
     "shell.execute_reply": "2023-07-04T15:30:19.910190Z"
    }
   },
   "outputs": [
    {
     "data": {
      "text/plain": [
       "{'car', 'pt', 'walk'}"
      ]
     },
     "execution_count": 38,
     "metadata": {},
     "output_type": "execute_result"
    }
   ],
   "source": [
    "population.mode_classes"
   ]
  },
  {
   "cell_type": "code",
   "execution_count": 39,
   "metadata": {
    "ExecuteTime": {
     "end_time": "2020-11-23T12:10:20.473655Z",
     "start_time": "2020-11-23T12:10:18.277070Z"
    },
    "execution": {
     "iopub.execute_input": "2023-07-04T15:30:19.911750Z",
     "iopub.status.busy": "2023-07-04T15:30:19.911660Z",
     "iopub.status.idle": "2023-07-04T15:30:20.622640Z",
     "shell.execute_reply": "2023-07-04T15:30:20.622318Z"
    },
    "scrolled": false
   },
   "outputs": [
    {
     "data": {
      "image/png": "[encoded data removed]",
      "text/plain": [
       "<Figure size 864x691.2 with 8 Axes>"
      ]
     },
     "execution_count": 39,
     "metadata": {},
     "output_type": "execute_result"
    },
    {
     "data": {
      "image/png": "[encoded data removed]",
      "text/plain": [
       "<Figure size 864x691.2 with 8 Axes>"
      ]
     },
     "metadata": {
      "needs_background": "light"
     },
     "output_type": "display_data"
    }
   ],
   "source": [
    "plot_activity_times(population)"
   ]
  },
  {
   "cell_type": "code",
   "execution_count": 40,
   "metadata": {
    "ExecuteTime": {
     "end_time": "2020-11-23T12:10:21.682828Z",
     "start_time": "2020-11-23T12:10:20.483760Z"
    },
    "execution": {
     "iopub.execute_input": "2023-07-04T15:30:20.624283Z",
     "iopub.status.busy": "2023-07-04T15:30:20.624149Z",
     "iopub.status.idle": "2023-07-04T15:30:20.906944Z",
     "shell.execute_reply": "2023-07-04T15:30:20.906669Z"
    },
    "scrolled": false
   },
   "outputs": [
    {
     "data": {
      "image/png": "[encoded data removed]",
      "text/plain": [
       "<Figure size 864x259.2 with 3 Axes>"
      ]
     },
     "execution_count": 40,
     "metadata": {},
     "output_type": "execute_result"
    },
    {
     "data": {
      "image/png": "[encoded data removed]",
      "text/plain": [
       "<Figure size 864x259.2 with 3 Axes>"
      ]
     },
     "metadata": {
      "needs_background": "light"
     },
     "output_type": "display_data"
    }
   ],
   "source": [
    "plot_leg_times(population)"
   ]
  },
  {
   "cell_type": "code",
   "execution_count": 41,
   "metadata": {
    "ExecuteTime": {
     "end_time": "2020-11-23T12:10:21.728035Z",
     "start_time": "2020-11-23T12:10:21.693486Z"
    },
    "execution": {
     "iopub.execute_input": "2023-07-04T15:30:20.908350Z",
     "iopub.status.busy": "2023-07-04T15:30:20.908255Z",
     "iopub.status.idle": "2023-07-04T15:30:20.909772Z",
     "shell.execute_reply": "2023-07-04T15:30:20.909481Z"
    }
   },
   "outputs": [],
   "source": [
    "# night shift @ 2016008863_6"
   ]
  },
  {
   "cell_type": "code",
   "execution_count": 42,
   "metadata": {
    "ExecuteTime": {
     "end_time": "2020-11-25T10:58:14.515344Z",
     "start_time": "2020-11-25T10:58:14.237045Z"
    },
    "execution": {
     "iopub.execute_input": "2023-07-04T15:30:20.911039Z",
     "iopub.status.busy": "2023-07-04T15:30:20.910952Z",
     "iopub.status.idle": "2023-07-04T15:30:21.035179Z",
     "shell.execute_reply": "2023-07-04T15:30:21.034861Z"
    }
   },
   "outputs": [
    {
     "name": "stdout",
     "output_type": "stream",
     "text": [
      "Household: 1_1\n",
      "{'HouseholdID': 1, 'SurveyYear': 2002, 'PSUID': 1, 'W2': 1, 'OutCom_B02ID': 1, 'HHIncome2002_B02ID': 2, 'AddressType_B01ID': 3, 'Ten1_B02ID': 1, 'Landlord_B01ID': -10, 'ResLength_B01ID': 3, 'HHoldCountry_B01ID': 1, 'HHoldGOR_B02ID': 7, 'HHoldNumAdults': 2, 'HHoldNumChildren': 2, 'HHoldNumPeople': 4, 'HHoldStruct_B02ID': 5, 'NumLicHolders': 2, 'HHoldEmploy_B01ID': 5, 'NumVehicles': 2, 'NumBike': 0, 'NumCar': 2, 'NumMCycle': 0, 'NumVanLorry': 0, 'NumCarVan': 2, 'WalkBus_B01ID': 1, 'Getbus_B01ID': 5, 'WalkRail_B01ID': 1, 'WalkRailAlt_B01ID': -9, 'HRPWorkStat_B02ID': 1, 'HRPSEGWorkStat_B01ID': 3, 'HHoldOAClass2011_B03ID': -10, 'Settlement2011EW_B03ID': 1, 'Settlement2011EW_B04ID': 1}\n",
      "Person: 2_1\n",
      "{'SurveyYear': 2002, 'IndividualID': 2, 'HouseholdID': 1, 'PSUID': 1, 'VehicleID': '2', 'PersNo': 2, 'Age_B01ID': 13, 'OfPenAge_B01ID': 2, 'Sex_B01ID': 1, 'EdAttn1_B01ID': -10, 'EdAttn2_B01ID': -10, 'EdAttn3_B01ID': -10, 'DrivLic_B02ID': 1, 'CarAccess_B01ID': 2, 'DrivDisable_B01ID': -9, 'WkPlace_B01ID': 1, 'ES2000_B01ID': 7, 'NSSec_B03ID': 3, 'SC_B01ID': 4, 'Stat_B01ID': 1, 'SVise_B01ID': 2, 'EcoStat_B02ID': 1, 'PossHom_B01ID': 2}\n",
      "0:\tActivity(act:home, location:530, time:00:00:00 --> 13:53:00, duration:13:53:00)\n",
      "1:\tLeg(mode:car, area:530 --> 550, time:13:53:00 --> 13:56:00, duration:0:03:00)\n",
      "2:\tActivity(act:work, location:550, time:13:56:00 --> 22:00:00, duration:8:04:00)\n",
      "3:\tLeg(mode:car, area:550 --> 550, time:22:00:00 --> 22:05:00, duration:0:05:00)\n",
      "4:\tActivity(act:home, location:550, time:22:05:00 --> 00:00:00, duration:1:55:00)\n"
     ]
    },
    {
     "data": {
      "image/png": "[encoded data removed]",
      "text/plain": [
       "<Figure size 1152x216 with 1 Axes>"
      ]
     },
     "metadata": {
      "needs_background": "light"
     },
     "output_type": "display_data"
    }
   ],
   "source": [
    "hh = population.random_household()\n",
    "hh.print()\n",
    "hh.plot()"
   ]
  },
  {
   "cell_type": "code",
   "execution_count": 43,
   "metadata": {
    "ExecuteTime": {
     "end_time": "2020-11-25T10:58:58.742366Z",
     "start_time": "2020-11-25T10:58:58.698118Z"
    },
    "execution": {
     "iopub.execute_input": "2023-07-04T15:30:21.036715Z",
     "iopub.status.busy": "2023-07-04T15:30:21.036600Z",
     "iopub.status.idle": "2023-07-04T15:30:21.039028Z",
     "shell.execute_reply": "2023-07-04T15:30:21.038731Z"
    }
   },
   "outputs": [
    {
     "data": {
      "text/plain": [
       "{'education', 'escort', 'home', 'medical', 'other', 'shop', 'visit', 'work'}"
      ]
     },
     "execution_count": 43,
     "metadata": {},
     "output_type": "execute_result"
    }
   ],
   "source": [
    "population.activity_classes"
   ]
  },
  {
   "attachments": {},
   "cell_type": "markdown",
   "metadata": {},
   "source": [
    "## Sample the Population\n",
    "\n",
    "We sample a very small population based on the given NTS household weightings."
   ]
  },
  {
   "cell_type": "code",
   "execution_count": 44,
   "metadata": {
    "ExecuteTime": {
     "end_time": "2020-11-23T12:10:26.313000Z",
     "start_time": "2020-11-23T12:10:22.120024Z"
    },
    "execution": {
     "iopub.execute_input": "2023-07-04T15:30:21.040385Z",
     "iopub.status.busy": "2023-07-04T15:30:21.040279Z",
     "iopub.status.idle": "2023-07-04T15:30:21.067718Z",
     "shell.execute_reply": "2023-07-04T15:30:21.067432Z"
    }
   },
   "outputs": [],
   "source": [
    "from copy import deepcopy\n",
    "\n",
    "from pam.core import Population\n",
    "from pam.samplers.basic import freq_sample\n",
    "\n",
    "population_sample = Population()\n",
    "\n",
    "for _hid, household in population.households.items():\n",
    "    av_hh_weight = household.freq  # this is currently the av of person freq in the hh\n",
    "    freq = freq_sample(av_hh_weight, 10)\n",
    "\n",
    "    for idx in range(freq):\n",
    "        hh = deepcopy(household)\n",
    "        hh.hid = f\"{hh.hid}_{idx}\"\n",
    "        hh.people = {}\n",
    "        for pid, person in household.people.items():\n",
    "            p = deepcopy(person)\n",
    "            p.pid = f\"{pid}_{idx}\"\n",
    "            hh.add(p)\n",
    "        population_sample.add(hh)"
   ]
  },
  {
   "cell_type": "code",
   "execution_count": 45,
   "metadata": {
    "ExecuteTime": {
     "end_time": "2020-11-23T12:10:26.354636Z",
     "start_time": "2020-11-23T12:10:26.315503Z"
    },
    "execution": {
     "iopub.execute_input": "2023-07-04T15:30:21.069288Z",
     "iopub.status.busy": "2023-07-04T15:30:21.069199Z",
     "iopub.status.idle": "2023-07-04T15:30:21.071523Z",
     "shell.execute_reply": "2023-07-04T15:30:21.071208Z"
    }
   },
   "outputs": [
    {
     "data": {
      "text/plain": [
       "6.72619047619048"
      ]
     },
     "execution_count": 45,
     "metadata": {},
     "output_type": "execute_result"
    }
   ],
   "source": [
    "population_sample.size"
   ]
  },
  {
   "attachments": {},
   "cell_type": "markdown",
   "metadata": {},
   "source": [
    "## Facility Sampling\n",
    "\n",
    "The facilities input is prepared using a separate project called OSM-Facility Sampler (OSMFS). This project woulbe be better names the OSM Facility *Extractor*. We use it to extract viable activity locations for each activity type for each zone. This project is not currently open source, but is described below:\n",
    "\n",
    "OSMFS joins osm data with the geographies of an area to create a mapping between zones, acts and facility locations (points). This is output as a geojson:\n",
    "\n",
    "{\"type\": \"FeatureCollection\", \"features\": [{\"id\": \"0\", \"type\": \"Feature\", \"properties\": {\"activity\": \"other\"}, \"geometry\": {\"type\": \"Point\", \"coordinates\": [-4.5235751, 54.1698685]}},\n",
    "\n",
    "todo: the current methodology does not support shared facilities, ie facilities with more than one activity (schools are places of education and work for example).\n",
    "\n",
    "todo: the above json has to be rejoined with the geography to create a spatial sampler. This is a duplicated operation which could be included in the Bench output, eg:\n",
    "\n",
    "zone_id: activity: (id, point)"
   ]
  },
  {
   "cell_type": "code",
   "execution_count": 46,
   "metadata": {
    "execution": {
     "iopub.execute_input": "2023-07-04T15:30:21.072959Z",
     "iopub.status.busy": "2023-07-04T15:30:21.072856Z",
     "iopub.status.idle": "2023-07-04T15:30:21.075231Z",
     "shell.execute_reply": "2023-07-04T15:30:21.074957Z"
    }
   },
   "outputs": [],
   "source": [
    "def load_facilities(path, from_crs=\"EPSG:4326\", to_crs=\"EPSG:27700\"):\n",
    "    facilities = gp.read_file(path)\n",
    "    facilities.crs = from_crs\n",
    "    facilities = facilities.to_crs(to_crs)\n",
    "    return facilities\n",
    "\n",
    "\n",
    "def load_zones(zones_path, from_crs=\"EPSG:27700\", to_crs=\"EPSG:27700\"):\n",
    "    zones = gp.read_file(zones_path)\n",
    "    zones = zones.set_index(\"id\")\n",
    "    if from_crs != to_crs:\n",
    "        zones.crs = from_crs\n",
    "        zones = zones.to_crs(to_crs)\n",
    "    return zones"
   ]
  },
  {
   "attachments": {},
   "cell_type": "markdown",
   "metadata": {},
   "source": [
    "## Random Sampler\n",
    "\n",
    "Failing a facility sampler - we can use random sampling instead."
   ]
  },
  {
   "cell_type": "code",
   "execution_count": 47,
   "metadata": {
    "execution": {
     "iopub.execute_input": "2023-07-04T15:30:21.076458Z",
     "iopub.status.busy": "2023-07-04T15:30:21.076355Z",
     "iopub.status.idle": "2023-07-04T15:30:21.125627Z",
     "shell.execute_reply": "2023-07-04T15:30:21.125278Z"
    }
   },
   "outputs": [],
   "source": [
    "zones = load_zones(area_path, from_crs=\"EPSG:4326\")\n",
    "sampler = RandomPointSampler(geoms=zones)"
   ]
  },
  {
   "cell_type": "code",
   "execution_count": 48,
   "metadata": {
    "execution": {
     "iopub.execute_input": "2023-07-04T15:30:21.127248Z",
     "iopub.status.busy": "2023-07-04T15:30:21.127152Z",
     "iopub.status.idle": "2023-07-04T15:30:21.130642Z",
     "shell.execute_reply": "2023-07-04T15:30:21.130351Z"
    }
   },
   "outputs": [
    {
     "data": {
      "image/svg+xml": [
       "<svg xmlns=\"http://www.w3.org/2000/svg\" xmlns:xlink=\"http://www.w3.org/1999/xlink\" width=\"100.0\" height=\"100.0\" viewBox=\"399092.6858456063 290041.69041773543 2.0 2.0\" preserveAspectRatio=\"xMinYMin meet\"><g transform=\"matrix(1,0,0,-1,0,580085.3808354709)\"><circle cx=\"399093.6858456063\" cy=\"290042.69041773543\" r=\"0.06\" stroke=\"#555555\" stroke-width=\"0.02\" fill=\"#66cc99\" opacity=\"0.6\" /></g></svg>"
      ],
      "text/plain": [
       "<POINT (399093.686 290042.69)>"
      ]
     },
     "execution_count": 48,
     "metadata": {},
     "output_type": "execute_result"
    }
   ],
   "source": [
    "sampler.sample(530, None)"
   ]
  },
  {
   "cell_type": "code",
   "execution_count": 49,
   "metadata": {
    "execution": {
     "iopub.execute_input": "2023-07-04T15:30:21.131979Z",
     "iopub.status.busy": "2023-07-04T15:30:21.131892Z",
     "iopub.status.idle": "2023-07-04T15:30:21.268527Z",
     "shell.execute_reply": "2023-07-04T15:30:21.268216Z"
    }
   },
   "outputs": [],
   "source": [
    "population_sample.sample_locs(sampler)"
   ]
  },
  {
   "cell_type": "code",
   "execution_count": 50,
   "metadata": {
    "ExecuteTime": {
     "end_time": "2020-11-24T18:51:18.843528Z",
     "start_time": "2020-11-24T18:51:18.545189Z"
    },
    "execution": {
     "iopub.execute_input": "2023-07-04T15:30:21.270114Z",
     "iopub.status.busy": "2023-07-04T15:30:21.270010Z",
     "iopub.status.idle": "2023-07-04T15:30:21.359504Z",
     "shell.execute_reply": "2023-07-04T15:30:21.359141Z"
    }
   },
   "outputs": [
    {
     "name": "stdout",
     "output_type": "stream",
     "text": [
      "Person: 5_2_1\n",
      "{'SurveyYear': 2002, 'IndividualID': 5, 'HouseholdID': 2, 'PSUID': 1, 'VehicleID': ' ', 'PersNo': 1, 'Age_B01ID': 18, 'OfPenAge_B01ID': 1, 'Sex_B01ID': 2, 'EdAttn1_B01ID': -10, 'EdAttn2_B01ID': -10, 'EdAttn3_B01ID': -10, 'DrivLic_B02ID': 3, 'CarAccess_B01ID': 6, 'DrivDisable_B01ID': 2, 'WkPlace_B01ID': -9, 'ES2000_B01ID': 6, 'NSSec_B03ID': 1, 'SC_B01ID': 3, 'Stat_B01ID': 1, 'SVise_B01ID': 1, 'EcoStat_B02ID': 4, 'PossHom_B01ID': -9}\n",
      "0:\tActivity(act:home, location:POINT (419883.4863206614 274232.598586247), time:00:00:00 --> 09:45:00, duration:9:45:00)\n",
      "1:\tLeg(mode:pt, area:POINT (419883.4863206614 274232.598586247) --> POINT (408021.8785798442 447678.35816789983), time:09:45:00 --> 13:15:00, duration:3:30:00)\n",
      "2:\tActivity(act:home, location:POINT (408021.8785798442 447678.35816789983), time:13:15:00 --> 00:00:00, duration:10:45:00)\n"
     ]
    },
    {
     "data": {
      "image/png": "[encoded data removed]",
      "text/plain": [
       "<Figure size 1152x216 with 1 Axes>"
      ]
     },
     "metadata": {
      "needs_background": "light"
     },
     "output_type": "display_data"
    }
   ],
   "source": [
    "person = population_sample.random_person()\n",
    "person.plot()\n",
    "person.print()"
   ]
  },
  {
   "attachments": {},
   "cell_type": "markdown",
   "metadata": {
    "ExecuteTime": {
     "end_time": "2020-11-11T11:48:33.844210Z",
     "start_time": "2020-11-11T11:48:33.815280Z"
    }
   },
   "source": [
    "## Write to Disk\n",
    "\n",
    "1. write MATSim formats to disk (plans and attributes)\n",
    "2. write csv and geojson summaries to disk\n",
    "3. write MATSim formatted facilities to disk"
   ]
  },
  {
   "cell_type": "code",
   "execution_count": 51,
   "metadata": {
    "ExecuteTime": {
     "end_time": "2020-11-24T18:52:43.705393Z",
     "start_time": "2020-11-24T18:52:28.634010Z"
    },
    "execution": {
     "iopub.execute_input": "2023-07-04T15:30:21.361042Z",
     "iopub.status.busy": "2023-07-04T15:30:21.360930Z",
     "iopub.status.idle": "2023-07-04T15:30:21.488770Z",
     "shell.execute_reply": "2023-07-04T15:30:21.488468Z"
    }
   },
   "outputs": [],
   "source": [
    "comment = \"NTS london prelim 24nov2020 epsg27700\"\n",
    "\n",
    "write.write_matsim(population_sample, plans_path=os.path.join(out_dir, \"plans.xml\"), comment=comment)\n",
    "population_sample.to_csv(out_dir, crs=\"EPSG:27700\", to_crs=\"EPSG:4326\")"
   ]
  }
 ],
 "metadata": {
  "kernelspec": {
   "display_name": "Python 3.7.15 ('venv': venv)",
   "language": "python",
   "name": "python3"
  },
  "language_info": {
   "codemirror_mode": {
    "name": "ipython",
    "version": 3
   },
   "file_extension": ".py",
   "mimetype": "text/x-python",
   "name": "python",
   "nbconvert_exporter": "python",
   "pygments_lexer": "ipython3",
   "version": "3.9.16"
  },
  "toc": {
   "base_numbering": 1,
   "nav_menu": {},
   "number_sections": true,
   "sideBar": true,
   "skip_h1_title": true,
   "title_cell": "Table of Contents",
   "title_sidebar": "Contents",
   "toc_cell": false,
   "toc_position": {},
   "toc_section_display": true,
   "toc_window_display": true
  },
  "vscode": {
   "interpreter": {
    "hash": "9fb97b32d59ec2ca028f3a87eaecd7fdd4e02bf50258ec96057fa127230d231f"
   }
  }
 },
 "nbformat": 4,
 "nbformat_minor": 4
}
