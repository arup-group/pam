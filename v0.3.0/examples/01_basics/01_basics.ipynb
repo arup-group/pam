{
 "cells": [
  {
   "attachments": {},
   "cell_type": "markdown",
   "id": "irish-pharmacology",
   "metadata": {},
   "source": [
    "# PAM Basics"
   ]
  },
  {
   "attachments": {},
   "cell_type": "markdown",
   "id": "disciplinary-software",
   "metadata": {},
   "source": [
    "This notebook demonstrates the core mechanics of PAM by creating a demonstration population."
   ]
  },
  {
   "attachments": {},
   "cell_type": "markdown",
   "id": "august-oasis",
   "metadata": {},
   "source": [
    "### The Core Objects\n",
    "\n",
    "PAM populations are built from three core objects:\n",
    "\n",
    "`Population`, `Household` and `Person` objects. Persons belong to a `Household` and households belong to a `Population`. This relationship can be created using the `Population.add` and `Household.add` methods.\n",
    "\n",
    "Note that `Household` and `Person` objects require unique identifiers. households require a `hid` (household id) and persons a `pid` (person id).\n",
    "\n",
    "Households and Persons can also be given attributes as a simple dictionary. Attributes can include useful features such as income or car ownership."
   ]
  },
  {
   "cell_type": "code",
   "execution_count": 1,
   "id": "d9a7fd44",
   "metadata": {
    "execution": {
     "iopub.execute_input": "2023-09-22T10:52:08.829546Z",
     "iopub.status.busy": "2023-09-22T10:52:08.829329Z",
     "iopub.status.idle": "2023-09-22T10:52:09.895308Z",
     "shell.execute_reply": "2023-09-22T10:52:09.895003Z"
    }
   },
   "outputs": [],
   "source": [
    "from pam.core import Household, Person, Population"
   ]
  },
  {
   "cell_type": "code",
   "execution_count": 2,
   "id": "substantial-crazy",
   "metadata": {
    "ExecuteTime": {
     "end_time": "2021-03-19T16:00:15.491570Z",
     "start_time": "2021-03-19T16:00:15.471358Z"
    },
    "execution": {
     "iopub.execute_input": "2023-09-22T10:52:09.897445Z",
     "iopub.status.busy": "2023-09-22T10:52:09.897274Z",
     "iopub.status.idle": "2023-09-22T10:52:09.901264Z",
     "shell.execute_reply": "2023-09-22T10:52:09.900968Z"
    }
   },
   "outputs": [
    {
     "data": {
      "text/plain": [
       "{'num_households': 1, 'num_people': 1, 'num_activities': 0, 'num_legs': 0}"
      ]
     },
     "execution_count": 2,
     "metadata": {},
     "output_type": "execute_result"
    }
   ],
   "source": [
    "population = Population()  # initialise an empty population\n",
    "household = Household(hid=0)\n",
    "person = Person(pid=0, attributes={\"income\": \"medium\"})\n",
    "\n",
    "household.add(person)\n",
    "population.add(household)\n",
    "\n",
    "population.stats"
   ]
  },
  {
   "cell_type": "code",
   "execution_count": 3,
   "id": "aef23aca",
   "metadata": {
    "execution": {
     "iopub.execute_input": "2023-09-22T10:52:09.903609Z",
     "iopub.status.busy": "2023-09-22T10:52:09.903503Z",
     "iopub.status.idle": "2023-09-22T10:52:09.922171Z",
     "shell.execute_reply": "2023-09-22T10:52:09.921825Z"
    }
   },
   "outputs": [
    {
     "data": {
      "text/plain": [
       "{'num_households': 1, 'num_people': 1, 'num_activities': 0, 'num_legs': 0}"
      ]
     },
     "execution_count": 3,
     "metadata": {},
     "output_type": "execute_result"
    }
   ],
   "source": [
    "# If you are not modelling household, the above is equivalent to:\n",
    "population = Population()\n",
    "population.add(Person(pid=0, attributes={\"income\": \"medium\"}))\n",
    "population.stats\n",
    "# In this case a unique household is created for the person with the same id."
   ]
  },
  {
   "attachments": {},
   "cell_type": "markdown",
   "id": "developing-eugene",
   "metadata": {},
   "source": [
    "### Activity Plans (or \"Sequences\")\n",
    "\n",
    "`Person` activity plans use the `pam.activity.Plan` object. All Persons have a `Plan`, even if it is empty. A `Plan` is simply a sequence of `Activity` and `Trip` (or `Leg` if you prefer - they are equivalent) objects.\n",
    "\n",
    "Plans must start and end with an `Activity` and the two objects must alternate, for example; `Activity(\"home\")`, `Trip()`, `Activity(\"work\")`, `Trip()`, `Activity(\"home\")`.\n",
    "\n",
    "Both Activities and Trips can have start and end times (using datetime objects). Activities have locations whereas Trips have start and end locations. When manually creating your own sequences care should be taken to make these times and locations consistent. Such that, for example, a trip ends when the next activity starts and a trip start is at the same location as the preceding activity.\n",
    "\n",
    "Activities are expected to have a type, for example, `'work'` or `'golf'`. Trips are expected to have a mode, for example `'car'` etc. These examples generally use strings for these features but this is not a requirement."
   ]
  },
  {
   "cell_type": "code",
   "execution_count": 4,
   "id": "2c567aea",
   "metadata": {
    "execution": {
     "iopub.execute_input": "2023-09-22T10:52:09.923686Z",
     "iopub.status.busy": "2023-09-22T10:52:09.923576Z",
     "iopub.status.idle": "2023-09-22T10:52:09.925702Z",
     "shell.execute_reply": "2023-09-22T10:52:09.925394Z"
    }
   },
   "outputs": [],
   "source": [
    "from pam.activity import Activity, Trip\n",
    "from pam.utils import minutes_to_datetime as mtdt"
   ]
  },
  {
   "cell_type": "code",
   "execution_count": 5,
   "id": "87a6626d",
   "metadata": {
    "execution": {
     "iopub.execute_input": "2023-09-22T10:52:09.927189Z",
     "iopub.status.busy": "2023-09-22T10:52:09.927075Z",
     "iopub.status.idle": "2023-09-22T10:52:09.933106Z",
     "shell.execute_reply": "2023-09-22T10:52:09.932774Z"
    }
   },
   "outputs": [
    {
     "name": "stdout",
     "output_type": "stream",
     "text": [
      "Activity(act:home, location:A, time:00:00:00 --> 07:25:00, duration:7:25:00)\n",
      "Leg(mode:car, area:A --> B, time:07:25:00 --> 08:25:00, duration:1:00:00)\n"
     ]
    }
   ],
   "source": [
    "activity = Activity(act=\"home\", area=\"A\", start_time=mtdt(0), end_time=mtdt(445))\n",
    "trip = Trip(mode=\"car\", start_area=\"A\", end_area=\"B\", start_time=mtdt(445), end_time=mtdt(505))\n",
    "print(activity)\n",
    "print(trip)"
   ]
  },
  {
   "attachments": {},
   "cell_type": "markdown",
   "id": "dd990af4",
   "metadata": {},
   "source": [
    "Activities and Trips can be added to a Person object using `Person.add`:"
   ]
  },
  {
   "cell_type": "code",
   "execution_count": 6,
   "id": "3bcf3bd5",
   "metadata": {
    "execution": {
     "iopub.execute_input": "2023-09-22T10:52:09.935001Z",
     "iopub.status.busy": "2023-09-22T10:52:09.934758Z",
     "iopub.status.idle": "2023-09-22T10:52:09.938014Z",
     "shell.execute_reply": "2023-09-22T10:52:09.937609Z"
    }
   },
   "outputs": [
    {
     "name": "stdout",
     "output_type": "stream",
     "text": [
      "Person: 0\n",
      "{'type': 'example'}\n",
      "0:\tActivity(act:home, location:A, time:00:00:00 --> 07:25:00, duration:7:25:00)\n",
      "1:\tLeg(mode:car, area:A --> B, time:07:25:00 --> 08:25:00, duration:1:00:00)\n",
      "2:\tActivity(act:hotel, location:B, time:08:25:00 --> 16:40:00, duration:8:15:00)\n"
     ]
    }
   ],
   "source": [
    "person = Person(pid=0, attributes={\"type\": \"example\"})\n",
    "\n",
    "person.add(Activity(act=\"home\", area=\"A\", start_time=mtdt(0), end_time=mtdt(445)))\n",
    "person.add(Trip(mode=\"car\", start_area=\"A\", end_area=\"B\", start_time=mtdt(445), end_time=mtdt(505)))\n",
    "person.add(Activity(act=\"hotel\", area=\"B\", start_time=mtdt(505), end_time=mtdt(1000)))\n",
    "\n",
    "person.validate()  # the validate method check for consistency in the sequence of locations and times\n",
    "person.print()"
   ]
  },
  {
   "cell_type": "code",
   "execution_count": 7,
   "id": "6566df0f",
   "metadata": {
    "execution": {
     "iopub.execute_input": "2023-09-22T10:52:09.939525Z",
     "iopub.status.busy": "2023-09-22T10:52:09.939410Z",
     "iopub.status.idle": "2023-09-22T10:52:10.043096Z",
     "shell.execute_reply": "2023-09-22T10:52:10.042769Z"
    }
   },
   "outputs": [
    {
     "data": {
      "image/png": "[encoded data removed]",
      "text/plain": [
       "<Figure size 1600x175 with 1 Axes>"
      ]
     },
     "metadata": {},
     "output_type": "display_data"
    }
   ],
   "source": [
    "person.plot()"
   ]
  },
  {
   "attachments": {},
   "cell_type": "markdown",
   "id": "e5aef6be",
   "metadata": {},
   "source": [
    "### Locations\n",
    "\n",
    "Pam uses `pam.location.Location` objects to keep track of `Activity` and `Trip` locations.\n",
    "\n",
    "These locations can be any combination of `area` or `loc` or `link`. Area is assumed to be spatial zone id, for example, \"City of London\".\n",
    "\n",
    "`Loc` must be a coordinate (using a `shapely.geometry.Point`). `Link` is a network id. Locs and Links are only required for specific applications such as MATSim and can be added or sampled later, so are not covered further here."
   ]
  },
  {
   "cell_type": "code",
   "execution_count": 8,
   "id": "8b0d4795",
   "metadata": {
    "execution": {
     "iopub.execute_input": "2023-09-22T10:52:10.044766Z",
     "iopub.status.busy": "2023-09-22T10:52:10.044649Z",
     "iopub.status.idle": "2023-09-22T10:52:10.046968Z",
     "shell.execute_reply": "2023-09-22T10:52:10.046548Z"
    }
   },
   "outputs": [],
   "source": [
    "from shapely.geometry import Point"
   ]
  },
  {
   "cell_type": "code",
   "execution_count": 9,
   "id": "432dec5f",
   "metadata": {
    "execution": {
     "iopub.execute_input": "2023-09-22T10:52:10.048788Z",
     "iopub.status.busy": "2023-09-22T10:52:10.048644Z",
     "iopub.status.idle": "2023-09-22T10:52:10.052534Z",
     "shell.execute_reply": "2023-09-22T10:52:10.052201Z"
    }
   },
   "outputs": [
    {
     "name": "stdout",
     "output_type": "stream",
     "text": [
      "Person: 0\n",
      "{'type': 'example'}\n",
      "0:\tActivity(act:home, location:POINT (0 0), time:00:00:00 --> 07:25:00, duration:7:25:00)\n",
      "1:\tLeg(mode:car, area:POINT (0 0) --> POINT (1234 1234), time:07:25:00 --> 08:25:00, duration:1:00:00)\n",
      "2:\tActivity(act:hotel, location:B, time:08:25:00 --> 16:40:00, duration:8:15:00)\n"
     ]
    }
   ],
   "source": [
    "person = Person(pid=0, attributes={\"type\": \"example\"})\n",
    "\n",
    "person.add(\n",
    "    Activity(act=\"home\", area=\"A\", loc=Point((0, 0)), start_time=mtdt(0), end_time=mtdt(445))\n",
    ")\n",
    "person.add(\n",
    "    Trip(\n",
    "        mode=\"car\",\n",
    "        start_area=\"A\",\n",
    "        end_area=\"B\",\n",
    "        start_loc=Point((0, 0)),\n",
    "        end_loc=Point((1234, 1234)),\n",
    "        start_time=mtdt(445),\n",
    "        end_time=mtdt(505),\n",
    "    )\n",
    ")\n",
    "person.add(Activity(act=\"hotel\", area=\"B\", start_time=mtdt(505), end_time=mtdt(1000)))\n",
    "\n",
    "person.validate()  # the validate method check for consistency in the sequence of locations and times\n",
    "person.print()"
   ]
  },
  {
   "attachments": {},
   "cell_type": "markdown",
   "id": "07fba640",
   "metadata": {},
   "source": [
    "### All Together Now\n",
    "\n",
    "PAM has read methods for common travel diary data formats and for MATSim. Pam also has modules for modelling new activity sequences. But below we show how you might create a simple demonstration population from scratch.\n",
    "\n",
    "Note that for conveneince the `add` methods will also try to unpack lists."
   ]
  },
  {
   "cell_type": "code",
   "execution_count": 10,
   "id": "535990c8",
   "metadata": {
    "execution": {
     "iopub.execute_input": "2023-09-22T10:52:10.054034Z",
     "iopub.status.busy": "2023-09-22T10:52:10.053942Z",
     "iopub.status.idle": "2023-09-22T10:52:10.055913Z",
     "shell.execute_reply": "2023-09-22T10:52:10.055498Z"
    }
   },
   "outputs": [],
   "source": [
    "population = Population()  # create a new empty population"
   ]
  },
  {
   "cell_type": "code",
   "execution_count": 11,
   "id": "broadband-launch",
   "metadata": {
    "ExecuteTime": {
     "end_time": "2021-03-19T16:00:15.520501Z",
     "start_time": "2021-03-19T16:00:15.495149Z"
    },
    "execution": {
     "iopub.execute_input": "2023-09-22T10:52:10.057485Z",
     "iopub.status.busy": "2023-09-22T10:52:10.057363Z",
     "iopub.status.idle": "2023-09-22T10:52:10.061892Z",
     "shell.execute_reply": "2023-09-22T10:52:10.061601Z"
    }
   },
   "outputs": [],
   "source": [
    "the_smiths = Household(\"Smiths\")\n",
    "\n",
    "tom = Person(\"Tom\", attributes={\"age\": \"low\"})\n",
    "tammy = Person(\"Tammy\", attributes={\"age\": \"low\"})\n",
    "the_smiths.add([tom, tammy])\n",
    "\n",
    "population.add(the_smiths)  # and add the household to the population\n",
    "\n",
    "tammy.add(\n",
    "    [\n",
    "        Activity(act=\"home\", area=\"A\", loc=Point((0, 0)), start_time=mtdt(0), end_time=mtdt(445)),\n",
    "        Trip(\n",
    "            mode=\"car\",\n",
    "            start_area=\"A\",\n",
    "            end_area=\"B\",\n",
    "            start_loc=Point((0, 0)),\n",
    "            end_loc=Point((1234, 1234)),\n",
    "            start_time=mtdt(445),\n",
    "            end_time=mtdt(505),\n",
    "        ),\n",
    "        Activity(\n",
    "            act=\"work\", area=\"B\", loc=Point((1233, 1234)), start_time=mtdt(505), end_time=mtdt(990)\n",
    "        ),\n",
    "        Trip(\n",
    "            mode=\"car\",\n",
    "            start_area=\"B\",\n",
    "            end_area=\"A\",\n",
    "            start_loc=Point((1234, 1234)),\n",
    "            end_loc=Point((0, 0)),\n",
    "            start_time=mtdt(990),\n",
    "            end_time=mtdt(1050),\n",
    "        ),\n",
    "        Activity(\n",
    "            act=\"home\",\n",
    "            area=\"A\",\n",
    "            loc=Point((0, 0)),\n",
    "            start_time=mtdt(1050),\n",
    "            end_time=mtdt(24 * 60),  # assuming a 24 hour day\n",
    "        ),\n",
    "    ]\n",
    ")\n",
    "\n",
    "tom.add(\n",
    "    [\n",
    "        Activity(\n",
    "            act=\"home\",\n",
    "            area=\"A\",\n",
    "            loc=Point((0, 0)),\n",
    "            start_time=mtdt(0),\n",
    "            end_time=mtdt(24 * 60),  # assuming a 24 hour day\n",
    "        )\n",
    "    ]\n",
    ")"
   ]
  },
  {
   "cell_type": "code",
   "execution_count": 12,
   "id": "geological-profile",
   "metadata": {
    "ExecuteTime": {
     "end_time": "2021-03-19T16:00:15.770591Z",
     "start_time": "2021-03-19T16:00:15.554021Z"
    },
    "execution": {
     "iopub.execute_input": "2023-09-22T10:52:10.063397Z",
     "iopub.status.busy": "2023-09-22T10:52:10.063301Z",
     "iopub.status.idle": "2023-09-22T10:52:10.216112Z",
     "shell.execute_reply": "2023-09-22T10:52:10.215823Z"
    },
    "scrolled": false
   },
   "outputs": [
    {
     "data": {
      "image/png": "[encoded data removed]",
      "text/plain": [
       "<Figure size 1600x300 with 2 Axes>"
      ]
     },
     "metadata": {},
     "output_type": "display_data"
    }
   ],
   "source": [
    "the_smiths.plot()"
   ]
  },
  {
   "cell_type": "code",
   "execution_count": 13,
   "id": "czech-package",
   "metadata": {
    "ExecuteTime": {
     "end_time": "2021-03-19T16:00:15.795433Z",
     "start_time": "2021-03-19T16:00:15.776669Z"
    },
    "execution": {
     "iopub.execute_input": "2023-09-22T10:52:10.217699Z",
     "iopub.status.busy": "2023-09-22T10:52:10.217576Z",
     "iopub.status.idle": "2023-09-22T10:52:10.222515Z",
     "shell.execute_reply": "2023-09-22T10:52:10.222147Z"
    }
   },
   "outputs": [],
   "source": [
    "milkman = Person(\"milk_bot\", attributes={\"bot\": \"yes\", \"electric vehicle\": \"yes\"})\n",
    "\n",
    "population.add(\n",
    "    milkman\n",
    ")  # adding a person directly to the population is possible but a household with the same id will be auto generated\n",
    "\n",
    "milkman.add(\n",
    "    [\n",
    "        Activity(act=\"depot\", area=\"A\", loc=Point((0, 0)), start_time=mtdt(0), end_time=mtdt(300)),\n",
    "        Trip(\n",
    "            mode=\"car\",\n",
    "            start_area=\"A\",\n",
    "            end_area=\"A\",\n",
    "            start_loc=Point((0, 0)),\n",
    "            end_loc=Point((1000, 1000)),\n",
    "            start_time=mtdt(300),\n",
    "            end_time=mtdt(310),\n",
    "        ),\n",
    "        Activity(\n",
    "            act=\"delivery\",\n",
    "            area=\"A\",\n",
    "            loc=Point((1000, 1000)),\n",
    "            start_time=mtdt(310),\n",
    "            end_time=mtdt(320),\n",
    "        ),\n",
    "        Trip(\n",
    "            mode=\"car\",\n",
    "            start_area=\"A\",\n",
    "            end_area=\"A\",\n",
    "            start_loc=Point((1000, 1000)),\n",
    "            end_loc=Point((0, 1000)),\n",
    "            start_time=mtdt(320),\n",
    "            end_time=mtdt(330),\n",
    "        ),\n",
    "        Activity(\n",
    "            act=\"delivery\", area=\"A\", loc=Point((0, 1000)), start_time=mtdt(330), end_time=mtdt(340)\n",
    "        ),\n",
    "        Trip(\n",
    "            mode=\"car\",\n",
    "            start_area=\"A\",\n",
    "            start_loc=Point((0, 1000)),\n",
    "            end_loc=Point((0, 0)),\n",
    "            end_area=\"A\",\n",
    "            start_time=mtdt(340),\n",
    "            end_time=mtdt(350),\n",
    "        ),\n",
    "        Activity(\n",
    "            act=\"depot\",\n",
    "            area=\"A\",\n",
    "            loc=Point((0, 0)),\n",
    "            start_time=mtdt(350),\n",
    "            end_time=mtdt(24 * 60),  # assuming a 24 hour day\n",
    "        ),\n",
    "    ]\n",
    ")"
   ]
  },
  {
   "cell_type": "code",
   "execution_count": 14,
   "id": "fd4b1aa8",
   "metadata": {
    "execution": {
     "iopub.execute_input": "2023-09-22T10:52:10.224017Z",
     "iopub.status.busy": "2023-09-22T10:52:10.223908Z",
     "iopub.status.idle": "2023-09-22T10:52:10.306467Z",
     "shell.execute_reply": "2023-09-22T10:52:10.306126Z"
    }
   },
   "outputs": [
    {
     "data": {
      "image/png": "[encoded data removed]",
      "text/plain": [
       "<Figure size 1600x175 with 1 Axes>"
      ]
     },
     "metadata": {},
     "output_type": "display_data"
    }
   ],
   "source": [
    "milkman.plot()"
   ]
  },
  {
   "cell_type": "markdown",
   "id": "e5391874",
   "metadata": {},
   "source": [
    "### Accessing Data\n",
    "\n",
    "Households and Persons can be accessed and modified in a variety of ways:"
   ]
  },
  {
   "cell_type": "code",
   "execution_count": 15,
   "id": "df4c68b4",
   "metadata": {
    "execution": {
     "iopub.execute_input": "2023-09-22T10:52:10.308108Z",
     "iopub.status.busy": "2023-09-22T10:52:10.307967Z",
     "iopub.status.idle": "2023-09-22T10:52:10.310734Z",
     "shell.execute_reply": "2023-09-22T10:52:10.310381Z"
    }
   },
   "outputs": [],
   "source": [
    "# iterate through households and persons\n",
    "for hid, household in population:\n",
    "    household.attributes[\"checked\"] = True\n",
    "    for pid, person in household:\n",
    "        person.attributes[\"checked\"] = True\n",
    "\n",
    "# iterate through persons only\n",
    "for hid, pid, person in population.people():\n",
    "    person.attributes[\"checked_again\"] = True\n",
    "\n",
    "# access household directly\n",
    "population[\"Smiths\"].attributes[\"smiths_check\"] = True\n",
    "\n",
    "# access person directly\n",
    "population[\"Smiths\"][\"Tammy\"].attributes[\"tammy_check\"] = True\n",
    "\n",
    "# access a random household\n",
    "population.random_household().attributes[\"random_check\"] = True\n",
    "\n",
    "# access a random person\n",
    "population.random_person().attributes[\"random_check\"] = True"
   ]
  },
  {
   "cell_type": "markdown",
   "id": "9d955242",
   "metadata": {},
   "source": [
    "Person plans can be similarly accessed and modified in a variety of ways:"
   ]
  },
  {
   "cell_type": "markdown",
   "id": "a8b73347",
   "metadata": {},
   "source": []
  },
  {
   "cell_type": "code",
   "execution_count": 16,
   "id": "0adece81",
   "metadata": {
    "execution": {
     "iopub.execute_input": "2023-09-22T10:52:10.312143Z",
     "iopub.status.busy": "2023-09-22T10:52:10.312042Z",
     "iopub.status.idle": "2023-09-22T10:52:10.395135Z",
     "shell.execute_reply": "2023-09-22T10:52:10.394833Z"
    }
   },
   "outputs": [
    {
     "name": "stdout",
     "output_type": "stream",
     "text": [
      "Activity(act:home, location:POINT (0 0), time:00:00:00 --> 07:25:00, duration:7:25:00)\n",
      "Leg(mode:car, area:POINT (0 0) --> POINT (1234 1234), time:07:25:00 --> 08:25:00, duration:1:00:00)\n",
      "Activity(act:work, location:POINT (1233 1234), time:08:25:00 --> 16:30:00, duration:8:05:00)\n",
      "Leg(mode:car, area:POINT (1234 1234) --> POINT (0 0), time:16:30:00 --> 17:30:00, duration:1:00:00)\n",
      "Activity(act:home, location:POINT (0 0), time:17:30:00 --> 00:00:00, duration:6:30:00)\n"
     ]
    },
    {
     "data": {
      "image/png": "[encoded data removed]",
      "text/plain": [
       "<Figure size 1600x175 with 1 Axes>"
      ]
     },
     "metadata": {},
     "output_type": "display_data"
    }
   ],
   "source": [
    "from copy import deepcopy\n",
    "\n",
    "person = population[\"Smiths\"][\"Tom\"]\n",
    "\n",
    "# modify a persons plan\n",
    "person.plan = deepcopy(population[\"Smiths\"][\"Tammy\"].plan)\n",
    "\n",
    "# access plan components via index\n",
    "assert person.plan[0].act == \"home\"\n",
    "\n",
    "# iterate plan components\n",
    "for component in person.plan:\n",
    "    print(component)\n",
    "\n",
    "# iterate plan activities\n",
    "for activity in person.activities:\n",
    "    if activity.act == \"work\":\n",
    "        activity.act = \"golf\"\n",
    "\n",
    "# iterate plan legs\n",
    "for leg in person.legs:\n",
    "    leg.mode = \"walk\"\n",
    "\n",
    "person.plot()"
   ]
  },
  {
   "attachments": {},
   "cell_type": "markdown",
   "id": "backed-scratch",
   "metadata": {},
   "source": [
    "### Export\n",
    "\n",
    "Exports plans to csv or xml format for MATSim."
   ]
  },
  {
   "cell_type": "code",
   "execution_count": 17,
   "id": "cbeef986",
   "metadata": {
    "execution": {
     "iopub.execute_input": "2023-09-22T10:52:10.396722Z",
     "iopub.status.busy": "2023-09-22T10:52:10.396614Z",
     "iopub.status.idle": "2023-09-22T10:52:10.398610Z",
     "shell.execute_reply": "2023-09-22T10:52:10.398286Z"
    }
   },
   "outputs": [],
   "source": [
    "from pam.write import write_matsim\n",
    "from pam.write.diary import to_csv"
   ]
  },
  {
   "cell_type": "code",
   "execution_count": 18,
   "id": "lasting-mileage",
   "metadata": {
    "ExecuteTime": {
     "end_time": "2021-03-19T16:00:16.098422Z",
     "start_time": "2021-03-19T16:00:16.051617Z"
    },
    "execution": {
     "iopub.execute_input": "2023-09-22T10:52:10.400002Z",
     "iopub.status.busy": "2023-09-22T10:52:10.399901Z",
     "iopub.status.idle": "2023-09-22T10:52:10.919979Z",
     "shell.execute_reply": "2023-09-22T10:52:10.919672Z"
    }
   },
   "outputs": [
    {
     "name": "stderr",
     "output_type": "stream",
     "text": [
      "Missing person weight in hh Smiths, returning None.\n"
     ]
    },
    {
     "name": "stderr",
     "output_type": "stream",
     "text": [
      "Missing person weight in hh milk_bot, returning None.\n"
     ]
    }
   ],
   "source": [
    "to_csv(population=population, dir=\"tmp\")\n",
    "write_matsim(population=population, plans_path=\"tmp/plans.xml\")"
   ]
  }
 ],
 "metadata": {
  "kernelspec": {
   "display_name": "pam",
   "language": "python",
   "name": "python3"
  },
  "language_info": {
   "codemirror_mode": {
    "name": "ipython",
    "version": 3
   },
   "file_extension": ".py",
   "mimetype": "text/x-python",
   "name": "python",
   "nbconvert_exporter": "python",
   "pygments_lexer": "ipython3",
   "version": "3.11.5"
  },
  "toc": {
   "base_numbering": 1,
   "nav_menu": {},
   "number_sections": true,
   "sideBar": true,
   "skip_h1_title": false,
   "title_cell": "Table of Contents",
   "title_sidebar": "Contents",
   "toc_cell": false,
   "toc_position": {},
   "toc_section_display": true,
   "toc_window_display": false
  }
 },
 "nbformat": 4,
 "nbformat_minor": 5
}
