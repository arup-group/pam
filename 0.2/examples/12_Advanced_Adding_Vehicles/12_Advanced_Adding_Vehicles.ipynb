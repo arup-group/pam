{
 "cells": [
  {
   "cell_type": "code",
   "execution_count": 1,
   "id": "99886b74",
   "metadata": {
    "ExecuteTime": {
     "end_time": "2022-03-29T14:42:44.363475Z",
     "start_time": "2022-03-29T14:42:40.343662Z"
    },
    "execution": {
     "iopub.execute_input": "2022-10-05T09:39:26.985278Z",
     "iopub.status.busy": "2022-10-05T09:39:26.984846Z",
     "iopub.status.idle": "2022-10-05T09:39:28.867606Z",
     "shell.execute_reply": "2022-10-05T09:39:28.866534Z"
    }
   },
   "outputs": [
    {
     "name": "stderr",
     "output_type": "stream",
     "text": [
      "Using tour based purpose parser (recommended)\n",
      "Adding pid->hh mapping to persons_attributes from trips.\n",
      "Adding home locations to persons attributes using trips attributes.\n",
      "Using freq of 'None' for all persons.\n"
     ]
    }
   ],
   "source": [
    "from pam import read\n",
    "import pam.vehicle\n",
    "import pandas as pd\n",
    "from pprint import pprint\n",
    "import os\n",
    "\n",
    "# load up population\n",
    "data_path = os.path.join(\"data\", \"example_data\")\n",
    "trips = pd.read_csv(os.path.join(data_path, 'example_travel_diaries.csv'))\n",
    "attributes = pd.read_csv(os.path.join(data_path, 'example_attributes.csv'))\n",
    "attributes.set_index('pid', inplace=True)\n",
    "pop = read.load_travel_diary(trips, attributes)"
   ]
  },
  {
   "cell_type": "code",
   "execution_count": 2,
   "id": "3d36096e",
   "metadata": {
    "ExecuteTime": {
     "end_time": "2022-03-29T14:42:45.186269Z",
     "start_time": "2022-03-29T14:42:44.366165Z"
    },
    "execution": {
     "iopub.execute_input": "2022-10-05T09:39:28.874109Z",
     "iopub.status.busy": "2022-10-05T09:39:28.873646Z",
     "iopub.status.idle": "2022-10-05T09:39:28.917843Z",
     "shell.execute_reply": "2022-10-05T09:39:28.916575Z"
    }
   },
   "outputs": [],
   "source": [
    "pop = pam.read.read_matsim(\n",
    "    os.path.join(data_path, 'example_plans.xml'),\n",
    "    version = 12)"
   ]
  },
  {
   "cell_type": "code",
   "execution_count": 3,
   "id": "404133c9",
   "metadata": {
    "ExecuteTime": {
     "end_time": "2022-03-29T14:42:45.223443Z",
     "start_time": "2022-03-29T14:42:45.191374Z"
    },
    "execution": {
     "iopub.execute_input": "2022-10-05T09:39:28.922958Z",
     "iopub.status.busy": "2022-10-05T09:39:28.922180Z",
     "iopub.status.idle": "2022-10-05T09:39:28.955889Z",
     "shell.execute_reply": "2022-10-05T09:39:28.954888Z"
    }
   },
   "outputs": [
    {
     "data": {
      "text/plain": [
       "{'num_households': 51,\n",
       " 'num_people': 51,\n",
       " 'num_activities': 153,\n",
       " 'num_legs': 102}"
      ]
     },
     "execution_count": 3,
     "metadata": {},
     "output_type": "execute_result"
    }
   ],
   "source": [
    "pop.stats"
   ]
  },
  {
   "cell_type": "markdown",
   "id": "62e01c80",
   "metadata": {},
   "source": [
    "## Simple example of vehicle assignment\n",
    "\n",
    "Below we assign vehicles to agents with a car mode in their plans. We give default vehicles or default electric vehicles to random agents. Defaults follow the same defaults as defined in MATSim's dtd files:\n",
    "[vehicleDefinitions_v2.0.xsd](https://www.matsim.org/files/dtd/vehicleDefinitions_v2.0.xsd) and\n",
    "[electric_vehicles_v1.dtd](https://www.matsim.org/files/dtd/electric_vehicles_v1.dtd). Saving this population to matsim files will produce these files."
   ]
  },
  {
   "cell_type": "code",
   "execution_count": 4,
   "id": "37f14279",
   "metadata": {
    "ExecuteTime": {
     "end_time": "2022-03-29T14:42:45.237653Z",
     "start_time": "2022-03-29T14:42:45.226734Z"
    },
    "execution": {
     "iopub.execute_input": "2022-10-05T09:39:28.961318Z",
     "iopub.status.busy": "2022-10-05T09:39:28.960852Z",
     "iopub.status.idle": "2022-10-05T09:39:28.987266Z",
     "shell.execute_reply": "2022-10-05T09:39:28.986041Z"
    }
   },
   "outputs": [],
   "source": [
    "# let's define some vehicles\n",
    "\n",
    "default_ev_vehicle_type = pam.vehicle.VehicleType('default_EV')\n",
    "big_ev_vehicle_type = pam.vehicle.VehicleType('big_EV', length=15, width=2)\n",
    "default_vehicle_type = pam.vehicle.VehicleType('default_car')"
   ]
  },
  {
   "cell_type": "code",
   "execution_count": 5,
   "id": "22a76800",
   "metadata": {
    "ExecuteTime": {
     "end_time": "2022-03-29T14:42:45.301541Z",
     "start_time": "2022-03-29T14:42:45.260533Z"
    },
    "execution": {
     "iopub.execute_input": "2022-10-05T09:39:28.992340Z",
     "iopub.status.busy": "2022-10-05T09:39:28.991625Z",
     "iopub.status.idle": "2022-10-05T09:39:29.016505Z",
     "shell.execute_reply": "2022-10-05T09:39:29.014988Z"
    }
   },
   "outputs": [],
   "source": [
    "import random\n",
    "\n",
    "for hid, pid, p in pop.people():\n",
    "    if 'car' in p.mode_classes:\n",
    "        if random.random() < 0.5:\n",
    "            # let's give a vehicle to this person\n",
    "            if random.random() < 0.5:\n",
    "                p.assign_vehicle(pam.vehicle.ElectricVehicle(pid, vehicle_type=default_ev_vehicle_type))\n",
    "            else:\n",
    "                p.assign_vehicle(pam.vehicle.Vehicle(pid, default_vehicle_type))"
   ]
  },
  {
   "cell_type": "markdown",
   "id": "519d7819",
   "metadata": {},
   "source": [
    "You can also change default parameters for ElectricVehicles too. You can set their `battery_capacity` and initial state of charge `initial_soc` and the charger types allowed `charger_types`."
   ]
  },
  {
   "cell_type": "code",
   "execution_count": 6,
   "id": "2d47aa6e",
   "metadata": {
    "ExecuteTime": {
     "end_time": "2022-03-29T14:42:45.309451Z",
     "start_time": "2022-03-29T14:42:45.304058Z"
    },
    "execution": {
     "iopub.execute_input": "2022-10-05T09:39:29.021314Z",
     "iopub.status.busy": "2022-10-05T09:39:29.020921Z",
     "iopub.status.idle": "2022-10-05T09:39:29.044634Z",
     "shell.execute_reply": "2022-10-05T09:39:29.043386Z"
    }
   },
   "outputs": [
    {
     "name": "stdout",
     "output_type": "stream",
     "text": [
      "{'battery_capacity': 60,\n",
      " 'charger_types': 'default',\n",
      " 'id': 'id',\n",
      " 'initial_soc': 60,\n",
      " 'vehicle_type': VehicleType(id='defaultElectricVehicleType', length=7.5, width=1.0, networkMode='car', capacity=CapacityType(seats=4, standingRoomInPersons=0), description='personal_vehicle', passengerCarEquivalents=1.0, flowEfficiencyFactor=1.0)}\n"
     ]
    }
   ],
   "source": [
    "pprint(pam.vehicle.ElectricVehicle('id').__dict__)"
   ]
  },
  {
   "cell_type": "code",
   "execution_count": 7,
   "id": "4e756730",
   "metadata": {
    "ExecuteTime": {
     "end_time": "2022-03-29T14:42:45.328449Z",
     "start_time": "2022-03-29T14:42:45.313575Z"
    },
    "execution": {
     "iopub.execute_input": "2022-10-05T09:39:29.050602Z",
     "iopub.status.busy": "2022-10-05T09:39:29.049917Z",
     "iopub.status.idle": "2022-10-05T09:39:29.073421Z",
     "shell.execute_reply": "2022-10-05T09:39:29.072345Z"
    }
   },
   "outputs": [
    {
     "data": {
      "text/plain": [
       "2"
      ]
     },
     "execution_count": 7,
     "metadata": {},
     "output_type": "execute_result"
    }
   ],
   "source": [
    "len(set(pop.electric_vehicles()))"
   ]
  },
  {
   "cell_type": "code",
   "execution_count": 8,
   "id": "f230a9e3",
   "metadata": {
    "ExecuteTime": {
     "end_time": "2022-03-29T14:42:45.345617Z",
     "start_time": "2022-03-29T14:42:45.331419Z"
    },
    "execution": {
     "iopub.execute_input": "2022-10-05T09:39:29.078495Z",
     "iopub.status.busy": "2022-10-05T09:39:29.077834Z",
     "iopub.status.idle": "2022-10-05T09:39:29.102169Z",
     "shell.execute_reply": "2022-10-05T09:39:29.101315Z"
    }
   },
   "outputs": [
    {
     "data": {
      "text/plain": [
       "{'default'}"
      ]
     },
     "execution_count": 8,
     "metadata": {},
     "output_type": "execute_result"
    }
   ],
   "source": [
    "pop.electric_vehicle_charger_types()"
   ]
  },
  {
   "cell_type": "code",
   "execution_count": 9,
   "id": "c35b2698",
   "metadata": {
    "ExecuteTime": {
     "end_time": "2022-03-29T14:42:45.879322Z",
     "start_time": "2022-03-29T14:42:45.367053Z"
    },
    "execution": {
     "iopub.execute_input": "2022-10-05T09:39:29.115076Z",
     "iopub.status.busy": "2022-10-05T09:39:29.113093Z",
     "iopub.status.idle": "2022-10-05T09:39:29.173592Z",
     "shell.execute_reply": "2022-10-05T09:39:29.172127Z"
    }
   },
   "outputs": [
    {
     "name": "stderr",
     "output_type": "stream",
     "text": [
      "INFO:root:Population includes vehicles\n",
      "INFO:root:Saving vehicles to ./tmp\n",
      "INFO:root:Writing all vehicles to ./tmp/all_vehicles.xml\n",
      "INFO:root:Population includes electric vehicles\n",
      "INFO:root:Writing electric vehicles to ./tmp/electric_vehicles.xml\n",
      "INFO:root:Found 2 electric vehicles with unique charger types: {'default'}. Ensure you generate a chargers xml file: https://www.matsim.org/files/dtd/chargers_v1.dtd if you're running a simulation using org.matsim.contrib.ev\n"
     ]
    }
   ],
   "source": [
    "import logging\n",
    "from pam import write\n",
    "\n",
    "logging.basicConfig()\n",
    "logging.getLogger().setLevel(logging.INFO)\n",
    "\n",
    "write.write_matsim(\n",
    "    pop,\n",
    "    plans_path='./tmp/plans.xml',\n",
    "    vehicles_dir='./tmp',\n",
    ")"
   ]
  },
  {
   "cell_type": "code",
   "execution_count": null,
   "id": "8a0e052b",
   "metadata": {},
   "outputs": [],
   "source": []
  }
 ],
 "metadata": {
  "kernelspec": {
   "display_name": "pam",
   "language": "python",
   "name": "pam"
  },
  "language_info": {
   "codemirror_mode": {
    "name": "ipython",
    "version": 3
   },
   "file_extension": ".py",
   "mimetype": "text/x-python",
   "name": "python",
   "nbconvert_exporter": "python",
   "pygments_lexer": "ipython3",
   "version": "3.7.3"
  },
  "latex_envs": {
   "LaTeX_envs_menu_present": true,
   "autoclose": true,
   "autocomplete": true,
   "bibliofile": "biblio.bib",
   "cite_by": "apalike",
   "current_citInitial": 1,
   "eqLabelWithNumbers": true,
   "eqNumInitial": 1,
   "hotkeys": {
    "equation": "Ctrl-E",
    "itemize": "Ctrl-I"
   },
   "labels_anchors": false,
   "latex_user_defs": false,
   "report_style_numbering": false,
   "user_envs_cfg": false
  },
  "toc": {
   "base_numbering": 1,
   "nav_menu": {},
   "number_sections": true,
   "sideBar": true,
   "skip_h1_title": false,
   "title_cell": "Table of Contents",
   "title_sidebar": "Contents",
   "toc_cell": false,
   "toc_position": {},
   "toc_section_display": true,
   "toc_window_display": false
  },
  "varInspector": {
   "cols": {
    "lenName": 16,
    "lenType": 16,
    "lenVar": 40
   },
   "kernels_config": {
    "python": {
     "delete_cmd_postfix": "",
     "delete_cmd_prefix": "del ",
     "library": "var_list.py",
     "varRefreshCmd": "print(var_dic_list())"
    },
    "r": {
     "delete_cmd_postfix": ") ",
     "delete_cmd_prefix": "rm(",
     "library": "var_list.r",
     "varRefreshCmd": "cat(var_dic_list()) "
    }
   },
   "types_to_exclude": [
    "module",
    "function",
    "builtin_function_or_method",
    "instance",
    "_Feature"
   ],
   "window_display": false
  }
 },
 "nbformat": 4,
 "nbformat_minor": 5
}
