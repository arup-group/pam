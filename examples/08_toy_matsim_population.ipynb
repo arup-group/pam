{
 "cells": [
  {
   "attachments": {},
   "cell_type": "markdown",
   "id": "normal-lafayette",
   "metadata": {},
   "source": [
    "# Demo - MATSim Population for West London"
   ]
  },
  {
   "attachments": {},
   "cell_type": "markdown",
   "id": "variable-approach",
   "metadata": {},
   "source": [
    "This notebook demonstrates an complex example workflow for creating a sample population for an area in West London. It creates agent plans for people and households using a random process."
   ]
  },
  {
   "attachments": {},
   "cell_type": "markdown",
   "id": "black-wagon",
   "metadata": {},
   "source": [
    "## Aim\n",
    "Create a bigger and more realistic sample population automatically for the West London area called Londinium. \n",
    "The sample population includes various activities, personal attributes and modes; the population would be used as input for MATSim transport simulation."
   ]
  },
  {
   "attachments": {},
   "cell_type": "markdown",
   "id": "recognized-correlation",
   "metadata": {},
   "source": [
    "Steps:\n",
    "\n",
    "1. [Import geographic data of Londinium;](#import-geographic-data-of-londinium)\n",
    "2. [Facility sampling from OpenStreetMap data;](#facility-sampler)\n",
    "2. [Activity generation model with home based tours. Expand agents with different personal attributes, activities and trips;](#activity-generation-model)\n",
    "3. [Perform Data Visualization and validation. Plot the activity plan, distance and duration of population;](#data-visulazation-and-validation)\n",
    "4. [Export intermediate CSV tables of the population](#readwrite-data)"
   ]
  },
  {
   "cell_type": "code",
   "execution_count": 1,
   "id": "activated-hartford",
   "metadata": {
    "execution": {
     "iopub.execute_input": "2024-04-04T10:40:31.123270Z",
     "iopub.status.busy": "2024-04-04T10:40:31.123270Z",
     "iopub.status.idle": "2024-04-04T10:40:32.124253Z",
     "shell.execute_reply": "2024-04-04T10:40:32.124253Z"
    }
   },
   "outputs": [
    {
     "ename": "ModuleNotFoundError",
     "evalue": "No module named 'pam'",
     "output_type": "error",
     "traceback": [
      "\u001b[1;31m---------------------------------------------------------------------------\u001b[0m",
      "\u001b[1;31mModuleNotFoundError\u001b[0m                       Traceback (most recent call last)",
      "Cell \u001b[1;32mIn[1], line 7\u001b[0m\n\u001b[0;32m      5\u001b[0m \u001b[38;5;28;01mimport\u001b[39;00m \u001b[38;5;21;01mnumpy\u001b[39;00m \u001b[38;5;28;01mas\u001b[39;00m \u001b[38;5;21;01mnp\u001b[39;00m\n\u001b[0;32m      6\u001b[0m \u001b[38;5;28;01mimport\u001b[39;00m \u001b[38;5;21;01mpandas\u001b[39;00m \u001b[38;5;28;01mas\u001b[39;00m \u001b[38;5;21;01mpd\u001b[39;00m\n\u001b[1;32m----> 7\u001b[0m \u001b[38;5;28;01mfrom\u001b[39;00m \u001b[38;5;21;01mpam\u001b[39;00m\u001b[38;5;21;01m.\u001b[39;00m\u001b[38;5;21;01mactivity\u001b[39;00m \u001b[38;5;28;01mimport\u001b[39;00m Activity, Leg\n\u001b[0;32m      8\u001b[0m \u001b[38;5;28;01mfrom\u001b[39;00m \u001b[38;5;21;01mpam\u001b[39;00m\u001b[38;5;21;01m.\u001b[39;00m\u001b[38;5;21;01mcore\u001b[39;00m \u001b[38;5;28;01mimport\u001b[39;00m Household, Person, Population\n\u001b[0;32m      9\u001b[0m \u001b[38;5;28;01mfrom\u001b[39;00m \u001b[38;5;21;01mpam\u001b[39;00m\u001b[38;5;21;01m.\u001b[39;00m\u001b[38;5;21;01mplot\u001b[39;00m\u001b[38;5;21;01m.\u001b[39;00m\u001b[38;5;21;01mstats\u001b[39;00m \u001b[38;5;28;01mimport\u001b[39;00m plot_activity_times\n",
      "\u001b[1;31mModuleNotFoundError\u001b[0m: No module named 'pam'"
     ]
    }
   ],
   "source": [
    "import os\n",
    "\n",
    "import geopandas as gp\n",
    "import matplotlib.pyplot as plt\n",
    "import numpy as np\n",
    "import pandas as pd\n",
    "from pam.activity import Activity, Leg\n",
    "from pam.core import Household, Person, Population\n",
    "from pam.plot.stats import plot_activity_times\n",
    "from pam.read import load_travel_diary\n",
    "from pam.report.benchmarks import distance_counts, duration_counts\n",
    "from pam.samplers import facility\n",
    "from pam.utils import minutes_to_datetime as mtdt\n",
    "from pam.variables import END_OF_DAY\n",
    "from pam.write import to_csv, write_matsim, write_od_matrices\n",
    "\n",
    "%matplotlib inline"
   ]
  },
  {
   "attachments": {},
   "cell_type": "markdown",
   "id": "central-height",
   "metadata": {},
   "source": [
    "## Import geographic data of Londinium"
   ]
  },
  {
   "cell_type": "code",
   "execution_count": 2,
   "id": "apart-phrase",
   "metadata": {
    "execution": {
     "iopub.execute_input": "2023-09-22T10:52:22.418237Z",
     "iopub.status.busy": "2023-09-22T10:52:22.418099Z",
     "iopub.status.idle": "2023-09-22T10:52:22.420411Z",
     "shell.execute_reply": "2023-09-22T10:52:22.420100Z"
    }
   },
   "outputs": [],
   "source": [
    "# Import geographic data of west london area\n",
    "network_bb_path = os.path.join(\"data\", \"network_bounding_box.geojson\")\n",
    "lsoas_path = os.path.join(\"data\", \"lsoas\")  # lsoas: lower layer super output areas"
   ]
  },
  {
   "attachments": {},
   "cell_type": "markdown",
   "id": "870cf793",
   "metadata": {},
   "source": [
    "We will start by plotting Londinium boundary"
   ]
  },
  {
   "cell_type": "code",
   "execution_count": 3,
   "id": "sunrise-trustee",
   "metadata": {
    "execution": {
     "iopub.execute_input": "2023-09-22T10:52:22.421839Z",
     "iopub.status.busy": "2023-09-22T10:52:22.421735Z",
     "iopub.status.idle": "2023-09-22T10:52:22.643669Z",
     "shell.execute_reply": "2023-09-22T10:52:22.643396Z"
    },
    "scrolled": false
   },
   "outputs": [],
   "source": [
    "# Read the file and plot the boundary\n",
    "boundary = gp.read_file(network_bb_path)\n",
    "\n",
    "# Transform to epsg:27700\n",
    "boundary = boundary.to_crs(\"epsg:27700\")\n",
    "boundary.plot()"
   ]
  },
  {
   "attachments": {},
   "cell_type": "markdown",
   "id": "severe-attitude",
   "metadata": {},
   "source": [
    "Next we will plot Londinium outline shown above over a map of London to see where exactly it is located."
   ]
  },
  {
   "cell_type": "code",
   "execution_count": 4,
   "id": "bound-jewel",
   "metadata": {
    "execution": {
     "iopub.execute_input": "2023-09-22T10:52:22.645153Z",
     "iopub.status.busy": "2023-09-22T10:52:22.645054Z",
     "iopub.status.idle": "2023-09-22T10:52:23.321267Z",
     "shell.execute_reply": "2023-09-22T10:52:23.320944Z"
    },
    "scrolled": true
   },
   "outputs": [],
   "source": [
    "# Plot boundary area in lsoas\n",
    "lsoas = gp.read_file(lsoas_path)\n",
    "lsoas.crs = \"EPSG:27700\"\n",
    "print(lsoas.crs)\n",
    "lsoas = lsoas.set_index(\"LSOA_CODE\")\n",
    "\n",
    "fig, ax = plt.subplots(figsize=(10, 10))\n",
    "lsoas.plot(ax=ax)\n",
    "boundary.plot(ax=ax, color=\"red\")"
   ]
  },
  {
   "attachments": {},
   "cell_type": "markdown",
   "id": "90550dd9",
   "metadata": {},
   "source": [
    "Finally, we will plot Londinium with LSOA boundaries included."
   ]
  },
  {
   "cell_type": "code",
   "execution_count": 5,
   "id": "afraid-reverse",
   "metadata": {
    "execution": {
     "iopub.execute_input": "2023-09-22T10:52:23.324042Z",
     "iopub.status.busy": "2023-09-22T10:52:23.323913Z",
     "iopub.status.idle": "2023-09-22T10:52:23.481604Z",
     "shell.execute_reply": "2023-09-22T10:52:23.481290Z"
    }
   },
   "outputs": [],
   "source": [
    "# Overlay the area using geopandas package\n",
    "lsoas_clipped = gp.overlay(lsoas, boundary, how=\"intersection\")\n",
    "lsoas_clipped.plot()"
   ]
  },
  {
   "cell_type": "code",
   "execution_count": 6,
   "id": "embedded-algorithm",
   "metadata": {
    "execution": {
     "iopub.execute_input": "2023-09-22T10:52:23.483189Z",
     "iopub.status.busy": "2023-09-22T10:52:23.483069Z",
     "iopub.status.idle": "2023-09-22T10:52:23.490337Z",
     "shell.execute_reply": "2023-09-22T10:52:23.490040Z"
    },
    "scrolled": true
   },
   "outputs": [],
   "source": [
    "lsoas_clipped.head()"
   ]
  },
  {
   "attachments": {},
   "cell_type": "markdown",
   "id": "31f43f9b",
   "metadata": {},
   "source": [
    "## Facility sampler"
   ]
  },
  {
   "cell_type": "code",
   "execution_count": 7,
   "id": "4746c6da",
   "metadata": {
    "execution": {
     "iopub.execute_input": "2023-09-22T10:52:23.491727Z",
     "iopub.status.busy": "2023-09-22T10:52:23.491624Z",
     "iopub.status.idle": "2023-09-22T10:52:23.623941Z",
     "shell.execute_reply": "2023-09-22T10:52:23.623673Z"
    }
   },
   "outputs": [],
   "source": [
    "facilities_path = \"data/londinium_facilities_sample.geojson\"\n",
    "facilities = gp.read_file(facilities_path)\n",
    "facilities = facilities.rename({\"activities\": \"activity\"}, axis=1)\n",
    "facilities.crs = \"EPSG:27700\"\n",
    "facilities.head()"
   ]
  },
  {
   "attachments": {},
   "cell_type": "markdown",
   "id": "1cc657f2",
   "metadata": {},
   "source": [
    "Start by plotting different facility types, e.g. educational and medical facilities"
   ]
  },
  {
   "cell_type": "code",
   "execution_count": 8,
   "id": "bfe9aa12",
   "metadata": {
    "execution": {
     "iopub.execute_input": "2023-09-22T10:52:23.625377Z",
     "iopub.status.busy": "2023-09-22T10:52:23.625290Z",
     "iopub.status.idle": "2023-09-22T10:52:23.809560Z",
     "shell.execute_reply": "2023-09-22T10:52:23.809258Z"
    }
   },
   "outputs": [],
   "source": [
    "education = facilities[facilities[\"activity\"] == \"education\"]\n",
    "medical = facilities[facilities[\"activity\"] == \"medical\"]\n",
    "\n",
    "fig, (ax1, ax2) = plt.subplots(1, 2, figsize=(12, 12))\n",
    "\n",
    "boundary.plot(ax=ax1, color=\"steelblue\")\n",
    "education.plot(ax=ax1, color=\"orange\", label=\"Educational facilities\")\n",
    "ax1.legend()\n",
    "\n",
    "boundary.plot(ax=ax2, color=\"steelblue\")\n",
    "medical.plot(ax=ax2, color=\"red\", label=\"Medical facilities\")\n",
    "ax2.legend()"
   ]
  },
  {
   "cell_type": "code",
   "execution_count": 9,
   "id": "9f214048",
   "metadata": {
    "execution": {
     "iopub.execute_input": "2023-09-22T10:52:23.811259Z",
     "iopub.status.busy": "2023-09-22T10:52:23.811154Z",
     "iopub.status.idle": "2023-09-22T10:52:23.814326Z",
     "shell.execute_reply": "2023-09-22T10:52:23.814034Z"
    }
   },
   "outputs": [],
   "source": [
    "lsoas_clipped.crs = \"EPSG:27700\"\n",
    "len(lsoas_clipped)"
   ]
  },
  {
   "cell_type": "code",
   "execution_count": 10,
   "id": "dc15d0c4",
   "metadata": {
    "execution": {
     "iopub.execute_input": "2023-09-22T10:52:23.815798Z",
     "iopub.status.busy": "2023-09-22T10:52:23.815716Z",
     "iopub.status.idle": "2023-09-22T10:52:23.822010Z",
     "shell.execute_reply": "2023-09-22T10:52:23.821725Z"
    }
   },
   "outputs": [],
   "source": [
    "lsoas_clipped = lsoas_clipped.set_index(\"LSOA_NAME\")"
   ]
  },
  {
   "cell_type": "code",
   "execution_count": 11,
   "id": "2a63e39a",
   "metadata": {
    "execution": {
     "iopub.execute_input": "2023-09-22T10:52:23.823415Z",
     "iopub.status.busy": "2023-09-22T10:52:23.823322Z",
     "iopub.status.idle": "2023-09-22T10:52:24.304008Z",
     "shell.execute_reply": "2023-09-22T10:52:24.303711Z"
    }
   },
   "outputs": [],
   "source": [
    "# build the sampler\n",
    "facility_sampler = facility.FacilitySampler(\n",
    "    facilities=facilities, zones=lsoas_clipped, build_xml=True, fail=False, random_default=True\n",
    ")"
   ]
  },
  {
   "attachments": {},
   "cell_type": "markdown",
   "id": "legal-cincinnati",
   "metadata": {},
   "source": [
    "## Activity generation model"
   ]
  },
  {
   "cell_type": "code",
   "execution_count": 12,
   "id": "ada2f4d1",
   "metadata": {
    "execution": {
     "iopub.execute_input": "2023-09-22T10:52:24.305529Z",
     "iopub.status.busy": "2023-09-22T10:52:24.305430Z",
     "iopub.status.idle": "2023-09-22T10:52:24.308282Z",
     "shell.execute_reply": "2023-09-22T10:52:24.308030Z"
    }
   },
   "outputs": [],
   "source": [
    "# Create random area sample\n",
    "\n",
    "\n",
    "def random_area_sampler():\n",
    "    indexes = list(lsoas_clipped.index)\n",
    "    return np.random.choice(indexes)\n",
    "\n",
    "\n",
    "random_area_sampler()  # test"
   ]
  },
  {
   "attachments": {},
   "cell_type": "markdown",
   "id": "colonial-booth",
   "metadata": {},
   "source": [
    "- It is a simple home based tours within 24 hours. \n",
    "- We create different activity types: work, leisure, education, shopping, etc. Different transport model types: car, bus, subway, etc. \n",
    "- Random number is assigned to the duration for each activity and transport mode"
   ]
  },
  {
   "cell_type": "code",
   "execution_count": 13,
   "id": "5f4ce58a",
   "metadata": {
    "execution": {
     "iopub.execute_input": "2023-09-22T10:52:24.309592Z",
     "iopub.status.busy": "2023-09-22T10:52:24.309472Z",
     "iopub.status.idle": "2023-09-22T10:52:24.311577Z",
     "shell.execute_reply": "2023-09-22T10:52:24.311269Z"
    }
   },
   "outputs": [],
   "source": [
    "# mapping the MSOA and LAD with index\n",
    "mapping_dict = dict(zip(lsoas_clipped.index, lsoas_clipped.MSOA_CODE))\n",
    "mapping_dict1 = dict(zip(lsoas_clipped.index, lsoas_clipped.LA_NAME))"
   ]
  },
  {
   "cell_type": "code",
   "execution_count": 14,
   "id": "instrumental-double",
   "metadata": {
    "execution": {
     "iopub.execute_input": "2023-09-22T10:52:24.313123Z",
     "iopub.status.busy": "2023-09-22T10:52:24.313004Z",
     "iopub.status.idle": "2023-09-22T10:52:24.319858Z",
     "shell.execute_reply": "2023-09-22T10:52:24.319583Z"
    }
   },
   "outputs": [],
   "source": [
    "# Generate agents in west london area\n",
    "\n",
    "\n",
    "def generate_agents(no_of_agents):\n",
    "    \"\"\"\n",
    "    Randomly create agents with simple home-based tours.\n",
    "    The trip starts from home, has a random number of various acitivites, tranport modes would be added.\n",
    "    The trip finally ends at home.\n",
    "\n",
    "    \"\"\"\n",
    "    population = Population()  # Initialise an empty population\n",
    "\n",
    "    # Create simple personal attributes\n",
    "    income = [\"low\", \"medium\", \"high\"]\n",
    "    gender = [\"male\", \"female\"]\n",
    "    sort_age = [\n",
    "        \"0 to 4\",\n",
    "        \"5 to 10\",\n",
    "        \"11 to 15\",\n",
    "        \"16 to 20\",\n",
    "        \"21 to 25\",\n",
    "        \"26 to 29\",\n",
    "        \"30 to 39\",\n",
    "        \"40 to 49\",\n",
    "        \"50 to 59\",\n",
    "        \"60 to 64\",\n",
    "        \"65 to 69\",\n",
    "        \"70 to 74\",\n",
    "        \"75 to 79\",\n",
    "        \"80 to 84\",\n",
    "        \"85  and over\",\n",
    "    ]\n",
    "\n",
    "    # Create mode and activities\n",
    "    transport = [\"car\", \"bus\", \"ferry\", \"rail\", \"subway\", \"bike\", \"walk\"]\n",
    "    # Removed gym and park due to osmox problem\n",
    "    activity = [\n",
    "        \"leisure\",\n",
    "        \"work\",\n",
    "        \"shop\",\n",
    "        \"medical\",\n",
    "        \"education\",\n",
    "        \"park\",\n",
    "        \"pub\",\n",
    "        \"gym\",\n",
    "    ]  # Primary activity\n",
    "    sub_activity = [\n",
    "        \"shop\",\n",
    "        \"medical\",\n",
    "        \"pub\",\n",
    "        \"gym\",\n",
    "    ]  # People usually spend less time on sub activity\n",
    "\n",
    "    # Add activity plan for each person\n",
    "    for i in range(no_of_agents):\n",
    "        # Create different agents and household\n",
    "        agent_id = f\"agent_{i}\"\n",
    "        hh_id = f\"hh_{i}\"\n",
    "        hh = Household(hh_id, freq=1)\n",
    "\n",
    "        # Adding Activities and Legs alternately to different agents\n",
    "        # Activity 1 - home\n",
    "        leaves_home = (np.random.randint(6, 8) * 60) + np.random.randint(0, 100)  # minutes\n",
    "        location1 = random_area_sampler()\n",
    "        location1_loc = facility_sampler.sample(location1, \"home\")\n",
    "        lsoa_name = mapping_dict.get(location1)\n",
    "        lad_name = mapping_dict1.get(location1)\n",
    "\n",
    "        agent = Person(\n",
    "            agent_id,\n",
    "            freq=1,\n",
    "            attributes={\n",
    "                \"subpopulation\": np.random.choice(income) + \" income\",\n",
    "                \"gender\": np.random.choice(gender),\n",
    "                \"age\": np.random.choice(sort_age),\n",
    "                \"household_zone\": location1,\n",
    "                \"household_LSOA\": lsoa_name,\n",
    "                \"household_LAD\": lad_name,\n",
    "            },\n",
    "        )\n",
    "\n",
    "        hh.add(agent)\n",
    "        population.add(hh)\n",
    "\n",
    "        # Trip duration\n",
    "        trip_duration_main_activity = np.random.randint(3, 6) * 60\n",
    "        trip_duration_sub_activity = np.random.randint(1, 3) * 60\n",
    "\n",
    "        agent.add(\n",
    "            Activity(\n",
    "                seq=1,\n",
    "                act=\"home\",\n",
    "                area=location1,\n",
    "                loc=location1_loc,\n",
    "                start_time=mtdt(0),\n",
    "                end_time=mtdt(leaves_home),\n",
    "            )\n",
    "        )\n",
    "\n",
    "        # Initiated parameters\n",
    "        location_prev = location1\n",
    "        location_prev_loc = location1_loc\n",
    "        leave_time = leaves_home\n",
    "\n",
    "        # Add random numbers of activities\n",
    "        no_of_activities = np.random.randint(1, 5)\n",
    "\n",
    "        for i in range(no_of_activities):\n",
    "            arrives_primary = leave_time + np.random.randint(10, 90)  # minutes\n",
    "\n",
    "            # Activity 2.\n",
    "            if i < 2:  # Start with main activity\n",
    "                random_act = np.random.choice(activity)\n",
    "            else:\n",
    "                random_act = np.random.choice(sub_activity)\n",
    "\n",
    "            if random_act == (\"work\"):\n",
    "                leaves_primary = arrives_primary + trip_duration_main_activity\n",
    "            else:\n",
    "                leaves_primary = arrives_primary + trip_duration_sub_activity\n",
    "\n",
    "            # Outbound leg\n",
    "            location_next = random_area_sampler()\n",
    "            location_next_loc = facility_sampler.sample(location_next, random_act)\n",
    "\n",
    "            agent.add(\n",
    "                Leg(\n",
    "                    seq=i + 1,\n",
    "                    mode=np.random.choice(transport),\n",
    "                    start_area=location_prev,\n",
    "                    start_loc=location_prev_loc,\n",
    "                    end_area=location_next,\n",
    "                    end_loc=location_next_loc,\n",
    "                    start_time=mtdt(leave_time),\n",
    "                    end_time=mtdt(arrives_primary),\n",
    "                )\n",
    "            )\n",
    "\n",
    "            agent.add(\n",
    "                Activity(\n",
    "                    seq=i + 2,\n",
    "                    act=random_act,\n",
    "                    area=location_next,\n",
    "                    loc=location_next_loc,\n",
    "                    start_time=mtdt(arrives_primary),\n",
    "                    end_time=mtdt(leaves_primary),\n",
    "                )\n",
    "            )\n",
    "\n",
    "            # Update parameters\n",
    "            leave_time = leaves_primary\n",
    "            location_prev = location_next\n",
    "            location_prev_loc = location_next_loc\n",
    "\n",
    "        # Inbound leg\n",
    "        arrives_home = leave_time + np.random.randint(10, 90)  # minutes\n",
    "        agent.add(\n",
    "            Leg(\n",
    "                seq=no_of_activities + 1,\n",
    "                mode=np.random.choice(transport),\n",
    "                start_area=location_next,\n",
    "                start_loc=location_next_loc,\n",
    "                end_area=location1,\n",
    "                end_loc=location1_loc,\n",
    "                start_time=mtdt(leave_time),\n",
    "                end_time=mtdt(arrives_home),\n",
    "            )\n",
    "        )\n",
    "\n",
    "        # Activity\n",
    "        agent.add(\n",
    "            Activity(\n",
    "                seq=no_of_activities + 2,\n",
    "                act=\"home\",\n",
    "                area=location1,\n",
    "                loc=location1_loc,\n",
    "                start_time=mtdt(arrives_home),\n",
    "                end_time=END_OF_DAY,\n",
    "            )\n",
    "        )\n",
    "\n",
    "    return population"
   ]
  },
  {
   "cell_type": "code",
   "execution_count": 15,
   "id": "necessary-linux",
   "metadata": {
    "execution": {
     "iopub.execute_input": "2023-09-22T10:52:24.321170Z",
     "iopub.status.busy": "2023-09-22T10:52:24.321078Z",
     "iopub.status.idle": "2023-09-22T10:52:24.359178Z",
     "shell.execute_reply": "2023-09-22T10:52:24.358826Z"
    },
    "scrolled": false
   },
   "outputs": [],
   "source": [
    "# Create 100 agents and check the population statistics\n",
    "population = generate_agents(20)\n",
    "print(population.stats)"
   ]
  },
  {
   "cell_type": "code",
   "execution_count": 16,
   "id": "d0708828",
   "metadata": {
    "execution": {
     "iopub.execute_input": "2023-09-22T10:52:24.360709Z",
     "iopub.status.busy": "2023-09-22T10:52:24.360620Z",
     "iopub.status.idle": "2023-09-22T10:52:24.363048Z",
     "shell.execute_reply": "2023-09-22T10:52:24.362799Z"
    }
   },
   "outputs": [],
   "source": [
    "population.random_person().print()"
   ]
  },
  {
   "cell_type": "code",
   "execution_count": 17,
   "id": "4c41c2af",
   "metadata": {
    "execution": {
     "iopub.execute_input": "2023-09-22T10:52:24.364333Z",
     "iopub.status.busy": "2023-09-22T10:52:24.364245Z",
     "iopub.status.idle": "2023-09-22T10:52:24.366520Z",
     "shell.execute_reply": "2023-09-22T10:52:24.366240Z"
    }
   },
   "outputs": [],
   "source": [
    "population.random_person().attributes"
   ]
  },
  {
   "attachments": {},
   "cell_type": "markdown",
   "id": "celtic-creek",
   "metadata": {},
   "source": [
    "## Data Visulazation and validation"
   ]
  },
  {
   "cell_type": "code",
   "execution_count": 18,
   "id": "shaped-maintenance",
   "metadata": {
    "execution": {
     "iopub.execute_input": "2023-09-22T10:52:24.367841Z",
     "iopub.status.busy": "2023-09-22T10:52:24.367748Z",
     "iopub.status.idle": "2023-09-22T10:52:24.369561Z",
     "shell.execute_reply": "2023-09-22T10:52:24.369321Z"
    }
   },
   "outputs": [],
   "source": [
    "# Validation if it works\n",
    "population.validate()"
   ]
  },
  {
   "cell_type": "code",
   "execution_count": 19,
   "id": "soviet-treat",
   "metadata": {
    "execution": {
     "iopub.execute_input": "2023-09-22T10:52:24.370817Z",
     "iopub.status.busy": "2023-09-22T10:52:24.370727Z",
     "iopub.status.idle": "2023-09-22T10:52:24.376440Z",
     "shell.execute_reply": "2023-09-22T10:52:24.376186Z"
    },
    "scrolled": true
   },
   "outputs": [],
   "source": [
    "# Print random person activity plan\n",
    "population.random_person().print()"
   ]
  },
  {
   "attachments": {},
   "cell_type": "markdown",
   "id": "b6e8f40b",
   "metadata": {},
   "source": [
    "Plot the activities as a 24-hour diary schedules for 5 randomly chosen agents"
   ]
  },
  {
   "cell_type": "code",
   "execution_count": 20,
   "id": "uniform-business",
   "metadata": {
    "execution": {
     "iopub.execute_input": "2023-09-22T10:52:24.377702Z",
     "iopub.status.busy": "2023-09-22T10:52:24.377610Z",
     "iopub.status.idle": "2023-09-22T10:52:24.816097Z",
     "shell.execute_reply": "2023-09-22T10:52:24.815839Z"
    },
    "scrolled": false
   },
   "outputs": [],
   "source": [
    "for _i in range(5):\n",
    "    p = population.random_person()\n",
    "    p.plot()"
   ]
  },
  {
   "attachments": {},
   "cell_type": "markdown",
   "id": "a484345c",
   "metadata": {},
   "source": [
    "Plot the frequency with which each of the activity types happens throughout the 24-hour period."
   ]
  },
  {
   "cell_type": "code",
   "execution_count": 21,
   "id": "worldwide-halloween",
   "metadata": {
    "execution": {
     "iopub.execute_input": "2023-09-22T10:52:24.817628Z",
     "iopub.status.busy": "2023-09-22T10:52:24.817499Z",
     "iopub.status.idle": "2023-09-22T10:52:25.310757Z",
     "shell.execute_reply": "2023-09-22T10:52:25.310471Z"
    },
    "scrolled": false
   },
   "outputs": [],
   "source": [
    "fig = plot_activity_times(population)"
   ]
  },
  {
   "cell_type": "code",
   "execution_count": 22,
   "id": "adopted-knight",
   "metadata": {
    "execution": {
     "iopub.execute_input": "2023-09-22T10:52:25.312370Z",
     "iopub.status.busy": "2023-09-22T10:52:25.312266Z",
     "iopub.status.idle": "2023-09-22T10:52:25.336856Z",
     "shell.execute_reply": "2023-09-22T10:52:25.336590Z"
    }
   },
   "outputs": [],
   "source": [
    "# Check the duration of trips\n",
    "durations = duration_counts(population)\n",
    "durations"
   ]
  },
  {
   "attachments": {},
   "cell_type": "markdown",
   "id": "70c48fe7",
   "metadata": {},
   "source": [
    "Now plot a histogram for duration of the trips."
   ]
  },
  {
   "cell_type": "code",
   "execution_count": 23,
   "id": "grave-holly",
   "metadata": {
    "execution": {
     "iopub.execute_input": "2023-09-22T10:52:25.338201Z",
     "iopub.status.busy": "2023-09-22T10:52:25.338128Z",
     "iopub.status.idle": "2023-09-22T10:52:25.401793Z",
     "shell.execute_reply": "2023-09-22T10:52:25.401523Z"
    }
   },
   "outputs": [],
   "source": [
    "plt.barh(durations[\"duration\"], durations[\"trips\"])\n",
    "plt.xlabel(\"Counts\")\n",
    "plt.ylabel(\"Duration for trips\")\n",
    "plt.title(\"Duration for different trips\")\n",
    "plt.ylim(ymax=\"90 to 120 min\")"
   ]
  },
  {
   "cell_type": "code",
   "execution_count": 24,
   "id": "mature-miami",
   "metadata": {
    "execution": {
     "iopub.execute_input": "2023-09-22T10:52:25.403193Z",
     "iopub.status.busy": "2023-09-22T10:52:25.403099Z",
     "iopub.status.idle": "2023-09-22T10:52:25.414246Z",
     "shell.execute_reply": "2023-09-22T10:52:25.413999Z"
    },
    "scrolled": true
   },
   "outputs": [],
   "source": [
    "# Check the distance of trips\n",
    "distances = distance_counts(population)\n",
    "distances"
   ]
  },
  {
   "attachments": {},
   "cell_type": "markdown",
   "id": "0623f6de",
   "metadata": {},
   "source": [
    "Next we plot the distribution of trip distances."
   ]
  },
  {
   "cell_type": "code",
   "execution_count": 25,
   "id": "agricultural-transport",
   "metadata": {
    "execution": {
     "iopub.execute_input": "2023-09-22T10:52:25.415691Z",
     "iopub.status.busy": "2023-09-22T10:52:25.415589Z",
     "iopub.status.idle": "2023-09-22T10:52:25.475283Z",
     "shell.execute_reply": "2023-09-22T10:52:25.474945Z"
    },
    "scrolled": false
   },
   "outputs": [],
   "source": [
    "plt.barh(distances[\"distance\"], distances[\"trips\"])\n",
    "plt.xlabel(\"Counts\")\n",
    "plt.ylabel(\"distance, km\")\n",
    "plt.title(\"distance for different trips\")\n",
    "plt.ylim(ymax=\"25 to 50 km\")"
   ]
  },
  {
   "attachments": {},
   "cell_type": "markdown",
   "id": "e91dad60",
   "metadata": {},
   "source": [
    "## Read/write data"
   ]
  },
  {
   "attachments": {},
   "cell_type": "markdown",
   "id": "straight-elizabeth",
   "metadata": {},
   "source": [
    "### Export intermediate CSV tables of population"
   ]
  },
  {
   "cell_type": "code",
   "execution_count": 26,
   "id": "outstanding-range",
   "metadata": {
    "execution": {
     "iopub.execute_input": "2023-09-22T10:52:25.476823Z",
     "iopub.status.busy": "2023-09-22T10:52:25.476729Z",
     "iopub.status.idle": "2023-09-22T10:52:25.559469Z",
     "shell.execute_reply": "2023-09-22T10:52:25.559163Z"
    },
    "scrolled": true
   },
   "outputs": [],
   "source": [
    "to_csv(population, dir=\"outputs\", crs=\"epsg:27700\")"
   ]
  },
  {
   "attachments": {},
   "cell_type": "markdown",
   "id": "b2789ef6",
   "metadata": {},
   "source": [
    "Plot the distribution of activities by type"
   ]
  },
  {
   "cell_type": "code",
   "execution_count": 27,
   "id": "straight-horse",
   "metadata": {
    "execution": {
     "iopub.execute_input": "2023-09-22T10:52:25.561071Z",
     "iopub.status.busy": "2023-09-22T10:52:25.560986Z",
     "iopub.status.idle": "2023-09-22T10:52:25.634190Z",
     "shell.execute_reply": "2023-09-22T10:52:25.633852Z"
    }
   },
   "outputs": [],
   "source": [
    "df_activity = pd.read_csv(os.path.join(\"outputs\", \"activities.csv\"))\n",
    "totals = df_activity.activity.value_counts()\n",
    "plt.barh(totals.index, totals)\n",
    "plt.title(\"activities count\")"
   ]
  },
  {
   "cell_type": "code",
   "execution_count": 28,
   "id": "b078da97",
   "metadata": {
    "execution": {
     "iopub.execute_input": "2023-09-22T10:52:25.635847Z",
     "iopub.status.busy": "2023-09-22T10:52:25.635720Z",
     "iopub.status.idle": "2023-09-22T10:52:25.669107Z",
     "shell.execute_reply": "2023-09-22T10:52:25.668818Z"
    }
   },
   "outputs": [],
   "source": [
    "write_od_matrices(population, path=\"outputs\")\n",
    "od_matrices = pd.read_csv(\n",
    "    os.path.join(\"outputs\", \"total_od.csv\")\n",
    ")  # we should change this method to be consistent with other - ie return a dataframe\n",
    "od_matrices[\"total origins\"] = od_matrices.drop(\"Origin\", axis=1).sum(axis=1)\n",
    "od_matrices"
   ]
  },
  {
   "attachments": {},
   "cell_type": "markdown",
   "id": "5c74cdb1",
   "metadata": {},
   "source": [
    "Plot the number of trips originating from each LSOA"
   ]
  },
  {
   "cell_type": "code",
   "execution_count": 29,
   "id": "adequate-terry",
   "metadata": {
    "execution": {
     "iopub.execute_input": "2023-09-22T10:52:25.670534Z",
     "iopub.status.busy": "2023-09-22T10:52:25.670437Z",
     "iopub.status.idle": "2023-09-22T10:52:25.819128Z",
     "shell.execute_reply": "2023-09-22T10:52:25.818845Z"
    }
   },
   "outputs": [],
   "source": [
    "lsoas_clipped = lsoas_clipped.reset_index()\n",
    "origins_heat_map = lsoas_clipped.join(od_matrices[\"total origins\"])\n",
    "\n",
    "fig, ax = plt.subplots(figsize=(18, 10))\n",
    "origins_heat_map.plot(\"total origins\", legend=True, ax=ax)\n",
    "ax.set_title(\"Total Origins\")"
   ]
  },
  {
   "attachments": {},
   "cell_type": "markdown",
   "id": "ed2fe824",
   "metadata": {},
   "source": [
    "### Reload Tabular Data\n",
    "\n",
    "We load in the csv files we previously wrote to disk. This replicates a simple synthesis process we might typically use for travel diary survey data."
   ]
  },
  {
   "cell_type": "code",
   "execution_count": 30,
   "id": "c2c64d5c",
   "metadata": {
    "execution": {
     "iopub.execute_input": "2023-09-22T10:52:25.820775Z",
     "iopub.status.busy": "2023-09-22T10:52:25.820670Z",
     "iopub.status.idle": "2023-09-22T10:52:25.829813Z",
     "shell.execute_reply": "2023-09-22T10:52:25.829471Z"
    }
   },
   "outputs": [],
   "source": [
    "people = pd.read_csv(os.path.join(\"outputs\", \"people.csv\")).set_index(\"pid\")\n",
    "hhs = pd.read_csv(os.path.join(\"outputs\", \"households.csv\")).set_index(\"hid\")\n",
    "trips = pd.read_csv(os.path.join(\"outputs\", \"legs.csv\")).drop([\"Unnamed: 0\"], axis=1)\n",
    "\n",
    "trips = trips.rename(columns={\"origin activity\": \"oact\", \"destination activity\": \"dact\"})\n",
    "trips.head()"
   ]
  },
  {
   "cell_type": "code",
   "execution_count": 31,
   "id": "32068fa4",
   "metadata": {
    "execution": {
     "iopub.execute_input": "2023-09-22T10:52:25.831137Z",
     "iopub.status.busy": "2023-09-22T10:52:25.831043Z",
     "iopub.status.idle": "2023-09-22T10:52:25.847345Z",
     "shell.execute_reply": "2023-09-22T10:52:25.847059Z"
    }
   },
   "outputs": [],
   "source": [
    "population_reloaded = load_travel_diary(trips=trips, persons_attributes=people, hhs_attributes=hhs)"
   ]
  },
  {
   "attachments": {},
   "cell_type": "markdown",
   "id": "0e027885",
   "metadata": {},
   "source": [
    "Plot the activities as a 24-hour diary schedules"
   ]
  },
  {
   "cell_type": "code",
   "execution_count": 32,
   "id": "b5eb31f6",
   "metadata": {
    "execution": {
     "iopub.execute_input": "2023-09-22T10:52:25.848910Z",
     "iopub.status.busy": "2023-09-22T10:52:25.848832Z",
     "iopub.status.idle": "2023-09-22T10:52:25.942903Z",
     "shell.execute_reply": "2023-09-22T10:52:25.942632Z"
    }
   },
   "outputs": [],
   "source": [
    "population[\"hh_0\"][\"agent_0\"].plot()"
   ]
  },
  {
   "cell_type": "code",
   "execution_count": 33,
   "id": "653fda76",
   "metadata": {
    "execution": {
     "iopub.execute_input": "2023-09-22T10:52:25.944508Z",
     "iopub.status.busy": "2023-09-22T10:52:25.944394Z",
     "iopub.status.idle": "2023-09-22T10:52:26.042122Z",
     "shell.execute_reply": "2023-09-22T10:52:26.041849Z"
    }
   },
   "outputs": [],
   "source": [
    "population_reloaded[\"hh_0\"][\"agent_0\"].plot()"
   ]
  },
  {
   "cell_type": "code",
   "execution_count": 34,
   "id": "93a1c3a0",
   "metadata": {
    "execution": {
     "iopub.execute_input": "2023-09-22T10:52:26.043693Z",
     "iopub.status.busy": "2023-09-22T10:52:26.043581Z",
     "iopub.status.idle": "2023-09-22T10:52:26.046012Z",
     "shell.execute_reply": "2023-09-22T10:52:26.045743Z"
    }
   },
   "outputs": [],
   "source": [
    "population == population_reloaded"
   ]
  },
  {
   "attachments": {},
   "cell_type": "markdown",
   "id": "9490cf24",
   "metadata": {},
   "source": [
    "The populations are not the same because the csv files did not preserve the coordinates that we previously sampled, so we will sample them again. But the reloaded population will be different as for each location a new coordinate is sampled."
   ]
  },
  {
   "attachments": {},
   "cell_type": "markdown",
   "id": "34092c99",
   "metadata": {},
   "source": [
    "### Write output to MATSim xml"
   ]
  },
  {
   "cell_type": "code",
   "execution_count": 35,
   "id": "84341a57",
   "metadata": {
    "execution": {
     "iopub.execute_input": "2023-09-22T10:52:26.047629Z",
     "iopub.status.busy": "2023-09-22T10:52:26.047396Z",
     "iopub.status.idle": "2023-09-22T10:52:26.063715Z",
     "shell.execute_reply": "2023-09-22T10:52:26.063382Z"
    }
   },
   "outputs": [],
   "source": [
    "write_matsim(population=population, plans_path=os.path.join(\"outputs\", \"population.xml\"))"
   ]
  }
 ],
 "metadata": {
  "kernelspec": {
   "display_name": "pam",
   "language": "python",
   "name": "pam"
  },
  "language_info": {
   "codemirror_mode": {
    "name": "ipython",
    "version": 3
   },
   "file_extension": ".py",
   "mimetype": "text/x-python",
   "name": "python",
   "nbconvert_exporter": "python",
   "pygments_lexer": "ipython3",
   "version": "3.11.8"
  },
  "vscode": {
   "interpreter": {
    "hash": "c2a90f01ee7329c0dc072323d04ab57047490a620cb7d1fe86527d3a3edaf28c"
   }
  }
 },
 "nbformat": 4,
 "nbformat_minor": 5
}
