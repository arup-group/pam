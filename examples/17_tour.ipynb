{
 "cells": [
  {
   "cell_type": "markdown",
   "id": "55319cc0",
   "metadata": {},
   "source": [
    "## Introduction\n",
    "\n",
    "This notebook simulates freight trips and generates a freight population file. In this notebook, we assume LGVs represent last-mile deliveries to customers. We do not assume LGVs are used for other purposes such as construction, maintenance, or other purposes that require an LGV. We may want to revisit subpopulations for LGVs that have different behaviours.\n",
    "\n",
    "The methodology follows the below steps: <br>\n",
    "Estimate # of LGVs per hour **->** Assign # of Stops **->** Decide Location & Sequence of Stops **->** Determine Trip & Stop Duration\n",
    "\n",
    "The following steps are undertaken:\n",
    "\n",
    "1. Read, process, and plot data.\n",
    "2. Input Assumptions\n",
    "3. Create Samplers\n",
    "4. Create Activity Model & Population\n",
    "5. Validation"
   ]
  },
  {
   "cell_type": "code",
   "execution_count": null,
   "id": "af308ae4",
   "metadata": {},
   "outputs": [],
   "source": [
    "import pandas as pd\n",
    "import geopandas as gp\n",
    "from copy import deepcopy\n",
    "import matplotlib\n",
    "from matplotlib import pyplot as plt\n",
    "import random\n",
    "from datetime import date\n",
    "import numpy as np\n",
    "from shapely.geometry import Point, Polygon\n",
    "import os\n",
    "\n",
    "\n",
    "import pam\n",
    "from pam.core import Population, Household, Person\n",
    "from pam import read\n",
    "from pam.plot.stats import plot_activity_times, plot_leg_times\n",
    "\n",
    "import pam.samplers\n",
    "from pam.samplers.basic import freq_sample\n",
    "from pam.samplers.spatial import RandomPointSampler\n",
    "from pam.samplers.facility import FacilitySampler\n",
    "from pam.samplers import facility\n",
    "from pam.samplers import tour\n",
    "\n",
    "from pam import write\n",
    "#from pam.activity import Plan, Activity, Leg\n",
    "from pam.utils import minutes_to_datetime as mtdt\n",
    "from pam.variables import END_OF_DAY\n",
    "from pam.write import write_matsim, write_od_matrices, write_duration_benchmark, write_distance_benchmark, to_csv\n",
    "\n",
    "# import warnings\n",
    "# warnings.filterwarnings('ignore')\n",
    "\n",
    "matplotlib.style.use('ggplot')"
   ]
  },
  {
   "cell_type": "markdown",
   "id": "verified-psychology",
   "metadata": {},
   "source": [
    "We keep a data register on S3. The data register is a csv file with information on each file input, such as:\n",
    "\n",
    "    - a short description of each file,\n",
    "    - the data source,\n",
    "    - the path to the file on S3,\n",
    "    - date created/updated,\n",
    "    - a recommended variable name to be used in analysis\n",
    "    - etc\n"
   ]
  },
  {
   "cell_type": "code",
   "execution_count": null,
   "id": "6c96a2f8",
   "metadata": {},
   "outputs": [],
   "source": [
    "output_path = '../outputs'"
   ]
  },
  {
   "cell_type": "markdown",
   "id": "42961870",
   "metadata": {},
   "source": [
    "## 1. Read, process, plot Data\n",
    "Loading in necessary from data register. In this case, zones and freight facility data."
   ]
  },
  {
   "cell_type": "code",
   "execution_count": null,
   "id": "formal-rider",
   "metadata": {
    "ExecuteTime": {
     "end_time": "2022-02-04T22:50:40.177572Z",
     "start_time": "2022-02-04T22:50:36.978372Z"
    }
   },
   "outputs": [],
   "source": [
    "zones = gp.read_file('./data/example_data/hk_zones.geojson')\n",
    "# we need to convert zones to a \"m\" grid crs such that can measure things in metres in matsim later\n",
    "zones.to_crs(\"EPSG:2326\", inplace=True)\n",
    "\n",
    "# check consistency of zone encodings\n",
    "zone_encodings = set(zones.NAME)\n",
    "\n",
    "# ASSUMING this can be fixed as follows\n",
    "\n",
    "class PartialDict(dict):\n",
    "    def __missing__(self, key):\n",
    "        return key\n",
    "\n",
    "    \n",
    "zone_mapping = PartialDict({\n",
    "    'Fanling / Sheung Shui': 'Fanling / Shatin',\n",
    "    'Yau Ma Tei': 'Yau Tsim'\n",
    "})\n",
    "\n",
    "zone_encodings = set(zones.NAME)\n",
    "zones.set_index(\"NAME\", inplace=True)\n",
    "zones = zones.reset_index()\n",
    "\n",
    "zones.plot()\n",
    "plt.show()"
   ]
  },
  {
   "cell_type": "code",
   "execution_count": null,
   "id": "54c86d4a",
   "metadata": {},
   "outputs": [],
   "source": [
    "# load facilities\n",
    "facilities = gp.read_file('./data/example_data/hk_facilities_epsg_4326.geojson')\n",
    "facilities.to_crs(\"EPSG:2326\", inplace=True)\n",
    "facilities.crs\n"
   ]
  },
  {
   "cell_type": "code",
   "execution_count": null,
   "id": "0b6b02f3",
   "metadata": {},
   "outputs": [],
   "source": [
    "# Plot delivery locations (gainsboro) and depots (red). Note that some of the depot and delivery facilities are beyond the boundaries of our zones data.\n",
    "fig, ax = plt.subplots()\n",
    "zones.plot(ax=ax)\n",
    "facilities[facilities['activity']=='depot'].plot(ax=ax, markersize=0.5, color='red')\n",
    "facilities[facilities['activity']=='delivery'].plot(ax=ax, markersize=0.5, color='gainsboro')\n",
    "plt.show()\n"
   ]
  },
  {
   "cell_type": "code",
   "execution_count": null,
   "id": "1b49c56e",
   "metadata": {},
   "outputs": [],
   "source": [
    "facility_sampler = FacilitySampler(\n",
    "    facilities=facilities,\n",
    "    zones=zones,\n",
    "    build_xml=True,\n",
    "    fail=False,\n",
    "    random_default=True\n",
    ")\n",
    "\n",
    "facility_sampler.activities"
   ]
  },
  {
   "cell_type": "code",
   "execution_count": null,
   "id": "18d66705",
   "metadata": {},
   "outputs": [],
   "source": [
    "def plot_facility(zone_idx, activity):\n",
    "    \n",
    "    fig, ax = plt.subplots(figsize=(8,8))\n",
    "    zones.plot(ax=ax)\n",
    "    zones.loc[[zone_idx]].plot(color='red', ax=ax)\n",
    "    \n",
    "    facility_sampler.clear()\n",
    "    point = facility_sampler.sample(zone_idx, activity)\n",
    "    ax.scatter(point.x, point.y, color='black')\n",
    "    plt.show()\n",
    "    \n",
    "plot_facility(random.choice(zones.FID), 'depot')"
   ]
  },
  {
   "cell_type": "markdown",
   "id": "3b843fc1",
   "metadata": {},
   "source": [
    "## 2. Input Assumptions\n",
    "\n",
    "We create assumptions for the below six assumptions. The number of stops, first delivery of the day, and stop location all use a random sampler weighted on frequency.\n",
    "\n",
    "1. **Number of Stops** <br>\n",
    "    We've created a distribution based on this [research](https://ieeexplore.ieee.org/stamp/stamp.jsp?arnumber=8569747&casa_token=RMr4Ks4RW4cAAAAA:deDYHpQBROY5lgm1qq8swaGhUfCandFV3dKr4Xpn-CghIHQ8Po-COmcm4NvvFKuUhGNJ7o0&tag=1). However, we need to validate with other datasets to determine if it is possible for deliveries to have 1 or 2 stops. The current assumption is a delivery has a minimum of 3 stops.\n",
    "\n",
    "2. **Freight Tours & Delivery Time of Day** <br>\n",
    "    Sourced from HK team [link](https://arup.sharepoint.com/:x:/s/IIA24236/EdHNl457U6pNrSD2d2k6HQUBYJwzmlPLkqoYXbApCpyO7w?e=R0X0tE), defined as Goods Vans that are not HGV or MGV.\n",
    "\n",
    "    For time of day, we combine data from HK Traffic Flow Census Data [link](https://data.gov.hk/en-data/dataset/hk-td-tis_7-traffic-flow-census/resource/ef0f18ee-8ad4-4a4f-bf74-602c93a4e1f7) and the number of LGV Tours. Currently utilising Hong Kong Internal Cordon data as a reference. The LGV proporition is calculated [here](https://arup.sharepoint.com/:x:/s/IIA24236/EUGvbQ7q7StIi0DT6owCYFwBnKuUvo6zVHE-e8kP3_o70w?e=xDfnx0).\n",
    "\n",
    "\n",
    "3. **Input Demand & Constraints** <br>\n",
    "    Input demand is the density of depot origins and delivery destinations. Constraints are the distance between zones, expressed by an origin/destination dataframe."
   ]
  },
  {
   "cell_type": "markdown",
   "id": "ec797e8b",
   "metadata": {},
   "source": [
    "#### 1. Number of Stops & Stop Sampler\n",
    "Build a Stop Number distribution and corresponding sampler."
   ]
  },
  {
   "cell_type": "code",
   "execution_count": null,
   "id": "f4cdad47",
   "metadata": {},
   "outputs": [],
   "source": [
    "# Create Stop Distribution\n",
    "bins = range(3,12)\n",
    "pivots = {3: 36.0, 4: 28.0, 5: 15.0, 6: 7.0, 7: 4.0, 8: 2.5, 9: 2.5, 10: 1.0, 11: 4.0}\n",
    "stops_dist = tour.CreateDistribution().build_distribution(bins=bins, pivots=pivots)\n",
    "tour.CreateDistribution().plot_distribution(stops_dist, 'Stops Distribution', 'Stops', 'Frequency')"
   ]
  },
  {
   "cell_type": "code",
   "execution_count": null,
   "id": "8cc14a38",
   "metadata": {},
   "outputs": [],
   "source": [
    "# Sample Number of stops\n",
    "stop_sampler = tour.FrequencySampler(list(stops_dist.keys()), list(stops_dist.values()))\n",
    "stop_sampler.sample()"
   ]
  },
  {
   "cell_type": "markdown",
   "id": "65968ad4",
   "metadata": {},
   "source": [
    "#### 2. Freight Tours & Distribution\n",
    "The number of freight tours is derived from the HK Goods Van matrix data.\n",
    "The distribution of freight trips per hour is based on the HK Census counter data. However, there is not counting data from 11pm to 7am (overnight). Therefore, a simple linear model is applied for those hours via the CreateDistribution object."
   ]
  },
  {
   "cell_type": "code",
   "execution_count": null,
   "id": "79d2f626",
   "metadata": {},
   "outputs": [],
   "source": [
    "# Set up freight params for both LGV and hgv movements\n",
    "\n",
    "lgv_params = {'total':526945,\n",
    "              'pivots': {7: 13.8, 8 :8.7, 9: 13.1, 10: 15.6, 11: 18.1, 12: 13.4, 13: 15.3, 14: 16, 15: 14.3, 16: 12.9, 17: 8.8, 18: 4.8, 19: 3.3, 20: 3.3, 21: 3, 22: 2.2},\n",
    "              'agent_id': 'LGV',\n",
    "              'agent_attributes': 'lgv'\n",
    "              }\n",
    "\n",
    "hgv_params = {'total':258541,\n",
    "              'pivots': {7: 2.2, 8: 1.5, 9: 1.7, 10: 1.9, 11: 1.6, 12: 1.6, 13: 2.2, 14: 1.7, 15: 1.6, 16: 1.3, 17: 0.5, 18: 0.4, 19: 0.5, 20: 0.8, 21: 0.8, 22: 0.9},\n",
    "              'agent_id': 'HGV',\n",
    "              'agent_attributes': 'hgv'\n",
    "              }"
   ]
  },
  {
   "cell_type": "code",
   "execution_count": null,
   "id": "0e03fde2",
   "metadata": {},
   "outputs": [],
   "source": [
    "# We choose to create a population for LGV.\n",
    "freight_params = lgv_params.copy()"
   ]
  },
  {
   "cell_type": "code",
   "execution_count": null,
   "id": "0211003f",
   "metadata": {},
   "outputs": [],
   "source": [
    "# Create LGV Distribution\n",
    "bins = range(0,24)\n",
    "\n",
    "freight_dist = tour.CreateDistribution().build_distribution(bins=bins, pivots=freight_params['pivots'], total=freight_params['total'])\n",
    "tour.CreateDistribution().plot_distribution(freight_dist, f\"{freight_params['agent_id']} Distribution\", 'Hour', 'Frequency')"
   ]
  },
  {
   "cell_type": "markdown",
   "id": "99942a5e",
   "metadata": {},
   "source": [
    "#### 3. Input Demand & Constraints\n",
    "Calculate the density of depots and deliveries across all zones. Merge this with the zones table to obtain the geometry and calculate the distance between each zone."
   ]
  },
  {
   "cell_type": "code",
   "execution_count": null,
   "id": "14127946",
   "metadata": {},
   "outputs": [],
   "source": [
    "# Input Demand, in this case defined as facility density location\n",
    "depot_density, delivery_density = tour.InputDemand().facility_density(facilities=facilities,\n",
    "                                                                      zones=zones,\n",
    "                                                                      zone_id='FID',\n",
    "                                                                      o_activity='depot',\n",
    "                                                                      d_activity='delivery')\n",
    "\n",
    "# Constraint, defined as distance between origin and destination centroids                                                                    \n",
    "df_origin, df_destination, df_od = tour.InputDemand().od_distance(zones=zones)\n",
    "df_od.head()"
   ]
  },
  {
   "cell_type": "markdown",
   "id": "63efd7db",
   "metadata": {},
   "source": [
    "## 3. Samplers"
   ]
  },
  {
   "cell_type": "code",
   "execution_count": null,
   "id": "01b8e3cd",
   "metadata": {},
   "outputs": [],
   "source": [
    "# test sampling an hour from this distribution\n",
    "hour_sampler = tour.FrequencySampler(list(freight_dist.keys()), list(freight_dist.values()))\n",
    "hour_sampler.sample()"
   ]
  },
  {
   "cell_type": "code",
   "execution_count": null,
   "id": "0a5594a5",
   "metadata": {},
   "outputs": [],
   "source": [
    "# test same a minute\n",
    "minute_sampler = tour.FrequencySampler(range(60))\n",
    "minute_sampler.sample()"
   ]
  },
  {
   "cell_type": "code",
   "execution_count": null,
   "id": "a5972390",
   "metadata": {},
   "outputs": [],
   "source": [
    "# Sample Number of stops\n",
    "stop_sampler = tour.FrequencySampler(list(stops_dist.keys()), list(stops_dist.values()))\n",
    "stop_sampler.sample()"
   ]
  },
  {
   "cell_type": "code",
   "execution_count": null,
   "id": "eb940009",
   "metadata": {},
   "outputs": [],
   "source": [
    "# Sample origin based on density table\n",
    "ozone_sampler = tour.FrequencySampler(list(depot_density['FID']), list(depot_density['density']))\n",
    "ozone_sampler.sample()"
   ]
  },
  {
   "cell_type": "markdown",
   "id": "b57658f3",
   "metadata": {},
   "source": [
    "## 4. Activity Modeller\n",
    "\n",
    "Assumptions and samplers are applied to build a population of activity plans.\n",
    "\n",
    "Key assumptions of note:\n",
    "\n",
    "- we take total demand from the hourly distribution and divide by 2 - this assumes a reciprocating return trip\n",
    "- we create 2 activity types: depot and delivery\n",
    "- we model depot departure time by sampling from hourly demand\n",
    "- if a delivery end is estimated to go beyond 24 hours, we have the driver return to the depot instead.\n",
    "\n",
    "Activities are encoded as \"car\". Subpopulation is encoded as \"lgv\" or \"hgv\".\n",
    "\n",
    "A plan is modelled by the following functions:\n",
    "- tour_activity: Adds the activity of a new delivery\n",
    "- tour_leg: Adds the leg of travel to the new delivery\n",
    "- return_depot: combines the two above to return from the last delivery to the origin depot"
   ]
  },
  {
   "cell_type": "markdown",
   "id": "3a57be59",
   "metadata": {},
   "source": [
    "### Population Parameters"
   ]
  },
  {
   "cell_type": "code",
   "execution_count": null,
   "id": "265b847d",
   "metadata": {},
   "outputs": [],
   "source": [
    "#Factor to scale trips (To better match validation counts when needed)\n",
    "factor = 1 #0.70\n",
    "\n",
    "#List\n",
    "#samples = [0.0001]\n",
    "samples = [0.01]\n",
    "#samples = [0.10]\n",
    "\n",
    "# Set Distance threshold, in this case arbitrarily set to median distance of od dataframe.\n",
    "dist_threshold = df_od.distance.median()\n",
    "\n",
    "# Set activity parameters\n",
    "speed = 40000/3600 # 50km/hr\n",
    "maxi = 3600\n",
    "mini = 600\n",
    "\n",
    "\n",
    "# #create export directory if it doesn't exist\n",
    "# if os.path.isdir(output_path)==False:\n",
    "#     os.mkdir(output_path)"
   ]
  },
  {
   "cell_type": "code",
   "execution_count": null,
   "id": "ada19423",
   "metadata": {},
   "outputs": [],
   "source": [
    "# used for fnames\n",
    "today = date.today().strftime('%d%b%y')\n",
    "today"
   ]
  },
  {
   "cell_type": "code",
   "execution_count": null,
   "id": "3cbafcef",
   "metadata": {},
   "outputs": [],
   "source": [
    "#### Sample Agents\n",
    "# Considered bundling this into the tour script, but decided too many variables would need to be passed. This felt like over-engineering.\n",
    "def sample_agents(size):\n",
    "    \n",
    "    facility_sampler.clear()\n",
    "    population = Population()\n",
    "    \n",
    "    # make below into an LGV/HGV function: freight_sampler.\n",
    "    for i in range(size):\n",
    "\n",
    "        agent_id = f\"{freight_params['agent_id']}_{i}\"\n",
    "\n",
    "        # have to add hh to keep pam happy even though makes no sense in this case\n",
    "        # might try to abstract this away in future\n",
    "        hh = Household(agent_id)\n",
    "        \n",
    "        agent = Person(\n",
    "            agent_id,\n",
    "            attributes={\n",
    "                'subpopulation': freight_params['agent_attributes'],\n",
    "                'CarType': freight_params['agent_attributes'],\n",
    "                'CarCO2': freight_params['agent_attributes']\n",
    "            }\n",
    "        )\n",
    "        \n",
    "        hh.add(agent)\n",
    "        population.add(hh)\n",
    "\n",
    "        hour = hour_sampler.sample()\n",
    "        minute = minute_sampler.sample()\n",
    "\n",
    "        o_zone = random.choice(zones.FID)\n",
    "        o_loc = facility_sampler.sample(o_zone, 'depot')\n",
    "\n",
    "        if freight_params['agent_id']=='LGV':\n",
    "            stops = stop_sampler.sample()\n",
    "        else:\n",
    "            stops = 1\n",
    "\n",
    "        d_zone, d_loc = tour.TourSequence().stop_sequence(stops=stops,\n",
    "                                                          d_density=delivery_density, \n",
    "                                                          o_zone=o_zone, \n",
    "                                                          df_od=df_od, \n",
    "                                                          dist_threshold=dist_threshold, \n",
    "                                                          dist_id='distance', \n",
    "                                                          zone_id='FID',\n",
    "                                                          facility_sampler=facility_sampler,\n",
    "                                                          o_loc=o_loc,\n",
    "                                                          d_activity='delivery')\n",
    "\n",
    "        time_params = {'hour':hour, 'minute':minute}\n",
    "        end_tm = tour.TourPlan().tour_activity(agent=agent, k=1, zone=o_zone, loc=o_loc, activity_type='depot', time_params=time_params)\n",
    "\n",
    "        # Build a Tour Plan utilising ActivityDuration and TourPlan objects.\n",
    "\n",
    "        for k in range(stops):\n",
    "            # Currently, we assume stop duration ranges from 10 minutes, 100% of the journey time, or 60 minutes.\n",
    "            stop_duration, start_tm, end_tm = tour.ActivityDuration().activity_duration(o_loc, d_loc[k], end_tm, speed, maxi, mini)\n",
    "            if mtdt(end_tm) > END_OF_DAY:\n",
    "                #print(f'End of Day Agent {agent}, return to depot')\n",
    "                break\n",
    "            elif k == 0:\n",
    "                end_tm = tour.TourPlan().tour_leg(agent=agent, k=k, o_zone=o_zone, o_loc=o_loc, d_zone=d_zone, d_loc=d_loc[k], start_tm=start_tm, end_tm=end_tm)\n",
    "\n",
    "                time_params = {'end_tm':end_tm, 'stop_duration':stop_duration}\n",
    "                end_tm = tour.TourPlan().tour_activity(agent=agent, k=k, zone=d_zone, loc=d_loc[k], activity_type='delivery', time_params=time_params)\n",
    "            else: \n",
    "                end_tm = tour.TourPlan().tour_leg(agent=agent, k=k, o_zone=d_zone, o_loc=d_loc[k-1], d_zone=d_zone, d_loc=d_loc[k], start_tm=start_tm, end_tm=end_tm)\n",
    "\n",
    "                time_params = {'end_tm':end_tm, 'stop_duration':stop_duration}\n",
    "                end_tm = tour.TourPlan().tour_activity(agent=agent, k=k, zone=d_zone, loc=d_loc[k], activity_type='delivery', time_params=time_params)\n",
    "        \n",
    "        end_tm = tour.TourPlan().return_depot(agent=agent, k=stops, o_zone=o_zone, o_loc=o_loc, d_zone=d_zone, d_loc=d_loc[stops-1], end_tm=end_tm, speed=speed)\n",
    "        \n",
    "    return population\n"
   ]
  },
  {
   "cell_type": "code",
   "execution_count": null,
   "id": "25130d39",
   "metadata": {},
   "outputs": [],
   "source": [
    "# Function to build population \n",
    "\n",
    "def build_population(sample, factor):\n",
    "    population = sample_agents(int(factor * int(freight_params['total'] * sample)))\n",
    "    \n",
    "    return population"
   ]
  },
  {
   "cell_type": "code",
   "execution_count": null,
   "id": "aa8ca6bb",
   "metadata": {},
   "outputs": [],
   "source": [
    "# Build + Crop + Write Population for samples\n",
    "for s in samples:\n",
    "    \n",
    "    #build\n",
    "    population = build_population(s, factor)\n",
    "        \n",
    "    #Crop and Validate Plans\n",
    "    population.fix_plans()\n",
    "    population.validate()\n",
    "\n",
    "    # Write to Disk\n",
    "    # xml_comment = f\"prelim {s*100}% {freight_params['agent_id']} {today}\"\n",
    "    # output_path = os.path.join(output_path)\n",
    "    #create export directory if it doesn't exist\n",
    "    # if os.path.isdir(output_path)==False:\n",
    "    #     os.mkdir(output_path)\n",
    "    \n",
    "    # write_matsim(\n",
    "    #     population,\n",
    "    #     os.path.join(output_path, \"plans.xml\"),\n",
    "    #     os.path.join(output_path, \"attributes.xml\"),\n",
    "    #     comment=xml_comment\n",
    "    # )\n",
    "\n",
    "    # population.to_csv(output_path, crs = \"EPSG:2326\", to_crs=\"EPSG:4326\")\n",
    "    # ignore all the \"failed to find home\" logging (it is not relevant and will be removed in future)\n",
    "\n",
    "    # facility_sampler.write_facilities_xml(\n",
    "    #    os.path.join(output_path, \"facilities.xml\"),\n",
    "    #    comment=xml_comment\n",
    "    # )"
   ]
  },
  {
   "cell_type": "markdown",
   "id": "cdbe6b95",
   "metadata": {},
   "source": [
    "## 5. Validation"
   ]
  },
  {
   "cell_type": "code",
   "execution_count": null,
   "id": "1249fb86",
   "metadata": {},
   "outputs": [],
   "source": [
    "for i in range(3):\n",
    "    p = population.random_person()\n",
    "    p.plot()\n",
    "    p.print()\n",
    "    plt.show()"
   ]
  },
  {
   "cell_type": "code",
   "execution_count": null,
   "id": "88880c69",
   "metadata": {},
   "outputs": [],
   "source": [
    "from pam.plot.stats import plot_activity_times, plot_leg_times\n",
    "fig = plot_activity_times(population)\n",
    "plt.show()"
   ]
  },
  {
   "cell_type": "code",
   "execution_count": null,
   "id": "0724f86b",
   "metadata": {},
   "outputs": [],
   "source": [
    "fig = plot_leg_times(population)\n",
    "plt.show()"
   ]
  },
  {
   "cell_type": "code",
   "execution_count": null,
   "id": "83aa2081",
   "metadata": {},
   "outputs": [],
   "source": [
    "trips = pd.read_csv(os.path.join(output_path,\"legs.csv\"))\n",
    "\n",
    "def get_hour(dt):\n",
    "    return int(dt.split(\" \")[1].split(\":\")[0])\n",
    "\n",
    "trips[\"start_hour\"] = trips[\"tst\"].apply(get_hour)\n",
    "trips.head()"
   ]
  },
  {
   "cell_type": "code",
   "execution_count": null,
   "id": "ca682275",
   "metadata": {},
   "outputs": [],
   "source": [
    "df_activity = pd.read_csv(os.path.join(output_path, \"activities.csv\"))\n",
    "totals = df_activity.activity.value_counts()\n",
    "plt.barh(totals.index, totals)\n",
    "plt.title(\"activities count\")\n",
    "plt.show()"
   ]
  },
  {
   "cell_type": "code",
   "execution_count": null,
   "id": "ec7fbdaa",
   "metadata": {},
   "outputs": [],
   "source": [
    "matplotlib.style.use('ggplot')\n",
    "\n",
    "plot_data = df_activity[df_activity['activity']=='delivery'].groupby(['pid']).agg({'activity':'count'}).reset_index()\n",
    "g = plt.hist(x = 'activity', data = plot_data)\n",
    "\n",
    "plt.title('Histogram of Delivery Stops')\n",
    "plt.xlabel('Stops')\n",
    "plt.ylabel('Count')\n",
    "\n",
    "plt.show()"
   ]
  },
  {
   "cell_type": "code",
   "execution_count": null,
   "id": "f964cc80",
   "metadata": {},
   "outputs": [],
   "source": [
    "delivery_count = df_activity[df_activity['activity']=='delivery'].groupby(['pid']).agg({'activity':'count'}).reset_index()\n",
    "depot_count = df_activity[df_activity['activity']=='depot'].groupby(['pid']).agg({'activity':'count'}).reset_index()\n",
    "print(f'Ratio of deliveries to depots {delivery_count.activity.sum()/depot_count.activity.sum()}')\n",
    "delivery_count.describe()"
   ]
  },
  {
   "cell_type": "code",
   "execution_count": null,
   "id": "d5bdece2",
   "metadata": {},
   "outputs": [],
   "source": [
    "write_od_matrices(population, path = \".\")\n",
    "od_matrices = pd.read_csv(os.path.join(\".\", \"total_od.csv\"))  # we should change this method to be consistent with other - ie return a dataframe\n",
    "\n",
    "pop_o = pd.DataFrame({'FID': od_matrices['Origin'],\n",
    "                     'o_trip': od_matrices.drop('Origin', axis=1).sum(axis=1)})\n",
    "\n",
    "pop_d = pd.DataFrame({'FID': od_matrices.index,\n",
    "                     'd_trip': od_matrices.drop(['Origin'], axis=1).sum(axis=0)})\n",
    "pop_d['FID'] = pop_d.index.astype(int)\n"
   ]
  },
  {
   "cell_type": "code",
   "execution_count": null,
   "id": "73b28ee2",
   "metadata": {},
   "outputs": [],
   "source": [
    "# Create a dataframe to plot od trips and compare against facility density and flows density.\n",
    "pop_od = zones.copy()\n",
    "\n",
    "# Merge in trips information\n",
    "pop_od = pd.merge(pop_od, pop_o, left_on = 'FID', right_on = 'FID', how = 'left')\n",
    "pop_od = pd.merge(pop_od, pop_d, left_on = 'FID', right_on = 'FID', how = 'left')\n",
    "\n",
    "# Merge in density information\n",
    "pop_od = pd.merge(pop_od, depot_density, left_on = 'FID', right_on = 'FID', how = 'left')\n",
    "pop_od.rename(columns={'activity':'depot_activity','density':'depot_density'}, inplace=True)\n",
    "pop_od = pd.merge(pop_od, delivery_density, left_on = 'FID', right_on = 'FID', how = 'left')\n",
    "pop_od.rename(columns={'activity':'delivery_activity','density':'delivery_density'}, inplace=True)\n",
    "\n",
    "pop_od.head()"
   ]
  },
  {
   "cell_type": "code",
   "execution_count": null,
   "id": "9615825e",
   "metadata": {},
   "outputs": [],
   "source": [
    "# Plot density, trips, and flows by zone.\n",
    "\n",
    "fig, ax = plt.subplots(1, 2, figsize=(20,10))\n",
    "\n",
    "pop_od.plot('depot_density', ax=ax[0], cmap='coolwarm')\n",
    "ax[0].axis('off')\n",
    "ax[0].set_title('Depot Density (origin)')\n",
    "\n",
    "pop_od.plot('o_trip', ax=ax[1], cmap='coolwarm')\n",
    "ax[1].axis('off')\n",
    "ax[1].set_title('Trips from Depot (origin)')"
   ]
  },
  {
   "cell_type": "markdown",
   "id": "126e3977",
   "metadata": {},
   "source": [
    "The Origin Trips distribution does not seem to align well with the density of the depots. "
   ]
  },
  {
   "cell_type": "code",
   "execution_count": null,
   "id": "dab2ec2e",
   "metadata": {},
   "outputs": [],
   "source": [
    "fig, ax = plt.subplots(1, 2, figsize=(15,7))\n",
    "\n",
    "ax[0].bar(x='FID', height='depot_density', data = pop_od)\n",
    "ax[0].set_title('Frequency of Facilities by Zone ID')\n",
    "\n",
    "ax[1].bar(x='FID', height='o_trip', data = pop_od)\n",
    "ax[1].set_title('Frequency of Origin Trips by Zone ID')"
   ]
  },
  {
   "cell_type": "markdown",
   "id": "97e4967b",
   "metadata": {},
   "source": [
    "We are seeing under-representation in the far east corner of Hong Kong, this could be due to limiting distance from origin."
   ]
  },
  {
   "cell_type": "code",
   "execution_count": null,
   "id": "244bd422",
   "metadata": {},
   "outputs": [],
   "source": [
    "# Plot density, trips, and flows by zone.\n",
    "\n",
    "fig, ax = plt.subplots(1, 2, figsize=(20,10))\n",
    "\n",
    "pop_od.plot('delivery_density', ax=ax[0], cmap='coolwarm')\n",
    "ax[0].axis('off')\n",
    "ax[0].set_title('Delivery Density (destination)')\n",
    "\n",
    "pop_od.plot('d_trip', ax=ax[1], cmap='coolwarm')\n",
    "ax[1].axis('off')\n",
    "ax[1].set_title('Trips to Delivery (destination)')"
   ]
  },
  {
   "cell_type": "code",
   "execution_count": null,
   "id": "5b5b7d1b",
   "metadata": {},
   "outputs": [],
   "source": [
    "fig, ax = plt.subplots(1, 2, figsize=(15,7))\n",
    "\n",
    "ax[0].bar(x='FID', height='delivery_density', data = pop_od)\n",
    "ax[0].set_title('Frequency of Facilities by Zone ID')\n",
    "\n",
    "ax[1].bar(x='FID', height='d_trip', data = pop_od)\n",
    "ax[1].set_title('Frequency of Destination Trips by Zone ID')"
   ]
  },
  {
   "cell_type": "code",
   "execution_count": null,
   "id": "e29435b8",
   "metadata": {},
   "outputs": [],
   "source": [
    "# write_matsim(\n",
    "#         population,\n",
    "#         os.path.join(output_path, \"population.xml\"),\n",
    "#         os.path.join(output_path, \"attributes.xml\"),# Note the version12 don't have attributes\n",
    "#         version=12\n",
    "#     )"
   ]
  }
 ],
 "metadata": {
  "interpreter": {
   "hash": "af9b6ce890e1293ae6d5ad13af80fe0e68a58b56a784232fa55f9891112a9946"
  },
  "kernelspec": {
   "display_name": "pam",
   "language": "python",
   "name": "python3"
  },
  "language_info": {
   "codemirror_mode": {
    "name": "ipython",
    "version": 3
   },
   "file_extension": ".py",
   "mimetype": "text/x-python",
   "name": "python",
   "nbconvert_exporter": "python",
   "pygments_lexer": "ipython3",
   "version": "3.9.9"
  },
  "toc": {
   "base_numbering": 1,
   "nav_menu": {},
   "number_sections": true,
   "sideBar": true,
   "skip_h1_title": false,
   "title_cell": "Table of Contents",
   "title_sidebar": "Contents",
   "toc_cell": false,
   "toc_position": {},
   "toc_section_display": true,
   "toc_window_display": false
  }
 },
 "nbformat": 4,
 "nbformat_minor": 5
}
