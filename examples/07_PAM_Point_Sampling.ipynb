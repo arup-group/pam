{
 "cells": [
  {
   "cell_type": "code",
   "execution_count": 2,
   "metadata": {
    "ExecuteTime": {
     "end_time": "2020-04-15T14:22:45.434401Z",
     "start_time": "2020-04-15T14:22:43.811833Z"
    }
   },
   "outputs": [],
   "source": [
    "import os\n",
    "import pandas as pd\n",
    "from copy import deepcopy\n",
    "from collections import defaultdict\n",
    "import geopandas as gp\n",
    "from matplotlib import pyplot as plt\n",
    "import numpy as np"
   ]
  },
  {
   "cell_type": "markdown",
   "metadata": {},
   "source": [
    "# PAM - Geometry Sampling\n",
    "\n",
    "MATSim requires point locations for all activities and trips. This notebook shows how to sample geometric locations from ozone/dzone regions using a simple random point sampler.\n",
    "\n",
    "More advanced samplers are available in `pam.samplers.spatial`.\n"
   ]
  },
  {
   "cell_type": "code",
   "execution_count": 12,
   "metadata": {
    "ExecuteTime": {
     "end_time": "2020-04-15T14:23:03.601994Z",
     "start_time": "2020-04-15T14:23:03.510974Z"
    }
   },
   "outputs": [
    {
     "data": {
      "text/html": [
       "<div>\n",
       "<style scoped>\n",
       "    .dataframe tbody tr th:only-of-type {\n",
       "        vertical-align: middle;\n",
       "    }\n",
       "\n",
       "    .dataframe tbody tr th {\n",
       "        vertical-align: top;\n",
       "    }\n",
       "\n",
       "    .dataframe thead th {\n",
       "        text-align: right;\n",
       "    }\n",
       "</style>\n",
       "<table border=\"1\" class=\"dataframe\">\n",
       "  <thead>\n",
       "    <tr style=\"text-align: right;\">\n",
       "      <th></th>\n",
       "      <th>pid</th>\n",
       "      <th>hid</th>\n",
       "      <th>seq</th>\n",
       "      <th>hzone</th>\n",
       "      <th>ozone</th>\n",
       "      <th>dzone</th>\n",
       "      <th>purp</th>\n",
       "      <th>mode</th>\n",
       "      <th>tst</th>\n",
       "      <th>tet</th>\n",
       "      <th>freq</th>\n",
       "    </tr>\n",
       "    <tr>\n",
       "      <th>uid</th>\n",
       "      <th></th>\n",
       "      <th></th>\n",
       "      <th></th>\n",
       "      <th></th>\n",
       "      <th></th>\n",
       "      <th></th>\n",
       "      <th></th>\n",
       "      <th></th>\n",
       "      <th></th>\n",
       "      <th></th>\n",
       "      <th></th>\n",
       "    </tr>\n",
       "  </thead>\n",
       "  <tbody>\n",
       "    <tr>\n",
       "      <th>0</th>\n",
       "      <td>census_0</td>\n",
       "      <td>census_0</td>\n",
       "      <td>0</td>\n",
       "      <td>Harrow</td>\n",
       "      <td>Harrow</td>\n",
       "      <td>Camden</td>\n",
       "      <td>work</td>\n",
       "      <td>pt</td>\n",
       "      <td>444</td>\n",
       "      <td>473</td>\n",
       "      <td>1000</td>\n",
       "    </tr>\n",
       "    <tr>\n",
       "      <th>1</th>\n",
       "      <td>census_0</td>\n",
       "      <td>census_0</td>\n",
       "      <td>1</td>\n",
       "      <td>Harrow</td>\n",
       "      <td>Camden</td>\n",
       "      <td>Harrow</td>\n",
       "      <td>work</td>\n",
       "      <td>pt</td>\n",
       "      <td>890</td>\n",
       "      <td>919</td>\n",
       "      <td>1000</td>\n",
       "    </tr>\n",
       "    <tr>\n",
       "      <th>2</th>\n",
       "      <td>census_1</td>\n",
       "      <td>census_1</td>\n",
       "      <td>0</td>\n",
       "      <td>Greenwich</td>\n",
       "      <td>Greenwich</td>\n",
       "      <td>Tower Hamlets</td>\n",
       "      <td>work</td>\n",
       "      <td>pt</td>\n",
       "      <td>507</td>\n",
       "      <td>528</td>\n",
       "      <td>1000</td>\n",
       "    </tr>\n",
       "    <tr>\n",
       "      <th>3</th>\n",
       "      <td>census_1</td>\n",
       "      <td>census_1</td>\n",
       "      <td>1</td>\n",
       "      <td>Greenwich</td>\n",
       "      <td>Tower Hamlets</td>\n",
       "      <td>Greenwich</td>\n",
       "      <td>work</td>\n",
       "      <td>pt</td>\n",
       "      <td>1065</td>\n",
       "      <td>1086</td>\n",
       "      <td>1000</td>\n",
       "    </tr>\n",
       "    <tr>\n",
       "      <th>4</th>\n",
       "      <td>census_2</td>\n",
       "      <td>census_2</td>\n",
       "      <td>0</td>\n",
       "      <td>Croydon</td>\n",
       "      <td>Croydon</td>\n",
       "      <td>Croydon</td>\n",
       "      <td>work</td>\n",
       "      <td>pt</td>\n",
       "      <td>422</td>\n",
       "      <td>425</td>\n",
       "      <td>1000</td>\n",
       "    </tr>\n",
       "    <tr>\n",
       "      <th>5</th>\n",
       "      <td>census_2</td>\n",
       "      <td>census_2</td>\n",
       "      <td>1</td>\n",
       "      <td>Croydon</td>\n",
       "      <td>Croydon</td>\n",
       "      <td>Croydon</td>\n",
       "      <td>work</td>\n",
       "      <td>pt</td>\n",
       "      <td>917</td>\n",
       "      <td>920</td>\n",
       "      <td>1000</td>\n",
       "    </tr>\n",
       "    <tr>\n",
       "      <th>6</th>\n",
       "      <td>census_3</td>\n",
       "      <td>census_3</td>\n",
       "      <td>0</td>\n",
       "      <td>Haringey</td>\n",
       "      <td>Haringey</td>\n",
       "      <td>Redbridge</td>\n",
       "      <td>work</td>\n",
       "      <td>pt</td>\n",
       "      <td>428</td>\n",
       "      <td>447</td>\n",
       "      <td>1000</td>\n",
       "    </tr>\n",
       "    <tr>\n",
       "      <th>7</th>\n",
       "      <td>census_3</td>\n",
       "      <td>census_3</td>\n",
       "      <td>1</td>\n",
       "      <td>Haringey</td>\n",
       "      <td>Redbridge</td>\n",
       "      <td>Haringey</td>\n",
       "      <td>work</td>\n",
       "      <td>pt</td>\n",
       "      <td>1007</td>\n",
       "      <td>1026</td>\n",
       "      <td>1000</td>\n",
       "    </tr>\n",
       "    <tr>\n",
       "      <th>8</th>\n",
       "      <td>census_4</td>\n",
       "      <td>census_4</td>\n",
       "      <td>0</td>\n",
       "      <td>Hounslow</td>\n",
       "      <td>Hounslow</td>\n",
       "      <td>Westminster,City of London</td>\n",
       "      <td>work</td>\n",
       "      <td>car</td>\n",
       "      <td>483</td>\n",
       "      <td>516</td>\n",
       "      <td>1000</td>\n",
       "    </tr>\n",
       "    <tr>\n",
       "      <th>9</th>\n",
       "      <td>census_4</td>\n",
       "      <td>census_4</td>\n",
       "      <td>1</td>\n",
       "      <td>Hounslow</td>\n",
       "      <td>Westminster,City of London</td>\n",
       "      <td>Hounslow</td>\n",
       "      <td>work</td>\n",
       "      <td>car</td>\n",
       "      <td>1017</td>\n",
       "      <td>1050</td>\n",
       "      <td>1000</td>\n",
       "    </tr>\n",
       "  </tbody>\n",
       "</table>\n",
       "</div>"
      ],
      "text/plain": [
       "          pid       hid  seq      hzone                       ozone  \\\n",
       "uid                                                                   \n",
       "0    census_0  census_0    0     Harrow                      Harrow   \n",
       "1    census_0  census_0    1     Harrow                      Camden   \n",
       "2    census_1  census_1    0  Greenwich                   Greenwich   \n",
       "3    census_1  census_1    1  Greenwich               Tower Hamlets   \n",
       "4    census_2  census_2    0    Croydon                     Croydon   \n",
       "5    census_2  census_2    1    Croydon                     Croydon   \n",
       "6    census_3  census_3    0   Haringey                    Haringey   \n",
       "7    census_3  census_3    1   Haringey                   Redbridge   \n",
       "8    census_4  census_4    0   Hounslow                    Hounslow   \n",
       "9    census_4  census_4    1   Hounslow  Westminster,City of London   \n",
       "\n",
       "                          dzone  purp mode   tst   tet  freq  \n",
       "uid                                                           \n",
       "0                        Camden  work   pt   444   473  1000  \n",
       "1                        Harrow  work   pt   890   919  1000  \n",
       "2                 Tower Hamlets  work   pt   507   528  1000  \n",
       "3                     Greenwich  work   pt  1065  1086  1000  \n",
       "4                       Croydon  work   pt   422   425  1000  \n",
       "5                       Croydon  work   pt   917   920  1000  \n",
       "6                     Redbridge  work   pt   428   447  1000  \n",
       "7                      Haringey  work   pt  1007  1026  1000  \n",
       "8    Westminster,City of London  work  car   483   516  1000  \n",
       "9                      Hounslow  work  car  1017  1050  1000  "
      ]
     },
     "execution_count": 12,
     "metadata": {},
     "output_type": "execute_result"
    }
   ],
   "source": [
    "trips = pd.read_csv(os.path.join('data', 'example_data', 'example_travel_diaries.csv'), index_col=\"uid\")\n",
    "attributes = pd.read_csv(os.path.join('data', 'example_data', 'example_attributes.csv'), index_col=\"pid\")\n",
    "trips.head(10)"
   ]
  },
  {
   "cell_type": "code",
   "execution_count": 13,
   "metadata": {},
   "outputs": [
    {
     "name": "stderr",
     "output_type": "stream",
     "text": [
      "Using tour based purpose parser (recommended)\n",
      "Adding pid->hh mapping to persons_attributes from trips.\n",
      "Adding home locations to persons attributes using trips attributes.\n",
      "Using freq of 'None' for all persons.\n"
     ]
    },
    {
     "data": {
      "text/plain": [
       "{'num_households': 51,\n",
       " 'num_people': 51,\n",
       " 'num_activities': 152,\n",
       " 'num_legs': 101}"
      ]
     },
     "execution_count": 13,
     "metadata": {},
     "output_type": "execute_result"
    }
   ],
   "source": [
    "from pam import read\n",
    "\n",
    "population = read.load_travel_diary(\n",
    "    trips, attributes\n",
    ")\n",
    "population.stats"
   ]
  },
  {
   "cell_type": "markdown",
   "metadata": {},
   "source": [
    "### Sample Geometries\n",
    "Transform trip ozone/dzone to geographically sampled points"
   ]
  },
  {
   "cell_type": "code",
   "execution_count": 20,
   "metadata": {},
   "outputs": [
    {
     "data": {
      "text/html": [
       "<div>\n",
       "<style scoped>\n",
       "    .dataframe tbody tr th:only-of-type {\n",
       "        vertical-align: middle;\n",
       "    }\n",
       "\n",
       "    .dataframe tbody tr th {\n",
       "        vertical-align: top;\n",
       "    }\n",
       "\n",
       "    .dataframe thead th {\n",
       "        text-align: right;\n",
       "    }\n",
       "</style>\n",
       "<table border=\"1\" class=\"dataframe\">\n",
       "  <thead>\n",
       "    <tr style=\"text-align: right;\">\n",
       "      <th></th>\n",
       "      <th>HECTARES</th>\n",
       "      <th>NONLD_AREA</th>\n",
       "      <th>ONS_INNER</th>\n",
       "      <th>SUB_2009</th>\n",
       "      <th>SUB_2006</th>\n",
       "      <th>geometry</th>\n",
       "    </tr>\n",
       "    <tr>\n",
       "      <th>NAME</th>\n",
       "      <th></th>\n",
       "      <th></th>\n",
       "      <th></th>\n",
       "      <th></th>\n",
       "      <th></th>\n",
       "      <th></th>\n",
       "    </tr>\n",
       "  </thead>\n",
       "  <tbody>\n",
       "    <tr>\n",
       "      <th>Kingston upon Thames</th>\n",
       "      <td>3726.117</td>\n",
       "      <td>0.000</td>\n",
       "      <td>F</td>\n",
       "      <td>None</td>\n",
       "      <td>None</td>\n",
       "      <td>POLYGON ((516401.600 160201.800, 516407.300 16...</td>\n",
       "    </tr>\n",
       "    <tr>\n",
       "      <th>Croydon</th>\n",
       "      <td>8649.441</td>\n",
       "      <td>0.000</td>\n",
       "      <td>F</td>\n",
       "      <td>None</td>\n",
       "      <td>None</td>\n",
       "      <td>POLYGON ((535009.200 159504.700, 535005.500 15...</td>\n",
       "    </tr>\n",
       "    <tr>\n",
       "      <th>Bromley</th>\n",
       "      <td>15013.487</td>\n",
       "      <td>0.000</td>\n",
       "      <td>F</td>\n",
       "      <td>None</td>\n",
       "      <td>None</td>\n",
       "      <td>POLYGON ((540373.600 157530.400, 540361.200 15...</td>\n",
       "    </tr>\n",
       "    <tr>\n",
       "      <th>Hounslow</th>\n",
       "      <td>5658.541</td>\n",
       "      <td>60.755</td>\n",
       "      <td>F</td>\n",
       "      <td>None</td>\n",
       "      <td>None</td>\n",
       "      <td>POLYGON ((521975.800 178100.000, 521967.700 17...</td>\n",
       "    </tr>\n",
       "    <tr>\n",
       "      <th>Ealing</th>\n",
       "      <td>5554.428</td>\n",
       "      <td>0.000</td>\n",
       "      <td>F</td>\n",
       "      <td>None</td>\n",
       "      <td>None</td>\n",
       "      <td>POLYGON ((510253.500 182881.600, 510249.900 18...</td>\n",
       "    </tr>\n",
       "  </tbody>\n",
       "</table>\n",
       "</div>"
      ],
      "text/plain": [
       "                       HECTARES  NONLD_AREA ONS_INNER SUB_2009 SUB_2006  \\\n",
       "NAME                                                                      \n",
       "Kingston upon Thames   3726.117       0.000         F     None     None   \n",
       "Croydon                8649.441       0.000         F     None     None   \n",
       "Bromley               15013.487       0.000         F     None     None   \n",
       "Hounslow               5658.541      60.755         F     None     None   \n",
       "Ealing                 5554.428       0.000         F     None     None   \n",
       "\n",
       "                                                               geometry  \n",
       "NAME                                                                     \n",
       "Kingston upon Thames  POLYGON ((516401.600 160201.800, 516407.300 16...  \n",
       "Croydon               POLYGON ((535009.200 159504.700, 535005.500 15...  \n",
       "Bromley               POLYGON ((540373.600 157530.400, 540361.200 15...  \n",
       "Hounslow              POLYGON ((521975.800 178100.000, 521967.700 17...  \n",
       "Ealing                POLYGON ((510253.500 182881.600, 510249.900 18...  "
      ]
     },
     "execution_count": 20,
     "metadata": {},
     "output_type": "execute_result"
    }
   ],
   "source": [
    "zones = gp.read_file(os.path.join('data', 'example_data', 'geometry.geojson')).set_index('NAME')\n",
    "zones.head()"
   ]
  },
  {
   "cell_type": "code",
   "execution_count": 40,
   "metadata": {},
   "outputs": [],
   "source": [
    "from pam.samplers.spatial import RandomPointSampler\n",
    "\n",
    "random_sampler = RandomPointSampler(geoms=zones)"
   ]
  },
  {
   "cell_type": "code",
   "execution_count": 41,
   "metadata": {},
   "outputs": [
    {
     "data": {
      "text/plain": [
       "<matplotlib.collections.PathCollection at 0x121d3bf60>"
      ]
     },
     "execution_count": 41,
     "metadata": {},
     "output_type": "execute_result"
    },
    {
     "data": {
      "image/png": "[encoded data removed]",
      "text/plain": [
       "<Figure size 432x288 with 1 Axes>"
      ]
     },
     "metadata": {
      "needs_background": "light"
     },
     "output_type": "display_data"
    }
   ],
   "source": [
    "# test\n",
    "fig, ax = plt.subplots(1)\n",
    "zones.plot(ax=ax, color=\"grey\")\n",
    "zones.loc[[\"Camden\"]].plot(ax=ax)\n",
    "point = random_sampler.sample(\"Camden\", activity=None)\n",
    "ax.scatter(point.x, point.y, c=\"red\")"
   ]
  },
  {
   "cell_type": "code",
   "execution_count": 43,
   "metadata": {},
   "outputs": [],
   "source": [
    "population.sample_locs(random_sampler)  # apply to whole population"
   ]
  },
  {
   "cell_type": "markdown",
   "metadata": {
    "ExecuteTime": {
     "end_time": "2020-04-09T14:32:22.432201Z",
     "start_time": "2020-04-09T14:32:15.568791Z"
    }
   },
   "source": [
    "Let's check out an example Activity Plan and Attributes:"
   ]
  },
  {
   "cell_type": "code",
   "execution_count": 45,
   "metadata": {
    "ExecuteTime": {
     "end_time": "2020-04-15T14:23:58.041512Z",
     "start_time": "2020-04-15T14:23:58.002047Z"
    }
   },
   "outputs": [
    {
     "name": "stdout",
     "output_type": "stream",
     "text": [
      "Person: census_0\n",
      "{'gender': 'female', 'job': 'work', 'occ': 'white', 'inc': 'low', 'hzone': 'Harrow'}\n",
      "0:\tActivity(act:home, location:POINT (512919.71961611445 187715.55278560668), time:00:00:00 --> 07:24:00, duration:7:24:00)\n",
      "1:\tLeg(mode:pt, area:POINT (512919.71961611445 187715.55278560668) --> POINT (524611.7917196383 185350.5457921002), time:07:24:00 --> 07:53:00, duration:0:29:00)\n",
      "2:\tActivity(act:work, location:POINT (524611.7917196383 185350.5457921002), time:07:53:00 --> 14:50:00, duration:6:57:00)\n",
      "3:\tLeg(mode:pt, area:POINT (524611.7917196383 185350.5457921002) --> POINT (512919.71961611445 187715.55278560668), time:14:50:00 --> 15:19:00, duration:0:29:00)\n",
      "4:\tActivity(act:home, location:POINT (512919.71961611445 187715.55278560668), time:15:19:00 --> 00:00:00, duration:8:41:00)\n"
     ]
    },
    {
     "data": {
      "image/png": "[encoded data removed]",
      "text/plain": [
       "<Figure size 1152x216 with 1 Axes>"
      ]
     },
     "metadata": {
      "needs_background": "light"
     },
     "output_type": "display_data"
    }
   ],
   "source": [
    "person = population['census_0']['census_0']\n",
    "person.print()\n",
    "person.plot()"
   ]
  }
 ],
 "metadata": {
  "kernelspec": {
   "display_name": "pam",
   "language": "python",
   "name": "pam"
  },
  "language_info": {
   "codemirror_mode": {
    "name": "ipython",
    "version": 3
   },
   "file_extension": ".py",
   "mimetype": "text/x-python",
   "name": "python",
   "nbconvert_exporter": "python",
   "pygments_lexer": "ipython3",
   "version": "3.7.3"
  },
  "toc": {
   "base_numbering": 1,
   "nav_menu": {},
   "number_sections": true,
   "sideBar": true,
   "skip_h1_title": true,
   "title_cell": "Table of Contents",
   "title_sidebar": "Contents",
   "toc_cell": false,
   "toc_position": {
    "height": "calc(100% - 180px)",
    "left": "10px",
    "top": "150px",
    "width": "248.333px"
   },
   "toc_section_display": true,
   "toc_window_display": false
  },
  "vscode": {
   "interpreter": {
    "hash": "c2a90f01ee7329c0dc072323d04ab57047490a620cb7d1fe86527d3a3edaf28c"
   }
  }
 },
 "nbformat": 4,
 "nbformat_minor": 2
}
