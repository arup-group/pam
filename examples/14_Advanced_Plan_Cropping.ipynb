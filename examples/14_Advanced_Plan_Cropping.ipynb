{
 "cells": [
  {
   "attachments": {},
   "cell_type": "markdown",
   "id": "822e628f",
   "metadata": {},
   "source": [
    "# Plan Cropping\n",
    "\n",
    "In this example, we show how you can simplify any activities happening outside a defined \"core\" area.\n",
    "\n",
    "Method:\n",
    "\n",
    "1. Identify which legs touch the core area\n",
    "2. Keep the relevant legs/activities and drop the remaining components\n",
    "3. Infill: create any new legs between external activities as necessary\n",
    "4. Ensure plan consistency: start/end times, sequences, etc\n",
    "5. (optional) : Rename activities to \"external\"\n",
    "6. (optional) : Crop the leg geometries to start/stop at the core area boundaries "
   ]
  },
  {
   "cell_type": "code",
   "execution_count": 1,
   "id": "6935f368",
   "metadata": {
    "execution": {
     "iopub.execute_input": "2024-04-04T10:40:37.225893Z",
     "iopub.status.busy": "2024-04-04T10:40:37.224390Z",
     "iopub.status.idle": "2024-04-04T10:40:38.206865Z",
     "shell.execute_reply": "2024-04-04T10:40:38.206865Z"
    }
   },
   "outputs": [
    {
     "ename": "ModuleNotFoundError",
     "evalue": "No module named 'pam'",
     "output_type": "error",
     "traceback": [
      "\u001b[1;31m---------------------------------------------------------------------------\u001b[0m",
      "\u001b[1;31mModuleNotFoundError\u001b[0m                       Traceback (most recent call last)",
      "Cell \u001b[1;32mIn[1], line 5\u001b[0m\n\u001b[0;32m      3\u001b[0m \u001b[38;5;28;01mimport\u001b[39;00m \u001b[38;5;21;01mgeopandas\u001b[39;00m \u001b[38;5;28;01mas\u001b[39;00m \u001b[38;5;21;01mgp\u001b[39;00m\n\u001b[0;32m      4\u001b[0m \u001b[38;5;28;01mimport\u001b[39;00m \u001b[38;5;21;01mmatplotlib\u001b[39;00m\u001b[38;5;21;01m.\u001b[39;00m\u001b[38;5;21;01mpyplot\u001b[39;00m \u001b[38;5;28;01mas\u001b[39;00m \u001b[38;5;21;01mplt\u001b[39;00m\n\u001b[1;32m----> 5\u001b[0m \u001b[38;5;28;01mfrom\u001b[39;00m \u001b[38;5;21;01mpam\u001b[39;00m\u001b[38;5;21;01m.\u001b[39;00m\u001b[38;5;21;01mactivity\u001b[39;00m \u001b[38;5;28;01mimport\u001b[39;00m Activity, Leg, Plan\n\u001b[0;32m      6\u001b[0m \u001b[38;5;28;01mfrom\u001b[39;00m \u001b[38;5;21;01mpam\u001b[39;00m\u001b[38;5;21;01m.\u001b[39;00m\u001b[38;5;21;01mcore\u001b[39;00m \u001b[38;5;28;01mimport\u001b[39;00m Household, Person, Population\n\u001b[0;32m      7\u001b[0m \u001b[38;5;28;01mfrom\u001b[39;00m \u001b[38;5;21;01mpam\u001b[39;00m\u001b[38;5;21;01m.\u001b[39;00m\u001b[38;5;21;01moperations\u001b[39;00m \u001b[38;5;28;01mimport\u001b[39;00m cropping\n",
      "\u001b[1;31mModuleNotFoundError\u001b[0m: No module named 'pam'"
     ]
    }
   ],
   "source": [
    "from copy import deepcopy\n",
    "\n",
    "import geopandas as gp\n",
    "import matplotlib.pyplot as plt\n",
    "from pam.activity import Activity, Leg, Plan\n",
    "from pam.core import Household, Person, Population\n",
    "from pam.operations import cropping\n",
    "from pam.utils import minutes_to_datetime as mtdt\n",
    "from pam.variables import END_OF_DAY\n",
    "from shapely.geometry import Point, Polygon"
   ]
  },
  {
   "attachments": {},
   "cell_type": "markdown",
   "id": "2b08db46",
   "metadata": {},
   "source": [
    "## Data"
   ]
  },
  {
   "attachments": {},
   "cell_type": "markdown",
   "id": "3213b2ec",
   "metadata": {},
   "source": [
    "Create a simple zoning system:"
   ]
  },
  {
   "cell_type": "code",
   "execution_count": 2,
   "id": "c16eb294",
   "metadata": {
    "execution": {
     "iopub.execute_input": "2023-09-22T10:52:39.026927Z",
     "iopub.status.busy": "2023-09-22T10:52:39.026792Z",
     "iopub.status.idle": "2023-09-22T10:52:39.030706Z",
     "shell.execute_reply": "2023-09-22T10:52:39.030404Z"
    }
   },
   "outputs": [],
   "source": [
    "def test_zoning_system() -> gp.GeoDataFrame:\n",
    "    \"\"\"Dummy orthogonal zoning system.\"\"\"\n",
    "    zones = []\n",
    "    labels = [chr(x) for x in range(97, 106)]\n",
    "    for x in range(3):\n",
    "        for y in range(3):\n",
    "            zones.append(Polygon([(x, y), (x, y + 1), (x + 1, y + 1), (x + 1, y)]))\n",
    "    zones_gdf = gp.GeoDataFrame({\"zone\": labels}, geometry=zones)\n",
    "    zones_gdf.index = zones_gdf.zone\n",
    "\n",
    "    return zones_gdf\n",
    "\n",
    "\n",
    "zoning_system = test_zoning_system()"
   ]
  },
  {
   "attachments": {},
   "cell_type": "markdown",
   "id": "41ded1a3",
   "metadata": {},
   "source": [
    "Create a simple plan:"
   ]
  },
  {
   "cell_type": "code",
   "execution_count": 3,
   "id": "b957468e",
   "metadata": {
    "execution": {
     "iopub.execute_input": "2023-09-22T10:52:39.032180Z",
     "iopub.status.busy": "2023-09-22T10:52:39.032096Z",
     "iopub.status.idle": "2023-09-22T10:52:39.037774Z",
     "shell.execute_reply": "2023-09-22T10:52:39.037498Z"
    }
   },
   "outputs": [],
   "source": [
    "plan = Plan()\n",
    "plan.day = [\n",
    "    Activity(seq=1, act=\"home\", loc=Point(0.31, 0.81), start_time=mtdt(0), end_time=mtdt(420)),\n",
    "    Leg(\n",
    "        seq=1,\n",
    "        mode=\"car\",\n",
    "        start_loc=Point(0.31, 0.81),\n",
    "        end_loc=Point(0.12, 1.45),\n",
    "        start_time=mtdt(420),\n",
    "        end_time=mtdt(480),\n",
    "        distance=1000,\n",
    "    ),\n",
    "    Activity(seq=2, act=\"shop\", loc=Point(0.12, 1.45), start_time=mtdt(480), end_time=mtdt(510)),\n",
    "    Leg(\n",
    "        seq=2,\n",
    "        mode=\"car\",\n",
    "        start_loc=Point(0.12, 1.45),\n",
    "        end_loc=Point(0.84, 2.12),\n",
    "        start_time=mtdt(510),\n",
    "        end_time=mtdt(540),\n",
    "        distance=1000,\n",
    "    ),\n",
    "    Activity(seq=3, act=\"work\", loc=Point(0.84, 2.12), start_time=mtdt(540), end_time=mtdt(800)),\n",
    "    Leg(\n",
    "        seq=3,\n",
    "        mode=\"walk\",\n",
    "        start_loc=Point(0.84, 2.12),\n",
    "        end_loc=Point(1.90, 0.23),\n",
    "        start_time=mtdt(800),\n",
    "        end_time=mtdt(900),\n",
    "        distance=1000,\n",
    "    ),\n",
    "    Activity(seq=4, act=\"medical\", loc=Point(1.90, 0.23), start_time=mtdt(900), end_time=mtdt(960)),\n",
    "    Leg(\n",
    "        seq=4,\n",
    "        mode=\"walk\",\n",
    "        start_loc=Point(1.90, 0.23),\n",
    "        end_loc=Point(2.26, 0.24),\n",
    "        start_time=mtdt(960),\n",
    "        end_time=mtdt(990),\n",
    "        distance=1000,\n",
    "    ),\n",
    "    Activity(seq=5, act=\"other\", loc=Point(2.26, 0.24), start_time=mtdt(990), end_time=mtdt(1010)),\n",
    "    Leg(\n",
    "        seq=5,\n",
    "        mode=\"walk\",\n",
    "        start_loc=Point(2.26, 0.24),\n",
    "        end_loc=Point(2.77, 1.82),\n",
    "        start_time=mtdt(1010),\n",
    "        end_time=mtdt(1030),\n",
    "        distance=1000,\n",
    "    ),\n",
    "    Activity(seq=6, act=\"other\", loc=Point(2.77, 1.82), start_time=mtdt(1030), end_time=mtdt(1060)),\n",
    "    Leg(\n",
    "        seq=6,\n",
    "        mode=\"walk\",\n",
    "        start_loc=Point(2.77, 1.82),\n",
    "        end_loc=Point(1.88, 1.72),\n",
    "        start_time=mtdt(1060),\n",
    "        end_time=mtdt(1100),\n",
    "        distance=1000,\n",
    "    ),\n",
    "    Activity(seq=7, act=\"other\", loc=Point(1.88, 1.72), start_time=mtdt(1100), end_time=mtdt(1200)),\n",
    "    Leg(\n",
    "        seq=7,\n",
    "        mode=\"car\",\n",
    "        start_loc=Point(1.88, 1.72),\n",
    "        end_loc=Point(0.23, 0.10),\n",
    "        start_time=mtdt(1200),\n",
    "        end_time=mtdt(1210),\n",
    "        distance=1000,\n",
    "    ),\n",
    "    Activity(seq=8, act=\"home\", loc=Point(0.23, 0.10), start_time=mtdt(1210), end_time=END_OF_DAY),\n",
    "]\n",
    "\n",
    "hh = Household(1, loc=Point(0.31, 0.81))\n",
    "population = Population()\n",
    "person = Person(1)\n",
    "person.plan = plan\n",
    "hh.add(person)\n",
    "population.add(hh)"
   ]
  },
  {
   "attachments": {},
   "cell_type": "markdown",
   "id": "61069bd8",
   "metadata": {},
   "source": [
    "The core area scope is defined as a geometry:"
   ]
  },
  {
   "cell_type": "code",
   "execution_count": 4,
   "id": "62c95b79",
   "metadata": {
    "execution": {
     "iopub.execute_input": "2023-09-22T10:52:39.039040Z",
     "iopub.status.busy": "2023-09-22T10:52:39.038947Z",
     "iopub.status.idle": "2023-09-22T10:52:39.041103Z",
     "shell.execute_reply": "2023-09-22T10:52:39.040827Z"
    }
   },
   "outputs": [],
   "source": [
    "def plot_legs(plan: Plan):\n",
    "    for i, leg in enumerate(plan.legs):\n",
    "        path = cropping.get_leg_path(leg)\n",
    "        plt.annotate(\n",
    "            i,\n",
    "            xy=(path.xy[0][1], path.xy[1][1]),\n",
    "            xytext=(path.xy[0][0], path.xy[1][0]),\n",
    "            arrowprops={\"arrowstyle\": \"->\", \"color\": \"gray\"},\n",
    "        )"
   ]
  },
  {
   "cell_type": "code",
   "execution_count": 5,
   "id": "24c29b61",
   "metadata": {
    "execution": {
     "iopub.execute_input": "2023-09-22T10:52:39.042472Z",
     "iopub.status.busy": "2023-09-22T10:52:39.042373Z",
     "iopub.status.idle": "2023-09-22T10:52:39.308515Z",
     "shell.execute_reply": "2023-09-22T10:52:39.308259Z"
    }
   },
   "outputs": [],
   "source": [
    "fig, ax = plt.subplots(1, 1, figsize=(10, 10))\n",
    "zoning_system.boundary.plot(ax=ax)\n",
    "for _i, irow in zoning_system.iterrows():\n",
    "    x = irow.geometry.centroid.x\n",
    "    y = irow.geometry.centroid.y\n",
    "    plt.annotate(irow.zone, xy=(x, y))\n",
    "plot_legs(plan)\n",
    "\n",
    "plan.plot()"
   ]
  },
  {
   "attachments": {},
   "cell_type": "markdown",
   "id": "4c92617d",
   "metadata": {},
   "source": [
    "## Examples"
   ]
  },
  {
   "attachments": {},
   "cell_type": "markdown",
   "id": "d69c2407",
   "metadata": {},
   "source": [
    "### Example 1 - Internal-external trips"
   ]
  },
  {
   "attachments": {},
   "cell_type": "markdown",
   "id": "2063342b",
   "metadata": {},
   "source": [
    "Trips that enter or exit the core area (here, zone `h`) are kept in the agent's plan:"
   ]
  },
  {
   "cell_type": "code",
   "execution_count": 6,
   "id": "c246ebab",
   "metadata": {
    "execution": {
     "iopub.execute_input": "2023-09-22T10:52:39.309933Z",
     "iopub.status.busy": "2023-09-22T10:52:39.309844Z",
     "iopub.status.idle": "2023-09-22T10:52:39.313053Z",
     "shell.execute_reply": "2023-09-22T10:52:39.312732Z"
    }
   },
   "outputs": [],
   "source": [
    "boundary = zoning_system.loc[\"h\"].geometry\n",
    "\n",
    "# crop\n",
    "plan_cropped = deepcopy(plan)\n",
    "cropping.simplify_external_plans(plan_cropped, boundary)"
   ]
  },
  {
   "cell_type": "code",
   "execution_count": 7,
   "id": "99ee54b7",
   "metadata": {
    "execution": {
     "iopub.execute_input": "2023-09-22T10:52:39.314361Z",
     "iopub.status.busy": "2023-09-22T10:52:39.314282Z",
     "iopub.status.idle": "2023-09-22T10:52:39.506925Z",
     "shell.execute_reply": "2023-09-22T10:52:39.506647Z"
    }
   },
   "outputs": [],
   "source": [
    "def plot_results(plan: Plan, boundary: gp.GeoDataFrame):\n",
    "    fig, ax = plt.subplots(1, 1, figsize=(10, 10))\n",
    "    zoning_system.boundary.plot(ax=ax)\n",
    "    for _i, irow in zoning_system.iterrows():\n",
    "        x = irow.geometry.centroid.x\n",
    "        y = irow.geometry.centroid.y\n",
    "        plt.annotate(irow.zone, xy=(x, y))\n",
    "    gp.GeoSeries([boundary]).boundary.plot(ax=ax, color=\"red\")\n",
    "    plot_legs(plan)\n",
    "    plt.title(\"Cropped plan\")\n",
    "\n",
    "    plan.plot()\n",
    "\n",
    "\n",
    "plot_results(plan_cropped, boundary)"
   ]
  },
  {
   "attachments": {},
   "cell_type": "markdown",
   "id": "64e4fc8b",
   "metadata": {},
   "source": [
    "### Example 2 - Through trips"
   ]
  },
  {
   "attachments": {},
   "cell_type": "markdown",
   "id": "fe6a2f16",
   "metadata": {},
   "source": [
    "Any trips that are expected to go through the core area (as a straight-line path) are retained in the plan:"
   ]
  },
  {
   "cell_type": "code",
   "execution_count": 8,
   "id": "560cdadd",
   "metadata": {
    "execution": {
     "iopub.execute_input": "2023-09-22T10:52:39.508349Z",
     "iopub.status.busy": "2023-09-22T10:52:39.508265Z",
     "iopub.status.idle": "2023-09-22T10:52:39.767357Z",
     "shell.execute_reply": "2023-09-22T10:52:39.767082Z"
    }
   },
   "outputs": [],
   "source": [
    "# define boundary\n",
    "boundary = zoning_system.loc[\"e\"].geometry\n",
    "\n",
    "# crop\n",
    "plan_cropped = deepcopy(plan)\n",
    "cropping.simplify_external_plans(plan_cropped, boundary)\n",
    "\n",
    "\n",
    "plot_results(plan_cropped, boundary)"
   ]
  },
  {
   "attachments": {},
   "cell_type": "markdown",
   "id": "c2d9e195",
   "metadata": {},
   "source": [
    "### Example 3 - Snap trip ends to zone boundaries"
   ]
  },
  {
   "attachments": {},
   "cell_type": "markdown",
   "id": "9c4b418c",
   "metadata": {},
   "source": [
    "By passing the `snap_to_boundary=True` argument, we can completely remove any leg parts that fall outside the core area:"
   ]
  },
  {
   "cell_type": "code",
   "execution_count": 9,
   "id": "b82c7703",
   "metadata": {
    "execution": {
     "iopub.execute_input": "2023-09-22T10:52:39.768777Z",
     "iopub.status.busy": "2023-09-22T10:52:39.768693Z",
     "iopub.status.idle": "2023-09-22T10:52:39.990908Z",
     "shell.execute_reply": "2023-09-22T10:52:39.990622Z"
    }
   },
   "outputs": [],
   "source": [
    "# crop\n",
    "plan_cropped = deepcopy(plan)\n",
    "cropping.simplify_external_plans(plan_cropped, boundary, snap_to_boundary=True)\n",
    "\n",
    "# plot\n",
    "plot_results(plan_cropped, boundary)"
   ]
  },
  {
   "attachments": {},
   "cell_type": "markdown",
   "id": "f0ffcf9c",
   "metadata": {},
   "source": [
    "### Example 3 - Fully external plan"
   ]
  },
  {
   "attachments": {},
   "cell_type": "markdown",
   "id": "48b04534",
   "metadata": {},
   "source": [
    "If no leg crosses the core area (here, zone i), then an empty plan is returned, and the person is removed from the population:"
   ]
  },
  {
   "cell_type": "code",
   "execution_count": 10,
   "id": "deac99bd",
   "metadata": {
    "execution": {
     "iopub.execute_input": "2023-09-22T10:52:39.992557Z",
     "iopub.status.busy": "2023-09-22T10:52:39.992429Z",
     "iopub.status.idle": "2023-09-22T10:52:40.161525Z",
     "shell.execute_reply": "2023-09-22T10:52:40.161274Z"
    }
   },
   "outputs": [],
   "source": [
    "boundary = zoning_system.loc[\"i\"].geometry\n",
    "\n",
    "# crop\n",
    "plan_cropped = deepcopy(plan)\n",
    "cropping.simplify_external_plans(plan_cropped, boundary)\n",
    "\n",
    "# plot\n",
    "plot_results(plan_cropped, boundary)"
   ]
  },
  {
   "attachments": {},
   "cell_type": "markdown",
   "id": "fc49361e",
   "metadata": {},
   "source": [
    "Any agents with fully external plans are dropped entirely:"
   ]
  },
  {
   "cell_type": "code",
   "execution_count": 11,
   "id": "47e9bfb0",
   "metadata": {
    "execution": {
     "iopub.execute_input": "2023-09-22T10:52:40.163019Z",
     "iopub.status.busy": "2023-09-22T10:52:40.162916Z",
     "iopub.status.idle": "2023-09-22T10:52:40.165990Z",
     "shell.execute_reply": "2023-09-22T10:52:40.165736Z"
    }
   },
   "outputs": [],
   "source": [
    "population_cropped = deepcopy(population)\n",
    "assert len(population_cropped) == 1\n",
    "\n",
    "# after simplification, there are no agents left\n",
    "cropping.simplify_population(population_cropped, boundary)\n",
    "assert len(population_cropped) == 0"
   ]
  },
  {
   "attachments": {},
   "cell_type": "markdown",
   "id": "f1256acc",
   "metadata": {},
   "source": [
    "### Example 4 - Fully internal plan"
   ]
  },
  {
   "attachments": {},
   "cell_type": "markdown",
   "id": "b4954080",
   "metadata": {},
   "source": [
    "If all activities fall within the core area, plans remain unchanged:"
   ]
  },
  {
   "cell_type": "code",
   "execution_count": 12,
   "id": "af4ccf33",
   "metadata": {
    "execution": {
     "iopub.execute_input": "2023-09-22T10:52:40.167292Z",
     "iopub.status.busy": "2023-09-22T10:52:40.167217Z",
     "iopub.status.idle": "2023-09-22T10:52:40.431159Z",
     "shell.execute_reply": "2023-09-22T10:52:40.430823Z"
    }
   },
   "outputs": [],
   "source": [
    "boundary = zoning_system.dissolve().geometry[0]\n",
    "\n",
    "# crop\n",
    "plan_cropped = deepcopy(plan)\n",
    "cropping.simplify_external_plans(plan_cropped, boundary)\n",
    "\n",
    "# plot\n",
    "plot_results(plan_cropped, boundary)"
   ]
  }
 ],
 "metadata": {
  "kernelspec": {
   "display_name": "Python 3.8.2 64-bit ('3.8.2')",
   "language": "python",
   "name": "python3"
  },
  "language_info": {
   "codemirror_mode": {
    "name": "ipython",
    "version": 3
   },
   "file_extension": ".py",
   "mimetype": "text/x-python",
   "name": "python",
   "nbconvert_exporter": "python",
   "pygments_lexer": "ipython3",
   "version": "3.11.8"
  },
  "vscode": {
   "interpreter": {
    "hash": "c2a90f01ee7329c0dc072323d04ab57047490a620cb7d1fe86527d3a3edaf28c"
   }
  }
 },
 "nbformat": 4,
 "nbformat_minor": 5
}
