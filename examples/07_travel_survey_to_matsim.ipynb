{
 "cells": [
  {
   "attachments": {},
   "cell_type": "markdown",
   "metadata": {
    "ExecuteTime": {
     "end_time": "2020-11-10T19:48:47.722892Z",
     "start_time": "2020-11-10T19:48:46.948691Z"
    }
   },
   "source": [
    "# Converting the National Travel Survey into a Simple MATSim Format Population\n",
    "\n",
    "This notebook demonstrates an example workflow for converting tabular diary data from UK NTS (household attributes, person attributes and trip data) into MATSim formatted xml population data for London households.\n",
    "\n",
    "This includes:\n",
    "- pre-processing of tabular inputs\n",
    "- loading data into pam\n",
    "- household sampling\n",
    "- facility sampling\n",
    "- preliminary investigation\n",
    "- writing to xml\n",
    "\n",
    "This example is highly simplified. Of particular note: the diary data used is spatially very aggregate (trip locations are aggregated to inner/outer London). This creates significant variance in the sampled trip lengths. Generally we would expect more precise spatial data to be used. Alternately the complexity of the facility sampling step can be improved to better account for known trip features such as mode and duration.\n",
    "\n",
    "The diary data used is available from the UK Data Service (https://beta.ukdataservice.ac.uk/datacatalogue/studies/study?id=5340) and is described here:http://doc.ukdataservice.ac.uk/doc/5340/mrdoc/pdf/5340_nts_user_guidance_1995-2016.pdf"
   ]
  },
  {
   "cell_type": "code",
   "execution_count": 1,
   "metadata": {
    "ExecuteTime": {
     "end_time": "2020-11-23T09:59:00.355147Z",
     "start_time": "2020-11-23T09:58:59.245038Z"
    },
    "execution": {
     "iopub.execute_input": "2024-04-04T10:40:28.890257Z",
     "iopub.status.busy": "2024-04-04T10:40:28.890257Z",
     "iopub.status.idle": "2024-04-04T10:40:29.594732Z",
     "shell.execute_reply": "2024-04-04T10:40:29.594732Z"
    }
   },
   "outputs": [
    {
     "ename": "ModuleNotFoundError",
     "evalue": "No module named 'pam'",
     "output_type": "error",
     "traceback": [
      "\u001b[1;31m---------------------------------------------------------------------------\u001b[0m",
      "\u001b[1;31mModuleNotFoundError\u001b[0m                       Traceback (most recent call last)",
      "Cell \u001b[1;32mIn[1], line 6\u001b[0m\n\u001b[0;32m      4\u001b[0m \u001b[38;5;28;01mimport\u001b[39;00m \u001b[38;5;21;01mgeopandas\u001b[39;00m \u001b[38;5;28;01mas\u001b[39;00m \u001b[38;5;21;01mgp\u001b[39;00m\n\u001b[0;32m      5\u001b[0m \u001b[38;5;28;01mimport\u001b[39;00m \u001b[38;5;21;01mpandas\u001b[39;00m \u001b[38;5;28;01mas\u001b[39;00m \u001b[38;5;21;01mpd\u001b[39;00m\n\u001b[1;32m----> 6\u001b[0m \u001b[38;5;28;01mfrom\u001b[39;00m \u001b[38;5;21;01mpam\u001b[39;00m \u001b[38;5;28;01mimport\u001b[39;00m read, write\n\u001b[0;32m      7\u001b[0m \u001b[38;5;28;01mfrom\u001b[39;00m \u001b[38;5;21;01mpam\u001b[39;00m\u001b[38;5;21;01m.\u001b[39;00m\u001b[38;5;21;01mcore\u001b[39;00m \u001b[38;5;28;01mimport\u001b[39;00m Population\n\u001b[0;32m      8\u001b[0m \u001b[38;5;28;01mfrom\u001b[39;00m \u001b[38;5;21;01mpam\u001b[39;00m\u001b[38;5;21;01m.\u001b[39;00m\u001b[38;5;21;01mplot\u001b[39;00m\u001b[38;5;21;01m.\u001b[39;00m\u001b[38;5;21;01mstats\u001b[39;00m \u001b[38;5;28;01mimport\u001b[39;00m plot_activity_times, plot_leg_times\n",
      "\u001b[1;31mModuleNotFoundError\u001b[0m: No module named 'pam'"
     ]
    }
   ],
   "source": [
    "import os\n",
    "from copy import deepcopy\n",
    "\n",
    "import geopandas as gp\n",
    "import pandas as pd\n",
    "from pam import read, write\n",
    "from pam.core import Population\n",
    "from pam.plot.stats import plot_activity_times, plot_leg_times\n",
    "from pam.samplers.basic import freq_sample\n",
    "from pam.samplers.spatial import RandomPointSampler"
   ]
  },
  {
   "cell_type": "code",
   "execution_count": 2,
   "metadata": {
    "execution": {
     "iopub.execute_input": "2023-09-22T10:52:18.426400Z",
     "iopub.status.busy": "2023-09-22T10:52:18.426259Z",
     "iopub.status.idle": "2023-09-22T10:52:18.428276Z",
     "shell.execute_reply": "2023-09-22T10:52:18.427954Z"
    }
   },
   "outputs": [],
   "source": [
    "use_dummy_data = True"
   ]
  },
  {
   "cell_type": "code",
   "execution_count": 3,
   "metadata": {
    "ExecuteTime": {
     "end_time": "2020-11-23T09:59:00.383199Z",
     "start_time": "2020-11-23T09:59:00.357541Z"
    },
    "execution": {
     "iopub.execute_input": "2023-09-22T10:52:18.429789Z",
     "iopub.status.busy": "2023-09-22T10:52:18.429655Z",
     "iopub.status.idle": "2023-09-22T10:52:18.431790Z",
     "shell.execute_reply": "2023-09-22T10:52:18.431516Z"
    }
   },
   "outputs": [],
   "source": [
    "out_dir = \"./outputs\"  # outputs are writen here\n",
    "\n",
    "# required inputs from the National Travel Survey\n",
    "if use_dummy_data:\n",
    "    households_csv = \"./data/dummyNTS/householdeul2017.tab\"\n",
    "    individuals_csv = \"./data/dummyNTS/individualeul2017.tab\"\n",
    "    trips_csv = \"./data/dummyNTS/tripeul2017.tab\"\n",
    "\n",
    "else:\n",
    "    households_csv = \"~/Data/UKDA-5340-tab/tab/householdeul2017.tab\"\n",
    "    individuals_csv = \"~/Data/UKDA-5340-tab/tab/individualeul2017.tab\"\n",
    "    trips_csv = \"~/Data/UKDA-5340-tab/tab/tripeul2017.tab\""
   ]
  },
  {
   "attachments": {},
   "cell_type": "markdown",
   "metadata": {},
   "source": [
    "## Load data"
   ]
  },
  {
   "attachments": {},
   "cell_type": "markdown",
   "metadata": {
    "ExecuteTime": {
     "end_time": "2020-08-03T17:13:00.123065Z",
     "start_time": "2020-08-03T17:13:00.093023Z"
    }
   },
   "source": [
    "### Load households data\n",
    "\n",
    "1. Load household data into pandas DataFrame.\n",
    "2. Create some mappings of participation and weighting by household for use later. These are described in http://doc.ukdataservice.ac.uk/doc/5340/mrdoc/pdf/5340_nts_user_guidance_1995-2016.pdf"
   ]
  },
  {
   "cell_type": "code",
   "execution_count": 4,
   "metadata": {
    "ExecuteTime": {
     "end_time": "2020-11-23T09:59:02.359648Z",
     "start_time": "2020-11-23T09:59:01.049612Z"
    },
    "execution": {
     "iopub.execute_input": "2023-09-22T10:52:18.433234Z",
     "iopub.status.busy": "2023-09-22T10:52:18.433114Z",
     "iopub.status.idle": "2023-09-22T10:52:18.451390Z",
     "shell.execute_reply": "2023-09-22T10:52:18.450953Z"
    }
   },
   "outputs": [],
   "source": [
    "hh_in = pd.read_csv(\n",
    "    households_csv,\n",
    "    sep=\"\\t\",\n",
    "    usecols=[\n",
    "        \"HouseholdID\",\n",
    "        \"SurveyYear\",\n",
    "        \"PSUID\",\n",
    "        \"W2\",\n",
    "        \"OutCom_B02ID\",\n",
    "        \"HHIncome2002_B02ID\",\n",
    "        \"AddressType_B01ID\",\n",
    "        \"Ten1_B02ID\",\n",
    "        \"Landlord_B01ID\",\n",
    "        \"ResLength_B01ID\",\n",
    "        \"HHoldCountry_B01ID\",\n",
    "        \"HHoldGOR_B02ID\",\n",
    "        \"HHoldNumAdults\",\n",
    "        \"HHoldNumChildren\",\n",
    "        \"HHoldNumPeople\",\n",
    "        \"HHoldStruct_B02ID\",\n",
    "        \"NumLicHolders\",\n",
    "        \"HHoldEmploy_B01ID\",\n",
    "        \"NumVehicles\",\n",
    "        \"NumBike\",\n",
    "        \"NumCar\",\n",
    "        \"NumMCycle\",\n",
    "        \"NumVanLorry\",\n",
    "        \"NumCarVan\",\n",
    "        \"WalkBus_B01ID\",\n",
    "        \"Getbus_B01ID\",\n",
    "        \"WalkRail_B01ID\",\n",
    "        \"WalkRailAlt_B01ID\",\n",
    "        \"HRPWorkStat_B02ID\",\n",
    "        \"HRPSEGWorkStat_B01ID\",\n",
    "        \"HHoldOAClass2011_B03ID\",\n",
    "        \"Settlement2011EW_B03ID\",\n",
    "        \"Settlement2011EW_B04ID\",\n",
    "    ],\n",
    ")\n",
    "\n",
    "hh_in.HHIncome2002_B02ID = pd.to_numeric(hh_in.HHIncome2002_B02ID, errors=\"coerce\")\n",
    "hh_in.NumLicHolders = pd.to_numeric(hh_in.NumLicHolders, errors=\"coerce\")\n",
    "hh_in.NumVehicles = pd.to_numeric(hh_in.NumVehicles, errors=\"coerce\")\n",
    "hh_in.NumCar = pd.to_numeric(hh_in.NumCar, errors=\"coerce\")\n",
    "hh_in.NumMCycle = pd.to_numeric(hh_in.NumMCycle, errors=\"coerce\")\n",
    "hh_in.NumVanLorry = pd.to_numeric(hh_in.NumVanLorry, errors=\"coerce\")\n",
    "hh_in.NumCarVan = pd.to_numeric(hh_in.NumCarVan, errors=\"coerce\")\n",
    "hh_in.Settlement2011EW_B04ID = pd.to_numeric(hh_in.Settlement2011EW_B04ID, errors=\"coerce\")\n",
    "\n",
    "hh_in.head()"
   ]
  },
  {
   "cell_type": "code",
   "execution_count": 5,
   "metadata": {
    "ExecuteTime": {
     "end_time": "2020-11-23T09:59:02.471138Z",
     "start_time": "2020-11-23T09:59:02.362042Z"
    },
    "execution": {
     "iopub.execute_input": "2023-09-22T10:52:18.453155Z",
     "iopub.status.busy": "2023-09-22T10:52:18.453038Z",
     "iopub.status.idle": "2023-09-22T10:52:18.454999Z",
     "shell.execute_reply": "2023-09-22T10:52:18.454725Z"
    }
   },
   "outputs": [],
   "source": [
    "participation_mapping = dict(zip(hh_in.HouseholdID, hh_in.OutCom_B02ID))\n",
    "weight_mapping = dict(zip(hh_in.HouseholdID, hh_in.W2))"
   ]
  },
  {
   "attachments": {},
   "cell_type": "markdown",
   "metadata": {
    "ExecuteTime": {
     "end_time": "2020-08-04T10:49:47.862682Z",
     "start_time": "2020-08-04T10:49:47.799479Z"
    }
   },
   "source": [
    "### Load person data\n",
    "\n",
    "Load person attributes data into pandas DataFrame."
   ]
  },
  {
   "cell_type": "code",
   "execution_count": 6,
   "metadata": {
    "ExecuteTime": {
     "end_time": "2020-11-23T09:59:06.030164Z",
     "start_time": "2020-11-23T09:59:02.474033Z"
    },
    "execution": {
     "iopub.execute_input": "2023-09-22T10:52:18.456306Z",
     "iopub.status.busy": "2023-09-22T10:52:18.456213Z",
     "iopub.status.idle": "2023-09-22T10:52:18.471038Z",
     "shell.execute_reply": "2023-09-22T10:52:18.470755Z"
    }
   },
   "outputs": [],
   "source": [
    "persons_in = pd.read_csv(\n",
    "    individuals_csv,\n",
    "    sep=\"\\t\",\n",
    "    usecols=[\n",
    "        \"SurveyYear\",\n",
    "        \"IndividualID\",\n",
    "        \"HouseholdID\",\n",
    "        \"PSUID\",\n",
    "        \"VehicleID\",\n",
    "        \"PersNo\",\n",
    "        \"Age_B01ID\",\n",
    "        \"OfPenAge_B01ID\",\n",
    "        \"Sex_B01ID\",\n",
    "        \"EdAttn1_B01ID\",\n",
    "        \"EdAttn2_B01ID\",\n",
    "        \"EdAttn3_B01ID\",\n",
    "        \"DrivLic_B02ID\",\n",
    "        \"CarAccess_B01ID\",\n",
    "        \"DrivDisable_B01ID\",\n",
    "        \"WkPlace_B01ID\",\n",
    "        \"ES2000_B01ID\",\n",
    "        \"NSSec_B03ID\",\n",
    "        \"SC_B01ID\",\n",
    "        \"Stat_B01ID\",\n",
    "        \"SVise_B01ID\",\n",
    "        \"EcoStat_B02ID\",\n",
    "        \"PossHom_B01ID\",\n",
    "    ],\n",
    ")\n",
    "persons_in.head()"
   ]
  },
  {
   "attachments": {},
   "cell_type": "markdown",
   "metadata": {},
   "source": [
    "### load trip data\n",
    "\n",
    "1. Load trip data into pandas DataFrame format.\n",
    "2. Apply some preliminary formatting\n",
    "3. Replace headers so that we can use pam read method:\n",
    "\n",
    "\n",
    "- pid - person ID\n",
    "- hid - household ID\n",
    "- seq - trip sequence number\n",
    "- hzone - household zone\n",
    "- ozone - trip origin zone\n",
    "- dzone - trip destination zone\n",
    "- purp - trip purpose\n",
    "- mode - trip mode\n",
    "- tst - trip start time (minutes)\n",
    "- tet - trip end time (minutes)\n",
    "- freq - weighting for representative population"
   ]
  },
  {
   "cell_type": "code",
   "execution_count": 7,
   "metadata": {
    "ExecuteTime": {
     "end_time": "2020-11-23T09:59:19.495376Z",
     "start_time": "2020-11-23T09:59:06.038395Z"
    },
    "execution": {
     "iopub.execute_input": "2023-09-22T10:52:18.472511Z",
     "iopub.status.busy": "2023-09-22T10:52:18.472408Z",
     "iopub.status.idle": "2023-09-22T10:52:18.493167Z",
     "shell.execute_reply": "2023-09-22T10:52:18.492893Z"
    }
   },
   "outputs": [],
   "source": [
    "travel_diaries_in = pd.read_csv(\n",
    "    trips_csv,\n",
    "    sep=\"\\t\",\n",
    "    usecols=[\n",
    "        \"TripID\",\n",
    "        \"SurveyYear\",\n",
    "        \"DayID\",\n",
    "        \"IndividualID\",\n",
    "        \"HouseholdID\",\n",
    "        \"PSUID\",\n",
    "        \"PersNo\",\n",
    "        \"TravDay\",\n",
    "        \"JourSeq\",\n",
    "        \"ShortWalkTrip_B01ID\",\n",
    "        \"NumStages\",\n",
    "        \"MainMode_B04ID\",\n",
    "        \"TripPurpFrom_B01ID\",\n",
    "        \"TripPurpTo_B01ID\",\n",
    "        \"TripPurpose_B04ID\",\n",
    "        \"TripStart\",\n",
    "        \"TripEnd\",\n",
    "        \"TripOrigUA2009_B01ID\",\n",
    "        \"TripDestUA2009_B01ID\",\n",
    "    ],\n",
    ")\n",
    "\n",
    "travel_diaries_in.TripStart = pd.to_numeric(travel_diaries_in.TripStart, errors=\"coerce\")\n",
    "travel_diaries_in.TripEnd = pd.to_numeric(travel_diaries_in.TripEnd, errors=\"coerce\")\n",
    "\n",
    "travel_diaries_in.head()"
   ]
  },
  {
   "cell_type": "code",
   "execution_count": 8,
   "metadata": {
    "ExecuteTime": {
     "end_time": "2020-11-23T09:59:19.921306Z",
     "start_time": "2020-11-23T09:59:19.500969Z"
    },
    "execution": {
     "iopub.execute_input": "2023-09-22T10:52:18.494544Z",
     "iopub.status.busy": "2023-09-22T10:52:18.494465Z",
     "iopub.status.idle": "2023-09-22T10:52:18.496966Z",
     "shell.execute_reply": "2023-09-22T10:52:18.496728Z"
    }
   },
   "outputs": [],
   "source": [
    "travel_diaries_in[\"participation\"] = travel_diaries_in.HouseholdID.map(participation_mapping)\n",
    "travel_diaries_in[\"hh_weight\"] = travel_diaries_in.HouseholdID.map(weight_mapping)"
   ]
  },
  {
   "cell_type": "code",
   "execution_count": 9,
   "metadata": {
    "ExecuteTime": {
     "end_time": "2020-11-23T09:59:21.535710Z",
     "start_time": "2020-11-23T09:59:19.924030Z"
    },
    "execution": {
     "iopub.execute_input": "2023-09-22T10:52:18.498155Z",
     "iopub.status.busy": "2023-09-22T10:52:18.498070Z",
     "iopub.status.idle": "2023-09-22T10:52:18.500435Z",
     "shell.execute_reply": "2023-09-22T10:52:18.500164Z"
    }
   },
   "outputs": [],
   "source": [
    "travel_diaries = travel_diaries_in.loc[travel_diaries_in.participation.isin([1, 2])]"
   ]
  },
  {
   "cell_type": "code",
   "execution_count": 10,
   "metadata": {
    "ExecuteTime": {
     "end_time": "2020-11-23T09:59:21.576839Z",
     "start_time": "2020-11-23T09:59:21.538108Z"
    },
    "execution": {
     "iopub.execute_input": "2023-09-22T10:52:18.501975Z",
     "iopub.status.busy": "2023-09-22T10:52:18.501853Z",
     "iopub.status.idle": "2023-09-22T10:52:18.507388Z",
     "shell.execute_reply": "2023-09-22T10:52:18.507140Z"
    }
   },
   "outputs": [],
   "source": [
    "travel_diaries.head()"
   ]
  },
  {
   "cell_type": "code",
   "execution_count": 11,
   "metadata": {
    "ExecuteTime": {
     "end_time": "2020-11-23T09:59:21.676906Z",
     "start_time": "2020-11-23T09:59:21.579327Z"
    },
    "execution": {
     "iopub.execute_input": "2023-09-22T10:52:18.508811Z",
     "iopub.status.busy": "2023-09-22T10:52:18.508712Z",
     "iopub.status.idle": "2023-09-22T10:52:18.514188Z",
     "shell.execute_reply": "2023-09-22T10:52:18.513960Z"
    }
   },
   "outputs": [],
   "source": [
    "travel_diaries = travel_diaries.rename(\n",
    "    columns={  # rename data\n",
    "        \"JourSeq\": \"seq\",\n",
    "        \"TripOrigUA2009_B01ID\": \"ozone\",\n",
    "        \"TripDestUA2009_B01ID\": \"dzone\",\n",
    "        \"TripPurpFrom_B01ID\": \"oact\",\n",
    "        \"TripPurpTo_B01ID\": \"dact\",\n",
    "        \"MainMode_B04ID\": \"mode\",\n",
    "        \"TripStart\": \"tst\",\n",
    "        \"TripEnd\": \"tet\",\n",
    "    }\n",
    ")\n",
    "\n",
    "travel_diaries.head()"
   ]
  },
  {
   "cell_type": "code",
   "execution_count": 12,
   "metadata": {
    "ExecuteTime": {
     "end_time": "2020-11-23T09:59:21.720775Z",
     "start_time": "2020-11-23T09:59:21.680364Z"
    },
    "execution": {
     "iopub.execute_input": "2023-09-22T10:52:18.515488Z",
     "iopub.status.busy": "2023-09-22T10:52:18.515408Z",
     "iopub.status.idle": "2023-09-22T10:52:18.517995Z",
     "shell.execute_reply": "2023-09-22T10:52:18.517726Z"
    }
   },
   "outputs": [],
   "source": [
    "travel_diaries.dtypes"
   ]
  },
  {
   "cell_type": "code",
   "execution_count": 13,
   "metadata": {
    "ExecuteTime": {
     "end_time": "2020-11-23T09:59:21.767674Z",
     "start_time": "2020-11-23T09:59:21.729518Z"
    },
    "execution": {
     "iopub.execute_input": "2023-09-22T10:52:18.519296Z",
     "iopub.status.busy": "2023-09-22T10:52:18.519202Z",
     "iopub.status.idle": "2023-09-22T10:52:18.521045Z",
     "shell.execute_reply": "2023-09-22T10:52:18.520816Z"
    }
   },
   "outputs": [],
   "source": [
    "def check_uniques(df):\n",
    "    for c in df.columns:\n",
    "        print(c)\n",
    "        n = df[c].nunique()\n",
    "        if n < 1000:\n",
    "            print(df[c].unique())"
   ]
  },
  {
   "cell_type": "code",
   "execution_count": 14,
   "metadata": {
    "ExecuteTime": {
     "end_time": "2020-11-23T09:59:21.922539Z",
     "start_time": "2020-11-23T09:59:21.772210Z"
    },
    "execution": {
     "iopub.execute_input": "2023-09-22T10:52:18.522246Z",
     "iopub.status.busy": "2023-09-22T10:52:18.522164Z",
     "iopub.status.idle": "2023-09-22T10:52:18.528192Z",
     "shell.execute_reply": "2023-09-22T10:52:18.527939Z"
    }
   },
   "outputs": [],
   "source": [
    "check_uniques(travel_diaries)"
   ]
  },
  {
   "attachments": {},
   "cell_type": "markdown",
   "metadata": {},
   "source": [
    "## Area Mapping\n",
    "\n",
    "The NTS documentation refers to a 'modified' 2009 Unitary Authorities. The Unmodified 2017 UAs are included below for reference. They 2017 UA names are similar but not the same as the NTS mappings.\n",
    "\n",
    "Found here: https://data.gov.uk/dataset/4e1d5b2c-bb91-42ad-b420-f7fcab638389/counties-and-unitary-authorities-december-2017-full-extent-boundaries-in-uk-wgs84.\n",
    "\n",
    "We have built our own geometry:"
   ]
  },
  {
   "cell_type": "code",
   "execution_count": 15,
   "metadata": {
    "ExecuteTime": {
     "end_time": "2020-11-23T09:59:21.952200Z",
     "start_time": "2020-11-23T09:59:21.925277Z"
    },
    "execution": {
     "iopub.execute_input": "2023-09-22T10:52:18.529443Z",
     "iopub.status.busy": "2023-09-22T10:52:18.529354Z",
     "iopub.status.idle": "2023-09-22T10:52:18.530990Z",
     "shell.execute_reply": "2023-09-22T10:52:18.530708Z"
    }
   },
   "outputs": [],
   "source": [
    "area_path = \"./data/dummyNTS/NTSareas.geojson\""
   ]
  },
  {
   "cell_type": "code",
   "execution_count": 16,
   "metadata": {
    "ExecuteTime": {
     "end_time": "2020-11-23T09:59:32.378392Z",
     "start_time": "2020-11-23T09:59:21.955206Z"
    },
    "execution": {
     "iopub.execute_input": "2023-09-22T10:52:18.532411Z",
     "iopub.status.busy": "2023-09-22T10:52:18.532310Z",
     "iopub.status.idle": "2023-09-22T10:52:18.627186Z",
     "shell.execute_reply": "2023-09-22T10:52:18.626918Z"
    }
   },
   "outputs": [],
   "source": [
    "areas = gp.read_file(area_path)\n",
    "areas.head()"
   ]
  },
  {
   "cell_type": "code",
   "execution_count": 17,
   "metadata": {
    "ExecuteTime": {
     "end_time": "2020-11-23T09:59:33.886738Z",
     "start_time": "2020-11-23T09:59:32.383388Z"
    },
    "execution": {
     "iopub.execute_input": "2023-09-22T10:52:18.628557Z",
     "iopub.status.busy": "2023-09-22T10:52:18.628463Z",
     "iopub.status.idle": "2023-09-22T10:52:18.687301Z",
     "shell.execute_reply": "2023-09-22T10:52:18.687006Z"
    }
   },
   "outputs": [],
   "source": [
    "areas.plot(figsize=(6, 6))"
   ]
  },
  {
   "attachments": {},
   "cell_type": "markdown",
   "metadata": {},
   "source": [
    "## Clean out incomplete plans"
   ]
  },
  {
   "cell_type": "code",
   "execution_count": 18,
   "metadata": {
    "ExecuteTime": {
     "end_time": "2020-11-23T09:59:33.918312Z",
     "start_time": "2020-11-23T09:59:33.888534Z"
    },
    "execution": {
     "iopub.execute_input": "2023-09-22T10:52:18.688745Z",
     "iopub.status.busy": "2023-09-22T10:52:18.688629Z",
     "iopub.status.idle": "2023-09-22T10:52:18.690900Z",
     "shell.execute_reply": "2023-09-22T10:52:18.690469Z"
    }
   },
   "outputs": [],
   "source": [
    "def remove_broken_plans(plan):\n",
    "    if plan.isnull().values.any():\n",
    "        return None\n",
    "    for col in [\"ozone\", \"dzone\"]:\n",
    "        if -8 in list(plan[col]):\n",
    "            return None\n",
    "    return plan"
   ]
  },
  {
   "cell_type": "code",
   "execution_count": 19,
   "metadata": {
    "ExecuteTime": {
     "end_time": "2020-11-23T10:04:57.830263Z",
     "start_time": "2020-11-23T09:59:33.923065Z"
    },
    "execution": {
     "iopub.execute_input": "2023-09-22T10:52:18.692582Z",
     "iopub.status.busy": "2023-09-22T10:52:18.692470Z",
     "iopub.status.idle": "2023-09-22T10:52:18.697630Z",
     "shell.execute_reply": "2023-09-22T10:52:18.697379Z"
    }
   },
   "outputs": [],
   "source": [
    "clean_travel_diaries = (\n",
    "    travel_diaries.groupby([\"IndividualID\", \"TravDay\"], group_keys=False)\n",
    "    .apply(remove_broken_plans)\n",
    "    .reset_index(drop=True)\n",
    ")"
   ]
  },
  {
   "cell_type": "code",
   "execution_count": 20,
   "metadata": {
    "ExecuteTime": {
     "end_time": "2020-11-23T10:04:57.970972Z",
     "start_time": "2020-11-23T10:04:57.833810Z"
    },
    "execution": {
     "iopub.execute_input": "2023-09-22T10:52:18.698817Z",
     "iopub.status.busy": "2023-09-22T10:52:18.698731Z",
     "iopub.status.idle": "2023-09-22T10:52:18.703400Z",
     "shell.execute_reply": "2023-09-22T10:52:18.703161Z"
    }
   },
   "outputs": [],
   "source": [
    "clean_travel_diaries.head()"
   ]
  },
  {
   "cell_type": "code",
   "execution_count": 21,
   "metadata": {
    "ExecuteTime": {
     "end_time": "2020-11-23T10:04:58.083788Z",
     "start_time": "2020-11-23T10:04:57.992403Z"
    },
    "execution": {
     "iopub.execute_input": "2023-09-22T10:52:18.704638Z",
     "iopub.status.busy": "2023-09-22T10:52:18.704551Z",
     "iopub.status.idle": "2023-09-22T10:52:18.706238Z",
     "shell.execute_reply": "2023-09-22T10:52:18.706018Z"
    }
   },
   "outputs": [],
   "source": [
    "print(len(travel_diaries))\n",
    "print(len(clean_travel_diaries))"
   ]
  },
  {
   "attachments": {},
   "cell_type": "markdown",
   "metadata": {},
   "source": [
    "## Build Mappings and apply to common fields\n",
    "\n",
    "We simplify key trip variables such as mode and activity."
   ]
  },
  {
   "cell_type": "code",
   "execution_count": 22,
   "metadata": {
    "ExecuteTime": {
     "end_time": "2020-11-23T10:04:58.466019Z",
     "start_time": "2020-11-23T10:04:58.185590Z"
    },
    "execution": {
     "iopub.execute_input": "2023-09-22T10:52:18.707463Z",
     "iopub.status.busy": "2023-09-22T10:52:18.707373Z",
     "iopub.status.idle": "2023-09-22T10:52:18.712506Z",
     "shell.execute_reply": "2023-09-22T10:52:18.712252Z"
    }
   },
   "outputs": [],
   "source": [
    "mode_mapping = {\n",
    "    1: \"walk\",\n",
    "    2: \"bike\",\n",
    "    3: \"car\",  #'Car/van driver'\n",
    "    4: \"car\",  #'Car/van driver'\n",
    "    5: \"car\",  #'Motorcycle',\n",
    "    6: \"car\",  #'Other private transport',\n",
    "    7: \"pt\",  # Bus in London',\n",
    "    8: \"pt\",  #'Other local bus',\n",
    "    9: \"pt\",  #'Non-local bus',\n",
    "    10: \"pt\",  #'London Underground',\n",
    "    11: \"pt\",  #'Surface Rail',\n",
    "    12: \"car\",  #'Taxi/minicab',\n",
    "    13: \"pt\",  #'Other public transport',\n",
    "    -10: \"DEAD\",\n",
    "    -8: \"NA\",\n",
    "}\n",
    "\n",
    "purp_mapping = {\n",
    "    1: \"work\",\n",
    "    2: \"work\",  #'In course of work',\n",
    "    3: \"education\",\n",
    "    4: \"shop\",  #'Food shopping',\n",
    "    5: \"shop\",  #'Non food shopping',\n",
    "    6: \"medical\",  #'Personal business medical',\n",
    "    7: \"other\",  #'Personal business eat/drink',\n",
    "    8: \"other\",  #'Personal business other',\n",
    "    9: \"other\",  #'Eat/drink with friends',\n",
    "    10: \"visit\",  #'Visit friends',\n",
    "    11: \"other\",  #'Other social',\n",
    "    12: \"other\",  #'Entertain/ public activity',\n",
    "    13: \"other\",  #'Sport: participate',\n",
    "    14: \"home\",  #'Holiday: base',\n",
    "    15: \"other\",  #'Day trip/just walk',\n",
    "    16: \"other\",  #'Other non-escort',\n",
    "    17: \"escort\",  #'Escort home',\n",
    "    18: \"escort\",  #'Escort work',\n",
    "    19: \"escort\",  #'Escort in course of work',\n",
    "    20: \"escort\",  #'Escort education',\n",
    "    21: \"escort\",  #'Escort shopping/personal business',\n",
    "    22: \"escort\",  #'Other escort',\n",
    "    23: \"home\",  #'Home',\n",
    "    -10: \"DEAD\",\n",
    "    -8: \"NA\",\n",
    "}\n",
    "\n",
    "clean_travel_diaries[\"mode\"] = clean_travel_diaries[\"mode\"].map(mode_mapping)\n",
    "clean_travel_diaries[\"oact\"] = clean_travel_diaries[\"oact\"].map(purp_mapping)\n",
    "clean_travel_diaries[\"dact\"] = clean_travel_diaries[\"dact\"].map(purp_mapping)"
   ]
  },
  {
   "attachments": {},
   "cell_type": "markdown",
   "metadata": {},
   "source": [
    "## Reweight and Split Days\n",
    "\n",
    "In order to get the most from our small sample we treat individual diary days as new persons. In order to maintain the original household weighting we reduce this accordingly."
   ]
  },
  {
   "cell_type": "code",
   "execution_count": 23,
   "metadata": {
    "ExecuteTime": {
     "end_time": "2020-11-23T10:07:34.500482Z",
     "start_time": "2020-11-23T10:04:58.468222Z"
    },
    "execution": {
     "iopub.execute_input": "2023-09-22T10:52:18.713808Z",
     "iopub.status.busy": "2023-09-22T10:52:18.713704Z",
     "iopub.status.idle": "2023-09-22T10:52:18.718981Z",
     "shell.execute_reply": "2023-09-22T10:52:18.718716Z"
    }
   },
   "outputs": [],
   "source": [
    "# reweight and split ids for unique days\n",
    "\n",
    "\n",
    "def reweight(group):\n",
    "    \"\"\"\n",
    "    Reweight based on multiple diary days, ie if an agent has two diary days, we will treat these as\n",
    "    two unique agents, so we half the original weighting.\n",
    "    \"\"\"\n",
    "    group[\"freq\"] = group.hh_weight / group.DayID.nunique()\n",
    "    return group\n",
    "\n",
    "\n",
    "trips = clean_travel_diaries.groupby(\"IndividualID\", group_keys=False).apply(reweight)\n",
    "trips[\"pid\"] = [f\"{p}_{d}\" for p, d in zip(trips.IndividualID, trips.TravDay)]\n",
    "trips[\"hid\"] = [f\"{h}_{d}\" for h, d in zip(trips.HouseholdID, trips.TravDay)]"
   ]
  },
  {
   "cell_type": "code",
   "execution_count": 24,
   "metadata": {
    "ExecuteTime": {
     "end_time": "2020-11-23T10:07:34.642431Z",
     "start_time": "2020-11-23T10:07:34.516529Z"
    },
    "execution": {
     "iopub.execute_input": "2023-09-22T10:52:18.720275Z",
     "iopub.status.busy": "2023-09-22T10:52:18.720190Z",
     "iopub.status.idle": "2023-09-22T10:52:18.725908Z",
     "shell.execute_reply": "2023-09-22T10:52:18.725657Z"
    }
   },
   "outputs": [],
   "source": [
    "trips.head()"
   ]
  },
  {
   "cell_type": "code",
   "execution_count": 25,
   "metadata": {
    "ExecuteTime": {
     "end_time": "2020-11-23T10:07:34.763851Z",
     "start_time": "2020-11-23T10:07:34.712210Z"
    },
    "execution": {
     "iopub.execute_input": "2023-09-22T10:52:18.727170Z",
     "iopub.status.busy": "2023-09-22T10:52:18.727081Z",
     "iopub.status.idle": "2023-09-22T10:52:18.730027Z",
     "shell.execute_reply": "2023-09-22T10:52:18.729786Z"
    }
   },
   "outputs": [],
   "source": [
    "def expand_days(\n",
    "    trips, target, trips_on=\"Diary_number\", target_on=\"Diary_number\", new_id=\"pid\", trim=True\n",
    "):\n",
    "    \"\"\"\n",
    "    Expand target df based on mapping between trips target_on and new_id.\n",
    "    This is so slow. Fix\n",
    "    Set index to new_id.\n",
    "    \"\"\"\n",
    "    print(\"Building mapping.\")\n",
    "    mapping = {}\n",
    "    for i, person in trips.groupby(target_on):\n",
    "        mapping[i] = list(set(person[new_id]))\n",
    "    n = len(mapping)\n",
    "\n",
    "    if trim:\n",
    "        print(\"Trimming target.\")\n",
    "        selection = set(trips[trips_on])\n",
    "        target = target.loc[target[target_on].isin(selection)]\n",
    "\n",
    "    expanded = pd.DataFrame()\n",
    "    for p, (i, ids) in enumerate(mapping.items()):\n",
    "        if not p % 10:\n",
    "            print(f\"Building expanded data {p}/{n}\", end=\"\\r\", flush=True)\n",
    "        for idx in ids:\n",
    "            split = target.loc[target[target_on] == i]\n",
    "            expanded = pd.concat([expanded, split.assign(**{new_id: idx})])\n",
    "    expanded = expanded.set_index(new_id)\n",
    "    print(\"Done\")\n",
    "    return expanded"
   ]
  },
  {
   "cell_type": "code",
   "execution_count": 26,
   "metadata": {
    "ExecuteTime": {
     "end_time": "2020-11-23T10:58:31.895656Z",
     "start_time": "2020-11-23T10:07:34.767754Z"
    },
    "execution": {
     "iopub.execute_input": "2023-09-22T10:52:18.731234Z",
     "iopub.status.busy": "2023-09-22T10:52:18.731150Z",
     "iopub.status.idle": "2023-09-22T10:52:18.741950Z",
     "shell.execute_reply": "2023-09-22T10:52:18.741697Z"
    }
   },
   "outputs": [],
   "source": [
    "hhs = expand_days(trips, hh_in, trips_on=\"HouseholdID\", target_on=\"HouseholdID\", new_id=\"hid\")"
   ]
  },
  {
   "cell_type": "code",
   "execution_count": 27,
   "metadata": {
    "ExecuteTime": {
     "end_time": "2020-11-23T10:58:31.978135Z",
     "start_time": "2020-11-23T10:58:31.915713Z"
    },
    "execution": {
     "iopub.execute_input": "2023-09-22T10:52:18.743284Z",
     "iopub.status.busy": "2023-09-22T10:52:18.743186Z",
     "iopub.status.idle": "2023-09-22T10:52:18.748301Z",
     "shell.execute_reply": "2023-09-22T10:52:18.748035Z"
    }
   },
   "outputs": [],
   "source": [
    "hhs.head()"
   ]
  },
  {
   "cell_type": "code",
   "execution_count": 28,
   "metadata": {
    "ExecuteTime": {
     "end_time": "2020-11-23T12:10:07.759760Z",
     "start_time": "2020-11-23T10:58:31.993216Z"
    },
    "execution": {
     "iopub.execute_input": "2023-09-22T10:52:18.749546Z",
     "iopub.status.busy": "2023-09-22T10:52:18.749454Z",
     "iopub.status.idle": "2023-09-22T10:52:18.763483Z",
     "shell.execute_reply": "2023-09-22T10:52:18.763233Z"
    }
   },
   "outputs": [],
   "source": [
    "people = expand_days(\n",
    "    trips, persons_in, trips_on=\"IndividualID\", target_on=\"IndividualID\", new_id=\"pid\"\n",
    ")"
   ]
  },
  {
   "cell_type": "code",
   "execution_count": 29,
   "metadata": {
    "ExecuteTime": {
     "end_time": "2020-11-23T12:10:07.823487Z",
     "start_time": "2020-11-23T12:10:07.762160Z"
    },
    "execution": {
     "iopub.execute_input": "2023-09-22T10:52:18.764803Z",
     "iopub.status.busy": "2023-09-22T10:52:18.764706Z",
     "iopub.status.idle": "2023-09-22T10:52:18.770110Z",
     "shell.execute_reply": "2023-09-22T10:52:18.769724Z"
    }
   },
   "outputs": [],
   "source": [
    "people.head()"
   ]
  },
  {
   "attachments": {},
   "cell_type": "markdown",
   "metadata": {},
   "source": [
    "## Load into PAM\n",
    "\n",
    "We load the pandas formatted data into Pam using the `pam.read.load_travel_diary_from_to` read method. We do some very preliminary validation of plans and assurance."
   ]
  },
  {
   "cell_type": "code",
   "execution_count": 30,
   "metadata": {
    "ExecuteTime": {
     "end_time": "2020-11-23T12:10:08.008552Z",
     "start_time": "2020-11-23T12:10:07.963560Z"
    },
    "execution": {
     "iopub.execute_input": "2023-09-22T10:52:18.771486Z",
     "iopub.status.busy": "2023-09-22T10:52:18.771407Z",
     "iopub.status.idle": "2023-09-22T10:52:18.773465Z",
     "shell.execute_reply": "2023-09-22T10:52:18.773224Z"
    }
   },
   "outputs": [],
   "source": [
    "trips.tst = trips.tst.astype(int)\n",
    "trips.tet = trips.tet.astype(int)"
   ]
  },
  {
   "cell_type": "code",
   "execution_count": 31,
   "metadata": {
    "ExecuteTime": {
     "end_time": "2020-11-23T12:10:17.801118Z",
     "start_time": "2020-11-23T12:10:08.014383Z"
    },
    "execution": {
     "iopub.execute_input": "2023-09-22T10:52:18.774712Z",
     "iopub.status.busy": "2023-09-22T10:52:18.774624Z",
     "iopub.status.idle": "2023-09-22T10:52:18.802747Z",
     "shell.execute_reply": "2023-09-22T10:52:18.802465Z"
    },
    "scrolled": true
   },
   "outputs": [],
   "source": [
    "population = read.load_travel_diary(\n",
    "    trips=trips, persons_attributes=people, hhs_attributes=hhs, trip_freq_as_person_freq=True\n",
    ")"
   ]
  },
  {
   "cell_type": "code",
   "execution_count": 32,
   "metadata": {
    "ExecuteTime": {
     "end_time": "2020-11-23T12:10:17.999106Z",
     "start_time": "2020-11-23T12:10:17.804047Z"
    },
    "execution": {
     "iopub.execute_input": "2023-09-22T10:52:18.804103Z",
     "iopub.status.busy": "2023-09-22T10:52:18.804023Z",
     "iopub.status.idle": "2023-09-22T10:52:18.806311Z",
     "shell.execute_reply": "2023-09-22T10:52:18.806053Z"
    }
   },
   "outputs": [],
   "source": [
    "population.fix_plans()"
   ]
  },
  {
   "cell_type": "code",
   "execution_count": 33,
   "metadata": {
    "ExecuteTime": {
     "end_time": "2020-11-23T12:10:18.064982Z",
     "start_time": "2020-11-23T12:10:18.001901Z"
    },
    "execution": {
     "iopub.execute_input": "2023-09-22T10:52:18.807657Z",
     "iopub.status.busy": "2023-09-22T10:52:18.807557Z",
     "iopub.status.idle": "2023-09-22T10:52:18.809508Z",
     "shell.execute_reply": "2023-09-22T10:52:18.809273Z"
    }
   },
   "outputs": [],
   "source": [
    "# this should be replaced with a more direct method\n",
    "for hh in population.households.values():\n",
    "    for p in hh.people.values():\n",
    "        p.validate()"
   ]
  },
  {
   "cell_type": "code",
   "execution_count": 34,
   "metadata": {
    "ExecuteTime": {
     "end_time": "2020-11-23T12:10:18.106291Z",
     "start_time": "2020-11-23T12:10:18.067138Z"
    },
    "execution": {
     "iopub.execute_input": "2023-09-22T10:52:18.810682Z",
     "iopub.status.busy": "2023-09-22T10:52:18.810600Z",
     "iopub.status.idle": "2023-09-22T10:52:18.819549Z",
     "shell.execute_reply": "2023-09-22T10:52:18.819284Z"
    }
   },
   "outputs": [],
   "source": [
    "population.size  # this also accounts for the weighting"
   ]
  },
  {
   "cell_type": "code",
   "execution_count": 35,
   "metadata": {
    "ExecuteTime": {
     "end_time": "2020-11-23T12:10:18.169445Z",
     "start_time": "2020-11-23T12:10:18.119285Z"
    },
    "execution": {
     "iopub.execute_input": "2023-09-22T10:52:18.820824Z",
     "iopub.status.busy": "2023-09-22T10:52:18.820737Z",
     "iopub.status.idle": "2023-09-22T10:52:18.822736Z",
     "shell.execute_reply": "2023-09-22T10:52:18.822496Z"
    }
   },
   "outputs": [],
   "source": [
    "population.stats"
   ]
  },
  {
   "cell_type": "code",
   "execution_count": 36,
   "metadata": {
    "ExecuteTime": {
     "end_time": "2020-11-23T12:10:18.219002Z",
     "start_time": "2020-11-23T12:10:18.176008Z"
    },
    "execution": {
     "iopub.execute_input": "2023-09-22T10:52:18.823930Z",
     "iopub.status.busy": "2023-09-22T10:52:18.823829Z",
     "iopub.status.idle": "2023-09-22T10:52:18.826094Z",
     "shell.execute_reply": "2023-09-22T10:52:18.825845Z"
    }
   },
   "outputs": [],
   "source": [
    "population.activity_classes"
   ]
  },
  {
   "cell_type": "code",
   "execution_count": 37,
   "metadata": {
    "ExecuteTime": {
     "end_time": "2020-11-23T12:10:18.270601Z",
     "start_time": "2020-11-23T12:10:18.222929Z"
    },
    "execution": {
     "iopub.execute_input": "2023-09-22T10:52:18.827265Z",
     "iopub.status.busy": "2023-09-22T10:52:18.827182Z",
     "iopub.status.idle": "2023-09-22T10:52:18.829105Z",
     "shell.execute_reply": "2023-09-22T10:52:18.828867Z"
    }
   },
   "outputs": [],
   "source": [
    "population.mode_classes"
   ]
  },
  {
   "cell_type": "code",
   "execution_count": 38,
   "metadata": {
    "ExecuteTime": {
     "end_time": "2020-11-23T12:10:20.473655Z",
     "start_time": "2020-11-23T12:10:18.277070Z"
    },
    "execution": {
     "iopub.execute_input": "2023-09-22T10:52:18.830248Z",
     "iopub.status.busy": "2023-09-22T10:52:18.830159Z",
     "iopub.status.idle": "2023-09-22T10:52:19.413074Z",
     "shell.execute_reply": "2023-09-22T10:52:19.412809Z"
    },
    "scrolled": false
   },
   "outputs": [],
   "source": [
    "plot_activity_times(population)"
   ]
  },
  {
   "cell_type": "code",
   "execution_count": 39,
   "metadata": {
    "ExecuteTime": {
     "end_time": "2020-11-23T12:10:21.682828Z",
     "start_time": "2020-11-23T12:10:20.483760Z"
    },
    "execution": {
     "iopub.execute_input": "2023-09-22T10:52:19.414658Z",
     "iopub.status.busy": "2023-09-22T10:52:19.414556Z",
     "iopub.status.idle": "2023-09-22T10:52:19.637884Z",
     "shell.execute_reply": "2023-09-22T10:52:19.637601Z"
    },
    "scrolled": false
   },
   "outputs": [],
   "source": [
    "plot_leg_times(population)"
   ]
  },
  {
   "cell_type": "code",
   "execution_count": 40,
   "metadata": {
    "ExecuteTime": {
     "end_time": "2020-11-23T12:10:21.728035Z",
     "start_time": "2020-11-23T12:10:21.693486Z"
    },
    "execution": {
     "iopub.execute_input": "2023-09-22T10:52:19.639382Z",
     "iopub.status.busy": "2023-09-22T10:52:19.639284Z",
     "iopub.status.idle": "2023-09-22T10:52:19.640962Z",
     "shell.execute_reply": "2023-09-22T10:52:19.640698Z"
    }
   },
   "outputs": [],
   "source": [
    "# night shift @ 2016008863_6"
   ]
  },
  {
   "cell_type": "code",
   "execution_count": 41,
   "metadata": {
    "ExecuteTime": {
     "end_time": "2020-11-25T10:58:14.515344Z",
     "start_time": "2020-11-25T10:58:14.237045Z"
    },
    "execution": {
     "iopub.execute_input": "2023-09-22T10:52:19.642332Z",
     "iopub.status.busy": "2023-09-22T10:52:19.642233Z",
     "iopub.status.idle": "2023-09-22T10:52:19.724244Z",
     "shell.execute_reply": "2023-09-22T10:52:19.723958Z"
    }
   },
   "outputs": [],
   "source": [
    "hh = population.random_household()\n",
    "hh.print()\n",
    "hh.plot()"
   ]
  },
  {
   "cell_type": "code",
   "execution_count": 42,
   "metadata": {
    "ExecuteTime": {
     "end_time": "2020-11-25T10:58:58.742366Z",
     "start_time": "2020-11-25T10:58:58.698118Z"
    },
    "execution": {
     "iopub.execute_input": "2023-09-22T10:52:19.725897Z",
     "iopub.status.busy": "2023-09-22T10:52:19.725789Z",
     "iopub.status.idle": "2023-09-22T10:52:19.727934Z",
     "shell.execute_reply": "2023-09-22T10:52:19.727704Z"
    }
   },
   "outputs": [],
   "source": [
    "population.activity_classes"
   ]
  },
  {
   "attachments": {},
   "cell_type": "markdown",
   "metadata": {},
   "source": [
    "## Sample the Population\n",
    "\n",
    "We sample a very small population based on the given NTS household weightings."
   ]
  },
  {
   "cell_type": "code",
   "execution_count": 43,
   "metadata": {
    "ExecuteTime": {
     "end_time": "2020-11-23T12:10:26.313000Z",
     "start_time": "2020-11-23T12:10:22.120024Z"
    },
    "execution": {
     "iopub.execute_input": "2023-09-22T10:52:19.729325Z",
     "iopub.status.busy": "2023-09-22T10:52:19.729227Z",
     "iopub.status.idle": "2023-09-22T10:52:19.751158Z",
     "shell.execute_reply": "2023-09-22T10:52:19.750872Z"
    }
   },
   "outputs": [],
   "source": [
    "population_sample = Population()\n",
    "\n",
    "for _hid, household in population.households.items():\n",
    "    av_hh_weight = household.freq  # this is currently the av of person freq in the hh\n",
    "    freq = freq_sample(av_hh_weight, 10)\n",
    "\n",
    "    for idx in range(freq):\n",
    "        hh = deepcopy(household)\n",
    "        hh.hid = f\"{hh.hid}_{idx}\"\n",
    "        hh.people = {}\n",
    "        for pid, person in household.people.items():\n",
    "            p = deepcopy(person)\n",
    "            p.pid = f\"{pid}_{idx}\"\n",
    "            hh.add(p)\n",
    "        population_sample.add(hh)"
   ]
  },
  {
   "cell_type": "code",
   "execution_count": 44,
   "metadata": {
    "ExecuteTime": {
     "end_time": "2020-11-23T12:10:26.354636Z",
     "start_time": "2020-11-23T12:10:26.315503Z"
    },
    "execution": {
     "iopub.execute_input": "2023-09-22T10:52:19.752769Z",
     "iopub.status.busy": "2023-09-22T10:52:19.752673Z",
     "iopub.status.idle": "2023-09-22T10:52:19.754927Z",
     "shell.execute_reply": "2023-09-22T10:52:19.754680Z"
    }
   },
   "outputs": [],
   "source": [
    "population_sample.size"
   ]
  },
  {
   "attachments": {},
   "cell_type": "markdown",
   "metadata": {},
   "source": [
    "## Facility Sampling\n",
    "\n",
    "The facilities input is prepared using a separate project called OSM-Facility Sampler (OSMFS). This project woulbe be better names the OSM Facility *Extractor*. We use it to extract viable activity locations for each activity type for each zone. This project is not currently open source, but is described below:\n",
    "\n",
    "OSMFS joins osm data with the geographies of an area to create a mapping between zones, acts and facility locations (points). This is output as a geojson:\n",
    "\n",
    "{\"type\": \"FeatureCollection\", \"features\": [{\"id\": \"0\", \"type\": \"Feature\", \"properties\": {\"activity\": \"other\"}, \"geometry\": {\"type\": \"Point\", \"coordinates\": [-4.5235751, 54.1698685]}},\n",
    "\n",
    "todo: the current methodology does not support shared facilities, ie facilities with more than one activity (schools are places of education and work for example).\n",
    "\n",
    "todo: the above json has to be rejoined with the geography to create a spatial sampler. This is a duplicated operation which could be included in the Bench output, eg:\n",
    "\n",
    "zone_id: activity: (id, point)"
   ]
  },
  {
   "cell_type": "code",
   "execution_count": 45,
   "metadata": {
    "execution": {
     "iopub.execute_input": "2023-09-22T10:52:19.756240Z",
     "iopub.status.busy": "2023-09-22T10:52:19.756135Z",
     "iopub.status.idle": "2023-09-22T10:52:19.758468Z",
     "shell.execute_reply": "2023-09-22T10:52:19.758191Z"
    }
   },
   "outputs": [],
   "source": [
    "def load_facilities(path, from_crs=\"EPSG:4326\", to_crs=\"EPSG:27700\"):\n",
    "    facilities = gp.read_file(path)\n",
    "    facilities.crs = from_crs\n",
    "    facilities = facilities.to_crs(to_crs)\n",
    "    return facilities\n",
    "\n",
    "\n",
    "def load_zones(zones_path, from_crs=\"EPSG:27700\", to_crs=\"EPSG:27700\"):\n",
    "    zones = gp.read_file(zones_path)\n",
    "    zones = zones.set_index(\"id\")\n",
    "    if from_crs != to_crs:\n",
    "        zones.crs = from_crs\n",
    "        zones = zones.to_crs(to_crs)\n",
    "    return zones"
   ]
  },
  {
   "attachments": {},
   "cell_type": "markdown",
   "metadata": {},
   "source": [
    "## Random Sampler\n",
    "\n",
    "Failing a facility sampler - we can use random sampling instead."
   ]
  },
  {
   "cell_type": "code",
   "execution_count": 46,
   "metadata": {
    "execution": {
     "iopub.execute_input": "2023-09-22T10:52:19.759759Z",
     "iopub.status.busy": "2023-09-22T10:52:19.759663Z",
     "iopub.status.idle": "2023-09-22T10:52:19.920272Z",
     "shell.execute_reply": "2023-09-22T10:52:19.919978Z"
    }
   },
   "outputs": [],
   "source": [
    "zones = load_zones(area_path, from_crs=\"EPSG:4326\")\n",
    "sampler = RandomPointSampler(geoms=zones)"
   ]
  },
  {
   "cell_type": "code",
   "execution_count": 47,
   "metadata": {
    "execution": {
     "iopub.execute_input": "2023-09-22T10:52:19.921898Z",
     "iopub.status.busy": "2023-09-22T10:52:19.921814Z",
     "iopub.status.idle": "2023-09-22T10:52:19.925677Z",
     "shell.execute_reply": "2023-09-22T10:52:19.925296Z"
    }
   },
   "outputs": [],
   "source": [
    "sampler.sample(530, None)"
   ]
  },
  {
   "cell_type": "code",
   "execution_count": 48,
   "metadata": {
    "execution": {
     "iopub.execute_input": "2023-09-22T10:52:19.927101Z",
     "iopub.status.busy": "2023-09-22T10:52:19.926995Z",
     "iopub.status.idle": "2023-09-22T10:52:20.025318Z",
     "shell.execute_reply": "2023-09-22T10:52:20.025006Z"
    }
   },
   "outputs": [],
   "source": [
    "population_sample.sample_locs(sampler)"
   ]
  },
  {
   "cell_type": "code",
   "execution_count": 49,
   "metadata": {
    "ExecuteTime": {
     "end_time": "2020-11-24T18:51:18.843528Z",
     "start_time": "2020-11-24T18:51:18.545189Z"
    },
    "execution": {
     "iopub.execute_input": "2023-09-22T10:52:20.026843Z",
     "iopub.status.busy": "2023-09-22T10:52:20.026767Z",
     "iopub.status.idle": "2023-09-22T10:52:20.123260Z",
     "shell.execute_reply": "2023-09-22T10:52:20.122939Z"
    }
   },
   "outputs": [],
   "source": [
    "person = population_sample.random_person()\n",
    "person.plot()\n",
    "person.print()"
   ]
  },
  {
   "attachments": {},
   "cell_type": "markdown",
   "metadata": {
    "ExecuteTime": {
     "end_time": "2020-11-11T11:48:33.844210Z",
     "start_time": "2020-11-11T11:48:33.815280Z"
    }
   },
   "source": [
    "## Write to Disk\n",
    "\n",
    "1. write MATSim formats to disk (plans and attributes)\n",
    "2. write csv and geojson summaries to disk\n",
    "3. write MATSim formatted facilities to disk"
   ]
  },
  {
   "cell_type": "code",
   "execution_count": 50,
   "metadata": {
    "ExecuteTime": {
     "end_time": "2020-11-24T18:52:43.705393Z",
     "start_time": "2020-11-24T18:52:28.634010Z"
    },
    "execution": {
     "iopub.execute_input": "2023-09-22T10:52:20.124961Z",
     "iopub.status.busy": "2023-09-22T10:52:20.124838Z",
     "iopub.status.idle": "2023-09-22T10:52:20.324022Z",
     "shell.execute_reply": "2023-09-22T10:52:20.323721Z"
    }
   },
   "outputs": [],
   "source": [
    "comment = \"NTS london prelim 24nov2020 epsg27700\"\n",
    "\n",
    "write.write_matsim(\n",
    "    population_sample, plans_path=os.path.join(out_dir, \"plans.xml\"), comment=comment\n",
    ")\n",
    "population_sample.to_csv(out_dir, crs=\"EPSG:27700\", to_crs=\"EPSG:4326\")"
   ]
  }
 ],
 "metadata": {
  "kernelspec": {
   "display_name": "Python 3.7.15 ('venv': venv)",
   "language": "python",
   "name": "python3"
  },
  "language_info": {
   "codemirror_mode": {
    "name": "ipython",
    "version": 3
   },
   "file_extension": ".py",
   "mimetype": "text/x-python",
   "name": "python",
   "nbconvert_exporter": "python",
   "pygments_lexer": "ipython3",
   "version": "3.11.8"
  },
  "toc": {
   "base_numbering": 1,
   "nav_menu": {},
   "number_sections": true,
   "sideBar": true,
   "skip_h1_title": true,
   "title_cell": "Table of Contents",
   "title_sidebar": "Contents",
   "toc_cell": false,
   "toc_position": {},
   "toc_section_display": true,
   "toc_window_display": true
  },
  "vscode": {
   "interpreter": {
    "hash": "9fb97b32d59ec2ca028f3a87eaecd7fdd4e02bf50258ec96057fa127230d231f"
   }
  }
 },
 "nbformat": 4,
 "nbformat_minor": 4
}
