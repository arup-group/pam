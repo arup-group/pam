{
 "cells": [
  {
   "attachments": {},
   "cell_type": "markdown",
   "metadata": {},
   "source": [
    "# Plotting activity times\n",
    "\n",
    "In this example, we show how activity and trip times can be plotted."
   ]
  },
  {
   "cell_type": "code",
   "execution_count": 1,
   "metadata": {
    "ExecuteTime": {
     "end_time": "2020-05-25T13:34:21.070444Z",
     "start_time": "2020-05-25T13:34:20.602707Z"
    },
    "execution": {
     "iopub.execute_input": "2024-04-04T10:40:29.294790Z",
     "iopub.status.busy": "2024-04-04T10:40:29.293790Z",
     "iopub.status.idle": "2024-04-04T10:40:29.881863Z",
     "shell.execute_reply": "2024-04-04T10:40:29.881863Z"
    }
   },
   "outputs": [
    {
     "ename": "ModuleNotFoundError",
     "evalue": "No module named 'pam'",
     "output_type": "error",
     "traceback": [
      "\u001b[1;31m---------------------------------------------------------------------------\u001b[0m",
      "\u001b[1;31mModuleNotFoundError\u001b[0m                       Traceback (most recent call last)",
      "Cell \u001b[1;32mIn[1], line 4\u001b[0m\n\u001b[0;32m      1\u001b[0m \u001b[38;5;28;01mimport\u001b[39;00m \u001b[38;5;21;01mos\u001b[39;00m\n\u001b[0;32m      3\u001b[0m \u001b[38;5;28;01mimport\u001b[39;00m \u001b[38;5;21;01mpandas\u001b[39;00m \u001b[38;5;28;01mas\u001b[39;00m \u001b[38;5;21;01mpd\u001b[39;00m\n\u001b[1;32m----> 4\u001b[0m \u001b[38;5;28;01mfrom\u001b[39;00m \u001b[38;5;21;01mpam\u001b[39;00m \u001b[38;5;28;01mimport\u001b[39;00m read\n\u001b[0;32m      5\u001b[0m \u001b[38;5;28;01mfrom\u001b[39;00m \u001b[38;5;21;01mpam\u001b[39;00m\u001b[38;5;21;01m.\u001b[39;00m\u001b[38;5;21;01mplot\u001b[39;00m\u001b[38;5;21;01m.\u001b[39;00m\u001b[38;5;21;01mstats\u001b[39;00m \u001b[38;5;28;01mimport\u001b[39;00m plot_activity_times, plot_leg_times\n",
      "\u001b[1;31mModuleNotFoundError\u001b[0m: No module named 'pam'"
     ]
    }
   ],
   "source": [
    "import os\n",
    "\n",
    "import pandas as pd\n",
    "from pam import read\n",
    "from pam.plot.stats import plot_activity_times, plot_leg_times"
   ]
  },
  {
   "cell_type": "code",
   "execution_count": 2,
   "metadata": {
    "ExecuteTime": {
     "end_time": "2020-05-25T13:34:22.607313Z",
     "start_time": "2020-05-25T13:34:22.547565Z"
    },
    "execution": {
     "iopub.execute_input": "2023-09-22T10:52:18.418294Z",
     "iopub.status.busy": "2023-09-22T10:52:18.418170Z",
     "iopub.status.idle": "2023-09-22T10:52:18.425439Z",
     "shell.execute_reply": "2023-09-22T10:52:18.425162Z"
    }
   },
   "outputs": [],
   "source": [
    "data_path = os.path.join(\"data\", \"example_data\")\n",
    "trips = pd.read_csv(os.path.join(data_path, \"example_travel_diaries.csv\"))\n",
    "attributes = pd.read_csv(os.path.join(data_path, \"example_attributes.csv\"))\n",
    "attributes = attributes.set_index(\"pid\")"
   ]
  },
  {
   "cell_type": "code",
   "execution_count": 3,
   "metadata": {
    "ExecuteTime": {
     "end_time": "2020-05-25T13:34:31.623061Z",
     "start_time": "2020-05-25T13:34:23.271058Z"
    },
    "execution": {
     "iopub.execute_input": "2023-09-22T10:52:18.426882Z",
     "iopub.status.busy": "2023-09-22T10:52:18.426776Z",
     "iopub.status.idle": "2023-09-22T10:52:18.448233Z",
     "shell.execute_reply": "2023-09-22T10:52:18.447900Z"
    }
   },
   "outputs": [],
   "source": [
    "population = read.load_travel_diary(trips, attributes)"
   ]
  },
  {
   "cell_type": "code",
   "execution_count": 4,
   "metadata": {
    "execution": {
     "iopub.execute_input": "2023-09-22T10:52:18.449730Z",
     "iopub.status.busy": "2023-09-22T10:52:18.449624Z",
     "iopub.status.idle": "2023-09-22T10:52:18.545748Z",
     "shell.execute_reply": "2023-09-22T10:52:18.545460Z"
    }
   },
   "outputs": [],
   "source": [
    "population.random_household().plot()"
   ]
  },
  {
   "cell_type": "code",
   "execution_count": 5,
   "metadata": {
    "ExecuteTime": {
     "end_time": "2020-05-25T13:34:33.431403Z",
     "start_time": "2020-05-25T13:34:32.910502Z"
    },
    "execution": {
     "iopub.execute_input": "2023-09-22T10:52:18.547202Z",
     "iopub.status.busy": "2023-09-22T10:52:18.547095Z",
     "iopub.status.idle": "2023-09-22T10:52:18.778805Z",
     "shell.execute_reply": "2023-09-22T10:52:18.778477Z"
    }
   },
   "outputs": [],
   "source": [
    "fig1 = plot_activity_times(population)"
   ]
  },
  {
   "cell_type": "code",
   "execution_count": 6,
   "metadata": {
    "ExecuteTime": {
     "end_time": "2020-05-25T13:34:33.787965Z",
     "start_time": "2020-05-25T13:34:33.438474Z"
    },
    "execution": {
     "iopub.execute_input": "2023-09-22T10:52:18.780249Z",
     "iopub.status.busy": "2023-09-22T10:52:18.780144Z",
     "iopub.status.idle": "2023-09-22T10:52:18.885297Z",
     "shell.execute_reply": "2023-09-22T10:52:18.884978Z"
    }
   },
   "outputs": [],
   "source": [
    "fig2 = plot_leg_times(population)"
   ]
  },
  {
   "cell_type": "code",
   "execution_count": null,
   "metadata": {},
   "outputs": [],
   "source": []
  }
 ],
 "metadata": {
  "kernelspec": {
   "display_name": "Python 3",
   "language": "python",
   "name": "python3"
  },
  "language_info": {
   "codemirror_mode": {
    "name": "ipython",
    "version": 3
   },
   "file_extension": ".py",
   "mimetype": "text/x-python",
   "name": "python",
   "nbconvert_exporter": "python",
   "pygments_lexer": "ipython3",
   "version": "3.11.8"
  },
  "toc": {
   "base_numbering": 1,
   "nav_menu": {},
   "number_sections": true,
   "sideBar": true,
   "skip_h1_title": false,
   "title_cell": "Table of Contents",
   "title_sidebar": "Contents",
   "toc_cell": false,
   "toc_position": {},
   "toc_section_display": true,
   "toc_window_display": false
  }
 },
 "nbformat": 4,
 "nbformat_minor": 4
}
