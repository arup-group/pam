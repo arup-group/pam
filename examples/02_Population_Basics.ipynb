{
 "cells": [
  {
   "attachments": {},
   "cell_type": "markdown",
   "id": "irish-pharmacology",
   "metadata": {},
   "source": [
    "# Population Basics"
   ]
  },
  {
   "attachments": {},
   "cell_type": "markdown",
   "id": "disciplinary-software",
   "metadata": {},
   "source": [
    "This notebook demonstrates an example workflow for creating a sample population manually. \n",
    "In most applications this is not required (you are more likelly to inject a travel diary or a MATSim plans file) but the exercide is useful to understand the underlying data structure."
   ]
  },
  {
   "attachments": {},
   "cell_type": "markdown",
   "id": "august-oasis",
   "metadata": {},
   "source": [
    "### The Core Objects\n",
    "\n",
    "pam populations are built from three core objects:\n",
    "\n",
    "`Population`, `Household` and `Person` objects. Persons belong to a `Household` and households belong to a `Population`. This relationship can be created using the `Population.add` and `Household.add` methods.\n",
    "\n",
    "Note that `Household` and `Person` objects require unique identifiers. households require a `hid` (household id) and persons a `pid` (person id).\n",
    "\n",
    "Households and Persons can also be given attributes as a simple dictionary. Attributes can include useful features such as income or car ownership."
   ]
  },
  {
   "cell_type": "code",
   "execution_count": 1,
   "id": "d9a7fd44",
   "metadata": {
    "execution": {
     "iopub.execute_input": "2023-07-31T13:01:22.194761Z",
     "iopub.status.busy": "2023-07-31T13:01:22.194578Z",
     "iopub.status.idle": "2023-07-31T13:01:23.180195Z",
     "shell.execute_reply": "2023-07-31T13:01:23.179637Z"
    }
   },
   "outputs": [],
   "source": [
    "from shapely.geometry import Point\n",
    "\n",
    "from pam.activity import Activity, Trip\n",
    "from pam.core import Household, Person, Population\n",
    "from pam.utils import minutes_to_datetime as mtdt\n",
    "from pam.write import write_matsim\n",
    "from pam.write.diary import to_csv"
   ]
  },
  {
   "cell_type": "code",
   "execution_count": 2,
   "id": "substantial-crazy",
   "metadata": {
    "ExecuteTime": {
     "end_time": "2021-03-19T16:00:15.491570Z",
     "start_time": "2021-03-19T16:00:15.471358Z"
    },
    "execution": {
     "iopub.execute_input": "2023-07-31T13:01:23.183592Z",
     "iopub.status.busy": "2023-07-31T13:01:23.183237Z",
     "iopub.status.idle": "2023-07-31T13:01:23.190454Z",
     "shell.execute_reply": "2023-07-31T13:01:23.189997Z"
    }
   },
   "outputs": [
    {
     "data": {
      "text/plain": [
       "{'num_households': 1, 'num_people': 1, 'num_activities': 0, 'num_legs': 0}"
      ]
     },
     "execution_count": 2,
     "metadata": {},
     "output_type": "execute_result"
    }
   ],
   "source": [
    "population = Population()  # initialise an empty population\n",
    "\n",
    "household = Household(hid=0, attributes={\"cars\": 1})\n",
    "\n",
    "person = Person(pid=0, attributes={\"income\": \"medium\"})\n",
    "\n",
    "household.add(person)\n",
    "population.add(household)\n",
    "\n",
    "population.stats"
   ]
  },
  {
   "attachments": {},
   "cell_type": "markdown",
   "id": "developing-eugene",
   "metadata": {},
   "source": [
    "### Activity Plans (or \"Sequences\")\n",
    "\n",
    "`Person` activity plans are held by the `pam.activity.Plan` object. All Persons have a `Plan`, even if it is empty. A `Plan` is simply a sequence of `Activity` and `Trip` (or `Leg`if you prefer - they are equivalent) objects.\n",
    "\n",
    "Plans must start and end with an `Activity` and the two objects must alternate, for example; `Activity(\"home\")`, `Trip()`, `Activity(\"work\")`, `Trip()`, `Activity(\"home\")`.\n",
    "\n",
    "Both Activities and Trips can have start and end times (using datetime objects). Activities have locations whereas Trips have start and end locations. When manually creating your own sequences care should be taken to make these times and locations consistent. Such that, for example, a trip ends when the next activity starts and a trip start is at the same location as the preceding activity.\n",
    "\n",
    "Activities are expected to have a type, for example, `'work'` or `'golf'`. Trips are expected to have a mode, for example `'car'` etc. These examples generally use strings for these features but this is not a requirement."
   ]
  },
  {
   "cell_type": "code",
   "execution_count": 3,
   "id": "87a6626d",
   "metadata": {
    "execution": {
     "iopub.execute_input": "2023-07-31T13:01:23.192689Z",
     "iopub.status.busy": "2023-07-31T13:01:23.192498Z",
     "iopub.status.idle": "2023-07-31T13:01:23.196176Z",
     "shell.execute_reply": "2023-07-31T13:01:23.195779Z"
    }
   },
   "outputs": [
    {
     "name": "stdout",
     "output_type": "stream",
     "text": [
      "Activity(act:home, location:A, time:00:00:00 --> 07:25:00, duration:7:25:00)\n",
      "Leg(mode:car, area:A --> B, time:07:25:00 --> 08:25:00, duration:1:00:00)\n"
     ]
    }
   ],
   "source": [
    "activity = Activity(act=\"home\", area=\"A\", start_time=mtdt(0), end_time=mtdt(445))\n",
    "\n",
    "trip = Trip(mode=\"car\", start_area=\"A\", end_area=\"B\", start_time=mtdt(445), end_time=mtdt(505))\n",
    "\n",
    "print(activity)\n",
    "print(trip)"
   ]
  },
  {
   "attachments": {},
   "cell_type": "markdown",
   "id": "dd990af4",
   "metadata": {},
   "source": [
    "Activities and Trips can be added to a Person object using `Person.add`:"
   ]
  },
  {
   "cell_type": "code",
   "execution_count": 4,
   "id": "3bcf3bd5",
   "metadata": {
    "execution": {
     "iopub.execute_input": "2023-07-31T13:01:23.198283Z",
     "iopub.status.busy": "2023-07-31T13:01:23.198127Z",
     "iopub.status.idle": "2023-07-31T13:01:23.202863Z",
     "shell.execute_reply": "2023-07-31T13:01:23.202373Z"
    }
   },
   "outputs": [
    {
     "name": "stdout",
     "output_type": "stream",
     "text": [
      "Person: 0\n",
      "{'type': 'example'}\n",
      "0:\tActivity(act:home, location:A, time:00:00:00 --> 07:25:00, duration:7:25:00)\n",
      "1:\tLeg(mode:car, area:A --> B, time:07:25:00 --> 08:25:00, duration:1:00:00)\n",
      "2:\tActivity(act:hotel, location:B, time:08:25:00 --> 16:40:00, duration:8:15:00)\n"
     ]
    }
   ],
   "source": [
    "person = Person(pid=0, attributes={\"type\": \"example\"})\n",
    "\n",
    "person.add(Activity(act=\"home\", area=\"A\", start_time=mtdt(0), end_time=mtdt(445)))\n",
    "person.add(Trip(mode=\"car\", start_area=\"A\", end_area=\"B\", start_time=mtdt(445), end_time=mtdt(505)))\n",
    "person.add(Activity(act=\"hotel\", area=\"B\", start_time=mtdt(505), end_time=mtdt(1000)))\n",
    "\n",
    "person.validate()  # the validate method check for consistency in the sequence of locations and times\n",
    "person.print()"
   ]
  },
  {
   "attachments": {},
   "cell_type": "markdown",
   "id": "e5aef6be",
   "metadata": {},
   "source": [
    "### Locations\n",
    "\n",
    "Pam uses `pam.location.Location` objects to keep track of `Activity` and `Trip` locations.\n",
    "\n",
    "These locations can be any combination of `area` or `loc` or `link`. Area is assumed to be spatial zone id, for example, \"City of London\".\n",
    "\n",
    "`Loc` must be a coordinate (using a `shapely.geometry.Point`). `Link` is a network id. Locs and Links are only required for specific applications such as MATSim and can be added or sampled later, so are not covered further here."
   ]
  },
  {
   "cell_type": "code",
   "execution_count": 5,
   "id": "432dec5f",
   "metadata": {
    "execution": {
     "iopub.execute_input": "2023-07-31T13:01:23.205064Z",
     "iopub.status.busy": "2023-07-31T13:01:23.204878Z",
     "iopub.status.idle": "2023-07-31T13:01:23.209763Z",
     "shell.execute_reply": "2023-07-31T13:01:23.209258Z"
    }
   },
   "outputs": [
    {
     "name": "stdout",
     "output_type": "stream",
     "text": [
      "Person: 0\n",
      "{'type': 'example'}\n",
      "0:\tActivity(act:home, location:POINT (0 0), time:00:00:00 --> 07:25:00, duration:7:25:00)\n",
      "1:\tLeg(mode:car, area:POINT (0 0) --> POINT (1234 1234), time:07:25:00 --> 08:25:00, duration:1:00:00)\n",
      "2:\tActivity(act:hotel, location:B, time:08:25:00 --> 16:40:00, duration:8:15:00)\n"
     ]
    }
   ],
   "source": [
    "person = Person(pid=0, attributes={\"type\": \"example\"})\n",
    "\n",
    "person.add(\n",
    "    Activity(act=\"home\", area=\"A\", loc=Point((0, 0)), start_time=mtdt(0), end_time=mtdt(445))\n",
    ")\n",
    "person.add(\n",
    "    Trip(\n",
    "        mode=\"car\",\n",
    "        start_area=\"A\",\n",
    "        end_area=\"B\",\n",
    "        start_loc=Point((0, 0)),\n",
    "        end_loc=Point((1234, 1234)),\n",
    "        start_time=mtdt(445),\n",
    "        end_time=mtdt(505),\n",
    "    )\n",
    ")\n",
    "person.add(Activity(act=\"hotel\", area=\"B\", start_time=mtdt(505), end_time=mtdt(1000)))\n",
    "\n",
    "person.validate()  # the validate method check for consistency in the sequence of locations and times\n",
    "person.print()"
   ]
  },
  {
   "attachments": {},
   "cell_type": "markdown",
   "id": "07fba640",
   "metadata": {},
   "source": [
    "### All Togther Now\n",
    "\n",
    "Pam has read methods for common travel diary data formats and for MATSim. We are also creating simple tour based generators, for example for freight. But below we show how you might create a completely synthetic population from scratch.\n",
    "\n",
    "Note that for conveneince the `add` methods will also try to unpack lists."
   ]
  },
  {
   "cell_type": "code",
   "execution_count": 6,
   "id": "535990c8",
   "metadata": {
    "execution": {
     "iopub.execute_input": "2023-07-31T13:01:23.212113Z",
     "iopub.status.busy": "2023-07-31T13:01:23.211928Z",
     "iopub.status.idle": "2023-07-31T13:01:23.214784Z",
     "shell.execute_reply": "2023-07-31T13:01:23.214378Z"
    }
   },
   "outputs": [],
   "source": [
    "population = Population()  # create a new empty population"
   ]
  },
  {
   "cell_type": "code",
   "execution_count": 7,
   "id": "broadband-launch",
   "metadata": {
    "ExecuteTime": {
     "end_time": "2021-03-19T16:00:15.520501Z",
     "start_time": "2021-03-19T16:00:15.495149Z"
    },
    "execution": {
     "iopub.execute_input": "2023-07-31T13:01:23.217040Z",
     "iopub.status.busy": "2023-07-31T13:01:23.216822Z",
     "iopub.status.idle": "2023-07-31T13:01:23.223185Z",
     "shell.execute_reply": "2023-07-31T13:01:23.222743Z"
    }
   },
   "outputs": [],
   "source": [
    "the_smiths = Household(\"Smiths\")\n",
    "\n",
    "tom = Person(\"Tom\", attributes={\"age\": \"low\"})\n",
    "tammy = Person(\"Tammy\", attributes={\"age\": \"low\"})\n",
    "the_smiths.add([tom, tammy])\n",
    "\n",
    "population.add(the_smiths)  # and add the household to the population\n",
    "\n",
    "tammy.add(\n",
    "    [\n",
    "        Activity(act=\"home\", area=\"A\", loc=Point((0, 0)), start_time=mtdt(0), end_time=mtdt(445)),\n",
    "        Trip(\n",
    "            mode=\"car\",\n",
    "            start_area=\"A\",\n",
    "            end_area=\"B\",\n",
    "            start_loc=Point((0, 0)),\n",
    "            end_loc=Point((1234, 1234)),\n",
    "            start_time=mtdt(445),\n",
    "            end_time=mtdt(505),\n",
    "        ),\n",
    "        Activity(\n",
    "            act=\"work\", area=\"B\", loc=Point((1233, 1234)), start_time=mtdt(505), end_time=mtdt(990)\n",
    "        ),\n",
    "        Trip(\n",
    "            mode=\"car\",\n",
    "            start_area=\"B\",\n",
    "            end_area=\"A\",\n",
    "            start_loc=Point((1234, 1234)),\n",
    "            end_loc=Point((0, 0)),\n",
    "            start_time=mtdt(990),\n",
    "            end_time=mtdt(1050),\n",
    "        ),\n",
    "        Activity(\n",
    "            act=\"home\",\n",
    "            area=\"A\",\n",
    "            loc=Point((0, 0)),\n",
    "            start_time=mtdt(1050),\n",
    "            end_time=mtdt(24 * 60),  # assuming a 24 hour day\n",
    "        ),\n",
    "    ]\n",
    ")\n",
    "\n",
    "tom.add(\n",
    "    [\n",
    "        Activity(\n",
    "            act=\"home\",\n",
    "            area=\"A\",\n",
    "            loc=Point((0, 0)),\n",
    "            start_time=mtdt(0),\n",
    "            end_time=mtdt(24 * 60),  # assuming a 24 hour day\n",
    "        )\n",
    "    ]\n",
    ")"
   ]
  },
  {
   "cell_type": "code",
   "execution_count": 8,
   "id": "geological-profile",
   "metadata": {
    "ExecuteTime": {
     "end_time": "2021-03-19T16:00:15.770591Z",
     "start_time": "2021-03-19T16:00:15.554021Z"
    },
    "execution": {
     "iopub.execute_input": "2023-07-31T13:01:23.225350Z",
     "iopub.status.busy": "2023-07-31T13:01:23.225160Z",
     "iopub.status.idle": "2023-07-31T13:01:23.499779Z",
     "shell.execute_reply": "2023-07-31T13:01:23.499193Z"
    },
    "scrolled": false
   },
   "outputs": [
    {
     "data": {
      "image/png": "[encoded data removed]",
      "text/plain": [
       "<Figure size 1600x400 with 2 Axes>"
      ]
     },
     "metadata": {},
     "output_type": "display_data"
    }
   ],
   "source": [
    "the_smiths.plot()"
   ]
  },
  {
   "cell_type": "code",
   "execution_count": 9,
   "id": "czech-package",
   "metadata": {
    "ExecuteTime": {
     "end_time": "2021-03-19T16:00:15.795433Z",
     "start_time": "2021-03-19T16:00:15.776669Z"
    },
    "execution": {
     "iopub.execute_input": "2023-07-31T13:01:23.502997Z",
     "iopub.status.busy": "2023-07-31T13:01:23.502576Z",
     "iopub.status.idle": "2023-07-31T13:01:23.509901Z",
     "shell.execute_reply": "2023-07-31T13:01:23.509483Z"
    }
   },
   "outputs": [
    {
     "name": "stderr",
     "output_type": "stream",
     "text": [
      "('Directly adding a Person to a Population requires a Household.', 'Auto creating a household 0 for person 0, check this is intended.')\n"
     ]
    }
   ],
   "source": [
    "milkman = Person(0, attributes={\"bot\": \"yes\", \"electric vehicle\": \"yes\"})\n",
    "\n",
    "population.add(\n",
    "    milkman\n",
    ")  # adding a person directly to the population is possible but a household with the same id will be auto generated\n",
    "\n",
    "milkman.add(\n",
    "    [\n",
    "        Activity(act=\"depot\", area=\"A\", loc=Point((0, 0)), start_time=mtdt(0), end_time=mtdt(300)),\n",
    "        Trip(\n",
    "            mode=\"car\",\n",
    "            start_area=\"A\",\n",
    "            end_area=\"A\",\n",
    "            start_loc=Point((0, 0)),\n",
    "            end_loc=Point((1000, 1000)),\n",
    "            start_time=mtdt(300),\n",
    "            end_time=mtdt(310),\n",
    "        ),\n",
    "        Activity(\n",
    "            act=\"delivery\",\n",
    "            area=\"A\",\n",
    "            loc=Point((1000, 1000)),\n",
    "            start_time=mtdt(310),\n",
    "            end_time=mtdt(320),\n",
    "        ),\n",
    "        Trip(\n",
    "            mode=\"car\",\n",
    "            start_area=\"A\",\n",
    "            end_area=\"A\",\n",
    "            start_loc=Point((1000, 1000)),\n",
    "            end_loc=Point((0, 1000)),\n",
    "            start_time=mtdt(320),\n",
    "            end_time=mtdt(330),\n",
    "        ),\n",
    "        Activity(\n",
    "            act=\"delivery\", area=\"A\", loc=Point((0, 1000)), start_time=mtdt(330), end_time=mtdt(340)\n",
    "        ),\n",
    "        Trip(\n",
    "            mode=\"car\",\n",
    "            start_area=\"A\",\n",
    "            start_loc=Point((0, 1000)),\n",
    "            end_loc=Point((0, 0)),\n",
    "            end_area=\"A\",\n",
    "            start_time=mtdt(340),\n",
    "            end_time=mtdt(350),\n",
    "        ),\n",
    "        Activity(\n",
    "            act=\"depot\",\n",
    "            area=\"A\",\n",
    "            loc=Point((0, 0)),\n",
    "            start_time=mtdt(350),\n",
    "            end_time=mtdt(24 * 60),  # assuming a 24 hour day\n",
    "        ),\n",
    "    ]\n",
    ")"
   ]
  },
  {
   "cell_type": "code",
   "execution_count": 10,
   "id": "fd4b1aa8",
   "metadata": {
    "execution": {
     "iopub.execute_input": "2023-07-31T13:01:23.512357Z",
     "iopub.status.busy": "2023-07-31T13:01:23.512055Z",
     "iopub.status.idle": "2023-07-31T13:01:23.662768Z",
     "shell.execute_reply": "2023-07-31T13:01:23.662251Z"
    }
   },
   "outputs": [
    {
     "data": {
      "image/png": "[encoded data removed]",
      "text/plain": [
       "<Figure size 1600x300 with 1 Axes>"
      ]
     },
     "metadata": {},
     "output_type": "display_data"
    }
   ],
   "source": [
    "milkman.plot()"
   ]
  },
  {
   "cell_type": "code",
   "execution_count": 11,
   "id": "c2ed4816",
   "metadata": {
    "execution": {
     "iopub.execute_input": "2023-07-31T13:01:23.665295Z",
     "iopub.status.busy": "2023-07-31T13:01:23.665093Z",
     "iopub.status.idle": "2023-07-31T13:01:23.668967Z",
     "shell.execute_reply": "2023-07-31T13:01:23.668448Z"
    }
   },
   "outputs": [
    {
     "name": "stdout",
     "output_type": "stream",
     "text": [
      "Population: 3 people in 2 households.\n",
      "Household: Smiths\n",
      "{}\n",
      "Person: Tom\n",
      "{'age': 'low'}\n",
      "0:\tActivity(act:home, location:POINT (0 0), time:00:00:00 --> 00:00:00, duration:1 day, 0:00:00)\n",
      "Person: Tammy\n",
      "{'age': 'low'}\n",
      "0:\tActivity(act:home, location:POINT (0 0), time:00:00:00 --> 07:25:00, duration:7:25:00)\n",
      "1:\tLeg(mode:car, area:POINT (0 0) --> POINT (1234 1234), time:07:25:00 --> 08:25:00, duration:1:00:00)\n",
      "2:\tActivity(act:work, location:POINT (1233 1234), time:08:25:00 --> 16:30:00, duration:8:05:00)\n",
      "3:\tLeg(mode:car, area:POINT (1234 1234) --> POINT (0 0), time:16:30:00 --> 17:30:00, duration:1:00:00)\n",
      "4:\tActivity(act:home, location:POINT (0 0), time:17:30:00 --> 00:00:00, duration:6:30:00)\n",
      "Household: 0\n",
      "{}\n",
      "Person: 0\n",
      "{'bot': 'yes', 'electric vehicle': 'yes'}\n",
      "0:\tActivity(act:depot, location:POINT (0 0), time:00:00:00 --> 05:00:00, duration:5:00:00)\n",
      "1:\tLeg(mode:car, area:POINT (0 0) --> POINT (1000 1000), time:05:00:00 --> 05:10:00, duration:0:10:00)\n",
      "2:\tActivity(act:delivery, location:POINT (1000 1000), time:05:10:00 --> 05:20:00, duration:0:10:00)\n",
      "3:\tLeg(mode:car, area:POINT (1000 1000) --> POINT (0 1000), time:05:20:00 --> 05:30:00, duration:0:10:00)\n",
      "4:\tActivity(act:delivery, location:POINT (0 1000), time:05:30:00 --> 05:40:00, duration:0:10:00)\n",
      "5:\tLeg(mode:car, area:POINT (0 1000) --> POINT (0 0), time:05:40:00 --> 05:50:00, duration:0:10:00)\n",
      "6:\tActivity(act:depot, location:POINT (0 0), time:05:50:00 --> 00:00:00, duration:18:10:00)\n"
     ]
    }
   ],
   "source": [
    "population.print()"
   ]
  },
  {
   "attachments": {},
   "cell_type": "markdown",
   "id": "backed-scratch",
   "metadata": {},
   "source": [
    "### Export\n",
    "\n",
    "Exports plans to csv or xml format for MATSim."
   ]
  },
  {
   "cell_type": "code",
   "execution_count": 12,
   "id": "cbeef986",
   "metadata": {
    "execution": {
     "iopub.execute_input": "2023-07-31T13:01:23.671424Z",
     "iopub.status.busy": "2023-07-31T13:01:23.671230Z",
     "iopub.status.idle": "2023-07-31T13:01:23.848268Z",
     "shell.execute_reply": "2023-07-31T13:01:23.847826Z"
    }
   },
   "outputs": [
    {
     "name": "stderr",
     "output_type": "stream",
     "text": [
      "Missing person weight in hh Smiths, returning None.\n"
     ]
    },
    {
     "name": "stderr",
     "output_type": "stream",
     "text": [
      "Missing person weight in hh 0, returning None.\n"
     ]
    }
   ],
   "source": [
    "to_csv(population=population, dir=\"tmp\")"
   ]
  },
  {
   "cell_type": "code",
   "execution_count": 13,
   "id": "lasting-mileage",
   "metadata": {
    "ExecuteTime": {
     "end_time": "2021-03-19T16:00:16.098422Z",
     "start_time": "2021-03-19T16:00:16.051617Z"
    },
    "execution": {
     "iopub.execute_input": "2023-07-31T13:01:23.851240Z",
     "iopub.status.busy": "2023-07-31T13:01:23.850971Z",
     "iopub.status.idle": "2023-07-31T13:01:23.855649Z",
     "shell.execute_reply": "2023-07-31T13:01:23.855143Z"
    }
   },
   "outputs": [],
   "source": [
    "write_matsim(population=population, plans_path=\"tmp/plans.xml\")"
   ]
  }
 ],
 "metadata": {
  "kernelspec": {
   "display_name": "pam",
   "language": "python",
   "name": "pam"
  },
  "language_info": {
   "codemirror_mode": {
    "name": "ipython",
    "version": 3
   },
   "file_extension": ".py",
   "mimetype": "text/x-python",
   "name": "python",
   "nbconvert_exporter": "python",
   "pygments_lexer": "ipython3",
   "version": "3.11.4"
  },
  "toc": {
   "base_numbering": 1,
   "nav_menu": {},
   "number_sections": true,
   "sideBar": true,
   "skip_h1_title": false,
   "title_cell": "Table of Contents",
   "title_sidebar": "Contents",
   "toc_cell": false,
   "toc_position": {},
   "toc_section_display": true,
   "toc_window_display": false
  },
  "vscode": {
   "interpreter": {
    "hash": "c2a90f01ee7329c0dc072323d04ab57047490a620cb7d1fe86527d3a3edaf28c"
   }
  }
 },
 "nbformat": 4,
 "nbformat_minor": 5
}
