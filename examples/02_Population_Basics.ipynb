{
 "cells": [
  {
   "cell_type": "markdown",
   "id": "irish-pharmacology",
   "metadata": {},
   "source": [
    "# Population Basics"
   ]
  },
  {
   "cell_type": "markdown",
   "id": "disciplinary-software",
   "metadata": {},
   "source": [
    "This notebook demonstrates an example workflow for creating a sample population manually. In most applications this is not required (you are more likelly to inject a travel diary or a MATSim plans file)but the exercide is useful to understand the underlying data structure."
   ]
  },
  {
   "cell_type": "markdown",
   "id": "august-oasis",
   "metadata": {},
   "source": [
    "### The Core Objects\n",
    "\n",
    "pam populations are built from three core objects:\n",
    "\n",
    "`Population`, `Household` and `Person` objects. Persons belong to a `Household` and households belong to a `Population`. This relationship can be created using the `Population.add` and `Household.add` methods.\n",
    "\n",
    "Note that `Household` and `Person` objects require unique identifiers. households require a `hid` (household id) and persons a `pid` (person id).\n",
    "\n",
    "Households and Persons can also be given attributes as a simple dictionary. Attributes can include useful features such as income or car ownership."
   ]
  },
  {
   "cell_type": "code",
   "execution_count": null,
   "id": "substantial-crazy",
   "metadata": {
    "ExecuteTime": {
     "end_time": "2021-03-19T16:00:15.491570Z",
     "start_time": "2021-03-19T16:00:15.471358Z"
    }
   },
   "outputs": [
    {
     "ename": "",
     "evalue": "",
     "output_type": "error",
     "traceback": [
      "\u001b[1;31mRunning cells with 'Python 3.8.2 64-bit ('3.8.2')' requires ipykernel package.\n",
      "\u001b[1;31mRun the following command to install 'ipykernel' into the Python environment. \n",
      "\u001b[1;31mCommand: '/Users/fred.shone/.pyenv/versions/3.8.2/bin/python -m pip install ipykernel -U --force-reinstall'"
     ]
    }
   ],
   "source": [
    "from pam.core import Population, Household, Person\n",
    "\n",
    "population = Population()  # initialise an empty population\n",
    "\n",
    "household = Household(\n",
    "    hid=0,\n",
    "    attributes={\"cars\": 1}\n",
    "    )\n",
    "\n",
    "person = Person(\n",
    "    pid=0,\n",
    "    attributes={\"income\": \"medium\"}\n",
    "    )\n",
    "\n",
    "household.add(person)\n",
    "population.add(household)\n",
    "\n",
    "population.stats"
   ]
  },
  {
   "cell_type": "markdown",
   "id": "developing-eugene",
   "metadata": {},
   "source": [
    "### Activity Plans (or \"Sequences\")\n",
    "\n",
    "`Person` activity plans are held by the `pam.activity.Plan` object. All Persons have a `Plan`, even if it is empty. A `Plan` is simply a sequence of `Activity` and `Trip` (or `Leg`if you prefer - they are equivalent) objects.\n",
    "\n",
    "Plans must start and end with an `Activity` and the two objects must alternate, for example; `Activity(\"home\")`, `Trip()`, `Activity(\"work\")`, `Trip()`, `Activity(\"home\")`.\n",
    "\n",
    "Both Activities and Trips can have start and end times (using datetime objects). Activities have locations whereas Trips have start and end locations. When manually creating your own sequences care should be taken to make these times and locations consistent. Such that, for example, a trip ends when the next activity starts and a trip start is at the same location as the preceding activity.\n",
    "\n",
    "Activities are expected to have a type, for example, `'work'` or `'golf'`. Trips are expected to have a mode, for example `'car'` etc. These examples generally use strings for these features but this is not a requirement."
   ]
  },
  {
   "cell_type": "code",
   "execution_count": null,
   "id": "87a6626d",
   "metadata": {},
   "outputs": [
    {
     "ename": "",
     "evalue": "",
     "output_type": "error",
     "traceback": [
      "\u001b[1;31mRunning cells with 'Python 3.8.2 64-bit ('3.8.2')' requires ipykernel package.\n",
      "\u001b[1;31mRun the following command to install 'ipykernel' into the Python environment. \n",
      "\u001b[1;31mCommand: '/Users/fred.shone/.pyenv/versions/3.8.2/bin/python -m pip install ipykernel -U --force-reinstall'"
     ]
    }
   ],
   "source": [
    "from pam.activity import Activity, Trip\n",
    "from pam.utils import minutes_to_datetime as mtdt\n",
    "\n",
    "activity = Activity(\n",
    "    act='home',\n",
    "    area=\"A\",\n",
    "    start_time=mtdt(0),\n",
    "    end_time=mtdt(445)\n",
    ")\n",
    "\n",
    "trip = Trip(\n",
    "    mode='car',\n",
    "    start_area=\"A\",\n",
    "    end_area=\"B\",\n",
    "    start_time=mtdt(445),\n",
    "    end_time=mtdt(505)\n",
    ")\n",
    "\n",
    "print(activity)\n",
    "print(trip)"
   ]
  },
  {
   "cell_type": "markdown",
   "id": "dd990af4",
   "metadata": {},
   "source": [
    "Activities and Trips can be added to a Person object using `Person.add`:"
   ]
  },
  {
   "cell_type": "code",
   "execution_count": null,
   "id": "3bcf3bd5",
   "metadata": {},
   "outputs": [
    {
     "ename": "",
     "evalue": "",
     "output_type": "error",
     "traceback": [
      "\u001b[1;31mRunning cells with 'Python 3.8.2 64-bit ('3.8.2')' requires ipykernel package.\n",
      "\u001b[1;31mRun the following command to install 'ipykernel' into the Python environment. \n",
      "\u001b[1;31mCommand: '/Users/fred.shone/.pyenv/versions/3.8.2/bin/python -m pip install ipykernel -U --force-reinstall'"
     ]
    }
   ],
   "source": [
    "person = Person(pid=0, attributes={\"type\": \"example\"})\n",
    "\n",
    "person.add(Activity(\n",
    "    act='home',\n",
    "    area=\"A\",\n",
    "    start_time=mtdt(0),\n",
    "    end_time=mtdt(445)\n",
    "))\n",
    "person.add(Trip(\n",
    "    mode='car',\n",
    "    start_area=\"A\",\n",
    "    end_area=\"B\",\n",
    "    start_time=mtdt(445),\n",
    "    end_time=mtdt(505)\n",
    "))\n",
    "person.add(Activity(\n",
    "    act='hotel',\n",
    "    area=\"B\",\n",
    "    start_time=mtdt(505),\n",
    "    end_time=mtdt(1000)\n",
    "))\n",
    "\n",
    "person.validate()  # the validate method check for consistency in the sequence of locations and times\n",
    "person.print()"
   ]
  },
  {
   "cell_type": "markdown",
   "id": "e5aef6be",
   "metadata": {},
   "source": [
    "### Locations\n",
    "\n",
    "Pam uses `pam.location.Location` objects to keep track of `Activity` and `Trip` locations.\n",
    "\n",
    "These locations can be any combination of `area` or `loc` or `link`. Area is assumed to be spatial zone id, for example, \"City of London\".\n",
    "\n",
    "`Loc` must be a coordinate (using a `shapely.geometry.Point`). `Link` is a network id. Locs and Links are only required for specific applications such as MATSim and can be added or sampled later, so are not covered further here."
   ]
  },
  {
   "cell_type": "code",
   "execution_count": null,
   "id": "432dec5f",
   "metadata": {},
   "outputs": [
    {
     "ename": "",
     "evalue": "",
     "output_type": "error",
     "traceback": [
      "\u001b[1;31mRunning cells with 'Python 3.8.2 64-bit ('3.8.2')' requires ipykernel package.\n",
      "\u001b[1;31mRun the following command to install 'ipykernel' into the Python environment. \n",
      "\u001b[1;31mCommand: '/Users/fred.shone/.pyenv/versions/3.8.2/bin/python -m pip install ipykernel -U --force-reinstall'"
     ]
    }
   ],
   "source": [
    "from shapely.geometry import Point\n",
    "\n",
    "person = Person(pid=0, attributes={\"type\": \"example\"})\n",
    "\n",
    "person.add(Activity(\n",
    "    act='home',\n",
    "    area=\"A\",\n",
    "    loc=Point((0,0)),\n",
    "    start_time=mtdt(0),\n",
    "    end_time=mtdt(445)\n",
    "))\n",
    "person.add(Trip(\n",
    "    mode='car',\n",
    "    start_area=\"A\",\n",
    "    end_area=\"B\",\n",
    "    start_loc=Point((0,0)),\n",
    "    end_loc=Point((1234,1234)),\n",
    "    start_time=mtdt(445),\n",
    "    end_time=mtdt(505)\n",
    "))\n",
    "person.add(Activity(\n",
    "    act='hotel',\n",
    "    area=\"B\",\n",
    "    start_time=mtdt(505),\n",
    "    end_time=mtdt(1000)\n",
    "))\n",
    "\n",
    "person.validate()  # the validate method check for consistency in the sequence of locations and times\n",
    "person.print()"
   ]
  },
  {
   "cell_type": "markdown",
   "id": "07fba640",
   "metadata": {},
   "source": [
    "### All Togther Now\n",
    "\n",
    "Pam has read methods for common travel diary data formats and for MATSim. We are also creating simple tour based generators, for example for freight. But below we show how you might create a completely synthetic population from scratch.\n",
    "\n",
    "Note that for conveneince the `add` methods will also try to unpack lists."
   ]
  },
  {
   "cell_type": "code",
   "execution_count": null,
   "id": "535990c8",
   "metadata": {},
   "outputs": [
    {
     "ename": "",
     "evalue": "",
     "output_type": "error",
     "traceback": [
      "\u001b[1;31mRunning cells with 'Python 3.8.2 64-bit ('3.8.2')' requires ipykernel package.\n",
      "\u001b[1;31mRun the following command to install 'ipykernel' into the Python environment. \n",
      "\u001b[1;31mCommand: '/Users/fred.shone/.pyenv/versions/3.8.2/bin/python -m pip install ipykernel -U --force-reinstall'"
     ]
    }
   ],
   "source": [
    "population = Population()  # create a new empty population"
   ]
  },
  {
   "cell_type": "code",
   "execution_count": null,
   "id": "broadband-launch",
   "metadata": {
    "ExecuteTime": {
     "end_time": "2021-03-19T16:00:15.520501Z",
     "start_time": "2021-03-19T16:00:15.495149Z"
    }
   },
   "outputs": [
    {
     "ename": "",
     "evalue": "",
     "output_type": "error",
     "traceback": [
      "\u001b[1;31mRunning cells with 'Python 3.8.2 64-bit ('3.8.2')' requires ipykernel package.\n",
      "\u001b[1;31mRun the following command to install 'ipykernel' into the Python environment. \n",
      "\u001b[1;31mCommand: '/Users/fred.shone/.pyenv/versions/3.8.2/bin/python -m pip install ipykernel -U --force-reinstall'"
     ]
    }
   ],
   "source": [
    "the_smiths = Household(\"Smiths\")\n",
    "\n",
    "tom = Person(\"Tom\", attributes = {\"age\": \"low\"})\n",
    "tammy = Person(\"Tammy\", attributes = {\"age\": \"low\"})\n",
    "the_smiths.add([tom, tammy])\n",
    "\n",
    "population.add(the_smiths)  # and add the household to the population\n",
    "\n",
    "tammy.add([\n",
    "    Activity(\n",
    "        act='home',\n",
    "        area=\"A\",\n",
    "        loc=Point((0,0)),\n",
    "        start_time=mtdt(0),\n",
    "        end_time=mtdt(445)\n",
    "    ),\n",
    "    Trip(\n",
    "        mode='car',\n",
    "        start_area=\"A\",\n",
    "        end_area=\"B\",\n",
    "        start_loc=Point((0,0)),\n",
    "        end_loc=Point((1234,1234)),\n",
    "        start_time=mtdt(445),\n",
    "        end_time=mtdt(505)\n",
    "    ),\n",
    "    Activity(\n",
    "        act='work',\n",
    "        area=\"B\",\n",
    "        loc=Point((1233,1234)),\n",
    "        start_time=mtdt(505),\n",
    "        end_time=mtdt(990)\n",
    "    ),\n",
    "    Trip(\n",
    "        mode='car',\n",
    "        start_area=\"B\",\n",
    "        end_area=\"A\",\n",
    "        start_loc=Point((1234,1234)),\n",
    "        end_loc=Point((0,0)),\n",
    "        start_time=mtdt(990),\n",
    "        end_time=mtdt(1050)\n",
    "    ),\n",
    "    Activity(\n",
    "        act='home',\n",
    "        area=\"A\",\n",
    "        loc=Point((0,0)),\n",
    "        start_time=mtdt(1050),\n",
    "        end_time=mtdt(24*60)  # assuming a 24 hour day\n",
    "    )\n",
    "])\n",
    "\n",
    "tom.add([\n",
    "    Activity(\n",
    "        act='home',\n",
    "        area=\"A\",\n",
    "        loc=Point((0,0)),\n",
    "        start_time=mtdt(0),\n",
    "        end_time=mtdt(24*60)  # assuming a 24 hour day\n",
    "    )\n",
    "])"
   ]
  },
  {
   "cell_type": "code",
   "execution_count": null,
   "id": "geological-profile",
   "metadata": {
    "ExecuteTime": {
     "end_time": "2021-03-19T16:00:15.770591Z",
     "start_time": "2021-03-19T16:00:15.554021Z"
    },
    "scrolled": false
   },
   "outputs": [
    {
     "ename": "",
     "evalue": "",
     "output_type": "error",
     "traceback": [
      "\u001b[1;31mRunning cells with 'Python 3.8.2 64-bit ('3.8.2')' requires ipykernel package.\n",
      "\u001b[1;31mRun the following command to install 'ipykernel' into the Python environment. \n",
      "\u001b[1;31mCommand: '/Users/fred.shone/.pyenv/versions/3.8.2/bin/python -m pip install ipykernel -U --force-reinstall'"
     ]
    }
   ],
   "source": [
    "the_smiths.plot()"
   ]
  },
  {
   "cell_type": "code",
   "execution_count": null,
   "id": "czech-package",
   "metadata": {
    "ExecuteTime": {
     "end_time": "2021-03-19T16:00:15.795433Z",
     "start_time": "2021-03-19T16:00:15.776669Z"
    }
   },
   "outputs": [
    {
     "ename": "",
     "evalue": "",
     "output_type": "error",
     "traceback": [
      "\u001b[1;31mRunning cells with 'Python 3.8.2 64-bit ('3.8.2')' requires ipykernel package.\n",
      "\u001b[1;31mRun the following command to install 'ipykernel' into the Python environment. \n",
      "\u001b[1;31mCommand: '/Users/fred.shone/.pyenv/versions/3.8.2/bin/python -m pip install ipykernel -U --force-reinstall'"
     ]
    }
   ],
   "source": [
    "milkman = Person(0, attributes = {\"bot\": \"yes\", \"electric vehicle\": \"yes\"})\n",
    "\n",
    "population.add(milkman)  # adding a person directly to the population is possible but a household with the same id will be auto generated\n",
    "\n",
    "milkman.add([\n",
    "    Activity(\n",
    "        act='depot',\n",
    "        area=\"A\",\n",
    "        loc=Point((0,0)),\n",
    "        start_time=mtdt(0),\n",
    "        end_time=mtdt(300)\n",
    "    ),\n",
    "    Trip(\n",
    "        mode='car',\n",
    "        start_area=\"A\",\n",
    "        end_area=\"A\",\n",
    "        start_loc=Point((0,0)),\n",
    "        end_loc=Point((1000,1000)),\n",
    "        start_time=mtdt(300),\n",
    "        end_time=mtdt(310)\n",
    "    ),\n",
    "    Activity(\n",
    "        act='delivery',\n",
    "        area=\"A\",\n",
    "        loc=Point((1000,1000)),\n",
    "        start_time=mtdt(310),\n",
    "        end_time=mtdt(320)\n",
    "    ),\n",
    "    Trip(\n",
    "        mode='car',\n",
    "        start_area=\"A\",\n",
    "        end_area=\"A\",\n",
    "        start_loc=Point((1000,1000)),\n",
    "        end_loc=Point((0,1000)),\n",
    "        start_time=mtdt(320),\n",
    "        end_time=mtdt(330)\n",
    "    ),\n",
    "    Activity(\n",
    "        act='delivery',\n",
    "        area=\"A\",\n",
    "        loc=Point((0,1000)),\n",
    "        start_time=mtdt(330),\n",
    "        end_time=mtdt(340)\n",
    "    ),\n",
    "    Trip(\n",
    "        mode='car',\n",
    "        start_area=\"A\",\n",
    "        start_loc=Point((0,1000)),\n",
    "        end_loc=Point((0,0)),\n",
    "        end_area=\"A\",\n",
    "        start_time=mtdt(340),\n",
    "        end_time=mtdt(350)\n",
    "    ),\n",
    "    Activity(\n",
    "        act='depot',\n",
    "        area=\"A\",\n",
    "        loc=Point((0,0)),\n",
    "        start_time=mtdt(350),\n",
    "        end_time=mtdt(24*60)  # assuming a 24 hour day\n",
    "    )\n",
    "])"
   ]
  },
  {
   "cell_type": "code",
   "execution_count": null,
   "id": "fd4b1aa8",
   "metadata": {},
   "outputs": [
    {
     "ename": "",
     "evalue": "",
     "output_type": "error",
     "traceback": [
      "\u001b[1;31mRunning cells with 'Python 3.8.2 64-bit ('3.8.2')' requires ipykernel package.\n",
      "\u001b[1;31mRun the following command to install 'ipykernel' into the Python environment. \n",
      "\u001b[1;31mCommand: '/Users/fred.shone/.pyenv/versions/3.8.2/bin/python -m pip install ipykernel -U --force-reinstall'"
     ]
    }
   ],
   "source": [
    "milkman.plot()"
   ]
  },
  {
   "cell_type": "code",
   "execution_count": null,
   "id": "c2ed4816",
   "metadata": {},
   "outputs": [
    {
     "ename": "",
     "evalue": "",
     "output_type": "error",
     "traceback": [
      "\u001b[1;31mRunning cells with 'Python 3.8.2 64-bit ('3.8.2')' requires ipykernel package.\n",
      "\u001b[1;31mRun the following command to install 'ipykernel' into the Python environment. \n",
      "\u001b[1;31mCommand: '/Users/fred.shone/.pyenv/versions/3.8.2/bin/python -m pip install ipykernel -U --force-reinstall'"
     ]
    }
   ],
   "source": [
    "population.print()"
   ]
  },
  {
   "cell_type": "markdown",
   "id": "backed-scratch",
   "metadata": {},
   "source": [
    "### Export\n",
    "\n",
    "Exports plans to csv or xml format for MATSim."
   ]
  },
  {
   "cell_type": "code",
   "execution_count": null,
   "id": "cbeef986",
   "metadata": {},
   "outputs": [
    {
     "ename": "",
     "evalue": "",
     "output_type": "error",
     "traceback": [
      "\u001b[1;31mRunning cells with 'Python 3.8.2 64-bit ('3.8.2')' requires ipykernel package.\n",
      "\u001b[1;31mRun the following command to install 'ipykernel' into the Python environment. \n",
      "\u001b[1;31mCommand: '/Users/fred.shone/.pyenv/versions/3.8.2/bin/python -m pip install ipykernel -U --force-reinstall'"
     ]
    }
   ],
   "source": [
    "from pam.write.diary import to_csv\n",
    "\n",
    "to_csv(population=population, dir=\"tmp\")"
   ]
  },
  {
   "cell_type": "code",
   "execution_count": null,
   "id": "lasting-mileage",
   "metadata": {
    "ExecuteTime": {
     "end_time": "2021-03-19T16:00:16.098422Z",
     "start_time": "2021-03-19T16:00:16.051617Z"
    }
   },
   "outputs": [
    {
     "ename": "",
     "evalue": "",
     "output_type": "error",
     "traceback": [
      "\u001b[1;31mRunning cells with 'Python 3.8.2 64-bit ('3.8.2')' requires ipykernel package.\n",
      "\u001b[1;31mRun the following command to install 'ipykernel' into the Python environment. \n",
      "\u001b[1;31mCommand: '/Users/fred.shone/.pyenv/versions/3.8.2/bin/python -m pip install ipykernel -U --force-reinstall'"
     ]
    }
   ],
   "source": [
    "from pam.write import write_matsim\n",
    "\n",
    "write_matsim(population=population, plans_path=\"tmp/plans.xml\")"
   ]
  },
  {
   "cell_type": "code",
   "execution_count": null,
   "id": "vocal-disclaimer",
   "metadata": {},
   "outputs": [
    {
     "ename": "",
     "evalue": "",
     "output_type": "error",
     "traceback": [
      "\u001b[1;31mRunning cells with 'Python 3.8.2 64-bit ('3.8.2')' requires ipykernel package.\n",
      "\u001b[1;31mRun the following command to install 'ipykernel' into the Python environment. \n",
      "\u001b[1;31mCommand: '/Users/fred.shone/.pyenv/versions/3.8.2/bin/python -m pip install ipykernel -U --force-reinstall'"
     ]
    }
   ],
   "source": []
  }
 ],
 "metadata": {
  "kernelspec": {
   "display_name": "Python 3.8.2 64-bit ('3.8.2')",
   "language": "python",
   "name": "python3"
  },
  "language_info": {
   "codemirror_mode": {
    "name": "ipython",
    "version": 3
   },
   "file_extension": ".py",
   "mimetype": "text/x-python",
   "name": "python",
   "nbconvert_exporter": "python",
   "pygments_lexer": "ipython3",
   "version": "3.8.2"
  },
  "toc": {
   "base_numbering": 1,
   "nav_menu": {},
   "number_sections": true,
   "sideBar": true,
   "skip_h1_title": false,
   "title_cell": "Table of Contents",
   "title_sidebar": "Contents",
   "toc_cell": false,
   "toc_position": {},
   "toc_section_display": true,
   "toc_window_display": false
  },
  "vscode": {
   "interpreter": {
    "hash": "c2a90f01ee7329c0dc072323d04ab57047490a620cb7d1fe86527d3a3edaf28c"
   }
  }
 },
 "nbformat": 4,
 "nbformat_minor": 5
}
