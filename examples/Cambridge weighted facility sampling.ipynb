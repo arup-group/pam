{
 "cells": [
  {
   "cell_type": "markdown",
   "metadata": {},
   "source": [
    "# Introduction"
   ]
  },
  {
   "cell_type": "markdown",
   "metadata": {},
   "source": [
    "The purpose of this notebook is to demonstrate weighted and rule-based facility sampling methods."
   ]
  },
  {
   "cell_type": "markdown",
   "metadata": {},
   "source": [
    "PAM offers a facility sampler, which can be called wtih `pam.samplers.facility.FacilitySampler(facilities, zones, ...)`,\n",
    "where `facilities` and `zones` are geodataframes containing the available activity locations and the model zoning system respectively.\n",
    "\n",
    "The `weight_on` option of the sampler allows to specify a column of the facilities dataset to be used for weighting the candidate locations (for example, by floorspace). *nb: weighted sampling here samples with replacement, while the default (unweighted) option iterates across a shuffled list of the candidate locations instead)*.\n",
    "\n",
    "By providing a `max_walk` argument, we constrain activity locations accessed with PT modes (named as `bus`, `rail`, or `pt`) to be located within that distance (crow's fly) from a PT stop. The distance of each facility from a PT stop should be provided in the `facilities` dataset (under the `transit` field).\n"
   ]
  },
  {
   "cell_type": "markdown",
   "metadata": {},
   "source": [
    " "
   ]
  },
  {
   "cell_type": "markdown",
   "metadata": {},
   "source": [
    "We can sample facility locations for a PAM population, with the `population.sample_locs(sampler)` method, where sampler is an instance of `pam.samplers.facility.FacilitySampler`. Depending whether we `weight_on` option was activated for the sampler, it will undertake simple or weighted sampling.\n",
    "\n",
    "To accommodate more complex sampling techniques, we have introduced `population.sample_locs_complex(sampler)`. This method passes additional information to the sampler, such as the duration and mode of arriving trip and the previous activity location. The sampler then applies some extra rules:\n",
    "* distance-weighted sampling: for the given trip duration, try to adjust candidate facility weights so that their distance from the previous location is consistent with the trip duration and mode speed. The weights are adjusted as $ adjusted\\_weight_j =  \\frac{weight_j}{expected\\_distance_{ij}^2}$, where $ expected\\_distance_{ij} = \\lvert{distance_{ij} - (duration * speed)}\\rvert $. The mode speeds (expressed in euclidean distance terms) are defined in `pam.variables.EXPECTED_EUCLIDEAN_SPEEDS` dictionary.\n",
    "* distance from PT stop rule: if the mode is PT and `max_walk` has been provided, contrain the options within the specified radius from a stop\n",
    "\n"
   ]
  },
  {
   "cell_type": "markdown",
   "metadata": {},
   "source": [
    " "
   ]
  },
  {
   "cell_type": "markdown",
   "metadata": {},
   "source": [
    "**Caveats**\n",
    "* The complex sampler is experimental at this stage and should be used with care.\n",
    "* All distance units are calculated as euclidean distances. Expected speeds should also be expressed in euclidean measures. Distance calculations assume a linear-unit (meters) coordinate system. In the future, we should try to integrate model skims in the calculation.\n",
    "* Distance-based weighting can be used to help better align sampled durations with locations. However, it only looks one trip ahead, and it is likely to be inconsistent for the last trip (ie the path doesn't necessarily \"close\" well)."
   ]
  },
  {
   "cell_type": "code",
   "execution_count": null,
   "metadata": {
    "ExecuteTime": {
     "end_time": "2021-02-09T15:50:37.464241Z",
     "start_time": "2021-02-09T15:50:34.835309Z"
    }
   },
   "outputs": [],
   "source": [
    "import pandas as pd\n",
    "import numpy as np\n",
    "import os\n",
    "import geopandas as gp\n",
    "import matplotlib.pyplot as plt\n",
    "from shapely.geometry import Polygon, Point\n",
    "\n",
    "import pam\n",
    "from pam.samplers import facility\n",
    "from pam import read, write\n",
    "\n",
    "%load_ext autoreload\n",
    "%autoreload 2"
   ]
  },
  {
   "cell_type": "markdown",
   "metadata": {},
   "source": [
    "# Generate Data"
   ]
  },
  {
   "cell_type": "markdown",
   "metadata": {},
   "source": [
    "## Geography"
   ]
  },
  {
   "cell_type": "markdown",
   "metadata": {},
   "source": [
    "Create a dummy dataset of facilities and their locations:"
   ]
  },
  {
   "cell_type": "code",
   "execution_count": null,
   "metadata": {
    "ExecuteTime": {
     "end_time": "2021-02-09T16:56:32.949119Z",
     "start_time": "2021-02-09T16:56:31.897883Z"
    }
   },
   "outputs": [],
   "source": [
    "# create random spatial data\n",
    "\n",
    "# create zones\n",
    "l = 10000 # square length in meters\n",
    "polygon_list = []\n",
    "zone_list = ['a','b','c','d','e','f','g','h','i']\n",
    "activities_list = ['home','work', 'other', 'shop', 'escort','education']\n",
    "\n",
    "for y in [2*l,l,0]:\n",
    "    for x in [0,l,2*l]:\n",
    "        polygon_list.append(Polygon([[x,y],[x+l,y],[x+l,y+l],[x,y+l],[x,y]]))\n",
    "        \n",
    "zones = gp.GeoDataFrame(geometry = polygon_list)\n",
    "zones['zone'] = zone_list\n",
    "zones.set_index('zone', inplace = True)\n",
    "\n",
    "# create facilities\n",
    "point_list = []\n",
    "for activity in activities_list:\n",
    "    for i in range(1000):\n",
    "        point = Point(np.random.rand() * 3 * l, np.random.rand() * 3 * l)\n",
    "        point_list.append({'activity':activity,\n",
    "                           'floors': np.random.randint(1,4),\n",
    "                           'units': np.random.randint(1,20),\n",
    "                           'area': np.random.randint(1,100),\n",
    "                           'transit': np.random.randint(1,10000),                           \n",
    "                           'geometry':point})\n",
    "            \n",
    "facilities = gp.GeoDataFrame(point_list)\n",
    "facilities = gp.sjoin(facilities, zones.reset_index()).drop(columns='index_right')\n",
    "\n",
    "\n",
    "# plot\n",
    "fig, ax = plt.subplots(1,1, figsize = (10,7))\n",
    "zones.boundary.plot(ax = ax)\n",
    "facilities.plot(ax=ax, markersize=2, color='purple')\n",
    "for zone, centroid in zip(zones.index, zones.centroid):\n",
    "    ax.annotate(zone, xy = (centroid.x, centroid.y), size = 15)\n",
    "ax.axis('off')\n",
    "plt.show()"
   ]
  },
  {
   "cell_type": "code",
   "execution_count": null,
   "metadata": {
    "ExecuteTime": {
     "end_time": "2021-02-09T16:56:35.523587Z",
     "start_time": "2021-02-09T16:56:35.321090Z"
    }
   },
   "outputs": [],
   "source": [
    "# facilities dataset:\n",
    "facilities.activity.unique()"
   ]
  },
  {
   "cell_type": "markdown",
   "metadata": {},
   "source": [
    "## Population"
   ]
  },
  {
   "cell_type": "code",
   "execution_count": null,
   "metadata": {
    "ExecuteTime": {
     "end_time": "2021-02-09T16:56:35.740818Z",
     "start_time": "2021-02-09T16:56:35.525547Z"
    }
   },
   "outputs": [],
   "source": [
    "from pam.core import Person, Household, Population\n",
    "from pam.activity import Activity, Leg\n",
    "from pam.utils import minutes_to_datetime"
   ]
  },
  {
   "cell_type": "markdown",
   "metadata": {},
   "source": [
    "### Distance-based sampling"
   ]
  },
  {
   "cell_type": "markdown",
   "metadata": {},
   "source": [
    "Let's assume a 30-min walking commute trip from home."
   ]
  },
  {
   "cell_type": "markdown",
   "metadata": {},
   "source": [
    "The expected straight-line speed for the trip is:"
   ]
  },
  {
   "cell_type": "code",
   "execution_count": null,
   "metadata": {
    "ExecuteTime": {
     "end_time": "2021-02-09T16:56:35.942515Z",
     "start_time": "2021-02-09T16:56:35.742778Z"
    }
   },
   "outputs": [],
   "source": [
    "print('The expected straight-line speed for the trip is: {} kph'.format(\n",
    "pam.variables.EXPECTED_EUCLIDEAN_SPEEDS['walk']\n",
    "))"
   ]
  },
  {
   "cell_type": "markdown",
   "metadata": {},
   "source": [
    "Therefore, we expect the sampler to pick a workplace location approx 5 * 0.5=2.5km from home."
   ]
  },
  {
   "cell_type": "code",
   "execution_count": null,
   "metadata": {
    "ExecuteTime": {
     "end_time": "2021-02-09T16:56:36.143584Z",
     "start_time": "2021-02-09T16:56:35.944473Z"
    }
   },
   "outputs": [],
   "source": [
    "p1 =  Person('p1', attributes={'age': 40})\n",
    "p1.add(Activity(seq=1,act='home',area='a',start_time=minutes_to_datetime(0),end_time=minutes_to_datetime(60)))\n",
    "p1.add(Leg(seq=1,mode='walk',start_area='a',end_area='a',\n",
    "           start_time=minutes_to_datetime(60),end_time=minutes_to_datetime(90)))\n",
    "p1.add(Activity(seq=2,act='work',area='a',start_time=minutes_to_datetime(90),end_time=minutes_to_datetime(120)))\n",
    "\n",
    "hh1 = Household(0)\n",
    "hh1.add(p1)\n",
    "\n",
    "population = Population()\n",
    "population.add(hh1)"
   ]
  },
  {
   "cell_type": "code",
   "execution_count": null,
   "metadata": {
    "ExecuteTime": {
     "end_time": "2021-02-09T16:56:36.340105Z",
     "start_time": "2021-02-09T16:56:36.146216Z"
    }
   },
   "outputs": [],
   "source": [
    "# supress logger warnings\n",
    "import logging\n",
    "logger = logging.getLogger()\n",
    "logger.setLevel(logging.CRITICAL)"
   ]
  },
  {
   "cell_type": "code",
   "execution_count": null,
   "metadata": {
    "ExecuteTime": {
     "end_time": "2021-02-09T16:56:36.546328Z",
     "start_time": "2021-02-09T16:56:36.341732Z"
    }
   },
   "outputs": [],
   "source": [
    "def test_sampler_distance(population, sampler, n_iterations = 200, complex_sampler = False,\n",
    "                         title=None):\n",
    "    distance_commute = []\n",
    "    \n",
    "    for i in range(n_iterations):\n",
    "        if complex_sampler:\n",
    "            population.sample_locs_complex(sampler)\n",
    "        else:\n",
    "            population.sample_locs(sampler)\n",
    "        distance_commute.append(write.write_benchmarks(population)['euclidean_distance'][0])\n",
    "\n",
    "    pd.Series(distance_commute).hist(bins = 20)\n",
    "    if title!=None:\n",
    "        plt.title(title)\n",
    "    plt.xlabel('distance')\n",
    "    plt.ylabel('frequency')\n",
    "    plt.show()"
   ]
  },
  {
   "cell_type": "code",
   "execution_count": null,
   "metadata": {},
   "outputs": [],
   "source": [
    "zones"
   ]
  },
  {
   "cell_type": "code",
   "execution_count": null,
   "metadata": {},
   "outputs": [],
   "source": [
    "population.random_person().home.area"
   ]
  },
  {
   "cell_type": "code",
   "execution_count": null,
   "metadata": {
    "ExecuteTime": {
     "end_time": "2021-02-09T16:56:38.581317Z",
     "start_time": "2021-02-09T16:56:36.548288Z"
    }
   },
   "outputs": [],
   "source": [
    "#simple sampling \n",
    "\n",
    "facility_sampler_nonweighted = facility.FacilitySampler(\n",
    "    facilities=facilities,\n",
    "    zones=zones,\n",
    "    build_xml=True,\n",
    "    fail=False,\n",
    "    random_default=True\n",
    "    )\n",
    "\n",
    "test_sampler_distance(population, facility_sampler_nonweighted, complex_sampler=False,\n",
    "                     title = 'Commute distance, simple sampling')\n"
   ]
  },
  {
   "cell_type": "code",
   "execution_count": null,
   "metadata": {},
   "outputs": [],
   "source": [
    "facilities"
   ]
  },
  {
   "cell_type": "code",
   "execution_count": null,
   "metadata": {},
   "outputs": [],
   "source": [
    "zones"
   ]
  },
  {
   "cell_type": "code",
   "execution_count": null,
   "metadata": {
    "ExecuteTime": {
     "end_time": "2021-02-09T16:56:41.616965Z",
     "start_time": "2021-02-09T16:56:38.584283Z"
    }
   },
   "outputs": [],
   "source": [
    "# distance-weighted sampling \n",
    "\n",
    "distance_commute_weighted = []\n",
    "\n",
    "facility_sampler_weighted = facility.FacilitySampler(\n",
    "    facilities=facilities.assign(weight1=1),\n",
    "    zones=zones,\n",
    "    build_xml=True,\n",
    "    fail=False,\n",
    "    random_default=True,\n",
    "    weight_on='weight1'\n",
    ")\n",
    "\n",
    "test_sampler_distance(population, facility_sampler_weighted, complex_sampler=True,\n",
    "                     title='Commute distance, distance-weighted sampling')"
   ]
  },
  {
   "cell_type": "markdown",
   "metadata": {},
   "source": [
    "Similar experiment to above, with a 30-min car trip from zone a to zone b:"
   ]
  },
  {
   "cell_type": "code",
   "execution_count": null,
   "metadata": {
    "ExecuteTime": {
     "end_time": "2021-02-09T16:56:41.825524Z",
     "start_time": "2021-02-09T16:56:41.618922Z"
    }
   },
   "outputs": [],
   "source": [
    "print('The expected straight-line speed for the trip is: {} kph'.format(\n",
    "pam.variables.EXPECTED_EUCLIDEAN_SPEEDS['car']\n",
    "))"
   ]
  },
  {
   "cell_type": "markdown",
   "metadata": {},
   "source": [
    "--> we should expect higher sampling of locations in a radius closer to 20 * 0.5= 10km."
   ]
  },
  {
   "cell_type": "code",
   "execution_count": null,
   "metadata": {
    "ExecuteTime": {
     "end_time": "2021-02-09T16:56:46.171241Z",
     "start_time": "2021-02-09T16:56:41.827503Z"
    }
   },
   "outputs": [],
   "source": [
    "p2 =  Person('p2', attributes={'age': 40})\n",
    "p2.add(Activity(seq=1,act='home',area='a',start_time=minutes_to_datetime(0),end_time=minutes_to_datetime(60)))\n",
    "p2.add(Leg(seq=1,mode='car',start_area='a',end_area='b',\n",
    "        start_time=minutes_to_datetime(60),end_time=minutes_to_datetime(90)))\n",
    "p2.add(Activity(seq=2,act='work',area='b',start_time=minutes_to_datetime(90),end_time=minutes_to_datetime(120)))\n",
    "\n",
    "hh2 = Household(0)\n",
    "hh2.add(p2)\n",
    "\n",
    "population2 = Population()\n",
    "population2.add(hh2)\n",
    "\n",
    "test_sampler_distance(population2, facility_sampler_nonweighted, complex_sampler=False,\n",
    "                     title = 'Commute distance, simple sampling, car')\n",
    "test_sampler_distance(population2, facility_sampler_weighted, complex_sampler=True, \n",
    "                      title = 'Commute distance, distance-weighted sampling, car')"
   ]
  },
  {
   "cell_type": "markdown",
   "metadata": {},
   "source": [
    "As expected, between long-distance alternatives (ie from zone a to zone i), deviation from expected distance makes less difference (but does slightly shift the distribution towards the correct direction)."
   ]
  },
  {
   "cell_type": "code",
   "execution_count": null,
   "metadata": {
    "ExecuteTime": {
     "end_time": "2021-02-09T16:56:50.444278Z",
     "start_time": "2021-02-09T16:56:46.172239Z"
    }
   },
   "outputs": [],
   "source": [
    "p3 =  Person('p3', attributes={'age': 40})\n",
    "p3.add(Activity(seq=1,act='home',area='a',start_time=minutes_to_datetime(0),end_time=minutes_to_datetime(60)))\n",
    "p3.add(Leg(seq=1,mode='car',start_area='a',end_area='c',\n",
    "        start_time=minutes_to_datetime(60),end_time=minutes_to_datetime(90)))\n",
    "p3.add(Activity(seq=2,act='work',area='c',start_time=minutes_to_datetime(90),end_time=minutes_to_datetime(120)))\n",
    "\n",
    "hh3 = Household(0)\n",
    "hh3.add(p3)\n",
    "\n",
    "population3 = Population()\n",
    "population3.add(hh3)\n",
    "\n",
    "test_sampler_distance(population3, facility_sampler_nonweighted, complex_sampler=False,\n",
    "                     title = 'Commute distance, simple sampling, car')\n",
    "test_sampler_distance(population3, facility_sampler_weighted, complex_sampler=True, \n",
    "                      title = 'Commute distance, distance-weighted sampling, car')"
   ]
  }
 ],
 "metadata": {
  "kernelspec": {
   "display_name": "pam",
   "language": "python",
   "name": "pam"
  },
  "language_info": {
   "codemirror_mode": {
    "name": "ipython",
    "version": 3
   },
   "file_extension": ".py",
   "mimetype": "text/x-python",
   "name": "python",
   "nbconvert_exporter": "python",
   "pygments_lexer": "ipython3",
   "version": "3.7.1"
  },
  "toc": {
   "base_numbering": 1,
   "nav_menu": {},
   "number_sections": true,
   "sideBar": true,
   "skip_h1_title": false,
   "title_cell": "Table of Contents",
   "title_sidebar": "Contents",
   "toc_cell": false,
   "toc_position": {},
   "toc_section_display": true,
   "toc_window_display": false
  }
 },
 "nbformat": 4,
 "nbformat_minor": 4
}
