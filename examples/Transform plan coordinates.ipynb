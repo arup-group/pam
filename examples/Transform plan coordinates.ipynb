{
 "cells": [
  {
   "cell_type": "code",
   "execution_count": null,
   "id": "30ad055d",
   "metadata": {},
   "outputs": [],
   "source": [
    "import numpy as np\n",
    "import pandas as pd\n",
    "import xml.etree.ElementTree as ET\n",
    "from pyproj import Proj, transform"
   ]
  },
  {
   "cell_type": "code",
   "execution_count": null,
   "id": "1921a0f9",
   "metadata": {},
   "outputs": [],
   "source": [
    "data_dir = './data/cambridge/plans_small.xml'"
   ]
  },
  {
   "cell_type": "code",
   "execution_count": null,
   "id": "c419fa9e",
   "metadata": {},
   "outputs": [],
   "source": [
    "# Parse XML data\n",
    "data = ET.parse(data_dir)\n",
    "# Define input and output CRS\n",
    "inputCRS = '4326'\n",
    "outputCRS = '27700'\n",
    "# Input and output projection\n",
    "inProj = Proj(init=f\"epsg:{inputCRS}\")\n",
    "outProj = Proj(init=f\"epsg:{outputCRS}\")"
   ]
  },
  {
   "cell_type": "code",
   "execution_count": null,
   "id": "8afd20e9",
   "metadata": {},
   "outputs": [],
   "source": [
    "for person in data.getroot():\n",
    "    for plan in person:\n",
    "        for act in plan:\n",
    "            if act.tag == 'act':\n",
    "                print('Before',act.attrib)\n",
    "                x1,y1 = float(act.attrib['x']),float(act.attrib['y'])\n",
    "                x2,y2 = transform(inProj,outProj,x1,y1)\n",
    "                act.attrib['x']=str(x2)\n",
    "                act.attrib['y']=str(y2)\n",
    "                print('After',act.attrib)"
   ]
  },
  {
   "cell_type": "code",
   "execution_count": null,
   "id": "548c2eff",
   "metadata": {},
   "outputs": [],
   "source": [
    "data.write(data_dir.replace('.xml',f'_{outputCRS}.xml'))"
   ]
  }
 ],
 "metadata": {
  "kernelspec": {
   "display_name": "pam",
   "language": "python",
   "name": "pam"
  },
  "language_info": {
   "codemirror_mode": {
    "name": "ipython",
    "version": 3
   },
   "file_extension": ".py",
   "mimetype": "text/x-python",
   "name": "python",
   "nbconvert_exporter": "python",
   "pygments_lexer": "ipython3",
   "version": "3.7.1"
  }
 },
 "nbformat": 4,
 "nbformat_minor": 5
}
