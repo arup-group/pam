{
 "cells": [
  {
   "attachments": {},
   "cell_type": "markdown",
   "metadata": {},
   "source": [
    "# PAM Read-Modify-Write\n",
    "\n",
    "This notebook is an introduction to the basic read - modify - write use case of PAM:\n",
    "\n",
    "- Read: Load activity plans from existing data (either tabular or MATSim)\n",
    "- Modify: Use the PAM api to modify the activity plans\n",
    "- Write: Write activity plans back to disk in the chosen format\n",
    "\n",
    "For this example, we use policies to make our modifications. But you might also try the following:\n",
    "\n",
    "- spatial sampling\n",
    "- location modelling\n",
    "- rescheduling\n",
    "- adding noise\n",
    "- simulating aging or the passing of time\n",
    "- and so on..."
   ]
  },
  {
   "cell_type": "code",
   "execution_count": 1,
   "metadata": {
    "ExecuteTime": {
     "end_time": "2020-05-18T14:31:06.631005Z",
     "start_time": "2020-05-18T14:31:06.133057Z"
    },
    "execution": {
     "iopub.execute_input": "2024-04-04T10:40:24.703118Z",
     "iopub.status.busy": "2024-04-04T10:40:24.703118Z",
     "iopub.status.idle": "2024-04-04T10:40:25.706880Z",
     "shell.execute_reply": "2024-04-04T10:40:25.706880Z"
    }
   },
   "outputs": [
    {
     "ename": "ModuleNotFoundError",
     "evalue": "No module named 'pam'",
     "output_type": "error",
     "traceback": [
      "\u001b[1;31m---------------------------------------------------------------------------\u001b[0m",
      "\u001b[1;31mModuleNotFoundError\u001b[0m                       Traceback (most recent call last)",
      "Cell \u001b[1;32mIn[1], line 7\u001b[0m\n\u001b[0;32m      5\u001b[0m \u001b[38;5;28;01mimport\u001b[39;00m \u001b[38;5;21;01mpandas\u001b[39;00m \u001b[38;5;28;01mas\u001b[39;00m \u001b[38;5;21;01mpd\u001b[39;00m\n\u001b[0;32m      6\u001b[0m \u001b[38;5;28;01mfrom\u001b[39;00m \u001b[38;5;21;01mmatplotlib\u001b[39;00m \u001b[38;5;28;01mimport\u001b[39;00m pyplot \u001b[38;5;28;01mas\u001b[39;00m plt\n\u001b[1;32m----> 7\u001b[0m \u001b[38;5;28;01mfrom\u001b[39;00m \u001b[38;5;21;01mpam\u001b[39;00m \u001b[38;5;28;01mimport\u001b[39;00m policy, read\n\u001b[0;32m      8\u001b[0m \u001b[38;5;28;01mfrom\u001b[39;00m \u001b[38;5;21;01mpam\u001b[39;00m\u001b[38;5;21;01m.\u001b[39;00m\u001b[38;5;21;01mpolicy\u001b[39;00m \u001b[38;5;28;01mimport\u001b[39;00m apply_policies\n\u001b[0;32m     10\u001b[0m get_ipython()\u001b[38;5;241m.\u001b[39mrun_line_magic(\u001b[38;5;124m'\u001b[39m\u001b[38;5;124mmatplotlib\u001b[39m\u001b[38;5;124m'\u001b[39m, \u001b[38;5;124m'\u001b[39m\u001b[38;5;124minline\u001b[39m\u001b[38;5;124m'\u001b[39m)\n",
      "\u001b[1;31mModuleNotFoundError\u001b[0m: No module named 'pam'"
     ]
    }
   ],
   "source": [
    "import os\n",
    "from collections import defaultdict\n",
    "\n",
    "import geopandas as gp\n",
    "import pandas as pd\n",
    "from matplotlib import pyplot as plt\n",
    "from pam import policy, read\n",
    "from pam.policy import apply_policies\n",
    "\n",
    "%matplotlib inline"
   ]
  },
  {
   "attachments": {},
   "cell_type": "markdown",
   "metadata": {},
   "source": [
    "## Load Data\n",
    "\n",
    "Here we load simple travel diary data of London commuters. This is a very simple 0.1% sample of data about work and education commutes from the 2011 census. \n",
    "Because we're sharing this data, we've aggregated locations to borough level and randomized personal attributes; so, don't get too excited about the results.\n",
    "\n",
    "The data is available in the [`data/example_data`](https://github.com/arup-group/pam/tree/main/examples/data/example_data) sub-directory.\n",
    "All data paths in this example are relative to the [notebook directory](https://github.com/arup-group/pam/tree/main/examples) in the PAM repository "
   ]
  },
  {
   "cell_type": "code",
   "execution_count": 2,
   "metadata": {
    "ExecuteTime": {
     "end_time": "2020-05-18T13:40:08.588305Z",
     "start_time": "2020-05-18T13:40:08.557000Z"
    },
    "execution": {
     "iopub.execute_input": "2023-09-29T13:18:40.283131Z",
     "iopub.status.busy": "2023-09-29T13:18:40.282868Z",
     "iopub.status.idle": "2023-09-29T13:18:40.290128Z",
     "shell.execute_reply": "2023-09-29T13:18:40.289676Z"
    }
   },
   "outputs": [],
   "source": [
    "trips = pd.read_csv(\n",
    "    os.path.join(\"data\", \"example_data\", \"example_travel_diaries.csv\"), index_col=\"uid\"\n",
    ")\n",
    "attributes = pd.read_csv(\n",
    "    os.path.join(\"data\", \"example_data\", \"example_attributes.csv\"), index_col=\"pid\"\n",
    ")"
   ]
  },
  {
   "cell_type": "code",
   "execution_count": 3,
   "metadata": {
    "ExecuteTime": {
     "end_time": "2020-05-18T13:40:08.625157Z",
     "start_time": "2020-05-18T13:40:08.591798Z"
    },
    "execution": {
     "iopub.execute_input": "2023-09-29T13:18:40.292437Z",
     "iopub.status.busy": "2023-09-29T13:18:40.292249Z",
     "iopub.status.idle": "2023-09-29T13:18:40.303349Z",
     "shell.execute_reply": "2023-09-29T13:18:40.302497Z"
    }
   },
   "outputs": [],
   "source": [
    "trips.head(10)"
   ]
  },
  {
   "attachments": {},
   "cell_type": "markdown",
   "metadata": {},
   "source": [
    "## Read\n",
    "\n",
    "First we load example travel diary data to Activity Plans. This data represents 2011 baseline London population of commuters."
   ]
  },
  {
   "cell_type": "code",
   "execution_count": 4,
   "metadata": {
    "ExecuteTime": {
     "end_time": "2020-05-18T13:40:17.617442Z",
     "start_time": "2020-05-18T13:40:08.632419Z"
    },
    "execution": {
     "iopub.execute_input": "2023-09-29T13:18:40.306008Z",
     "iopub.status.busy": "2023-09-29T13:18:40.305651Z",
     "iopub.status.idle": "2023-09-29T13:18:40.347746Z",
     "shell.execute_reply": "2023-09-29T13:18:40.347284Z"
    }
   },
   "outputs": [],
   "source": [
    "population = read.load_travel_diary(trips, attributes, trip_freq_as_person_freq=True)"
   ]
  },
  {
   "attachments": {},
   "cell_type": "markdown",
   "metadata": {
    "ExecuteTime": {
     "end_time": "2020-04-09T14:32:22.432201Z",
     "start_time": "2020-04-09T14:32:15.568791Z"
    }
   },
   "source": [
    "Let's check out an example Activity Plan and Attributes:"
   ]
  },
  {
   "cell_type": "code",
   "execution_count": 5,
   "metadata": {
    "ExecuteTime": {
     "end_time": "2020-05-18T13:40:17.640594Z",
     "start_time": "2020-05-18T13:40:17.621499Z"
    },
    "execution": {
     "iopub.execute_input": "2023-09-29T13:18:40.350424Z",
     "iopub.status.busy": "2023-09-29T13:18:40.350141Z",
     "iopub.status.idle": "2023-09-29T13:18:40.353568Z",
     "shell.execute_reply": "2023-09-29T13:18:40.353074Z"
    }
   },
   "outputs": [],
   "source": [
    "household = population.households[\"census_12\"]\n",
    "person = household.people[\"census_12\"]\n",
    "person.print()"
   ]
  },
  {
   "attachments": {},
   "cell_type": "markdown",
   "metadata": {},
   "source": [
    "Before we do any activity modification - we create a simple function to extract some example statistics. We include this as a simple demo, but would love to add more.\n",
    "\n",
    "Note that activity plans allow us to consider detailed **joint** segmentations, such as socio-economic, spatial, temporal, modal, activity sequence and so on."
   ]
  },
  {
   "cell_type": "code",
   "execution_count": 6,
   "metadata": {
    "ExecuteTime": {
     "end_time": "2020-05-18T13:40:17.678455Z",
     "start_time": "2020-05-18T13:40:17.665079Z"
    },
    "execution": {
     "iopub.execute_input": "2023-09-29T13:18:40.355755Z",
     "iopub.status.busy": "2023-09-29T13:18:40.355575Z",
     "iopub.status.idle": "2023-09-29T13:18:40.360450Z",
     "shell.execute_reply": "2023-09-29T13:18:40.360064Z"
    }
   },
   "outputs": [],
   "source": [
    "def print_simple_stats(population):\n",
    "    \"\"\"Print some simple population statistics.\"\"\"\n",
    "    time_at_home = 0\n",
    "    travel_time = 0\n",
    "    low_income_central_trips = 0\n",
    "    high_income_central_trips = 0\n",
    "\n",
    "    for hh in population.households.values():\n",
    "        for person in hh.people.values():\n",
    "            freq = person.freq\n",
    "\n",
    "            for p in person.plan:\n",
    "                if p.act == \"travel\":\n",
    "                    duration = p.duration.seconds * freq / 3600\n",
    "                    travel_time += duration\n",
    "\n",
    "                    if p.end_location.area == \"Westminster,City of London\":\n",
    "                        if person.attributes[\"inc\"] == \"low\":\n",
    "                            low_income_central_trips += freq\n",
    "\n",
    "                        elif person.attributes[\"inc\"] == \"high\":\n",
    "                            high_income_central_trips += freq\n",
    "\n",
    "                else:  # activity\n",
    "                    if p.act == \"home\":\n",
    "                        duration = p.duration.seconds * freq / 3600\n",
    "                        time_at_home += duration\n",
    "\n",
    "    print(f\"Population total time at home: {time_at_home/1000000:.2f} million hours\")\n",
    "    print(f\"Population total travel time: {travel_time/1000000:.2f} million hours\")\n",
    "    print(f\"Low income trips to Central London: {low_income_central_trips} trips\")\n",
    "    print(f\"High income trips to Central London: {high_income_central_trips} trips\")"
   ]
  },
  {
   "cell_type": "code",
   "execution_count": 7,
   "metadata": {
    "ExecuteTime": {
     "end_time": "2020-05-18T13:40:17.734686Z",
     "start_time": "2020-05-18T13:40:17.683814Z"
    },
    "execution": {
     "iopub.execute_input": "2023-09-29T13:18:40.362462Z",
     "iopub.status.busy": "2023-09-29T13:18:40.362274Z",
     "iopub.status.idle": "2023-09-29T13:18:40.365390Z",
     "shell.execute_reply": "2023-09-29T13:18:40.364942Z"
    }
   },
   "outputs": [],
   "source": [
    "print_simple_stats(population)"
   ]
  },
  {
   "cell_type": "code",
   "execution_count": 8,
   "metadata": {
    "ExecuteTime": {
     "end_time": "2020-05-18T13:40:17.773657Z",
     "start_time": "2020-05-18T13:40:17.749264Z"
    },
    "execution": {
     "iopub.execute_input": "2023-09-29T13:18:40.367679Z",
     "iopub.status.busy": "2023-09-29T13:18:40.367484Z",
     "iopub.status.idle": "2023-09-29T13:18:40.372697Z",
     "shell.execute_reply": "2023-09-29T13:18:40.372272Z"
    }
   },
   "outputs": [],
   "source": [
    "def plot_simple_stats(population):\n",
    "    \"\"\"Plot some simple population statistics.\"\"\"\n",
    "    geoms = gp.read_file(os.path.join(\"data\", \"example_data\", \"geometry.geojson\"))\n",
    "\n",
    "    departures = defaultdict(int)\n",
    "    arrivals = defaultdict(int)\n",
    "\n",
    "    for _hid, hh in population.households.items():\n",
    "        for _pid, person in hh.people.items():\n",
    "            freq = person.freq\n",
    "\n",
    "            for p in person.plan:\n",
    "                if p.act == \"travel\":\n",
    "                    departures[p.start_location.area] += freq\n",
    "                    arrivals[p.end_location.area] += freq\n",
    "    geoms[\"departures\"] = geoms.NAME.map(departures)\n",
    "    geoms[\"arrivals\"] = geoms.NAME.map(arrivals)\n",
    "\n",
    "    fig, ax = plt.subplots(1, 2, figsize=(16, 6))\n",
    "    for i, name in enumerate([\"departures\", \"arrivals\"]):\n",
    "        ax[i].title.set_text(name)\n",
    "        geoms.plot(name, ax=ax[i])\n",
    "        ax[i].axis(\"off\")"
   ]
  },
  {
   "cell_type": "code",
   "execution_count": 9,
   "metadata": {
    "ExecuteTime": {
     "end_time": "2020-05-18T13:40:19.125358Z",
     "start_time": "2020-05-18T13:40:17.786058Z"
    },
    "execution": {
     "iopub.execute_input": "2023-09-29T13:18:40.374926Z",
     "iopub.status.busy": "2023-09-29T13:18:40.374730Z",
     "iopub.status.idle": "2023-09-29T13:18:40.773071Z",
     "shell.execute_reply": "2023-09-29T13:18:40.772588Z"
    }
   },
   "outputs": [],
   "source": [
    "plot_simple_stats(population)"
   ]
  },
  {
   "attachments": {},
   "cell_type": "markdown",
   "metadata": {},
   "source": [
    "## Modify\n",
    "\n",
    "Our 2011 baseline London population of commuters seems sensible, they spend about 50 million hours at home and 1.6 million hours travelling.\n",
    "\n",
    "But what if we want to try and build some more up to date scenarios?\n",
    "\n",
    "We consider two scenarios from a combination of policies:\n",
    "\n",
    "Scenario A - Do Minimum:\n",
    "1. A household will be quarantined with p=0.025 (for example due to a possitive virus test within the household)\n",
    "2. A person will be staying at home (self isolating) with p=0.1 (for example due to being a vulnerable person)\n",
    "\n",
    "Scenario B - Lockdown:\n",
    "1. As above plus education and work activities will be removed and plans adjusted with p=0.9 (for example because schools and work places are closed)"
   ]
  },
  {
   "cell_type": "code",
   "execution_count": 10,
   "metadata": {
    "ExecuteTime": {
     "end_time": "2020-05-18T13:40:19.159176Z",
     "start_time": "2020-05-18T13:40:19.133774Z"
    },
    "execution": {
     "iopub.execute_input": "2023-09-29T13:18:40.775453Z",
     "iopub.status.busy": "2023-09-29T13:18:40.775298Z",
     "iopub.status.idle": "2023-09-29T13:18:40.804033Z",
     "shell.execute_reply": "2023-09-29T13:18:40.803538Z"
    }
   },
   "outputs": [],
   "source": [
    "policy1 = policy.HouseholdQuarantined(probability=0.025)\n",
    "policy2 = policy.PersonStayAtHome(probability=0.1)\n",
    "policy3 = policy.RemoveHouseholdActivities([\"education\", \"work\"], probability=0.9)\n",
    "\n",
    "do_minimum = apply_policies(population, [policy1, policy2])\n",
    "lockdown = apply_policies(population, [policy1, policy2, policy3])"
   ]
  },
  {
   "cell_type": "code",
   "execution_count": 11,
   "metadata": {
    "ExecuteTime": {
     "end_time": "2020-05-18T13:40:23.298011Z",
     "start_time": "2020-05-18T13:40:22.714290Z"
    },
    "execution": {
     "iopub.execute_input": "2023-09-29T13:18:40.806632Z",
     "iopub.status.busy": "2023-09-29T13:18:40.806408Z",
     "iopub.status.idle": "2023-09-29T13:18:41.067787Z",
     "shell.execute_reply": "2023-09-29T13:18:41.067354Z"
    }
   },
   "outputs": [],
   "source": [
    "print_simple_stats(do_minimum)\n",
    "plot_simple_stats(do_minimum)"
   ]
  },
  {
   "cell_type": "code",
   "execution_count": 12,
   "metadata": {
    "ExecuteTime": {
     "end_time": "2020-05-18T13:40:23.895070Z",
     "start_time": "2020-05-18T13:40:23.300221Z"
    },
    "execution": {
     "iopub.execute_input": "2023-09-29T13:18:41.070240Z",
     "iopub.status.busy": "2023-09-29T13:18:41.070048Z",
     "iopub.status.idle": "2023-09-29T13:18:41.328096Z",
     "shell.execute_reply": "2023-09-29T13:18:41.327641Z"
    }
   },
   "outputs": [],
   "source": [
    "print_simple_stats(lockdown)\n",
    "plot_simple_stats(lockdown)"
   ]
  },
  {
   "cell_type": "markdown",
   "metadata": {},
   "source": [
    "## Write\n",
    "\n",
    "Assuming we are happy with our modified activity sequences we can write them to disk in our desired format. For this example we haven't prepared the population for MATSim so we write to disk as travel plans/diaries:"
   ]
  },
  {
   "cell_type": "code",
   "execution_count": 13,
   "metadata": {
    "execution": {
     "iopub.execute_input": "2023-09-29T13:18:41.330379Z",
     "iopub.status.busy": "2023-09-29T13:18:41.330168Z",
     "iopub.status.idle": "2023-09-29T13:18:41.357015Z",
     "shell.execute_reply": "2023-09-29T13:18:41.356534Z"
    }
   },
   "outputs": [],
   "source": [
    "do_minimum.to_csv(os.path.join(\"tmp\", \"do_min\"))\n",
    "lockdown.to_csv(os.path.join(\"tmp\", \"lockdown\"))"
   ]
  }
 ],
 "metadata": {
  "kernelspec": {
   "display_name": "pam",
   "language": "python",
   "name": "python3"
  },
  "language_info": {
   "codemirror_mode": {
    "name": "ipython",
    "version": 3
   },
   "file_extension": ".py",
   "mimetype": "text/x-python",
   "name": "python",
   "nbconvert_exporter": "python",
   "pygments_lexer": "ipython3",
   "version": "3.11.8"
  },
  "latex_envs": {
   "LaTeX_envs_menu_present": true,
   "autoclose": true,
   "autocomplete": true,
   "bibliofile": "biblio.bib",
   "cite_by": "apalike",
   "current_citInitial": 1,
   "eqLabelWithNumbers": true,
   "eqNumInitial": 1,
   "hotkeys": {
    "equation": "Ctrl-E",
    "itemize": "Ctrl-I"
   },
   "labels_anchors": false,
   "latex_user_defs": false,
   "report_style_numbering": false,
   "user_envs_cfg": false
  },
  "toc": {
   "base_numbering": 1,
   "nav_menu": {},
   "number_sections": true,
   "sideBar": true,
   "skip_h1_title": true,
   "title_cell": "Table of Contents",
   "title_sidebar": "Contents",
   "toc_cell": false,
   "toc_position": {
    "height": "calc(100% - 180px)",
    "left": "10px",
    "top": "150px",
    "width": "248.333px"
   },
   "toc_section_display": true,
   "toc_window_display": false
  },
  "varInspector": {
   "cols": {
    "lenName": 16,
    "lenType": 16,
    "lenVar": 40
   },
   "kernels_config": {
    "python": {
     "delete_cmd_postfix": "",
     "delete_cmd_prefix": "del ",
     "library": "var_list.py",
     "varRefreshCmd": "print(var_dic_list())"
    },
    "r": {
     "delete_cmd_postfix": ") ",
     "delete_cmd_prefix": "rm(",
     "library": "var_list.r",
     "varRefreshCmd": "cat(var_dic_list()) "
    }
   },
   "types_to_exclude": [
    "module",
    "function",
    "builtin_function_or_method",
    "instance",
    "_Feature"
   ],
   "window_display": false
  }
 },
 "nbformat": 4,
 "nbformat_minor": 2
}
