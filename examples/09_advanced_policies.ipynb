{
 "cells": [
  {
   "attachments": {},
   "cell_type": "markdown",
   "metadata": {},
   "source": [
    "# Modifying the population using complex policies\n",
    "\n",
    "This notebook shows how complex policies can be applied to people, households, and entire populations."
   ]
  },
  {
   "cell_type": "code",
   "execution_count": 1,
   "metadata": {
    "ExecuteTime": {
     "end_time": "2020-11-24T13:44:59.715607Z",
     "start_time": "2020-11-24T13:44:58.666025Z"
    },
    "execution": {
     "iopub.execute_input": "2024-04-04T10:40:33.655750Z",
     "iopub.status.busy": "2024-04-04T10:40:33.655750Z",
     "iopub.status.idle": "2024-04-04T10:40:33.886947Z",
     "shell.execute_reply": "2024-04-04T10:40:33.886947Z"
    }
   },
   "outputs": [
    {
     "ename": "ModuleNotFoundError",
     "evalue": "No module named 'pam'",
     "output_type": "error",
     "traceback": [
      "\u001b[1;31m---------------------------------------------------------------------------\u001b[0m",
      "\u001b[1;31mModuleNotFoundError\u001b[0m                       Traceback (most recent call last)",
      "Cell \u001b[1;32mIn[1], line 1\u001b[0m\n\u001b[1;32m----> 1\u001b[0m \u001b[38;5;28;01mfrom\u001b[39;00m \u001b[38;5;21;01mpam\u001b[39;00m\u001b[38;5;21;01m.\u001b[39;00m\u001b[38;5;21;01mactivity\u001b[39;00m \u001b[38;5;28;01mimport\u001b[39;00m Activity, Leg\n\u001b[0;32m      2\u001b[0m \u001b[38;5;28;01mfrom\u001b[39;00m \u001b[38;5;21;01mpam\u001b[39;00m\u001b[38;5;21;01m.\u001b[39;00m\u001b[38;5;21;01mcore\u001b[39;00m \u001b[38;5;28;01mimport\u001b[39;00m Household, Person, Population\n\u001b[0;32m      3\u001b[0m \u001b[38;5;28;01mfrom\u001b[39;00m \u001b[38;5;21;01mpam\u001b[39;00m\u001b[38;5;21;01m.\u001b[39;00m\u001b[38;5;21;01mpolicy\u001b[39;00m \u001b[38;5;28;01mimport\u001b[39;00m (\n\u001b[0;32m      4\u001b[0m     ActivityPolicy,\n\u001b[0;32m      5\u001b[0m     ActivityProbability,\n\u001b[1;32m   (...)\u001b[0m\n\u001b[0;32m     13\u001b[0m     apply_policies,\n\u001b[0;32m     14\u001b[0m )\n",
      "\u001b[1;31mModuleNotFoundError\u001b[0m: No module named 'pam'"
     ]
    }
   ],
   "source": [
    "from pam.activity import Activity, Leg\n",
    "from pam.core import Household, Person, Population\n",
    "from pam.policy import (\n",
    "    ActivityPolicy,\n",
    "    ActivityProbability,\n",
    "    HouseholdPolicy,\n",
    "    MoveActivityTourToHomeLocation,\n",
    "    PersonAttributeFilter,\n",
    "    PersonPolicy,\n",
    "    PersonProbability,\n",
    "    ReduceSharedActivity,\n",
    "    RemoveActivity,\n",
    "    apply_policies,\n",
    ")\n",
    "from pam.utils import minutes_to_datetime as mtdt\n",
    "from pam.variables import END_OF_DAY"
   ]
  },
  {
   "cell_type": "code",
   "execution_count": 2,
   "metadata": {
    "ExecuteTime": {
     "end_time": "2020-11-24T13:44:59.747019Z",
     "start_time": "2020-11-24T13:44:59.718357Z"
    },
    "execution": {
     "iopub.execute_input": "2023-09-22T10:52:30.817582Z",
     "iopub.status.busy": "2023-09-22T10:52:30.817428Z",
     "iopub.status.idle": "2023-09-22T10:52:30.820608Z",
     "shell.execute_reply": "2023-09-22T10:52:30.820359Z"
    }
   },
   "outputs": [],
   "source": [
    "def print_simple_stats(population):\n",
    "    \"\"\"Print some simple population statistics.\"\"\"\n",
    "    time_at_home = 0\n",
    "    travel_time = 0\n",
    "    low_income_central_trips = 0\n",
    "    high_income_central_trips = 0\n",
    "\n",
    "    for _hid, hh in population.households.items():\n",
    "        for _pid, person in hh.people.items():\n",
    "            freq = person.freq\n",
    "\n",
    "            for p in person.plan:\n",
    "                if p.act == \"travel\":\n",
    "                    duration = p.duration.seconds * freq / 3600\n",
    "                    travel_time += duration\n",
    "\n",
    "                    if p.end_location.area == \"Westminster,City of London\":\n",
    "                        if person.attributes[\"inc\"] == \"low\":\n",
    "                            low_income_central_trips += freq\n",
    "\n",
    "                        elif person.attributes[\"inc\"] == \"high\":\n",
    "                            high_income_central_trips += freq\n",
    "\n",
    "                else:  # activity\n",
    "                    if p.act == \"home\":\n",
    "                        duration = p.duration.seconds * freq / 3600\n",
    "                        time_at_home += duration\n",
    "\n",
    "    print(f\"Population total time at home: {time_at_home:.2f} hours\")\n",
    "    print(f\"Population total travel time: {travel_time:.2f} hours\")"
   ]
  },
  {
   "attachments": {},
   "cell_type": "markdown",
   "metadata": {},
   "source": [
    "## Create example Population"
   ]
  },
  {
   "cell_type": "code",
   "execution_count": 3,
   "metadata": {
    "ExecuteTime": {
     "end_time": "2020-11-24T13:44:59.776581Z",
     "start_time": "2020-11-24T13:44:59.753460Z"
    },
    "execution": {
     "iopub.execute_input": "2023-09-22T10:52:30.821932Z",
     "iopub.status.busy": "2023-09-22T10:52:30.821843Z",
     "iopub.status.idle": "2023-09-22T10:52:30.826362Z",
     "shell.execute_reply": "2023-09-22T10:52:30.826101Z"
    }
   },
   "outputs": [],
   "source": [
    "population = Population()"
   ]
  },
  {
   "attachments": {},
   "cell_type": "markdown",
   "metadata": {},
   "source": [
    "### Add Smith household"
   ]
  },
  {
   "cell_type": "code",
   "execution_count": 4,
   "metadata": {
    "ExecuteTime": {
     "end_time": "2020-11-24T13:44:59.886323Z",
     "start_time": "2020-11-24T13:44:59.779452Z"
    },
    "execution": {
     "iopub.execute_input": "2023-09-22T10:52:30.828019Z",
     "iopub.status.busy": "2023-09-22T10:52:30.827901Z",
     "iopub.status.idle": "2023-09-22T10:52:30.841817Z",
     "shell.execute_reply": "2023-09-22T10:52:30.841496Z"
    }
   },
   "outputs": [],
   "source": [
    "smith_id = \"Smith\"\n",
    "\n",
    "Billy = Person(\n",
    "    \"Billy\",\n",
    "    freq=1,\n",
    "    attributes={\"age\": 26, \"job\": \"employed\", \"gender\": \"female\", \"key_worker\": False},\n",
    ")\n",
    "\n",
    "Billy.add(Activity(1, \"home\", \"a\", start_time=mtdt(0), end_time=mtdt(8 * 60)))\n",
    "Billy.add(\n",
    "    Leg(1, \"car\", start_area=\"a\", end_area=\"g\", start_time=mtdt(8 * 60), end_time=mtdt(8 * 60 + 20))\n",
    ")\n",
    "Billy.add(Activity(2, \"work\", \"g\", start_time=mtdt(8 * 60 + 20), end_time=mtdt(17 * 60)))\n",
    "Billy.add(\n",
    "    Leg(\n",
    "        2,\n",
    "        \"car\",\n",
    "        start_area=\"g\",\n",
    "        end_area=\"a\",\n",
    "        start_time=mtdt(17 * 60),\n",
    "        end_time=mtdt(17 * 60 + 25),\n",
    "    )\n",
    ")\n",
    "Billy.add(Activity(3, \"home\", \"a\", start_time=mtdt(17 * 60 + 25), end_time=END_OF_DAY))\n",
    "\n",
    "\n",
    "Bobby = Person(\n",
    "    \"Bobby\",\n",
    "    freq=1,\n",
    "    attributes={\"age\": 6, \"job\": \"education\", \"gender\": \"male\", \"key_worker\": False},\n",
    ")\n",
    "Bobby.add(Activity(1, \"home\", \"a\", start_time=mtdt(0), end_time=mtdt(8 * 60)))\n",
    "Bobby.add(Leg(1, \"walk\", \"a\", \"b\", start_time=mtdt(8 * 60 + 5), end_time=mtdt(8 * 60 + 30)))\n",
    "Bobby.add(Activity(2, \"education\", \"b\", start_time=mtdt(8 * 60 + 30), end_time=mtdt(16 * 60)))\n",
    "Bobby.add(Leg(2, \"walk\", \"b\", \"c\", start_time=mtdt(16 * 60), end_time=mtdt(16 * 60 + 35)))\n",
    "Bobby.add(Activity(3, \"home\", \"a\", start_time=mtdt(16 * 60 + 30), end_time=mtdt(18 * 60)))\n",
    "Bobby.add(Leg(3, \"car\", \"a\", \"b\", start_time=mtdt(18 * 60), end_time=mtdt(18 * 60 + 20)))\n",
    "Bobby.add(Activity(4, \"shop_1\", \"b\", start_time=mtdt(18 * 60 + 20), end_time=mtdt(18 * 60 + 50)))\n",
    "Bobby.add(Leg(4, \"car\", \"b\", \"b\", start_time=mtdt(18 * 60 + 50), end_time=mtdt(19 * 60)))\n",
    "Bobby.add(Activity(5, \"shop_2\", \"b\", start_time=mtdt(19 * 60), end_time=mtdt(19 * 60 + 50)))\n",
    "Bobby.add(Leg(5, \"car\", \"b\", \"a\", start_time=mtdt(19 * 60 + 50), end_time=mtdt(20 * 60 + 10)))\n",
    "Bobby.add(Activity(6, \"home\", \"a\", start_time=mtdt(20 * 60 + 10), end_time=END_OF_DAY))\n",
    "\n",
    "Bradly = Person(\n",
    "    \"Bradly\",\n",
    "    freq=1,\n",
    "    attributes={\"age\": 40, \"job\": \"employed\", \"gender\": \"male\", \"key_worker\": True},\n",
    ")\n",
    "Bradly.add(Activity(1, \"home\", \"a\", start_time=mtdt(0), end_time=mtdt(8 * 60)))\n",
    "\n",
    "Bradly.add(Leg(1, \"walk\", \"a\", \"b\", start_time=mtdt(8 * 60), end_time=mtdt(8 * 60 + 20)))\n",
    "Bradly.add(Activity(2, \"escort\", \"b\", start_time=mtdt(8 * 60 + 20), end_time=mtdt(8 * 60 + 30)))\n",
    "Bradly.add(Leg(2, \"pt\", \"b\", \"b\", start_time=mtdt(8 * 60 + 30), end_time=mtdt(9 * 60)))\n",
    "\n",
    "Bradly.add(Activity(4, \"work\", \"b\", start_time=mtdt(9 * 60), end_time=mtdt(10 * 60)))\n",
    "Bradly.add(Leg(3, \"pt\", \"b\", \"c\", start_time=mtdt(10 * 60), end_time=mtdt(10 * 60 + 20)))\n",
    "Bradly.add(Activity(4, \"work\", \"b\", start_time=mtdt(10 * 60 + 20), end_time=mtdt(12 * 60)))\n",
    "Bradly.add(Leg(4, \"pt\", \"b\", \"c\", start_time=mtdt(12 * 60), end_time=mtdt(12 * 60 + 20)))\n",
    "Bradly.add(Activity(5, \"work\", \"b\", start_time=mtdt(12 * 60 + 20), end_time=mtdt(14 * 60)))\n",
    "Bradly.add(Leg(5, \"pt\", \"b\", \"c\", start_time=mtdt(14 * 60), end_time=mtdt(14 * 60 + 20)))\n",
    "\n",
    "Bradly.add(Activity(6, \"leisure\", \"c\", start_time=mtdt(14 * 60 + 20), end_time=mtdt(15 * 60 + 30)))\n",
    "Bradly.add(Leg(4, \"pt\", \"c\", \"b\", start_time=mtdt(15 * 60 + 30), end_time=mtdt(16 * 60 - 10)))\n",
    "Bradly.add(Activity(5, \"escort\", \"b\", start_time=mtdt(16 * 60 - 10), end_time=mtdt(16 * 60)))\n",
    "Bradly.add(Leg(5, \"walk\", \"b\", \"a\", start_time=mtdt(16 * 60), end_time=mtdt(16 * 60 + 20)))\n",
    "\n",
    "Bradly.add(Activity(8, \"home\", \"a\", start_time=mtdt(16 * 60 + 20), end_time=mtdt(18 * 60)))\n",
    "Bradly.add(Leg(8, \"car\", \"a\", \"b\", start_time=mtdt(18 * 60), end_time=mtdt(18 * 60 + 20)))\n",
    "Bradly.add(Activity(9, \"shop_1\", \"b\", start_time=mtdt(18 * 60 + 20), end_time=mtdt(18 * 60 + 50)))\n",
    "Bradly.add(Leg(9, \"car\", \"b\", \"b\", start_time=mtdt(18 * 60 + 50), end_time=mtdt(19 * 60)))\n",
    "Bradly.add(Activity(10, \"shop_2\", \"b\", start_time=mtdt(19 * 60), end_time=mtdt(19 * 60 + 50)))\n",
    "Bradly.add(Leg(10, \"car\", \"b\", \"a\", start_time=mtdt(19 * 60 + 50), end_time=mtdt(20 * 60 + 10)))\n",
    "Bradly.add(Activity(11, \"home\", \"a\", start_time=mtdt(20 * 60 + 10), end_time=END_OF_DAY))\n",
    "\n",
    "smiths = Household(smith_id)\n",
    "for person in [Billy, Bradly, Bobby]:\n",
    "    smiths.add(person)\n",
    "\n",
    "smiths.people"
   ]
  },
  {
   "cell_type": "code",
   "execution_count": 5,
   "metadata": {
    "ExecuteTime": {
     "end_time": "2020-11-24T13:45:00.563568Z",
     "start_time": "2020-11-24T13:44:59.890084Z"
    },
    "execution": {
     "iopub.execute_input": "2023-09-22T10:52:30.843449Z",
     "iopub.status.busy": "2023-09-22T10:52:30.843335Z",
     "iopub.status.idle": "2023-09-22T10:52:31.115048Z",
     "shell.execute_reply": "2023-09-22T10:52:31.114745Z"
    }
   },
   "outputs": [],
   "source": [
    "smiths.plot()"
   ]
  },
  {
   "cell_type": "code",
   "execution_count": 6,
   "metadata": {
    "ExecuteTime": {
     "end_time": "2020-11-24T13:45:00.606743Z",
     "start_time": "2020-11-24T13:45:00.567704Z"
    },
    "execution": {
     "iopub.execute_input": "2023-09-22T10:52:31.116568Z",
     "iopub.status.busy": "2023-09-22T10:52:31.116457Z",
     "iopub.status.idle": "2023-09-22T10:52:31.118496Z",
     "shell.execute_reply": "2023-09-22T10:52:31.118220Z"
    }
   },
   "outputs": [],
   "source": [
    "population.add(smiths)"
   ]
  },
  {
   "attachments": {},
   "cell_type": "markdown",
   "metadata": {},
   "source": [
    "### Add Jones household"
   ]
  },
  {
   "cell_type": "code",
   "execution_count": 7,
   "metadata": {
    "ExecuteTime": {
     "end_time": "2020-11-24T13:45:00.659226Z",
     "start_time": "2020-11-24T13:45:00.613452Z"
    },
    "execution": {
     "iopub.execute_input": "2023-09-22T10:52:31.119809Z",
     "iopub.status.busy": "2023-09-22T10:52:31.119715Z",
     "iopub.status.idle": "2023-09-22T10:52:31.128256Z",
     "shell.execute_reply": "2023-09-22T10:52:31.127987Z"
    }
   },
   "outputs": [],
   "source": [
    "jones_id = \"Jones\"\n",
    "\n",
    "Hugh = Person(\n",
    "    \"Hugh\",\n",
    "    freq=1,\n",
    "    attributes={\"age\": 100, \"job\": \"unemployed\", \"gender\": \"male\", \"key_worker\": False},\n",
    ")\n",
    "Hugh.add(Activity(1, \"home\", \"a\", start_time=mtdt(0), end_time=mtdt(8 * 60)))\n",
    "Hugh.add(Leg(1, \"walk\", \"a\", \"b\", start_time=mtdt(8 * 60), end_time=mtdt(8 * 60 + 30)))\n",
    "Hugh.add(Activity(2, \"health\", \"b\", start_time=mtdt(8 * 60 + 30), end_time=mtdt(10 * 60)))\n",
    "Hugh.add(Leg(2, \"walk\", \"b\", \"a\", start_time=mtdt(10 * 60), end_time=mtdt(10 * 60 + 30)))\n",
    "Hugh.add(Activity(3, \"home\", \"a\", start_time=mtdt(10 * 60 + 30), end_time=mtdt(14 * 60)))\n",
    "Hugh.add(Leg(3, \"walk\", \"a\", \"b\", start_time=mtdt(14 * 60), end_time=mtdt(14 * 60 + 30)))\n",
    "Hugh.add(Activity(4, \"health\", \"b\", start_time=mtdt(14 * 60 + 30), end_time=mtdt(16 * 60)))\n",
    "Hugh.add(Leg(4, \"walk\", \"b\", \"a\", start_time=mtdt(16 * 60), end_time=mtdt(16 * 60 + 30)))\n",
    "Hugh.add(Activity(5, \"home\", \"a\", start_time=mtdt(16 * 60 + 30), end_time=END_OF_DAY))\n",
    "\n",
    "Bridget = Person(\n",
    "    \"Bridget\",\n",
    "    freq=1,\n",
    "    attributes={\"age\": 35, \"job\": \"employed\", \"gender\": \"female\", \"key_worker\": False},\n",
    ")\n",
    "Bridget.add(Activity(1, \"home\", \"a\", start_time=mtdt(0), end_time=mtdt(8 * 60)))\n",
    "Bridget.add(Leg(1, \"walk\", \"a\", \"b\", start_time=mtdt(8 * 60), end_time=mtdt(8 * 60 + 5)))\n",
    "Bridget.add(Activity(2, \"escort\", \"b\", start_time=mtdt(8 * 60 + 5), end_time=mtdt(10 * 60 + 30)))\n",
    "Bridget.add(Leg(2, \"pt\", \"b\", \"c\", start_time=mtdt(10 * 60 + 30), end_time=mtdt(11 * 60)))\n",
    "Bridget.add(Activity(3, \"work\", \"c\", start_time=mtdt(11 * 60), end_time=mtdt(16 * 60)))\n",
    "Bridget.add(Leg(3, \"pt\", \"c\", \"a\", start_time=mtdt(16 * 60), end_time=mtdt(16 * 60 + 20)))\n",
    "Bridget.add(Activity(4, \"home\", \"a\", start_time=mtdt(16 * 60 + 20), end_time=mtdt(17 * 60 + 20)))\n",
    "Bridget.add(Leg(4, \"pt\", \"c\", \"a\", start_time=mtdt(17 * 60 + 20), end_time=mtdt(17 * 60 + 50)))\n",
    "Bridget.add(Activity(5, \"shop\", \"a\", start_time=mtdt(17 * 60 + 50), end_time=mtdt(18 * 60 + 30)))\n",
    "Bridget.add(Leg(5, \"pt\", \"c\", \"a\", start_time=mtdt(18 * 60 + 30), end_time=mtdt(18 * 60 + 50)))\n",
    "Bridget.add(Activity(6, \"home\", \"a\", start_time=mtdt(18 * 60 + 50), end_time=END_OF_DAY))\n",
    "\n",
    "jones = Household(jones_id)\n",
    "for person in [Hugh, Bridget]:\n",
    "    jones.add(person)\n",
    "\n",
    "jones.people"
   ]
  },
  {
   "cell_type": "code",
   "execution_count": 8,
   "metadata": {
    "ExecuteTime": {
     "end_time": "2020-11-24T13:45:01.131068Z",
     "start_time": "2020-11-24T13:45:00.666320Z"
    },
    "execution": {
     "iopub.execute_input": "2023-09-22T10:52:31.129725Z",
     "iopub.status.busy": "2023-09-22T10:52:31.129623Z",
     "iopub.status.idle": "2023-09-22T10:52:31.284516Z",
     "shell.execute_reply": "2023-09-22T10:52:31.284159Z"
    }
   },
   "outputs": [],
   "source": [
    "jones.plot()"
   ]
  },
  {
   "cell_type": "code",
   "execution_count": 9,
   "metadata": {
    "ExecuteTime": {
     "end_time": "2020-11-24T13:45:01.177985Z",
     "start_time": "2020-11-24T13:45:01.138450Z"
    },
    "execution": {
     "iopub.execute_input": "2023-09-22T10:52:31.285996Z",
     "iopub.status.busy": "2023-09-22T10:52:31.285898Z",
     "iopub.status.idle": "2023-09-22T10:52:31.287601Z",
     "shell.execute_reply": "2023-09-22T10:52:31.287366Z"
    }
   },
   "outputs": [],
   "source": [
    "population.add(jones)"
   ]
  },
  {
   "cell_type": "code",
   "execution_count": 10,
   "metadata": {
    "ExecuteTime": {
     "end_time": "2020-11-24T13:45:01.210065Z",
     "start_time": "2020-11-24T13:45:01.181201Z"
    },
    "execution": {
     "iopub.execute_input": "2023-09-22T10:52:31.289190Z",
     "iopub.status.busy": "2023-09-22T10:52:31.289079Z",
     "iopub.status.idle": "2023-09-22T10:52:31.291286Z",
     "shell.execute_reply": "2023-09-22T10:52:31.291011Z"
    }
   },
   "outputs": [],
   "source": [
    "print_simple_stats(population)"
   ]
  },
  {
   "attachments": {},
   "cell_type": "markdown",
   "metadata": {},
   "source": [
    "## PAM Complex Policies\n",
    "\n",
    "Based on [link](https://docs.google.com/spreadsheets/d/1FQMa7dLe2cv1NEZnbu5cZo3v07tKXINwvOaLQYoEp-M/edit#gid=0)"
   ]
  },
  {
   "cell_type": "code",
   "execution_count": 11,
   "metadata": {
    "ExecuteTime": {
     "end_time": "2020-11-24T13:45:01.249936Z",
     "start_time": "2020-11-24T13:45:01.215845Z"
    },
    "execution": {
     "iopub.execute_input": "2023-09-22T10:52:31.292653Z",
     "iopub.status.busy": "2023-09-22T10:52:31.292562Z",
     "iopub.status.idle": "2023-09-22T10:52:31.295118Z",
     "shell.execute_reply": "2023-09-22T10:52:31.294830Z"
    }
   },
   "outputs": [],
   "source": [
    "def discrete_joint_distribution_sampler(obj, mapping, distribution):\n",
    "    \"\"\"\n",
    "    Randomly sample from a joint distribution based some discrete features.\n",
    "    Where features are a dictionary structure of features, eg: {'gender':'female'}\n",
    "    Distribution is a nested dict of probabilities based on possible features, eg:\n",
    "    {'0-0': {'male': 0, 'female': 0},... , '90-120': {'male': 1, 'female': 1}}\n",
    "    Mapping provides the feature name for each level of the distribution, eg:\n",
    "    ['age', 'gender'].\n",
    "    \"\"\"\n",
    "    p = distribution\n",
    "    for key in mapping:\n",
    "        value = obj.attributes.get(key)\n",
    "        if value is None:\n",
    "            msg = f\"Cannot find mapping: {key} in sampling features: {obj.attributes}\"\n",
    "            raise KeyError(msg)\n",
    "        p = p.get(value)\n",
    "        if p is None:\n",
    "            msg = f\"Cannot find feature for {key}: {value} in distribution: {p}\"\n",
    "            raise KeyError(msg)\n",
    "\n",
    "    return p"
   ]
  },
  {
   "cell_type": "code",
   "execution_count": 12,
   "metadata": {
    "ExecuteTime": {
     "end_time": "2020-11-24T13:45:01.282899Z",
     "start_time": "2020-11-24T13:45:01.252768Z"
    },
    "execution": {
     "iopub.execute_input": "2023-09-22T10:52:31.296424Z",
     "iopub.status.busy": "2023-09-22T10:52:31.296323Z",
     "iopub.status.idle": "2023-09-22T10:52:31.298311Z",
     "shell.execute_reply": "2023-09-22T10:52:31.298052Z"
    }
   },
   "outputs": [],
   "source": [
    "vulnerable_mapping = [\"age\", \"gender\"]\n",
    "vulnerable_distribution = dict(\n",
    "    zip(\n",
    "        list(range(101)),\n",
    "        [{\"male\": i / 100, \"female\": i / 100, \"other\": i / 100} for i in range(101)],\n",
    "    )\n",
    ")"
   ]
  },
  {
   "cell_type": "code",
   "execution_count": 13,
   "metadata": {
    "ExecuteTime": {
     "end_time": "2020-11-24T13:45:01.314448Z",
     "start_time": "2020-11-24T13:45:01.287874Z"
    },
    "execution": {
     "iopub.execute_input": "2023-09-22T10:52:31.299553Z",
     "iopub.status.busy": "2023-09-22T10:52:31.299465Z",
     "iopub.status.idle": "2023-09-22T10:52:31.302157Z",
     "shell.execute_reply": "2023-09-22T10:52:31.301896Z"
    },
    "scrolled": true
   },
   "outputs": [],
   "source": [
    "dict(list(vulnerable_distribution.items())[0:15])"
   ]
  },
  {
   "cell_type": "code",
   "execution_count": 14,
   "metadata": {
    "ExecuteTime": {
     "end_time": "2020-11-24T13:45:01.348229Z",
     "start_time": "2020-11-24T13:45:01.319907Z"
    },
    "execution": {
     "iopub.execute_input": "2023-09-22T10:52:31.303462Z",
     "iopub.status.busy": "2023-09-22T10:52:31.303366Z",
     "iopub.status.idle": "2023-09-22T10:52:31.305582Z",
     "shell.execute_reply": "2023-09-22T10:52:31.305341Z"
    }
   },
   "outputs": [],
   "source": [
    "discrete_joint_distribution_sampler(Bobby, vulnerable_mapping, vulnerable_distribution)"
   ]
  },
  {
   "attachments": {},
   "cell_type": "markdown",
   "metadata": {},
   "source": [
    "### Household Quarantine\n",
    "\n",
    "Probabilistically apply quarantine to a household (remove all activities - stay at home) "
   ]
  },
  {
   "attachments": {},
   "cell_type": "markdown",
   "metadata": {},
   "source": [
    "#### Person-based, all people equal\n",
    "\n",
    "If you have a probability of any person having to be quarantined"
   ]
  },
  {
   "cell_type": "code",
   "execution_count": 15,
   "metadata": {
    "ExecuteTime": {
     "end_time": "2020-11-24T13:45:01.416430Z",
     "start_time": "2020-11-24T13:45:01.362265Z"
    },
    "execution": {
     "iopub.execute_input": "2023-09-22T10:52:31.306819Z",
     "iopub.status.busy": "2023-09-22T10:52:31.306735Z",
     "iopub.status.idle": "2023-09-22T10:52:31.308538Z",
     "shell.execute_reply": "2023-09-22T10:52:31.308237Z"
    }
   },
   "outputs": [],
   "source": [
    "policy_quarantine = HouseholdPolicy(\n",
    "    RemoveActivity([\"work\", \"health\", \"leisure\", \"escort\", \"shop\", \"education\"]),\n",
    "    PersonProbability(0.0000000000001),\n",
    ")"
   ]
  },
  {
   "cell_type": "code",
   "execution_count": 16,
   "metadata": {
    "ExecuteTime": {
     "end_time": "2020-11-24T13:45:01.449008Z",
     "start_time": "2020-11-24T13:45:01.418522Z"
    },
    "execution": {
     "iopub.execute_input": "2023-09-22T10:52:31.309876Z",
     "iopub.status.busy": "2023-09-22T10:52:31.309785Z",
     "iopub.status.idle": "2023-09-22T10:52:31.312585Z",
     "shell.execute_reply": "2023-09-22T10:52:31.312383Z"
    }
   },
   "outputs": [],
   "source": [
    "q_pop = apply_policies(population, [policy_quarantine])\n",
    "print_simple_stats(q_pop)"
   ]
  },
  {
   "cell_type": "code",
   "execution_count": 17,
   "metadata": {
    "ExecuteTime": {
     "end_time": "2020-11-24T13:45:02.127608Z",
     "start_time": "2020-11-24T13:45:01.451381Z"
    },
    "execution": {
     "iopub.execute_input": "2023-09-22T10:52:31.314323Z",
     "iopub.status.busy": "2023-09-22T10:52:31.314233Z",
     "iopub.status.idle": "2023-09-22T10:52:31.543567Z",
     "shell.execute_reply": "2023-09-22T10:52:31.543269Z"
    }
   },
   "outputs": [],
   "source": [
    "q_pop.households[\"Smith\"].plot()"
   ]
  },
  {
   "cell_type": "code",
   "execution_count": 18,
   "metadata": {
    "ExecuteTime": {
     "end_time": "2020-11-24T13:45:02.576960Z",
     "start_time": "2020-11-24T13:45:02.132524Z"
    },
    "execution": {
     "iopub.execute_input": "2023-09-22T10:52:31.545079Z",
     "iopub.status.busy": "2023-09-22T10:52:31.544973Z",
     "iopub.status.idle": "2023-09-22T10:52:31.740018Z",
     "shell.execute_reply": "2023-09-22T10:52:31.739738Z"
    }
   },
   "outputs": [],
   "source": [
    "q_pop.households[\"Jones\"].plot()"
   ]
  },
  {
   "attachments": {},
   "cell_type": "markdown",
   "metadata": {},
   "source": [
    "#### Using joint distribution"
   ]
  },
  {
   "cell_type": "code",
   "execution_count": 19,
   "metadata": {
    "ExecuteTime": {
     "end_time": "2020-11-24T13:45:02.616246Z",
     "start_time": "2020-11-24T13:45:02.582749Z"
    },
    "execution": {
     "iopub.execute_input": "2023-09-22T10:52:31.741618Z",
     "iopub.status.busy": "2023-09-22T10:52:31.741342Z",
     "iopub.status.idle": "2023-09-22T10:52:31.743563Z",
     "shell.execute_reply": "2023-09-22T10:52:31.743270Z"
    }
   },
   "outputs": [],
   "source": [
    "policy_quarantine = HouseholdPolicy(\n",
    "    RemoveActivity([\"work\", \"health\", \"escort\", \"leisure\", \"shop\", \"education\"]),\n",
    "    PersonProbability(\n",
    "        discrete_joint_distribution_sampler,\n",
    "        {\"mapping\": vulnerable_mapping, \"distribution\": vulnerable_distribution},\n",
    "    ),\n",
    ")"
   ]
  },
  {
   "cell_type": "code",
   "execution_count": 20,
   "metadata": {
    "ExecuteTime": {
     "end_time": "2020-11-24T13:45:02.648795Z",
     "start_time": "2020-11-24T13:45:02.621466Z"
    },
    "execution": {
     "iopub.execute_input": "2023-09-22T10:52:31.745086Z",
     "iopub.status.busy": "2023-09-22T10:52:31.744889Z",
     "iopub.status.idle": "2023-09-22T10:52:31.748195Z",
     "shell.execute_reply": "2023-09-22T10:52:31.747915Z"
    }
   },
   "outputs": [],
   "source": [
    "q_pop = apply_policies(population, [policy_quarantine])\n",
    "print_simple_stats(q_pop)"
   ]
  },
  {
   "cell_type": "code",
   "execution_count": 21,
   "metadata": {
    "ExecuteTime": {
     "end_time": "2020-11-24T13:45:03.042093Z",
     "start_time": "2020-11-24T13:45:02.654492Z"
    },
    "execution": {
     "iopub.execute_input": "2023-09-22T10:52:31.749508Z",
     "iopub.status.busy": "2023-09-22T10:52:31.749420Z",
     "iopub.status.idle": "2023-09-22T10:52:31.870425Z",
     "shell.execute_reply": "2023-09-22T10:52:31.870150Z"
    }
   },
   "outputs": [],
   "source": [
    "q_pop.households[\"Jones\"].plot()"
   ]
  },
  {
   "attachments": {},
   "cell_type": "markdown",
   "metadata": {},
   "source": [
    "#### Chaining probabilities"
   ]
  },
  {
   "cell_type": "code",
   "execution_count": 22,
   "metadata": {
    "ExecuteTime": {
     "end_time": "2020-11-24T13:45:03.092964Z",
     "start_time": "2020-11-24T13:45:03.047351Z"
    },
    "execution": {
     "iopub.execute_input": "2023-09-22T10:52:31.871954Z",
     "iopub.status.busy": "2023-09-22T10:52:31.871849Z",
     "iopub.status.idle": "2023-09-22T10:52:31.873898Z",
     "shell.execute_reply": "2023-09-22T10:52:31.873661Z"
    }
   },
   "outputs": [],
   "source": [
    "policy_quarantine = HouseholdPolicy(\n",
    "    RemoveActivity([\"work\", \"health\", \"escort\", \"leisure\", \"shop\", \"education\"]),\n",
    "    [\n",
    "        PersonProbability(0.5),\n",
    "        PersonProbability(\n",
    "            discrete_joint_distribution_sampler,\n",
    "            {\"mapping\": vulnerable_mapping, \"distribution\": vulnerable_distribution},\n",
    "        ),\n",
    "    ],\n",
    ")"
   ]
  },
  {
   "cell_type": "code",
   "execution_count": 23,
   "metadata": {
    "ExecuteTime": {
     "end_time": "2020-11-24T13:45:03.125321Z",
     "start_time": "2020-11-24T13:45:03.102362Z"
    },
    "execution": {
     "iopub.execute_input": "2023-09-22T10:52:31.875211Z",
     "iopub.status.busy": "2023-09-22T10:52:31.875119Z",
     "iopub.status.idle": "2023-09-22T10:52:31.878436Z",
     "shell.execute_reply": "2023-09-22T10:52:31.878174Z"
    }
   },
   "outputs": [],
   "source": [
    "q_pop = apply_policies(population, [policy_quarantine])\n",
    "print_simple_stats(q_pop)"
   ]
  },
  {
   "cell_type": "code",
   "execution_count": 24,
   "metadata": {
    "ExecuteTime": {
     "end_time": "2020-11-24T13:45:03.454015Z",
     "start_time": "2020-11-24T13:45:03.134308Z"
    },
    "execution": {
     "iopub.execute_input": "2023-09-22T10:52:31.879619Z",
     "iopub.status.busy": "2023-09-22T10:52:31.879531Z",
     "iopub.status.idle": "2023-09-22T10:52:32.001636Z",
     "shell.execute_reply": "2023-09-22T10:52:32.001372Z"
    }
   },
   "outputs": [],
   "source": [
    "q_pop.households[\"Jones\"].plot()"
   ]
  },
  {
   "attachments": {},
   "cell_type": "markdown",
   "metadata": {},
   "source": [
    "### Remove Education\n",
    "\n",
    "Probabilistically remove education activities from a person and escort from people in the same household"
   ]
  },
  {
   "cell_type": "code",
   "execution_count": 25,
   "metadata": {
    "ExecuteTime": {
     "end_time": "2020-11-24T13:45:03.484988Z",
     "start_time": "2020-11-24T13:45:03.457335Z"
    },
    "execution": {
     "iopub.execute_input": "2023-09-22T10:52:32.003220Z",
     "iopub.status.busy": "2023-09-22T10:52:32.003119Z",
     "iopub.status.idle": "2023-09-22T10:52:32.004836Z",
     "shell.execute_reply": "2023-09-22T10:52:32.004596Z"
    }
   },
   "outputs": [],
   "source": [
    "edu_mapping = [\"job\"]\n",
    "edu_distribution = {\"employed\": 0, \"unemployed\": 0, \"education\": 1}"
   ]
  },
  {
   "cell_type": "code",
   "execution_count": 26,
   "metadata": {
    "ExecuteTime": {
     "end_time": "2020-11-24T13:45:03.513879Z",
     "start_time": "2020-11-24T13:45:03.489952Z"
    },
    "execution": {
     "iopub.execute_input": "2023-09-22T10:52:32.006132Z",
     "iopub.status.busy": "2023-09-22T10:52:32.006055Z",
     "iopub.status.idle": "2023-09-22T10:52:32.007786Z",
     "shell.execute_reply": "2023-09-22T10:52:32.007547Z"
    }
   },
   "outputs": [],
   "source": [
    "key_mapping = [\"key_worker\"]\n",
    "key_distribution = {True: 0, False: 1}"
   ]
  },
  {
   "cell_type": "code",
   "execution_count": 27,
   "metadata": {
    "ExecuteTime": {
     "end_time": "2020-11-24T13:45:03.546931Z",
     "start_time": "2020-11-24T13:45:03.516381Z"
    },
    "execution": {
     "iopub.execute_input": "2023-09-22T10:52:32.009040Z",
     "iopub.status.busy": "2023-09-22T10:52:32.008948Z",
     "iopub.status.idle": "2023-09-22T10:52:32.011148Z",
     "shell.execute_reply": "2023-09-22T10:52:32.010874Z"
    }
   },
   "outputs": [],
   "source": [
    "edu_distribution, key_distribution"
   ]
  },
  {
   "cell_type": "code",
   "execution_count": 28,
   "metadata": {
    "ExecuteTime": {
     "end_time": "2020-11-24T13:45:03.581495Z",
     "start_time": "2020-11-24T13:45:03.551286Z"
    },
    "execution": {
     "iopub.execute_input": "2023-09-22T10:52:32.012429Z",
     "iopub.status.busy": "2023-09-22T10:52:32.012337Z",
     "iopub.status.idle": "2023-09-22T10:52:32.014341Z",
     "shell.execute_reply": "2023-09-22T10:52:32.014108Z"
    }
   },
   "outputs": [],
   "source": [
    "policy_remove_education_and_escort = HouseholdPolicy(\n",
    "    RemoveActivity([\"education\", \"escort\"]),\n",
    "    [\n",
    "        PersonProbability(\n",
    "            discrete_joint_distribution_sampler,\n",
    "            {\"mapping\": edu_mapping, \"distribution\": edu_distribution},\n",
    "        ),\n",
    "        PersonProbability(\n",
    "            discrete_joint_distribution_sampler,\n",
    "            {\"mapping\": key_mapping, \"distribution\": key_distribution},\n",
    "        ),\n",
    "    ],\n",
    ")"
   ]
  },
  {
   "cell_type": "code",
   "execution_count": 29,
   "metadata": {
    "ExecuteTime": {
     "end_time": "2020-11-24T13:45:03.616928Z",
     "start_time": "2020-11-24T13:45:03.583593Z"
    },
    "execution": {
     "iopub.execute_input": "2023-09-22T10:52:32.015549Z",
     "iopub.status.busy": "2023-09-22T10:52:32.015463Z",
     "iopub.status.idle": "2023-09-22T10:52:32.018435Z",
     "shell.execute_reply": "2023-09-22T10:52:32.018180Z"
    }
   },
   "outputs": [],
   "source": [
    "edu_pop = apply_policies(population, [policy_remove_education_and_escort])\n",
    "print_simple_stats(edu_pop)"
   ]
  },
  {
   "cell_type": "code",
   "execution_count": 30,
   "metadata": {
    "ExecuteTime": {
     "end_time": "2020-11-24T13:45:03.651308Z",
     "start_time": "2020-11-24T13:45:03.620821Z"
    },
    "execution": {
     "iopub.execute_input": "2023-09-22T10:52:32.019664Z",
     "iopub.status.busy": "2023-09-22T10:52:32.019571Z",
     "iopub.status.idle": "2023-09-22T10:52:32.026403Z",
     "shell.execute_reply": "2023-09-22T10:52:32.026149Z"
    }
   },
   "outputs": [],
   "source": [
    "edu_pop.households[\"Smith\"].people[\"Bradly\"].plan.print()"
   ]
  },
  {
   "cell_type": "code",
   "execution_count": 31,
   "metadata": {
    "ExecuteTime": {
     "end_time": "2020-11-24T13:45:04.306572Z",
     "start_time": "2020-11-24T13:45:03.654284Z"
    },
    "execution": {
     "iopub.execute_input": "2023-09-22T10:52:32.027650Z",
     "iopub.status.busy": "2023-09-22T10:52:32.027566Z",
     "iopub.status.idle": "2023-09-22T10:52:32.214139Z",
     "shell.execute_reply": "2023-09-22T10:52:32.213801Z"
    }
   },
   "outputs": [],
   "source": [
    "q_pop.households[\"Smith\"].plot()"
   ]
  },
  {
   "cell_type": "code",
   "execution_count": 32,
   "metadata": {
    "ExecuteTime": {
     "end_time": "2020-11-24T13:45:04.883711Z",
     "start_time": "2020-11-24T13:45:04.315397Z"
    },
    "execution": {
     "iopub.execute_input": "2023-09-22T10:52:32.215848Z",
     "iopub.status.busy": "2023-09-22T10:52:32.215735Z",
     "iopub.status.idle": "2023-09-22T10:52:32.420975Z",
     "shell.execute_reply": "2023-09-22T10:52:32.420697Z"
    }
   },
   "outputs": [],
   "source": [
    "edu_pop.households[\"Smith\"].plot()"
   ]
  },
  {
   "cell_type": "code",
   "execution_count": 33,
   "metadata": {
    "ExecuteTime": {
     "end_time": "2020-11-24T13:45:05.691783Z",
     "start_time": "2020-11-24T13:45:05.232533Z"
    },
    "execution": {
     "iopub.execute_input": "2023-09-22T10:52:32.422438Z",
     "iopub.status.busy": "2023-09-22T10:52:32.422322Z",
     "iopub.status.idle": "2023-09-22T10:52:32.580453Z",
     "shell.execute_reply": "2023-09-22T10:52:32.580173Z"
    }
   },
   "outputs": [],
   "source": [
    "edu_pop.households[\"Jones\"].plot()"
   ]
  },
  {
   "cell_type": "code",
   "execution_count": 34,
   "metadata": {
    "ExecuteTime": {
     "end_time": "2020-11-24T13:45:05.726153Z",
     "start_time": "2020-11-24T13:45:05.694100Z"
    },
    "execution": {
     "iopub.execute_input": "2023-09-22T10:52:32.581875Z",
     "iopub.status.busy": "2023-09-22T10:52:32.581780Z",
     "iopub.status.idle": "2023-09-22T10:52:32.583896Z",
     "shell.execute_reply": "2023-09-22T10:52:32.583628Z"
    }
   },
   "outputs": [],
   "source": [
    "edu_pop.households[\"Jones\"].people[\"Bridget\"].plan.print()"
   ]
  },
  {
   "attachments": {},
   "cell_type": "markdown",
   "metadata": {},
   "source": [
    "#### PersonAttributeFilter\n",
    "You can also use the `modify.PersonAttributeFilter` to only affect people with certain attributes."
   ]
  },
  {
   "cell_type": "code",
   "execution_count": 35,
   "metadata": {
    "ExecuteTime": {
     "end_time": "2020-11-24T13:45:05.755758Z",
     "start_time": "2020-11-24T13:45:05.729629Z"
    },
    "execution": {
     "iopub.execute_input": "2023-09-22T10:52:32.585329Z",
     "iopub.status.busy": "2023-09-22T10:52:32.585227Z",
     "iopub.status.idle": "2023-09-22T10:52:32.587219Z",
     "shell.execute_reply": "2023-09-22T10:52:32.586943Z"
    }
   },
   "outputs": [],
   "source": [
    "def condition_job_education(val):\n",
    "    return val == \"education\"\n",
    "\n",
    "\n",
    "policy_remove_education_and_escort = HouseholdPolicy(\n",
    "    RemoveActivity([\"education\", \"escort\"]),\n",
    "    PersonProbability(\n",
    "        discrete_joint_distribution_sampler,\n",
    "        {\"mapping\": key_mapping, \"distribution\": key_distribution},\n",
    "    ),\n",
    "    PersonAttributeFilter({\"job\": condition_job_education}),\n",
    ")"
   ]
  },
  {
   "cell_type": "code",
   "execution_count": 36,
   "metadata": {
    "ExecuteTime": {
     "end_time": "2020-11-24T13:45:06.341581Z",
     "start_time": "2020-11-24T13:45:05.757988Z"
    },
    "execution": {
     "iopub.execute_input": "2023-09-22T10:52:32.588474Z",
     "iopub.status.busy": "2023-09-22T10:52:32.588388Z",
     "iopub.status.idle": "2023-09-22T10:52:32.838226Z",
     "shell.execute_reply": "2023-09-22T10:52:32.837929Z"
    }
   },
   "outputs": [],
   "source": [
    "apply_policies(population, [policy_remove_education_and_escort]).households[\"Smith\"].plot()"
   ]
  },
  {
   "cell_type": "code",
   "execution_count": 37,
   "metadata": {
    "ExecuteTime": {
     "end_time": "2020-11-24T13:45:06.384208Z",
     "start_time": "2020-11-24T13:45:06.346338Z"
    },
    "execution": {
     "iopub.execute_input": "2023-09-22T10:52:32.839707Z",
     "iopub.status.busy": "2023-09-22T10:52:32.839611Z",
     "iopub.status.idle": "2023-09-22T10:52:32.841747Z",
     "shell.execute_reply": "2023-09-22T10:52:32.841522Z"
    }
   },
   "outputs": [],
   "source": [
    "policy_remove_education_and_escort = HouseholdPolicy(\n",
    "    RemoveActivity([\"education\", \"escort\"]),\n",
    "    [\n",
    "        ActivityProbability([\"education\"], 0.9999),\n",
    "        PersonProbability(\n",
    "            discrete_joint_distribution_sampler,\n",
    "            {\"mapping\": edu_mapping, \"distribution\": edu_distribution},\n",
    "        ),\n",
    "        PersonProbability(\n",
    "            discrete_joint_distribution_sampler,\n",
    "            {\"mapping\": key_mapping, \"distribution\": key_distribution},\n",
    "        ),\n",
    "    ],\n",
    ")"
   ]
  },
  {
   "cell_type": "code",
   "execution_count": 38,
   "metadata": {
    "ExecuteTime": {
     "end_time": "2020-11-24T13:45:06.931693Z",
     "start_time": "2020-11-24T13:45:06.386976Z"
    },
    "execution": {
     "iopub.execute_input": "2023-09-22T10:52:32.843045Z",
     "iopub.status.busy": "2023-09-22T10:52:32.842959Z",
     "iopub.status.idle": "2023-09-22T10:52:33.048786Z",
     "shell.execute_reply": "2023-09-22T10:52:33.048496Z"
    }
   },
   "outputs": [],
   "source": [
    "apply_policies(population, [policy_remove_education_and_escort]).households[\"Smith\"].plot()"
   ]
  },
  {
   "attachments": {},
   "cell_type": "markdown",
   "metadata": {},
   "source": [
    "### Remove Leisure Activities\n",
    "\n",
    "Remove all leisure activities"
   ]
  },
  {
   "cell_type": "code",
   "execution_count": 39,
   "metadata": {
    "ExecuteTime": {
     "end_time": "2020-11-24T13:45:06.975153Z",
     "start_time": "2020-11-24T13:45:06.939984Z"
    },
    "execution": {
     "iopub.execute_input": "2023-09-22T10:52:33.050109Z",
     "iopub.status.busy": "2023-09-22T10:52:33.050032Z",
     "iopub.status.idle": "2023-09-22T10:52:33.051990Z",
     "shell.execute_reply": "2023-09-22T10:52:33.051689Z"
    }
   },
   "outputs": [],
   "source": [
    "policy_remove_leisure = PersonPolicy(RemoveActivity([\"leisure\"]), PersonProbability(1.0))"
   ]
  },
  {
   "cell_type": "code",
   "execution_count": 40,
   "metadata": {
    "ExecuteTime": {
     "end_time": "2020-11-24T13:45:07.010331Z",
     "start_time": "2020-11-24T13:45:06.977764Z"
    },
    "execution": {
     "iopub.execute_input": "2023-09-22T10:52:33.053352Z",
     "iopub.status.busy": "2023-09-22T10:52:33.053241Z",
     "iopub.status.idle": "2023-09-22T10:52:33.056226Z",
     "shell.execute_reply": "2023-09-22T10:52:33.055886Z"
    }
   },
   "outputs": [],
   "source": [
    "lei_pop = apply_policies(population, [policy_remove_leisure])\n",
    "print_simple_stats(lei_pop)"
   ]
  },
  {
   "cell_type": "code",
   "execution_count": 41,
   "metadata": {
    "ExecuteTime": {
     "end_time": "2020-11-24T13:45:07.662263Z",
     "start_time": "2020-11-24T13:45:07.016567Z"
    },
    "execution": {
     "iopub.execute_input": "2023-09-22T10:52:33.057516Z",
     "iopub.status.busy": "2023-09-22T10:52:33.057423Z",
     "iopub.status.idle": "2023-09-22T10:52:33.274996Z",
     "shell.execute_reply": "2023-09-22T10:52:33.274670Z"
    }
   },
   "outputs": [],
   "source": [
    "lei_pop.households[\"Smith\"].plot()"
   ]
  },
  {
   "attachments": {},
   "cell_type": "markdown",
   "metadata": {},
   "source": [
    "### Unemployment/Furlough\n",
    "\n",
    "Probabilistically remove all work activities from a person"
   ]
  },
  {
   "cell_type": "code",
   "execution_count": 42,
   "metadata": {
    "ExecuteTime": {
     "end_time": "2020-11-24T13:45:07.702577Z",
     "start_time": "2020-11-24T13:45:07.673569Z"
    },
    "execution": {
     "iopub.execute_input": "2023-09-22T10:52:33.276379Z",
     "iopub.status.busy": "2023-09-22T10:52:33.276281Z",
     "iopub.status.idle": "2023-09-22T10:52:33.278228Z",
     "shell.execute_reply": "2023-09-22T10:52:33.277868Z"
    }
   },
   "outputs": [],
   "source": [
    "key_mapping = [\"key_worker\"]\n",
    "key_distribution = {True: 0, False: 1}"
   ]
  },
  {
   "cell_type": "code",
   "execution_count": 43,
   "metadata": {
    "ExecuteTime": {
     "end_time": "2020-11-24T13:45:07.731135Z",
     "start_time": "2020-11-24T13:45:07.705777Z"
    },
    "execution": {
     "iopub.execute_input": "2023-09-22T10:52:33.279565Z",
     "iopub.status.busy": "2023-09-22T10:52:33.279469Z",
     "iopub.status.idle": "2023-09-22T10:52:33.281300Z",
     "shell.execute_reply": "2023-09-22T10:52:33.281039Z"
    }
   },
   "outputs": [],
   "source": [
    "policy_unemployment_and_furlough = PersonPolicy(\n",
    "    RemoveActivity([\"work\"]),\n",
    "    [\n",
    "        PersonProbability(\n",
    "            discrete_joint_distribution_sampler,\n",
    "            {\"mapping\": key_mapping, \"distribution\": key_distribution},\n",
    "        )\n",
    "    ],\n",
    ")"
   ]
  },
  {
   "cell_type": "code",
   "execution_count": 44,
   "metadata": {
    "ExecuteTime": {
     "end_time": "2020-11-24T13:45:07.763496Z",
     "start_time": "2020-11-24T13:45:07.733436Z"
    },
    "execution": {
     "iopub.execute_input": "2023-09-22T10:52:33.282517Z",
     "iopub.status.busy": "2023-09-22T10:52:33.282424Z",
     "iopub.status.idle": "2023-09-22T10:52:33.285262Z",
     "shell.execute_reply": "2023-09-22T10:52:33.285043Z"
    }
   },
   "outputs": [],
   "source": [
    "fur_pop = apply_policies(population, [policy_unemployment_and_furlough])\n",
    "print_simple_stats(fur_pop)"
   ]
  },
  {
   "cell_type": "code",
   "execution_count": 45,
   "metadata": {
    "ExecuteTime": {
     "end_time": "2020-11-24T13:45:08.427819Z",
     "start_time": "2020-11-24T13:45:07.768383Z"
    },
    "execution": {
     "iopub.execute_input": "2023-09-22T10:52:33.286505Z",
     "iopub.status.busy": "2023-09-22T10:52:33.286415Z",
     "iopub.status.idle": "2023-09-22T10:52:33.504153Z",
     "shell.execute_reply": "2023-09-22T10:52:33.503838Z"
    }
   },
   "outputs": [],
   "source": [
    "fur_pop.households[\"Smith\"].plot()"
   ]
  },
  {
   "cell_type": "code",
   "execution_count": 46,
   "metadata": {
    "ExecuteTime": {
     "end_time": "2020-11-24T13:45:08.841886Z",
     "start_time": "2020-11-24T13:45:08.432779Z"
    },
    "execution": {
     "iopub.execute_input": "2023-09-22T10:52:33.505546Z",
     "iopub.status.busy": "2023-09-22T10:52:33.505445Z",
     "iopub.status.idle": "2023-09-22T10:52:33.655578Z",
     "shell.execute_reply": "2023-09-22T10:52:33.655316Z"
    }
   },
   "outputs": [],
   "source": [
    "fur_pop.households[\"Jones\"].plot()"
   ]
  },
  {
   "cell_type": "code",
   "execution_count": 47,
   "metadata": {
    "ExecuteTime": {
     "end_time": "2020-11-24T13:45:09.433936Z",
     "start_time": "2020-11-24T13:45:08.845751Z"
    },
    "execution": {
     "iopub.execute_input": "2023-09-22T10:52:33.656968Z",
     "iopub.status.busy": "2023-09-22T10:52:33.656895Z",
     "iopub.status.idle": "2023-09-22T10:52:33.913442Z",
     "shell.execute_reply": "2023-09-22T10:52:33.913169Z"
    }
   },
   "outputs": [],
   "source": [
    "policy_reduced_work = ActivityPolicy(RemoveActivity([\"work\"]), ActivityProbability([\"work\"], 0.5))\n",
    "\n",
    "apply_policies(population, [policy_reduced_work]).households[\"Smith\"].plot()"
   ]
  },
  {
   "attachments": {},
   "cell_type": "markdown",
   "metadata": {},
   "source": [
    "## Remove Shopping \n",
    "\n",
    "Probabilistically remove **individual** shopping activities from a person"
   ]
  },
  {
   "cell_type": "code",
   "execution_count": 48,
   "metadata": {
    "ExecuteTime": {
     "end_time": "2020-11-24T13:45:09.468834Z",
     "start_time": "2020-11-24T13:45:09.436546Z"
    },
    "execution": {
     "iopub.execute_input": "2023-09-22T10:52:33.915074Z",
     "iopub.status.busy": "2023-09-22T10:52:33.914969Z",
     "iopub.status.idle": "2023-09-22T10:52:33.916892Z",
     "shell.execute_reply": "2023-09-22T10:52:33.916610Z"
    }
   },
   "outputs": [],
   "source": [
    "policy_remove_shopping = PersonPolicy(RemoveActivity([\"shop\"]), ActivityProbability([\"shop\"], 1.0))"
   ]
  },
  {
   "cell_type": "code",
   "execution_count": 49,
   "metadata": {
    "ExecuteTime": {
     "end_time": "2020-11-24T13:45:09.501330Z",
     "start_time": "2020-11-24T13:45:09.471392Z"
    },
    "execution": {
     "iopub.execute_input": "2023-09-22T10:52:33.918307Z",
     "iopub.status.busy": "2023-09-22T10:52:33.918209Z",
     "iopub.status.idle": "2023-09-22T10:52:33.921099Z",
     "shell.execute_reply": "2023-09-22T10:52:33.920848Z"
    }
   },
   "outputs": [],
   "source": [
    "shop_pop = apply_policies(population, [policy_remove_shopping])\n",
    "print_simple_stats(shop_pop)"
   ]
  },
  {
   "cell_type": "code",
   "execution_count": 50,
   "metadata": {
    "ExecuteTime": {
     "end_time": "2020-11-24T13:45:09.766011Z",
     "start_time": "2020-11-24T13:45:09.503374Z"
    },
    "execution": {
     "iopub.execute_input": "2023-09-22T10:52:33.922419Z",
     "iopub.status.busy": "2023-09-22T10:52:33.922319Z",
     "iopub.status.idle": "2023-09-22T10:52:34.004599Z",
     "shell.execute_reply": "2023-09-22T10:52:34.004289Z"
    }
   },
   "outputs": [],
   "source": [
    "shop_pop.households[\"Jones\"].people[\"Bridget\"].plot()"
   ]
  },
  {
   "attachments": {},
   "cell_type": "markdown",
   "metadata": {},
   "source": [
    "### Reducing shared activities"
   ]
  },
  {
   "cell_type": "code",
   "execution_count": 51,
   "metadata": {
    "ExecuteTime": {
     "end_time": "2020-11-24T13:45:09.823167Z",
     "start_time": "2020-11-24T13:45:09.770491Z"
    },
    "execution": {
     "iopub.execute_input": "2023-09-22T10:52:34.006221Z",
     "iopub.status.busy": "2023-09-22T10:52:34.006103Z",
     "iopub.status.idle": "2023-09-22T10:52:34.008203Z",
     "shell.execute_reply": "2023-09-22T10:52:34.007846Z"
    }
   },
   "outputs": [],
   "source": [
    "policy_reduce_shopping_activities = HouseholdPolicy(\n",
    "    ReduceSharedActivity([\"shop_1\", \"shop_2\", \"shop\"]),\n",
    "    ActivityProbability([\"shop_1\", \"shop_2\", \"shop\"], 1.0),\n",
    ")"
   ]
  },
  {
   "cell_type": "code",
   "execution_count": 52,
   "metadata": {
    "ExecuteTime": {
     "end_time": "2020-11-24T13:45:09.866227Z",
     "start_time": "2020-11-24T13:45:09.826495Z"
    },
    "execution": {
     "iopub.execute_input": "2023-09-22T10:52:34.009477Z",
     "iopub.status.busy": "2023-09-22T10:52:34.009378Z",
     "iopub.status.idle": "2023-09-22T10:52:34.011628Z",
     "shell.execute_reply": "2023-09-22T10:52:34.011398Z"
    }
   },
   "outputs": [],
   "source": [
    "population[\"Smith\"].shared_activities()"
   ]
  },
  {
   "cell_type": "code",
   "execution_count": 53,
   "metadata": {
    "ExecuteTime": {
     "end_time": "2020-11-24T13:45:09.937077Z",
     "start_time": "2020-11-24T13:45:09.870393Z"
    },
    "execution": {
     "iopub.execute_input": "2023-09-22T10:52:34.012943Z",
     "iopub.status.busy": "2023-09-22T10:52:34.012850Z",
     "iopub.status.idle": "2023-09-22T10:52:34.016066Z",
     "shell.execute_reply": "2023-09-22T10:52:34.015793Z"
    }
   },
   "outputs": [],
   "source": [
    "shop_reduce_pop = apply_policies(population, [policy_reduce_shopping_activities])\n",
    "print_simple_stats(shop_reduce_pop)"
   ]
  },
  {
   "cell_type": "code",
   "execution_count": 54,
   "metadata": {
    "ExecuteTime": {
     "end_time": "2020-11-24T13:45:10.833268Z",
     "start_time": "2020-11-24T13:45:09.941685Z"
    },
    "execution": {
     "iopub.execute_input": "2023-09-22T10:52:34.017310Z",
     "iopub.status.busy": "2023-09-22T10:52:34.017216Z",
     "iopub.status.idle": "2023-09-22T10:52:34.237397Z",
     "shell.execute_reply": "2023-09-22T10:52:34.237085Z"
    }
   },
   "outputs": [],
   "source": [
    "shop_reduce_pop.households[\"Smith\"].plot()"
   ]
  },
  {
   "cell_type": "code",
   "execution_count": 55,
   "metadata": {
    "ExecuteTime": {
     "end_time": "2020-11-24T13:45:10.890480Z",
     "start_time": "2020-11-24T13:45:10.840595Z"
    },
    "execution": {
     "iopub.execute_input": "2023-09-22T10:52:34.247033Z",
     "iopub.status.busy": "2023-09-22T10:52:34.246881Z",
     "iopub.status.idle": "2023-09-22T10:52:34.248952Z",
     "shell.execute_reply": "2023-09-22T10:52:34.248654Z"
    }
   },
   "outputs": [],
   "source": [
    "shop_reduce_pop.households[\"Smith\"].people[\"Bobby\"].print()"
   ]
  },
  {
   "attachments": {},
   "cell_type": "markdown",
   "metadata": {},
   "source": [
    "### Moving Shopping tours\n"
   ]
  },
  {
   "cell_type": "code",
   "execution_count": 56,
   "metadata": {
    "ExecuteTime": {
     "end_time": "2020-11-24T13:45:10.960575Z",
     "start_time": "2020-11-24T13:45:10.914510Z"
    },
    "execution": {
     "iopub.execute_input": "2023-09-22T10:52:34.250312Z",
     "iopub.status.busy": "2023-09-22T10:52:34.250212Z",
     "iopub.status.idle": "2023-09-22T10:52:34.252147Z",
     "shell.execute_reply": "2023-09-22T10:52:34.251842Z"
    }
   },
   "outputs": [],
   "source": [
    "policy_move_shopping_tours = PersonPolicy(\n",
    "    MoveActivityTourToHomeLocation([\"shop_1\", \"shop_2\"]),\n",
    "    [ActivityProbability([\"shop_1\", \"shop_2\"], 1.0)],\n",
    ")"
   ]
  },
  {
   "cell_type": "code",
   "execution_count": 57,
   "metadata": {
    "ExecuteTime": {
     "end_time": "2020-11-24T13:45:11.004113Z",
     "start_time": "2020-11-24T13:45:10.967006Z"
    },
    "execution": {
     "iopub.execute_input": "2023-09-22T10:52:34.253433Z",
     "iopub.status.busy": "2023-09-22T10:52:34.253315Z",
     "iopub.status.idle": "2023-09-22T10:52:34.256538Z",
     "shell.execute_reply": "2023-09-22T10:52:34.256257Z"
    }
   },
   "outputs": [],
   "source": [
    "shop_tour_pop = apply_policies(population, [policy_move_shopping_tours])\n",
    "print_simple_stats(shop_tour_pop)"
   ]
  },
  {
   "cell_type": "code",
   "execution_count": 58,
   "metadata": {
    "ExecuteTime": {
     "end_time": "2020-11-24T13:45:11.950173Z",
     "start_time": "2020-11-24T13:45:11.008354Z"
    },
    "execution": {
     "iopub.execute_input": "2023-09-22T10:52:34.257774Z",
     "iopub.status.busy": "2023-09-22T10:52:34.257681Z",
     "iopub.status.idle": "2023-09-22T10:52:34.476439Z",
     "shell.execute_reply": "2023-09-22T10:52:34.476161Z"
    }
   },
   "outputs": [],
   "source": [
    "shop_tour_pop.households[\"Smith\"].plot()"
   ]
  },
  {
   "cell_type": "code",
   "execution_count": 59,
   "metadata": {
    "ExecuteTime": {
     "end_time": "2020-11-24T13:45:11.987265Z",
     "start_time": "2020-11-24T13:45:11.953413Z"
    },
    "execution": {
     "iopub.execute_input": "2023-09-22T10:52:34.477891Z",
     "iopub.status.busy": "2023-09-22T10:52:34.477792Z",
     "iopub.status.idle": "2023-09-22T10:52:34.479980Z",
     "shell.execute_reply": "2023-09-22T10:52:34.479656Z"
    }
   },
   "outputs": [],
   "source": [
    "# above is equivalent to\n",
    "policy_move_shopping_tours = PersonPolicy(\n",
    "    MoveActivityTourToHomeLocation([\"shop_1\", \"shop_2\"]),\n",
    "    [ActivityProbability([\"shop_1\"], 1.0), ActivityProbability([\"shop_2\"], 1.0)],\n",
    ")"
   ]
  },
  {
   "cell_type": "code",
   "execution_count": 60,
   "metadata": {
    "ExecuteTime": {
     "end_time": "2020-11-24T13:45:12.035879Z",
     "start_time": "2020-11-24T13:45:11.990415Z"
    },
    "execution": {
     "iopub.execute_input": "2023-09-22T10:52:34.481365Z",
     "iopub.status.busy": "2023-09-22T10:52:34.481266Z",
     "iopub.status.idle": "2023-09-22T10:52:34.484022Z",
     "shell.execute_reply": "2023-09-22T10:52:34.483754Z"
    }
   },
   "outputs": [],
   "source": [
    "shop_tour_pop = apply_policies(population, [policy_move_shopping_tours])\n",
    "print_simple_stats(shop_tour_pop)"
   ]
  },
  {
   "cell_type": "code",
   "execution_count": 61,
   "metadata": {
    "ExecuteTime": {
     "end_time": "2020-11-24T13:45:12.931069Z",
     "start_time": "2020-11-24T13:45:12.040202Z"
    },
    "execution": {
     "iopub.execute_input": "2023-09-22T10:52:34.485326Z",
     "iopub.status.busy": "2023-09-22T10:52:34.485237Z",
     "iopub.status.idle": "2023-09-22T10:52:34.703403Z",
     "shell.execute_reply": "2023-09-22T10:52:34.703118Z"
    }
   },
   "outputs": [],
   "source": [
    "shop_tour_pop.households[\"Smith\"].plot()"
   ]
  },
  {
   "cell_type": "code",
   "execution_count": 62,
   "metadata": {
    "ExecuteTime": {
     "end_time": "2020-11-24T13:45:12.972515Z",
     "start_time": "2020-11-24T13:45:12.937825Z"
    },
    "execution": {
     "iopub.execute_input": "2023-09-22T10:52:34.704996Z",
     "iopub.status.busy": "2023-09-22T10:52:34.704875Z",
     "iopub.status.idle": "2023-09-22T10:52:34.707078Z",
     "shell.execute_reply": "2023-09-22T10:52:34.706712Z"
    }
   },
   "outputs": [],
   "source": [
    "shop_tour_pop.households[\"Smith\"].people[\"Bradly\"].print()"
   ]
  },
  {
   "attachments": {},
   "cell_type": "markdown",
   "metadata": {},
   "source": [
    "## All together now!"
   ]
  },
  {
   "cell_type": "code",
   "execution_count": 63,
   "metadata": {
    "ExecuteTime": {
     "end_time": "2020-11-24T13:45:13.019936Z",
     "start_time": "2020-11-24T13:45:12.987530Z"
    },
    "execution": {
     "iopub.execute_input": "2023-09-22T10:52:34.708586Z",
     "iopub.status.busy": "2023-09-22T10:52:34.708482Z",
     "iopub.status.idle": "2023-09-22T10:52:34.712334Z",
     "shell.execute_reply": "2023-09-22T10:52:34.712083Z"
    }
   },
   "outputs": [],
   "source": [
    "all_together_pop = apply_policies(\n",
    "    population,\n",
    "    [\n",
    "        policy_quarantine,\n",
    "        policy_remove_education_and_escort,\n",
    "        policy_remove_leisure,\n",
    "        policy_unemployment_and_furlough,\n",
    "        policy_remove_shopping,\n",
    "    ],\n",
    ")\n",
    "\n",
    "print_simple_stats(all_together_pop)"
   ]
  }
 ],
 "metadata": {
  "kernelspec": {
   "display_name": "Python 3.8.2 64-bit ('3.8.2')",
   "language": "python",
   "name": "python3"
  },
  "language_info": {
   "codemirror_mode": {
    "name": "ipython",
    "version": 3
   },
   "file_extension": ".py",
   "mimetype": "text/x-python",
   "name": "python",
   "nbconvert_exporter": "python",
   "pygments_lexer": "ipython3",
   "version": "3.11.8"
  },
  "latex_envs": {
   "LaTeX_envs_menu_present": true,
   "autoclose": true,
   "autocomplete": true,
   "bibliofile": "biblio.bib",
   "cite_by": "apalike",
   "current_citInitial": 1,
   "eqLabelWithNumbers": true,
   "eqNumInitial": 1,
   "hotkeys": {
    "equation": "Ctrl-E",
    "itemize": "Ctrl-I"
   },
   "labels_anchors": false,
   "latex_user_defs": false,
   "report_style_numbering": false,
   "user_envs_cfg": false
  },
  "toc": {
   "base_numbering": 1,
   "nav_menu": {},
   "number_sections": true,
   "sideBar": true,
   "skip_h1_title": false,
   "title_cell": "Table of Contents",
   "title_sidebar": "Contents",
   "toc_cell": false,
   "toc_position": {},
   "toc_section_display": true,
   "toc_window_display": false
  },
  "varInspector": {
   "cols": {
    "lenName": 16,
    "lenType": 16,
    "lenVar": 40
   },
   "kernels_config": {
    "python": {
     "delete_cmd_postfix": "",
     "delete_cmd_prefix": "del ",
     "library": "var_list.py",
     "varRefreshCmd": "print(var_dic_list())"
    },
    "r": {
     "delete_cmd_postfix": ") ",
     "delete_cmd_prefix": "rm(",
     "library": "var_list.r",
     "varRefreshCmd": "cat(var_dic_list()) "
    }
   },
   "types_to_exclude": [
    "module",
    "function",
    "builtin_function_or_method",
    "instance",
    "_Feature"
   ],
   "window_display": false
  },
  "vscode": {
   "interpreter": {
    "hash": "c2a90f01ee7329c0dc072323d04ab57047490a620cb7d1fe86527d3a3edaf28c"
   }
  }
 },
 "nbformat": 4,
 "nbformat_minor": 4
}
