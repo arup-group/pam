{
 "cells": [
  {
   "attachments": {},
   "cell_type": "markdown",
   "metadata": {},
   "source": [
    "# Tabular Read-Write\n",
    "\n",
    "This notebook is an introduction to the PAM tabular read-write methods. It has two parts:\n",
    "\n",
    "1. [Read](#read-tabular-format)\n",
    "2. [Write](#write-tabular-data)\n",
    "\n",
    "Please note that the included example data is a small sample. Larger input data sets, such as full samples of the UK National Travel Survey will take longer."
   ]
  },
  {
   "cell_type": "code",
   "execution_count": 1,
   "metadata": {
    "ExecuteTime": {
     "end_time": "2020-05-18T14:31:06.631005Z",
     "start_time": "2020-05-18T14:31:06.133057Z"
    },
    "execution": {
     "iopub.execute_input": "2024-04-04T10:40:24.671795Z",
     "iopub.status.busy": "2024-04-04T10:40:24.671795Z",
     "iopub.status.idle": "2024-04-04T10:40:25.250433Z",
     "shell.execute_reply": "2024-04-04T10:40:25.250433Z"
    }
   },
   "outputs": [
    {
     "ename": "ModuleNotFoundError",
     "evalue": "No module named 'pam'",
     "output_type": "error",
     "traceback": [
      "\u001b[1;31m---------------------------------------------------------------------------\u001b[0m",
      "\u001b[1;31mModuleNotFoundError\u001b[0m                       Traceback (most recent call last)",
      "Cell \u001b[1;32mIn[1], line 4\u001b[0m\n\u001b[0;32m      1\u001b[0m \u001b[38;5;28;01mimport\u001b[39;00m \u001b[38;5;21;01mos\u001b[39;00m\n\u001b[0;32m      3\u001b[0m \u001b[38;5;28;01mimport\u001b[39;00m \u001b[38;5;21;01mpandas\u001b[39;00m \u001b[38;5;28;01mas\u001b[39;00m \u001b[38;5;21;01mpd\u001b[39;00m\n\u001b[1;32m----> 4\u001b[0m \u001b[38;5;28;01mfrom\u001b[39;00m \u001b[38;5;21;01mpam\u001b[39;00m \u001b[38;5;28;01mimport\u001b[39;00m read\n",
      "\u001b[1;31mModuleNotFoundError\u001b[0m: No module named 'pam'"
     ]
    }
   ],
   "source": [
    "import os\n",
    "\n",
    "import pandas as pd\n",
    "from pam import read"
   ]
  },
  {
   "attachments": {},
   "cell_type": "markdown",
   "metadata": {},
   "source": [
    "## Read Tabular Format\n",
    "\n",
    "PAM can read from either tabular or MATSim formats. Tabular formats use the `pam.read.load_travel_diary` function, which will try to automatically infer trips and activities from commonly formatted travel diary data.\n",
    "\n",
    "Tabular data should include a trips table and then optionally, atributes tables for persons and/or households. Tabular data is expected as pandas DataFrames with column names as described in the docs and/or as in the following example.\n",
    "\n",
    "The following demonstration data is available in the [`data/example_data`](https://github.com/arup-group/pam/tree/main/examples/data/example_data) directory. All data paths in this example are relative to the [notebook directory](https://github.com/arup-group/pam/tree/main/examples) in the PAM repository.\n",
    "\n",
    "#### Step 1\n",
    "\n",
    "Load your trips (and attributes) data into pandas DataFrames. Reformat and rename the columns as required (please read the docs). The following example already has the required data types and column names:\n",
    "\n",
    "**trips:**\n",
    "\n",
    "Each row represents a trip, where:\n",
    "\n",
    "- **pid**: person id of trip\n",
    "- **hid**: household id of trip (**optional**)\n",
    "- **seq**: sequence of trip within day (optional if order is already correct)\n",
    "- **hzone**: home zone of person (**optional**)\n",
    "- **ozone**: origin zone of trip\n",
    "- **dzone**: destination zone of trip\n",
    "- **purp**: purpose of trip (note that other ways of classifying purpose are supported - read the docs!)\n",
    "- **mode**: trip mode\n",
    "- **tst**: (integer) trip start time in minutes from start of day (typically from midnight)\n",
    "- **tet**: (integer) trip end time as above\n",
    "- **freq**: sample weighting (**optional**)\n",
    "\n",
    "**persons:**\n",
    "\n",
    "Each row represents a persons attributes. These can be arbitrary key - value pairs, with most types supported. The following are examples:\n",
    "\n",
    "- **pid**: person id, must be consistent with trips data (**required**)\n",
    "- gender: gender of person (example)\n",
    "- job: employment status of person (example)\n",
    "- occ: employment type of person (example)\n",
    "- inc: income of person (example)"
   ]
  },
  {
   "cell_type": "code",
   "execution_count": 2,
   "metadata": {
    "ExecuteTime": {
     "end_time": "2020-05-18T13:40:08.588305Z",
     "start_time": "2020-05-18T13:40:08.557000Z"
    },
    "execution": {
     "iopub.execute_input": "2023-09-22T10:52:13.626292Z",
     "iopub.status.busy": "2023-09-22T10:52:13.626133Z",
     "iopub.status.idle": "2023-09-22T10:52:13.637252Z",
     "shell.execute_reply": "2023-09-22T10:52:13.636957Z"
    }
   },
   "outputs": [],
   "source": [
    "trips = pd.read_csv(\n",
    "    os.path.join(\"data\", \"example_data\", \"example_travel_diaries.csv\"), index_col=\"uid\"\n",
    ")\n",
    "persons = pd.read_csv(\n",
    "    os.path.join(\"data\", \"example_data\", \"example_attributes.csv\"), index_col=\"pid\"\n",
    ")\n",
    "trips.head(10)"
   ]
  },
  {
   "cell_type": "code",
   "execution_count": 3,
   "metadata": {
    "execution": {
     "iopub.execute_input": "2023-09-22T10:52:13.638783Z",
     "iopub.status.busy": "2023-09-22T10:52:13.638688Z",
     "iopub.status.idle": "2023-09-22T10:52:13.642330Z",
     "shell.execute_reply": "2023-09-22T10:52:13.642036Z"
    }
   },
   "outputs": [],
   "source": [
    "persons.head(10)"
   ]
  },
  {
   "attachments": {},
   "cell_type": "markdown",
   "metadata": {},
   "source": [
    "#### Step 2:\n",
    "\n",
    "Load the travel diary data:"
   ]
  },
  {
   "cell_type": "code",
   "execution_count": 4,
   "metadata": {
    "ExecuteTime": {
     "end_time": "2020-05-18T13:40:17.617442Z",
     "start_time": "2020-05-18T13:40:08.632419Z"
    },
    "execution": {
     "iopub.execute_input": "2023-09-22T10:52:13.646304Z",
     "iopub.status.busy": "2023-09-22T10:52:13.646136Z",
     "iopub.status.idle": "2023-09-22T10:52:13.689782Z",
     "shell.execute_reply": "2023-09-22T10:52:13.689482Z"
    }
   },
   "outputs": [],
   "source": [
    "population = read.load_travel_diary(trips, persons, trip_freq_as_person_freq=True)"
   ]
  },
  {
   "attachments": {},
   "cell_type": "markdown",
   "metadata": {
    "ExecuteTime": {
     "end_time": "2020-04-09T14:32:22.432201Z",
     "start_time": "2020-04-09T14:32:15.568791Z"
    }
   },
   "source": [
    "#### Step 3:\n",
    "\n",
    "Check everything is as expected. PAM will try to infer activities from trip data, including for arbitrarily complex sequences of nested tours.\n",
    "\n",
    "However, trip purpose can be encoded in a variety of ways. PAM will try to make sensible inference based on the data provided. If something looks wrong then check the docs, then consider raising an issue. The team are keen to support you!"
   ]
  },
  {
   "cell_type": "code",
   "execution_count": 5,
   "metadata": {
    "ExecuteTime": {
     "end_time": "2020-05-18T13:40:17.640594Z",
     "start_time": "2020-05-18T13:40:17.621499Z"
    },
    "execution": {
     "iopub.execute_input": "2023-09-22T10:52:13.691340Z",
     "iopub.status.busy": "2023-09-22T10:52:13.691257Z",
     "iopub.status.idle": "2023-09-22T10:52:13.693510Z",
     "shell.execute_reply": "2023-09-22T10:52:13.693223Z"
    }
   },
   "outputs": [],
   "source": [
    "household = population.households[\"census_12\"]\n",
    "person = household.people[\"census_12\"]\n",
    "person.print()"
   ]
  },
  {
   "cell_type": "code",
   "execution_count": 6,
   "metadata": {
    "execution": {
     "iopub.execute_input": "2023-09-22T10:52:13.694877Z",
     "iopub.status.busy": "2023-09-22T10:52:13.694784Z",
     "iopub.status.idle": "2023-09-22T10:52:13.800437Z",
     "shell.execute_reply": "2023-09-22T10:52:13.800168Z"
    }
   },
   "outputs": [],
   "source": [
    "person.plot()"
   ]
  },
  {
   "attachments": {},
   "cell_type": "markdown",
   "metadata": {},
   "source": [
    "## Write Tabular Data\n",
    "\n",
    "PAM can write into a preferred tabular formats using `pam.write.to_csv`. This outputs trip legs, household attributes and person attributes tables. Where sufficient geometries are found, PAM will write spatial data as geojson."
   ]
  },
  {
   "cell_type": "code",
   "execution_count": 7,
   "metadata": {
    "ExecuteTime": {
     "end_time": "2020-05-18T13:40:19.159176Z",
     "start_time": "2020-05-18T13:40:19.133774Z"
    },
    "execution": {
     "iopub.execute_input": "2023-09-22T10:52:13.801863Z",
     "iopub.status.busy": "2023-09-22T10:52:13.801765Z",
     "iopub.status.idle": "2023-09-22T10:52:13.834658Z",
     "shell.execute_reply": "2023-09-22T10:52:13.834253Z"
    }
   },
   "outputs": [],
   "source": [
    "from pam import write\n",
    "\n",
    "write.to_csv(population, dir=\"tmp\")"
   ]
  },
  {
   "cell_type": "markdown",
   "metadata": {},
   "source": [
    "PAM can also write directly to O-D matrices using `pam.write.write_od_matrices`. This can optionally be segmented (read the docs). But does not currently support trip weighting (frequency).\n"
   ]
  },
  {
   "cell_type": "code",
   "execution_count": 8,
   "metadata": {
    "execution": {
     "iopub.execute_input": "2023-09-22T10:52:13.836946Z",
     "iopub.status.busy": "2023-09-22T10:52:13.836776Z",
     "iopub.status.idle": "2023-09-22T10:52:13.851430Z",
     "shell.execute_reply": "2023-09-22T10:52:13.850697Z"
    }
   },
   "outputs": [],
   "source": [
    "write.write_od_matrices(population, \"tmp\")"
   ]
  },
  {
   "attachments": {},
   "cell_type": "markdown",
   "metadata": {},
   "source": [
    "## Pickle\n",
    "\n",
    "Not a tabular format but if you've read this far - you might like to know that there is a Population.pickle method:"
   ]
  },
  {
   "cell_type": "code",
   "execution_count": 9,
   "metadata": {
    "ExecuteTime": {
     "end_time": "2020-05-18T13:40:23.298011Z",
     "start_time": "2020-05-18T13:40:22.714290Z"
    },
    "execution": {
     "iopub.execute_input": "2023-09-22T10:52:13.853673Z",
     "iopub.status.busy": "2023-09-22T10:52:13.853534Z",
     "iopub.status.idle": "2023-09-22T10:52:13.860152Z",
     "shell.execute_reply": "2023-09-22T10:52:13.859767Z"
    }
   },
   "outputs": [],
   "source": [
    "population.pickle(os.path.join(\"tmp\", \"population.pickle\"))"
   ]
  }
 ],
 "metadata": {
  "kernelspec": {
   "display_name": "pam",
   "language": "python",
   "name": "python3"
  },
  "language_info": {
   "codemirror_mode": {
    "name": "ipython",
    "version": 3
   },
   "file_extension": ".py",
   "mimetype": "text/x-python",
   "name": "python",
   "nbconvert_exporter": "python",
   "pygments_lexer": "ipython3",
   "version": "3.11.8"
  },
  "latex_envs": {
   "LaTeX_envs_menu_present": true,
   "autoclose": true,
   "autocomplete": true,
   "bibliofile": "biblio.bib",
   "cite_by": "apalike",
   "current_citInitial": 1,
   "eqLabelWithNumbers": true,
   "eqNumInitial": 1,
   "hotkeys": {
    "equation": "Ctrl-E",
    "itemize": "Ctrl-I"
   },
   "labels_anchors": false,
   "latex_user_defs": false,
   "report_style_numbering": false,
   "user_envs_cfg": false
  },
  "toc": {
   "base_numbering": 1,
   "nav_menu": {},
   "number_sections": true,
   "sideBar": true,
   "skip_h1_title": true,
   "title_cell": "Table of Contents",
   "title_sidebar": "Contents",
   "toc_cell": false,
   "toc_position": {
    "height": "calc(100% - 180px)",
    "left": "10px",
    "top": "150px",
    "width": "248.333px"
   },
   "toc_section_display": true,
   "toc_window_display": false
  },
  "varInspector": {
   "cols": {
    "lenName": 16,
    "lenType": 16,
    "lenVar": 40
   },
   "kernels_config": {
    "python": {
     "delete_cmd_postfix": "",
     "delete_cmd_prefix": "del ",
     "library": "var_list.py",
     "varRefreshCmd": "print(var_dic_list())"
    },
    "r": {
     "delete_cmd_postfix": ") ",
     "delete_cmd_prefix": "rm(",
     "library": "var_list.r",
     "varRefreshCmd": "cat(var_dic_list()) "
    }
   },
   "types_to_exclude": [
    "module",
    "function",
    "builtin_function_or_method",
    "instance",
    "_Feature"
   ],
   "window_display": false
  }
 },
 "nbformat": 4,
 "nbformat_minor": 2
}
