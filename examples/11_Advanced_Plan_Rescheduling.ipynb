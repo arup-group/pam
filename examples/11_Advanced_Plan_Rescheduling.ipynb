{
 "cells": [
  {
   "cell_type": "code",
   "execution_count": 58,
   "metadata": {},
   "outputs": [],
   "source": [
    "from copy import deepcopy"
   ]
  },
  {
   "cell_type": "code",
   "execution_count": 59,
   "metadata": {},
   "outputs": [],
   "source": [
    "from pam.read import read_matsim\n",
    "from pam.core import Population, Household, Person\n",
    "from pam.activity import Plan, Activity, Leg\n",
    "from pam.utils import minutes_to_datetime as mtdt, matsim_duration_to_hours\n",
    "from pam.variables import END_OF_DAY\n",
    "%matplotlib inline"
   ]
  },
  {
   "cell_type": "code",
   "execution_count": 60,
   "metadata": {},
   "outputs": [],
   "source": [
    "from pam.scoring import CharyparNagelPlanScorer\n",
    "\n",
    "default_config = {\n",
    "    'mUM': 1,\n",
    "    'utilityOfLineSwitch': -1,\n",
    "    'performing': 6,\n",
    "    'waiting': 0,\n",
    "    'waitingPt': -2,\n",
    "    'lateArrival': -18,\n",
    "    'earlyDeparture': -0,\n",
    "    'work': {\n",
    "        'typicalDuration': '08:30:00',\n",
    "        # 'openingTime': '06:00:00',\n",
    "        # 'closingTime': '20:00:00',\n",
    "        # 'latestStartTime': '09:30:00',\n",
    "        # 'earliestEndTime': '16:00:00',\n",
    "        \"minimalDuration\": \"08:00:00\"\n",
    "        },\n",
    "    'home': {\n",
    "        'typicalDuration': '12:00:00',\n",
    "        \"minimalDuration\": \"08:00:00\"\n",
    "        },\n",
    "    'shop': {\n",
    "        'typicalDuration': '00:30:00',\n",
    "        \"minimalDuration\": \"00:10:00\"\n",
    "        },\n",
    "    'education': {\n",
    "        'typicalDuration': '08:30:00',\n",
    "        \"minimalDuration\": \"06:00:00\"\n",
    "        },\n",
    "    'car': {\n",
    "        # 'constant': -0,\n",
    "        # 'dailyMonetaryConstant': -0,\n",
    "        # 'dailyUtilityConstant': -0,\n",
    "        # 'marginalUtilityOfDistance': -0,\n",
    "        'marginalUtilityOfTravelling': -5,\n",
    "        'monetaryDistanceRate': -0.0005\n",
    "        },\n",
    "    'pt': {\n",
    "        'marginalUtilityOfTravelling': -5,\n",
    "        'monetaryDistanceRate': -0.001\n",
    "        },\n",
    "    'bus': {\n",
    "        'marginalUtilityOfTravelling': -5,\n",
    "        'monetaryDistanceRate': -0.001\n",
    "        },\n",
    "    'train': {\n",
    "        'marginalUtilityOfTravelling': -5,\n",
    "        'monetaryDistanceRate': -0.001\n",
    "        },\n",
    "    'walk': {\n",
    "        'marginalUtilityOfTravelling': -12,\n",
    "        },\n",
    "    'bike': {\n",
    "        'marginalUtilityOfTravelling': -12,\n",
    "        }\n",
    "    }\n",
    "\n",
    "config = {subpop: default_config for subpop in [\n",
    "    \"default\", \"high income\", \"medium income\", \"low income\", \"freight\"\n",
    "    ]}\n",
    "\n",
    "scorer = CharyparNagelPlanScorer(cnfg=config)"
   ]
  },
  {
   "cell_type": "markdown",
   "metadata": {},
   "source": [
    "# Toy Data"
   ]
  },
  {
   "cell_type": "code",
   "execution_count": 61,
   "metadata": {},
   "outputs": [],
   "source": [
    "default_config = {\n",
    "    'mUM': 1,\n",
    "    'utilityOfLineSwitch': -1,\n",
    "    'performing': 6,\n",
    "    'waiting': -1,\n",
    "    'waitingPt': -2,\n",
    "    'lateArrival': -18,\n",
    "    'earlyDeparture': -6,\n",
    "    'work': {\n",
    "        'typicalDuration': '08:30:00',\n",
    "        'openingTime': '06:00:00',\n",
    "        'closingTime': '20:00:00',\n",
    "        'latestStartTime': '09:30:00',\n",
    "        'earliestEndTime': '16:00:00',\n",
    "        \"minimalDuration\": \"08:00:00\"\n",
    "        },\n",
    "    'home': {\n",
    "        'typicalDuration': '09:00:00',\n",
    "        \"minimalDuration\": \"06:00:00\",\n",
    "        'earliestEndTime': '06:00:00',\n",
    "        },\n",
    "    'shop': {\n",
    "        'openingTime': '06:00:00',\n",
    "        'closingTime': '20:00:00',\n",
    "        'typicalDuration': '00:30:00',\n",
    "        \"minimalDuration\": \"00:30:00\"\n",
    "        },\n",
    "    'education': {\n",
    "        'openingTime': '09:00:00',\n",
    "        'closingTime': '16:00:00',\n",
    "        'typicalDuration': '07:00:00',\n",
    "        \"minimalDuration\": \"06:00:00\",\n",
    "        'latestStartTime': '09:00:00',\n",
    "        'earliestEndTime': '15:30:00',\n",
    "        },\n",
    "    'car': {\n",
    "        'constant': -5,\n",
    "        'dailyMonetaryConstant': -0,\n",
    "        'dailyUtilityConstant': -0,\n",
    "        'marginalUtilityOfDistance': -0,\n",
    "        'marginalUtilityOfTravelling': -0,\n",
    "        'monetaryDistanceRate': -0.0005\n",
    "        },\n",
    "    'bus': {\n",
    "        'dailyMonetaryConstant': -5,\n",
    "        'marginalUtilityOfTravelling': -5,\n",
    "        'monetaryDistanceRate': -0.001\n",
    "        },\n",
    "    'train': {\n",
    "        'dailyMonetaryConstant': -5,\n",
    "        'marginalUtilityOfTravelling': -5,\n",
    "        'monetaryDistanceRate': -0.001\n",
    "        },\n",
    "    'walk': {\n",
    "        'marginalUtilityOfTravelling': -12,\n",
    "        },\n",
    "    'bike': {\n",
    "        'marginalUtilityOfTravelling': -12,\n",
    "        }\n",
    "    }\n",
    "\n",
    "config = {subpop: default_config for subpop in [\n",
    "    \"default\"\n",
    "    ]}\n",
    "\n",
    "scorer = CharyparNagelPlanScorer(cnfg=config)"
   ]
  },
  {
   "cell_type": "code",
   "execution_count": 62,
   "metadata": {},
   "outputs": [
    {
     "data": {
      "text/plain": [
       "True"
      ]
     },
     "execution_count": 62,
     "metadata": {},
     "output_type": "execute_result"
    }
   ],
   "source": [
    "personA = Person('Ahmed', attributes={'age': 20, 'subpopulation': 'default'})\n",
    "personA.plan.day = [\n",
    "    Activity(act='home', area=1, start_time=mtdt(0), end_time=mtdt(420)),\n",
    "    Leg(mode='car', start_area=1, end_area=2, start_time=mtdt(420), end_time=mtdt(480), distance=1000),\n",
    "    Activity(act='shop', area=2, start_time=mtdt(480), end_time=mtdt(510)),\n",
    "    Leg(mode='walk', start_area=2, end_area=3, start_time=mtdt(510), end_time=mtdt(570), distance=1000),\n",
    "    Activity(act='work', area=3, start_time=mtdt(570), end_time=mtdt(960)),\n",
    "    Leg(mode='car', start_area=3, end_area=1, start_time=mtdt(960), end_time=mtdt(1020), distance=1000),\n",
    "    Activity(act='home', area=1, start_time=mtdt(1020), end_time=END_OF_DAY)\n",
    "]\n",
    "\n",
    "personB = Person('Brenda', attributes={'age': 20, 'subpopulation': 'default'})\n",
    "personB.plan.day = [\n",
    "    Activity(act='home', area=1, start_time=mtdt(0), end_time=mtdt(300)),\n",
    "    Leg(mode='car', start_area=1, end_area=2, start_time=mtdt(300), end_time=mtdt(360), distance=1000),\n",
    "    Activity(act='shop', area=2, start_time=mtdt(360), end_time=mtdt(420)),\n",
    "    Leg(mode='walk', start_area=2, end_area=3, start_time=mtdt(420), end_time=mtdt(480), distance=1000),\n",
    "    Activity(act='work', area=3, start_time=mtdt(480), end_time=mtdt(1320)),\n",
    "    Leg(mode='car', start_area=3, end_area=1, start_time=mtdt(1320), end_time=mtdt(1380), distance=1000),\n",
    "    Activity(act='home', area=1, start_time=mtdt(1380), end_time=END_OF_DAY)\n",
    "]\n",
    "\n",
    "personC = Person('Cookie', attributes={'age': 20, 'subpopulation': 'default'})\n",
    "personC.plan.day = [\n",
    "    Activity(act='home', area=1, start_time=mtdt(0), end_time=mtdt(120)),\n",
    "    Leg(mode='car', start_area=1, end_area=2, start_time=mtdt(120), end_time=mtdt(180), distance=1000),\n",
    "    Activity(act='shop', area=2, start_time=mtdt(180), end_time=mtdt(420)),\n",
    "    Leg(mode='walk', start_area=2, end_area=3, start_time=mtdt(420), end_time=mtdt(480), distance=1000),\n",
    "    Activity(act='work', area=3, start_time=mtdt(480), end_time=mtdt(1320)),\n",
    "    Leg(mode='car', start_area=3, end_area=1, start_time=mtdt(1320), end_time=mtdt(1380), distance=1000),\n",
    "    Activity(act='home', area=1, start_time=mtdt(1380), end_time=END_OF_DAY)\n",
    "]\n",
    "\n",
    "personA.validate()\n",
    "personB.validate()\n",
    "personC.validate()"
   ]
  },
  {
   "cell_type": "code",
   "execution_count": 63,
   "metadata": {},
   "outputs": [
    {
     "name": "stdout",
     "output_type": "stream",
     "text": [
      "Ahmed's score = 95.17750530673948\n",
      "Brenda's score = 220.77119050471717\n",
      "Cookie's score = 162.59537925482084\n"
     ]
    },
    {
     "data": {
      "image/png": "[encoded data removed]",
      "text/plain": [
       "<Figure size 1152x216 with 1 Axes>"
      ]
     },
     "metadata": {
      "needs_background": "light"
     },
     "output_type": "display_data"
    },
    {
     "data": {
      "image/png": "[encoded data removed]",
      "text/plain": [
       "<Figure size 1152x216 with 1 Axes>"
      ]
     },
     "metadata": {
      "needs_background": "light"
     },
     "output_type": "display_data"
    },
    {
     "data": {
      "image/png": "[encoded data removed]",
      "text/plain": [
       "<Figure size 1152x216 with 1 Axes>"
      ]
     },
     "metadata": {
      "needs_background": "light"
     },
     "output_type": "display_data"
    }
   ],
   "source": [
    "print(f\"{personA.pid}'s score = {scorer.score_person(personA)}\")\n",
    "personA.plot()\n",
    "print(f\"{personB.pid}'s score = {scorer.score_person(personB)}\")\n",
    "personB.plot()\n",
    "print(f\"{personC.pid}'s score = {scorer.score_person(personC)}\")\n",
    "personC.plot()"
   ]
  },
  {
   "cell_type": "markdown",
   "metadata": {},
   "source": [
    "# Calibration\n",
    "\n",
    "## Optimising utility score sans MATSim\n",
    "\n",
    "Note that we are not messing with the sequence or the trips, or locations - so trips distances and times do not vary.\n",
    "\n",
    "### Random Search for Optima"
   ]
  },
  {
   "cell_type": "code",
   "execution_count": 64,
   "metadata": {},
   "outputs": [],
   "source": [
    "from matplotlib import pyplot as plt\n",
    "from pam.optimise.random import reschedule\n",
    "from pam.optimise.grid import grid_search"
   ]
  },
  {
   "cell_type": "code",
   "execution_count": 65,
   "metadata": {
    "tags": []
   },
   "outputs": [],
   "source": [
    "def optimise(plan):\n",
    "    plan, log = reschedule(\n",
    "        plan,\n",
    "        plans_scorer=scorer,\n",
    "        config=config['default'],\n",
    "        patience=1000\n",
    "        )\n",
    "    # plt.plot(list(log.keys()), list(log.values()))\n",
    "    return plan"
   ]
  },
  {
   "cell_type": "code",
   "execution_count": 66,
   "metadata": {},
   "outputs": [
    {
     "name": "stdout",
     "output_type": "stream",
     "text": [
      "Initial best score at iteration 0: 95.17750530673948\n",
      "New best score at iteration 0: 104.40436522225369\n",
      "New best score at iteration 1: 141.16733772588856\n",
      "New best score at iteration 3: 157.16257137690377\n",
      "New best score at iteration 5: 175.157403905086\n",
      "New best score at iteration 12: 183.65859424718383\n",
      "New best score at iteration 14: 189.31385140750146\n",
      "New best score at iteration 15: 199.3806700299931\n",
      "New best score at iteration 72: 213.671585928361\n",
      "Initial best score at iteration 0: 220.77119050471717\n",
      "Initial best score at iteration 0: 162.59537925482084\n",
      "New best score at iteration 0: 170.30030878183663\n",
      "New best score at iteration 1: 206.12108221456995\n",
      "New best score at iteration 125: 210.27392439085193\n",
      "New best score at iteration 203: 211.56367294431254\n",
      "New best score at iteration 779: 212.52105937179502\n"
     ]
    }
   ],
   "source": [
    "plans = [personA.plan, personB.plan, personC.plan]\n",
    "proposed = []\n",
    "for plan in plans:\n",
    "    proposed.append(optimise(plan))\n"
   ]
  },
  {
   "cell_type": "code",
   "execution_count": 67,
   "metadata": {},
   "outputs": [],
   "source": [
    "from pam.array import encode, decode, distance"
   ]
  },
  {
   "cell_type": "code",
   "execution_count": 68,
   "metadata": {},
   "outputs": [
    {
     "data": {
      "text/plain": [
       "array([[1., 0., 0., 0.],\n",
       "       [1., 0., 0., 0.],\n",
       "       [1., 0., 0., 0.],\n",
       "       [1., 0., 0., 0.],\n",
       "       [1., 0., 0., 0.],\n",
       "       [1., 0., 0., 0.],\n",
       "       [1., 0., 0., 0.],\n",
       "       [0., 1., 0., 0.],\n",
       "       [0., 1., 0., 0.],\n",
       "       [0., 1., 0., 0.],\n",
       "       [0., 0., 0., 1.],\n",
       "       [0., 0., 0., 1.],\n",
       "       [0., 0., 0., 1.],\n",
       "       [0., 0., 0., 1.],\n",
       "       [0., 0., 0., 1.],\n",
       "       [0., 0., 0., 1.],\n",
       "       [0., 1., 0., 0.],\n",
       "       [1., 0., 0., 0.],\n",
       "       [1., 0., 0., 0.],\n",
       "       [1., 0., 0., 0.],\n",
       "       [1., 0., 0., 0.],\n",
       "       [1., 0., 0., 0.],\n",
       "       [1., 0., 0., 0.],\n",
       "       [1., 0., 0., 0.]])"
      ]
     },
     "execution_count": 68,
     "metadata": {},
     "output_type": "execute_result"
    }
   ],
   "source": [
    "encode.plan_to_one_hot(\n",
    "    plans[0],\n",
    "    mapping = {\"home\":0, \"travel\":1, \"shop\":2, \"work\":3}\n",
    ")"
   ]
  },
  {
   "cell_type": "code",
   "execution_count": 69,
   "metadata": {},
   "outputs": [],
   "source": [
    "ranked = {}\n",
    "for i, p in zip(plans, proposed):\n",
    "    i_encoded = encode.plan_to_one_hot(\n",
    "        i,\n",
    "        mapping = {\"home\":0, \"travel\":1, \"shop\":2, \"work\":3},\n",
    "        bin_size=900\n",
    "    )\n",
    "    p_encoded = encode.plan_to_one_hot(\n",
    "        p,\n",
    "        mapping = {\"home\":0, \"travel\":1, \"shop\":2, \"work\":3},\n",
    "        bin_size=900\n",
    "    )\n",
    "    difference = distance.accuracy(i_encoded, p_encoded)\n",
    "    ranked[difference] = i\n"
   ]
  },
  {
   "cell_type": "code",
   "execution_count": 70,
   "metadata": {},
   "outputs": [],
   "source": [
    "ranked = dict(sorted(ranked.items()))"
   ]
  },
  {
   "cell_type": "code",
   "execution_count": 71,
   "metadata": {},
   "outputs": [
    {
     "name": "stdout",
     "output_type": "stream",
     "text": [
      "0.3541666666666667\n",
      "0.6979166666666666\n",
      "1.0\n"
     ]
    },
    {
     "data": {
      "image/png": "[encoded data removed]",
      "text/plain": [
       "<Figure size 1152x216 with 1 Axes>"
      ]
     },
     "metadata": {
      "needs_background": "light"
     },
     "output_type": "display_data"
    },
    {
     "data": {
      "image/png": "[encoded data removed]",
      "text/plain": [
       "<Figure size 1152x216 with 1 Axes>"
      ]
     },
     "metadata": {
      "needs_background": "light"
     },
     "output_type": "display_data"
    },
    {
     "data": {
      "image/png": "[encoded data removed]",
      "text/plain": [
       "<Figure size 1152x216 with 1 Axes>"
      ]
     },
     "metadata": {
      "needs_background": "light"
     },
     "output_type": "display_data"
    }
   ],
   "source": [
    "for score, plan in ranked.items():\n",
    "    print(score)\n",
    "    plan.plot()"
   ]
  },
  {
   "cell_type": "code",
   "execution_count": null,
   "metadata": {},
   "outputs": [],
   "source": []
  }
 ],
 "metadata": {
  "interpreter": {
   "hash": "270b2096f688d13ad6e93cc6328e32b64288e195592f9db2d9ed6e7d60cfcc3a"
  },
  "kernelspec": {
   "display_name": "Python 3.7.3 ('pam')",
   "language": "python",
   "name": "python3"
  },
  "language_info": {
   "codemirror_mode": {
    "name": "ipython",
    "version": 3
   },
   "file_extension": ".py",
   "mimetype": "text/x-python",
   "name": "python",
   "nbconvert_exporter": "python",
   "pygments_lexer": "ipython3",
   "version": "3.7.3"
  }
 },
 "nbformat": 4,
 "nbformat_minor": 2
}
