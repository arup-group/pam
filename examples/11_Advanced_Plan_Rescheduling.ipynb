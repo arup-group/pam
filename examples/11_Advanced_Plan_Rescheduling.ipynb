{
 "cells": [
  {
   "attachments": {},
   "cell_type": "markdown",
   "metadata": {},
   "source": [
    "# Plan Rescheduling\n",
    "\n",
    "This notebook shows how plans can be rescheduled (activity start times and duration changed). For this example we change some example plans in order to optimise each plan score. We use a scoring function based on the MATSim Charypar-Nagel score."
   ]
  },
  {
   "cell_type": "code",
   "execution_count": 1,
   "metadata": {
    "execution": {
     "iopub.execute_input": "2024-04-04T10:40:35.584297Z",
     "iopub.status.busy": "2024-04-04T10:40:35.583297Z",
     "iopub.status.idle": "2024-04-04T10:40:35.819979Z",
     "shell.execute_reply": "2024-04-04T10:40:35.819979Z"
    }
   },
   "outputs": [
    {
     "ename": "ModuleNotFoundError",
     "evalue": "No module named 'pam'",
     "output_type": "error",
     "traceback": [
      "\u001b[1;31m---------------------------------------------------------------------------\u001b[0m",
      "\u001b[1;31mModuleNotFoundError\u001b[0m                       Traceback (most recent call last)",
      "Cell \u001b[1;32mIn[1], line 1\u001b[0m\n\u001b[1;32m----> 1\u001b[0m \u001b[38;5;28;01mfrom\u001b[39;00m \u001b[38;5;21;01mpam\u001b[39;00m\u001b[38;5;21;01m.\u001b[39;00m\u001b[38;5;21;01mactivity\u001b[39;00m \u001b[38;5;28;01mimport\u001b[39;00m Activity, Leg\n\u001b[0;32m      2\u001b[0m \u001b[38;5;28;01mfrom\u001b[39;00m \u001b[38;5;21;01mpam\u001b[39;00m\u001b[38;5;21;01m.\u001b[39;00m\u001b[38;5;21;01mcore\u001b[39;00m \u001b[38;5;28;01mimport\u001b[39;00m Person\n\u001b[0;32m      3\u001b[0m \u001b[38;5;28;01mfrom\u001b[39;00m \u001b[38;5;21;01mpam\u001b[39;00m\u001b[38;5;21;01m.\u001b[39;00m\u001b[38;5;21;01mscoring\u001b[39;00m \u001b[38;5;28;01mimport\u001b[39;00m CharyparNagelPlanScorer\n",
      "\u001b[1;31mModuleNotFoundError\u001b[0m: No module named 'pam'"
     ]
    }
   ],
   "source": [
    "from pam.activity import Activity, Leg\n",
    "from pam.core import Person\n",
    "from pam.scoring import CharyparNagelPlanScorer\n",
    "from pam.utils import minutes_to_datetime as mtdt\n",
    "from pam.variables import END_OF_DAY\n",
    "\n",
    "%matplotlib inline"
   ]
  },
  {
   "cell_type": "markdown",
   "metadata": {},
   "source": [
    "## Step 1\n",
    "\n",
    "Configure the CharyparNagelPlanScorer. We use the Charypar-Nagel score to be consistent with MATSim, but you mighty decide to create your own."
   ]
  },
  {
   "cell_type": "code",
   "execution_count": 2,
   "metadata": {
    "execution": {
     "iopub.execute_input": "2023-09-22T10:52:31.488427Z",
     "iopub.status.busy": "2023-09-22T10:52:31.488206Z",
     "iopub.status.idle": "2023-09-22T10:52:31.491425Z",
     "shell.execute_reply": "2023-09-22T10:52:31.491000Z"
    }
   },
   "outputs": [],
   "source": [
    "default_config = {\n",
    "    \"mUM\": 1,\n",
    "    \"utilityOfLineSwitch\": -1,\n",
    "    \"performing\": 6,\n",
    "    \"waiting\": -1,\n",
    "    \"waitingPt\": -2,\n",
    "    \"lateArrival\": -18,\n",
    "    \"earlyDeparture\": -6,\n",
    "    \"work\": {\n",
    "        \"typicalDuration\": \"08:30:00\",\n",
    "        \"openingTime\": \"06:00:00\",\n",
    "        \"closingTime\": \"20:00:00\",\n",
    "        \"latestStartTime\": \"09:30:00\",\n",
    "        \"earliestEndTime\": \"16:00:00\",\n",
    "        \"minimalDuration\": \"08:00:00\",\n",
    "    },\n",
    "    \"home\": {\n",
    "        \"typicalDuration\": \"09:00:00\",\n",
    "        \"minimalDuration\": \"06:00:00\",\n",
    "        \"earliestEndTime\": \"06:00:00\",\n",
    "    },\n",
    "    \"shop\": {\n",
    "        \"openingTime\": \"06:00:00\",\n",
    "        \"closingTime\": \"20:00:00\",\n",
    "        \"typicalDuration\": \"00:30:00\",\n",
    "        \"minimalDuration\": \"00:30:00\",\n",
    "    },\n",
    "    \"car\": {\n",
    "        \"constant\": -5,\n",
    "        \"dailyMonetaryConstant\": -0,\n",
    "        \"dailyUtilityConstant\": -0,\n",
    "        \"marginalUtilityOfDistance\": -0,\n",
    "        \"marginalUtilityOfTravelling\": -0,\n",
    "        \"monetaryDistanceRate\": -0.0005,\n",
    "    },\n",
    "    \"walk\": {\"marginalUtilityOfTravelling\": -12},\n",
    "}\n",
    "\n",
    "config = {subpop: default_config for subpop in [\"default\"]}\n",
    "\n",
    "scorer = CharyparNagelPlanScorer(cnfg=config)"
   ]
  },
  {
   "cell_type": "markdown",
   "metadata": {},
   "source": [
    "## Step 2\n",
    "\n",
    "Load or create some activity plans. In this example we create three persons plans, all with the same sequence of activities and same travel times, but with different activity start times and durations."
   ]
  },
  {
   "cell_type": "code",
   "execution_count": 3,
   "metadata": {
    "execution": {
     "iopub.execute_input": "2023-09-22T10:52:31.493995Z",
     "iopub.status.busy": "2023-09-22T10:52:31.493884Z",
     "iopub.status.idle": "2023-09-22T10:52:31.756839Z",
     "shell.execute_reply": "2023-09-22T10:52:31.756575Z"
    }
   },
   "outputs": [],
   "source": [
    "personA = Person(\"Ahmed\", attributes={\"age\": 20, \"subpopulation\": \"default\"})\n",
    "personA.plan.day = [\n",
    "    Activity(act=\"home\", area=1, start_time=mtdt(0), end_time=mtdt(420)),\n",
    "    Leg(mode=\"car\", start_time=mtdt(420), end_time=mtdt(480), distance=1000),\n",
    "    Activity(act=\"shop\", area=2, start_time=mtdt(480), end_time=mtdt(510)),\n",
    "    Leg(mode=\"walk\", start_time=mtdt(510), end_time=mtdt(570), distance=1000),\n",
    "    Activity(act=\"work\", area=3, start_time=mtdt(570), end_time=mtdt(1140)),\n",
    "    Leg(mode=\"car\", start_time=mtdt(1140), end_time=mtdt(1200), distance=1000),\n",
    "    Activity(act=\"home\", area=1, start_time=mtdt(1200), end_time=END_OF_DAY),\n",
    "]\n",
    "\n",
    "personB = Person(\"Brenda\", attributes={\"age\": 20, \"subpopulation\": \"default\"})\n",
    "personB.plan.day = [\n",
    "    Activity(act=\"home\", area=1, start_time=mtdt(0), end_time=mtdt(300)),\n",
    "    Leg(mode=\"car\", start_time=mtdt(300), end_time=mtdt(360), distance=1000),\n",
    "    Activity(act=\"shop\", area=2, start_time=mtdt(360), end_time=mtdt(420)),\n",
    "    Leg(mode=\"walk\", start_time=mtdt(420), end_time=mtdt(480), distance=1000),\n",
    "    Activity(act=\"work\", area=3, start_time=mtdt(480), end_time=mtdt(1320)),\n",
    "    Leg(mode=\"car\", start_time=mtdt(1320), end_time=mtdt(1380), distance=1000),\n",
    "    Activity(act=\"home\", area=1, start_time=mtdt(1380), end_time=END_OF_DAY),\n",
    "]\n",
    "\n",
    "personC = Person(\"Cookie\", attributes={\"age\": 20, \"subpopulation\": \"default\"})\n",
    "personC.plan.day = [\n",
    "    Activity(act=\"home\", area=1, start_time=mtdt(0), end_time=mtdt(120)),\n",
    "    Leg(mode=\"car\", start_time=mtdt(120), end_time=mtdt(180), distance=1000),\n",
    "    Activity(act=\"shop\", area=2, start_time=mtdt(180), end_time=mtdt(420)),\n",
    "    Leg(mode=\"walk\", start_time=mtdt(420), end_time=mtdt(480), distance=1000),\n",
    "    Activity(act=\"work\", area=3, start_time=mtdt(480), end_time=mtdt(1320)),\n",
    "    Leg(mode=\"car\", start_time=mtdt(1320), end_time=mtdt(1380), distance=1000),\n",
    "    Activity(act=\"home\", area=1, start_time=mtdt(1380), end_time=END_OF_DAY),\n",
    "]\n",
    "\n",
    "personA.plot()\n",
    "personB.plot()\n",
    "personC.plot()"
   ]
  },
  {
   "cell_type": "markdown",
   "metadata": {},
   "source": [
    "## Step 3\n",
    "\n",
    "Score our plans. Note that for our example Brenda has the highest score."
   ]
  },
  {
   "cell_type": "code",
   "execution_count": 4,
   "metadata": {
    "execution": {
     "iopub.execute_input": "2023-09-22T10:52:31.758385Z",
     "iopub.status.busy": "2023-09-22T10:52:31.758281Z",
     "iopub.status.idle": "2023-09-22T10:52:31.760651Z",
     "shell.execute_reply": "2023-09-22T10:52:31.760406Z"
    }
   },
   "outputs": [],
   "source": [
    "print(f\"{personA.pid}'s score = {scorer.score_person(personA)}\")\n",
    "print(f\"{personB.pid}'s score = {scorer.score_person(personB)}\")\n",
    "print(f\"{personC.pid}'s score = {scorer.score_person(personC)}\")"
   ]
  },
  {
   "attachments": {},
   "cell_type": "markdown",
   "metadata": {},
   "source": [
    "## Step 4\n",
    "\n",
    "Seek to reschedule the plans to improve their scores. We do this with the optimisers from `pam.optimise`."
   ]
  },
  {
   "cell_type": "code",
   "execution_count": 5,
   "metadata": {
    "execution": {
     "iopub.execute_input": "2023-09-22T10:52:31.762004Z",
     "iopub.status.busy": "2023-09-22T10:52:31.761894Z",
     "iopub.status.idle": "2023-09-22T10:52:31.783286Z",
     "shell.execute_reply": "2023-09-22T10:52:31.782990Z"
    }
   },
   "outputs": [],
   "source": [
    "from pam.optimise import grid, random"
   ]
  },
  {
   "cell_type": "code",
   "execution_count": 6,
   "metadata": {
    "execution": {
     "iopub.execute_input": "2023-09-22T10:52:31.785058Z",
     "iopub.status.busy": "2023-09-22T10:52:31.784956Z",
     "iopub.status.idle": "2023-09-22T10:52:39.912353Z",
     "shell.execute_reply": "2023-09-22T10:52:39.912068Z"
    }
   },
   "outputs": [],
   "source": [
    "plans = [personA.plan, personB.plan, personC.plan]\n",
    "\n",
    "print(\"Random search optimisation:\")\n",
    "optimised_by_random = []\n",
    "for plan in plans:\n",
    "    optimised, _ = random.reschedule(\n",
    "        plan, plans_scorer=scorer, config=config[\"default\"], patience=5000\n",
    "    )\n",
    "    optimised_by_random.append(optimised)\n",
    "print(\"Grid search optimisation:\")\n",
    "optimised_by_grid = []\n",
    "for plan in plans:\n",
    "    optimised, _ = grid.grid_search(\n",
    "        plan, plans_scorer=scorer, config=config[\"default\"], step=1800  # step size is in seconds\n",
    "    )\n",
    "    optimised_by_grid.append(optimised)"
   ]
  },
  {
   "cell_type": "markdown",
   "metadata": {},
   "source": [
    "Note that the random search quality depends upon the level of patience and the grid search on the step size. Setting patience higher or using smaller grid steps may result in better scores but at the cost of more compute. We can think of better ways to implement these schedule optimisers, but we leave it as an exercise to the reader.\n",
    "\n",
    "In this case we can see that the grid search finds a schedule with a short shopping trip at 7.30 and the 10 hours at work. For our example grid search finds the same optima for all, because the plans have the same activities, sequence, and trips."
   ]
  },
  {
   "cell_type": "code",
   "execution_count": 7,
   "metadata": {
    "execution": {
     "iopub.execute_input": "2023-09-22T10:52:39.914055Z",
     "iopub.status.busy": "2023-09-22T10:52:39.913949Z",
     "iopub.status.idle": "2023-09-22T10:52:40.086695Z",
     "shell.execute_reply": "2023-09-22T10:52:40.086399Z"
    }
   },
   "outputs": [],
   "source": [
    "optimised_by_random[1].plot()\n",
    "optimised_by_grid[1].plot()"
   ]
  },
  {
   "cell_type": "markdown",
   "metadata": {},
   "source": [
    "## Considering Different Scorers\n",
    "\n",
    "As an experiment lets make a small change to our config file and check the outcome:"
   ]
  },
  {
   "cell_type": "code",
   "execution_count": 8,
   "metadata": {
    "execution": {
     "iopub.execute_input": "2023-09-22T10:52:40.088155Z",
     "iopub.status.busy": "2023-09-22T10:52:40.088053Z",
     "iopub.status.idle": "2023-09-22T10:52:42.237416Z",
     "shell.execute_reply": "2023-09-22T10:52:42.237134Z"
    }
   },
   "outputs": [],
   "source": [
    "config[\"default\"][\"home\"][\"typicalDuration\"] = \"12:00:00\"  # previously \"09:00:00\"\n",
    "config[\"default\"][\"home\"][\"minimalDuration\"] = \"10:00:00\"  # previously \"06:00:00\"\n",
    "config[\"default\"][\"home\"][\"earliestEndTime\"] = \"07:00:00\"  # previously \"06:00:00\"\n",
    "\n",
    "scorer = CharyparNagelPlanScorer(cnfg=config)\n",
    "\n",
    "optimised, _ = grid.grid_search(\n",
    "    plans[0], plans_scorer=scorer, config=config[\"default\"], step=1800  # step size is in seconds\n",
    ")\n",
    "optimised.plot()"
   ]
  },
  {
   "cell_type": "markdown",
   "metadata": {},
   "source": [
    "By adjusting our scorer to value time at home more, we can see that the grid search has found a new schedule with later start time and shorter work duration. We can use this approach to refine our configuration to one that we prefer."
   ]
  },
  {
   "cell_type": "markdown",
   "metadata": {},
   "source": [
    "## Measuring Change\n",
    "\n",
    "The planner.encode module supports endoding plans in a way that they can be quantitively compared. This might be used as a systematic way to identify plans that are \"wrong\" or not correctly scored. In the following example we use a one-hot encoding of plans to show which of our example plans changes most when resheduled using the grid search:"
   ]
  },
  {
   "cell_type": "code",
   "execution_count": 9,
   "metadata": {
    "execution": {
     "iopub.execute_input": "2023-09-22T10:52:42.239067Z",
     "iopub.status.busy": "2023-09-22T10:52:42.238955Z",
     "iopub.status.idle": "2023-09-22T10:52:42.284261Z",
     "shell.execute_reply": "2023-09-22T10:52:42.283937Z"
    }
   },
   "outputs": [],
   "source": [
    "from pam.array import distance, encode\n",
    "\n",
    "mapping = {\"home\": 0, \"travel\": 1, \"shop\": 2, \"work\": 3}  # activity type to column index map\n",
    "# Example one-hot encoding:\n",
    "encode.plan_to_one_hot(plans[0], mapping)"
   ]
  },
  {
   "cell_type": "code",
   "execution_count": 10,
   "metadata": {
    "execution": {
     "iopub.execute_input": "2023-09-22T10:52:42.286022Z",
     "iopub.status.busy": "2023-09-22T10:52:42.285908Z",
     "iopub.status.idle": "2023-09-22T10:52:42.289756Z",
     "shell.execute_reply": "2023-09-22T10:52:42.289489Z"
    }
   },
   "outputs": [],
   "source": [
    "ranked = []\n",
    "for name, plan, optimised in zip([\"Ahmed\", \"Brenda\", \"Cookie\"], plans, optimised_by_grid):\n",
    "    plan_encoded = encode.plan_to_one_hot(plan, mapping, bin_size=900)\n",
    "    optimised_encoded = encode.plan_to_one_hot(optimised, mapping, bin_size=900)\n",
    "    difference = distance.accuracy(plan_encoded, optimised_encoded)\n",
    "    ranked.append((name, difference))\n",
    "\n",
    "ranked = sorted(ranked, key=lambda x: x[1], reverse=True)\n",
    "\n",
    "for name, score in ranked:\n",
    "    print(name, score)"
   ]
  },
  {
   "cell_type": "markdown",
   "metadata": {
    "execution": {
     "iopub.execute_input": "2023-08-09T10:05:16.221447Z",
     "iopub.status.busy": "2023-08-09T10:05:16.220373Z",
     "iopub.status.idle": "2023-08-09T10:05:16.225766Z",
     "shell.execute_reply": "2023-08-09T10:05:16.224918Z"
    }
   },
   "source": [
    "Ahmed's plan has changed most. This could be interpretted as them having the \"worst configuration\"."
   ]
  }
 ],
 "metadata": {
  "interpreter": {
   "hash": "270b2096f688d13ad6e93cc6328e32b64288e195592f9db2d9ed6e7d60cfcc3a"
  },
  "kernelspec": {
   "display_name": "Python 3.7.3 ('pam')",
   "language": "python",
   "name": "python3"
  },
  "language_info": {
   "codemirror_mode": {
    "name": "ipython",
    "version": 3
   },
   "file_extension": ".py",
   "mimetype": "text/x-python",
   "name": "python",
   "nbconvert_exporter": "python",
   "pygments_lexer": "ipython3",
   "version": "3.11.8"
  }
 },
 "nbformat": 4,
 "nbformat_minor": 2
}
