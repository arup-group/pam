{
 "cells": [
  {
   "attachments": {},
   "cell_type": "markdown",
   "id": "822e628f",
   "metadata": {},
   "source": [
    "# MATSim Warm-Starting\n",
    "\n",
    "PAM can load experienced MATSim plans, make modifications, then write new input MATSim plans. This allows for changes to be made to a population or network without invalidating the MATSim plans.\n",
    "\n",
    "For example, consider the case where we have the outputs from a MATSim baseline simulation. We want to test a new scenario that makes a minor change to some parts of the network, this includes removing some links. We would like to reuse the output baseline plans. They contain our best initial guess for agent choices for times, modes and routes, including for unselected plans. However, we cannot resue these plans as they are, because they include routes that are now impossible due to our new scenario removing some links.\n",
    "\n",
    "PAM allows us to read in these experienced plans, remove routes from agents that use these links, then write back to a valid format for our new scenario."
   ]
  },
  {
   "cell_type": "code",
   "execution_count": 1,
   "id": "6935f368",
   "metadata": {
    "execution": {
     "iopub.execute_input": "2023-08-09T10:05:35.083728Z",
     "iopub.status.busy": "2023-08-09T10:05:35.083206Z",
     "iopub.status.idle": "2023-08-09T10:05:36.461711Z",
     "shell.execute_reply": "2023-08-09T10:05:36.460999Z"
    }
   },
   "outputs": [],
   "source": [
    "from pathlib import Path\n",
    "\n",
    "from pam.read import read_matsim\n",
    "from pam.write import write_matsim"
   ]
  },
  {
   "cell_type": "markdown",
   "id": "6826dcec",
   "metadata": {},
   "source": [
    "## Load"
   ]
  },
  {
   "cell_type": "code",
   "execution_count": 2,
   "id": "4660f320",
   "metadata": {},
   "outputs": [
    {
     "data": {
      "text/plain": [
       "{'num_households': 6, 'num_people': 6, 'num_activities': 23, 'num_legs': 18}"
      ]
     },
     "execution_count": 2,
     "metadata": {},
     "output_type": "execute_result"
    }
   ],
   "source": [
    "population = read_matsim(\n",
    "    plans_path=Path(\"data/example_data/output_experienced_plans.xml\"), keep_non_selected=True\n",
    ")\n",
    "population.stats"
   ]
  },
  {
   "cell_type": "markdown",
   "id": "6f578ebb",
   "metadata": {},
   "source": [
    "## Define Filters"
   ]
  },
  {
   "cell_type": "code",
   "execution_count": 3,
   "id": "4bfe7b9c",
   "metadata": {},
   "outputs": [],
   "source": [
    "removed_links = [\"1-5\", \"5-1\"]\n",
    "\n",
    "\n",
    "def leg_filter(leg):\n",
    "    for link in removed_links:\n",
    "        if link in leg.route.network_route:\n",
    "            return True\n",
    "        if leg.route.get(\"start_link\") in removed_links:\n",
    "            return True\n",
    "        if leg.route.get(\"end_link\") in removed_links:\n",
    "            return True\n",
    "\n",
    "\n",
    "def plan_filter(plan):\n",
    "    for leg in plan.legs:\n",
    "        if leg_filter(leg):\n",
    "            return True\n",
    "\n",
    "    for act in plan.activities:\n",
    "        if act.location.link in removed_links:\n",
    "            return True"
   ]
  },
  {
   "cell_type": "markdown",
   "id": "8c860eee",
   "metadata": {},
   "source": [
    "## Modify"
   ]
  },
  {
   "cell_type": "code",
   "execution_count": 4,
   "id": "1c09a224",
   "metadata": {},
   "outputs": [],
   "source": [
    "for _, _, person in population.people():\n",
    "    if plan_filter(person.plan):\n",
    "        for leg in person.legs:\n",
    "            leg.route.xml = {}\n",
    "        for activity in person.activities:\n",
    "            activity.location.link = None\n",
    "\n",
    "    for plan in person.plans_non_selected:\n",
    "        if plan_filter(plan):\n",
    "            for leg in plan.legs:\n",
    "                leg.route.xml = {}\n",
    "            for activity in plan.activities:\n",
    "                activity.location.link = None"
   ]
  },
  {
   "cell_type": "markdown",
   "id": "7b5a74ad",
   "metadata": {},
   "source": [
    "## Write"
   ]
  },
  {
   "cell_type": "code",
   "execution_count": 5,
   "id": "c16eb294",
   "metadata": {
    "execution": {
     "iopub.execute_input": "2023-08-09T10:05:36.465777Z",
     "iopub.status.busy": "2023-08-09T10:05:36.465344Z",
     "iopub.status.idle": "2023-08-09T10:05:36.475257Z",
     "shell.execute_reply": "2023-08-09T10:05:36.474426Z"
    }
   },
   "outputs": [],
   "source": [
    "write_matsim(population, Path(\"tmp/warm_plans.xml\"))"
   ]
  },
  {
   "cell_type": "markdown",
   "id": "c0dd426b",
   "metadata": {},
   "source": [
    "If we check these \"warm\" plans we will find that the agent \"Nick\" has had their plan modified. But all other agents have maintained all the original information.\n",
    "\n",
    "It is easy to get warm starting wrong. But it also has great potential to reduce MATSim compute in many cases. Common pitfalls include:\n",
    "\n",
    "- failing to remove all the required information (remember that link and transit facility ids are also included in agent leg attributes and activity attributes)\n",
    "- accidentally removing plans or activities (make sure that crop=False when reading plans)\n",
    "- creating impossible plans (such as by using an unknown mode)\n",
    "\n",
    "We have added three common methods for warm starting to the PAM cli:\n",
    "\n",
    "- [crop](../../api/cli/#pam-crop) (but note this does not currently support unselected plans)\n",
    "- [wipe_links](../../api/cli/#wipe-links)\n",
    "- [wipe_all_links](../../api/cli/#wipe-all-links)"
   ]
  },
  {
   "cell_type": "markdown",
   "id": "7b630574",
   "metadata": {},
   "source": []
  }
 ],
 "metadata": {
  "kernelspec": {
   "display_name": "Python 3.8.2 64-bit ('3.8.2')",
   "language": "python",
   "name": "python3"
  },
  "language_info": {
   "codemirror_mode": {
    "name": "ipython",
    "version": 3
   },
   "file_extension": ".py",
   "mimetype": "text/x-python",
   "name": "python",
   "nbconvert_exporter": "python",
   "pygments_lexer": "ipython3",
   "version": "3.11.4"
  },
  "vscode": {
   "interpreter": {
    "hash": "c2a90f01ee7329c0dc072323d04ab57047490a620cb7d1fe86527d3a3edaf28c"
   }
  }
 },
 "nbformat": 4,
 "nbformat_minor": 5
}
