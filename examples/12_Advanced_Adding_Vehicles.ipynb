{
 "cells": [
  {
   "attachments": {},
   "cell_type": "markdown",
   "id": "9d49e600",
   "metadata": {},
   "source": [
    "# Adding vehicles to plans\n",
    "\n",
    "In this example, we show how an existing set of plans can be updated to include additional vehicles."
   ]
  },
  {
   "cell_type": "code",
   "execution_count": 1,
   "id": "99886b74",
   "metadata": {
    "ExecuteTime": {
     "end_time": "2022-03-29T14:42:44.363475Z",
     "start_time": "2022-03-29T14:42:40.343662Z"
    },
    "execution": {
     "iopub.execute_input": "2023-08-09T10:05:26.665042Z",
     "iopub.status.busy": "2023-08-09T10:05:26.664596Z",
     "iopub.status.idle": "2023-08-09T10:05:28.136750Z",
     "shell.execute_reply": "2023-08-09T10:05:28.136053Z"
    }
   },
   "outputs": [],
   "source": [
    "import logging\n",
    "import random\n",
    "from pathlib import Path\n",
    "from pprint import pprint\n",
    "\n",
    "from pam import read, write\n",
    "from pam.core import Person\n",
    "from pam.vehicles import ElectricVehicle, Vehicle, VehicleType"
   ]
  },
  {
   "cell_type": "code",
   "execution_count": 2,
   "id": "bf11ad33",
   "metadata": {
    "execution": {
     "iopub.execute_input": "2023-08-09T10:05:28.141334Z",
     "iopub.status.busy": "2023-08-09T10:05:28.140630Z",
     "iopub.status.idle": "2023-08-09T10:05:28.167786Z",
     "shell.execute_reply": "2023-08-09T10:05:28.166822Z"
    }
   },
   "outputs": [
    {
     "data": {
      "text/plain": [
       "{'num_households': 51,\n",
       " 'num_people': 51,\n",
       " 'num_activities': 153,\n",
       " 'num_legs': 102}"
      ]
     },
     "execution_count": 2,
     "metadata": {},
     "output_type": "execute_result"
    }
   ],
   "source": [
    "# load up example population\n",
    "data_path = Path(\"data/example_data/vehicles\")\n",
    "population = read.read_matsim(data_path / \"example_plans.xml\")\n",
    "population.stats"
   ]
  },
  {
   "cell_type": "markdown",
   "id": "07d29b3e",
   "metadata": {},
   "source": [
    "## Giving agents vehicles\n",
    "\n",
    "A simple approach is to create some vehicles and assign them to our agents"
   ]
  },
  {
   "cell_type": "code",
   "execution_count": 3,
   "id": "ba8a7108",
   "metadata": {
    "execution": {
     "iopub.execute_input": "2023-08-09T10:05:28.171483Z",
     "iopub.status.busy": "2023-08-09T10:05:28.171120Z",
     "iopub.status.idle": "2023-08-09T10:05:28.178992Z",
     "shell.execute_reply": "2023-08-09T10:05:28.177811Z"
    }
   },
   "outputs": [],
   "source": [
    "# now we randomly assign some vehicles and electric vehicles using these types\n",
    "\n",
    "for hid, pid, p in population.people():\n",
    "    if random.random() < 0.2:  # 20% change of having an ev\n",
    "        # evs have the type \"small_car\"\n",
    "        p.vehicles = {\"car\": ElectricVehicle(pid, type_id=\"small_car\", battery_capacity=100)}\n",
    "    else:\n",
    "        if random.random() < 0.5:  # 40% change of having a regular vehicle of type \"small_car\"\n",
    "            p.vehicles = {\"car\": Vehicle(pid, type_id=\"small_car\")}\n",
    "        else:  # 40% change of having a vehicle of type \"ev\"\n",
    "            p.vehicles = {\"car\": Vehicle(pid, type_id=\"large_car\")}\n",
    "\n",
    "    # note that we specify the key as \"car\" as this is the transport \"mode\""
   ]
  },
  {
   "cell_type": "markdown",
   "id": "3296f8ae",
   "metadata": {},
   "source": [
    "Pam expects each person to contain their vehicles as a dictionary, mapping the mode of the vehicle (eg \"car\") to the vehicle. Vehicles (both regular and electric) must minimally define a unique vehicle id (`vid`) and a type (`type_id`).\n",
    "\n",
    "Please note that MATSim will not support a person having more than one vehicle for a mode. However if we plan to run a complex multi-modal MATSim simulation, then we might define multiple modes (taking care to maintain unique identifiers for each vehicle):"
   ]
  },
  {
   "cell_type": "code",
   "execution_count": 4,
   "id": "52da83e8",
   "metadata": {
    "execution": {
     "iopub.execute_input": "2023-08-09T10:05:28.183389Z",
     "iopub.status.busy": "2023-08-09T10:05:28.182990Z",
     "iopub.status.idle": "2023-08-09T10:05:28.189453Z",
     "shell.execute_reply": "2023-08-09T10:05:28.188421Z"
    }
   },
   "outputs": [],
   "source": [
    "person = Person(\"0\")\n",
    "person.vehicles = {\n",
    "    \"car\": Vehicle(\"car_0\", \"small_car\"),\n",
    "    \"taxi\": Vehicle(\"taxi_0\", \"large_car\"),\n",
    "    \"bike\": Vehicle(\"bike_0\", \"pedal_bike\"),\n",
    "}"
   ]
  },
  {
   "cell_type": "markdown",
   "id": "fb31cf97",
   "metadata": {},
   "source": [
    "\n",
    "Electric vehicles can contain additional information about the vehicle battery state and charger access. These are designed to work with the MATSim electric vehicles extension:"
   ]
  },
  {
   "cell_type": "code",
   "execution_count": 5,
   "id": "9100244d",
   "metadata": {
    "execution": {
     "iopub.execute_input": "2023-08-09T10:05:28.194761Z",
     "iopub.status.busy": "2023-08-09T10:05:28.194295Z",
     "iopub.status.idle": "2023-08-09T10:05:28.200816Z",
     "shell.execute_reply": "2023-08-09T10:05:28.199729Z"
    }
   },
   "outputs": [],
   "source": [
    "person = Person(\"1\")\n",
    "person.vehicles = {\n",
    "    \"car\": ElectricVehicle(\n",
    "        vid=\"car_0\",\n",
    "        type_id=\"small_car\",\n",
    "        battery_capacity=60,  # kWh\n",
    "        initial_soc=60,  # kWh\n",
    "        charger_types=\"default\",  # supported charger types; comma-separated list: 'default,other'\n",
    "    )\n",
    "}"
   ]
  },
  {
   "attachments": {},
   "cell_type": "markdown",
   "id": "cdc4fab8",
   "metadata": {},
   "source": [
    "## Vehicle types\n",
    "\n",
    "If we want to write our vehicles to MATSim format, then we need to also define the vehicle types. In the above examples we described three vehicle types, a `small_car`, `large_car`, and `pedal_bike`. We define these types by adding them to the population:"
   ]
  },
  {
   "cell_type": "code",
   "execution_count": 6,
   "id": "37f14279",
   "metadata": {
    "ExecuteTime": {
     "end_time": "2022-03-29T14:42:45.237653Z",
     "start_time": "2022-03-29T14:42:45.226734Z"
    },
    "execution": {
     "iopub.execute_input": "2023-08-09T10:05:28.205655Z",
     "iopub.status.busy": "2023-08-09T10:05:28.205215Z",
     "iopub.status.idle": "2023-08-09T10:05:28.211348Z",
     "shell.execute_reply": "2023-08-09T10:05:28.210343Z"
    }
   },
   "outputs": [],
   "source": [
    "# first define some vehicle types and add them to the population via the vehicles_manager\n",
    "population.add_veh_type(VehicleType(\"small_car\"))\n",
    "population.add_veh_type(VehicleType(\"large_car\", length=15, width=2))\n",
    "population.add_veh_type(VehicleType(\"pedal_bike\", length=2, width=1))"
   ]
  },
  {
   "cell_type": "markdown",
   "id": "de40c7eb",
   "metadata": {},
   "source": [
    "The population has a vehicles manager will be ultimately responsible for managing our vehicles and their types, including reading and writing them from MATSim format. We can check for consistency between person vehicles and population vehicle types:"
   ]
  },
  {
   "cell_type": "code",
   "execution_count": 7,
   "id": "acc25511",
   "metadata": {
    "execution": {
     "iopub.execute_input": "2023-08-09T10:05:28.216084Z",
     "iopub.status.busy": "2023-08-09T10:05:28.215520Z",
     "iopub.status.idle": "2023-08-09T10:05:28.221476Z",
     "shell.execute_reply": "2023-08-09T10:05:28.220394Z"
    }
   },
   "outputs": [],
   "source": [
    "assert population.check_vehicles()"
   ]
  },
  {
   "attachments": {},
   "cell_type": "markdown",
   "id": "6a36eec6",
   "metadata": {},
   "source": [
    "So far we are using a lot of default values (especially for the ElectricVehicles). Defaults follow the same defaults as defined in MATSim's dtd files; [vehicleDefinitions_v2.0.xsd](https://www.matsim.org/files/dtd/vehicleDefinitions_v2.0.xsd) and [electric_vehicles_v1.dtd](https://www.matsim.org/files/dtd/electric_vehicles_v1.dtd).\n",
    "\n",
    "## Writing to MATSim format\n",
    "\n",
    "We can use the standard pam.write to write these vehicle formats to disk by providing a vehicles and, optionally, an electric vehciles path."
   ]
  },
  {
   "cell_type": "code",
   "execution_count": 8,
   "id": "f62b3d76",
   "metadata": {
    "execution": {
     "iopub.execute_input": "2023-08-09T10:05:28.226404Z",
     "iopub.status.busy": "2023-08-09T10:05:28.225694Z",
     "iopub.status.idle": "2023-08-09T10:05:28.262890Z",
     "shell.execute_reply": "2023-08-09T10:05:28.261744Z"
    }
   },
   "outputs": [
    {
     "name": "stderr",
     "output_type": "stream",
     "text": [
      "INFO:root:Building population vehicles output.\n",
      "INFO:root:Writing vehicle types to ./tmp/vehicles.xml\n",
      "INFO:root:Writing vehicles to ./tmp/vehicles.xml\n",
      "INFO:root:Writing electric vehicles to ./tmp/evs.xml\n"
     ]
    }
   ],
   "source": [
    "logging.basicConfig()\n",
    "logging.getLogger().setLevel(logging.INFO)\n",
    "\n",
    "write.write_matsim(\n",
    "    population,\n",
    "    plans_path=\"./tmp/plans.xml\",\n",
    "    vehs_path=\"./tmp/vehicles.xml\",\n",
    "    evs_path=\"./tmp/evs.xml\",\n",
    ")"
   ]
  },
  {
   "cell_type": "markdown",
   "id": "32cbb3d1",
   "metadata": {},
   "source": [
    "Because MATSim has very strict requirements about vehicle identities and types, we also provide a \"safer\" interface for adding vehicles, which ensures that vehicle ids are unique and types defined:"
   ]
  },
  {
   "cell_type": "code",
   "execution_count": 9,
   "id": "47eca69b",
   "metadata": {
    "execution": {
     "iopub.execute_input": "2023-08-09T10:05:28.268472Z",
     "iopub.status.busy": "2023-08-09T10:05:28.268005Z",
     "iopub.status.idle": "2023-08-09T10:05:28.278635Z",
     "shell.execute_reply": "2023-08-09T10:05:28.277492Z"
    }
   },
   "outputs": [
    {
     "name": "stdout",
     "output_type": "stream",
     "text": [
      "Unable to add vehicle with duplicate vehicle id (vid): 0\n",
      "Unable to add vehicle with unknown type: 'flying_car'.\n"
     ]
    }
   ],
   "source": [
    "population.add_veh(\"census_0\", \"census_0\", \"car\", Vehicle(\"0\", \"large_car\"))\n",
    "\n",
    "try:\n",
    "    population.add_veh(\"census_1\", \"census_1\", \"car\", Vehicle(\"0\", \"large_car\"))\n",
    "except Exception as e:\n",
    "    print(e)\n",
    "\n",
    "try:\n",
    "    population.add_veh(\"census_1\", \"census_1\", \"car\", Vehicle(\"1\", \"flying_car\"))\n",
    "except Exception as e:\n",
    "    print(e)"
   ]
  },
  {
   "cell_type": "markdown",
   "id": "b12dee38",
   "metadata": {},
   "source": [
    "This interface is a little clunky and slow (it checks all existing ids each time), so we don't use in the following example."
   ]
  },
  {
   "attachments": {},
   "cell_type": "markdown",
   "id": "dd2f6894",
   "metadata": {},
   "source": [
    "## Modifying vehicles in existing MATSim population\n",
    "\n",
    "Pam can also read vehicles (and electric vehicles) from an existing MATSim population. These can then be checked and/or modified before writing a new population."
   ]
  },
  {
   "cell_type": "code",
   "execution_count": 10,
   "id": "ef218b2b",
   "metadata": {
    "execution": {
     "iopub.execute_input": "2023-08-09T10:05:28.283920Z",
     "iopub.status.busy": "2023-08-09T10:05:28.283430Z",
     "iopub.status.idle": "2023-08-09T10:05:28.319541Z",
     "shell.execute_reply": "2023-08-09T10:05:28.318578Z"
    }
   },
   "outputs": [],
   "source": [
    "population = read.read_matsim(\n",
    "    plans_path=data_path / \"plans.xml\",\n",
    "    all_vehicles_path=data_path / \"vehicles.xml\",\n",
    "    electric_vehicles_path=data_path / \"evs.xml\",\n",
    ")"
   ]
  },
  {
   "cell_type": "code",
   "execution_count": 11,
   "id": "cac01951",
   "metadata": {
    "execution": {
     "iopub.execute_input": "2023-08-09T10:05:28.324535Z",
     "iopub.status.busy": "2023-08-09T10:05:28.324100Z",
     "iopub.status.idle": "2023-08-09T10:05:28.331969Z",
     "shell.execute_reply": "2023-08-09T10:05:28.331090Z"
    }
   },
   "outputs": [
    {
     "name": "stdout",
     "output_type": "stream",
     "text": [
      "{'large_car': VehicleType(id='large_car',\n",
      "                          length=15.0,\n",
      "                          width=2.0,\n",
      "                          networkMode='car',\n",
      "                          capacity=CapacityType(seats=4,\n",
      "                                                standingRoomInPersons=0),\n",
      "                          description='personal_vehicle',\n",
      "                          passengerCarEquivalents=1.0,\n",
      "                          flowEfficiencyFactor=1.0),\n",
      " 'small_car': VehicleType(id='small_car',\n",
      "                          length=7.5,\n",
      "                          width=1.0,\n",
      "                          networkMode='car',\n",
      "                          capacity=CapacityType(seats=4,\n",
      "                                                standingRoomInPersons=0),\n",
      "                          description='personal_vehicle',\n",
      "                          passengerCarEquivalents=1.0,\n",
      "                          flowEfficiencyFactor=1.0)}\n",
      "Population has 31 small cars.\n",
      "Population has 11 evs.\n"
     ]
    }
   ],
   "source": [
    "pprint(population.vehicle_types)\n",
    "print(\n",
    "    f\"Population has {len([v for _, _, _, v  in population.vehicles() if v.type_id == 'small_car'])} small cars.\"\n",
    ")\n",
    "print(f\"Population has {len(list(population.evs()))} evs.\")"
   ]
  },
  {
   "cell_type": "code",
   "execution_count": 12,
   "id": "de97f45a",
   "metadata": {
    "execution": {
     "iopub.execute_input": "2023-08-09T10:05:28.337295Z",
     "iopub.status.busy": "2023-08-09T10:05:28.336820Z",
     "iopub.status.idle": "2023-08-09T10:05:28.343921Z",
     "shell.execute_reply": "2023-08-09T10:05:28.342811Z"
    }
   },
   "outputs": [],
   "source": [
    "# 50% chance of large_car type switching to small_car\n",
    "for _, pid, person in population.people():\n",
    "    veh = person.vehicles.get(\"car\")\n",
    "    if isinstance(veh, Vehicle) and veh.type_id == \"large_car\":\n",
    "        if random.random() < 0.5:\n",
    "            person.vehicles[\"car\"] = Vehicle(pid, \"small_car\")"
   ]
  },
  {
   "cell_type": "code",
   "execution_count": 13,
   "id": "f230a9e3",
   "metadata": {
    "ExecuteTime": {
     "end_time": "2022-03-29T14:42:45.345617Z",
     "start_time": "2022-03-29T14:42:45.331419Z"
    },
    "execution": {
     "iopub.execute_input": "2023-08-09T10:05:28.349445Z",
     "iopub.status.busy": "2023-08-09T10:05:28.348942Z",
     "iopub.status.idle": "2023-08-09T10:05:28.357282Z",
     "shell.execute_reply": "2023-08-09T10:05:28.356146Z"
    }
   },
   "outputs": [
    {
     "name": "stdout",
     "output_type": "stream",
     "text": [
      "{'large_car': VehicleType(id='large_car',\n",
      "                          length=15.0,\n",
      "                          width=2.0,\n",
      "                          networkMode='car',\n",
      "                          capacity=CapacityType(seats=4,\n",
      "                                                standingRoomInPersons=0),\n",
      "                          description='personal_vehicle',\n",
      "                          passengerCarEquivalents=1.0,\n",
      "                          flowEfficiencyFactor=1.0),\n",
      " 'small_car': VehicleType(id='small_car',\n",
      "                          length=7.5,\n",
      "                          width=1.0,\n",
      "                          networkMode='car',\n",
      "                          capacity=CapacityType(seats=4,\n",
      "                                                standingRoomInPersons=0),\n",
      "                          description='personal_vehicle',\n",
      "                          passengerCarEquivalents=1.0,\n",
      "                          flowEfficiencyFactor=1.0)}\n",
      "{'car': Vehicle(vid='census_38', type_id='small_car')}\n",
      "Population has 40 small cars.\n",
      "Population has 11 evs.\n"
     ]
    }
   ],
   "source": [
    "pprint(population.vehicle_types)\n",
    "pprint(population.random_person().vehicles)\n",
    "print(\n",
    "    f\"Population has {len([v for _, _, _, v  in population.vehicles() if v.type_id == 'small_car'])} small cars.\"\n",
    ")\n",
    "print(f\"Population has {len(list(population.evs()))} evs.\")"
   ]
  },
  {
   "cell_type": "code",
   "execution_count": 14,
   "id": "c35b2698",
   "metadata": {
    "ExecuteTime": {
     "end_time": "2022-03-29T14:42:45.879322Z",
     "start_time": "2022-03-29T14:42:45.367053Z"
    },
    "execution": {
     "iopub.execute_input": "2023-08-09T10:05:28.362086Z",
     "iopub.status.busy": "2023-08-09T10:05:28.361651Z",
     "iopub.status.idle": "2023-08-09T10:05:28.368535Z",
     "shell.execute_reply": "2023-08-09T10:05:28.367548Z"
    }
   },
   "outputs": [],
   "source": [
    "# 10% chance of small_car type switching to electric vehicle\n",
    "for _, pid, person in population.people():\n",
    "    veh = person.vehicles.get(\"car\")\n",
    "    if isinstance(veh, Vehicle) and veh.type_id == \"small_car\":\n",
    "        if random.random() < 0.5:\n",
    "            person.vehicles[\"car\"] = ElectricVehicle(pid, \"small_car\")"
   ]
  },
  {
   "cell_type": "code",
   "execution_count": 15,
   "id": "dcfa94aa",
   "metadata": {
    "execution": {
     "iopub.execute_input": "2023-08-09T10:05:28.373141Z",
     "iopub.status.busy": "2023-08-09T10:05:28.372378Z",
     "iopub.status.idle": "2023-08-09T10:05:28.378798Z",
     "shell.execute_reply": "2023-08-09T10:05:28.378036Z"
    }
   },
   "outputs": [
    {
     "name": "stdout",
     "output_type": "stream",
     "text": [
      "{'large_car': VehicleType(id='large_car',\n",
      "                          length=15.0,\n",
      "                          width=2.0,\n",
      "                          networkMode='car',\n",
      "                          capacity=CapacityType(seats=4,\n",
      "                                                standingRoomInPersons=0),\n",
      "                          description='personal_vehicle',\n",
      "                          passengerCarEquivalents=1.0,\n",
      "                          flowEfficiencyFactor=1.0),\n",
      " 'small_car': VehicleType(id='small_car',\n",
      "                          length=7.5,\n",
      "                          width=1.0,\n",
      "                          networkMode='car',\n",
      "                          capacity=CapacityType(seats=4,\n",
      "                                                standingRoomInPersons=0),\n",
      "                          description='personal_vehicle',\n",
      "                          passengerCarEquivalents=1.0,\n",
      "                          flowEfficiencyFactor=1.0)}\n",
      "Population has 40 small cars.\n",
      "Population has 30 evs.\n"
     ]
    }
   ],
   "source": [
    "pprint(population.vehicle_types)\n",
    "print(\n",
    "    f\"Population has {len([v for _, _, _, v  in population.vehicles() if v.type_id == 'small_car'])} small cars.\"\n",
    ")\n",
    "print(f\"Population has {len(list(population.evs()))} evs.\")"
   ]
  },
  {
   "cell_type": "code",
   "execution_count": 16,
   "id": "f2dc56e1",
   "metadata": {
    "execution": {
     "iopub.execute_input": "2023-08-09T10:05:28.382662Z",
     "iopub.status.busy": "2023-08-09T10:05:28.382314Z",
     "iopub.status.idle": "2023-08-09T10:05:28.409779Z",
     "shell.execute_reply": "2023-08-09T10:05:28.408934Z"
    }
   },
   "outputs": [
    {
     "name": "stderr",
     "output_type": "stream",
     "text": [
      "INFO:root:Building population vehicles output.\n",
      "INFO:root:Writing vehicle types to ./tmp/vehicles.xml\n",
      "INFO:root:Writing vehicles to ./tmp/vehicles.xml\n",
      "INFO:root:Writing electric vehicles to ./tmp/evs.xml\n"
     ]
    }
   ],
   "source": [
    "logging.basicConfig()\n",
    "logging.getLogger().setLevel(logging.INFO)\n",
    "\n",
    "write.write_matsim(\n",
    "    population,\n",
    "    plans_path=\"./tmp/plans.xml\",\n",
    "    vehs_path=\"./tmp/vehicles.xml\",\n",
    "    evs_path=\"./tmp/evs.xml\",\n",
    ")"
   ]
  },
  {
   "cell_type": "code",
   "execution_count": null,
   "id": "53e2fc29",
   "metadata": {},
   "outputs": [],
   "source": []
  }
 ],
 "metadata": {
  "kernelspec": {
   "display_name": "pam",
   "language": "python",
   "name": "python3"
  },
  "language_info": {
   "codemirror_mode": {
    "name": "ipython",
    "version": 3
   },
   "file_extension": ".py",
   "mimetype": "text/x-python",
   "name": "python",
   "nbconvert_exporter": "python",
   "pygments_lexer": "ipython3",
   "version": "3.11.4"
  },
  "latex_envs": {
   "LaTeX_envs_menu_present": true,
   "autoclose": true,
   "autocomplete": true,
   "bibliofile": "biblio.bib",
   "cite_by": "apalike",
   "current_citInitial": 1,
   "eqLabelWithNumbers": true,
   "eqNumInitial": 1,
   "hotkeys": {
    "equation": "Ctrl-E",
    "itemize": "Ctrl-I"
   },
   "labels_anchors": false,
   "latex_user_defs": false,
   "report_style_numbering": false,
   "user_envs_cfg": false
  },
  "toc": {
   "base_numbering": 1,
   "nav_menu": {},
   "number_sections": true,
   "sideBar": true,
   "skip_h1_title": false,
   "title_cell": "Table of Contents",
   "title_sidebar": "Contents",
   "toc_cell": false,
   "toc_position": {},
   "toc_section_display": true,
   "toc_window_display": false
  },
  "varInspector": {
   "cols": {
    "lenName": 16,
    "lenType": 16,
    "lenVar": 40
   },
   "kernels_config": {
    "python": {
     "delete_cmd_postfix": "",
     "delete_cmd_prefix": "del ",
     "library": "var_list.py",
     "varRefreshCmd": "print(var_dic_list())"
    },
    "r": {
     "delete_cmd_postfix": ") ",
     "delete_cmd_prefix": "rm(",
     "library": "var_list.r",
     "varRefreshCmd": "cat(var_dic_list()) "
    }
   },
   "types_to_exclude": [
    "module",
    "function",
    "builtin_function_or_method",
    "instance",
    "_Feature"
   ],
   "window_display": false
  }
 },
 "nbformat": 4,
 "nbformat_minor": 5
}
