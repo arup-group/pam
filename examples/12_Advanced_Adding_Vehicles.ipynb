{
 "cells": [
  {
   "attachments": {},
   "cell_type": "markdown",
   "id": "9d49e600",
   "metadata": {},
   "source": [
    "# Adding vehicles to plans\n",
    "\n",
    "In this example, we show how an existing set of plans can be updated to include additional vehicles."
   ]
  },
  {
   "cell_type": "code",
   "execution_count": 1,
   "id": "99886b74",
   "metadata": {
    "ExecuteTime": {
     "end_time": "2022-03-29T14:42:44.363475Z",
     "start_time": "2022-03-29T14:42:40.343662Z"
    },
    "execution": {
     "iopub.execute_input": "2023-06-22T10:53:49.180928Z",
     "iopub.status.busy": "2023-06-22T10:53:49.180670Z",
     "iopub.status.idle": "2023-06-22T10:53:49.610376Z",
     "shell.execute_reply": "2023-06-22T10:53:49.610069Z"
    }
   },
   "outputs": [],
   "source": [
    "import logging\n",
    "import os\n",
    "from pprint import pprint\n",
    "import random\n",
    "from pathlib import Path\n",
    "\n",
    "import pam\n",
    "from pam import vehicles\n",
    "from pam import read, write"
   ]
  },
  {
   "cell_type": "code",
   "execution_count": 2,
   "id": "bf11ad33",
   "metadata": {
    "execution": {
     "iopub.execute_input": "2023-06-22T10:53:49.612112Z",
     "iopub.status.busy": "2023-06-22T10:53:49.611989Z",
     "iopub.status.idle": "2023-06-22T10:53:49.619129Z",
     "shell.execute_reply": "2023-06-22T10:53:49.618882Z"
    }
   },
   "outputs": [
    {
     "data": {
      "text/plain": [
       "{'num_households': 51,\n",
       " 'num_people': 51,\n",
       " 'num_activities': 153,\n",
       " 'num_legs': 102}"
      ]
     },
     "execution_count": 2,
     "metadata": {},
     "output_type": "execute_result"
    }
   ],
   "source": [
    "# load up example population\n",
    "data_path = Path(\"data/example_data\")\n",
    "pop = read.read_matsim(data_path / \"example_plans.xml\")\n",
    "pop.stats"
   ]
  },
  {
   "attachments": {},
   "cell_type": "markdown",
   "id": "cdc4fab8",
   "metadata": {},
   "source": [
    "## Simple example of vehicle assignment\n",
    "\n",
    "Below we assign vehicles to agents for the \"car\" mode."
   ]
  },
  {
   "cell_type": "code",
   "execution_count": 3,
   "id": "37f14279",
   "metadata": {
    "ExecuteTime": {
     "end_time": "2022-03-29T14:42:45.237653Z",
     "start_time": "2022-03-29T14:42:45.226734Z"
    },
    "execution": {
     "iopub.execute_input": "2023-06-22T10:53:49.625091Z",
     "iopub.status.busy": "2023-06-22T10:53:49.625002Z",
     "iopub.status.idle": "2023-06-22T10:53:49.626860Z",
     "shell.execute_reply": "2023-06-22T10:53:49.626612Z"
    }
   },
   "outputs": [],
   "source": [
    "# first define some vehicle types and add them to the population via the vehicles_manager\n",
    "pop.vehicles_manager.add_type(\"small_car\", vehicles.VehicleType())\n",
    "pop.vehicles_manager.add_type(\"large_car\", vehicles.VehicleType(length=15, width=2))"
   ]
  },
  {
   "cell_type": "code",
   "execution_count": 4,
   "id": "22a76800",
   "metadata": {
    "ExecuteTime": {
     "end_time": "2022-03-29T14:42:45.301541Z",
     "start_time": "2022-03-29T14:42:45.260533Z"
    },
    "execution": {
     "iopub.execute_input": "2023-06-22T10:53:49.628246Z",
     "iopub.status.busy": "2023-06-22T10:53:49.628153Z",
     "iopub.status.idle": "2023-06-22T10:53:49.630261Z",
     "shell.execute_reply": "2023-06-22T10:53:49.630005Z"
    }
   },
   "outputs": [],
   "source": [
    "# now we randomly assign some vehicles and electric vehicles using these types\n",
    "\n",
    "for hid, pid, p in pop.people():\n",
    "    if random.random() < 0.2:  # 20% change of having an ev\n",
    "        # evs have the type \"small_car\"\n",
    "        p.vehicles = {\"car\": vehicles.ElectricVehicle(pid, type_id=\"small_car\", battery_capacity=100)}\n",
    "    else:\n",
    "        if random.random() < 0.5:  # 40% change of having a regular vehicle of type \"small_car\"\n",
    "            p.vehicles = {\"car\": vehicles.Vehicle(pid, type_id=\"small_car\")}\n",
    "        else:  # 40% change of having a vehicle of type \"ev\"\n",
    "            p.vehicles = {\"car\": vehicles.Vehicle(pid, type_id=\"large_car\")}\n",
    "   \n",
    "    # note that we specify the key as \"car\" as this is the transport \"mode\""
   ]
  },
  {
   "attachments": {},
   "cell_type": "markdown",
   "id": "6a36eec6",
   "metadata": {},
   "source": [
    "So far we are using a lot of default values (especially for the ElectricVehciles). Defaults follow the same defaults as defined in MATSim's dtd files; [vehicleDefinitions_v2.0.xsd](https://www.matsim.org/files/dtd/vehicleDefinitions_v2.0.xsd) and [electric_vehicles_v1.dtd](https://www.matsim.org/files/dtd/electric_vehicles_v1.dtd).\n",
    "\n",
    "We can use the standard pam.write to write these vehicle formats to disk by providing a vehicles and, optionally, an electric vehciles path."
   ]
  },
  {
   "cell_type": "code",
   "execution_count": 5,
   "metadata": {},
   "outputs": [
    {
     "name": "stderr",
     "output_type": "stream",
     "text": [
      "INFO:root:Building population vehicles output.\n",
      "INFO:root:Writing vehicle types to ./tmp/vehicles.xml\n",
      "INFO:root:Writing vehicles to ./tmp/vehicles.xml\n",
      "INFO:root:Writing electric vehicles to ./tmp/evs.xml\n"
     ]
    }
   ],
   "source": [
    "logging.basicConfig()\n",
    "logging.getLogger().setLevel(logging.INFO)\n",
    "\n",
    "write.write_matsim(\n",
    "    pop,\n",
    "    plans_path=\"./tmp/plans.xml\",\n",
    "    vehs_path=\"./tmp/vehicles.xml\",\n",
    "    evs_path=\"./tmp/evs.xml\"\n",
    "    )"
   ]
  },
  {
   "attachments": {},
   "cell_type": "markdown",
   "id": "dd2f6894",
   "metadata": {},
   "source": [
    "## Modifying vehicles in existing MATSim population\n",
    "\n",
    "Pam can also read vehicles (and electric vehicles) from an existing MATSim population. These can then be checked and/or modified before writing a new population."
   ]
  },
  {
   "cell_type": "code",
   "execution_count": 6,
   "id": "ef218b2b",
   "metadata": {},
   "outputs": [],
   "source": [
    "pop = read.read_matsim(\n",
    "    plans_path = data_path / \"plans.xml\",\n",
    "    all_vehicles_path = data_path / \"vehicles.xml\",\n",
    "    electric_vehicles_path = data_path / \"evs.xml\"\n",
    "    )"
   ]
  },
  {
   "cell_type": "code",
   "execution_count": 7,
   "metadata": {},
   "outputs": [
    {
     "name": "stdout",
     "output_type": "stream",
     "text": [
      "{'large_car': VehicleType(length=15.0, width=2.0, networkMode='car', capacity=CapacityType(seats=4, standingRoomInPersons=0), description='personal_vehicle', passengerCarEquivalents=1.0, flowEfficiencyFactor=1.0),\n",
      " 'small_car': VehicleType(length=7.5, width=1.0, networkMode='car', capacity=CapacityType(seats=4, standingRoomInPersons=0), description='personal_vehicle', passengerCarEquivalents=1.0, flowEfficiencyFactor=1.0)}\n",
      "{'car': Vehicle(vid='census_49', type_id='large_car')}\n",
      "Population has 31 small cars.\n",
      "Population has 11 evs.\n"
     ]
    }
   ],
   "source": [
    "pprint(pop.vehicles_manager.veh_types)\n",
    "pprint(pop.random_person().vehicles)\n",
    "print(f\"Population has {len([v for _, _, _, v  in pop.vehicles() if v.type_id == 'small_car'])} small cars.\")\n",
    "print(f\"Population has {len(list(pop.evs()))} evs.\")"
   ]
  },
  {
   "cell_type": "code",
   "execution_count": 8,
   "id": "de97f45a",
   "metadata": {},
   "outputs": [],
   "source": [
    "# 50% chance of large_car type switching to small_car\n",
    "for _, pid, person in pop.people():\n",
    "    veh = person.vehicles.get(\"car\")\n",
    "    if isinstance(veh, vehicles.Vehicle) and veh.type_id == \"large_car\":\n",
    "        if random.random() < .5:\n",
    "            person.vehicles[\"car\"] = vehicles.Vehicle(pid, \"small_car\")"
   ]
  },
  {
   "cell_type": "code",
   "execution_count": 9,
   "id": "f230a9e3",
   "metadata": {
    "ExecuteTime": {
     "end_time": "2022-03-29T14:42:45.345617Z",
     "start_time": "2022-03-29T14:42:45.331419Z"
    },
    "execution": {
     "iopub.execute_input": "2023-06-22T10:53:49.637780Z",
     "iopub.status.busy": "2023-06-22T10:53:49.637689Z",
     "iopub.status.idle": "2023-06-22T10:53:49.639561Z",
     "shell.execute_reply": "2023-06-22T10:53:49.639284Z"
    }
   },
   "outputs": [
    {
     "name": "stdout",
     "output_type": "stream",
     "text": [
      "{'large_car': VehicleType(length=15.0, width=2.0, networkMode='car', capacity=CapacityType(seats=4, standingRoomInPersons=0), description='personal_vehicle', passengerCarEquivalents=1.0, flowEfficiencyFactor=1.0),\n",
      " 'small_car': VehicleType(length=7.5, width=1.0, networkMode='car', capacity=CapacityType(seats=4, standingRoomInPersons=0), description='personal_vehicle', passengerCarEquivalents=1.0, flowEfficiencyFactor=1.0)}\n",
      "{'car': Vehicle(vid='census_5', type_id='large_car')}\n",
      "Population has 41 small cars.\n",
      "Population has 11 evs.\n"
     ]
    }
   ],
   "source": [
    "pprint(pop.vehicles_manager.veh_types)\n",
    "pprint(pop.random_person().vehicles)\n",
    "print(f\"Population has {len([v for _, _, _, v  in pop.vehicles() if v.type_id == 'small_car'])} small cars.\")\n",
    "print(f\"Population has {len(list(pop.evs()))} evs.\")"
   ]
  },
  {
   "cell_type": "code",
   "execution_count": 10,
   "id": "c35b2698",
   "metadata": {
    "ExecuteTime": {
     "end_time": "2022-03-29T14:42:45.879322Z",
     "start_time": "2022-03-29T14:42:45.367053Z"
    },
    "execution": {
     "iopub.execute_input": "2023-06-22T10:53:49.640993Z",
     "iopub.status.busy": "2023-06-22T10:53:49.640899Z",
     "iopub.status.idle": "2023-06-22T10:53:49.652055Z",
     "shell.execute_reply": "2023-06-22T10:53:49.651742Z"
    }
   },
   "outputs": [],
   "source": [
    "# 10% chance of small_car type switching to electric vehcile\n",
    "for _, pid, person in pop.people():\n",
    "    veh = person.vehicles.get(\"car\")\n",
    "    if isinstance(veh, vehicles.Vehicle) and veh.type_id == \"small_car\":\n",
    "        if random.random() < .5:\n",
    "            person.vehicles[\"car\"] = vehicles.ElectricVehicle(pid, \"small_car\")"
   ]
  },
  {
   "cell_type": "code",
   "execution_count": 11,
   "id": "dcfa94aa",
   "metadata": {},
   "outputs": [
    {
     "name": "stdout",
     "output_type": "stream",
     "text": [
      "{'large_car': VehicleType(length=15.0, width=2.0, networkMode='car', capacity=CapacityType(seats=4, standingRoomInPersons=0), description='personal_vehicle', passengerCarEquivalents=1.0, flowEfficiencyFactor=1.0),\n",
      " 'small_car': VehicleType(length=7.5, width=1.0, networkMode='car', capacity=CapacityType(seats=4, standingRoomInPersons=0), description='personal_vehicle', passengerCarEquivalents=1.0, flowEfficiencyFactor=1.0)}\n",
      "{'car': Vehicle(vid='census_46', type_id='large_car')}\n",
      "Population has 41 small cars.\n",
      "Population has 28 evs.\n"
     ]
    }
   ],
   "source": [
    "pprint(pop.vehicles_manager.veh_types)\n",
    "pprint(pop.random_person().vehicles)\n",
    "print(f\"Population has {len([v for _, _, _, v  in pop.vehicles() if v.type_id == 'small_car'])} small cars.\")\n",
    "print(f\"Population has {len(list(pop.evs()))} evs.\")"
   ]
  },
  {
   "cell_type": "code",
   "execution_count": 12,
   "id": "f2dc56e1",
   "metadata": {},
   "outputs": [
    {
     "name": "stderr",
     "output_type": "stream",
     "text": [
      "INFO:root:Building population vehicles output.\n",
      "INFO:root:Writing vehicle types to ./tmp/vehicles.xml\n",
      "INFO:root:Writing vehicles to ./tmp/vehicles.xml\n",
      "INFO:root:Writing electric vehicles to ./tmp/evs.xml\n"
     ]
    }
   ],
   "source": [
    "logging.basicConfig()\n",
    "logging.getLogger().setLevel(logging.INFO)\n",
    "\n",
    "write.write_matsim(\n",
    "    pop,\n",
    "    plans_path=\"./tmp/plans.xml\",\n",
    "    vehs_path=\"./tmp/vehicles.xml\",\n",
    "    evs_path=\"./tmp/evs.xml\"\n",
    "    )"
   ]
  },
  {
   "cell_type": "code",
   "execution_count": null,
   "id": "0f50869f",
   "metadata": {},
   "outputs": [],
   "source": []
  }
 ],
 "metadata": {
  "kernelspec": {
   "display_name": "pam",
   "language": "python",
   "name": "python3"
  },
  "language_info": {
   "codemirror_mode": {
    "name": "ipython",
    "version": 3
   },
   "file_extension": ".py",
   "mimetype": "text/x-python",
   "name": "python",
   "nbconvert_exporter": "python",
   "pygments_lexer": "ipython3",
   "version": "3.9.16"
  },
  "latex_envs": {
   "LaTeX_envs_menu_present": true,
   "autoclose": true,
   "autocomplete": true,
   "bibliofile": "biblio.bib",
   "cite_by": "apalike",
   "current_citInitial": 1,
   "eqLabelWithNumbers": true,
   "eqNumInitial": 1,
   "hotkeys": {
    "equation": "Ctrl-E",
    "itemize": "Ctrl-I"
   },
   "labels_anchors": false,
   "latex_user_defs": false,
   "report_style_numbering": false,
   "user_envs_cfg": false
  },
  "toc": {
   "base_numbering": 1,
   "nav_menu": {},
   "number_sections": true,
   "sideBar": true,
   "skip_h1_title": false,
   "title_cell": "Table of Contents",
   "title_sidebar": "Contents",
   "toc_cell": false,
   "toc_position": {},
   "toc_section_display": true,
   "toc_window_display": false
  },
  "varInspector": {
   "cols": {
    "lenName": 16,
    "lenType": 16,
    "lenVar": 40
   },
   "kernels_config": {
    "python": {
     "delete_cmd_postfix": "",
     "delete_cmd_prefix": "del ",
     "library": "var_list.py",
     "varRefreshCmd": "print(var_dic_list())"
    },
    "r": {
     "delete_cmd_postfix": ") ",
     "delete_cmd_prefix": "rm(",
     "library": "var_list.r",
     "varRefreshCmd": "cat(var_dic_list()) "
    }
   },
   "types_to_exclude": [
    "module",
    "function",
    "builtin_function_or_method",
    "instance",
    "_Feature"
   ],
   "window_display": false
  }
 },
 "nbformat": 4,
 "nbformat_minor": 5
}
