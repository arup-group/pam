{
 "cells": [
  {
   "attachments": {},
   "cell_type": "markdown",
   "id": "9d49e600",
   "metadata": {},
   "source": [
    "# Adding vehicles to the plans\n",
    "\n",
    "In this example, we show how an existing set of plans can be updated to include additional vehicles."
   ]
  },
  {
   "cell_type": "code",
   "execution_count": 1,
   "id": "99886b74",
   "metadata": {
    "ExecuteTime": {
     "end_time": "2022-03-29T14:42:44.363475Z",
     "start_time": "2022-03-29T14:42:40.343662Z"
    },
    "execution": {
     "iopub.execute_input": "2023-07-31T13:01:49.709491Z",
     "iopub.status.busy": "2023-07-31T13:01:49.709355Z",
     "iopub.status.idle": "2023-07-31T13:01:50.670205Z",
     "shell.execute_reply": "2023-07-31T13:01:50.669740Z"
    }
   },
   "outputs": [],
   "source": [
    "import logging\n",
    "import os\n",
    "import random\n",
    "from pprint import pprint\n",
    "\n",
    "import pam\n",
    "import pam.vehicle\n",
    "from pam import read, write"
   ]
  },
  {
   "cell_type": "code",
   "execution_count": 2,
   "id": "bf11ad33",
   "metadata": {
    "execution": {
     "iopub.execute_input": "2023-07-31T13:01:50.673282Z",
     "iopub.status.busy": "2023-07-31T13:01:50.672986Z",
     "iopub.status.idle": "2023-07-31T13:01:50.683638Z",
     "shell.execute_reply": "2023-07-31T13:01:50.683198Z"
    }
   },
   "outputs": [],
   "source": [
    "# load up population\n",
    "data_path = os.path.join(\"data\", \"example_data\")\n",
    "pop = read.read_matsim(os.path.join(data_path, \"example_plans.xml\"), version=12)"
   ]
  },
  {
   "cell_type": "code",
   "execution_count": 3,
   "id": "404133c9",
   "metadata": {
    "ExecuteTime": {
     "end_time": "2022-03-29T14:42:45.223443Z",
     "start_time": "2022-03-29T14:42:45.191374Z"
    },
    "execution": {
     "iopub.execute_input": "2023-07-31T13:01:50.686156Z",
     "iopub.status.busy": "2023-07-31T13:01:50.685950Z",
     "iopub.status.idle": "2023-07-31T13:01:50.691912Z",
     "shell.execute_reply": "2023-07-31T13:01:50.691462Z"
    }
   },
   "outputs": [
    {
     "data": {
      "text/plain": [
       "{'num_households': 51,\n",
       " 'num_people': 51,\n",
       " 'num_activities': 153,\n",
       " 'num_legs': 102}"
      ]
     },
     "execution_count": 3,
     "metadata": {},
     "output_type": "execute_result"
    }
   ],
   "source": [
    "pop.stats"
   ]
  },
  {
   "attachments": {},
   "cell_type": "markdown",
   "id": "62e01c80",
   "metadata": {},
   "source": [
    "## Simple example of vehicle assignment\n",
    "\n",
    "Below we assign vehicles to agents with a car mode in their plans. We give default vehicles or default electric vehicles to random agents. Defaults follow the same defaults as defined in MATSim's dtd files:\n",
    "[vehicleDefinitions_v2.0.xsd](https://www.matsim.org/files/dtd/vehicleDefinitions_v2.0.xsd) and\n",
    "[electric_vehicles_v1.dtd](https://www.matsim.org/files/dtd/electric_vehicles_v1.dtd). Saving this population to matsim files will produce these files."
   ]
  },
  {
   "cell_type": "code",
   "execution_count": 4,
   "id": "37f14279",
   "metadata": {
    "ExecuteTime": {
     "end_time": "2022-03-29T14:42:45.237653Z",
     "start_time": "2022-03-29T14:42:45.226734Z"
    },
    "execution": {
     "iopub.execute_input": "2023-07-31T13:01:50.694109Z",
     "iopub.status.busy": "2023-07-31T13:01:50.693928Z",
     "iopub.status.idle": "2023-07-31T13:01:50.697000Z",
     "shell.execute_reply": "2023-07-31T13:01:50.696625Z"
    }
   },
   "outputs": [],
   "source": [
    "# let's define some vehicles\n",
    "\n",
    "default_ev_vehicle_type = pam.vehicle.VehicleType(\"default_EV\")\n",
    "big_ev_vehicle_type = pam.vehicle.VehicleType(\"big_EV\", length=15, width=2)\n",
    "default_vehicle_type = pam.vehicle.VehicleType(\"default_car\")"
   ]
  },
  {
   "cell_type": "code",
   "execution_count": 5,
   "id": "22a76800",
   "metadata": {
    "ExecuteTime": {
     "end_time": "2022-03-29T14:42:45.301541Z",
     "start_time": "2022-03-29T14:42:45.260533Z"
    },
    "execution": {
     "iopub.execute_input": "2023-07-31T13:01:50.699160Z",
     "iopub.status.busy": "2023-07-31T13:01:50.698938Z",
     "iopub.status.idle": "2023-07-31T13:01:50.702784Z",
     "shell.execute_reply": "2023-07-31T13:01:50.702406Z"
    }
   },
   "outputs": [],
   "source": [
    "for _hid, pid, p in pop.people():\n",
    "    if \"car\" in p.mode_classes and random.random() < 0.5:\n",
    "        # let's give a vehicle to this person\n",
    "        if random.random() < 0.5:\n",
    "            p.assign_vehicle(pam.vehicle.ElectricVehicle(pid, vehicle_type=default_ev_vehicle_type))\n",
    "        else:\n",
    "            p.assign_vehicle(pam.vehicle.Vehicle(pid, default_vehicle_type))"
   ]
  },
  {
   "attachments": {},
   "cell_type": "markdown",
   "id": "519d7819",
   "metadata": {},
   "source": [
    "You can also change default parameters for ElectricVehicles too. You can set their `battery_capacity` and initial state of charge `initial_soc` and the charger types allowed `charger_types`."
   ]
  },
  {
   "cell_type": "code",
   "execution_count": 6,
   "id": "2d47aa6e",
   "metadata": {
    "ExecuteTime": {
     "end_time": "2022-03-29T14:42:45.309451Z",
     "start_time": "2022-03-29T14:42:45.304058Z"
    },
    "execution": {
     "iopub.execute_input": "2023-07-31T13:01:50.704751Z",
     "iopub.status.busy": "2023-07-31T13:01:50.704571Z",
     "iopub.status.idle": "2023-07-31T13:01:50.707922Z",
     "shell.execute_reply": "2023-07-31T13:01:50.707509Z"
    }
   },
   "outputs": [
    {
     "name": "stdout",
     "output_type": "stream",
     "text": [
      "{'battery_capacity': 60,\n",
      " 'charger_types': 'default',\n",
      " 'id': 'id',\n",
      " 'initial_soc': 60,\n",
      " 'vehicle_type': VehicleType(id='defaultElectricVehicleType',\n",
      "                             length=7.5,\n",
      "                             width=1.0,\n",
      "                             networkMode='car',\n",
      "                             capacity=CapacityType(seats=4,\n",
      "                                                   standingRoomInPersons=0),\n",
      "                             description='personal_vehicle',\n",
      "                             passengerCarEquivalents=1.0,\n",
      "                             flowEfficiencyFactor=1.0)}\n"
     ]
    }
   ],
   "source": [
    "pprint(pam.vehicle.ElectricVehicle(\"id\").__dict__)"
   ]
  },
  {
   "cell_type": "code",
   "execution_count": 7,
   "id": "4e756730",
   "metadata": {
    "ExecuteTime": {
     "end_time": "2022-03-29T14:42:45.328449Z",
     "start_time": "2022-03-29T14:42:45.313575Z"
    },
    "execution": {
     "iopub.execute_input": "2023-07-31T13:01:50.710073Z",
     "iopub.status.busy": "2023-07-31T13:01:50.709934Z",
     "iopub.status.idle": "2023-07-31T13:01:50.713491Z",
     "shell.execute_reply": "2023-07-31T13:01:50.713013Z"
    }
   },
   "outputs": [
    {
     "data": {
      "text/plain": [
       "5"
      ]
     },
     "execution_count": 7,
     "metadata": {},
     "output_type": "execute_result"
    }
   ],
   "source": [
    "len(set(pop.electric_vehicles()))"
   ]
  },
  {
   "cell_type": "code",
   "execution_count": 8,
   "id": "f230a9e3",
   "metadata": {
    "ExecuteTime": {
     "end_time": "2022-03-29T14:42:45.345617Z",
     "start_time": "2022-03-29T14:42:45.331419Z"
    },
    "execution": {
     "iopub.execute_input": "2023-07-31T13:01:50.715913Z",
     "iopub.status.busy": "2023-07-31T13:01:50.715701Z",
     "iopub.status.idle": "2023-07-31T13:01:50.719425Z",
     "shell.execute_reply": "2023-07-31T13:01:50.718997Z"
    }
   },
   "outputs": [
    {
     "data": {
      "text/plain": [
       "{'default'}"
      ]
     },
     "execution_count": 8,
     "metadata": {},
     "output_type": "execute_result"
    }
   ],
   "source": [
    "pop.electric_vehicle_charger_types()"
   ]
  },
  {
   "cell_type": "code",
   "execution_count": 9,
   "id": "c35b2698",
   "metadata": {
    "ExecuteTime": {
     "end_time": "2022-03-29T14:42:45.879322Z",
     "start_time": "2022-03-29T14:42:45.367053Z"
    },
    "execution": {
     "iopub.execute_input": "2023-07-31T13:01:50.721622Z",
     "iopub.status.busy": "2023-07-31T13:01:50.721409Z",
     "iopub.status.idle": "2023-07-31T13:01:50.742266Z",
     "shell.execute_reply": "2023-07-31T13:01:50.741880Z"
    }
   },
   "outputs": [
    {
     "name": "stderr",
     "output_type": "stream",
     "text": [
      "INFO:root:Population includes vehicles\n"
     ]
    },
    {
     "name": "stderr",
     "output_type": "stream",
     "text": [
      "INFO:root:Saving vehicles to ./tmp\n"
     ]
    },
    {
     "name": "stderr",
     "output_type": "stream",
     "text": [
      "INFO:root:Writing all vehicles to ./tmp/all_vehicles.xml\n"
     ]
    },
    {
     "name": "stderr",
     "output_type": "stream",
     "text": [
      "INFO:root:Population includes electric vehicles\n"
     ]
    },
    {
     "name": "stderr",
     "output_type": "stream",
     "text": [
      "INFO:root:Writing electric vehicles to ./tmp/electric_vehicles.xml\n"
     ]
    },
    {
     "name": "stderr",
     "output_type": "stream",
     "text": [
      "INFO:root:Found 5 electric vehicles with unique charger types: {'default'}. Ensure you generate a chargers xml file: https://www.matsim.org/files/dtd/chargers_v1.dtd if you're running a simulation using org.matsim.contrib.ev\n"
     ]
    }
   ],
   "source": [
    "logging.basicConfig()\n",
    "logging.getLogger().setLevel(logging.INFO)\n",
    "\n",
    "write.write_matsim(pop, plans_path=\"./tmp/plans.xml\", vehicles_dir=\"./tmp\")"
   ]
  }
 ],
 "metadata": {
  "kernelspec": {
   "display_name": "pam",
   "language": "python",
   "name": "pam"
  },
  "language_info": {
   "codemirror_mode": {
    "name": "ipython",
    "version": 3
   },
   "file_extension": ".py",
   "mimetype": "text/x-python",
   "name": "python",
   "nbconvert_exporter": "python",
   "pygments_lexer": "ipython3",
   "version": "3.11.4"
  },
  "latex_envs": {
   "LaTeX_envs_menu_present": true,
   "autoclose": true,
   "autocomplete": true,
   "bibliofile": "biblio.bib",
   "cite_by": "apalike",
   "current_citInitial": 1,
   "eqLabelWithNumbers": true,
   "eqNumInitial": 1,
   "hotkeys": {
    "equation": "Ctrl-E",
    "itemize": "Ctrl-I"
   },
   "labels_anchors": false,
   "latex_user_defs": false,
   "report_style_numbering": false,
   "user_envs_cfg": false
  },
  "toc": {
   "base_numbering": 1,
   "nav_menu": {},
   "number_sections": true,
   "sideBar": true,
   "skip_h1_title": false,
   "title_cell": "Table of Contents",
   "title_sidebar": "Contents",
   "toc_cell": false,
   "toc_position": {},
   "toc_section_display": true,
   "toc_window_display": false
  },
  "varInspector": {
   "cols": {
    "lenName": 16,
    "lenType": 16,
    "lenVar": 40
   },
   "kernels_config": {
    "python": {
     "delete_cmd_postfix": "",
     "delete_cmd_prefix": "del ",
     "library": "var_list.py",
     "varRefreshCmd": "print(var_dic_list())"
    },
    "r": {
     "delete_cmd_postfix": ") ",
     "delete_cmd_prefix": "rm(",
     "library": "var_list.r",
     "varRefreshCmd": "cat(var_dic_list()) "
    }
   },
   "types_to_exclude": [
    "module",
    "function",
    "builtin_function_or_method",
    "instance",
    "_Feature"
   ],
   "window_display": false
  }
 },
 "nbformat": 4,
 "nbformat_minor": 5
}
