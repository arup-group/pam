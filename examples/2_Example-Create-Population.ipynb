{
 "cells": [
  {
   "cell_type": "markdown",
   "id": "irish-pharmacology",
   "metadata": {},
   "source": [
    "# Example-Create-Population"
   ]
  },
  {
   "cell_type": "markdown",
   "id": "disciplinary-software",
   "metadata": {},
   "source": [
    "This notebook demonstrates an example workflow for creating a sample population manually. It creates test agent plans of five person and households and exports plans and agent characteristics to xml format for MATSim."
   ]
  },
  {
   "cell_type": "code",
   "execution_count": 1,
   "id": "allied-setting",
   "metadata": {
    "ExecuteTime": {
     "end_time": "2021-03-19T16:00:15.468090Z",
     "start_time": "2021-03-19T16:00:14.542849Z"
    }
   },
   "outputs": [],
   "source": [
    "from shapely.geometry import Point\n",
    "\n",
    "from pam.core import Population, Household, Person\n",
    "from pam.activity import Plan, Activity, Leg\n",
    "from pam.utils import minutes_to_datetime as mtdt\n",
    "from pam.variables import END_OF_DAY\n",
    "from pam.write import write_matsim"
   ]
  },
  {
   "cell_type": "markdown",
   "id": "august-oasis",
   "metadata": {},
   "source": [
    "### Create a empty population"
   ]
  },
  {
   "cell_type": "code",
   "execution_count": 2,
   "id": "substantial-crazy",
   "metadata": {
    "ExecuteTime": {
     "end_time": "2021-03-19T16:00:15.491570Z",
     "start_time": "2021-03-19T16:00:15.471358Z"
    }
   },
   "outputs": [],
   "source": [
    "population = Population()  # initialise an empty population"
   ]
  },
  {
   "cell_type": "markdown",
   "id": "developing-eugene",
   "metadata": {},
   "source": [
    "### Create Person A"
   ]
  },
  {
   "cell_type": "code",
   "execution_count": 3,
   "id": "broadband-launch",
   "metadata": {
    "ExecuteTime": {
     "end_time": "2021-03-19T16:00:15.520501Z",
     "start_time": "2021-03-19T16:00:15.495149Z"
    }
   },
   "outputs": [],
   "source": [
    "# Create Person A and their household\n",
    "Tom = Person(\"Tom\", attributes={\"subpopulation\":\"medium income\"})  # Add personal attributes\n",
    "Tom_hh = Household(\"Tom\")"
   ]
  },
  {
   "cell_type": "markdown",
   "id": "binary-hostel",
   "metadata": {},
   "source": [
    "#### Add Activity Plans to Person A"
   ]
  },
  {
   "cell_type": "code",
   "execution_count": 4,
   "id": "equivalent-degree",
   "metadata": {
    "ExecuteTime": {
     "end_time": "2021-03-19T16:00:15.551500Z",
     "start_time": "2021-03-19T16:00:15.524536Z"
    }
   },
   "outputs": [],
   "source": [
    "#Adding Activities and Legs alternately. Legs are equivalent to 'trips'\n",
    "Tom.add(\n",
    "    Activity(\n",
    "        seq=1,\n",
    "        act='home',\n",
    "        link =\"1-1\",\n",
    "        loc=Point((0,5100)),\n",
    "        start_time=mtdt(0),\n",
    "        end_time=mtdt(445)\n",
    "    )\n",
    ")\n",
    "\n",
    "Tom.add(\n",
    "    Leg(\n",
    "        seq=1,\n",
    "        mode='car',\n",
    "        start_loc=Point((0,5100)),\n",
    "        end_loc=Point((5100,5100)),\n",
    "        start_time=mtdt(445),\n",
    "        end_time=mtdt(505)\n",
    "    )\n",
    ")\n",
    "\n",
    "Tom.add(\n",
    "    Activity(\n",
    "        seq=2,\n",
    "        act='work',\n",
    "        link =\"2-2\",\n",
    "        loc=Point((5100,5100)),\n",
    "        start_time=mtdt(505),\n",
    "        end_time=mtdt(990)\n",
    "    )\n",
    ")\n",
    "\n",
    "Tom.add(\n",
    "    Leg(\n",
    "        seq=2,\n",
    "        mode='car',\n",
    "        start_loc=Point((5100,5100)),\n",
    "        end_loc=Point((0,5100)),\n",
    "        start_time=mtdt(990),\n",
    "        end_time=mtdt(1050)\n",
    "    )\n",
    ")\n",
    "\n",
    "Tom.add(\n",
    "    Activity(\n",
    "        seq=3,\n",
    "        act='home',\n",
    "        link =\"1-1\",\n",
    "        loc=Point((0,5100)),\n",
    "        start_time=mtdt(1050),\n",
    "        end_time=END_OF_DAY\n",
    "    )\n",
    ")\n",
    "\n",
    "Tom_hh.add(Tom)\n",
    "population.add(Tom_hh)"
   ]
  },
  {
   "cell_type": "markdown",
   "id": "chubby-jerusalem",
   "metadata": {},
   "source": [
    "Let's check out the plot of Person A"
   ]
  },
  {
   "cell_type": "code",
   "execution_count": 5,
   "id": "geological-profile",
   "metadata": {
    "ExecuteTime": {
     "end_time": "2021-03-19T16:00:15.770591Z",
     "start_time": "2021-03-19T16:00:15.554021Z"
    },
    "scrolled": false
   },
   "outputs": [
    {
     "data": {
      "image/png": "[encoded data removed]",
      "text/plain": [
       "<Figure size 1152x216 with 1 Axes>"
      ]
     },
     "metadata": {
      "needs_background": "light"
     },
     "output_type": "display_data"
    }
   ],
   "source": [
    "Tom.plot()"
   ]
  },
  {
   "cell_type": "markdown",
   "id": "aboriginal-charger",
   "metadata": {},
   "source": [
    "### Create Person B"
   ]
  },
  {
   "cell_type": "code",
   "execution_count": 6,
   "id": "czech-package",
   "metadata": {
    "ExecuteTime": {
     "end_time": "2021-03-19T16:00:15.795433Z",
     "start_time": "2021-03-19T16:00:15.776669Z"
    }
   },
   "outputs": [],
   "source": [
    "Jim_hh = Household(\"Jim\")\n",
    "Jim = Person(\"Jim\", attributes={\"subpopulation\": \"electric\"})"
   ]
  },
  {
   "cell_type": "markdown",
   "id": "guilty-pleasure",
   "metadata": {},
   "source": [
    "#### Add Activity Plans to Person B"
   ]
  },
  {
   "cell_type": "code",
   "execution_count": 7,
   "id": "blind-logistics",
   "metadata": {
    "ExecuteTime": {
     "end_time": "2021-03-19T16:00:15.835132Z",
     "start_time": "2021-03-19T16:00:15.800566Z"
    }
   },
   "outputs": [],
   "source": [
    "#Adding Activities and Legs alternately\n",
    "Jim.add(\n",
    "    Activity(\n",
    "        seq=1,\n",
    "        act='home',\n",
    "        link =\"1-1\",\n",
    "        loc=Point((0,5100)),\n",
    "        start_time=mtdt(0),\n",
    "        end_time=mtdt(445)\n",
    "    )\n",
    ")\n",
    "Jim.add(\n",
    "    Leg(\n",
    "        seq=1,\n",
    "        mode='car',\n",
    "        start_loc=Point((0,5100)),\n",
    "        end_loc=Point((5100,5100)),\n",
    "        start_time=mtdt(445),\n",
    "        end_time=mtdt(505)\n",
    "    )\n",
    ")\n",
    "Jim.add(\n",
    "    Activity(\n",
    "        seq=2,\n",
    "        act='work',\n",
    "        link =\"2-2\",\n",
    "        loc=Point((5100,5100)),\n",
    "        start_time=mtdt(505),\n",
    "        end_time=mtdt(990)\n",
    "    )\n",
    ")\n",
    "Jim.add(\n",
    "    Leg(\n",
    "        seq=2,\n",
    "        mode='car',\n",
    "        start_loc=Point((5100,5100)),\n",
    "        end_loc=Point((0,5100)),\n",
    "        start_time=mtdt(990),\n",
    "        end_time=mtdt(1050)\n",
    "    )\n",
    ")\n",
    "Jim.add(\n",
    "    Activity(\n",
    "        seq=1,\n",
    "        act='home',\n",
    "        link =\"1-1\",\n",
    "        loc=Point((0,5100)),\n",
    "        start_time=mtdt(1050),\n",
    "        end_time=END_OF_DAY\n",
    "    )\n",
    ")\n",
    "\n",
    "\n",
    "Jim_hh.add(Jim)\n",
    "population.add(Jim_hh)"
   ]
  },
  {
   "cell_type": "markdown",
   "id": "gentle-bristol",
   "metadata": {},
   "source": [
    "### Create Person C"
   ]
  },
  {
   "cell_type": "code",
   "execution_count": 8,
   "id": "controlling-insider",
   "metadata": {
    "ExecuteTime": {
     "end_time": "2021-03-19T16:00:15.861249Z",
     "start_time": "2021-03-19T16:00:15.838164Z"
    }
   },
   "outputs": [],
   "source": [
    "Ryan_hh = Household(\"Ryan\")\n",
    "Ryan = Person(\"Ryan\", attributes={\"subpopulation\":\"medium income\"})"
   ]
  },
  {
   "cell_type": "markdown",
   "id": "searching-ceramic",
   "metadata": {},
   "source": [
    "#### Add Activity Plans to Person C"
   ]
  },
  {
   "cell_type": "code",
   "execution_count": 9,
   "id": "literary-shopper",
   "metadata": {
    "ExecuteTime": {
     "end_time": "2021-03-19T16:00:15.891142Z",
     "start_time": "2021-03-19T16:00:15.863390Z"
    }
   },
   "outputs": [],
   "source": [
    "#Adding Activities and Legs alternately\n",
    "Ryan.add(\n",
    "    Activity(\n",
    "        seq=1,\n",
    "        act='home',\n",
    "        link =\"1-1\",\n",
    "        loc=Point((0,5100)),\n",
    "        start_time=mtdt(0),\n",
    "        end_time=mtdt(445)\n",
    "    )\n",
    ")\n",
    "Ryan.add(\n",
    "    Leg(\n",
    "        seq=1,\n",
    "        mode='bus',\n",
    "        start_loc=Point((0,5100)),\n",
    "        end_loc=Point((5100,5100)),\n",
    "        start_time=mtdt(445),\n",
    "        end_time=mtdt(505)\n",
    "    )\n",
    ")\n",
    "Ryan.add(\n",
    "    Activity(\n",
    "        seq=2,\n",
    "        act='work',\n",
    "        link =\"2-2\",\n",
    "        loc=Point((5100,5100)),\n",
    "        start_time=mtdt(505),\n",
    "        end_time=mtdt(990)\n",
    "    )\n",
    ")\n",
    "Ryan.add(\n",
    "    Leg(\n",
    "        seq=2,\n",
    "        mode='bus',\n",
    "        start_loc=Point((5100,5100)),\n",
    "        end_loc=Point((0,5100)),\n",
    "        start_time=mtdt(990),\n",
    "        end_time=mtdt(1050)\n",
    "    )\n",
    ")\n",
    "Ryan.add(\n",
    "    Activity(\n",
    "        seq=3,\n",
    "        act='home',\n",
    "        link =\"1-1\",\n",
    "        loc=Point((0,5100)),\n",
    "        start_time=mtdt(1050),\n",
    "        end_time=END_OF_DAY\n",
    "    )\n",
    ")\n",
    "\n",
    "Ryan_hh.add(Ryan)\n",
    "population.add(Ryan_hh)"
   ]
  },
  {
   "cell_type": "markdown",
   "id": "interim-feeding",
   "metadata": {},
   "source": [
    "### Create Person D"
   ]
  },
  {
   "cell_type": "code",
   "execution_count": 10,
   "id": "union-supervision",
   "metadata": {
    "ExecuteTime": {
     "end_time": "2021-03-19T16:00:15.915434Z",
     "start_time": "2021-03-19T16:00:15.894176Z"
    }
   },
   "outputs": [],
   "source": [
    "Smith_hh = Household(\"Smith\")\n",
    "Smith = Person(\"Smith\", attributes={\"subpopulation\":\"medium income\"})"
   ]
  },
  {
   "cell_type": "markdown",
   "id": "blessed-signature",
   "metadata": {},
   "source": [
    "#### Add Activity Plans to Person D"
   ]
  },
  {
   "cell_type": "code",
   "execution_count": 11,
   "id": "nominated-signature",
   "metadata": {
    "ExecuteTime": {
     "end_time": "2021-03-19T16:00:15.951231Z",
     "start_time": "2021-03-19T16:00:15.918249Z"
    }
   },
   "outputs": [],
   "source": [
    "#Adding Activities and Legs alternately\n",
    "Smith.add(\n",
    "    Activity(\n",
    "        seq=1,\n",
    "        act='home',\n",
    "        link =\"3-3\",\n",
    "        loc=Point((10100,5100)),\n",
    "        start_time=mtdt(0),\n",
    "        end_time=mtdt(445)\n",
    "    )\n",
    ")\n",
    "Smith.add(\n",
    "    Leg(\n",
    "        seq=2,\n",
    "        mode='train',\n",
    "        start_loc=Point((10100,5100)),\n",
    "        end_loc=Point((5100,5100)),\n",
    "        start_time=mtdt(445),\n",
    "        end_time=mtdt(505)\n",
    "    )\n",
    ")\n",
    "Smith.add(\n",
    "    Activity(\n",
    "        seq=2,\n",
    "        act='work',\n",
    "        link =\"2-2\",\n",
    "        loc=Point((5100,5100)),\n",
    "        start_time=mtdt(505),\n",
    "        end_time=mtdt(990)\n",
    "    )\n",
    ")\n",
    "Smith.add(\n",
    "    Leg(\n",
    "        seq=3,\n",
    "        mode='train',\n",
    "        start_loc=Point((5100,5100)),\n",
    "        end_loc=Point((10000,5100)),\n",
    "        start_time=mtdt(990),\n",
    "        end_time=mtdt(1050)\n",
    "    )\n",
    ")\n",
    "Smith.add(\n",
    "    Activity(\n",
    "        seq=3,\n",
    "        act='home',\n",
    "        link =\"3-3\",\n",
    "        loc=Point((10000,5100)),\n",
    "        start_time=mtdt(1050),\n",
    "        end_time=END_OF_DAY\n",
    "    )\n",
    ")\n",
    "\n",
    "Smith_hh.add(Smith)\n",
    "population.add(Smith_hh)"
   ]
  },
  {
   "cell_type": "markdown",
   "id": "played-collective",
   "metadata": {},
   "source": [
    "### Create Person E"
   ]
  },
  {
   "cell_type": "code",
   "execution_count": 12,
   "id": "virtual-sending",
   "metadata": {
    "ExecuteTime": {
     "end_time": "2021-03-19T16:00:15.980394Z",
     "start_time": "2021-03-19T16:00:15.954038Z"
    }
   },
   "outputs": [],
   "source": [
    "Ella_hh = Household(\"Ella\")\n",
    "Ella = Person(\"Ella\", attributes={\"subpopulation\":\"low income\"})"
   ]
  },
  {
   "cell_type": "markdown",
   "id": "nuclear-canon",
   "metadata": {},
   "source": [
    "#### Add Activity Plans to Person E"
   ]
  },
  {
   "cell_type": "code",
   "execution_count": 13,
   "id": "fixed-heating",
   "metadata": {
    "ExecuteTime": {
     "end_time": "2021-03-19T16:00:16.011555Z",
     "start_time": "2021-03-19T16:00:15.982574Z"
    }
   },
   "outputs": [],
   "source": [
    "#Adding Activities and Legs alternately\n",
    "Ella.add(\n",
    "    Activity(\n",
    "        seq=1,\n",
    "        act='home',\n",
    "        link =\"3-3\",\n",
    "        loc=Point((10100,5100)),\n",
    "        start_time=mtdt(0),\n",
    "        end_time=mtdt(445)\n",
    "    )\n",
    ")\n",
    "Ella.add(\n",
    "    Leg(\n",
    "        seq=2,\n",
    "        mode='train',\n",
    "        start_loc=Point((10100,5100)),\n",
    "        end_loc=Point((5100,10000)),\n",
    "        start_time=mtdt(445),\n",
    "        end_time=mtdt(505)\n",
    "    )\n",
    ")\n",
    "Ella.add(\n",
    "    Activity(\n",
    "        seq=2,\n",
    "        act='education',\n",
    "        link =\"4-4\",\n",
    "        loc=Point((5100,10000)),\n",
    "        start_time=mtdt(505),\n",
    "        end_time=mtdt(990)\n",
    "    )\n",
    ")\n",
    "Ella.add(\n",
    "    Leg(\n",
    "        seq=3,\n",
    "        mode='train',\n",
    "        start_loc=Point((5100,10000)),\n",
    "        end_loc=Point((10000,5100)),\n",
    "        start_time=mtdt(990),\n",
    "        end_time=mtdt(1050)\n",
    "    )\n",
    ")\n",
    "Ella.add(\n",
    "    Activity(\n",
    "        seq=3,\n",
    "        act='home',\n",
    "        link =\"3-3\",\n",
    "        loc=Point((10000,5100)),\n",
    "        start_time=mtdt(1050),\n",
    "        end_time=END_OF_DAY\n",
    "    )\n",
    ")\n",
    "\n",
    "Ella_hh.add(Ella)\n",
    "population.add(Ella_hh)"
   ]
  },
  {
   "cell_type": "markdown",
   "id": "backed-scratch",
   "metadata": {},
   "source": [
    "Exports plans to xml format for MATSim"
   ]
  },
  {
   "cell_type": "code",
   "execution_count": 14,
   "id": "instant-video",
   "metadata": {
    "ExecuteTime": {
     "end_time": "2021-03-19T16:00:16.048079Z",
     "start_time": "2021-03-19T16:00:16.014142Z"
    }
   },
   "outputs": [
    {
     "name": "stdout",
     "output_type": "stream",
     "text": [
      "Population: 5 people in 5 households.\n",
      "Household: Tom\n",
      "{}\n",
      "Person: Tom\n",
      "{'subpopulation': 'medium income'}\n",
      "0:\tActivity(1 act:home, location:POINT (0 5100), time:00:00:00 --> 07:25:00, duration:7:25:00)\n",
      "1:\tLeg(1 mode:car, area:POINT (0 5100) --> POINT (5100 5100), time:07:25:00 --> 08:25:00, duration:1:00:00)\n",
      "2:\tActivity(2 act:work, location:POINT (5100 5100), time:08:25:00 --> 16:30:00, duration:8:05:00)\n",
      "3:\tLeg(2 mode:car, area:POINT (5100 5100) --> POINT (0 5100), time:16:30:00 --> 17:30:00, duration:1:00:00)\n",
      "4:\tActivity(3 act:home, location:POINT (0 5100), time:17:30:00 --> 00:00:00, duration:6:30:00)\n",
      "Household: Jim\n",
      "{}\n",
      "Person: Jim\n",
      "{'subpopulation': 'electric'}\n",
      "0:\tActivity(1 act:home, location:POINT (0 5100), time:00:00:00 --> 07:25:00, duration:7:25:00)\n",
      "1:\tLeg(1 mode:car, area:POINT (0 5100) --> POINT (5100 5100), time:07:25:00 --> 08:25:00, duration:1:00:00)\n",
      "2:\tActivity(2 act:work, location:POINT (5100 5100), time:08:25:00 --> 16:30:00, duration:8:05:00)\n",
      "3:\tLeg(2 mode:car, area:POINT (5100 5100) --> POINT (0 5100), time:16:30:00 --> 17:30:00, duration:1:00:00)\n",
      "4:\tActivity(1 act:home, location:POINT (0 5100), time:17:30:00 --> 00:00:00, duration:6:30:00)\n",
      "Household: Ryan\n",
      "{}\n",
      "Person: Ryan\n",
      "{'subpopulation': 'medium income'}\n",
      "0:\tActivity(1 act:home, location:POINT (0 5100), time:00:00:00 --> 07:25:00, duration:7:25:00)\n",
      "1:\tLeg(1 mode:bus, area:POINT (0 5100) --> POINT (5100 5100), time:07:25:00 --> 08:25:00, duration:1:00:00)\n",
      "2:\tActivity(2 act:work, location:POINT (5100 5100), time:08:25:00 --> 16:30:00, duration:8:05:00)\n",
      "3:\tLeg(2 mode:bus, area:POINT (5100 5100) --> POINT (0 5100), time:16:30:00 --> 17:30:00, duration:1:00:00)\n",
      "4:\tActivity(3 act:home, location:POINT (0 5100), time:17:30:00 --> 00:00:00, duration:6:30:00)\n",
      "Household: Smith\n",
      "{}\n",
      "Person: Smith\n",
      "{'subpopulation': 'medium income'}\n",
      "0:\tActivity(1 act:home, location:POINT (10100 5100), time:00:00:00 --> 07:25:00, duration:7:25:00)\n",
      "1:\tLeg(2 mode:train, area:POINT (10100 5100) --> POINT (5100 5100), time:07:25:00 --> 08:25:00, duration:1:00:00)\n",
      "2:\tActivity(2 act:work, location:POINT (5100 5100), time:08:25:00 --> 16:30:00, duration:8:05:00)\n",
      "3:\tLeg(3 mode:train, area:POINT (5100 5100) --> POINT (10000 5100), time:16:30:00 --> 17:30:00, duration:1:00:00)\n",
      "4:\tActivity(3 act:home, location:POINT (10000 5100), time:17:30:00 --> 00:00:00, duration:6:30:00)\n",
      "Household: Ella\n",
      "{}\n",
      "Person: Ella\n",
      "{'subpopulation': 'low income'}\n",
      "0:\tActivity(1 act:home, location:POINT (10100 5100), time:00:00:00 --> 07:25:00, duration:7:25:00)\n",
      "1:\tLeg(2 mode:train, area:POINT (10100 5100) --> POINT (5100 10000), time:07:25:00 --> 08:25:00, duration:1:00:00)\n",
      "2:\tActivity(2 act:education, location:POINT (5100 10000), time:08:25:00 --> 16:30:00, duration:8:05:00)\n",
      "3:\tLeg(3 mode:train, area:POINT (5100 10000) --> POINT (10000 5100), time:16:30:00 --> 17:30:00, duration:1:00:00)\n",
      "4:\tActivity(3 act:home, location:POINT (10000 5100), time:17:30:00 --> 00:00:00, duration:6:30:00)\n"
     ]
    }
   ],
   "source": [
    "population.print()"
   ]
  },
  {
   "cell_type": "code",
   "execution_count": 15,
   "id": "lasting-mileage",
   "metadata": {
    "ExecuteTime": {
     "end_time": "2021-03-19T16:00:16.098422Z",
     "start_time": "2021-03-19T16:00:16.051617Z"
    }
   },
   "outputs": [],
   "source": [
    "write_matsim(population=population, plans_path=\"./outputs/population_v12.xml\", version=12)"
   ]
  },
  {
   "cell_type": "code",
   "execution_count": null,
   "id": "vocal-disclaimer",
   "metadata": {},
   "outputs": [],
   "source": []
  }
 ],
 "metadata": {
  "kernelspec": {
   "display_name": "Python 3",
   "language": "python",
   "name": "python3"
  },
  "language_info": {
   "codemirror_mode": {
    "name": "ipython",
    "version": 3
   },
   "file_extension": ".py",
   "mimetype": "text/x-python",
   "name": "python",
   "nbconvert_exporter": "python",
   "pygments_lexer": "ipython3",
   "version": "3.7.3"
  },
  "toc": {
   "base_numbering": 1,
   "nav_menu": {},
   "number_sections": true,
   "sideBar": true,
   "skip_h1_title": false,
   "title_cell": "Table of Contents",
   "title_sidebar": "Contents",
   "toc_cell": false,
   "toc_position": {},
   "toc_section_display": true,
   "toc_window_display": false
  }
 },
 "nbformat": 4,
 "nbformat_minor": 5
}
