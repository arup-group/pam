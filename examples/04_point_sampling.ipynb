{
 "cells": [
  {
   "attachments": {},
   "cell_type": "markdown",
   "metadata": {},
   "source": [
    "# Point Sampling\n",
    "\n",
    "MATSim requires point locations for all activities and trips. More generally it can be useful to assign geometries to activity location and/or trip origin and destinations. This notebook shows how to sample geometric locations from ozone/dzone regions using a simple random point sampler.\n",
    "\n",
    "More advanced samplers are available in `pam.samplers.spatial`.\n"
   ]
  },
  {
   "cell_type": "code",
   "execution_count": 1,
   "metadata": {
    "ExecuteTime": {
     "end_time": "2020-04-15T14:22:45.434401Z",
     "start_time": "2020-04-15T14:22:43.811833Z"
    },
    "execution": {
     "iopub.execute_input": "2024-04-04T10:40:26.766314Z",
     "iopub.status.busy": "2024-04-04T10:40:26.765811Z",
     "iopub.status.idle": "2024-04-04T10:40:27.759268Z",
     "shell.execute_reply": "2024-04-04T10:40:27.759268Z"
    }
   },
   "outputs": [
    {
     "ename": "ModuleNotFoundError",
     "evalue": "No module named 'pam'",
     "output_type": "error",
     "traceback": [
      "\u001b[1;31m---------------------------------------------------------------------------\u001b[0m",
      "\u001b[1;31mModuleNotFoundError\u001b[0m                       Traceback (most recent call last)",
      "Cell \u001b[1;32mIn[1], line 6\u001b[0m\n\u001b[0;32m      4\u001b[0m \u001b[38;5;28;01mimport\u001b[39;00m \u001b[38;5;21;01mpandas\u001b[39;00m \u001b[38;5;28;01mas\u001b[39;00m \u001b[38;5;21;01mpd\u001b[39;00m\n\u001b[0;32m      5\u001b[0m \u001b[38;5;28;01mfrom\u001b[39;00m \u001b[38;5;21;01mmatplotlib\u001b[39;00m \u001b[38;5;28;01mimport\u001b[39;00m pyplot \u001b[38;5;28;01mas\u001b[39;00m plt\n\u001b[1;32m----> 6\u001b[0m \u001b[38;5;28;01mfrom\u001b[39;00m \u001b[38;5;21;01mpam\u001b[39;00m \u001b[38;5;28;01mimport\u001b[39;00m read\n\u001b[0;32m      7\u001b[0m \u001b[38;5;28;01mfrom\u001b[39;00m \u001b[38;5;21;01mpam\u001b[39;00m\u001b[38;5;21;01m.\u001b[39;00m\u001b[38;5;21;01msamplers\u001b[39;00m\u001b[38;5;21;01m.\u001b[39;00m\u001b[38;5;21;01mspatial\u001b[39;00m \u001b[38;5;28;01mimport\u001b[39;00m RandomPointSampler\n",
      "\u001b[1;31mModuleNotFoundError\u001b[0m: No module named 'pam'"
     ]
    }
   ],
   "source": [
    "import os\n",
    "\n",
    "import geopandas as gp\n",
    "import pandas as pd\n",
    "from matplotlib import pyplot as plt\n",
    "from pam import read\n",
    "from pam.samplers.spatial import RandomPointSampler"
   ]
  },
  {
   "cell_type": "code",
   "execution_count": 2,
   "metadata": {
    "ExecuteTime": {
     "end_time": "2020-04-15T14:23:03.601994Z",
     "start_time": "2020-04-15T14:23:03.510974Z"
    },
    "execution": {
     "iopub.execute_input": "2023-09-22T10:52:15.739185Z",
     "iopub.status.busy": "2023-09-22T10:52:15.739016Z",
     "iopub.status.idle": "2023-09-22T10:52:15.756356Z",
     "shell.execute_reply": "2023-09-22T10:52:15.756044Z"
    }
   },
   "outputs": [],
   "source": [
    "trips = pd.read_csv(\n",
    "    os.path.join(\"data\", \"example_data\", \"example_travel_diaries.csv\"), index_col=\"uid\"\n",
    ")\n",
    "attributes = pd.read_csv(\n",
    "    os.path.join(\"data\", \"example_data\", \"example_attributes.csv\"), index_col=\"pid\"\n",
    ")\n",
    "trips.head(10)"
   ]
  },
  {
   "cell_type": "code",
   "execution_count": 3,
   "metadata": {
    "execution": {
     "iopub.execute_input": "2023-09-22T10:52:15.758024Z",
     "iopub.status.busy": "2023-09-22T10:52:15.757909Z",
     "iopub.status.idle": "2023-09-22T10:52:15.781331Z",
     "shell.execute_reply": "2023-09-22T10:52:15.781042Z"
    }
   },
   "outputs": [],
   "source": [
    "population = read.load_travel_diary(trips, attributes)\n",
    "population.stats"
   ]
  },
  {
   "attachments": {},
   "cell_type": "markdown",
   "metadata": {},
   "source": [
    "## Sample Geometries\n",
    "Transform trip ozone/dzone to geographically sampled points"
   ]
  },
  {
   "cell_type": "code",
   "execution_count": 4,
   "metadata": {
    "execution": {
     "iopub.execute_input": "2023-09-22T10:52:15.782772Z",
     "iopub.status.busy": "2023-09-22T10:52:15.782674Z",
     "iopub.status.idle": "2023-09-22T10:52:15.985738Z",
     "shell.execute_reply": "2023-09-22T10:52:15.985449Z"
    }
   },
   "outputs": [],
   "source": [
    "zones = gp.read_file(os.path.join(\"data\", \"example_data\", \"geometry.geojson\")).set_index(\"NAME\")\n",
    "zones.head()"
   ]
  },
  {
   "cell_type": "code",
   "execution_count": 5,
   "metadata": {
    "execution": {
     "iopub.execute_input": "2023-09-22T10:52:15.987154Z",
     "iopub.status.busy": "2023-09-22T10:52:15.987050Z",
     "iopub.status.idle": "2023-09-22T10:52:15.989123Z",
     "shell.execute_reply": "2023-09-22T10:52:15.988760Z"
    }
   },
   "outputs": [],
   "source": [
    "random_sampler = RandomPointSampler(geoms=zones)"
   ]
  },
  {
   "cell_type": "code",
   "execution_count": 6,
   "metadata": {
    "execution": {
     "iopub.execute_input": "2023-09-22T10:52:15.990899Z",
     "iopub.status.busy": "2023-09-22T10:52:15.990789Z",
     "iopub.status.idle": "2023-09-22T10:52:16.093987Z",
     "shell.execute_reply": "2023-09-22T10:52:16.093705Z"
    }
   },
   "outputs": [],
   "source": [
    "# test\n",
    "fig, ax = plt.subplots(1)\n",
    "zones.plot(ax=ax, color=\"grey\")\n",
    "zones.loc[[\"Camden\"]].plot(ax=ax)\n",
    "point = random_sampler.sample(\"Camden\", activity=None)\n",
    "ax.scatter(point.x, point.y, c=\"red\")"
   ]
  },
  {
   "cell_type": "code",
   "execution_count": 7,
   "metadata": {
    "execution": {
     "iopub.execute_input": "2023-09-22T10:52:16.112794Z",
     "iopub.status.busy": "2023-09-22T10:52:16.112572Z",
     "iopub.status.idle": "2023-09-22T10:52:16.156005Z",
     "shell.execute_reply": "2023-09-22T10:52:16.154613Z"
    }
   },
   "outputs": [],
   "source": [
    "population.sample_locs(random_sampler)  # apply to whole population"
   ]
  },
  {
   "attachments": {},
   "cell_type": "markdown",
   "metadata": {
    "ExecuteTime": {
     "end_time": "2020-04-09T14:32:22.432201Z",
     "start_time": "2020-04-09T14:32:15.568791Z"
    }
   },
   "source": [
    "Let's check out an example Activity Plan and Attributes:"
   ]
  },
  {
   "cell_type": "code",
   "execution_count": 8,
   "metadata": {
    "ExecuteTime": {
     "end_time": "2020-04-15T14:23:58.041512Z",
     "start_time": "2020-04-15T14:23:58.002047Z"
    },
    "execution": {
     "iopub.execute_input": "2023-09-22T10:52:16.166690Z",
     "iopub.status.busy": "2023-09-22T10:52:16.166082Z",
     "iopub.status.idle": "2023-09-22T10:52:16.257728Z",
     "shell.execute_reply": "2023-09-22T10:52:16.257432Z"
    }
   },
   "outputs": [],
   "source": [
    "person = population[\"census_0\"][\"census_0\"]\n",
    "person.print()\n",
    "person.plot()"
   ]
  }
 ],
 "metadata": {
  "kernelspec": {
   "display_name": "pam",
   "language": "python",
   "name": "pam"
  },
  "language_info": {
   "codemirror_mode": {
    "name": "ipython",
    "version": 3
   },
   "file_extension": ".py",
   "mimetype": "text/x-python",
   "name": "python",
   "nbconvert_exporter": "python",
   "pygments_lexer": "ipython3",
   "version": "3.11.8"
  },
  "toc": {
   "base_numbering": 1,
   "nav_menu": {},
   "number_sections": true,
   "sideBar": true,
   "skip_h1_title": true,
   "title_cell": "Table of Contents",
   "title_sidebar": "Contents",
   "toc_cell": false,
   "toc_position": {
    "height": "calc(100% - 180px)",
    "left": "10px",
    "top": "150px",
    "width": "248.333px"
   },
   "toc_section_display": true,
   "toc_window_display": false
  },
  "vscode": {
   "interpreter": {
    "hash": "c2a90f01ee7329c0dc072323d04ab57047490a620cb7d1fe86527d3a3edaf28c"
   }
  }
 },
 "nbformat": 4,
 "nbformat_minor": 2
}
