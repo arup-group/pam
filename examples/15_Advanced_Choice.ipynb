{
 "cells": [
  {
   "cell_type": "code",
   "execution_count": 1,
   "id": "82e63bf7",
   "metadata": {},
   "outputs": [],
   "source": [
    "import pandas as pd\n",
    "from pam.read import read_matsim\n",
    "from pam.planner import choice\n",
    "from pam.operations.cropping import link_population\n",
    "from pam.planner.od import OD, Labels\n",
    "import numpy as np\n",
    "import os"
   ]
  },
  {
   "cell_type": "code",
   "execution_count": 2,
   "id": "4154e47e",
   "metadata": {},
   "outputs": [],
   "source": [
    "%load_ext autoreload\n",
    "%autoreload 2"
   ]
  },
  {
   "cell_type": "code",
   "execution_count": 3,
   "id": "9542e3c7",
   "metadata": {},
   "outputs": [],
   "source": [
    "population = read_matsim(os.path.join('..', 'tests', 'test_data', 'test_matsim_plansv12.xml'))\n",
    "link_population(population)\n",
    "for hid, pid, person in population.people():\n",
    "    for act in person.activities:\n",
    "        act.location.area = 'a' "
   ]
  },
  {
   "cell_type": "code",
   "execution_count": 4,
   "id": "3081485c",
   "metadata": {},
   "outputs": [
    {
     "data": {
      "text/html": [
       "<div>\n",
       "<style scoped>\n",
       "    .dataframe tbody tr th:only-of-type {\n",
       "        vertical-align: middle;\n",
       "    }\n",
       "\n",
       "    .dataframe tbody tr th {\n",
       "        vertical-align: top;\n",
       "    }\n",
       "\n",
       "    .dataframe thead th {\n",
       "        text-align: right;\n",
       "    }\n",
       "</style>\n",
       "<table border=\"1\" class=\"dataframe\">\n",
       "  <thead>\n",
       "    <tr style=\"text-align: right;\">\n",
       "      <th></th>\n",
       "      <th>jobs</th>\n",
       "      <th>schools</th>\n",
       "    </tr>\n",
       "    <tr>\n",
       "      <th>zone</th>\n",
       "      <th></th>\n",
       "      <th></th>\n",
       "    </tr>\n",
       "  </thead>\n",
       "  <tbody>\n",
       "    <tr>\n",
       "      <th>a</th>\n",
       "      <td>100</td>\n",
       "      <td>3</td>\n",
       "    </tr>\n",
       "    <tr>\n",
       "      <th>b</th>\n",
       "      <td>200</td>\n",
       "      <td>1</td>\n",
       "    </tr>\n",
       "  </tbody>\n",
       "</table>\n",
       "</div>"
      ],
      "text/plain": [
       "      jobs  schools\n",
       "zone               \n",
       "a      100        3\n",
       "b      200        1"
      ]
     },
     "execution_count": 4,
     "metadata": {},
     "output_type": "execute_result"
    }
   ],
   "source": [
    "data_zones = pd.DataFrame(\n",
    "    {\n",
    "        'zone': ['a', 'b'],\n",
    "        'jobs': [100, 200],\n",
    "        'schools': [3, 1]\n",
    "    }\n",
    ").set_index('zone')\n",
    "data_zones"
   ]
  },
  {
   "cell_type": "code",
   "execution_count": 5,
   "id": "51c0dc76",
   "metadata": {},
   "outputs": [
    {
     "data": {
      "text/plain": [
       "array([[[[20, 40],\n",
       "         [40, 20]],\n",
       "\n",
       "        [[ 5,  8],\n",
       "         [ 8,  5]]],\n",
       "\n",
       "\n",
       "       [[[30, 45],\n",
       "         [45, 30]],\n",
       "\n",
       "        [[ 5,  8],\n",
       "         [ 8,  5]]]])"
      ]
     },
     "execution_count": 5,
     "metadata": {},
     "output_type": "execute_result"
    }
   ],
   "source": [
    "data_od = np.array(\n",
    "    [\n",
    "        [\n",
    "            [[20, 40], [40, 20]],\n",
    "            [[5, 8], [8, 5]]\n",
    "        ],\n",
    "        [\n",
    "            [[30, 45], [45, 30]],\n",
    "            [[5, 8], [8, 5]]\n",
    "        ]\n",
    "    ]\n",
    ")\n",
    "\n",
    "labels = {\n",
    "    'mode': ['car', 'bus'],\n",
    "    'vars': ['time', 'distance'],\n",
    "    'origin_zones': ['a', 'b'],\n",
    "    'destination_zones': ['a', 'b']\n",
    "}\n",
    "\n",
    "\n",
    "od = OD(\n",
    "    data=data_od,\n",
    "    labels=labels\n",
    ")\n",
    "\n",
    "od.data"
   ]
  },
  {
   "cell_type": "code",
   "execution_count": 6,
   "id": "760e9d2d",
   "metadata": {},
   "outputs": [],
   "source": [
    "planner = choice.ChoiceMNL(population, od, data_zones)"
   ]
  },
  {
   "cell_type": "code",
   "execution_count": 8,
   "id": "da1be738",
   "metadata": {},
   "outputs": [
    {
     "name": "stdout",
     "output_type": "stream",
     "text": [
      "      pid     hid  seq home_loc act_loc   \n",
      "0   chris   chris    1        a       a  \\\n",
      "1  fatema  fatema    1        a       a   \n",
      "2    fred    fred    3        a       a   \n",
      "3   gerry   gerry    3        a       a   \n",
      "4    nick    nick    1        a       a   \n",
      "\n",
      "                                                 act  \n",
      "0  Activity(act:work, location:POINT (10100 0), t...  \n",
      "1  Activity(act:work, location:POINT (10100 0), t...  \n",
      "2  Activity(act:work, location:POINT (10100 0), t...  \n",
      "3  Activity(act:work, location:POINT (10100 0), t...  \n",
      "4  Activity(act:work, location:POINT (0 10000), t...  \n"
     ]
    },
    {
     "data": {
      "text/plain": [
       "array([[1.        , 1.        , 1.        , 1.        ],\n",
       "       [6.        , 3.5       , 4.33333333, 3.22222222],\n",
       "       [6.        , 3.5       , 4.33333333, 3.22222222],\n",
       "       [6.        , 3.5       , 4.33333333, 3.22222222],\n",
       "       [1.        , 1.        , 1.        , 1.        ]])"
      ]
     },
     "execution_count": 8,
     "metadata": {},
     "output_type": "execute_result"
    }
   ],
   "source": [
    "# get the choice set, home-based work\n",
    "scope_act = 'work'\n",
    "var = 'time'\n",
    "asc = 1\n",
    "beta_time = [1, 2] # one beta for each mode\n",
    "\n",
    "u = \"\"\" \\\n",
    "    asc + (1 * (person.attributes['subpopulation']=='poor')) * \\\n",
    "    (zones['jobs'].values / (beta_time * od[:, 'time', person.home.area]))\n",
    "\"\"\"\n",
    "index_set = []\n",
    "choice_set = []\n",
    "od = planner.od\n",
    "zones = planner.zones\n",
    "for hid, hh in planner.population:\n",
    "    for pid, person in hh:\n",
    "        for i, act in enumerate(person.activities):\n",
    "            if act.act == scope_act: #TODO: scope of function + mandatory locations\n",
    "                c = {\n",
    "                    'pid': pid,\n",
    "                    'hid': hid,\n",
    "                    'seq': i,\n",
    "                    'home_loc': person.home.area,\n",
    "                    'act_loc': act.location.area,\n",
    "                    'act': act\n",
    "                }\n",
    "                p = eval(u)\n",
    "                p = p.flatten()\n",
    "                choice_set.append(p)\n",
    "                index_set.append(c)\n",
    "        \n",
    "index_set = pd.DataFrame(index_set)\n",
    "choice_set = np.array(choice_set)\n",
    "print(index_set)\n",
    "choice_set"
   ]
  }
 ],
 "metadata": {
  "kernelspec": {
   "display_name": "Python 3 (ipykernel)",
   "language": "python",
   "name": "python3"
  },
  "language_info": {
   "codemirror_mode": {
    "name": "ipython",
    "version": 3
   },
   "file_extension": ".py",
   "mimetype": "text/x-python",
   "name": "python",
   "nbconvert_exporter": "python",
   "pygments_lexer": "ipython3",
   "version": "3.8.10"
  }
 },
 "nbformat": 4,
 "nbformat_minor": 5
}
