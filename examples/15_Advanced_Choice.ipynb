{
 "cells": [
  {
   "cell_type": "markdown",
   "id": "e225bed3",
   "metadata": {},
   "source": [
    "# Introduction"
   ]
  },
  {
   "cell_type": "markdown",
   "id": "eaa3f397",
   "metadata": {},
   "source": [
    "This notebook applies a simple location and mode choice model to a PAM population."
   ]
  },
  {
   "cell_type": "markdown",
   "id": "d8729af8",
   "metadata": {},
   "source": [
    "The `pam.planner.choice.ChoiceMNL` model allows the user to apply an MNL specification. \n",
    "\n",
    "The typical workflow is:\n",
    "\n",
    "```\n",
    "choice_model = ChoiceMNL(population, od, zones) # initialize the model and point to the data objects \n",
    "choice_model.configure(u, scope) # configure the model by specifying a utility function and the scope of application.\n",
    "choice_model.apply() # apply the model and update the population with the results.\n",
    "\n",
    "```"
   ]
  },
  {
   "cell_type": "markdown",
   "id": "8a484a5b",
   "metadata": {},
   "source": [
    "# Dependencies"
   ]
  },
  {
   "cell_type": "code",
   "execution_count": 1,
   "id": "82e63bf7",
   "metadata": {},
   "outputs": [],
   "source": [
    "import pandas as pd\n",
    "from pam.read import read_matsim\n",
    "from pam.planner import choice\n",
    "from pam.operations.cropping import link_population\n",
    "from pam.planner.od import OD, Labels\n",
    "import numpy as np\n",
    "import os\n",
    "import logging\n",
    "logging.basicConfig(level=logging.DEBUG)\n",
    "from prettytable import PrettyTable"
   ]
  },
  {
   "cell_type": "code",
   "execution_count": 2,
   "id": "4154e47e",
   "metadata": {},
   "outputs": [],
   "source": [
    "%load_ext autoreload\n",
    "%autoreload 2"
   ]
  },
  {
   "cell_type": "markdown",
   "id": "d863cc2c",
   "metadata": {},
   "source": [
    "# Data"
   ]
  },
  {
   "cell_type": "markdown",
   "id": "6d13dd57",
   "metadata": {},
   "source": [
    "We read an example population, and set the location of all activities to zone `a`:"
   ]
  },
  {
   "cell_type": "code",
   "execution_count": 3,
   "id": "9542e3c7",
   "metadata": {},
   "outputs": [],
   "source": [
    "population = read_matsim(os.path.join('..', 'tests', 'test_data', 'test_matsim_plansv12.xml'))\n",
    "link_population(population)\n",
    "for hid, pid, person in population.people():\n",
    "    for act in person.activities:\n",
    "        act.location.area = 'a' "
   ]
  },
  {
   "cell_type": "code",
   "execution_count": 4,
   "id": "e1163184",
   "metadata": {},
   "outputs": [
    {
     "name": "stdout",
     "output_type": "stream",
     "text": [
      "Work locations and travel modes:\n",
      "+--------+-----+----------+------+\n",
      "|  pid   | seq | location | mode |\n",
      "+--------+-----+----------+------+\n",
      "| chris  |  1  |    a     | car  |\n",
      "| fatema |  1  |    a     | bike |\n",
      "|  fred  |  3  |    a     | walk |\n",
      "| gerry  |  3  |    a     | walk |\n",
      "|  nick  |  1  |    a     | car  |\n",
      "+--------+-----+----------+------+\n"
     ]
    }
   ],
   "source": [
    "def print_activity_locs(population, act_scope='work'):\n",
    "    summary = PrettyTable(['pid', 'seq', 'location', 'mode'])\n",
    "    for hid, pid, person in population.people():\n",
    "        for seq, act in enumerate(person.plan.activities):\n",
    "            if (act.act==act_scope) or (act_scope=='all'):\n",
    "                trmode = act.previous.mode if act.previous is not None else 'NA'\n",
    "                summary.add_row([pid, seq, act.location.area, trmode])\n",
    "                \n",
    "    print(summary)\n",
    "\n",
    "print('Work locations and travel modes:')\n",
    "print_activity_locs(population, act_scope='work')"
   ]
  },
  {
   "cell_type": "markdown",
   "id": "63e93b1c",
   "metadata": {},
   "source": [
    "Our `zones` dataset includes destination attraction data, for example the number of jobs or schools in each likely destination zone:"
   ]
  },
  {
   "cell_type": "code",
   "execution_count": 5,
   "id": "3081485c",
   "metadata": {},
   "outputs": [
    {
     "data": {
      "text/html": [
       "<div>\n",
       "<style scoped>\n",
       "    .dataframe tbody tr th:only-of-type {\n",
       "        vertical-align: middle;\n",
       "    }\n",
       "\n",
       "    .dataframe tbody tr th {\n",
       "        vertical-align: top;\n",
       "    }\n",
       "\n",
       "    .dataframe thead th {\n",
       "        text-align: right;\n",
       "    }\n",
       "</style>\n",
       "<table border=\"1\" class=\"dataframe\">\n",
       "  <thead>\n",
       "    <tr style=\"text-align: right;\">\n",
       "      <th></th>\n",
       "      <th>jobs</th>\n",
       "      <th>schools</th>\n",
       "    </tr>\n",
       "    <tr>\n",
       "      <th>zone</th>\n",
       "      <th></th>\n",
       "      <th></th>\n",
       "    </tr>\n",
       "  </thead>\n",
       "  <tbody>\n",
       "    <tr>\n",
       "      <th>a</th>\n",
       "      <td>100</td>\n",
       "      <td>3</td>\n",
       "    </tr>\n",
       "    <tr>\n",
       "      <th>b</th>\n",
       "      <td>200</td>\n",
       "      <td>1</td>\n",
       "    </tr>\n",
       "  </tbody>\n",
       "</table>\n",
       "</div>"
      ],
      "text/plain": [
       "      jobs  schools\n",
       "zone               \n",
       "a      100        3\n",
       "b      200        1"
      ]
     },
     "execution_count": 5,
     "metadata": {},
     "output_type": "execute_result"
    }
   ],
   "source": [
    "data_zones = pd.DataFrame(\n",
    "    {\n",
    "        'zone': ['a', 'b'],\n",
    "        'jobs': [100, 200],\n",
    "        'schools': [3, 1]\n",
    "    }\n",
    ").set_index('zone')\n",
    "data_zones"
   ]
  },
  {
   "cell_type": "markdown",
   "id": "1f6c39ea",
   "metadata": {},
   "source": [
    "The `od` objects holds origin-destination data, for example travel time and travel distance between each origin and destination, for each travel mode:"
   ]
  },
  {
   "cell_type": "code",
   "execution_count": 6,
   "id": "51c0dc76",
   "metadata": {},
   "outputs": [
    {
     "data": {
      "text/plain": [
       "Origin-destination dataset \n",
       "--------------------------------------------------\n",
       "Labels(vars=['time', 'distance'], origin_zones=['a', 'b'], destination_zones=['a', 'b'], mode=['car', 'bus'])\n",
       "--------------------------------------------------\n",
       "time - car:\n",
       "[[20 40]\n",
       " [40 20]]\n",
       "--------------------------------------------------\n",
       "time - bus:\n",
       "[[30 45]\n",
       " [45 30]]\n",
       "--------------------------------------------------\n",
       "distance - car:\n",
       "[[5 8]\n",
       " [8 5]]\n",
       "--------------------------------------------------\n",
       "distance - bus:\n",
       "[[5 9]\n",
       " [9 5]]\n",
       "--------------------------------------------------"
      ]
     },
     "execution_count": 6,
     "metadata": {},
     "output_type": "execute_result"
    }
   ],
   "source": [
    "data_od = np.array(\n",
    "        [[[[20, 30], [40, 45]], [[40, 45], [20, 30]]],\n",
    "         [[[5,  5], [8,  9]], [[8,  9], [5,  5]]]]\n",
    "    )\n",
    "\n",
    "labels = {\n",
    "    'mode': ['car', 'bus'],\n",
    "    'vars': ['time', 'distance'],\n",
    "    'origin_zones': ['a', 'b'],\n",
    "    'destination_zones': ['a', 'b']\n",
    "}\n",
    "\n",
    "\n",
    "od = OD(\n",
    "    data=data_od,\n",
    "    labels=labels\n",
    ")\n",
    "\n",
    "od"
   ]
  },
  {
   "cell_type": "markdown",
   "id": "c27f75b6",
   "metadata": {},
   "source": [
    "# Choice model"
   ]
  },
  {
   "cell_type": "code",
   "execution_count": 7,
   "id": "760e9d2d",
   "metadata": {},
   "outputs": [],
   "source": [
    "planner = choice.ChoiceMNL(population, od, data_zones)"
   ]
  },
  {
   "cell_type": "markdown",
   "id": "0373eaeb",
   "metadata": {},
   "source": [
    "We configure the model by specifying:\n",
    "* the scope of the model. For example, work activities\n",
    "* the utility of each alternative\n",
    "\n",
    "Both options are defined as strings. The stings may comprise mathematical operators, parameters, planner data objects (`od` / `zones`), and/or PAM population objects (`person`/ `act`). \n",
    "\n",
    "Parameters can be passed as a list, with each element in the list corresponding to one of the modes in the `od` object."
   ]
  },
  {
   "cell_type": "code",
   "execution_count": 8,
   "id": "f368c9df",
   "metadata": {
    "scrolled": false
   },
   "outputs": [
    {
     "name": "stdout",
     "output_type": "stream",
     "text": [
      "Utility specification: \n",
      " [0,-1]+(np.array([-2,0])*(person.attributes['subpopulation']=='poor'))+([-0.05,-0.07]*od['time',person.home.area])+(0.4*np.log(zones['jobs'].values))\n",
      "\n"
     ]
    }
   ],
   "source": [
    "scope = \"act.act=='work'\"\n",
    "asc = [0, -1] # one value for each mode\n",
    "asc_shift_poor = [-2, 0] # one value for each mode\n",
    "beta_time = [-0.05, -0.07] # one value for each mode\n",
    "beta_zones = 0.4\n",
    "u = f\"\"\" \\\n",
    "    {asc} + \\\n",
    "    (np.array({asc_shift_poor}) * (person.attributes['subpopulation']=='poor')) + \\\n",
    "    ({beta_time} * od['time', person.home.area]) + \\\n",
    "    ({beta_zones} * np.log(zones['jobs'].values))\n",
    "\"\"\"\n",
    "\n",
    "planner.configure(u=u, scope=scope)\n",
    "print('Utility specification: \\n', planner.u)"
   ]
  },
  {
   "cell_type": "markdown",
   "id": "0f74e719",
   "metadata": {},
   "source": [
    "The `.get_choice_set()` provides with with the utilities of each alternative, as perceived by each agent."
   ]
  },
  {
   "cell_type": "code",
   "execution_count": 12,
   "id": "48fc5154",
   "metadata": {},
   "outputs": [
    {
     "name": "stdout",
     "output_type": "stream",
     "text": [
      "Activities in scope: \n",
      " [{'pid': 'chris', 'hid': 'chris', 'seq': 1, 'act': <pam.activity.Activity object at 0x7ff46545a250>}, {'pid': 'fatema', 'hid': 'fatema', 'seq': 1, 'act': <pam.activity.Activity object at 0x7ff46545a910>}, {'pid': 'fred', 'hid': 'fred', 'seq': 3, 'act': <pam.activity.Activity object at 0x7ff4654633a0>}, {'pid': 'gerry', 'hid': 'gerry', 'seq': 3, 'act': <pam.activity.Activity object at 0x7ff465463fa0>}, {'pid': 'nick', 'hid': 'nick', 'seq': 1, 'act': <pam.activity.Activity object at 0x7ff4654671f0>}]\n",
      "\n",
      "Alternatives: \n",
      " [('a', 'car'), ('a', 'bus'), ('b', 'car'), ('b', 'bus')]\n",
      "\n",
      "Choice set utilities: \n",
      " [[ 0.84206807 -0.98067305 -0.15793193 -2.03067305]\n",
      " [-1.15793193 -0.98067305 -2.15793193 -2.03067305]\n",
      " [-1.15793193 -0.98067305 -2.15793193 -2.03067305]\n",
      " [-1.15793193 -0.98067305 -2.15793193 -2.03067305]\n",
      " [ 0.84206807 -0.98067305 -0.15793193 -2.03067305]]\n"
     ]
    }
   ],
   "source": [
    "choice_set = planner.get_choice_set()\n",
    "print('Activities in scope: \\n', choice_set.idxs)\n",
    "print('\\nAlternatives: \\n', choice_set.choice_labels)\n",
    "print('\\nChoice set utilities: \\n', choice_set.u_choices)"
   ]
  },
  {
   "cell_type": "markdown",
   "id": "2befcd05",
   "metadata": {},
   "source": [
    "The `.apply()` method samples from the alternatives, and updates the location and mode of each activity accordingly:"
   ]
  },
  {
   "cell_type": "code",
   "execution_count": 10,
   "id": "e26b40d1",
   "metadata": {
    "scrolled": false
   },
   "outputs": [
    {
     "name": "stderr",
     "output_type": "stream",
     "text": [
      "INFO:pam.planner.choice:Applying choice model...\n"
     ]
    },
    {
     "name": "stdout",
     "output_type": "stream",
     "text": [
      "Sampled choices: \n",
      " [('a', 'car'), ('b', 'bus'), ('a', 'car'), ('b', 'car'), ('b', 'car')]\n"
     ]
    }
   ],
   "source": [
    "planner.apply()\n",
    "print('Sampled choices: \\n', planner._selections.selections)"
   ]
  },
  {
   "cell_type": "markdown",
   "id": "01fb7d67",
   "metadata": {},
   "source": [
    "The population's activity locations and travel modes have been updated accordingly:"
   ]
  },
  {
   "cell_type": "code",
   "execution_count": 11,
   "id": "1f62b0cc",
   "metadata": {},
   "outputs": [
    {
     "name": "stdout",
     "output_type": "stream",
     "text": [
      "+--------+-----+----------+------+\n",
      "|  pid   | seq | location | mode |\n",
      "+--------+-----+----------+------+\n",
      "| chris  |  1  |    a     | car  |\n",
      "| fatema |  1  |    b     | bus  |\n",
      "|  fred  |  3  |    a     | car  |\n",
      "| gerry  |  3  |    b     | car  |\n",
      "|  nick  |  1  |    b     | car  |\n",
      "+--------+-----+----------+------+\n"
     ]
    }
   ],
   "source": [
    "print_activity_locs(planner.population)"
   ]
  }
 ],
 "metadata": {
  "kernelspec": {
   "display_name": "Python 3 (ipykernel)",
   "language": "python",
   "name": "python3"
  },
  "language_info": {
   "codemirror_mode": {
    "name": "ipython",
    "version": 3
   },
   "file_extension": ".py",
   "mimetype": "text/x-python",
   "name": "python",
   "nbconvert_exporter": "python",
   "pygments_lexer": "ipython3",
   "version": "3.8.10"
  }
 },
 "nbformat": 4,
 "nbformat_minor": 5
}
