{
 "cells": [
  {
   "cell_type": "code",
   "execution_count": 1,
   "id": "82e63bf7",
   "metadata": {},
   "outputs": [],
   "source": [
    "import pandas as pd\n",
    "from pam.read import read_matsim\n",
    "from pam.planner import choice\n",
    "from pam.operations.cropping import link_population\n",
    "from pam.planner.od import OD, Labels\n",
    "import numpy as np\n",
    "import os"
   ]
  },
  {
   "cell_type": "code",
   "execution_count": 2,
   "id": "4154e47e",
   "metadata": {},
   "outputs": [],
   "source": [
    "%load_ext autoreload\n",
    "%autoreload 2"
   ]
  },
  {
   "cell_type": "code",
   "execution_count": 3,
   "id": "9542e3c7",
   "metadata": {},
   "outputs": [],
   "source": [
    "population = read_matsim(os.path.join('..', 'tests', 'test_data', 'test_matsim_plansv12.xml'))\n",
    "link_population(population)\n",
    "for hid, pid, person in population.people():\n",
    "    for act in person.activities:\n",
    "        act.location.area = 'a' "
   ]
  },
  {
   "cell_type": "code",
   "execution_count": 4,
   "id": "3081485c",
   "metadata": {},
   "outputs": [
    {
     "data": {
      "text/html": [
       "<div>\n",
       "<style scoped>\n",
       "    .dataframe tbody tr th:only-of-type {\n",
       "        vertical-align: middle;\n",
       "    }\n",
       "\n",
       "    .dataframe tbody tr th {\n",
       "        vertical-align: top;\n",
       "    }\n",
       "\n",
       "    .dataframe thead th {\n",
       "        text-align: right;\n",
       "    }\n",
       "</style>\n",
       "<table border=\"1\" class=\"dataframe\">\n",
       "  <thead>\n",
       "    <tr style=\"text-align: right;\">\n",
       "      <th></th>\n",
       "      <th>jobs</th>\n",
       "      <th>schools</th>\n",
       "    </tr>\n",
       "    <tr>\n",
       "      <th>zone</th>\n",
       "      <th></th>\n",
       "      <th></th>\n",
       "    </tr>\n",
       "  </thead>\n",
       "  <tbody>\n",
       "    <tr>\n",
       "      <th>a</th>\n",
       "      <td>100</td>\n",
       "      <td>3</td>\n",
       "    </tr>\n",
       "    <tr>\n",
       "      <th>b</th>\n",
       "      <td>200</td>\n",
       "      <td>1</td>\n",
       "    </tr>\n",
       "  </tbody>\n",
       "</table>\n",
       "</div>"
      ],
      "text/plain": [
       "      jobs  schools\n",
       "zone               \n",
       "a      100        3\n",
       "b      200        1"
      ]
     },
     "execution_count": 4,
     "metadata": {},
     "output_type": "execute_result"
    }
   ],
   "source": [
    "data_zones = pd.DataFrame(\n",
    "    {\n",
    "        'zone': ['a', 'b'],\n",
    "        'jobs': [100, 200],\n",
    "        'schools': [3, 1]\n",
    "    }\n",
    ").set_index('zone')\n",
    "data_zones"
   ]
  },
  {
   "cell_type": "code",
   "execution_count": 148,
   "id": "51c0dc76",
   "metadata": {},
   "outputs": [
    {
     "data": {
      "text/plain": [
       "Origin-destination dataset \n",
       "--------------------------------------------------\n",
       "Labels(vars=['time', 'distance'], origin_zones=['a', 'b'], destination_zones=['a', 'b'], mode=['car', 'bus'])\n",
       "--------------------------------------------------\n",
       "time - car:\n",
       "[[20 40]\n",
       " [ 5  8]]\n",
       "--------------------------------------------------\n",
       "time - bus:\n",
       "[[40 20]\n",
       " [ 8  5]]\n",
       "--------------------------------------------------\n",
       "distance - car:\n",
       "[[30 45]\n",
       " [ 5 10]]\n",
       "--------------------------------------------------\n",
       "distance - bus:\n",
       "[[45 30]\n",
       " [ 9  5]]\n",
       "--------------------------------------------------"
      ]
     },
     "execution_count": 148,
     "metadata": {},
     "output_type": "execute_result"
    }
   ],
   "source": [
    "data_od = np.array(\n",
    "    [\n",
    "        [\n",
    "            [[20, 40], [40, 20]],\n",
    "            [[5, 8], [8, 5]]\n",
    "        ],\n",
    "        [\n",
    "            [[30, 45], [45, 30]],\n",
    "            [[5, 9], [10, 5]]\n",
    "        ]\n",
    "    ]\n",
    ")\n",
    "\n",
    "labels = {\n",
    "    'mode': ['car', 'bus'],\n",
    "    'vars': ['time', 'distance'],\n",
    "    'origin_zones': ['a', 'b'],\n",
    "    'destination_zones': ['a', 'b']\n",
    "}\n",
    "\n",
    "\n",
    "od = OD(\n",
    "    data=data_od,\n",
    "    labels=labels\n",
    ")\n",
    "\n",
    "od"
   ]
  },
  {
   "cell_type": "code",
   "execution_count": 149,
   "id": "760e9d2d",
   "metadata": {},
   "outputs": [],
   "source": [
    "planner = choice.ChoiceMNL(population, od, data_zones)"
   ]
  },
  {
   "cell_type": "code",
   "execution_count": 277,
   "id": "ec2bff68",
   "metadata": {},
   "outputs": [
    {
     "data": {
      "text/plain": [
       "ChoiceSet(idxs=[{'pid': 'chris', 'hid': 'chris', 'seq': 1, 'act': <pam.activity.Activity object at 0x7f56ababd4c0>}, {'pid': 'fatema', 'hid': 'fatema', 'seq': 1, 'act': <pam.activity.Activity object at 0x7f56ababd7c0>}, {'pid': 'fred', 'hid': 'fred', 'seq': 3, 'act': <pam.activity.Activity object at 0x7f56ababf250>}, {'pid': 'gerry', 'hid': 'gerry', 'seq': 3, 'act': <pam.activity.Activity object at 0x7f56ababfe50>}, {'pid': 'nick', 'hid': 'nick', 'seq': 1, 'act': <pam.activity.Activity object at 0x7f56abac6070>}], u_choices=array([[0. , 1. , 0. , 1. ],\n",
       "       [5. , 3.5, 2.5, 6. ],\n",
       "       [5. , 3.5, 2.5, 6. ],\n",
       "       [5. , 3.5, 2.5, 6. ],\n",
       "       [0. , 1. , 0. , 1. ]]), choice_labels=[('a', 'car'), ('a', 'bus'), ('b', 'car'), ('b', 'bus')])"
      ]
     },
     "execution_count": 277,
     "metadata": {},
     "output_type": "execute_result"
    }
   ],
   "source": [
    "scope = \"act.act=='work'\"\n",
    "asc = [0, 1]\n",
    "# asc = 10\n",
    "beta_time = [1, 2] # one beta for each mode\n",
    "u = f\"\"\" \\\n",
    "    {asc} + (1 * (person.attributes['subpopulation']=='poor')) * \\\n",
    "    (zones['jobs'].values / ({beta_time} * od['time', person.home.area]))\n",
    "\"\"\"\n",
    "# u = f\"\"\"od['distance', 'b']\"\"\"\n",
    "\n",
    "choice_set = planner.get_choice_set(u, scope)\n",
    "choice_set"
   ]
  },
  {
   "cell_type": "markdown",
   "id": "273b98ca",
   "metadata": {},
   "source": [
    "Select:"
   ]
  },
  {
   "cell_type": "code",
   "execution_count": 279,
   "id": "4d145bf9",
   "metadata": {},
   "outputs": [
    {
     "data": {
      "text/plain": [
       "[('a', 'bus'), ('a', 'bus'), ('b', 'bus'), ('a', 'car'), ('b', 'bus')]"
      ]
     },
     "execution_count": 279,
     "metadata": {},
     "output_type": "execute_result"
    }
   ],
   "source": [
    "selections = planner.get_selections(u, scope)\n",
    "selections.selections"
   ]
  },
  {
   "cell_type": "markdown",
   "id": "146421fd",
   "metadata": {},
   "source": [
    "Apply new locations and mode:"
   ]
  },
  {
   "cell_type": "code",
   "execution_count": 274,
   "id": "04a78c84",
   "metadata": {},
   "outputs": [],
   "source": [
    "planner.apply(u, scope)"
   ]
  }
 ],
 "metadata": {
  "kernelspec": {
   "display_name": "Python 3 (ipykernel)",
   "language": "python",
   "name": "python3"
  },
  "language_info": {
   "codemirror_mode": {
    "name": "ipython",
    "version": 3
   },
   "file_extension": ".py",
   "mimetype": "text/x-python",
   "name": "python",
   "nbconvert_exporter": "python",
   "pygments_lexer": "ipython3",
   "version": "3.8.10"
  }
 },
 "nbformat": 4,
 "nbformat_minor": 5
}
