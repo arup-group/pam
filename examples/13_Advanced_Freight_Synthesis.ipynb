{
 "cells": [
  {
   "attachments": {},
   "cell_type": "markdown",
   "id": "55319cc0",
   "metadata": {},
   "source": [
    "# Freight Synthesis\n",
    "\n",
    "This notebook simulates freight trips and generates a freight population file.\n",
    "\n",
    "The following steps are undertaken:\n",
    "\n",
    "1. [Read, process, and plot data](#1-read-process-plot-data)\n",
    "2. [Input Assumptions & Sampler Creation](#2-input-assumptions)\n",
    "3. [Create Activity Model & Population](#3-activity-modeller)\n",
    "4. [Validation](#4-validation)"
   ]
  },
  {
   "cell_type": "code",
   "execution_count": 1,
   "id": "af308ae4",
   "metadata": {
    "execution": {
     "iopub.execute_input": "2024-04-04T10:40:36.947689Z",
     "iopub.status.busy": "2024-04-04T10:40:36.947689Z",
     "iopub.status.idle": "2024-04-04T10:40:37.947743Z",
     "shell.execute_reply": "2024-04-04T10:40:37.947743Z"
    }
   },
   "outputs": [
    {
     "ename": "ModuleNotFoundError",
     "evalue": "No module named 'pam'",
     "output_type": "error",
     "traceback": [
      "\u001b[1;31m---------------------------------------------------------------------------\u001b[0m",
      "\u001b[1;31mModuleNotFoundError\u001b[0m                       Traceback (most recent call last)",
      "Cell \u001b[1;32mIn[1], line 9\u001b[0m\n\u001b[0;32m      7\u001b[0m \u001b[38;5;28;01mimport\u001b[39;00m \u001b[38;5;21;01mpandas\u001b[39;00m \u001b[38;5;28;01mas\u001b[39;00m \u001b[38;5;21;01mpd\u001b[39;00m\n\u001b[0;32m      8\u001b[0m \u001b[38;5;28;01mfrom\u001b[39;00m \u001b[38;5;21;01mmatplotlib\u001b[39;00m \u001b[38;5;28;01mimport\u001b[39;00m pyplot \u001b[38;5;28;01mas\u001b[39;00m plt\n\u001b[1;32m----> 9\u001b[0m \u001b[38;5;28;01mfrom\u001b[39;00m \u001b[38;5;21;01mpam\u001b[39;00m\u001b[38;5;21;01m.\u001b[39;00m\u001b[38;5;21;01mcore\u001b[39;00m \u001b[38;5;28;01mimport\u001b[39;00m Household, Person, Population\n\u001b[0;32m     10\u001b[0m \u001b[38;5;28;01mfrom\u001b[39;00m \u001b[38;5;21;01mpam\u001b[39;00m\u001b[38;5;21;01m.\u001b[39;00m\u001b[38;5;21;01msamplers\u001b[39;00m \u001b[38;5;28;01mimport\u001b[39;00m tour\n\u001b[0;32m     11\u001b[0m \u001b[38;5;28;01mfrom\u001b[39;00m \u001b[38;5;21;01mpam\u001b[39;00m\u001b[38;5;21;01m.\u001b[39;00m\u001b[38;5;21;01msamplers\u001b[39;00m\u001b[38;5;21;01m.\u001b[39;00m\u001b[38;5;21;01mfacility\u001b[39;00m \u001b[38;5;28;01mimport\u001b[39;00m FacilitySampler\n",
      "\u001b[1;31mModuleNotFoundError\u001b[0m: No module named 'pam'"
     ]
    }
   ],
   "source": [
    "import os\n",
    "from datetime import date\n",
    "\n",
    "import geopandas as gp\n",
    "import matplotlib\n",
    "import numpy as np\n",
    "import pandas as pd\n",
    "from matplotlib import pyplot as plt\n",
    "from pam.core import Household, Person, Population\n",
    "from pam.samplers import tour\n",
    "from pam.samplers.facility import FacilitySampler\n",
    "\n",
    "matplotlib.style.use(\"ggplot\")"
   ]
  },
  {
   "cell_type": "code",
   "execution_count": 2,
   "id": "6c96a2f8",
   "metadata": {
    "execution": {
     "iopub.execute_input": "2023-09-29T13:19:00.343773Z",
     "iopub.status.busy": "2023-09-29T13:19:00.343253Z",
     "iopub.status.idle": "2023-09-29T13:19:00.346670Z",
     "shell.execute_reply": "2023-09-29T13:19:00.346242Z"
    }
   },
   "outputs": [],
   "source": [
    "output_path = \"./data/outputs\""
   ]
  },
  {
   "attachments": {},
   "cell_type": "markdown",
   "id": "42961870",
   "metadata": {},
   "source": [
    "## 1. Read, process, plot Data\n",
    "Below, we load in data required to build a tour plan: zones and facilities data."
   ]
  },
  {
   "cell_type": "code",
   "execution_count": 3,
   "id": "a8e23090",
   "metadata": {
    "execution": {
     "iopub.execute_input": "2023-09-29T13:19:00.348918Z",
     "iopub.status.busy": "2023-09-29T13:19:00.348713Z",
     "iopub.status.idle": "2023-09-29T13:19:01.338501Z",
     "shell.execute_reply": "2023-09-29T13:19:01.338082Z"
    }
   },
   "outputs": [],
   "source": [
    "zones = gp.read_file(\"./data/lsoas/LSOA_2004_London_Low_Resolution.shp\")\n",
    "zones = zones.set_crs(\"EPSG:27700\", allow_override=True)\n",
    "zones = zones.rename(columns={\"LSOA_CODE\": \"zone\"})\n",
    "zones.plot()\n",
    "plt.show()"
   ]
  },
  {
   "cell_type": "code",
   "execution_count": 4,
   "id": "44a2b0c6",
   "metadata": {
    "execution": {
     "iopub.execute_input": "2023-09-29T13:19:01.341340Z",
     "iopub.status.busy": "2023-09-29T13:19:01.341172Z",
     "iopub.status.idle": "2023-09-29T13:19:01.761758Z",
     "shell.execute_reply": "2023-09-29T13:19:01.761302Z"
    }
   },
   "outputs": [],
   "source": [
    "# load facilities\n",
    "facilities = gp.read_file(\"./data/londinium_facilities_sample.geojson\")\n",
    "facilities = facilities.set_crs(\"EPSG:27700\", allow_override=True)\n",
    "\n",
    "# dummy create depots and deliveries\n",
    "facilities[\"activity\"] = np.where(facilities[\"activity\"] == \"shop\", \"depot\", facilities[\"activity\"])\n",
    "facilities[\"activity\"] = np.where(\n",
    "    facilities[\"activity\"] == \"leisure\", \"delivery\", facilities[\"activity\"]\n",
    ")\n",
    "\n",
    "facilities.plot()"
   ]
  },
  {
   "attachments": {},
   "cell_type": "markdown",
   "id": "ad2452bc",
   "metadata": {},
   "source": [
    "The zones data is for all of London, below, we crop the zones data to the Londinium study area."
   ]
  },
  {
   "cell_type": "code",
   "execution_count": 5,
   "id": "e87c292e",
   "metadata": {
    "execution": {
     "iopub.execute_input": "2023-09-29T13:19:01.763893Z",
     "iopub.status.busy": "2023-09-29T13:19:01.763702Z",
     "iopub.status.idle": "2023-09-29T13:19:01.806942Z",
     "shell.execute_reply": "2023-09-29T13:19:01.806476Z"
    }
   },
   "outputs": [],
   "source": [
    "cols = list(zones.columns)\n",
    "\n",
    "zones_londinium = gp.sjoin(zones, facilities, how=\"inner\", predicate=\"intersects\")\n",
    "zones_londinium = zones_londinium[cols]\n",
    "zones = zones_londinium.drop_duplicates()\n",
    "zones = zones.set_index(\"zone\")"
   ]
  },
  {
   "cell_type": "code",
   "execution_count": 6,
   "id": "b5e0e4d2",
   "metadata": {
    "execution": {
     "iopub.execute_input": "2023-09-29T13:19:01.809359Z",
     "iopub.status.busy": "2023-09-29T13:19:01.809169Z",
     "iopub.status.idle": "2023-09-29T13:19:02.784330Z",
     "shell.execute_reply": "2023-09-29T13:19:02.783726Z"
    }
   },
   "outputs": [],
   "source": [
    "facility_sampler = FacilitySampler(\n",
    "    facilities=facilities, zones=zones, build_xml=True, fail=False, random_default=True\n",
    ")\n",
    "\n",
    "facility_sampler.activities"
   ]
  },
  {
   "cell_type": "code",
   "execution_count": 7,
   "id": "494b3748",
   "metadata": {
    "execution": {
     "iopub.execute_input": "2023-09-29T13:19:02.786578Z",
     "iopub.status.busy": "2023-09-29T13:19:02.786400Z",
     "iopub.status.idle": "2023-09-29T13:19:02.820718Z",
     "shell.execute_reply": "2023-09-29T13:19:02.820077Z"
    }
   },
   "outputs": [],
   "source": [
    "# Create a facility zone dataset to be used in samplers\n",
    "facility_zone = gp.sjoin(facilities, zones, how=\"inner\", predicate=\"intersects\")\n",
    "facility_zone = facility_zone.rename(columns={\"index_right\": \"zone\"})\n",
    "facility_zone = facility_zone.set_index(\"zone\")"
   ]
  },
  {
   "attachments": {},
   "cell_type": "markdown",
   "id": "3b843fc1",
   "metadata": {},
   "source": [
    "## 2. Input Assumptions\n",
    "We create a series of samplers that will serve as inputs into the activity model. These samplers include:\n",
    "- Number of Stops\n",
    "- Freight Hourly Demand\n",
    "- Origin (in this case, Depot) location"
   ]
  },
  {
   "attachments": {},
   "cell_type": "markdown",
   "id": "ec797e8b",
   "metadata": {},
   "source": [
    "#### Number of Stops\n",
    "Build a Stop Number distribution and corresponding sampler."
   ]
  },
  {
   "cell_type": "code",
   "execution_count": 8,
   "id": "ed25d78c",
   "metadata": {
    "execution": {
     "iopub.execute_input": "2023-09-29T13:19:02.824796Z",
     "iopub.status.busy": "2023-09-29T13:19:02.824501Z",
     "iopub.status.idle": "2023-09-29T13:19:03.002465Z",
     "shell.execute_reply": "2023-09-29T13:19:03.002066Z"
    }
   },
   "outputs": [],
   "source": [
    "bins = range(3, 12)\n",
    "pivots = {3: 36.0, 4: 28.0, 5: 15.0, 6: 7.0, 7: 4.0, 8: 2.5, 9: 2.5, 10: 1.0, 11: 4.0}\n",
    "stop_sampler = tour.PivotDistributionSampler(bins=bins, pivots=pivots)\n",
    "stop_sampler.plot(plot_title=\"Stops Distribution\", x_label=\"Stops\", y_label=\"Frequency\")"
   ]
  },
  {
   "attachments": {},
   "cell_type": "markdown",
   "id": "65968ad4",
   "metadata": {},
   "source": [
    "#### Freight Hourly Demand\n",
    "Hourly demand is a distribution created based on the pivots input. We use the class PivotDistributionSampler to translate 'pivots' into a distribution, plot, and sampler."
   ]
  },
  {
   "cell_type": "code",
   "execution_count": 9,
   "id": "79d2f626",
   "metadata": {
    "execution": {
     "iopub.execute_input": "2023-09-29T13:19:03.004455Z",
     "iopub.status.busy": "2023-09-29T13:19:03.004296Z",
     "iopub.status.idle": "2023-09-29T13:19:03.007918Z",
     "shell.execute_reply": "2023-09-29T13:19:03.007482Z"
    }
   },
   "outputs": [],
   "source": [
    "# Set up freight params for both LGV and HGV movements\n",
    "lgv_params = {\n",
    "    \"total\": 2500,\n",
    "    \"pivots\": {\n",
    "        7: 14,\n",
    "        8: 9,\n",
    "        9: 13,\n",
    "        10: 16,\n",
    "        11: 18,\n",
    "        12: 13,\n",
    "        13: 15,\n",
    "        14: 16,\n",
    "        15: 14,\n",
    "        16: 13,\n",
    "        17: 9,\n",
    "        18: 5,\n",
    "        19: 3,\n",
    "        20: 3,\n",
    "        21: 3,\n",
    "        22: 2,\n",
    "    },\n",
    "    \"agent_id\": \"LGV\",\n",
    "    \"agent_attributes\": \"lgv\",\n",
    "}"
   ]
  },
  {
   "attachments": {},
   "cell_type": "markdown",
   "id": "152c0ee4",
   "metadata": {},
   "source": [
    "Below, we decide if we will use the LGV or HGV parameters defined above."
   ]
  },
  {
   "cell_type": "code",
   "execution_count": 10,
   "id": "0e03fde2",
   "metadata": {
    "execution": {
     "iopub.execute_input": "2023-09-29T13:19:03.010221Z",
     "iopub.status.busy": "2023-09-29T13:19:03.010013Z",
     "iopub.status.idle": "2023-09-29T13:19:03.012851Z",
     "shell.execute_reply": "2023-09-29T13:19:03.012499Z"
    }
   },
   "outputs": [],
   "source": [
    "freight_params = lgv_params.copy()"
   ]
  },
  {
   "cell_type": "code",
   "execution_count": 11,
   "id": "0211003f",
   "metadata": {
    "execution": {
     "iopub.execute_input": "2023-09-29T13:19:03.014959Z",
     "iopub.status.busy": "2023-09-29T13:19:03.014791Z",
     "iopub.status.idle": "2023-09-29T13:19:03.181249Z",
     "shell.execute_reply": "2023-09-29T13:19:03.180864Z"
    }
   },
   "outputs": [],
   "source": [
    "# Create Distribution\n",
    "bins = range(0, 24)\n",
    "\n",
    "hour_sampler = tour.PivotDistributionSampler(\n",
    "    bins=bins, pivots=freight_params[\"pivots\"], total=freight_params[\"total\"]\n",
    ")\n",
    "hour_sampler.plot(\n",
    "    plot_title=f\"{freight_params['agent_id']} Distribution\", x_label=\"Hour\", y_label=\"Frequency\"\n",
    ")"
   ]
  },
  {
   "cell_type": "code",
   "execution_count": 12,
   "id": "dd59220b",
   "metadata": {
    "execution": {
     "iopub.execute_input": "2023-09-29T13:19:03.183495Z",
     "iopub.status.busy": "2023-09-29T13:19:03.183311Z",
     "iopub.status.idle": "2023-09-29T13:19:03.186860Z",
     "shell.execute_reply": "2023-09-29T13:19:03.186428Z"
    }
   },
   "outputs": [],
   "source": [
    "# Create a minute sampler\n",
    "minute_sampler = tour.FrequencySampler(range(60))\n",
    "minute_sampler.sample()"
   ]
  },
  {
   "attachments": {},
   "cell_type": "markdown",
   "id": "99942a5e",
   "metadata": {},
   "source": [
    "#### Input Demand & Constraints\n",
    "We calculate the density of depots and deliveries across all zones. This information will be utilised by the class FrequencySampler to create a distribution. We also create an origin/destination matrix of distances between centroids that will be used to selected the destination locations."
   ]
  },
  {
   "cell_type": "code",
   "execution_count": 13,
   "id": "ea7f8403",
   "metadata": {
    "execution": {
     "iopub.execute_input": "2023-09-29T13:19:03.189389Z",
     "iopub.status.busy": "2023-09-29T13:19:03.189181Z",
     "iopub.status.idle": "2023-09-29T13:19:03.209215Z",
     "shell.execute_reply": "2023-09-29T13:19:03.208864Z"
    }
   },
   "outputs": [],
   "source": [
    "origin_density = tour.create_density_gdf(\n",
    "    facility_zone=facility_zone, zone=zones, activity=[\"depot\"]\n",
    ")\n",
    "destination_density = tour.create_density_gdf(\n",
    "    facility_zone=facility_zone, zone=zones, activity=[\"delivery\"]\n",
    ")"
   ]
  },
  {
   "cell_type": "code",
   "execution_count": 14,
   "id": "7e44cc94",
   "metadata": {
    "execution": {
     "iopub.execute_input": "2023-09-29T13:19:03.211547Z",
     "iopub.status.busy": "2023-09-29T13:19:03.211363Z",
     "iopub.status.idle": "2023-09-29T13:19:03.214034Z",
     "shell.execute_reply": "2023-09-29T13:19:03.213668Z"
    }
   },
   "outputs": [],
   "source": [
    "# Input Demand, in this case defined as facility density location\n",
    "depot_sampler = tour.FrequencySampler(origin_density.index, origin_density.density)"
   ]
  },
  {
   "cell_type": "code",
   "execution_count": 15,
   "id": "14127946",
   "metadata": {
    "execution": {
     "iopub.execute_input": "2023-09-29T13:19:03.216306Z",
     "iopub.status.busy": "2023-09-29T13:19:03.216119Z",
     "iopub.status.idle": "2023-09-29T13:19:03.235410Z",
     "shell.execute_reply": "2023-09-29T13:19:03.234932Z"
    }
   },
   "outputs": [],
   "source": [
    "# Constraint, defined as distance between origin and destination centroids. This dataframe will be filtered based on threshold values defined later.\n",
    "zones_list = np.array(zones.centroid.apply(lambda x: [x.x, x.y]).to_list())\n",
    "od_matrix = np.linalg.norm(zones_list[:, None, :] - zones_list[None, :, :], axis=-1)\n",
    "df_od = pd.DataFrame(od_matrix, index=zones.index, columns=zones.index)"
   ]
  },
  {
   "attachments": {},
   "cell_type": "markdown",
   "id": "b57658f3",
   "metadata": {},
   "source": [
    "## 3. Activity Modeller\n",
    "\n",
    "Parameters are defined to model a population of activity plans. Activities are encoded as \"car\". Subpopulation is encoded as \"lgv\" or \"hgv\"."
   ]
  },
  {
   "attachments": {},
   "cell_type": "markdown",
   "id": "3a57be59",
   "metadata": {},
   "source": [
    "#### Population Parameters"
   ]
  },
  {
   "cell_type": "code",
   "execution_count": 16,
   "id": "265b847d",
   "metadata": {
    "execution": {
     "iopub.execute_input": "2023-09-29T13:19:03.237612Z",
     "iopub.status.busy": "2023-09-29T13:19:03.237413Z",
     "iopub.status.idle": "2023-09-29T13:19:03.251823Z",
     "shell.execute_reply": "2023-09-29T13:19:03.251149Z"
    }
   },
   "outputs": [],
   "source": [
    "# Factor to scale trips (To better match validation counts when needed)\n",
    "factor = 1\n",
    "\n",
    "# Sample Size\n",
    "samples = [0.1]  # increase\n",
    "\n",
    "# Set Distance threshold, in this case arbitrarily set to median distance of od dataframe.\n",
    "threshold_value = df_od.median().agg(\"median\")\n",
    "\n",
    "# used for fnames\n",
    "today = date.today().strftime(\"%d%b%y\")\n",
    "today"
   ]
  },
  {
   "attachments": {},
   "cell_type": "markdown",
   "id": "b446a146",
   "metadata": {},
   "source": [
    "#### Activity Modeller"
   ]
  },
  {
   "cell_type": "code",
   "execution_count": 17,
   "id": "3cbafcef",
   "metadata": {
    "execution": {
     "iopub.execute_input": "2023-09-29T13:19:03.254528Z",
     "iopub.status.busy": "2023-09-29T13:19:03.254176Z",
     "iopub.status.idle": "2023-09-29T13:19:03.260714Z",
     "shell.execute_reply": "2023-09-29T13:19:03.260194Z"
    }
   },
   "outputs": [],
   "source": [
    "#### Sample Agents\n",
    "\n",
    "\n",
    "def sample_agents(size):\n",
    "    facility_sampler.clear()\n",
    "    population = Population()\n",
    "\n",
    "    for i in range(size):\n",
    "        agent_id = f\"{freight_params['agent_id']}_{i}\"\n",
    "        hh = Household(agent_id)\n",
    "\n",
    "        agent = Person(\n",
    "            agent_id,\n",
    "            freq=100,\n",
    "            attributes={\n",
    "                \"subpopulation\": freight_params[\"agent_attributes\"],\n",
    "                \"CarType\": freight_params[\"agent_attributes\"],\n",
    "                \"CarCO2\": freight_params[\"agent_attributes\"],\n",
    "            },\n",
    "        )\n",
    "\n",
    "        hh.add(agent)\n",
    "        population.add(hh)\n",
    "\n",
    "        hour = hour_sampler.sample()\n",
    "        minute = minute_sampler.sample()\n",
    "        o_zone = depot_sampler.sample()\n",
    "\n",
    "        stops = stop_sampler.sample() if freight_params[\"agent_id\"] == \"LGV\" else 1\n",
    "\n",
    "        agent_plan = tour.TourPlanner(\n",
    "            stops=stops,\n",
    "            hour=hour,\n",
    "            minute=minute,\n",
    "            o_zone=o_zone,\n",
    "            d_dist=destination_density,\n",
    "            d_freq=\"density\",\n",
    "            threshold_matrix=df_od,\n",
    "            threshold_value=threshold_value,\n",
    "            facility_sampler=facility_sampler,\n",
    "            activity_params={\"o_activity\": \"depot\", \"d_activity\": \"delivery\"},\n",
    "        )\n",
    "\n",
    "        o_loc, d_zones, d_locs = agent_plan.sequence_stops()\n",
    "        agent_plan.apply(agent=agent, o_loc=o_loc, d_zones=d_zones, d_locs=d_locs)\n",
    "\n",
    "    return population"
   ]
  },
  {
   "cell_type": "code",
   "execution_count": 18,
   "id": "25130d39",
   "metadata": {
    "execution": {
     "iopub.execute_input": "2023-09-29T13:19:03.263545Z",
     "iopub.status.busy": "2023-09-29T13:19:03.263040Z",
     "iopub.status.idle": "2023-09-29T13:19:03.267354Z",
     "shell.execute_reply": "2023-09-29T13:19:03.266865Z"
    }
   },
   "outputs": [],
   "source": [
    "# Function to build population\n",
    "\n",
    "\n",
    "def build_population(sample, factor):\n",
    "    population = sample_agents(int(factor * int(freight_params[\"total\"] * sample)))\n",
    "\n",
    "    return population"
   ]
  },
  {
   "cell_type": "code",
   "execution_count": 19,
   "id": "aa8ca6bb",
   "metadata": {
    "execution": {
     "iopub.execute_input": "2023-09-29T13:19:03.269434Z",
     "iopub.status.busy": "2023-09-29T13:19:03.269270Z",
     "iopub.status.idle": "2023-09-29T13:19:05.217872Z",
     "shell.execute_reply": "2023-09-29T13:19:05.217509Z"
    }
   },
   "outputs": [],
   "source": [
    "# Build + Crop + Write Population for samples\n",
    "for s in samples:\n",
    "    # build\n",
    "    population = build_population(s, factor)\n",
    "\n",
    "    # # Crop and Validate Plans\n",
    "    population.fix_plans()\n",
    "    population.validate()\n",
    "\n",
    "    # # Write to Disk\n",
    "    xml_comment = f\"prelim {s*100}% {freight_params['agent_id']} {today}\"\n",
    "    output_path = os.path.join(output_path)\n",
    "\n",
    "    population.to_csv(output_path, crs=\"EPSG:27700\", to_crs=\"EPSG:4326\")"
   ]
  },
  {
   "attachments": {},
   "cell_type": "markdown",
   "id": "cdbe6b95",
   "metadata": {},
   "source": [
    "## 4. Validation"
   ]
  },
  {
   "cell_type": "code",
   "execution_count": 20,
   "id": "20e50f20",
   "metadata": {
    "execution": {
     "iopub.execute_input": "2023-09-29T13:19:05.220274Z",
     "iopub.status.busy": "2023-09-29T13:19:05.220098Z",
     "iopub.status.idle": "2023-09-29T13:19:05.356447Z",
     "shell.execute_reply": "2023-09-29T13:19:05.355917Z"
    }
   },
   "outputs": [],
   "source": [
    "population.random_person().plot()"
   ]
  },
  {
   "cell_type": "code",
   "execution_count": 21,
   "id": "83aa2081",
   "metadata": {
    "execution": {
     "iopub.execute_input": "2023-09-29T13:19:05.358743Z",
     "iopub.status.busy": "2023-09-29T13:19:05.358518Z",
     "iopub.status.idle": "2023-09-29T13:19:05.371772Z",
     "shell.execute_reply": "2023-09-29T13:19:05.371242Z"
    }
   },
   "outputs": [],
   "source": [
    "trips = pd.read_csv(os.path.join(output_path, \"legs.csv\"))\n",
    "\n",
    "\n",
    "def get_hour(dt):\n",
    "    return int(dt.split(\" \")[1].split(\":\")[0])\n",
    "\n",
    "\n",
    "trips[\"start_hour\"] = trips[\"tst\"].apply(get_hour)"
   ]
  },
  {
   "cell_type": "code",
   "execution_count": 22,
   "id": "5787caec",
   "metadata": {
    "execution": {
     "iopub.execute_input": "2023-09-29T13:19:05.374341Z",
     "iopub.status.busy": "2023-09-29T13:19:05.374059Z",
     "iopub.status.idle": "2023-09-29T13:19:05.397283Z",
     "shell.execute_reply": "2023-09-29T13:19:05.396729Z"
    }
   },
   "outputs": [],
   "source": [
    "freight_density = tour.ValidateTourOD(\n",
    "    trips=trips,\n",
    "    zone=zones,\n",
    "    o_dist=origin_density,\n",
    "    d_dist=destination_density,\n",
    "    o_activity=\"depot\",\n",
    "    d_activity=\"delivery\",\n",
    "    o_freq=\"density\",\n",
    "    d_freq=\"density\",\n",
    ")"
   ]
  },
  {
   "cell_type": "code",
   "execution_count": 23,
   "id": "c57c062d",
   "metadata": {
    "execution": {
     "iopub.execute_input": "2023-09-29T13:19:05.399713Z",
     "iopub.status.busy": "2023-09-29T13:19:05.399525Z",
     "iopub.status.idle": "2023-09-29T13:19:05.820778Z",
     "shell.execute_reply": "2023-09-29T13:19:05.820384Z"
    }
   },
   "outputs": [],
   "source": [
    "freight_density.plot_validate_spatial_density(\n",
    "    title_1=\"Depot Density (origin)\",\n",
    "    title_2=\"Trips from Depot (origin)\",\n",
    "    density_metric=\"depot_density\",\n",
    "    density_trips=\"origin_trips\",\n",
    ")"
   ]
  },
  {
   "cell_type": "code",
   "execution_count": 24,
   "id": "f367e361",
   "metadata": {
    "execution": {
     "iopub.execute_input": "2023-09-29T13:19:05.824016Z",
     "iopub.status.busy": "2023-09-29T13:19:05.823833Z",
     "iopub.status.idle": "2023-09-29T13:19:06.239986Z",
     "shell.execute_reply": "2023-09-29T13:19:06.239579Z"
    }
   },
   "outputs": [],
   "source": [
    "freight_density.plot_validate_spatial_density(\n",
    "    title_1=\"Delivery Density (destination)\",\n",
    "    title_2=\"Trips to Delivery (destination)\",\n",
    "    density_metric=\"delivery_density\",\n",
    "    density_trips=\"destination_trips\",\n",
    ")"
   ]
  },
  {
   "cell_type": "code",
   "execution_count": 25,
   "id": "531af059",
   "metadata": {
    "execution": {
     "iopub.execute_input": "2023-09-29T13:19:06.242833Z",
     "iopub.status.busy": "2023-09-29T13:19:06.242691Z",
     "iopub.status.idle": "2023-09-29T13:19:06.631869Z",
     "shell.execute_reply": "2023-09-29T13:19:06.631481Z"
    }
   },
   "outputs": [],
   "source": [
    "freight_density.plot_compare_density(\n",
    "    title_1=\"Depot Density vs. Origin Trips\",\n",
    "    title_2=\"Delivery Density vs. Destination Trips\",\n",
    "    o_activity=\"depot_density\",\n",
    "    d_activity=\"delivery_density\",\n",
    ")"
   ]
  }
 ],
 "metadata": {
  "kernelspec": {
   "display_name": "pam",
   "language": "python",
   "name": "python3"
  },
  "language_info": {
   "codemirror_mode": {
    "name": "ipython",
    "version": 3
   },
   "file_extension": ".py",
   "mimetype": "text/x-python",
   "name": "python",
   "nbconvert_exporter": "python",
   "pygments_lexer": "ipython3",
   "version": "3.11.8"
  },
  "toc": {
   "base_numbering": 1,
   "nav_menu": {},
   "number_sections": true,
   "sideBar": true,
   "skip_h1_title": false,
   "title_cell": "Table of Contents",
   "title_sidebar": "Contents",
   "toc_cell": false,
   "toc_position": {},
   "toc_section_display": true,
   "toc_window_display": false
  }
 },
 "nbformat": 4,
 "nbformat_minor": 5
}
