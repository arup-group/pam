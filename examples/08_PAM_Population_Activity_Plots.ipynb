{
 "cells": [
  {
   "attachments": {},
   "cell_type": "markdown",
   "metadata": {},
   "source": [
    "# Plotting activity times\n",
    "\n",
    "In this example, we show how activity and trip times can be plotted."
   ]
  },
  {
   "cell_type": "code",
   "execution_count": 1,
   "metadata": {
    "ExecuteTime": {
     "end_time": "2020-05-25T13:34:21.070444Z",
     "start_time": "2020-05-25T13:34:20.602707Z"
    },
    "execution": {
     "iopub.execute_input": "2023-06-22T10:53:38.596156Z",
     "iopub.status.busy": "2023-06-22T10:53:38.596037Z",
     "iopub.status.idle": "2023-06-22T10:53:39.048749Z",
     "shell.execute_reply": "2023-06-22T10:53:39.048426Z"
    }
   },
   "outputs": [],
   "source": [
    "import os\n",
    "\n",
    "import pandas as pd\n",
    "\n",
    "from pam import read\n",
    "from pam.plot.stats import plot_activity_times, plot_leg_times"
   ]
  },
  {
   "cell_type": "code",
   "execution_count": 2,
   "metadata": {
    "ExecuteTime": {
     "end_time": "2020-05-25T13:34:22.607313Z",
     "start_time": "2020-05-25T13:34:22.547565Z"
    },
    "execution": {
     "iopub.execute_input": "2023-06-22T10:53:39.050719Z",
     "iopub.status.busy": "2023-06-22T10:53:39.050548Z",
     "iopub.status.idle": "2023-06-22T10:53:39.055868Z",
     "shell.execute_reply": "2023-06-22T10:53:39.055580Z"
    }
   },
   "outputs": [],
   "source": [
    "data_path = os.path.join(\"data\", \"example_data\")\n",
    "trips = pd.read_csv(os.path.join(data_path, \"example_travel_diaries.csv\"))\n",
    "attributes = pd.read_csv(os.path.join(data_path, \"example_attributes.csv\"))\n",
    "attributes = attributes.set_index(\"pid\")"
   ]
  },
  {
   "cell_type": "code",
   "execution_count": 3,
   "metadata": {
    "ExecuteTime": {
     "end_time": "2020-05-25T13:34:31.623061Z",
     "start_time": "2020-05-25T13:34:23.271058Z"
    },
    "execution": {
     "iopub.execute_input": "2023-06-22T10:53:39.057341Z",
     "iopub.status.busy": "2023-06-22T10:53:39.057253Z",
     "iopub.status.idle": "2023-06-22T10:53:39.082285Z",
     "shell.execute_reply": "2023-06-22T10:53:39.081963Z"
    }
   },
   "outputs": [
    {
     "name": "stderr",
     "output_type": "stream",
     "text": [
      "Using tour based purpose parser (recommended)\n"
     ]
    },
    {
     "name": "stderr",
     "output_type": "stream",
     "text": [
      "Adding pid->hh mapping to persons_attributes from trips.\n"
     ]
    },
    {
     "name": "stderr",
     "output_type": "stream",
     "text": [
      "Adding home locations to persons attributes using trips attributes.\n"
     ]
    },
    {
     "name": "stderr",
     "output_type": "stream",
     "text": [
      "Using freq of 'None' for all persons.\n"
     ]
    }
   ],
   "source": [
    "population = read.load_travel_diary(trips, attributes)"
   ]
  },
  {
   "cell_type": "code",
   "execution_count": 4,
   "metadata": {
    "ExecuteTime": {
     "end_time": "2020-05-25T13:34:33.431403Z",
     "start_time": "2020-05-25T13:34:32.910502Z"
    },
    "execution": {
     "iopub.execute_input": "2023-06-22T10:53:39.084646Z",
     "iopub.status.busy": "2023-06-22T10:53:39.084498Z",
     "iopub.status.idle": "2023-06-22T10:53:39.282548Z",
     "shell.execute_reply": "2023-06-22T10:53:39.282226Z"
    }
   },
   "outputs": [
    {
     "data": {
      "image/png": "[encoded data removed]",
      "text/plain": [
       "<Figure size 864x259.2 with 3 Axes>"
      ]
     },
     "metadata": {
      "needs_background": "light"
     },
     "output_type": "display_data"
    }
   ],
   "source": [
    "fig1 = plot_activity_times(population)"
   ]
  },
  {
   "cell_type": "code",
   "execution_count": 5,
   "metadata": {
    "ExecuteTime": {
     "end_time": "2020-05-25T13:34:33.787965Z",
     "start_time": "2020-05-25T13:34:33.438474Z"
    },
    "execution": {
     "iopub.execute_input": "2023-06-22T10:53:39.284107Z",
     "iopub.status.busy": "2023-06-22T10:53:39.283997Z",
     "iopub.status.idle": "2023-06-22T10:53:39.420559Z",
     "shell.execute_reply": "2023-06-22T10:53:39.420243Z"
    }
   },
   "outputs": [
    {
     "data": {
      "image/png": "[encoded data removed]",
      "text/plain": [
       "<Figure size 864x172.8 with 2 Axes>"
      ]
     },
     "metadata": {
      "needs_background": "light"
     },
     "output_type": "display_data"
    }
   ],
   "source": [
    "fig2 = plot_leg_times(population)"
   ]
  },
  {
   "cell_type": "code",
   "execution_count": null,
   "metadata": {},
   "outputs": [],
   "source": []
  }
 ],
 "metadata": {
  "kernelspec": {
   "display_name": "Python 3",
   "language": "python",
   "name": "python3"
  },
  "language_info": {
   "codemirror_mode": {
    "name": "ipython",
    "version": 3
   },
   "file_extension": ".py",
   "mimetype": "text/x-python",
   "name": "python",
   "nbconvert_exporter": "python",
   "pygments_lexer": "ipython3",
   "version": "3.9.16"
  },
  "toc": {
   "base_numbering": 1,
   "nav_menu": {},
   "number_sections": true,
   "sideBar": true,
   "skip_h1_title": false,
   "title_cell": "Table of Contents",
   "title_sidebar": "Contents",
   "toc_cell": false,
   "toc_position": {},
   "toc_section_display": true,
   "toc_window_display": false
  }
 },
 "nbformat": 4,
 "nbformat_minor": 4
}
