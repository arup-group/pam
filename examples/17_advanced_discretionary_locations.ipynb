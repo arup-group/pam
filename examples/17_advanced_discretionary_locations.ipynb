{
 "cells": [
  {
   "attachments": {},
   "cell_type": "markdown",
   "id": "e225bed3",
   "metadata": {},
   "source": [
    "# Applying a location model to discretionary activities\n",
    "\n",
    "This notebook applies a time-prism approach for choosing the location of non-mandatory activities. With this approach, agents try to sensibly combine the location of their discretionary activities around the locations of “anchor points” (defined as the locations of mandatory activities – home, employment, education).\n",
    "\n",
    "The `pam.planner.choice_location.DiscretionaryTrips` class allows the user to apply the time-space prism approach on a PAM plan, given accessibility and attraction data.\n",
    "\n",
    "The typical workflow goes as follows:\n",
    "\n",
    "``` python\n",
    "model = DiscretionaryTrips(population, od) # initialize the model and point to the data objects \n",
    "model.update_plan() # apply the model and update the location of each non-mandatory activity in the plan\n",
    "```"
   ]
  },
  {
   "cell_type": "code",
   "execution_count": 1,
   "id": "82e63bf7",
   "metadata": {
    "execution": {
     "iopub.execute_input": "2023-09-29T13:18:55.391277Z",
     "iopub.status.busy": "2023-09-29T13:18:55.391112Z",
     "iopub.status.idle": "2023-09-29T13:18:56.225887Z",
     "shell.execute_reply": "2023-09-29T13:18:56.225360Z"
    }
   },
   "outputs": [],
   "source": [
    "import logging\n",
    "import random\n",
    "from copy import deepcopy\n",
    "\n",
    "import numpy as np\n",
    "import pandas as pd\n",
    "from prettytable import PrettyTable\n",
    "from shapely.geometry import Point\n",
    "\n",
    "from pam.activity import Activity, Leg, Plan\n",
    "from pam.location import Location\n",
    "from pam.planner.choice_location import DiscretionaryTripOD, DiscretionaryTrips\n",
    "from pam.planner.od import ODFactory, ODMatrix\n",
    "from pam.planner.utils_planner import get_trip_chains_either_anchor\n",
    "from pam.utils import minutes_to_datetime as mtdt\n",
    "from pam.variables import END_OF_DAY\n",
    "\n",
    "logging.getLogger(\"pam\").setLevel(logging.DEBUG)\n",
    "random.seed(0)"
   ]
  },
  {
   "cell_type": "markdown",
   "id": "1f8b4b6b-24a2-4f12-a821-7e0966393d3d",
   "metadata": {},
   "source": [
    "## Methodology"
   ]
  },
  {
   "cell_type": "markdown",
   "id": "7a4a3e18-afa5-4775-8bda-d466b1ace936",
   "metadata": {},
   "source": [
    "We start by identifying fixed mandatory locations (ie home, work, education), splitting the PAM plan into chains of activities."
   ]
  },
  {
   "cell_type": "markdown",
   "id": "0e889c39-de05-4efa-9ecf-1066f7df7160",
   "metadata": {},
   "source": [
    "We then distinguish between 4 possible cases of trip chains:"
   ]
  },
  {
   "attachments": {},
   "cell_type": "markdown",
   "id": "9923e0b2-e543-4f78-a8d4-a05a3edb815f",
   "metadata": {},
   "source": [
    "![trip chain cases](../resources/example-discretionary-cases.png)"
   ]
  },
  {
   "cell_type": "markdown",
   "id": "535cc558-a480-43b3-869f-8301bcb53122",
   "metadata": {},
   "source": [
    "**Case 1** is a simple tour between mandatory activities, and may be approached with a discrete choice model (see 15_advanced_choice_modelling.ipynb)."
   ]
  },
  {
   "cell_type": "markdown",
   "id": "ec8a8900-760c-4bcd-858f-d5d076626657",
   "metadata": {},
   "source": [
    "**Case 2** selects a possible destination using origin-destination probabilities from the anchor location (saved under the `od_probs` variable of the `od` object)"
   ]
  },
  {
   "cell_type": "markdown",
   "id": "748c08f9-0009-41c3-b8fc-63f3310649cd",
   "metadata": {},
   "source": [
    "**Case 3** weights candidate locations as a function of three elements:\n",
    "* leg ratio, which captures how likely it is for the discretionary location to be closer to the previous or to the next fixed location (between 0 and 1)​\n",
    "* diversion factor, which captures the deviation from the straight path the individual is likely to accept in order to reach a discretionary activity location\n",
    "* attraction (OD probabilities), which captures the number of opportunities in a destination\n",
    "\n",
    "The final destination probabilities are calculated by multiplying the three elements: $p_j = p\\_leg_{ij} * p\\_diversion_{ij} * p\\_attraction_{ij}$"
   ]
  },
  {
   "cell_type": "markdown",
   "id": "14d163b9-b914-4576-aef9-db4087b38126",
   "metadata": {},
   "source": [
    "**Case 4** solves the first location as case 2, and then the rest as case 3."
   ]
  },
  {
   "attachments": {},
   "cell_type": "markdown",
   "id": "d863cc2c",
   "metadata": {},
   "source": [
    "## Data"
   ]
  },
  {
   "attachments": {},
   "cell_type": "markdown",
   "id": "6d13dd57",
   "metadata": {},
   "source": [
    "Let's create a plan with the following activity sequence: home->work->shop->work"
   ]
  },
  {
   "cell_type": "code",
   "execution_count": 2,
   "id": "a02cfd1e-33d8-4760-a368-f59d10727b38",
   "metadata": {
    "execution": {
     "iopub.execute_input": "2023-09-29T13:18:56.228613Z",
     "iopub.status.busy": "2023-09-29T13:18:56.228367Z",
     "iopub.status.idle": "2023-09-29T13:18:56.408397Z",
     "shell.execute_reply": "2023-09-29T13:18:56.407979Z"
    }
   },
   "outputs": [
    {
     "data": {
      "image/png": "[encoded data removed]",
      "text/plain": [
       "<Figure size 1600x175 with 1 Axes>"
      ]
     },
     "metadata": {},
     "output_type": "display_data"
    }
   ],
   "source": [
    "plan = Plan(home_area=\"h\", home_location=Location(loc=Point(0, 0), area=\"h\"))\n",
    "plan.add(\n",
    "    Activity(\n",
    "        seq=1, act=\"home\", area=\"h\", loc=Point(0, 0), start_time=mtdt(0), end_time=mtdt(5 * 60)\n",
    "    )\n",
    ")\n",
    "plan.add(\n",
    "    Leg(\n",
    "        seq=1,\n",
    "        mode=\"car\",\n",
    "        start_area=\"h\",\n",
    "        end_area=\"w\",\n",
    "        start_loc=Point(0, 0),\n",
    "        end_loc=Point(1, 2),\n",
    "        start_time=mtdt(5 * 60),\n",
    "        end_time=mtdt(6 * 60),\n",
    "    )\n",
    ")\n",
    "plan.add(\n",
    "    Activity(\n",
    "        seq=2,\n",
    "        act=\"visit\",\n",
    "        area=\"w\",\n",
    "        loc=Point(1, 2),\n",
    "        start_time=mtdt(6 * 60),\n",
    "        end_time=mtdt(17 * 60),\n",
    "    )\n",
    ")\n",
    "plan.add(\n",
    "    Leg(\n",
    "        seq=2,\n",
    "        mode=\"car\",\n",
    "        start_area=\"w\",\n",
    "        end_area=\"w\",\n",
    "        start_loc=Point(1, 2),\n",
    "        end_loc=Point(0, 0),\n",
    "        start_time=mtdt(17 * 60),\n",
    "        end_time=mtdt(18 * 60),\n",
    "    )\n",
    ")\n",
    "plan.add(\n",
    "    Activity(\n",
    "        seq=3,\n",
    "        act=\"work\",\n",
    "        area=\"w\",\n",
    "        loc=Point(0, 0),\n",
    "        start_time=mtdt(18 * 60),\n",
    "        end_time=mtdt(19 * 60),\n",
    "    )\n",
    ")\n",
    "plan.add(\n",
    "    Leg(\n",
    "        seq=3,\n",
    "        mode=\"car\",\n",
    "        start_area=\"w\",\n",
    "        end_area=\"na\",\n",
    "        start_loc=Point(0, 0),\n",
    "        end_loc=Point(1, 2),\n",
    "        start_time=mtdt(19 * 60),\n",
    "        end_time=mtdt(20 * 60),\n",
    "    )\n",
    ")\n",
    "plan.add(\n",
    "    Activity(\n",
    "        seq=4,\n",
    "        act=\"shop\",\n",
    "        area=\"na\",\n",
    "        loc=Point(2, 2),\n",
    "        start_time=mtdt(20 * 60),\n",
    "        end_time=mtdt(22 * 60),\n",
    "    )\n",
    ")\n",
    "plan.add(\n",
    "    Leg(\n",
    "        seq=4,\n",
    "        mode=\"car\",\n",
    "        start_area=\"na\",\n",
    "        end_area=\"h\",\n",
    "        start_loc=Point(2, 2),\n",
    "        end_loc=Point(0, 0),\n",
    "        start_time=mtdt(22 * 60),\n",
    "        end_time=mtdt(23 * 60),\n",
    "    )\n",
    ")\n",
    "plan.add(\n",
    "    Activity(\n",
    "        seq=5, act=\"home\", area=\"h\", loc=Point(0, 0), start_time=mtdt(23 * 60), end_time=END_OF_DAY\n",
    "    )\n",
    ")\n",
    "plan.plot()"
   ]
  },
  {
   "attachments": {},
   "cell_type": "markdown",
   "id": "1f6c39ea",
   "metadata": {},
   "source": [
    "The `od` object holds origin-destination data, for example travel time and travel distance between each origin and destination, for each travel mode.\n",
    "\n",
    "For the discretionary trips location choice, the `od` object needs to include the variable `od_probs`, which provides provides origin-destination probabilities to be considered -amongst others- as part of the location choice."
   ]
  },
  {
   "cell_type": "code",
   "execution_count": 3,
   "id": "15027351",
   "metadata": {
    "execution": {
     "iopub.execute_input": "2023-09-29T13:18:56.411070Z",
     "iopub.status.busy": "2023-09-29T13:18:56.410829Z",
     "iopub.status.idle": "2023-09-29T13:18:56.418922Z",
     "shell.execute_reply": "2023-09-29T13:18:56.418566Z"
    }
   },
   "outputs": [
    {
     "data": {
      "text/plain": [
       "Origin-destination dataset \n",
       "--------------------------------------------------\n",
       "Labels(vars=['time', 'distance', 'od_probs'], origin_zones=('h', 'b', 'w'), destination_zones=('h', 'b', 'w'), mode=['car', 'bus'])\n",
       "--------------------------------------------------\n",
       "time - car:\n",
       "[[20. 30. 40.]\n",
       " [30. 10. 30.]\n",
       " [40. 30. 20.]]\n",
       "--------------------------------------------------\n",
       "time - bus:\n",
       "[[30. 40. 45.]\n",
       " [40. 10. 40.]\n",
       " [45. 40. 30.]]\n",
       "--------------------------------------------------\n",
       "distance - car:\n",
       "[[5. 6. 8.]\n",
       " [6. 2. 6.]\n",
       " [8. 6. 5.]]\n",
       "--------------------------------------------------\n",
       "distance - bus:\n",
       "[[5. 7. 9.]\n",
       " [7. 2. 7.]\n",
       " [9. 7. 5.]]\n",
       "--------------------------------------------------\n",
       "od_probs - car:\n",
       "[[ 500.  333.  250.]\n",
       " [ 333. 1000.  333.]\n",
       " [ 250.  333.  500.]]\n",
       "--------------------------------------------------\n",
       "od_probs - bus:\n",
       "[[ 333.  250.  222.]\n",
       " [ 250. 1000.  250.]\n",
       " [ 222.  250.  333.]]\n",
       "--------------------------------------------------"
      ]
     },
     "execution_count": 3,
     "metadata": {},
     "output_type": "execute_result"
    }
   ],
   "source": [
    "zone_labels = (\"h\", \"b\", \"w\")\n",
    "od = ODFactory.from_matrices(\n",
    "    [\n",
    "        ODMatrix(\n",
    "            \"time\",\n",
    "            \"car\",\n",
    "            zone_labels,\n",
    "            zone_labels,\n",
    "            np.array([[20, 30, 40], [30, 10, 30], [40, 30, 20]]),\n",
    "        ),\n",
    "        ODMatrix(\n",
    "            \"time\",\n",
    "            \"bus\",\n",
    "            zone_labels,\n",
    "            zone_labels,\n",
    "            np.array([[30, 40, 45], [40, 10, 40], [45, 40, 30]]),\n",
    "        ),\n",
    "        ODMatrix(\n",
    "            \"distance\", \"car\", zone_labels, zone_labels, np.array([[5, 6, 8], [6, 2, 6], [8, 6, 5]])\n",
    "        ),\n",
    "        ODMatrix(\n",
    "            \"distance\", \"bus\", zone_labels, zone_labels, np.array([[5, 7, 9], [7, 2, 7], [9, 7, 5]])\n",
    "        ),\n",
    "        ODMatrix(\n",
    "            \"od_probs\",\n",
    "            \"car\",\n",
    "            zone_labels,\n",
    "            zone_labels,\n",
    "            np.array([[500, 333, 250], [333, 1000, 333], [250, 333, 500]]),\n",
    "        ),\n",
    "        ODMatrix(\n",
    "            \"od_probs\",\n",
    "            \"bus\",\n",
    "            zone_labels,\n",
    "            zone_labels,\n",
    "            np.array([[333, 250, 222], [250, 1000, 250], [222, 250, 333]]),\n",
    "        ),\n",
    "    ]\n",
    ")\n",
    "od"
   ]
  },
  {
   "cell_type": "markdown",
   "id": "0d679888-5933-4ac3-9dba-babdb324e67c",
   "metadata": {},
   "source": [
    "## Model application"
   ]
  },
  {
   "cell_type": "markdown",
   "id": "08ebbb60-8756-4789-8ed4-11c12feaf9fc",
   "metadata": {},
   "source": [
    "Initially, the `shop` activity was allocated to zone `na`:"
   ]
  },
  {
   "cell_type": "code",
   "execution_count": 4,
   "id": "e1163184",
   "metadata": {
    "execution": {
     "iopub.execute_input": "2023-09-29T13:18:56.421117Z",
     "iopub.status.busy": "2023-09-29T13:18:56.420918Z",
     "iopub.status.idle": "2023-09-29T13:18:56.425462Z",
     "shell.execute_reply": "2023-09-29T13:18:56.425088Z"
    }
   },
   "outputs": [
    {
     "name": "stdout",
     "output_type": "stream",
     "text": [
      "Work locations and travel modes:\n",
      "+-----+---------+----------+\n",
      "| seq | purpose | location |\n",
      "+-----+---------+----------+\n",
      "|  0  |   home  |    h     |\n",
      "|  1  |  visit  |    w     |\n",
      "|  2  |   work  |    w     |\n",
      "|  3  |   shop  |    na    |\n",
      "|  4  |   home  |    h     |\n",
      "+-----+---------+----------+\n"
     ]
    }
   ],
   "source": [
    "def print_activity_locs(plan):\n",
    "    summary = PrettyTable([\"seq\", \"purpose\", \"location\"])\n",
    "    for seq, act in enumerate(plan.activities):\n",
    "        summary.add_row([seq, act.act, act.location.area])\n",
    "    print(summary)\n",
    "\n",
    "\n",
    "print(\"Work locations and travel modes:\")\n",
    "print_activity_locs(plan)"
   ]
  },
  {
   "cell_type": "markdown",
   "id": "8af752f7-2d40-4a74-bc0e-a400dd9ed5a5",
   "metadata": {},
   "source": [
    "We apply the discretionary location choice model:"
   ]
  },
  {
   "cell_type": "code",
   "execution_count": 5,
   "id": "0c8f720d-d4f1-4a54-8222-bd482fa6a2b4",
   "metadata": {
    "execution": {
     "iopub.execute_input": "2023-09-29T13:18:56.427644Z",
     "iopub.status.busy": "2023-09-29T13:18:56.427458Z",
     "iopub.status.idle": "2023-09-29T13:18:56.431457Z",
     "shell.execute_reply": "2023-09-29T13:18:56.430970Z"
    }
   },
   "outputs": [],
   "source": [
    "plan_new = deepcopy(plan)\n",
    "planner = DiscretionaryTrips(plan=plan_new, od=od)\n",
    "planner.update_plan()"
   ]
  },
  {
   "cell_type": "markdown",
   "id": "31387271-af1b-4dd1-81f3-e014a6a83106",
   "metadata": {},
   "source": [
    "The location of the shop trip has now been updated:"
   ]
  },
  {
   "cell_type": "code",
   "execution_count": 6,
   "id": "67375c1e-9164-4341-b3e2-491058f05283",
   "metadata": {
    "execution": {
     "iopub.execute_input": "2023-09-29T13:18:56.433612Z",
     "iopub.status.busy": "2023-09-29T13:18:56.433422Z",
     "iopub.status.idle": "2023-09-29T13:18:56.437410Z",
     "shell.execute_reply": "2023-09-29T13:18:56.436998Z"
    }
   },
   "outputs": [
    {
     "name": "stdout",
     "output_type": "stream",
     "text": [
      "+-----+---------+----------+\n",
      "| seq | purpose | location |\n",
      "+-----+---------+----------+\n",
      "|  0  |   home  |    h     |\n",
      "|  1  |  visit  |    w     |\n",
      "|  2  |   work  |    w     |\n",
      "|  3  |   shop  |    w     |\n",
      "|  4  |   home  |    h     |\n",
      "+-----+---------+----------+\n"
     ]
    }
   ],
   "source": [
    "print_activity_locs(plan_new)"
   ]
  },
  {
   "cell_type": "markdown",
   "id": "f393b4d4-71de-4d6a-9244-c6d9097db7b0",
   "metadata": {},
   "source": [
    "<hr>"
   ]
  },
  {
   "cell_type": "markdown",
   "id": "960e5d3f-3786-4e60-bf4e-5f182293981e",
   "metadata": {},
   "source": [
    "## Breaking down the calculation"
   ]
  },
  {
   "cell_type": "markdown",
   "id": "f8bb1ad7-f073-4c34-92cd-77c71cae080a",
   "metadata": {},
   "source": [
    "This section goes through some of the calculations behind the model application."
   ]
  },
  {
   "cell_type": "markdown",
   "id": "134e97af-c173-46c1-b738-d08a5008e2a0",
   "metadata": {},
   "source": [
    "We select the work->shop->home chain:"
   ]
  },
  {
   "cell_type": "code",
   "execution_count": 7,
   "id": "6703633e-4912-4b53-badc-1df09d07c1a9",
   "metadata": {
    "execution": {
     "iopub.execute_input": "2023-09-29T13:18:56.439507Z",
     "iopub.status.busy": "2023-09-29T13:18:56.439325Z",
     "iopub.status.idle": "2023-09-29T13:18:56.443058Z",
     "shell.execute_reply": "2023-09-29T13:18:56.442609Z"
    }
   },
   "outputs": [],
   "source": [
    "plan_new = deepcopy(plan)\n",
    "chains = get_trip_chains_either_anchor(plan_new)\n",
    "chain = chains[-1]"
   ]
  },
  {
   "cell_type": "code",
   "execution_count": 8,
   "id": "7c50299c-d018-4a95-a345-4d60275af486",
   "metadata": {
    "execution": {
     "iopub.execute_input": "2023-09-29T13:18:56.445120Z",
     "iopub.status.busy": "2023-09-29T13:18:56.444972Z",
     "iopub.status.idle": "2023-09-29T13:18:56.448980Z",
     "shell.execute_reply": "2023-09-29T13:18:56.448555Z"
    }
   },
   "outputs": [
    {
     "data": {
      "text/plain": [
       "['work', 'travel', 'shop', 'travel', 'home']"
      ]
     },
     "execution_count": 8,
     "metadata": {},
     "output_type": "execute_result"
    }
   ],
   "source": [
    "[act.act for act in chain]"
   ]
  },
  {
   "cell_type": "code",
   "execution_count": 9,
   "id": "8295978c-7a9e-4f94-90ea-967822e22b0c",
   "metadata": {
    "execution": {
     "iopub.execute_input": "2023-09-29T13:18:56.451024Z",
     "iopub.status.busy": "2023-09-29T13:18:56.450843Z",
     "iopub.status.idle": "2023-09-29T13:18:56.453878Z",
     "shell.execute_reply": "2023-09-29T13:18:56.453484Z"
    }
   },
   "outputs": [],
   "source": [
    "model = DiscretionaryTripOD(chain, od)"
   ]
  },
  {
   "cell_type": "markdown",
   "id": "7e27e9d6-bc1b-43d4-bade-82659d557d69",
   "metadata": {},
   "source": [
    "The durations of the two trips are one hour each:"
   ]
  },
  {
   "cell_type": "code",
   "execution_count": 10,
   "id": "652ff1ad-8371-48fb-ae57-4f061b33f6e4",
   "metadata": {
    "execution": {
     "iopub.execute_input": "2023-09-29T13:18:56.456372Z",
     "iopub.status.busy": "2023-09-29T13:18:56.456143Z",
     "iopub.status.idle": "2023-09-29T13:18:56.459849Z",
     "shell.execute_reply": "2023-09-29T13:18:56.459522Z"
    }
   },
   "outputs": [
    {
     "data": {
      "text/plain": [
       "[datetime.timedelta(seconds=3600), datetime.timedelta(seconds=3600)]"
      ]
     },
     "execution_count": 10,
     "metadata": {},
     "output_type": "execute_result"
    }
   ],
   "source": [
    "[x.duration for x in chain if isinstance(x, Leg)]"
   ]
  },
  {
   "cell_type": "markdown",
   "id": "2034f85c-aef6-4db4-a0b4-a456e19b3e08",
   "metadata": {},
   "source": [
    "... and therefore, the observed leg ratio is 0.5:"
   ]
  },
  {
   "cell_type": "code",
   "execution_count": 11,
   "id": "285a6048-e7ed-408b-86e7-09770c3ae3c4",
   "metadata": {
    "execution": {
     "iopub.execute_input": "2023-09-29T13:18:56.461942Z",
     "iopub.status.busy": "2023-09-29T13:18:56.461751Z",
     "iopub.status.idle": "2023-09-29T13:18:56.465260Z",
     "shell.execute_reply": "2023-09-29T13:18:56.464841Z"
    },
    "scrolled": true
   },
   "outputs": [
    {
     "data": {
      "text/plain": [
       "0.5"
      ]
     },
     "execution_count": 11,
     "metadata": {},
     "output_type": "execute_result"
    }
   ],
   "source": [
    "model.observed_leg_ratio"
   ]
  },
  {
   "cell_type": "markdown",
   "id": "c2cacab7-ed83-4050-8fbd-5f93784160fb",
   "metadata": {},
   "source": [
    "Of the possible destination zones (h/b/w), zone b has the closest-to-observed leg ratio:"
   ]
  },
  {
   "cell_type": "code",
   "execution_count": 12,
   "id": "a960cc2f-ac94-4c1e-85e3-bb9a5543ee4c",
   "metadata": {
    "execution": {
     "iopub.execute_input": "2023-09-29T13:18:56.467352Z",
     "iopub.status.busy": "2023-09-29T13:18:56.467142Z",
     "iopub.status.idle": "2023-09-29T13:18:56.470729Z",
     "shell.execute_reply": "2023-09-29T13:18:56.470306Z"
    }
   },
   "outputs": [
    {
     "data": {
      "text/plain": [
       "array([0.66666667, 0.5       , 0.33333333])"
      ]
     },
     "execution_count": 12,
     "metadata": {},
     "output_type": "execute_result"
    }
   ],
   "source": [
    "model.leg_ratios"
   ]
  },
  {
   "cell_type": "markdown",
   "id": "1adfdcba-b973-4f5b-a597-459cebd44692",
   "metadata": {},
   "source": [
    "... and therefore, offers the highest \"leg_ratio\" probability:"
   ]
  },
  {
   "cell_type": "code",
   "execution_count": 13,
   "id": "639c6ee3-de4f-4cb9-8cc0-49de505aa3bc",
   "metadata": {
    "execution": {
     "iopub.execute_input": "2023-09-29T13:18:56.472664Z",
     "iopub.status.busy": "2023-09-29T13:18:56.472489Z",
     "iopub.status.idle": "2023-09-29T13:18:56.476169Z",
     "shell.execute_reply": "2023-09-29T13:18:56.475794Z"
    }
   },
   "outputs": [
    {
     "data": {
      "text/plain": [
       "array([0.66666667, 1.        , 0.66666667])"
      ]
     },
     "execution_count": 13,
     "metadata": {},
     "output_type": "execute_result"
    }
   ],
   "source": [
    "model.leg_ratio_p"
   ]
  },
  {
   "cell_type": "markdown",
   "id": "3d30aeda-9925-4c7f-b4b9-90cdcf2a7198",
   "metadata": {},
   "source": [
    "The diversion factors are the same each destination:"
   ]
  },
  {
   "cell_type": "code",
   "execution_count": 14,
   "id": "27449617-345d-4ded-b425-30684326347f",
   "metadata": {
    "execution": {
     "iopub.execute_input": "2023-09-29T13:18:56.478252Z",
     "iopub.status.busy": "2023-09-29T13:18:56.478077Z",
     "iopub.status.idle": "2023-09-29T13:18:56.481669Z",
     "shell.execute_reply": "2023-09-29T13:18:56.481272Z"
    }
   },
   "outputs": [
    {
     "data": {
      "text/plain": [
       "array([1.5, 1.5, 1.5])"
      ]
     },
     "execution_count": 14,
     "metadata": {},
     "output_type": "execute_result"
    }
   ],
   "source": [
    "model.diversion_factors"
   ]
  },
  {
   "cell_type": "markdown",
   "id": "8e215364-9a93-4b84-9154-e1238c2f9d19",
   "metadata": {},
   "source": [
    "... and therefore the diversion probabilities are equal:"
   ]
  },
  {
   "cell_type": "code",
   "execution_count": 15,
   "id": "5a2d3f46-a141-4d89-a06c-600640523b91",
   "metadata": {
    "execution": {
     "iopub.execute_input": "2023-09-29T13:18:56.484078Z",
     "iopub.status.busy": "2023-09-29T13:18:56.483759Z",
     "iopub.status.idle": "2023-09-29T13:18:56.487634Z",
     "shell.execute_reply": "2023-09-29T13:18:56.487154Z"
    }
   },
   "outputs": [
    {
     "data": {
      "text/plain": [
       "array([0.54545455, 0.54545455, 0.54545455])"
      ]
     },
     "execution_count": 15,
     "metadata": {},
     "output_type": "execute_result"
    }
   ],
   "source": [
    "model.diversion_p"
   ]
  },
  {
   "cell_type": "markdown",
   "id": "3e0b6ac6-64d5-4c0e-a8be-5236b9ced6f6",
   "metadata": {},
   "source": [
    "Attraction probabilities reflect the data in the `od` object:"
   ]
  },
  {
   "cell_type": "code",
   "execution_count": 16,
   "id": "b3cdb221-80b3-45ce-a5bc-e0e1255bc2da",
   "metadata": {
    "execution": {
     "iopub.execute_input": "2023-09-29T13:18:56.489813Z",
     "iopub.status.busy": "2023-09-29T13:18:56.489619Z",
     "iopub.status.idle": "2023-09-29T13:18:56.493257Z",
     "shell.execute_reply": "2023-09-29T13:18:56.492907Z"
    }
   },
   "outputs": [
    {
     "data": {
      "text/plain": [
       "array([250., 333., 500.])"
      ]
     },
     "execution_count": 16,
     "metadata": {},
     "output_type": "execute_result"
    }
   ],
   "source": [
    "model.od[\"od_probs\", \"w\", :, \"car\"]"
   ]
  },
  {
   "cell_type": "markdown",
   "id": "d5156166-446c-42b1-ad06-0f4a9425ca54",
   "metadata": {},
   "source": [
    ".. the more opportunities it offers, the higher the probability of a destination:"
   ]
  },
  {
   "cell_type": "code",
   "execution_count": 17,
   "id": "94d6b7be-8278-43a5-962f-cd9dd44d0725",
   "metadata": {
    "execution": {
     "iopub.execute_input": "2023-09-29T13:18:56.495317Z",
     "iopub.status.busy": "2023-09-29T13:18:56.495162Z",
     "iopub.status.idle": "2023-09-29T13:18:56.498948Z",
     "shell.execute_reply": "2023-09-29T13:18:56.498527Z"
    }
   },
   "outputs": [
    {
     "data": {
      "text/plain": [
       "array([0.23084026, 0.30747922, 0.46168052])"
      ]
     },
     "execution_count": 17,
     "metadata": {},
     "output_type": "execute_result"
    }
   ],
   "source": [
    "model.attraction_p"
   ]
  },
  {
   "cell_type": "markdown",
   "id": "6ccdf3d1-0946-489d-95a3-cc0647d60a7d",
   "metadata": {},
   "source": [
    "The final probabilities are defined as the product of the three elements:"
   ]
  },
  {
   "cell_type": "code",
   "execution_count": 18,
   "id": "5fb51c28-7109-4a43-83da-e7e9865f25a6",
   "metadata": {
    "execution": {
     "iopub.execute_input": "2023-09-29T13:18:56.500983Z",
     "iopub.status.busy": "2023-09-29T13:18:56.500811Z",
     "iopub.status.idle": "2023-09-29T13:18:56.504558Z",
     "shell.execute_reply": "2023-09-29T13:18:56.504226Z"
    }
   },
   "outputs": [
    {
     "data": {
      "text/plain": [
       "array([0.20008003, 0.3997599 , 0.40016006])"
      ]
     },
     "execution_count": 18,
     "metadata": {},
     "output_type": "execute_result"
    }
   ],
   "source": [
    "probs = model.leg_ratio_p * model.diversion_p * model.attraction_p\n",
    "probs /= probs.sum()\n",
    "probs"
   ]
  },
  {
   "cell_type": "code",
   "execution_count": 19,
   "id": "d37ac59a-056e-442c-8983-68228fdaefb5",
   "metadata": {
    "execution": {
     "iopub.execute_input": "2023-09-29T13:18:56.506503Z",
     "iopub.status.busy": "2023-09-29T13:18:56.506350Z",
     "iopub.status.idle": "2023-09-29T13:18:56.509637Z",
     "shell.execute_reply": "2023-09-29T13:18:56.509283Z"
    }
   },
   "outputs": [
    {
     "data": {
      "text/plain": [
       "array([0.20008003, 0.3997599 , 0.40016006])"
      ]
     },
     "execution_count": 19,
     "metadata": {},
     "output_type": "execute_result"
    }
   ],
   "source": [
    "model.destination_p"
   ]
  },
  {
   "cell_type": "markdown",
   "id": "8aba630a-281d-4f24-b3d6-e1b843344380",
   "metadata": {},
   "source": [
    "Running the model multiple times gives us the same probabilities:"
   ]
  },
  {
   "cell_type": "code",
   "execution_count": 20,
   "id": "074ab041-2c0a-40bb-bb21-12c1ff83516c",
   "metadata": {
    "execution": {
     "iopub.execute_input": "2023-09-29T13:18:56.511454Z",
     "iopub.status.busy": "2023-09-29T13:18:56.511315Z",
     "iopub.status.idle": "2023-09-29T13:18:56.621244Z",
     "shell.execute_reply": "2023-09-29T13:18:56.620401Z"
    }
   },
   "outputs": [
    {
     "data": {
      "text/plain": [
       "h    0.200\n",
       "b    0.403\n",
       "w    0.397\n",
       "Name: proportion, dtype: float64"
      ]
     },
     "execution_count": 20,
     "metadata": {},
     "output_type": "execute_result"
    }
   ],
   "source": [
    "res = []\n",
    "for i in range(10**3):\n",
    "    planner = DiscretionaryTrips(plan=plan_new, od=od)\n",
    "    planner.update_plan()\n",
    "    res.append(list(plan_new.activities)[3].location.area)\n",
    "res = pd.Series(res)\n",
    "res.value_counts(normalize=True).loc[list(od.labels.destination_zones)]"
   ]
  }
 ],
 "metadata": {
  "kernelspec": {
   "display_name": "Python 3 (ipykernel)",
   "language": "python",
   "name": "python3"
  },
  "language_info": {
   "codemirror_mode": {
    "name": "ipython",
    "version": 3
   },
   "file_extension": ".py",
   "mimetype": "text/x-python",
   "name": "python",
   "nbconvert_exporter": "python",
   "pygments_lexer": "ipython3",
   "version": "3.11.5"
  }
 },
 "nbformat": 4,
 "nbformat_minor": 5
}
