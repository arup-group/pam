{
 "cells": [
  {
   "cell_type": "code",
   "execution_count": 1,
   "id": "99886b74",
   "metadata": {
    "ExecuteTime": {
     "end_time": "2022-03-04T11:34:04.544528Z",
     "start_time": "2022-03-04T11:33:59.873544Z"
    }
   },
   "outputs": [
    {
     "name": "stderr",
     "output_type": "stream",
     "text": [
      "Using tour based purpose parser (recommended)\n",
      "Adding pid->hh mapping to persons_attributes from trips.\n",
      "Adding home locations to persons attributes using trips attributes.\n",
      "Using freq of 'None' for all persons.\n"
     ]
    }
   ],
   "source": [
    "from pam import read\n",
    "import pam.vehicle\n",
    "import pandas as pd\n",
    "from pprint import pprint\n",
    "import os\n",
    "\n",
    "# load up population\n",
    "data_path = os.path.join(\"data\", \"example_data\")\n",
    "trips = pd.read_csv(os.path.join(data_path, 'example_travel_diaries.csv'))\n",
    "attributes = pd.read_csv(os.path.join(data_path, 'example_attributes.csv'))\n",
    "attributes.set_index('pid', inplace=True)\n",
    "pop = read.load_travel_diary(trips, attributes)"
   ]
  },
  {
   "cell_type": "code",
   "execution_count": 2,
   "id": "3d36096e",
   "metadata": {
    "ExecuteTime": {
     "end_time": "2022-03-04T11:34:05.628258Z",
     "start_time": "2022-03-04T11:34:04.546612Z"
    }
   },
   "outputs": [],
   "source": [
    "pop = pam.read.read_matsim(\n",
    "    os.path.join(data_path, 'example_plans.xml'),\n",
    "    version = 12)"
   ]
  },
  {
   "cell_type": "code",
   "execution_count": 3,
   "id": "404133c9",
   "metadata": {
    "ExecuteTime": {
     "end_time": "2022-03-04T11:34:05.672067Z",
     "start_time": "2022-03-04T11:34:05.642598Z"
    }
   },
   "outputs": [
    {
     "data": {
      "text/plain": [
       "{'num_households': 2926,\n",
       " 'num_people': 2926,\n",
       " 'num_activities': 8778,\n",
       " 'num_legs': 5852}"
      ]
     },
     "execution_count": 3,
     "metadata": {},
     "output_type": "execute_result"
    }
   ],
   "source": [
    "pop.stats"
   ]
  },
  {
   "cell_type": "code",
   "execution_count": null,
   "id": "1e7399a1",
   "metadata": {},
   "outputs": [],
   "source": []
  },
  {
   "cell_type": "markdown",
   "id": "62e01c80",
   "metadata": {},
   "source": [
    "## Simple example of vehicle assignment\n",
    "\n",
    "Below we assign vehicles to agents with a car mode in their plans. We give default vehicles or default electric vehicles to random agents. Defaults follow the same defaults as defined in MATSim's dtd files:\n",
    "[vehicleDefinitions_v2.0.xsd](https://www.matsim.org/files/dtd/vehicleDefinitions_v2.0.xsd) and\n",
    "[electric_vehicles_v1.dtd](https://www.matsim.org/files/dtd/electric_vehicles_v1.dtd). Saving this population to matsim files will produce these files."
   ]
  },
  {
   "cell_type": "code",
   "execution_count": 4,
   "id": "37f14279",
   "metadata": {
    "ExecuteTime": {
     "end_time": "2022-03-04T11:34:05.680076Z",
     "start_time": "2022-03-04T11:34:05.675127Z"
    }
   },
   "outputs": [],
   "source": [
    "# let's define some vehicles\n",
    "\n",
    "default_ev_vehicle_type = pam.vehicle.VehicleType('default_EV')\n",
    "big_ev_vehicle_type = pam.vehicle.VehicleType('big_EV', length=15, width=2)\n",
    "default_vehicle_type = pam.vehicle.VehicleType('default_car')"
   ]
  },
  {
   "cell_type": "code",
   "execution_count": 5,
   "id": "22a76800",
   "metadata": {
    "ExecuteTime": {
     "end_time": "2022-03-04T11:34:05.709156Z",
     "start_time": "2022-03-04T11:34:05.686626Z"
    }
   },
   "outputs": [],
   "source": [
    "import random\n",
    "\n",
    "for hid, pid, p in pop.people():\n",
    "    if 'car' in p.mode_classes:\n",
    "        if random.random() < 0.5:\n",
    "            # let's give a vehicle to this person\n",
    "            if random.random() < 0.5:\n",
    "                p.assign_vehicle(pam.vehicle.ElectricVehicle(pid, vehicle_type=default_ev_vehicle_type))\n",
    "            else:\n",
    "                p.assign_vehicle(pam.vehicle.Vehicle(pid, default_vehicle_type))"
   ]
  },
  {
   "cell_type": "markdown",
   "id": "519d7819",
   "metadata": {},
   "source": [
    "You can also change default parameters for ElectricVehicles too. You can set their `battery_capacity` and initial state of charge `initial_soc` and the charger types allowed `charger_types`."
   ]
  },
  {
   "cell_type": "code",
   "execution_count": 6,
   "id": "2d47aa6e",
   "metadata": {
    "ExecuteTime": {
     "end_time": "2022-03-04T11:34:05.723092Z",
     "start_time": "2022-03-04T11:34:05.711790Z"
    }
   },
   "outputs": [
    {
     "name": "stdout",
     "output_type": "stream",
     "text": [
      "{'battery_capacity': 60,\n",
      " 'charger_types': 'default',\n",
      " 'id': 'id',\n",
      " 'initial_soc': 60,\n",
      " 'vehicle_type': VehicleType(id='defaultElectricVehicleType', length=7.5, width=1.0, networkMode='car', capacity=CapacityType(seats=4, standingRoomInPersons=0), description='personal_vehicle', passengerCarEquivalents=1.0, flowEfficiencyFactor=1.0)}\n"
     ]
    }
   ],
   "source": [
    "pprint(pam.vehicle.ElectricVehicle('id').__dict__)"
   ]
  },
  {
   "cell_type": "code",
   "execution_count": 7,
   "id": "4e756730",
   "metadata": {
    "ExecuteTime": {
     "end_time": "2022-03-04T11:34:05.744551Z",
     "start_time": "2022-03-04T11:34:05.730426Z"
    }
   },
   "outputs": [
    {
     "data": {
      "text/plain": [
       "142"
      ]
     },
     "execution_count": 7,
     "metadata": {},
     "output_type": "execute_result"
    }
   ],
   "source": [
    "len(pop.electric_vehicles())"
   ]
  },
  {
   "cell_type": "code",
   "execution_count": 8,
   "id": "f230a9e3",
   "metadata": {
    "ExecuteTime": {
     "end_time": "2022-03-04T11:34:05.792502Z",
     "start_time": "2022-03-04T11:34:05.761531Z"
    }
   },
   "outputs": [
    {
     "data": {
      "text/plain": [
       "{'default'}"
      ]
     },
     "execution_count": 8,
     "metadata": {},
     "output_type": "execute_result"
    }
   ],
   "source": [
    "pop.electric_vehicle_charger_types()"
   ]
  },
  {
   "cell_type": "code",
   "execution_count": 9,
   "id": "c35b2698",
   "metadata": {
    "ExecuteTime": {
     "end_time": "2022-03-04T11:34:06.426081Z",
     "start_time": "2022-03-04T11:34:05.796273Z"
    }
   },
   "outputs": [
    {
     "name": "stderr",
     "output_type": "stream",
     "text": [
      "INFO:root:Population includes vehicles\n",
      "INFO:root:Saving vehicles to ./\n",
      "INFO:root:Writing all vehicles to ./all_vehicles.xml\n",
      "INFO:root:Population includes electric vehicles\n",
      "INFO:root:Writing electric vehicles to ./electric_vehicles.xml\n",
      "INFO:root:Found 142 electric vehicles with unique charger types: {'default'}. Ensure you generate a chargers xml file: https://www.matsim.org/files/dtd/chargers_v1.dtd if you're running a simulation using org.matsim.contrib.ev\n"
     ]
    }
   ],
   "source": [
    "import logging\n",
    "from pam import write\n",
    "\n",
    "logging.basicConfig()\n",
    "logging.getLogger().setLevel(logging.INFO)\n",
    "\n",
    "write.write_matsim(\n",
    "    pop,\n",
    "    plans_path='./plans.xml',\n",
    "    vehicles_dir='./',\n",
    "    version=12\n",
    ")"
   ]
  }
 ],
 "metadata": {
  "kernelspec": {
   "display_name": "Python (pam)",
   "language": "python",
   "name": "pam"
  },
  "language_info": {
   "codemirror_mode": {
    "name": "ipython",
    "version": 3
   },
   "file_extension": ".py",
   "mimetype": "text/x-python",
   "name": "python",
   "nbconvert_exporter": "python",
   "pygments_lexer": "ipython3",
   "version": "3.7.7"
  },
  "latex_envs": {
   "LaTeX_envs_menu_present": true,
   "autoclose": true,
   "autocomplete": true,
   "bibliofile": "biblio.bib",
   "cite_by": "apalike",
   "current_citInitial": 1,
   "eqLabelWithNumbers": true,
   "eqNumInitial": 1,
   "hotkeys": {
    "equation": "Ctrl-E",
    "itemize": "Ctrl-I"
   },
   "labels_anchors": false,
   "latex_user_defs": false,
   "report_style_numbering": false,
   "user_envs_cfg": false
  },
  "toc": {
   "base_numbering": 1,
   "nav_menu": {},
   "number_sections": true,
   "sideBar": true,
   "skip_h1_title": false,
   "title_cell": "Table of Contents",
   "title_sidebar": "Contents",
   "toc_cell": false,
   "toc_position": {},
   "toc_section_display": true,
   "toc_window_display": false
  },
  "varInspector": {
   "cols": {
    "lenName": 16,
    "lenType": 16,
    "lenVar": 40
   },
   "kernels_config": {
    "python": {
     "delete_cmd_postfix": "",
     "delete_cmd_prefix": "del ",
     "library": "var_list.py",
     "varRefreshCmd": "print(var_dic_list())"
    },
    "r": {
     "delete_cmd_postfix": ") ",
     "delete_cmd_prefix": "rm(",
     "library": "var_list.r",
     "varRefreshCmd": "cat(var_dic_list()) "
    }
   },
   "types_to_exclude": [
    "module",
    "function",
    "builtin_function_or_method",
    "instance",
    "_Feature"
   ],
   "window_display": false
  }
 },
 "nbformat": 4,
 "nbformat_minor": 5
}
