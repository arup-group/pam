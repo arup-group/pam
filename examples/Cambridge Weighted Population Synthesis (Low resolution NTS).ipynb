{
 "cells": [
  {
   "cell_type": "markdown",
   "metadata": {
    "ExecuteTime": {
     "end_time": "2020-11-10T19:48:47.722892Z",
     "start_time": "2020-11-10T19:48:46.948691Z"
    }
   },
   "source": [
    "# Converting the National Travel Survey into a Simple MATSim Format Population\n",
    "\n",
    "This notebook demonstrates an example workflow for converting tabular diary data (household attributes, person attributes and trip data) into MATSim formatted xml population data for London households.\n",
    "\n",
    "This includes:\n",
    "- pre-processing of tabular inputs\n",
    "- loading data into pam\n",
    "- household sampling\n",
    "- facility sampling\n",
    "- preliminary investigation\n",
    "- writing to xml\n",
    "\n",
    "This example is highly simplified. Of particular note: the diary data used is spatially very aggregate (trip locations are aggregated to inner/outer London). This creates significant variance in the sampled trip lengths. Generally we would expect more precise spatial data to be used. Alternately the complexity of the facility sampling step can be improved to better account for known trip features such as mode and duration.\n",
    "\n",
    "The diary data used is available from the UK Data Service (https://beta.ukdataservice.ac.uk/datacatalogue/studies/study?id=5340) and is described here:http://doc.ukdataservice.ac.uk/doc/5340/mrdoc/pdf/5340_nts_user_guidance_1995-2016.pdf"
   ]
  },
  {
   "cell_type": "code",
   "execution_count": null,
   "metadata": {
    "ExecuteTime": {
     "end_time": "2020-11-23T09:59:00.355147Z",
     "start_time": "2020-11-23T09:58:59.245038Z"
    }
   },
   "outputs": [],
   "source": [
    "%matplotlib inline\n",
    "import pandas as pd\n",
    "import numpy as np\n",
    "import geopandas as gp\n",
    "import os\n",
    "import warnings\n",
    "from matplotlib import pyplot as plt\n",
    "from copy import deepcopy\n",
    "from tqdm import tqdm\n",
    "\n",
    "# source mapbox token\n",
    "f = open(\"../.mapbox_token\", \"r\")\n",
    "mapbox_token = f.read().split('\\n')[0]"
   ]
  },
  {
   "cell_type": "markdown",
   "metadata": {
    "ExecuteTime": {
     "end_time": "2020-08-03T17:13:00.123065Z",
     "start_time": "2020-08-03T17:13:00.093023Z"
    }
   },
   "source": [
    "## Load households data\n",
    "\n",
    "Load household data into pandas DataFrame."
   ]
  },
  {
   "cell_type": "code",
   "execution_count": null,
   "metadata": {},
   "outputs": [],
   "source": [
    "# Number of samples in csv\n",
    "N = 5#3000\n",
    "# Seed used\n",
    "seed = 1234\n",
    "\n",
    "cambridge_hh_sample = pd.read_csv(f'../data/outputs/cambridge_nts_samples/cambridge_nts_household_sample_N{N}_SEED{seed}.csv',\n",
    "                                  index_col=0)\n",
    "cambridge_hh_sample.head(5)"
   ]
  },
  {
   "cell_type": "markdown",
   "metadata": {
    "ExecuteTime": {
     "end_time": "2020-08-04T10:49:47.862682Z",
     "start_time": "2020-08-04T10:49:47.799479Z"
    }
   },
   "source": [
    "## Load Cambridge person data\n",
    "\n",
    "Load person attributes data into pandas DataFrame."
   ]
  },
  {
   "cell_type": "code",
   "execution_count": null,
   "metadata": {
    "ExecuteTime": {
     "end_time": "2020-11-23T09:59:06.030164Z",
     "start_time": "2020-11-23T09:59:02.474033Z"
    }
   },
   "outputs": [],
   "source": [
    "cambridge_persons_sample = pd.read_csv(\n",
    "    f'../data/outputs/cambridge_nts_samples/cambridge_nts_people_sample_N{N}_SEED{seed}.csv',index_col=0\n",
    ")\n",
    "cambridge_persons_sample.head(5)"
   ]
  },
  {
   "cell_type": "markdown",
   "metadata": {},
   "source": [
    "## Load Cambridge trip data\n",
    "\n",
    "1. Load trip data into pandas DataFrame format.\n",
    "2. Apply some preliminary formatting\n",
    "3. Replace headers so that we can use pam read method:\n",
    "\n",
    "\n",
    "- pid - person ID\n",
    "- hid - household ID\n",
    "- seq - trip sequence number\n",
    "- hzone - household zone\n",
    "- ozone - trip origin zone\n",
    "- dzone - trip destination zone\n",
    "- purp - trip purpose\n",
    "- mode - trip mode\n",
    "- tst - trip start time (minutes)\n",
    "- tet - trip end time (minutes)\n",
    "- freq - weighting for representative population"
   ]
  },
  {
   "cell_type": "code",
   "execution_count": null,
   "metadata": {
    "ExecuteTime": {
     "end_time": "2020-11-23T09:59:19.495376Z",
     "start_time": "2020-11-23T09:59:06.038395Z"
    }
   },
   "outputs": [],
   "source": [
    "cambridge_trips_sample = pd.read_csv(\n",
    "    f'../data/outputs/cambridge_nts_samples/cambridge_nts_trip_with_zones_sample_N{N}_SEED{seed}.csv',index_col=0\n",
    ")\n",
    "cambridge_trips_sample.head(5)"
   ]
  },
  {
   "cell_type": "markdown",
   "metadata": {},
   "source": [
    "## Load facilities and zones"
   ]
  },
  {
   "cell_type": "code",
   "execution_count": null,
   "metadata": {
    "ExecuteTime": {
     "end_time": "2020-11-23T19:41:13.503578Z",
     "start_time": "2020-11-23T19:41:13.475775Z"
    }
   },
   "outputs": [],
   "source": [
    "from pam.samplers import facility"
   ]
  },
  {
   "cell_type": "code",
   "execution_count": null,
   "metadata": {},
   "outputs": [],
   "source": [
    "def load_facilities(path, from_crs=\"EPSG:4326\", to_crs=\"EPSG:27700\"):\n",
    "    \n",
    "    facilities = gp.read_file(path)\n",
    "    facilities = facilities.rename(columns={\"activities\":\"activity\"})\n",
    "    # Reproject if necessary\n",
    "    if from_crs != to_crs: \n",
    "        print('Reprojecting facilities')\n",
    "        facilities.crs = from_crs\n",
    "        facilities.to_crs(to_crs, inplace=True)\n",
    "    facilities.crs = to_crs\n",
    "    return facilities\n",
    "\n",
    "def load_zones(zones_path, from_crs=\"EPSG:27700\", to_crs=\"EPSG:27700\"):\n",
    "    \n",
    "    zones = gp.read_file(zones_path)\n",
    "    zones.set_index('ward_code', inplace=True)\n",
    "    if not from_crs == to_crs:\n",
    "        zones.crs = from_crs\n",
    "        zones.to_crs(to_crs, inplace=True)\n",
    "    return zones"
   ]
  },
  {
   "cell_type": "code",
   "execution_count": null,
   "metadata": {
    "ExecuteTime": {
     "end_time": "2020-11-23T19:41:13.882483Z",
     "start_time": "2020-11-23T19:41:13.854988Z"
    }
   },
   "outputs": [],
   "source": [
    "# Import wards and facilities in Cambridge\n",
    "\n",
    "# Facilities file path\n",
    "cambridge_facilities_path = '../data/inputs/cambridge/cambridge_facilities_spread_filtered.geojson'\n",
    "# './data/cambridge/cambridge_facilities_filtered.geojson'\n",
    "\n",
    "# Boundary file path\n",
    "area_path = \"../data/inputs/cambridge/cambridge_wards.geojson\"\n",
    "# \"./data/Counties_Unitary_Authorities_dec2017_full_extent/NTS_boundaries.geojson\"\n",
    "# \"./data/cambridge/cambridge_bufferred_convex_hull_output_areas.geojson\" \n",
    "\n",
    "cambridge_facilities = load_facilities(cambridge_facilities_path, from_crs=\"EPSG:27700\")\n",
    "wards = load_zones(area_path, from_crs=\"EPSG:27700\")\n",
    "# wards = wards.reset_index()"
   ]
  },
  {
   "cell_type": "markdown",
   "metadata": {},
   "source": [
    "### Visualise wards and facilities"
   ]
  },
  {
   "cell_type": "code",
   "execution_count": null,
   "metadata": {},
   "outputs": [],
   "source": [
    "def plot_facilities_within_boundaries(fac,\n",
    "                                      bounds,\n",
    "                                      plot_flag:bool=False):\n",
    "    warnings.filterwarnings(\"ignore\")\n",
    "    \n",
    "    fig, ax = plt.subplots(figsize = (15,15))\n",
    "    fac.plot(ax=ax, markersize=2, column='activity',legend=True,legend_kwds={'loc': 'upper right'})\n",
    "    bounds.geometry.boundary.plot(ax = ax,color=None,edgecolor='k')\n",
    "    # for zone, centroid in zip(bounds.index, bounds.centroid):\n",
    "    #     ax.annotate(zone, xy = (centroid.x, centroid.y), size = 15)\n",
    "    ax.axis('off')\n",
    "    \n",
    "    if plot_flag: plt.savefig('../data/outputs/figures/facilities_by_ward.png',dpi=1000)\n",
    "\n",
    "plot_facilities_within_boundaries(cambridge_facilities,wards)"
   ]
  },
  {
   "cell_type": "code",
   "execution_count": null,
   "metadata": {},
   "outputs": [],
   "source": [
    "cambridge_facilities.head(3)"
   ]
  },
  {
   "cell_type": "code",
   "execution_count": null,
   "metadata": {},
   "outputs": [],
   "source": [
    "cambridge_facilities.activity.unique()"
   ]
  },
  {
   "cell_type": "markdown",
   "metadata": {},
   "source": [
    "## Map zones to integers"
   ]
  },
  {
   "cell_type": "code",
   "execution_count": null,
   "metadata": {},
   "outputs": [],
   "source": [
    "ward_to_area_mapping = dict(zip(wards.index,wards.objectid))"
   ]
  },
  {
   "cell_type": "code",
   "execution_count": null,
   "metadata": {},
   "outputs": [],
   "source": [
    "# cambridge_hh_sample.loc[:,'hzone'] = cambridge_hh_sample.hzone.replace(ward_to_area_mapping).astype(int)\n",
    "# cambridge_persons_sample.loc[:,'hzone'] = cambridge_persons_sample.hzone.replace(ward_to_area_mapping).astype(int)\n",
    "# cambridge_trips_sample.loc[:,'hzone'] = cambridge_trips_sample.hzone.replace(ward_to_area_mapping).astype(int)\n",
    "# cambridge_trips_sample.loc[:,'ozone'] = cambridge_trips_sample.ozone.replace(ward_to_area_mapping).astype(int)\n",
    "# cambridge_trips_sample.loc[:,'dzone'] = cambridge_trips_sample.dzone.replace(ward_to_area_mapping).astype(int)"
   ]
  },
  {
   "cell_type": "markdown",
   "metadata": {},
   "source": [
    "## Load into PAM\n",
    "\n",
    "We load the pandas formatted data into Pam using the `pam.read.load_travel_diary_from_to` read method. We do some very preliminary validation of plans and assurance."
   ]
  },
  {
   "cell_type": "code",
   "execution_count": null,
   "metadata": {
    "ExecuteTime": {
     "end_time": "2020-11-23T12:10:07.959695Z",
     "start_time": "2020-11-23T12:10:07.835753Z"
    }
   },
   "outputs": [],
   "source": [
    "from pam import write\n",
    "from pam import read\n",
    "from pam.plot.stats import plot_activity_times, plot_leg_times"
   ]
  },
  {
   "cell_type": "code",
   "execution_count": null,
   "metadata": {
    "ExecuteTime": {
     "end_time": "2020-11-23T12:10:08.008552Z",
     "start_time": "2020-11-23T12:10:07.963560Z"
    }
   },
   "outputs": [],
   "source": [
    "cambridge_trips_sample.tst = cambridge_trips_sample.tst.astype(int)\n",
    "cambridge_trips_sample.tet = cambridge_trips_sample.tet.astype(int)"
   ]
  },
  {
   "cell_type": "code",
   "execution_count": null,
   "metadata": {},
   "outputs": [],
   "source": [
    "# Deepcopy objects\n",
    "cambridge_hh_sam = deepcopy(cambridge_hh_sample).set_index('hid')\n",
    "cambridge_persons_sam = deepcopy(cambridge_persons_sample).set_index('pid')\n",
    "cambridge_trips_sam = deepcopy(cambridge_trips_sample)"
   ]
  },
  {
   "cell_type": "code",
   "execution_count": null,
   "metadata": {
    "ExecuteTime": {
     "end_time": "2020-11-23T12:10:17.801118Z",
     "start_time": "2020-11-23T12:10:08.014383Z"
    },
    "scrolled": true
   },
   "outputs": [],
   "source": [
    "population = read.load_travel_diary(\n",
    "    trips = cambridge_trips_sam,\n",
    "    persons_attributes=cambridge_persons_sam,\n",
    "    hhs_attributes=cambridge_hh_sam,\n",
    "    trip_freq_as_person_freq=True,\n",
    "    trip_freq_as_hh_freq=False,\n",
    "    sample_perc = None,\n",
    "#     tour_based = False\n",
    ")"
   ]
  },
  {
   "cell_type": "code",
   "execution_count": null,
   "metadata": {
    "ExecuteTime": {
     "end_time": "2020-11-23T12:10:17.999106Z",
     "start_time": "2020-11-23T12:10:17.804047Z"
    }
   },
   "outputs": [],
   "source": [
    "population.fix_plans()"
   ]
  },
  {
   "cell_type": "code",
   "execution_count": null,
   "metadata": {
    "ExecuteTime": {
     "end_time": "2020-11-23T12:10:18.064982Z",
     "start_time": "2020-11-23T12:10:18.001901Z"
    }
   },
   "outputs": [],
   "source": [
    "# this should be replaced with a more direct method\n",
    "for hh in tqdm(population.households.values()):\n",
    "    for p in hh.people.values():\n",
    "        p.validate()\n",
    "#         p.plot()\n",
    "#         break"
   ]
  },
  {
   "cell_type": "code",
   "execution_count": null,
   "metadata": {
    "ExecuteTime": {
     "end_time": "2020-11-23T12:10:18.106291Z",
     "start_time": "2020-11-23T12:10:18.067138Z"
    }
   },
   "outputs": [],
   "source": [
    "print(population.size)\n",
    "# this also accounts for the weighting"
   ]
  },
  {
   "cell_type": "code",
   "execution_count": null,
   "metadata": {
    "ExecuteTime": {
     "end_time": "2020-11-23T12:10:18.169445Z",
     "start_time": "2020-11-23T12:10:18.119285Z"
    }
   },
   "outputs": [],
   "source": [
    "population.stats"
   ]
  },
  {
   "cell_type": "code",
   "execution_count": null,
   "metadata": {
    "ExecuteTime": {
     "end_time": "2020-11-23T12:10:18.219002Z",
     "start_time": "2020-11-23T12:10:18.176008Z"
    }
   },
   "outputs": [],
   "source": [
    "population.activity_classes"
   ]
  },
  {
   "cell_type": "code",
   "execution_count": null,
   "metadata": {
    "ExecuteTime": {
     "end_time": "2020-11-23T12:10:18.270601Z",
     "start_time": "2020-11-23T12:10:18.222929Z"
    }
   },
   "outputs": [],
   "source": [
    "population.mode_classes"
   ]
  },
  {
   "cell_type": "code",
   "execution_count": null,
   "metadata": {
    "ExecuteTime": {
     "end_time": "2020-11-23T12:10:20.473655Z",
     "start_time": "2020-11-23T12:10:18.277070Z"
    },
    "scrolled": false
   },
   "outputs": [],
   "source": [
    "# plot_activity_times(population)"
   ]
  },
  {
   "cell_type": "code",
   "execution_count": null,
   "metadata": {
    "ExecuteTime": {
     "end_time": "2020-11-23T12:10:21.682828Z",
     "start_time": "2020-11-23T12:10:20.483760Z"
    },
    "scrolled": false
   },
   "outputs": [],
   "source": [
    "# plot_leg_times(population)"
   ]
  },
  {
   "cell_type": "code",
   "execution_count": null,
   "metadata": {
    "scrolled": false
   },
   "outputs": [],
   "source": [
    "# Select household id of interest\n",
    "hhid = np.random.choice(cambridge_hh_sample.hid.values)\n",
    "\n",
    "hh = population.households[hhid]\n",
    "# hh.print()\n",
    "print('Location',hh.location,'Number of people',hh.attributes.get('NumPeople'))\n",
    "assert len(hh) == hh.attributes.get('NumPeople')\n",
    "for pid in hh.people:\n",
    "    p = hh.people[pid]\n",
    "#     p.print()\n",
    "    print('Person',pid,'Hzone',p.attributes.get('hzone'))\n",
    "    for a in p.activities:\n",
    "        print(a)\n",
    "    p.plot()"
   ]
  },
  {
   "cell_type": "code",
   "execution_count": null,
   "metadata": {
    "ExecuteTime": {
     "end_time": "2020-11-25T10:58:14.515344Z",
     "start_time": "2020-11-25T10:58:14.237045Z"
    },
    "scrolled": false
   },
   "outputs": [],
   "source": [
    "# hh = population.random_household()\n",
    "# hh.print()\n",
    "# hh.plot()"
   ]
  },
  {
   "cell_type": "markdown",
   "metadata": {},
   "source": [
    "## Sample the Population\n",
    "\n",
    "We sample a very small population based on the given NTS household weightings."
   ]
  },
  {
   "cell_type": "code",
   "execution_count": null,
   "metadata": {
    "ExecuteTime": {
     "end_time": "2020-11-23T12:10:26.313000Z",
     "start_time": "2020-11-23T12:10:22.120024Z"
    }
   },
   "outputs": [],
   "source": [
    "# from pam.core import Population\n",
    "# from pam.samplers.basic import freq_sample\n",
    "# # from copy import deepcopy\n",
    "\n",
    "# population_sample = Population()\n",
    "    \n",
    "# for hid, household in tqdm(population.households.items()):\n",
    "#     av_hh_weight = household.freq  # this is currently the av of person freq in the hh\n",
    "#     freq = freq_sample(av_hh_weight, 10)\n",
    "\n",
    "#     for idx in range(freq):\n",
    "#         hh = deepcopy(household)\n",
    "#         hh.hid = f\"{hh.hid}_{idx}\"\n",
    "#         hh.people = {}\n",
    "#         for pid, person in household.people.items():\n",
    "#             p = deepcopy(person)\n",
    "#             p.pid = f\"{pid}_{idx}\"\n",
    "#             hh.add(p)\n",
    "#         population_sample.add(hh)"
   ]
  },
  {
   "cell_type": "code",
   "execution_count": null,
   "metadata": {
    "ExecuteTime": {
     "end_time": "2020-11-23T12:10:26.354636Z",
     "start_time": "2020-11-23T12:10:26.315503Z"
    }
   },
   "outputs": [],
   "source": [
    "# population_sample.size"
   ]
  },
  {
   "cell_type": "markdown",
   "metadata": {},
   "source": [
    "## Facility Sampling¶ \n",
    "\n",
    "The facilities input is prepared using a separate project called OSM-Facility Sampler (OSMFS). This project woulbe be better names the OSM Facility *Extractor*. We use it to extract viable activity locations for each activity type for each zone. This project is not currently open source, but is described below:\n",
    "\n",
    "OSMFS joins osm data with the geographies of an area to create a mapping between zones, acts and facility locations (points). This is output as a geojson:\n",
    "\n",
    "{\"type\": \"FeatureCollection\", \"features\": [{\"id\": \"0\", \"type\": \"Feature\", \"properties\": {\"activity\": \"other\"}, \"geometry\": {\"type\": \"Point\", \"coordinates\": [-4.5235751, 54.1698685]}},\n",
    "\n",
    "todo: the current methodology does not support shared facilities, ie facilities with more than one activity (schools are places of education and work for example).\n",
    "\n",
    "todo: the above json has to be rejoined with the geography to create a spatial sampler. This is a duplicated operation which could be included in the Bench output, eg:\n",
    "\n",
    "zone_id: activity: (id, point)\n",
    "\n",
    "### Launch facility location sampler"
   ]
  },
  {
   "cell_type": "code",
   "execution_count": null,
   "metadata": {},
   "outputs": [],
   "source": [
    "def test_sampler_distance(population, sampler, n_iterations = 200, complex_sampler = False,\n",
    "                         title=None):\n",
    "    distance_commute = []\n",
    "    \n",
    "    for i in range(n_iterations):\n",
    "        if complex_sampler:\n",
    "            population.sample_locs_complex(sampler)\n",
    "        else:\n",
    "            population.sample_locs(sampler)\n",
    "        distance_commute.append(write.write_benchmarks(population)['euclidean_distance'][0])\n",
    "\n",
    "    pd.Series(distance_commute).hist(bins = 20)\n",
    "    if title!=None:\n",
    "        plt.title(title)\n",
    "    plt.xlabel('distance')\n",
    "    plt.ylabel('frequency')\n",
    "    plt.show()"
   ]
  },
  {
   "cell_type": "code",
   "execution_count": null,
   "metadata": {},
   "outputs": [],
   "source": [
    "facility_sampler = facility.FacilitySampler(\n",
    "    facilities=cambridge_facilities.assign(weight1=1),\n",
    "    zones=wards,\n",
    "    build_xml=True,\n",
    "    fail=False,\n",
    "    random_default=False,\n",
    "    weight_on='weight1'\n",
    ")\n",
    "\n",
    "facility_sampler.clear()"
   ]
  },
  {
   "cell_type": "code",
   "execution_count": null,
   "metadata": {},
   "outputs": [],
   "source": [
    "# Sample facility locations for each activity\n",
    "population.sample_locs(facility_sampler)"
   ]
  },
  {
   "cell_type": "code",
   "execution_count": null,
   "metadata": {},
   "outputs": [],
   "source": [
    "cambridge_hh_sample[['hid','NumPeople']]"
   ]
  },
  {
   "cell_type": "code",
   "execution_count": null,
   "metadata": {},
   "outputs": [],
   "source": [
    "population.plot_travel_plotly(\n",
    "  epsg='epsg:27700',\n",
    "  colour_by='hid',\n",
    "  mapbox_access_token=mapbox_token\n",
    ")"
   ]
  },
  {
   "cell_type": "code",
   "execution_count": null,
   "metadata": {},
   "outputs": [],
   "source": [
    "hhold = population.households[hhid]\n",
    "person = hhold.people[np.random.choice(list(hhold.people))]\n",
    "print('pid',person.pid,'hid',person.attributes.get('hid'))\n",
    "print('Home area',person.attributes.get('hzone'),'Home',person.home)\n",
    "print('\\n')\n",
    "\n",
    "# Check that sampled point is in designated home zone\n",
    "ward_boundary = wards[wards.index == person.attributes.get('hzone')].geometry.values[0]\n",
    "assert ward_boundary.contains(person.home.loc)\n",
    "\n",
    "person.plot()\n",
    "for act in person.activities:\n",
    "    print(act)\n",
    "person.plot_travel_plotly(epsg='epsg:27700',\n",
    "                          mapbox_access_token=mapbox_token)"
   ]
  },
  {
   "cell_type": "code",
   "execution_count": null,
   "metadata": {},
   "outputs": [],
   "source": [
    "test_sampler_distance(population, \n",
    "                      facility_sampler, \n",
    "                      complex_sampler=False,\n",
    "                      title = 'Commute distance, simple sampling')"
   ]
  },
  {
   "cell_type": "markdown",
   "metadata": {},
   "source": [
    "## Ward not containing any facilities"
   ]
  },
  {
   "cell_type": "code",
   "execution_count": null,
   "metadata": {},
   "outputs": [],
   "source": [
    "# # Select random facility index\n",
    "# random_index = np.random.randint(0,cambridge_facilities.shape[0],1)\n",
    "# # Get facility for that index\n",
    "# fac = gp.GeoDataFrame(cambridge_facilities.iloc[random_index,:].reset_index(drop=True))\n",
    "# \n",
    "# \n",
    "# fig, ax = plt.subplots(1,1, figsize = (15,15))\n",
    "# wards[wards.index == 'E05002816'].boundary.plot(ax = ax)\n",
    "# cambridge_facilities.plot(ax=ax, markersize=100, color='red')\n",
    "# for zone, centroid in zip(wards.index, wards.centroid):\n",
    "#     ax.annotate(zone, xy = (centroid.x, centroid.y), size = 10)\n",
    "# ax.axis('off')\n",
    "# plt.show()\n",
    "# print('Ward code indentified',fac.ward_code)"
   ]
  },
  {
   "cell_type": "markdown",
   "metadata": {
    "ExecuteTime": {
     "end_time": "2020-11-11T11:48:33.844210Z",
     "start_time": "2020-11-11T11:48:33.815280Z"
    }
   },
   "source": [
    "## Write to Disk\n",
    "\n",
    "1. write MATSim formats to disk (plans and attributes)\n",
    "2. write csv and geojson summaries to disk\n",
    "3. write MATSim formatted facilities to disk"
   ]
  },
  {
   "cell_type": "code",
   "execution_count": null,
   "metadata": {},
   "outputs": [],
   "source": [
    "import pam.write as write"
   ]
  },
  {
   "cell_type": "code",
   "execution_count": null,
   "metadata": {
    "ExecuteTime": {
     "end_time": "2020-11-24T18:52:43.705393Z",
     "start_time": "2020-11-24T18:52:28.634010Z"
    }
   },
   "outputs": [],
   "source": [
    "comment = 'NTS cambridge prelim 03122020 epsg27700' \n",
    "#'NTS london prelim 24nov2020 epsg27700'\n",
    "out_dir = '../data/outputs/matsim/'\n",
    "matsim_dir = '/Users/Yannis/code/matsim-13.0/examples/cambridge-abm/v0.0.1/'\n",
    "\n",
    "write.write_matsim(\n",
    "        population,\n",
    "        plans_path=os.path.join(out_dir, 'plans.xml'),\n",
    "        attributes_path=os.path.join(out_dir, 'attributes.xml'),\n",
    "        comment=comment\n",
    "    )\n",
    "\n",
    "population.to_csv(out_dir, crs=\"EPSG:27700\", to_crs=\"EPSG:4326\")\n",
    "population.to_csv(matsim_dir, crs=\"EPSG:27700\", to_crs=\"EPSG:27700\")\n",
    "\n",
    "facility_sampler.write_facilities_xml(os.path.join(out_dir, 'cambridge_facilities.xml'), comment=comment)\n",
    "facility_sampler.write_facilities_xml(os.path.join(matsim_dir, 'cambridge_facilities.xml'), comment=comment)"
   ]
  }
 ],
 "metadata": {
  "kernelspec": {
   "display_name": "Python 3",
   "language": "python",
   "name": "python3"
  },
  "language_info": {
   "codemirror_mode": {
    "name": "ipython",
    "version": 3
   },
   "file_extension": ".py",
   "mimetype": "text/x-python",
   "name": "python",
   "nbconvert_exporter": "python",
   "pygments_lexer": "ipython3",
   "version": "3.7.1"
  },
  "toc": {
   "base_numbering": 1,
   "nav_menu": {},
   "number_sections": true,
   "sideBar": true,
   "skip_h1_title": true,
   "title_cell": "Table of Contents",
   "title_sidebar": "Contents",
   "toc_cell": false,
   "toc_position": {},
   "toc_section_display": true,
   "toc_window_display": true
  }
 },
 "nbformat": 4,
 "nbformat_minor": 4
}
