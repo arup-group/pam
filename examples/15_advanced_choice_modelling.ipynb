{
 "cells": [
  {
   "attachments": {},
   "cell_type": "markdown",
   "id": "e225bed3",
   "metadata": {},
   "source": [
    "# Applying a location and mode choice model to populations\n",
    "\n",
    "This notebook applies a simple location and mode choice model to a PAM population.\n",
    "\n",
    "The `pam.planner.choice.ChoiceMNL` class allows the user to apply an MNL specification for selecting the location of activities and the mode for accessing them, given person characteristics, network conditions and/or zone attraction data.\n",
    "\n",
    "The typical workflow goes as follows:\n",
    "\n",
    "``` python\n",
    "choice_model = ChoiceMNL(population, od, zones) # initialize the model and point to the data objects \n",
    "choice_model.configure(u, scope) # configure the model by specifying a utility function and the scope of application.\n",
    "choice_model.apply() # apply the model and update the population with the results.\n",
    "\n",
    "```"
   ]
  },
  {
   "cell_type": "code",
   "execution_count": 1,
   "id": "82e63bf7",
   "metadata": {
    "execution": {
     "iopub.execute_input": "2024-04-04T10:40:39.463892Z",
     "iopub.status.busy": "2024-04-04T10:40:39.463892Z",
     "iopub.status.idle": "2024-04-04T10:40:40.038137Z",
     "shell.execute_reply": "2024-04-04T10:40:40.038137Z"
    }
   },
   "outputs": [
    {
     "ename": "ModuleNotFoundError",
     "evalue": "No module named 'pam'",
     "output_type": "error",
     "traceback": [
      "\u001b[1;31m---------------------------------------------------------------------------\u001b[0m",
      "\u001b[1;31mModuleNotFoundError\u001b[0m                       Traceback (most recent call last)",
      "Cell \u001b[1;32mIn[1], line 7\u001b[0m\n\u001b[0;32m      5\u001b[0m \u001b[38;5;28;01mimport\u001b[39;00m \u001b[38;5;21;01mnumpy\u001b[39;00m \u001b[38;5;28;01mas\u001b[39;00m \u001b[38;5;21;01mnp\u001b[39;00m\n\u001b[0;32m      6\u001b[0m \u001b[38;5;28;01mimport\u001b[39;00m \u001b[38;5;21;01mpandas\u001b[39;00m \u001b[38;5;28;01mas\u001b[39;00m \u001b[38;5;21;01mpd\u001b[39;00m\n\u001b[1;32m----> 7\u001b[0m \u001b[38;5;28;01mfrom\u001b[39;00m \u001b[38;5;21;01mpam\u001b[39;00m\u001b[38;5;21;01m.\u001b[39;00m\u001b[38;5;21;01moperations\u001b[39;00m\u001b[38;5;21;01m.\u001b[39;00m\u001b[38;5;21;01mcropping\u001b[39;00m \u001b[38;5;28;01mimport\u001b[39;00m link_population\n\u001b[0;32m      8\u001b[0m \u001b[38;5;28;01mfrom\u001b[39;00m \u001b[38;5;21;01mpam\u001b[39;00m\u001b[38;5;21;01m.\u001b[39;00m\u001b[38;5;21;01mplanner\u001b[39;00m \u001b[38;5;28;01mimport\u001b[39;00m choice_location \u001b[38;5;28;01mas\u001b[39;00m choice\n\u001b[0;32m      9\u001b[0m \u001b[38;5;28;01mfrom\u001b[39;00m \u001b[38;5;21;01mpam\u001b[39;00m\u001b[38;5;21;01m.\u001b[39;00m\u001b[38;5;21;01mplanner\u001b[39;00m\u001b[38;5;21;01m.\u001b[39;00m\u001b[38;5;21;01mod\u001b[39;00m \u001b[38;5;28;01mimport\u001b[39;00m ODFactory, ODMatrix\n",
      "\u001b[1;31mModuleNotFoundError\u001b[0m: No module named 'pam'"
     ]
    }
   ],
   "source": [
    "import logging\n",
    "import os\n",
    "import random\n",
    "\n",
    "import numpy as np\n",
    "import pandas as pd\n",
    "from pam.operations.cropping import link_population\n",
    "from pam.planner import choice_location as choice\n",
    "from pam.planner.od import ODFactory, ODMatrix\n",
    "from pam.read import read_matsim\n",
    "from prettytable import PrettyTable\n",
    "\n",
    "logging.basicConfig(level=logging.DEBUG)\n",
    "random.seed(0)"
   ]
  },
  {
   "attachments": {},
   "cell_type": "markdown",
   "id": "d863cc2c",
   "metadata": {},
   "source": [
    "## Data"
   ]
  },
  {
   "attachments": {},
   "cell_type": "markdown",
   "id": "6d13dd57",
   "metadata": {},
   "source": [
    "We read an example population, and set the location of all activities to zone `a`:"
   ]
  },
  {
   "cell_type": "code",
   "execution_count": 2,
   "id": "9542e3c7",
   "metadata": {
    "execution": {
     "iopub.execute_input": "2023-09-29T13:19:09.016327Z",
     "iopub.status.busy": "2023-09-29T13:19:09.016102Z",
     "iopub.status.idle": "2023-09-29T13:19:09.033007Z",
     "shell.execute_reply": "2023-09-29T13:19:09.032678Z"
    }
   },
   "outputs": [],
   "source": [
    "population = read_matsim(os.path.join(\"..\", \"tests\", \"test_data\", \"test_matsim_plansv12.xml\"))\n",
    "link_population(population)\n",
    "for _hid, _pid, person in population.people():\n",
    "    for act in person.activities:\n",
    "        act.location.area = \"a\""
   ]
  },
  {
   "cell_type": "code",
   "execution_count": 3,
   "id": "e1163184",
   "metadata": {
    "execution": {
     "iopub.execute_input": "2023-09-29T13:19:09.035090Z",
     "iopub.status.busy": "2023-09-29T13:19:09.034927Z",
     "iopub.status.idle": "2023-09-29T13:19:09.039672Z",
     "shell.execute_reply": "2023-09-29T13:19:09.039263Z"
    }
   },
   "outputs": [],
   "source": [
    "def print_activity_locs(population, act_scope=\"work\"):\n",
    "    summary = PrettyTable([\"pid\", \"seq\", \"location\", \"mode\"])\n",
    "    for _hid, pid, person in population.people():\n",
    "        for seq, act in enumerate(person.plan.activities):\n",
    "            if (act.act == act_scope) or (act_scope == \"all\"):\n",
    "                trmode = act.previous.mode if act.previous is not None else \"NA\"\n",
    "                summary.add_row([pid, seq, act.location.area, trmode])\n",
    "\n",
    "    print(summary)\n",
    "\n",
    "\n",
    "print(\"Work locations and travel modes:\")\n",
    "print_activity_locs(population, act_scope=\"work\")"
   ]
  },
  {
   "attachments": {},
   "cell_type": "markdown",
   "id": "63e93b1c",
   "metadata": {},
   "source": [
    "Our `zones` dataset includes destination attraction data, for example the number of jobs or schools in each likely destination zone:"
   ]
  },
  {
   "cell_type": "code",
   "execution_count": 4,
   "id": "3081485c",
   "metadata": {
    "execution": {
     "iopub.execute_input": "2023-09-29T13:19:09.041626Z",
     "iopub.status.busy": "2023-09-29T13:19:09.041472Z",
     "iopub.status.idle": "2023-09-29T13:19:09.053830Z",
     "shell.execute_reply": "2023-09-29T13:19:09.053425Z"
    }
   },
   "outputs": [],
   "source": [
    "data_zones = pd.DataFrame({\"zone\": [\"a\", \"b\"], \"jobs\": [100, 200], \"schools\": [3, 1]}).set_index(\n",
    "    \"zone\"\n",
    ")\n",
    "data_zones"
   ]
  },
  {
   "attachments": {},
   "cell_type": "markdown",
   "id": "1f6c39ea",
   "metadata": {},
   "source": [
    "The `od` object holds origin-destination data, for example travel time and travel distance between each origin and destination, for each travel mode:"
   ]
  },
  {
   "cell_type": "code",
   "execution_count": 5,
   "id": "15027351",
   "metadata": {
    "execution": {
     "iopub.execute_input": "2023-09-29T13:19:09.055843Z",
     "iopub.status.busy": "2023-09-29T13:19:09.055672Z",
     "iopub.status.idle": "2023-09-29T13:19:09.060756Z",
     "shell.execute_reply": "2023-09-29T13:19:09.060420Z"
    }
   },
   "outputs": [],
   "source": [
    "zone_labels = (\"a\", \"b\")\n",
    "od = ODFactory.from_matrices(\n",
    "    [\n",
    "        ODMatrix(\"time\", \"car\", zone_labels, zone_labels, np.array([[20, 40], [40, 20]])),\n",
    "        ODMatrix(\"time\", \"bus\", zone_labels, zone_labels, np.array([[30, 45], [45, 30]])),\n",
    "        ODMatrix(\"distance\", \"car\", zone_labels, zone_labels, np.array([[5, 8], [8, 5]])),\n",
    "        ODMatrix(\"distance\", \"bus\", zone_labels, zone_labels, np.array([[5, 9], [9, 5]])),\n",
    "    ]\n",
    ")\n",
    "od"
   ]
  },
  {
   "attachments": {},
   "cell_type": "markdown",
   "id": "55081a23",
   "metadata": {},
   "source": [
    "The dimensions of the `od` object are always (in order): `variables`, `origin zone`, `destination zone`, and `mode`. It can be sliced using the respective labels under `od.labels`, for example:"
   ]
  },
  {
   "cell_type": "code",
   "execution_count": 6,
   "id": "243511f7",
   "metadata": {
    "execution": {
     "iopub.execute_input": "2023-09-29T13:19:09.062693Z",
     "iopub.status.busy": "2023-09-29T13:19:09.062529Z",
     "iopub.status.idle": "2023-09-29T13:19:09.066037Z",
     "shell.execute_reply": "2023-09-29T13:19:09.065639Z"
    }
   },
   "outputs": [],
   "source": [
    "od[\"time\", \"a\", \"b\", \"bus\"]"
   ]
  },
  {
   "attachments": {},
   "cell_type": "markdown",
   "id": "c27f75b6",
   "metadata": {},
   "source": [
    "## Choice model"
   ]
  },
  {
   "cell_type": "code",
   "execution_count": 7,
   "id": "760e9d2d",
   "metadata": {
    "execution": {
     "iopub.execute_input": "2023-09-29T13:19:09.067919Z",
     "iopub.status.busy": "2023-09-29T13:19:09.067783Z",
     "iopub.status.idle": "2023-09-29T13:19:09.071296Z",
     "shell.execute_reply": "2023-09-29T13:19:09.070984Z"
    }
   },
   "outputs": [],
   "source": [
    "planner = choice.ChoiceMNL(population, od, data_zones)"
   ]
  },
  {
   "attachments": {},
   "cell_type": "markdown",
   "id": "0373eaeb",
   "metadata": {},
   "source": [
    "We configure the model by specifying:\n",
    "* the scope of the model. For example, work activities.\n",
    "* the utility formulation of each alternative.\n",
    "\n",
    "Both settings are defined as strings. The stings may comprise mathematical operators, coefficients, planner data objects (`od` / `zones`), and/or PAM population objects (`person`/ `act`). \n",
    "\n",
    "Coefficients can be passed either as a number, or as a list, with each element in the list corresponding to one of the modes in the `od` object."
   ]
  },
  {
   "cell_type": "code",
   "execution_count": 8,
   "id": "f368c9df",
   "metadata": {
    "execution": {
     "iopub.execute_input": "2023-09-29T13:19:09.073174Z",
     "iopub.status.busy": "2023-09-29T13:19:09.073018Z",
     "iopub.status.idle": "2023-09-29T13:19:09.076763Z",
     "shell.execute_reply": "2023-09-29T13:19:09.076409Z"
    },
    "scrolled": false
   },
   "outputs": [],
   "source": [
    "scope = \"act.act=='work'\"\n",
    "asc = [0, -1]  # one value for each mode, 0->car, -1->\n",
    "asc_shift_poor = [0, 2]  # one value for each mode\n",
    "beta_time = [-0.05, -0.07]  # one value for each mode\n",
    "beta_zones = 0.4\n",
    "u = f\"\"\" \\\n",
    "    {asc} + \\\n",
    "    (np.array({asc_shift_poor}) * (person.attributes['subpopulation']=='poor')) + \\\n",
    "    ({beta_time} * od['time', person.home.area]) + \\\n",
    "    ({beta_zones} * np.log(zones['jobs']))\n",
    "\"\"\"\n",
    "\n",
    "planner.configure(u=u, scope=scope)"
   ]
  },
  {
   "attachments": {},
   "cell_type": "markdown",
   "id": "0f74e719",
   "metadata": {},
   "source": [
    "The `.get_choice_set()` provides with with the utilities of each alternative, as perceived by each agent."
   ]
  },
  {
   "cell_type": "code",
   "execution_count": 9,
   "id": "48fc5154",
   "metadata": {
    "execution": {
     "iopub.execute_input": "2023-09-29T13:19:09.078654Z",
     "iopub.status.busy": "2023-09-29T13:19:09.078514Z",
     "iopub.status.idle": "2023-09-29T13:19:09.082456Z",
     "shell.execute_reply": "2023-09-29T13:19:09.082128Z"
    }
   },
   "outputs": [],
   "source": [
    "choice_set = planner.get_choice_set()\n",
    "print(\"Activities in scope: \\n\", choice_set.idxs)\n",
    "print(\"\\nAlternatives: \\n\", choice_set.choice_labels)\n",
    "print(\"\\nChoice set utilities: \\n\", choice_set.u_choices)"
   ]
  },
  {
   "attachments": {},
   "cell_type": "markdown",
   "id": "2befcd05",
   "metadata": {},
   "source": [
    "The `.apply()` method samples from the alternatives, and updates the location and mode of each activity accordingly:"
   ]
  },
  {
   "cell_type": "code",
   "execution_count": 10,
   "id": "e26b40d1",
   "metadata": {
    "execution": {
     "iopub.execute_input": "2023-09-29T13:19:09.084318Z",
     "iopub.status.busy": "2023-09-29T13:19:09.084157Z",
     "iopub.status.idle": "2023-09-29T13:19:09.088390Z",
     "shell.execute_reply": "2023-09-29T13:19:09.088084Z"
    },
    "scrolled": false
   },
   "outputs": [],
   "source": [
    "planner.apply()\n",
    "print(\"Sampled choices: \\n\", planner._selections.selections)"
   ]
  },
  {
   "attachments": {},
   "cell_type": "markdown",
   "id": "01fb7d67",
   "metadata": {},
   "source": [
    "The population's activity locations and travel modes have now been updated accordingly:"
   ]
  },
  {
   "cell_type": "code",
   "execution_count": 11,
   "id": "4bfa1fee",
   "metadata": {
    "execution": {
     "iopub.execute_input": "2023-09-29T13:19:09.090239Z",
     "iopub.status.busy": "2023-09-29T13:19:09.090077Z",
     "iopub.status.idle": "2023-09-29T13:19:09.093476Z",
     "shell.execute_reply": "2023-09-29T13:19:09.093041Z"
    }
   },
   "outputs": [],
   "source": [
    "print_activity_locs(planner.population)"
   ]
  }
 ],
 "metadata": {
  "kernelspec": {
   "display_name": "Python 3 (ipykernel)",
   "language": "python",
   "name": "python3"
  },
  "language_info": {
   "codemirror_mode": {
    "name": "ipython",
    "version": 3
   },
   "file_extension": ".py",
   "mimetype": "text/x-python",
   "name": "python",
   "nbconvert_exporter": "python",
   "pygments_lexer": "ipython3",
   "version": "3.11.8"
  }
 },
 "nbformat": 4,
 "nbformat_minor": 5
}
