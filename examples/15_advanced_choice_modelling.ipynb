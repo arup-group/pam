{
 "cells": [
  {
   "attachments": {},
   "cell_type": "markdown",
   "id": "e225bed3",
   "metadata": {},
   "source": [
    "# Applying a location and mode choice model to populations\n",
    "\n",
    "This notebook applies a simple location and mode choice model to a PAM population.\n",
    "\n",
    "The `pam.planner.choice.ChoiceMNL` class allows the user to apply an MNL specification for selecting the location of activities and the mode for accessing them, given person characteristics, network conditions and/or zone attraction data.\n",
    "\n",
    "The typical workflow goes as follows:\n",
    "\n",
    "``` python\n",
    "choice_model = ChoiceMNL(population, od, zones) # initialize the model and point to the data objects \n",
    "choice_model.configure(u, scope) # configure the model by specifying a utility function and the scope of application.\n",
    "choice_model.apply() # apply the model and update the population with the results.\n",
    "\n",
    "```"
   ]
  },
  {
   "cell_type": "code",
   "execution_count": 1,
   "id": "82e63bf7",
   "metadata": {
    "execution": {
     "iopub.execute_input": "2023-08-09T10:05:30.804084Z",
     "iopub.status.busy": "2023-08-09T10:05:30.803739Z",
     "iopub.status.idle": "2023-08-09T10:05:32.404144Z",
     "shell.execute_reply": "2023-08-09T10:05:32.403186Z"
    }
   },
   "outputs": [],
   "source": [
    "import logging\n",
    "import os\n",
    "import random\n",
    "\n",
    "import numpy as np\n",
    "import pandas as pd\n",
    "from prettytable import PrettyTable\n",
    "\n",
    "from pam.operations.cropping import link_population\n",
    "from pam.planner import choice_location as choice\n",
    "from pam.planner.od import ODFactory, ODMatrix\n",
    "from pam.read import read_matsim\n",
    "\n",
    "logging.basicConfig(level=logging.DEBUG)\n",
    "random.seed(0)"
   ]
  },
  {
   "attachments": {},
   "cell_type": "markdown",
   "id": "d863cc2c",
   "metadata": {},
   "source": [
    "## Data"
   ]
  },
  {
   "attachments": {},
   "cell_type": "markdown",
   "id": "6d13dd57",
   "metadata": {},
   "source": [
    "We read an example population, and set the location of all activities to zone `a`:"
   ]
  },
  {
   "cell_type": "code",
   "execution_count": 2,
   "id": "9542e3c7",
   "metadata": {
    "execution": {
     "iopub.execute_input": "2023-08-09T10:05:32.408211Z",
     "iopub.status.busy": "2023-08-09T10:05:32.407780Z",
     "iopub.status.idle": "2023-08-09T10:05:32.418546Z",
     "shell.execute_reply": "2023-08-09T10:05:32.417753Z"
    }
   },
   "outputs": [],
   "source": [
    "population = read_matsim(os.path.join(\"..\", \"tests\", \"test_data\", \"test_matsim_plansv12.xml\"))\n",
    "link_population(population)\n",
    "for _hid, _pid, person in population.people():\n",
    "    for act in person.activities:\n",
    "        act.location.area = \"a\""
   ]
  },
  {
   "cell_type": "code",
   "execution_count": 3,
   "id": "e1163184",
   "metadata": {
    "execution": {
     "iopub.execute_input": "2023-08-09T10:05:32.422321Z",
     "iopub.status.busy": "2023-08-09T10:05:32.421985Z",
     "iopub.status.idle": "2023-08-09T10:05:32.430324Z",
     "shell.execute_reply": "2023-08-09T10:05:32.429564Z"
    }
   },
   "outputs": [
    {
     "name": "stdout",
     "output_type": "stream",
     "text": [
      "Work locations and travel modes:\n",
      "+--------+-----+----------+------+\n",
      "|  pid   | seq | location | mode |\n",
      "+--------+-----+----------+------+\n",
      "| chris  |  1  |    a     | car  |\n",
      "| fatema |  1  |    a     | bike |\n",
      "|  fred  |  3  |    a     | walk |\n",
      "| gerry  |  3  |    a     | walk |\n",
      "|  nick  |  1  |    a     | car  |\n",
      "+--------+-----+----------+------+\n"
     ]
    }
   ],
   "source": [
    "def print_activity_locs(population, act_scope=\"work\"):\n",
    "    summary = PrettyTable([\"pid\", \"seq\", \"location\", \"mode\"])\n",
    "    for _hid, pid, person in population.people():\n",
    "        for seq, act in enumerate(person.plan.activities):\n",
    "            if (act.act == act_scope) or (act_scope == \"all\"):\n",
    "                trmode = act.previous.mode if act.previous is not None else \"NA\"\n",
    "                summary.add_row([pid, seq, act.location.area, trmode])\n",
    "\n",
    "    print(summary)\n",
    "\n",
    "\n",
    "print(\"Work locations and travel modes:\")\n",
    "print_activity_locs(population, act_scope=\"work\")"
   ]
  },
  {
   "attachments": {},
   "cell_type": "markdown",
   "id": "63e93b1c",
   "metadata": {},
   "source": [
    "Our `zones` dataset includes destination attraction data, for example the number of jobs or schools in each likely destination zone:"
   ]
  },
  {
   "cell_type": "code",
   "execution_count": 4,
   "id": "3081485c",
   "metadata": {
    "execution": {
     "iopub.execute_input": "2023-08-09T10:05:32.433812Z",
     "iopub.status.busy": "2023-08-09T10:05:32.433480Z",
     "iopub.status.idle": "2023-08-09T10:05:32.451177Z",
     "shell.execute_reply": "2023-08-09T10:05:32.450312Z"
    }
   },
   "outputs": [
    {
     "data": {
      "text/html": [
       "<div>\n",
       "<style scoped>\n",
       "    .dataframe tbody tr th:only-of-type {\n",
       "        vertical-align: middle;\n",
       "    }\n",
       "\n",
       "    .dataframe tbody tr th {\n",
       "        vertical-align: top;\n",
       "    }\n",
       "\n",
       "    .dataframe thead th {\n",
       "        text-align: right;\n",
       "    }\n",
       "</style>\n",
       "<table border=\"1\" class=\"dataframe\">\n",
       "  <thead>\n",
       "    <tr style=\"text-align: right;\">\n",
       "      <th></th>\n",
       "      <th>jobs</th>\n",
       "      <th>schools</th>\n",
       "    </tr>\n",
       "    <tr>\n",
       "      <th>zone</th>\n",
       "      <th></th>\n",
       "      <th></th>\n",
       "    </tr>\n",
       "  </thead>\n",
       "  <tbody>\n",
       "    <tr>\n",
       "      <th>a</th>\n",
       "      <td>100</td>\n",
       "      <td>3</td>\n",
       "    </tr>\n",
       "    <tr>\n",
       "      <th>b</th>\n",
       "      <td>200</td>\n",
       "      <td>1</td>\n",
       "    </tr>\n",
       "  </tbody>\n",
       "</table>\n",
       "</div>"
      ],
      "text/plain": [
       "      jobs  schools\n",
       "zone               \n",
       "a      100        3\n",
       "b      200        1"
      ]
     },
     "execution_count": 4,
     "metadata": {},
     "output_type": "execute_result"
    }
   ],
   "source": [
    "data_zones = pd.DataFrame({\"zone\": [\"a\", \"b\"], \"jobs\": [100, 200], \"schools\": [3, 1]}).set_index(\n",
    "    \"zone\"\n",
    ")\n",
    "data_zones"
   ]
  },
  {
   "attachments": {},
   "cell_type": "markdown",
   "id": "1f6c39ea",
   "metadata": {},
   "source": [
    "The `od` object holds origin-destination data, for example travel time and travel distance between each origin and destination, for each travel mode:"
   ]
  },
  {
   "cell_type": "code",
   "execution_count": 5,
   "id": "15027351",
   "metadata": {
    "execution": {
     "iopub.execute_input": "2023-08-09T10:05:32.455025Z",
     "iopub.status.busy": "2023-08-09T10:05:32.454640Z",
     "iopub.status.idle": "2023-08-09T10:05:32.465001Z",
     "shell.execute_reply": "2023-08-09T10:05:32.464314Z"
    }
   },
   "outputs": [
    {
     "data": {
      "text/plain": [
       "Origin-destination dataset \n",
       "--------------------------------------------------\n",
       "Labels(vars=['time', 'distance'], origin_zones=('a', 'b'), destination_zones=('a', 'b'), mode=['car', 'bus'])\n",
       "--------------------------------------------------\n",
       "time - car:\n",
       "[[20. 40.]\n",
       " [40. 20.]]\n",
       "--------------------------------------------------\n",
       "time - bus:\n",
       "[[30. 45.]\n",
       " [45. 30.]]\n",
       "--------------------------------------------------\n",
       "distance - car:\n",
       "[[5. 8.]\n",
       " [8. 5.]]\n",
       "--------------------------------------------------\n",
       "distance - bus:\n",
       "[[5. 9.]\n",
       " [9. 5.]]\n",
       "--------------------------------------------------"
      ]
     },
     "execution_count": 5,
     "metadata": {},
     "output_type": "execute_result"
    }
   ],
   "source": [
    "zone_labels = (\"a\", \"b\")\n",
    "od = ODFactory.from_matrices(\n",
    "    [\n",
    "        ODMatrix(\"time\", \"car\", zone_labels, zone_labels, np.array([[20, 40], [40, 20]])),\n",
    "        ODMatrix(\"time\", \"bus\", zone_labels, zone_labels, np.array([[30, 45], [45, 30]])),\n",
    "        ODMatrix(\"distance\", \"car\", zone_labels, zone_labels, np.array([[5, 8], [8, 5]])),\n",
    "        ODMatrix(\"distance\", \"bus\", zone_labels, zone_labels, np.array([[5, 9], [9, 5]])),\n",
    "    ]\n",
    ")\n",
    "od"
   ]
  },
  {
   "attachments": {},
   "cell_type": "markdown",
   "id": "55081a23",
   "metadata": {},
   "source": [
    "The dimensions of the `od` object are always (in order): `variables`, `origin zone`, `destination zone`, and `mode`. It can be sliced using the respective labels under `od.labels`, for example:"
   ]
  },
  {
   "cell_type": "code",
   "execution_count": 6,
   "id": "243511f7",
   "metadata": {
    "execution": {
     "iopub.execute_input": "2023-08-09T10:05:32.468770Z",
     "iopub.status.busy": "2023-08-09T10:05:32.468408Z",
     "iopub.status.idle": "2023-08-09T10:05:32.475469Z",
     "shell.execute_reply": "2023-08-09T10:05:32.474565Z"
    }
   },
   "outputs": [
    {
     "data": {
      "text/plain": [
       "45.0"
      ]
     },
     "execution_count": 6,
     "metadata": {},
     "output_type": "execute_result"
    }
   ],
   "source": [
    "od[\"time\", \"a\", \"b\", \"bus\"]"
   ]
  },
  {
   "attachments": {},
   "cell_type": "markdown",
   "id": "c27f75b6",
   "metadata": {},
   "source": [
    "## Choice model"
   ]
  },
  {
   "cell_type": "code",
   "execution_count": 7,
   "id": "760e9d2d",
   "metadata": {
    "execution": {
     "iopub.execute_input": "2023-08-09T10:05:32.479313Z",
     "iopub.status.busy": "2023-08-09T10:05:32.478942Z",
     "iopub.status.idle": "2023-08-09T10:05:32.487318Z",
     "shell.execute_reply": "2023-08-09T10:05:32.486490Z"
    }
   },
   "outputs": [
    {
     "name": "stderr",
     "output_type": "stream",
     "text": [
      "INFO:pam.planner.choice_location:Updated model configuration\n"
     ]
    },
    {
     "name": "stderr",
     "output_type": "stream",
     "text": [
      "INFO:pam.planner.choice_location:ChoiceConfiguration(u=None, scope=None, func_probabilities=<function calculate_mnl_probabilities at 0x1623db600>, func_sampling=<function sample_weighted at 0x1623e8400>)\n"
     ]
    }
   ],
   "source": [
    "planner = choice.ChoiceMNL(population, od, data_zones)"
   ]
  },
  {
   "attachments": {},
   "cell_type": "markdown",
   "id": "0373eaeb",
   "metadata": {},
   "source": [
    "We configure the model by specifying:\n",
    "* the scope of the model. For example, work activities.\n",
    "* the utility formulation of each alternative.\n",
    "\n",
    "Both settings are defined as strings. The stings may comprise mathematical operators, coefficients, planner data objects (`od` / `zones`), and/or PAM population objects (`person`/ `act`). \n",
    "\n",
    "Coefficients can be passed either as a number, or as a list, with each element in the list corresponding to one of the modes in the `od` object."
   ]
  },
  {
   "cell_type": "code",
   "execution_count": 8,
   "id": "f368c9df",
   "metadata": {
    "execution": {
     "iopub.execute_input": "2023-08-09T10:05:32.491390Z",
     "iopub.status.busy": "2023-08-09T10:05:32.491021Z",
     "iopub.status.idle": "2023-08-09T10:05:32.499525Z",
     "shell.execute_reply": "2023-08-09T10:05:32.498593Z"
    },
    "scrolled": false
   },
   "outputs": [
    {
     "name": "stderr",
     "output_type": "stream",
     "text": [
      "INFO:pam.planner.choice_location:Updated model configuration\n"
     ]
    },
    {
     "name": "stderr",
     "output_type": "stream",
     "text": [
      "INFO:pam.planner.choice_location:ChoiceConfiguration(u=\"[0,-1]+(np.array([0,2])*(person.attributes['subpopulation']=='poor'))+([-0.05,-0.07]*od['time',person.home.area])+(0.4*np.log(zones['jobs']))\\n\", scope=\"act.act=='work'\", func_probabilities=<function calculate_mnl_probabilities at 0x1623db600>, func_sampling=<function sample_weighted at 0x1623e8400>)\n"
     ]
    }
   ],
   "source": [
    "scope = \"act.act=='work'\"\n",
    "asc = [0, -1]  # one value for each mode, 0->car, -1->\n",
    "asc_shift_poor = [0, 2]  # one value for each mode\n",
    "beta_time = [-0.05, -0.07]  # one value for each mode\n",
    "beta_zones = 0.4\n",
    "u = f\"\"\" \\\n",
    "    {asc} + \\\n",
    "    (np.array({asc_shift_poor}) * (person.attributes['subpopulation']=='poor')) + \\\n",
    "    ({beta_time} * od['time', person.home.area]) + \\\n",
    "    ({beta_zones} * np.log(zones['jobs']))\n",
    "\"\"\"\n",
    "\n",
    "planner.configure(u=u, scope=scope)"
   ]
  },
  {
   "attachments": {},
   "cell_type": "markdown",
   "id": "0f74e719",
   "metadata": {},
   "source": [
    "The `.get_choice_set()` provides with with the utilities of each alternative, as perceived by each agent."
   ]
  },
  {
   "cell_type": "code",
   "execution_count": 9,
   "id": "48fc5154",
   "metadata": {
    "execution": {
     "iopub.execute_input": "2023-08-09T10:05:32.503725Z",
     "iopub.status.busy": "2023-08-09T10:05:32.503215Z",
     "iopub.status.idle": "2023-08-09T10:05:32.511110Z",
     "shell.execute_reply": "2023-08-09T10:05:32.510203Z"
    }
   },
   "outputs": [
    {
     "name": "stdout",
     "output_type": "stream",
     "text": [
      "Activities in scope: \n",
      " [ChoiceIdx(pid='chris', hid='chris', seq=1, act=<pam.activity.Activity object at 0x16240ca90>), ChoiceIdx(pid='fatema', hid='fatema', seq=1, act=<pam.activity.Activity object at 0x16240d590>), ChoiceIdx(pid='fred', hid='fred', seq=3, act=<pam.activity.Activity object at 0x16240e990>), ChoiceIdx(pid='gerry', hid='gerry', seq=3, act=<pam.activity.Activity object at 0x1623fe4d0>), ChoiceIdx(pid='nick', hid='nick', seq=1, act=<pam.activity.Activity object at 0x16240eb50>)]\n",
      "\n",
      "Alternatives: \n",
      " [ChoiceLabel(destination='a', mode='car'), ChoiceLabel(destination='a', mode='bus'), ChoiceLabel(destination='b', mode='car'), ChoiceLabel(destination='b', mode='bus')]\n",
      "\n",
      "Choice set utilities: \n",
      " [[ 0.84206807 -1.25793193  0.11932695 -2.03067305]\n",
      " [ 0.84206807  0.74206807  0.11932695 -0.03067305]\n",
      " [ 0.84206807  0.74206807  0.11932695 -0.03067305]\n",
      " [ 0.84206807  0.74206807  0.11932695 -0.03067305]\n",
      " [ 0.84206807 -1.25793193  0.11932695 -2.03067305]]\n"
     ]
    }
   ],
   "source": [
    "choice_set = planner.get_choice_set()\n",
    "print(\"Activities in scope: \\n\", choice_set.idxs)\n",
    "print(\"\\nAlternatives: \\n\", choice_set.choice_labels)\n",
    "print(\"\\nChoice set utilities: \\n\", choice_set.u_choices)"
   ]
  },
  {
   "attachments": {},
   "cell_type": "markdown",
   "id": "2befcd05",
   "metadata": {},
   "source": [
    "The `.apply()` method samples from the alternatives, and updates the location and mode of each activity accordingly:"
   ]
  },
  {
   "cell_type": "code",
   "execution_count": 10,
   "id": "e26b40d1",
   "metadata": {
    "execution": {
     "iopub.execute_input": "2023-08-09T10:05:32.514678Z",
     "iopub.status.busy": "2023-08-09T10:05:32.514314Z",
     "iopub.status.idle": "2023-08-09T10:05:32.523110Z",
     "shell.execute_reply": "2023-08-09T10:05:32.522460Z"
    },
    "scrolled": false
   },
   "outputs": [
    {
     "name": "stderr",
     "output_type": "stream",
     "text": [
      "INFO:pam.planner.choice_location:Applying choice model...\n"
     ]
    },
    {
     "name": "stderr",
     "output_type": "stream",
     "text": [
      "INFO:pam.planner.choice_location:Configuration: \n",
      "ChoiceConfiguration(u=\"[0,-1]+(np.array([0,2])*(person.attributes['subpopulation']=='poor'))+([-0.05,-0.07]*od['time',person.home.area])+(0.4*np.log(zones['jobs']))\\n\", scope=\"act.act=='work'\", func_probabilities=<function calculate_mnl_probabilities at 0x1623db600>, func_sampling=<function sample_weighted at 0x1623e8400>)\n"
     ]
    },
    {
     "name": "stderr",
     "output_type": "stream",
     "text": [
      "INFO:pam.planner.choice_location:Choice model application complete.\n"
     ]
    },
    {
     "name": "stdout",
     "output_type": "stream",
     "text": [
      "Sampled choices: \n",
      " [ChoiceLabel(destination='b', mode='car'), ChoiceLabel(destination='b', mode='car'), ChoiceLabel(destination='a', mode='bus'), ChoiceLabel(destination='a', mode='car'), ChoiceLabel(destination='a', mode='car')]\n"
     ]
    }
   ],
   "source": [
    "planner.apply()\n",
    "print(\"Sampled choices: \\n\", planner._selections.selections)"
   ]
  },
  {
   "attachments": {},
   "cell_type": "markdown",
   "id": "01fb7d67",
   "metadata": {},
   "source": [
    "The population's activity locations and travel modes have now been updated accordingly:"
   ]
  },
  {
   "cell_type": "code",
   "execution_count": 11,
   "id": "4bfa1fee",
   "metadata": {
    "execution": {
     "iopub.execute_input": "2023-08-09T10:05:32.526610Z",
     "iopub.status.busy": "2023-08-09T10:05:32.526256Z",
     "iopub.status.idle": "2023-08-09T10:05:32.531923Z",
     "shell.execute_reply": "2023-08-09T10:05:32.531212Z"
    }
   },
   "outputs": [
    {
     "name": "stdout",
     "output_type": "stream",
     "text": [
      "+--------+-----+----------+------+\n",
      "|  pid   | seq | location | mode |\n",
      "+--------+-----+----------+------+\n",
      "| chris  |  1  |    b     | car  |\n",
      "| fatema |  1  |    b     | car  |\n",
      "|  fred  |  3  |    a     | bus  |\n",
      "| gerry  |  3  |    a     | car  |\n",
      "|  nick  |  1  |    a     | car  |\n",
      "+--------+-----+----------+------+\n"
     ]
    }
   ],
   "source": [
    "print_activity_locs(planner.population)"
   ]
  }
 ],
 "metadata": {
  "kernelspec": {
   "display_name": "Python 3 (ipykernel)",
   "language": "python",
   "name": "python3"
  },
  "language_info": {
   "codemirror_mode": {
    "name": "ipython",
    "version": 3
   },
   "file_extension": ".py",
   "mimetype": "text/x-python",
   "name": "python",
   "nbconvert_exporter": "python",
   "pygments_lexer": "ipython3",
   "version": "3.11.4"
  }
 },
 "nbformat": 4,
 "nbformat_minor": 5
}
