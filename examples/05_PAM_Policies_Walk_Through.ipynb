{
 "cells": [
  {
   "cell_type": "code",
   "execution_count": null,
   "metadata": {
    "ExecuteTime": {
     "end_time": "2020-05-18T14:30:38.500669Z",
     "start_time": "2020-05-18T14:30:37.767201Z"
    }
   },
   "outputs": [],
   "source": [
    "import pickle\n",
    "import os\n",
    "import pandas as pd\n",
    "import random\n",
    "from copy import deepcopy\n",
    "from collections import defaultdict\n",
    "import geopandas as gp\n",
    "from matplotlib import pyplot as plt\n",
    "from pam.core import Population, Household, Person\n",
    "from pam.activity import Plan, Activity, Leg\n",
    "from pam.utils import minutes_to_datetime as mtdt\n",
    "from pam.variables import END_OF_DAY\n",
    "\n",
    "from pam.policy import *"
   ]
  },
  {
   "cell_type": "code",
   "execution_count": null,
   "metadata": {
    "ExecuteTime": {
     "end_time": "2020-05-18T14:30:38.676883Z",
     "start_time": "2020-05-18T14:30:38.511597Z"
    }
   },
   "outputs": [],
   "source": [
    "def hhld_apply(household, policy):\n",
    "    new_hhld = deepcopy(household) \n",
    "    policy.apply_to(new_hhld)\n",
    "    return new_hhld\n",
    "\n",
    "def print_attributes(hhld, attribs=None):\n",
    "    if attribs is not None:\n",
    "        print(f\"Household: {hhld}\")\n",
    "        for pid, person in hhld.people.items():\n",
    "            print(f\"Person: {pid}\")\n",
    "            print(f\"Attributes:\")\n",
    "            for attrib in attribs:\n",
    "                print(f\"\\t{attrib}: {person.attributes[attrib]}\")\n",
    "    else:\n",
    "        print(f\"Household: {hhld}\")\n",
    "        for pid, person in hhld.people.items():\n",
    "            print(f\"Person: {pid}\")\n",
    "            print(f\"Attributes:\")\n",
    "            pp.pprint(person.attributes)\n",
    "            \n",
    "def instantiate_household_with(persons: list):\n",
    "    household = Household(1)\n",
    "    for person in persons:\n",
    "        household.add(person)\n",
    "    return household\n",
    "\n",
    "def Steve():\n",
    "    Steve = Person('Steve', attributes={'age': 50, 'job': 'work', 'gender': 'male'})\n",
    "    Steve.add(Activity(1, 'home', 'a', start_time=mtdt(0), end_time=mtdt(5 * 60)))\n",
    "    Steve.add(Leg(1, 'car', 'a', 'b', start_time=mtdt(5 * 60), end_time=mtdt(6 * 60)))\n",
    "    Steve.add(Activity(2, 'work', 'b', start_time=mtdt(6 * 60), end_time=mtdt(12 * 60)))\n",
    "    Steve.add(Leg(2, 'walk', 'b', 'c', start_time=mtdt(12 * 60), end_time=mtdt(12 * 60 + 10)))\n",
    "    Steve.add(Activity(3, 'leisure', 'c', start_time=mtdt(12 * 60 + 10), end_time=mtdt(13 * 60 - 10)))\n",
    "    Steve.add(Leg(3, 'walk', 'c', 'b', start_time=mtdt(13 * 60 - 10), end_time=mtdt(13 * 60)))\n",
    "    Steve.add(Activity(4, 'work', 'b', start_time=mtdt(13 * 60), end_time=mtdt(18 * 60)))\n",
    "    Steve.add(Leg(4, 'car', 'b', 'a', start_time=mtdt(18 * 60), end_time=mtdt(19 * 60)))\n",
    "    Steve.add(Activity(5, 'home', 'a', start_time=mtdt(19 * 60), end_time=mtdt(20 * 60)))\n",
    "    Steve.add(Leg(5, 'car', 'a', 'b', start_time=mtdt(20 * 60), end_time=mtdt(20 * 60 + 20)))\n",
    "    Steve.add(Activity(6, 'shop_1', 'b', start_time=mtdt(20 * 60 + 20), end_time=mtdt(20 * 60 + 50)))\n",
    "    Steve.add(Leg(6, 'walk', 'b', 'b', start_time=mtdt(20 * 60 + 50), end_time=mtdt(21 * 60)))\n",
    "    Steve.add(Activity(7, 'shop_2', 'b', start_time=mtdt(21 * 60), end_time=mtdt(21 * 60 + 50)))\n",
    "    Steve.add(Leg(7, 'car', 'b', 'a', start_time=mtdt(21 * 60 + 50), end_time=mtdt(22 * 60 + 10)))\n",
    "    Steve.add(Activity(8, 'home', 'a', start_time=mtdt(22 * 60 + 10), end_time=END_OF_DAY))\n",
    "    return Steve\n",
    "\n",
    "def Hilda():\n",
    "    Hilda = Person('Hilda', attributes={'age': 45, 'job': 'influencer', 'gender': 'female'})\n",
    "    Hilda.add(Activity(1, 'home', 'a', start_time=mtdt(0), end_time=mtdt(8 * 60)))\n",
    "    Hilda.add(Leg(1, 'walk', 'a', 'b', start_time=mtdt(8 * 60), end_time=mtdt(8 * 60 + 5)))\n",
    "    Hilda.add(Activity(2, 'escort', 'b', start_time=mtdt(8 * 60 + 5), end_time=mtdt(8 * 60 + 30)))\n",
    "    Hilda.add(Leg(1, 'pt', 'a', 'b', start_time=mtdt(8 * 60), end_time=mtdt(8 * 60 + 30)))\n",
    "    Hilda.add(Activity(2, 'shop', 'b', start_time=mtdt(8 * 60 + 30), end_time=mtdt(14 * 60)))\n",
    "    Hilda.add(Leg(2, 'pt', 'b', 'c', start_time=mtdt(14 * 60), end_time=mtdt(14 * 60 + 20)))\n",
    "    Hilda.add(Activity(3, 'leisure', 'c', start_time=mtdt(14 * 60 + 20), end_time=mtdt(16 * 60 - 20)))\n",
    "    Hilda.add(Leg(3, 'pt', 'c', 'b', start_time=mtdt(16 * 60 - 20), end_time=mtdt(16 * 60)))\n",
    "    Hilda.add(Activity(4, 'escort', 'b', start_time=mtdt(16 * 60), end_time=mtdt(16 * 60 + 30)))\n",
    "    Hilda.add(Leg(4, 'walk', 'a', 'b', start_time=mtdt(16 * 60 + 30), end_time=mtdt(17 * 60)))\n",
    "    Hilda.add(Activity(5, 'home', 'a', start_time=mtdt(17 * 60), end_time=mtdt(20 * 60)))\n",
    "    Hilda.add(Leg(5, 'car', 'a', 'b', start_time=mtdt(20 * 60), end_time=mtdt(20 * 60 + 20)))\n",
    "    Hilda.add(Activity(6, 'shop_1', 'b', start_time=mtdt(20 * 60 + 20), end_time=mtdt(20 * 60 + 50)))\n",
    "    Hilda.add(Leg(6, 'walk', 'b', 'b', start_time=mtdt(20 * 60 + 50), end_time=mtdt(21 * 60)))\n",
    "    Hilda.add(Activity(7, 'shop_2', 'b', start_time=mtdt(21 * 60), end_time=mtdt(21 * 60 + 50)))\n",
    "    Hilda.add(Leg(7, 'car', 'b', 'a', start_time=mtdt(21 * 60 + 50), end_time=mtdt(22 * 60 + 10)))\n",
    "    Hilda.add(Activity(8, 'home', 'a', start_time=mtdt(22 * 60 + 10), end_time=END_OF_DAY))\n",
    "    return Hilda\n",
    "\n",
    "def Timmy():\n",
    "    Timmy = Person('Timmy', attributes={'age': 18, 'job': 'education', 'gender': 'male'})\n",
    "    Timmy.add(Activity(1, 'home', 'a', start_time=mtdt(0), end_time=mtdt(8 * 60)))\n",
    "    Timmy.add(Leg(1, 'walk', 'a', 'b', start_time=mtdt(8 * 60), end_time=mtdt(8 * 60 + 5)))\n",
    "    Timmy.add(Activity(2, 'sport', 'b', start_time=mtdt(8 * 60 + 5), end_time=mtdt(8 * 60 + 55)))\n",
    "    Timmy.add(Leg(2, 'walk', 'b', 'a', start_time=mtdt(8 * 60 + 55), end_time=mtdt(9 * 60)))\n",
    "    Timmy.add(Activity(3, 'home', 'a', start_time=mtdt(9 * 60), end_time=mtdt(10 * 60)))\n",
    "    Timmy.add(Leg(3, 'bike', 'a', 'b', start_time=mtdt(10 * 60), end_time=mtdt(11 * 60)))\n",
    "    Timmy.add(Activity(4, 'education', 'b', start_time=mtdt(11 * 60), end_time=mtdt(13 * 60)))\n",
    "    Timmy.add(Leg(4, 'bike', 'b', 'c', start_time=mtdt(13 * 60), end_time=mtdt(13 * 60 + 5)))\n",
    "    Timmy.add(Activity(5, 'shop', 'c', start_time=mtdt(13 * 60 + 5), end_time=mtdt(13 * 60 + 30)))\n",
    "    Timmy.add(Leg(5, 'bike', 'c', 'b', start_time=mtdt(13 * 60 + 30), end_time=mtdt(13 * 60 + 35)))\n",
    "    Timmy.add(Activity(6, 'education', 'b', start_time=mtdt(13 * 60 + 35), end_time=mtdt(15 * 60)))\n",
    "    Timmy.add(Leg(6, 'bike', 'b', 'd', start_time=mtdt(15 * 60), end_time=mtdt(15 * 60 + 10)))\n",
    "    Timmy.add(Activity(7, 'leisure', 'd', start_time=mtdt(15 * 60 + 10), end_time=mtdt(18 * 60)))\n",
    "    Timmy.add(Leg(7, 'bike', 'd', 'a', start_time=mtdt(18 * 60), end_time=mtdt(18 * 60 + 20)))\n",
    "    Timmy.add(Activity(8, 'home', 'a', start_time=mtdt(18 * 60 + 20), end_time=mtdt(20 * 60)))\n",
    "    Timmy.add(Leg(8, 'car', 'a', 'b', start_time=mtdt(20 * 60), end_time=mtdt(20 * 60 + 20)))\n",
    "    Timmy.add(Activity(9, 'shop_1', 'b', start_time=mtdt(20 * 60 + 20), end_time=mtdt(20 * 60 + 50)))\n",
    "    Timmy.add(Leg(9, 'walk', 'b', 'b', start_time=mtdt(20 * 60 + 50), end_time=mtdt(21 * 60)))\n",
    "    Timmy.add(Activity(10, 'shop_2', 'b', start_time=mtdt(21 * 60), end_time=mtdt(21 * 60 + 50)))\n",
    "    Timmy.add(Leg(10, 'car', 'b', 'a', start_time=mtdt(21 * 60 + 50), end_time=mtdt(22 * 60 + 10)))\n",
    "    Timmy.add(Activity(11, 'home', 'a', start_time=mtdt(22 * 60 + 10), end_time=END_OF_DAY))\n",
    "    return Timmy\n",
    "\n",
    "def Bobby():\n",
    "    Bobby = Person('Bobby', attributes={'age': 6, 'job': 'education', 'gender': 'female'})\n",
    "    Bobby.add(Activity(1, 'home', 'a', start_time=mtdt(0), end_time=mtdt(8 * 60)))\n",
    "    Bobby.add(Leg(1, 'walk', 'a', 'b', start_time=mtdt(8 * 60), end_time=mtdt(8 * 60 + 30)))\n",
    "    Bobby.add(Activity(2, 'education', 'b', start_time=mtdt(8 * 60 + 30), end_time=mtdt(16 * 60)))\n",
    "    Bobby.add(Leg(2, 'walk', 'b', 'c', start_time=mtdt(16 * 60), end_time=mtdt(16 * 60 + 30)))\n",
    "    Bobby.add(Activity(3, 'home', 'a', start_time=mtdt(16 * 60 + 30), end_time=mtdt(20 * 60)))\n",
    "    Bobby.add(Leg(3, 'car', 'a', 'b', start_time=mtdt(20 * 60), end_time=mtdt(20 * 60 + 20)))\n",
    "    Bobby.add(Activity(4, 'shop_1', 'b', start_time=mtdt(20 * 60 + 20), end_time=mtdt(20 * 60 + 50)))\n",
    "    Bobby.add(Leg(4, 'walk', 'b', 'b', start_time=mtdt(20 * 60 + 50), end_time=mtdt(21 * 60)))\n",
    "    Bobby.add(Activity(5, 'shop_2', 'b', start_time=mtdt(21 * 60), end_time=mtdt(21 * 60 + 50)))\n",
    "    Bobby.add(Leg(5, 'car', 'b', 'a', start_time=mtdt(21 * 60 + 50), end_time=mtdt(22 * 60 + 10)))\n",
    "    Bobby.add(Activity(6, 'home', 'a', start_time=mtdt(22 * 60 + 10), end_time=END_OF_DAY))\n",
    "    return Bobby\n"
   ]
  },
  {
   "cell_type": "markdown",
   "metadata": {},
   "source": [
    "# Sampling and Policy Levels"
   ]
  },
  {
   "cell_type": "code",
   "execution_count": null,
   "metadata": {
    "ExecuteTime": {
     "end_time": "2020-05-18T14:30:38.689230Z",
     "start_time": "2020-05-18T14:30:38.680320Z"
    }
   },
   "outputs": [],
   "source": [
    "smiths = instantiate_household_with([Steve(), Hilda(), Timmy(), Bobby()])"
   ]
  },
  {
   "cell_type": "code",
   "execution_count": null,
   "metadata": {
    "ExecuteTime": {
     "end_time": "2020-05-18T14:30:39.844959Z",
     "start_time": "2020-05-18T14:30:38.697119Z"
    }
   },
   "outputs": [],
   "source": [
    "smiths.plot()"
   ]
  },
  {
   "cell_type": "markdown",
   "metadata": {},
   "source": [
    "## Household"
   ]
  },
  {
   "cell_type": "markdown",
   "metadata": {},
   "source": [
    "$$P_{household} = 1 - (1-P_{person})^n$$"
   ]
  },
  {
   "cell_type": "markdown",
   "metadata": {},
   "source": [
    "If you have a probability that drives of any one person living in the household.\n",
    "\n",
    "The probability of the household being chosen is then \n",
    "$$1 - (1-P)^n$$\n",
    "where $P$ is the probability any one person being chosen and $n$ is the number of people in the household; $(1-P)^n$ is the probability of no one being picked."
   ]
  },
  {
   "cell_type": "code",
   "execution_count": null,
   "metadata": {
    "ExecuteTime": {
     "end_time": "2020-05-18T14:30:40.917306Z",
     "start_time": "2020-05-18T14:30:39.847063Z"
    }
   },
   "outputs": [],
   "source": [
    "hhld_apply(smiths, HouseholdPolicy(RemoveActivity(['education']),1)).plot()"
   ]
  },
  {
   "cell_type": "markdown",
   "metadata": {},
   "source": [
    "## Person"
   ]
  },
  {
   "cell_type": "markdown",
   "metadata": {},
   "source": [
    "If you have a probability that drives of any one activity a person does.\n",
    "\n",
    "The probability of the person being chosen is then \n",
    "$$1 - (1-P)^n$$\n",
    "where $P$ is the probability any one (relevant) activity being chosen and $n$ is the number of (relevant) activities in the person's plan; $(1-P)^n$ is the probability of no relevant activities being picked."
   ]
  },
  {
   "cell_type": "code",
   "execution_count": null,
   "metadata": {
    "ExecuteTime": {
     "end_time": "2020-05-18T14:30:42.361860Z",
     "start_time": "2020-05-18T14:30:40.920154Z"
    }
   },
   "outputs": [],
   "source": [
    "hhld_apply(smiths, PersonPolicy(RemoveActivity(['shop_1', 'shop_2']),0.5)).plot()"
   ]
  },
  {
   "cell_type": "markdown",
   "metadata": {},
   "source": [
    "## Activity"
   ]
  },
  {
   "cell_type": "markdown",
   "metadata": {},
   "source": [
    "If you have a probability that drives of any one activity a person does and you want to affect particular activities with no consequence to the person or household.\n",
    "\n",
    "Notice that given a probability $P$ for an activity you can affect the whole household. The probability of the household being chosen is then \n",
    "$$1 - (1-P)^n$$\n",
    "where $P$ is the probability any one (relevant) activity being chosen and $n$ is then the number of all (relevant) activities in **all of the persons plans within a household**; $(1-P)^n$ is the probability of no relevant activities being picked for the household."
   ]
  },
  {
   "cell_type": "code",
   "execution_count": null,
   "metadata": {
    "ExecuteTime": {
     "end_time": "2020-05-18T14:30:43.933454Z",
     "start_time": "2020-05-18T14:30:42.369666Z"
    }
   },
   "outputs": [],
   "source": [
    "hhld_apply(smiths, ActivityPolicy(RemoveActivity(['shop_1', 'shop_2']),0.5)).plot()"
   ]
  },
  {
   "cell_type": "markdown",
   "metadata": {},
   "source": [
    "The Policies expect certain levels of probability. For example, performing a `HouseholdPolicy` is easy, you can affect a whole household using a probability at any level, `household`, `person` or `activity`. Performing an `ActivityPolicy` however means you need information at the level of the activities you want to affect."
   ]
  },
  {
   "cell_type": "markdown",
   "metadata": {},
   "source": [
    "|  | HouseholdProbability | PersonProbability | ActivityProbability |\n",
    "| --- | --- | --- | --- |\n",
    "| HouseholdPolicy | Yes | Yes | Yes |\n",
    "| PersonPolicy | --- | Yes | Yes |\n",
    "| ActivityPolicy | --- | --- | Yes |"
   ]
  },
  {
   "cell_type": "markdown",
   "metadata": {},
   "source": [
    "### Joint distributions\n",
    "\n",
    "You can give the `SamplingProbability` classes custom samplers with joint (or not) distributions. That changes the following table\n",
    "\n",
    "|  | HouseholdProbability | PersonProbability | ActivityProbability |\n",
    "| --- | --- | --- | --- |\n",
    "| HouseholdPolicy | $$p$$ | $$1-(1-p)^{n_p}$$ | $$1-(1-p)^{n_{a,h}}$$ |\n",
    "| PersonPolicy | $$-$$ | $$p$$ | $$1-(1-p)^{n_{a,p}}$$ |\n",
    "| ActivityPolicy | $$-$$ | $$-$$ | $$p$$ |\n",
    "\n",
    "where \n",
    "\n",
    "- $n_p$ is the number of people in a household\n",
    "- $n_{a,p}$ is the number of (relevant) activities in a person's plan\n",
    "- $n_{a,h}$ is the number of (relevant) activities in a household\n",
    "\n",
    "to\n",
    "\n",
    "|  | HouseholdProbability | PersonProbability | ActivityProbability |\n",
    "| --- | --- | --- | --- |\n",
    "| HouseholdPolicy | $$p$$ | $$1-\\prod_x (1-p_x)^{n_x}$$ | $$1-\\prod_{x,a}(1-p_{x,a})^{n_{x,a}}$$  |\n",
    "| PersonPolicy | $$-$$ | $$p_x$$ | $$1-\\prod_a (1-p_a)^{n_a}$$ |\n",
    "| ActivityPolicy | $$-$$ | $$-$$ | $$p_a, p_{x,a}$$ |\n",
    "\n",
    "where \n",
    "\n",
    "- $p_x$ is the probability for person $x$\n",
    "- $n_x$ is the number of people with probability $p_x$\n",
    "- $p_a$ is the probability for activity $a$\n",
    "- $n_a$ is the number of activities $a$ in a person's plan\n",
    "- $p_{x,a}$ is the probability for activity $a$ for person $x$\n",
    "- $n_{x,a}$ is the number of activities $a$ in a person $x$ plan"
   ]
  },
  {
   "cell_type": "markdown",
   "metadata": {},
   "source": [
    "# Modifiers\n",
    "\n",
    "Modifier perform the **actions** of removing or moving activities on the chosen **Policy Level** and sampled using the chosen **Sampling Level**."
   ]
  },
  {
   "cell_type": "markdown",
   "metadata": {},
   "source": [
    "### `RemoveActivity`\n",
    "Takes a list of activities to be removed."
   ]
  },
  {
   "cell_type": "code",
   "execution_count": null,
   "metadata": {
    "ExecuteTime": {
     "end_time": "2020-05-18T14:30:45.129162Z",
     "start_time": "2020-05-18T14:30:43.938649Z"
    }
   },
   "outputs": [],
   "source": [
    "hhld_apply(smiths, HouseholdPolicy(RemoveActivity(['education']),1)).plot()"
   ]
  },
  {
   "cell_type": "markdown",
   "metadata": {},
   "source": [
    "### `ReduceSharedActivity`\n",
    "This is a `HouseholdPolicy` level modifier which takes a list of activities, checks the household for those being shared (like going shopping together) and selects a person at random to still perform those activities. Those activities will be deleted for everyone else in the household."
   ]
  },
  {
   "cell_type": "code",
   "execution_count": null,
   "metadata": {
    "ExecuteTime": {
     "end_time": "2020-05-18T14:30:46.271836Z",
     "start_time": "2020-05-18T14:30:45.130897Z"
    }
   },
   "outputs": [],
   "source": [
    "hhld_apply(smiths, HouseholdPolicy(ReduceSharedActivity(['shop_1']),1)).plot()"
   ]
  },
  {
   "cell_type": "markdown",
   "metadata": {},
   "source": [
    "### `MoveActivityTourToHomeLocation`\n",
    "Takes a list of activities and moves those to the home location if they form a **tour**. A tour is a chain of activities sandwiched by two home activities (or boundary of persons plan e.g. if person's activities are: `'work', 'home', 'shop', 'work', 'home'` (in that order), their tours are: `['work'] `and `['shop', work']`)."
   ]
  },
  {
   "cell_type": "code",
   "execution_count": null,
   "metadata": {
    "ExecuteTime": {
     "end_time": "2020-05-18T14:30:47.903350Z",
     "start_time": "2020-05-18T14:30:46.273555Z"
    }
   },
   "outputs": [],
   "source": [
    "hhld_apply(smiths, HouseholdPolicy(MoveActivityTourToHomeLocation(['shop_1', 'shop_2']),1)).plot()"
   ]
  },
  {
   "cell_type": "markdown",
   "metadata": {},
   "source": [
    "The result of this modifier do not show up on the plot. Below are the details of Hilda's original plan."
   ]
  },
  {
   "cell_type": "code",
   "execution_count": null,
   "metadata": {
    "ExecuteTime": {
     "end_time": "2020-05-18T14:30:47.928689Z",
     "start_time": "2020-05-18T14:30:47.911028Z"
    }
   },
   "outputs": [],
   "source": [
    "smiths['Hilda'].print()"
   ]
  },
  {
   "cell_type": "markdown",
   "metadata": {},
   "source": [
    "Here are details of Hilda's plan post application of.`MoveActivityTourToHomeLocation` to `'shop'` activities. Compare the location of Activities 6 and 7 with the ones above. At the moment only the Leg's destination and origin get updated, the mode choice and duration remains unchanged."
   ]
  },
  {
   "cell_type": "code",
   "execution_count": null,
   "metadata": {
    "ExecuteTime": {
     "end_time": "2020-05-18T14:30:47.952515Z",
     "start_time": "2020-05-18T14:30:47.936002Z"
    }
   },
   "outputs": [],
   "source": [
    "hhld_apply(smiths, HouseholdPolicy(MoveActivityTourToHomeLocation(['shop_1', 'shop_2']),1))['Hilda'].print()"
   ]
  },
  {
   "cell_type": "markdown",
   "metadata": {},
   "source": [
    "# Attribute Filters\n",
    "`PersonAttributeFilter` is a conveniece class to apply policies to selected people in the population which satisfy given attributes."
   ]
  },
  {
   "cell_type": "code",
   "execution_count": null,
   "metadata": {
    "ExecuteTime": {
     "end_time": "2020-05-18T14:30:47.969460Z",
     "start_time": "2020-05-18T14:30:47.961197Z"
    }
   },
   "outputs": [],
   "source": [
    "print_attributes(smiths, ['gender', 'age', 'job'])"
   ]
  },
  {
   "cell_type": "code",
   "execution_count": null,
   "metadata": {
    "ExecuteTime": {
     "end_time": "2020-05-18T14:30:49.637283Z",
     "start_time": "2020-05-18T14:30:47.974234Z"
    }
   },
   "outputs": [],
   "source": [
    "def is_male(attribute_value):\n",
    "    return attribute_value == 'male'\n",
    "condition = {'gender': is_male}\n",
    "\n",
    "hhld_apply(smiths, PersonPolicy(RemoveActivity(['shop_1', 'shop_2']),1,PersonAttributeFilter(condition))).plot()"
   ]
  },
  {
   "cell_type": "markdown",
   "metadata": {},
   "source": [
    "# Policies"
   ]
  },
  {
   "cell_type": "markdown",
   "metadata": {},
   "source": [
    "## Person-based Household Quarantine"
   ]
  },
  {
   "cell_type": "code",
   "execution_count": null,
   "metadata": {
    "ExecuteTime": {
     "end_time": "2020-05-18T14:30:51.070185Z",
     "start_time": "2020-05-18T14:30:49.640002Z"
    }
   },
   "outputs": [],
   "source": [
    "smiths.plot()"
   ]
  },
  {
   "cell_type": "code",
   "execution_count": null,
   "metadata": {
    "ExecuteTime": {
     "end_time": "2020-05-18T14:30:51.079500Z",
     "start_time": "2020-05-18T14:30:51.074291Z"
    }
   },
   "outputs": [],
   "source": [
    "policy_household_quarantine_per_person = \\\n",
    "    HouseholdQuarantined(\n",
    "        PersonProbability(0.01)\n",
    ")"
   ]
  },
  {
   "cell_type": "code",
   "execution_count": null,
   "metadata": {
    "ExecuteTime": {
     "end_time": "2020-05-18T14:30:52.195562Z",
     "start_time": "2020-05-18T14:30:51.084648Z"
    }
   },
   "outputs": [],
   "source": [
    "hhld_apply(smiths, policy_household_quarantine_per_person).plot()"
   ]
  },
  {
   "cell_type": "code",
   "execution_count": null,
   "metadata": {
    "ExecuteTime": {
     "end_time": "2020-05-18T14:30:52.833211Z",
     "start_time": "2020-05-18T14:30:52.197941Z"
    }
   },
   "outputs": [],
   "source": [
    "hhld_apply(smiths, HouseholdQuarantined(1)).plot()"
   ]
  },
  {
   "cell_type": "markdown",
   "metadata": {},
   "source": [
    "## Remove Higher Education\n",
    "\n",
    "Remove all education activity for persons over age of 17"
   ]
  },
  {
   "cell_type": "code",
   "execution_count": null,
   "metadata": {
    "ExecuteTime": {
     "end_time": "2020-05-18T14:30:52.841643Z",
     "start_time": "2020-05-18T14:30:52.835304Z"
    },
    "scrolled": true
   },
   "outputs": [],
   "source": [
    "print_attributes(smiths, ['age', 'job'])"
   ]
  },
  {
   "cell_type": "code",
   "execution_count": null,
   "metadata": {
    "ExecuteTime": {
     "end_time": "2020-05-18T14:30:53.806761Z",
     "start_time": "2020-05-18T14:30:52.843946Z"
    }
   },
   "outputs": [],
   "source": [
    "smiths.plot()"
   ]
  },
  {
   "cell_type": "code",
   "execution_count": null,
   "metadata": {
    "ExecuteTime": {
     "end_time": "2020-05-18T14:30:53.816473Z",
     "start_time": "2020-05-18T14:30:53.809433Z"
    }
   },
   "outputs": [],
   "source": [
    "def over_17(attribute_value):\n",
    "    return attribute_value > 17\n",
    "\n",
    "policy_remove_higher_education = \\\n",
    "    PersonPolicy(\n",
    "        RemoveActivity(['education']),\n",
    "        PersonProbability(1),\n",
    "        PersonAttributeFilter({'age': over_17}, how='all')\n",
    ")"
   ]
  },
  {
   "cell_type": "code",
   "execution_count": null,
   "metadata": {
    "ExecuteTime": {
     "end_time": "2020-05-18T14:30:54.856076Z",
     "start_time": "2020-05-18T14:30:53.821595Z"
    }
   },
   "outputs": [],
   "source": [
    "hhld_apply(smiths, policy_remove_higher_education).plot()"
   ]
  },
  {
   "cell_type": "markdown",
   "metadata": {},
   "source": [
    "## Remove Education\n",
    "\n",
    "Probabilistically remove education activities from a person, and escort from people who share the household.\n",
    "Contraint based on the house not being **care constrainted** and people being able to **work from home**."
   ]
  },
  {
   "cell_type": "markdown",
   "metadata": {},
   "source": [
    "### Example of non care constrained household\n",
    "\n",
    "Let's make the Smiths household a non care constrained household with at least one adult is able to work from home and the household is not care constrained."
   ]
  },
  {
   "cell_type": "code",
   "execution_count": null,
   "metadata": {
    "ExecuteTime": {
     "end_time": "2020-05-18T14:30:54.867150Z",
     "start_time": "2020-05-18T14:30:54.860512Z"
    }
   },
   "outputs": [],
   "source": [
    "smiths['Steve'].attributes['wfh'] = True\n",
    "smiths['Steve'].attributes['care_constrained'] = False\n",
    "smiths['Hilda'].attributes['wfh'] = True\n",
    "smiths['Hilda'].attributes['care_constrained'] = False\n",
    "smiths['Timmy'].attributes['wfh'] = False\n",
    "smiths['Timmy'].attributes['care_constrained'] = False\n",
    "smiths['Bobby'].attributes['wfh'] = False\n",
    "smiths['Bobby'].attributes['care_constrained'] = False"
   ]
  },
  {
   "cell_type": "code",
   "execution_count": null,
   "metadata": {
    "ExecuteTime": {
     "end_time": "2020-05-18T14:30:54.878716Z",
     "start_time": "2020-05-18T14:30:54.869565Z"
    },
    "scrolled": false
   },
   "outputs": [],
   "source": [
    "print_attributes(smiths, ['wfh', 'care_constrained'])"
   ]
  },
  {
   "cell_type": "code",
   "execution_count": null,
   "metadata": {
    "ExecuteTime": {
     "end_time": "2020-05-18T14:30:54.887838Z",
     "start_time": "2020-05-18T14:30:54.881288Z"
    }
   },
   "outputs": [],
   "source": [
    "def attribute_False(attribute_value):\n",
    "    return not bool(attribute_value)\n",
    "\n",
    "def attribute_True(attribute_value):\n",
    "    return bool(attribute_value)\n",
    "\n",
    "conditions = {\n",
    "    'care_constrained': attribute_False,\n",
    "    'wfh': attribute_True\n",
    "}\n",
    "\n",
    "# notice that the probability of the household (`HouseholdPolicy`) being chosen is driven\n",
    "# by the presence of education activities (`ActivityProbability(['education'], 0.95)`)\n",
    "# in the end the policy removes both education and escort (`RemoveActivity(['education', 'escort'])`)\n",
    "# but the presence of escort doesn't affect the likelihood\n",
    "policy_remove_any_education = \\\n",
    "    HouseholdPolicy(\n",
    "        RemoveActivity(['education', 'escort']), \n",
    "        ActivityProbability(['education'], 0.95),\n",
    "        PersonAttributeFilter(conditions)\n",
    ")"
   ]
  },
  {
   "cell_type": "markdown",
   "metadata": {},
   "source": [
    "### Non care constrained household is affected"
   ]
  },
  {
   "cell_type": "code",
   "execution_count": null,
   "metadata": {
    "ExecuteTime": {
     "end_time": "2020-05-18T14:30:55.799011Z",
     "start_time": "2020-05-18T14:30:54.893529Z"
    }
   },
   "outputs": [],
   "source": [
    "hhld_apply(smiths, policy_remove_any_education).plot()"
   ]
  },
  {
   "cell_type": "markdown",
   "metadata": {},
   "source": [
    "### Example of care constrained household"
   ]
  },
  {
   "cell_type": "code",
   "execution_count": null,
   "metadata": {
    "ExecuteTime": {
     "end_time": "2020-05-18T14:30:55.810907Z",
     "start_time": "2020-05-18T14:30:55.802682Z"
    }
   },
   "outputs": [],
   "source": [
    "smiths['Steve'].attributes['wfh'] = False\n",
    "smiths['Steve'].attributes['care_constrained'] = True\n",
    "smiths['Hilda'].attributes['wfh'] = False\n",
    "smiths['Hilda'].attributes['care_constrained'] = True\n",
    "smiths['Timmy'].attributes['wfh'] = False\n",
    "smiths['Timmy'].attributes['care_constrained'] = False\n",
    "smiths['Bobby'].attributes['wfh'] = False\n",
    "smiths['Bobby'].attributes['care_constrained'] = False\n",
    "\n",
    "print_attributes(smiths, ['wfh', 'care_constrained'])"
   ]
  },
  {
   "cell_type": "markdown",
   "metadata": {},
   "source": [
    "### Care constrained household is not affected"
   ]
  },
  {
   "cell_type": "code",
   "execution_count": null,
   "metadata": {
    "ExecuteTime": {
     "end_time": "2020-05-18T14:30:56.819541Z",
     "start_time": "2020-05-18T14:30:55.812661Z"
    }
   },
   "outputs": [],
   "source": [
    "hhld_apply(smiths, policy_remove_any_education).plot()"
   ]
  },
  {
   "cell_type": "markdown",
   "metadata": {},
   "source": [
    "## Remove Leisure Activities\n",
    "\n",
    "Remove all leisure activities"
   ]
  },
  {
   "cell_type": "code",
   "execution_count": null,
   "metadata": {
    "ExecuteTime": {
     "end_time": "2020-05-18T14:30:56.827550Z",
     "start_time": "2020-05-18T14:30:56.821467Z"
    }
   },
   "outputs": [],
   "source": [
    "policy_remove_leisure = \\\n",
    "    PersonPolicy(\n",
    "        RemoveActivity(['leisure']), \n",
    "        PersonProbability(1)\n",
    ")"
   ]
  },
  {
   "cell_type": "code",
   "execution_count": null,
   "metadata": {
    "ExecuteTime": {
     "end_time": "2020-05-18T14:30:57.883297Z",
     "start_time": "2020-05-18T14:30:56.829208Z"
    }
   },
   "outputs": [],
   "source": [
    "hhld_apply(smiths, policy_remove_leisure).plot()"
   ]
  },
  {
   "cell_type": "markdown",
   "metadata": {},
   "source": [
    "## Move Sport Activities\n",
    "\n",
    "Probabilistically move Sport activities to home location"
   ]
  },
  {
   "cell_type": "code",
   "execution_count": null,
   "metadata": {
    "ExecuteTime": {
     "end_time": "2020-05-18T14:30:57.896384Z",
     "start_time": "2020-05-18T14:30:57.886571Z"
    }
   },
   "outputs": [],
   "source": [
    "smiths['Timmy'].print()"
   ]
  },
  {
   "cell_type": "code",
   "execution_count": null,
   "metadata": {
    "ExecuteTime": {
     "end_time": "2020-05-18T14:30:57.905976Z",
     "start_time": "2020-05-18T14:30:57.898179Z"
    }
   },
   "outputs": [],
   "source": [
    "policy_move_sport = \\\n",
    "    PersonPolicy(\n",
    "        MoveActivityTourToHomeLocation(['sport']), \n",
    "        PersonProbability(1)\n",
    ")"
   ]
  },
  {
   "cell_type": "code",
   "execution_count": null,
   "metadata": {
    "ExecuteTime": {
     "end_time": "2020-05-18T14:30:57.923001Z",
     "start_time": "2020-05-18T14:30:57.910569Z"
    }
   },
   "outputs": [],
   "source": [
    "hhld_apply(smiths, policy_move_sport)['Timmy'].print()"
   ]
  },
  {
   "cell_type": "markdown",
   "metadata": {},
   "source": [
    "## Remove Health Activities\n",
    "\n",
    "Probabilistically remove **individual** health activities from a person. Make vulnerable people more likely to have their health activities removed."
   ]
  },
  {
   "cell_type": "code",
   "execution_count": null,
   "metadata": {
    "ExecuteTime": {
     "end_time": "2020-05-18T14:30:57.942928Z",
     "start_time": "2020-05-18T14:30:57.936365Z"
    }
   },
   "outputs": [],
   "source": [
    "def discrete_joint_distribution_sampler(person, mapping, distribution):\n",
    "    p = distribution\n",
    "    for key in mapping:\n",
    "        value = person.attributes.get(key)\n",
    "        if value is None:\n",
    "            raise KeyError(f\"Cannot find mapping: {key} in sampling features: {features}\")\n",
    "        p = p.get(value)\n",
    "        if p is None:\n",
    "            raise KeyError(f\"Cannot find feature for {key}: {value} in distribution: {p}\")\n",
    "    return p"
   ]
  },
  {
   "cell_type": "code",
   "execution_count": null,
   "metadata": {
    "ExecuteTime": {
     "end_time": "2020-05-18T14:30:57.950329Z",
     "start_time": "2020-05-18T14:30:57.944411Z"
    }
   },
   "outputs": [],
   "source": [
    "vulnerable_mapping = ['age', 'gender']\n",
    "vulnerable_distribution = dict(zip(list(range(101)), [{'male': i/100, 'female': i/100, 'other': i/100} for i in range(101)]))"
   ]
  },
  {
   "cell_type": "code",
   "execution_count": null,
   "metadata": {
    "ExecuteTime": {
     "end_time": "2020-05-18T14:30:57.959022Z",
     "start_time": "2020-05-18T14:30:57.952183Z"
    }
   },
   "outputs": [],
   "source": [
    "dict(list(vulnerable_distribution.items())[0:15])"
   ]
  },
  {
   "cell_type": "code",
   "execution_count": null,
   "metadata": {
    "ExecuteTime": {
     "end_time": "2020-05-18T14:30:57.968212Z",
     "start_time": "2020-05-18T14:30:57.961888Z"
    }
   },
   "outputs": [],
   "source": [
    "policy_remove_health = \\\n",
    "    PersonPolicy(\n",
    "        RemoveActivity(['medical']), \n",
    "        [PersonProbability(discrete_joint_distribution_sampler, \n",
    "                           {'mapping':vulnerable_mapping, 'distribution':vulnerable_distribution}),\n",
    "         ActivityProbability(['medical'], 0.5)]\n",
    ")"
   ]
  },
  {
   "cell_type": "code",
   "execution_count": null,
   "metadata": {
    "ExecuteTime": {
     "end_time": "2020-05-18T14:30:57.980752Z",
     "start_time": "2020-05-18T14:30:57.969964Z"
    }
   },
   "outputs": [],
   "source": [
    "print_attributes(smiths, ['age', 'gender'])"
   ]
  },
  {
   "cell_type": "code",
   "execution_count": null,
   "metadata": {
    "ExecuteTime": {
     "end_time": "2020-05-18T14:30:58.921053Z",
     "start_time": "2020-05-18T14:30:57.982743Z"
    }
   },
   "outputs": [],
   "source": [
    "smiths.plot()"
   ]
  },
  {
   "cell_type": "code",
   "execution_count": null,
   "metadata": {
    "ExecuteTime": {
     "end_time": "2020-05-18T14:30:59.744102Z",
     "start_time": "2020-05-18T14:30:58.923828Z"
    }
   },
   "outputs": [],
   "source": [
    "hhld_apply(smiths, policy_remove_health).plot()"
   ]
  },
  {
   "cell_type": "markdown",
   "metadata": {},
   "source": [
    "## Unemployment/Furlough\n",
    "\n",
    "Probabilistically remove all work activities from a person"
   ]
  },
  {
   "cell_type": "code",
   "execution_count": null,
   "metadata": {
    "ExecuteTime": {
     "end_time": "2020-05-18T14:30:59.749394Z",
     "start_time": "2020-05-18T14:30:59.746261Z"
    }
   },
   "outputs": [],
   "source": [
    "policy_unemployment_and_furlough = \\\n",
    "    PersonPolicy(\n",
    "        RemoveActivity(['work']), \n",
    "        PersonProbability(0.1)\n",
    ")"
   ]
  },
  {
   "cell_type": "code",
   "execution_count": null,
   "metadata": {
    "ExecuteTime": {
     "end_time": "2020-05-18T14:31:00.758296Z",
     "start_time": "2020-05-18T14:30:59.752296Z"
    }
   },
   "outputs": [],
   "source": [
    "hhld_apply(smiths, PersonPolicy(RemoveActivity(['work']), 1)).plot()"
   ]
  },
  {
   "cell_type": "markdown",
   "metadata": {},
   "source": [
    "## Work from Home\n",
    "\n",
    "Probabilistically remove all work activities from a person"
   ]
  },
  {
   "cell_type": "code",
   "execution_count": null,
   "metadata": {
    "ExecuteTime": {
     "end_time": "2020-05-18T14:31:00.772286Z",
     "start_time": "2020-05-18T14:31:00.760583Z"
    }
   },
   "outputs": [],
   "source": [
    "smiths['Steve'].attributes['wfh'] = True\n",
    "smiths['Steve'].attributes['key_worker'] = False\n",
    "smiths['Hilda'].attributes['wfh'] = False\n",
    "smiths['Hilda'].attributes['key_worker'] = False\n",
    "smiths['Timmy'].attributes['wfh'] = False\n",
    "smiths['Timmy'].attributes['key_worker'] = False\n",
    "smiths['Bobby'].attributes['wfh'] = False\n",
    "smiths['Bobby'].attributes['key_worker'] = False\n",
    "\n",
    "print_attributes(smiths, ['wfh', 'key_worker'])"
   ]
  },
  {
   "cell_type": "code",
   "execution_count": null,
   "metadata": {
    "ExecuteTime": {
     "end_time": "2020-05-18T14:31:00.781213Z",
     "start_time": "2020-05-18T14:31:00.775316Z"
    }
   },
   "outputs": [],
   "source": [
    "conditions = {\n",
    "    'key_worker': attribute_False,\n",
    "    'wfh': attribute_True\n",
    "}"
   ]
  },
  {
   "cell_type": "code",
   "execution_count": null,
   "metadata": {
    "ExecuteTime": {
     "end_time": "2020-05-18T14:31:00.792718Z",
     "start_time": "2020-05-18T14:31:00.784905Z"
    }
   },
   "outputs": [],
   "source": [
    "policy_work_from_home = \\\n",
    "    PersonPolicy(\n",
    "        RemoveActivity(['work']), \n",
    "        PersonProbability(0.5),\n",
    "        PersonAttributeFilter(conditions)\n",
    ")"
   ]
  },
  {
   "cell_type": "code",
   "execution_count": null,
   "metadata": {
    "ExecuteTime": {
     "end_time": "2020-05-18T14:31:01.796147Z",
     "start_time": "2020-05-18T14:31:00.794946Z"
    }
   },
   "outputs": [],
   "source": [
    "hhld_apply(smiths, PersonPolicy(RemoveActivity(['work']), 1, \n",
    "                                PersonAttributeFilter(conditions))).plot()"
   ]
  },
  {
   "cell_type": "code",
   "execution_count": null,
   "metadata": {
    "ExecuteTime": {
     "end_time": "2020-05-18T14:31:01.808480Z",
     "start_time": "2020-05-18T14:31:01.798454Z"
    }
   },
   "outputs": [],
   "source": [
    "smiths['Steve'].attributes['wfh'] = False\n",
    "smiths['Steve'].attributes['key_worker'] = True\n",
    "smiths['Hilda'].attributes['wfh'] = False\n",
    "smiths['Hilda'].attributes['key_worker'] = False\n",
    "smiths['Timmy'].attributes['wfh'] = False\n",
    "smiths['Timmy'].attributes['key_worker'] = False\n",
    "smiths['Bobby'].attributes['wfh'] = False\n",
    "smiths['Bobby'].attributes['key_worker'] = False\n",
    "\n",
    "print_attributes(smiths, ['wfh', 'key_worker'])"
   ]
  },
  {
   "cell_type": "code",
   "execution_count": null,
   "metadata": {
    "ExecuteTime": {
     "end_time": "2020-05-18T14:31:03.514818Z",
     "start_time": "2020-05-18T14:31:01.810329Z"
    }
   },
   "outputs": [],
   "source": [
    "hhld_apply(smiths, PersonPolicy(RemoveActivity(['work']), 1, \n",
    "                                               PersonAttributeFilter(conditions))).plot()"
   ]
  },
  {
   "cell_type": "markdown",
   "metadata": {},
   "source": [
    "## Reduced Work Activity\n",
    "\n",
    "Probabilistically remove **individual** work activities from a person"
   ]
  },
  {
   "cell_type": "code",
   "execution_count": null,
   "metadata": {
    "ExecuteTime": {
     "end_time": "2020-05-18T14:31:03.528224Z",
     "start_time": "2020-05-18T14:31:03.523889Z"
    }
   },
   "outputs": [],
   "source": [
    "policy_reduced_work_activity = \\\n",
    "    ActivityPolicy(\n",
    "        RemoveActivity(['work']), \n",
    "        ActivityProbability(['work'], 0.2)\n",
    ")"
   ]
  },
  {
   "cell_type": "code",
   "execution_count": null,
   "metadata": {
    "ExecuteTime": {
     "end_time": "2020-05-18T14:31:05.261257Z",
     "start_time": "2020-05-18T14:31:03.532344Z"
    }
   },
   "outputs": [],
   "source": [
    "hhld_apply(smiths, policy_reduced_work_activity).plot()"
   ]
  },
  {
   "cell_type": "markdown",
   "metadata": {},
   "source": [
    "## Shopping \n"
   ]
  },
  {
   "cell_type": "markdown",
   "metadata": {},
   "source": [
    "### Reduce Shared Shopping Activities"
   ]
  },
  {
   "cell_type": "code",
   "execution_count": null,
   "metadata": {
    "ExecuteTime": {
     "end_time": "2020-05-18T14:31:05.269123Z",
     "start_time": "2020-05-18T14:31:05.264145Z"
    }
   },
   "outputs": [],
   "source": [
    "policy_reduce_shopping_activities = \\\n",
    "    HouseholdPolicy(\n",
    "        ReduceSharedActivity(['shop', 'shop_1', 'shop_2']), \n",
    "        ActivityProbability(['shop', 'shop_1', 'shop_2'], 1)\n",
    ")"
   ]
  },
  {
   "cell_type": "code",
   "execution_count": null,
   "metadata": {
    "ExecuteTime": {
     "end_time": "2020-05-18T14:31:05.279147Z",
     "start_time": "2020-05-18T14:31:05.271249Z"
    }
   },
   "outputs": [],
   "source": [
    "smiths_shop = hhld_apply(smiths, policy_reduce_shopping_activities)"
   ]
  },
  {
   "cell_type": "code",
   "execution_count": null,
   "metadata": {
    "ExecuteTime": {
     "end_time": "2020-05-18T14:31:06.168833Z",
     "start_time": "2020-05-18T14:31:05.281467Z"
    }
   },
   "outputs": [],
   "source": [
    "smiths_shop.plot()"
   ]
  },
  {
   "cell_type": "code",
   "execution_count": null,
   "metadata": {
    "ExecuteTime": {
     "end_time": "2020-05-18T14:31:06.186246Z",
     "start_time": "2020-05-18T14:31:06.179418Z"
    }
   },
   "outputs": [],
   "source": [
    "person_with_shopping = [p for p in smiths_shop.people.values() if 'shop_1' in [act.act for act in p.activities]][0].pid"
   ]
  },
  {
   "cell_type": "code",
   "execution_count": null,
   "metadata": {
    "ExecuteTime": {
     "end_time": "2020-05-18T14:31:06.198592Z",
     "start_time": "2020-05-18T14:31:06.189316Z"
    }
   },
   "outputs": [],
   "source": [
    "smiths_shop.people[person_with_shopping].print()"
   ]
  },
  {
   "cell_type": "markdown",
   "metadata": {},
   "source": [
    "### Move Shopping Activities closer to home"
   ]
  },
  {
   "cell_type": "code",
   "execution_count": null,
   "metadata": {
    "ExecuteTime": {
     "end_time": "2020-05-18T14:31:06.211535Z",
     "start_time": "2020-05-18T14:31:06.200250Z"
    }
   },
   "outputs": [],
   "source": [
    "policy_move_shopping = \\\n",
    "    PersonPolicy(\n",
    "        MoveActivityTourToHomeLocation(['shop_1', 'shop', 'shop_2']), \n",
    "        ActivityProbability(['shop_1', 'shop', 'shop_2'], 1.)\n",
    ")"
   ]
  },
  {
   "cell_type": "code",
   "execution_count": null,
   "metadata": {
    "ExecuteTime": {
     "end_time": "2020-05-18T14:31:06.223869Z",
     "start_time": "2020-05-18T14:31:06.213291Z"
    }
   },
   "outputs": [],
   "source": [
    "smiths_shop = hhld_apply(smiths_shop, policy_move_shopping)"
   ]
  },
  {
   "cell_type": "code",
   "execution_count": null,
   "metadata": {
    "ExecuteTime": {
     "end_time": "2020-05-18T14:31:07.216740Z",
     "start_time": "2020-05-18T14:31:06.225669Z"
    }
   },
   "outputs": [],
   "source": [
    "smiths_shop.plot()"
   ]
  },
  {
   "cell_type": "code",
   "execution_count": null,
   "metadata": {
    "ExecuteTime": {
     "end_time": "2020-05-18T14:31:07.231766Z",
     "start_time": "2020-05-18T14:31:07.219891Z"
    }
   },
   "outputs": [],
   "source": [
    "smiths.people[person_with_shopping].print()"
   ]
  },
  {
   "cell_type": "code",
   "execution_count": null,
   "metadata": {
    "ExecuteTime": {
     "end_time": "2020-05-18T14:31:07.246270Z",
     "start_time": "2020-05-18T14:31:07.236334Z"
    }
   },
   "outputs": [],
   "source": [
    "smiths_shop.people[person_with_shopping].print()"
   ]
  },
  {
   "cell_type": "markdown",
   "metadata": {},
   "source": [
    "## All together now!"
   ]
  },
  {
   "cell_type": "code",
   "execution_count": null,
   "metadata": {
    "ExecuteTime": {
     "end_time": "2020-05-18T14:31:07.265268Z",
     "start_time": "2020-05-18T14:31:07.248593Z"
    }
   },
   "outputs": [],
   "source": [
    "population = Population(1)\n",
    "population.add(smiths)\n",
    "\n",
    "all_together_pop = apply_policies(\n",
    "    population, \n",
    "    [policy_household_quarantine_per_person, \n",
    "     policy_remove_higher_education, \n",
    "     policy_remove_any_education, \n",
    "     policy_remove_leisure, \n",
    "     policy_move_sport,\n",
    "     policy_remove_health, \n",
    "     policy_unemployment_and_furlough, \n",
    "     policy_work_from_home, \n",
    "     policy_reduced_work_activity, \n",
    "     policy_reduce_shopping_activities,\n",
    "     policy_move_shopping\n",
    "    ])"
   ]
  },
  {
   "cell_type": "code",
   "execution_count": null,
   "metadata": {},
   "outputs": [],
   "source": []
  }
 ],
 "metadata": {
  "kernelspec": {
   "display_name": "Python 3.7.3 ('pam')",
   "language": "python",
   "name": "python3"
  },
  "language_info": {
   "codemirror_mode": {
    "name": "ipython",
    "version": 3
   },
   "file_extension": ".py",
   "mimetype": "text/x-python",
   "name": "python",
   "nbconvert_exporter": "python",
   "pygments_lexer": "ipython3",
   "version": "3.7.3"
  },
  "latex_envs": {
   "LaTeX_envs_menu_present": true,
   "autoclose": true,
   "autocomplete": true,
   "bibliofile": "biblio.bib",
   "cite_by": "apalike",
   "current_citInitial": 1,
   "eqLabelWithNumbers": true,
   "eqNumInitial": 1,
   "hotkeys": {
    "equation": "Ctrl-E",
    "itemize": "Ctrl-I"
   },
   "labels_anchors": false,
   "latex_user_defs": false,
   "report_style_numbering": false,
   "user_envs_cfg": false
  },
  "toc": {
   "base_numbering": 1,
   "nav_menu": {},
   "number_sections": true,
   "sideBar": true,
   "skip_h1_title": false,
   "title_cell": "Table of Contents",
   "title_sidebar": "Contents",
   "toc_cell": false,
   "toc_position": {},
   "toc_section_display": true,
   "toc_window_display": false
  },
  "varInspector": {
   "cols": {
    "lenName": 16,
    "lenType": 16,
    "lenVar": 40
   },
   "kernels_config": {
    "python": {
     "delete_cmd_postfix": "",
     "delete_cmd_prefix": "del ",
     "library": "var_list.py",
     "varRefreshCmd": "print(var_dic_list())"
    },
    "r": {
     "delete_cmd_postfix": ") ",
     "delete_cmd_prefix": "rm(",
     "library": "var_list.r",
     "varRefreshCmd": "cat(var_dic_list()) "
    }
   },
   "types_to_exclude": [
    "module",
    "function",
    "builtin_function_or_method",
    "instance",
    "_Feature"
   ],
   "window_display": false
  },
  "vscode": {
   "interpreter": {
    "hash": "270b2096f688d13ad6e93cc6328e32b64288e195592f9db2d9ed6e7d60cfcc3a"
   }
  }
 },
 "nbformat": 4,
 "nbformat_minor": 2
}
