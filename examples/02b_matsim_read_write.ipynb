{
 "cells": [
  {
   "attachments": {},
   "cell_type": "markdown",
   "metadata": {},
   "source": [
    "# MATSim Read-Write\n",
    "\n",
    "This notebook is an introduction to the PAM MATSim read-write methods. It has four parts:\n",
    "\n",
    "1. [Read](#read-matsim-format)\n",
    "2. [Write](#write-matsim-format)\n",
    "3. [Experienced Plans](#experienced-plans)\n",
    "4. [Streaming](#streaming)"
   ]
  },
  {
   "cell_type": "code",
   "execution_count": 1,
   "metadata": {
    "ExecuteTime": {
     "end_time": "2020-05-18T14:31:06.631005Z",
     "start_time": "2020-05-18T14:31:06.133057Z"
    },
    "execution": {
     "iopub.execute_input": "2024-04-04T10:40:59.019761Z",
     "iopub.status.busy": "2024-04-04T10:40:59.018761Z",
     "iopub.status.idle": "2024-04-04T10:40:59.265836Z",
     "shell.execute_reply": "2024-04-04T10:40:59.265836Z"
    }
   },
   "outputs": [
    {
     "ename": "ModuleNotFoundError",
     "evalue": "No module named 'pam'",
     "output_type": "error",
     "traceback": [
      "\u001b[1;31m---------------------------------------------------------------------------\u001b[0m",
      "\u001b[1;31mModuleNotFoundError\u001b[0m                       Traceback (most recent call last)",
      "Cell \u001b[1;32mIn[1], line 3\u001b[0m\n\u001b[0;32m      1\u001b[0m \u001b[38;5;28;01mimport\u001b[39;00m \u001b[38;5;21;01mos\u001b[39;00m\n\u001b[1;32m----> 3\u001b[0m \u001b[38;5;28;01mfrom\u001b[39;00m \u001b[38;5;21;01mpam\u001b[39;00m \u001b[38;5;28;01mimport\u001b[39;00m read\n",
      "\u001b[1;31mModuleNotFoundError\u001b[0m: No module named 'pam'"
     ]
    }
   ],
   "source": [
    "import os\n",
    "\n",
    "from pam import read"
   ]
  },
  {
   "attachments": {},
   "cell_type": "markdown",
   "metadata": {},
   "source": [
    "## Read MATSim Format\n",
    "\n",
    "PAM can read from MATSim formatted xml using `pam.read.read_matsim`. `read_matsim` will except xml or gzipped xml (`.xml.gz`). It supports multiple additional options for your use-case (read the docs)."
   ]
  },
  {
   "cell_type": "code",
   "execution_count": 2,
   "metadata": {
    "ExecuteTime": {
     "end_time": "2020-05-18T13:40:08.588305Z",
     "start_time": "2020-05-18T13:40:08.557000Z"
    },
    "execution": {
     "iopub.execute_input": "2023-09-22T10:52:09.923714Z",
     "iopub.status.busy": "2023-09-22T10:52:09.923529Z",
     "iopub.status.idle": "2023-09-22T10:52:09.943255Z",
     "shell.execute_reply": "2023-09-22T10:52:09.942840Z"
    }
   },
   "outputs": [],
   "source": [
    "population = read.read_matsim(plans_path=os.path.join(\"data\", \"example_data\", \"example_plans.xml\"))\n",
    "population.stats"
   ]
  },
  {
   "cell_type": "markdown",
   "metadata": {},
   "source": [
    "## Write MATSim Format\n",
    "\n",
    "PAM can write to MATSim formatted xml using `pam.write.write_matsim`."
   ]
  },
  {
   "cell_type": "code",
   "execution_count": 3,
   "metadata": {
    "execution": {
     "iopub.execute_input": "2023-09-22T10:52:09.965932Z",
     "iopub.status.busy": "2023-09-22T10:52:09.965678Z",
     "iopub.status.idle": "2023-09-22T10:52:09.988187Z",
     "shell.execute_reply": "2023-09-22T10:52:09.987789Z"
    }
   },
   "outputs": [],
   "source": [
    "from pam import write\n",
    "\n",
    "write.write_matsim(population, plans_path=os.path.join(\"tmp\", \"plans.xml\"))"
   ]
  },
  {
   "cell_type": "markdown",
   "metadata": {},
   "source": [
    "## Experienced Plans\n",
    "\n",
    "PAM supports MATSim experienced plans:\n",
    "\n",
    "- unselected plans\n",
    "- missing person attributes (attributes can be retrieved from regular MATSim plans)\n",
    "- leg attributes\n",
    "- leg routes\n",
    "\n",
    "The `read_matsim` and `write_matsim` functions support experienced plans. Reading, modifying and writing experienced plans is a useful way of building MATSim scenarios without loosing too much information from a previous scenario.\n"
   ]
  },
  {
   "cell_type": "markdown",
   "metadata": {},
   "source": [
    "## Streaming\n",
    "\n",
    "Low memory applications can be created by streaming MATSim plans from `read.stream_matsim_persons` into your application logic and then back to disk using `write.Writer`. For example:"
   ]
  },
  {
   "cell_type": "code",
   "execution_count": 4,
   "metadata": {
    "execution": {
     "iopub.execute_input": "2023-09-22T10:52:09.989729Z",
     "iopub.status.busy": "2023-09-22T10:52:09.989627Z",
     "iopub.status.idle": "2023-09-22T10:52:10.015293Z",
     "shell.execute_reply": "2023-09-22T10:52:10.014977Z"
    }
   },
   "outputs": [],
   "source": [
    "from pam.read import stream_matsim_persons\n",
    "from pam.write import Writer\n",
    "\n",
    "read_path = os.path.join(\"data\", \"example_data\", \"example_plans.xml\")\n",
    "write_path = os.path.join(\"tmp\", \"plans.xml\")\n",
    "\n",
    "with Writer(\n",
    "    path=write_path, keep_non_selected=True, coordinate_reference_system=\"EPSG:27700\"\n",
    ") as writer:\n",
    "    for person in stream_matsim_persons(\n",
    "        plans_path=read_path,\n",
    "        weight=10,\n",
    "        simplify_pt_trips=False,\n",
    "        leg_route=False,\n",
    "        keep_non_selected=True,\n",
    "    ):\n",
    "        # add age attribute\n",
    "        person.attributes[\"age\"] = \"unknown\"\n",
    "        writer.add_person(person)"
   ]
  },
  {
   "cell_type": "code",
   "execution_count": null,
   "metadata": {},
   "outputs": [],
   "source": []
  }
 ],
 "metadata": {
  "kernelspec": {
   "display_name": "pam",
   "language": "python",
   "name": "python3"
  },
  "language_info": {
   "codemirror_mode": {
    "name": "ipython",
    "version": 3
   },
   "file_extension": ".py",
   "mimetype": "text/x-python",
   "name": "python",
   "nbconvert_exporter": "python",
   "pygments_lexer": "ipython3",
   "version": "3.11.8"
  },
  "latex_envs": {
   "LaTeX_envs_menu_present": true,
   "autoclose": true,
   "autocomplete": true,
   "bibliofile": "biblio.bib",
   "cite_by": "apalike",
   "current_citInitial": 1,
   "eqLabelWithNumbers": true,
   "eqNumInitial": 1,
   "hotkeys": {
    "equation": "Ctrl-E",
    "itemize": "Ctrl-I"
   },
   "labels_anchors": false,
   "latex_user_defs": false,
   "report_style_numbering": false,
   "user_envs_cfg": false
  },
  "toc": {
   "base_numbering": 1,
   "nav_menu": {},
   "number_sections": true,
   "sideBar": true,
   "skip_h1_title": true,
   "title_cell": "Table of Contents",
   "title_sidebar": "Contents",
   "toc_cell": false,
   "toc_position": {
    "height": "calc(100% - 180px)",
    "left": "10px",
    "top": "150px",
    "width": "248.333px"
   },
   "toc_section_display": true,
   "toc_window_display": false
  },
  "varInspector": {
   "cols": {
    "lenName": 16,
    "lenType": 16,
    "lenVar": 40
   },
   "kernels_config": {
    "python": {
     "delete_cmd_postfix": "",
     "delete_cmd_prefix": "del ",
     "library": "var_list.py",
     "varRefreshCmd": "print(var_dic_list())"
    },
    "r": {
     "delete_cmd_postfix": ") ",
     "delete_cmd_prefix": "rm(",
     "library": "var_list.r",
     "varRefreshCmd": "cat(var_dic_list()) "
    }
   },
   "types_to_exclude": [
    "module",
    "function",
    "builtin_function_or_method",
    "instance",
    "_Feature"
   ],
   "window_display": false
  }
 },
 "nbformat": 4,
 "nbformat_minor": 2
}
