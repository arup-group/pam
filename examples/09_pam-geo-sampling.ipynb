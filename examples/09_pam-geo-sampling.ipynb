{
 "cells": [
  {
   "cell_type": "code",
   "execution_count": 1,
   "metadata": {
    "ExecuteTime": {
     "end_time": "2020-04-15T14:22:45.434401Z",
     "start_time": "2020-04-15T14:22:43.811833Z"
    }
   },
   "outputs": [],
   "source": [
    "import os\n",
    "import pandas as pd\n",
    "from copy import deepcopy\n",
    "from collections import defaultdict\n",
    "import geopandas as gp\n",
    "from matplotlib import pyplot as plt\n",
    "\n",
    "import numpy as np"
   ]
  },
  {
   "cell_type": "markdown",
   "metadata": {},
   "source": [
    "# PAM - Geometry Sampling\n",
    "\n",
    "This notebook shows how to sample geometrical locations from ozone/dzone regions.\n"
   ]
  },
  {
   "cell_type": "code",
   "execution_count": 2,
   "metadata": {
    "ExecuteTime": {
     "end_time": "2020-04-15T14:23:03.601994Z",
     "start_time": "2020-04-15T14:23:03.510974Z"
    }
   },
   "outputs": [],
   "source": [
    "trips = pd.read_csv('data/example_data/example_travel_diaries.csv')\n",
    "attributes = pd.read_csv('data/example_data/example_attributes.csv')\n",
    "attributes.set_index('pid', inplace=True)"
   ]
  },
  {
   "cell_type": "code",
   "execution_count": 3,
   "metadata": {
    "ExecuteTime": {
     "end_time": "2020-04-15T14:23:04.174895Z",
     "start_time": "2020-04-15T14:23:04.079557Z"
    }
   },
   "outputs": [
    {
     "data": {
      "text/html": [
       "<div>\n",
       "<style scoped>\n",
       "    .dataframe tbody tr th:only-of-type {\n",
       "        vertical-align: middle;\n",
       "    }\n",
       "\n",
       "    .dataframe tbody tr th {\n",
       "        vertical-align: top;\n",
       "    }\n",
       "\n",
       "    .dataframe thead th {\n",
       "        text-align: right;\n",
       "    }\n",
       "</style>\n",
       "<table border=\"1\" class=\"dataframe\">\n",
       "  <thead>\n",
       "    <tr style=\"text-align: right;\">\n",
       "      <th></th>\n",
       "      <th>uid</th>\n",
       "      <th>pid</th>\n",
       "      <th>hid</th>\n",
       "      <th>seq</th>\n",
       "      <th>hzone</th>\n",
       "      <th>ozone</th>\n",
       "      <th>dzone</th>\n",
       "      <th>purp</th>\n",
       "      <th>mode</th>\n",
       "      <th>tst</th>\n",
       "      <th>tet</th>\n",
       "      <th>freq</th>\n",
       "    </tr>\n",
       "  </thead>\n",
       "  <tbody>\n",
       "    <tr>\n",
       "      <th>0</th>\n",
       "      <td>0</td>\n",
       "      <td>census_0</td>\n",
       "      <td>census_0</td>\n",
       "      <td>0</td>\n",
       "      <td>Harrow</td>\n",
       "      <td>Harrow</td>\n",
       "      <td>Camden</td>\n",
       "      <td>work</td>\n",
       "      <td>pt</td>\n",
       "      <td>444</td>\n",
       "      <td>473</td>\n",
       "      <td>1000</td>\n",
       "    </tr>\n",
       "    <tr>\n",
       "      <th>1</th>\n",
       "      <td>1</td>\n",
       "      <td>census_0</td>\n",
       "      <td>census_0</td>\n",
       "      <td>1</td>\n",
       "      <td>Harrow</td>\n",
       "      <td>Camden</td>\n",
       "      <td>Harrow</td>\n",
       "      <td>work</td>\n",
       "      <td>pt</td>\n",
       "      <td>890</td>\n",
       "      <td>919</td>\n",
       "      <td>1000</td>\n",
       "    </tr>\n",
       "    <tr>\n",
       "      <th>2</th>\n",
       "      <td>2</td>\n",
       "      <td>census_1</td>\n",
       "      <td>census_1</td>\n",
       "      <td>0</td>\n",
       "      <td>Greenwich</td>\n",
       "      <td>Greenwich</td>\n",
       "      <td>Tower Hamlets</td>\n",
       "      <td>work</td>\n",
       "      <td>pt</td>\n",
       "      <td>507</td>\n",
       "      <td>528</td>\n",
       "      <td>1000</td>\n",
       "    </tr>\n",
       "    <tr>\n",
       "      <th>3</th>\n",
       "      <td>3</td>\n",
       "      <td>census_1</td>\n",
       "      <td>census_1</td>\n",
       "      <td>1</td>\n",
       "      <td>Greenwich</td>\n",
       "      <td>Tower Hamlets</td>\n",
       "      <td>Greenwich</td>\n",
       "      <td>work</td>\n",
       "      <td>pt</td>\n",
       "      <td>1065</td>\n",
       "      <td>1086</td>\n",
       "      <td>1000</td>\n",
       "    </tr>\n",
       "    <tr>\n",
       "      <th>4</th>\n",
       "      <td>4</td>\n",
       "      <td>census_2</td>\n",
       "      <td>census_2</td>\n",
       "      <td>0</td>\n",
       "      <td>Croydon</td>\n",
       "      <td>Croydon</td>\n",
       "      <td>Croydon</td>\n",
       "      <td>work</td>\n",
       "      <td>pt</td>\n",
       "      <td>422</td>\n",
       "      <td>425</td>\n",
       "      <td>1000</td>\n",
       "    </tr>\n",
       "    <tr>\n",
       "      <th>5</th>\n",
       "      <td>5</td>\n",
       "      <td>census_2</td>\n",
       "      <td>census_2</td>\n",
       "      <td>1</td>\n",
       "      <td>Croydon</td>\n",
       "      <td>Croydon</td>\n",
       "      <td>Croydon</td>\n",
       "      <td>work</td>\n",
       "      <td>pt</td>\n",
       "      <td>917</td>\n",
       "      <td>920</td>\n",
       "      <td>1000</td>\n",
       "    </tr>\n",
       "    <tr>\n",
       "      <th>6</th>\n",
       "      <td>6</td>\n",
       "      <td>census_3</td>\n",
       "      <td>census_3</td>\n",
       "      <td>0</td>\n",
       "      <td>Haringey</td>\n",
       "      <td>Haringey</td>\n",
       "      <td>Redbridge</td>\n",
       "      <td>work</td>\n",
       "      <td>pt</td>\n",
       "      <td>428</td>\n",
       "      <td>447</td>\n",
       "      <td>1000</td>\n",
       "    </tr>\n",
       "    <tr>\n",
       "      <th>7</th>\n",
       "      <td>7</td>\n",
       "      <td>census_3</td>\n",
       "      <td>census_3</td>\n",
       "      <td>1</td>\n",
       "      <td>Haringey</td>\n",
       "      <td>Redbridge</td>\n",
       "      <td>Haringey</td>\n",
       "      <td>work</td>\n",
       "      <td>pt</td>\n",
       "      <td>1007</td>\n",
       "      <td>1026</td>\n",
       "      <td>1000</td>\n",
       "    </tr>\n",
       "    <tr>\n",
       "      <th>8</th>\n",
       "      <td>8</td>\n",
       "      <td>census_4</td>\n",
       "      <td>census_4</td>\n",
       "      <td>0</td>\n",
       "      <td>Hounslow</td>\n",
       "      <td>Hounslow</td>\n",
       "      <td>Westminster,City of London</td>\n",
       "      <td>work</td>\n",
       "      <td>car</td>\n",
       "      <td>483</td>\n",
       "      <td>516</td>\n",
       "      <td>1000</td>\n",
       "    </tr>\n",
       "    <tr>\n",
       "      <th>9</th>\n",
       "      <td>9</td>\n",
       "      <td>census_4</td>\n",
       "      <td>census_4</td>\n",
       "      <td>1</td>\n",
       "      <td>Hounslow</td>\n",
       "      <td>Westminster,City of London</td>\n",
       "      <td>Hounslow</td>\n",
       "      <td>work</td>\n",
       "      <td>car</td>\n",
       "      <td>1017</td>\n",
       "      <td>1050</td>\n",
       "      <td>1000</td>\n",
       "    </tr>\n",
       "    <tr>\n",
       "      <th>10</th>\n",
       "      <td>10</td>\n",
       "      <td>census_5</td>\n",
       "      <td>census_5</td>\n",
       "      <td>0</td>\n",
       "      <td>Westminster,City of London</td>\n",
       "      <td>Westminster,City of London</td>\n",
       "      <td>Hammersmith and Fulham</td>\n",
       "      <td>education</td>\n",
       "      <td>car</td>\n",
       "      <td>568</td>\n",
       "      <td>577</td>\n",
       "      <td>1000</td>\n",
       "    </tr>\n",
       "    <tr>\n",
       "      <th>11</th>\n",
       "      <td>11</td>\n",
       "      <td>census_5</td>\n",
       "      <td>census_5</td>\n",
       "      <td>1</td>\n",
       "      <td>Westminster,City of London</td>\n",
       "      <td>Hammersmith and Fulham</td>\n",
       "      <td>Westminster,City of London</td>\n",
       "      <td>education</td>\n",
       "      <td>car</td>\n",
       "      <td>1019</td>\n",
       "      <td>1028</td>\n",
       "      <td>1000</td>\n",
       "    </tr>\n",
       "    <tr>\n",
       "      <th>12</th>\n",
       "      <td>12</td>\n",
       "      <td>census_6</td>\n",
       "      <td>census_6</td>\n",
       "      <td>0</td>\n",
       "      <td>Haringey</td>\n",
       "      <td>Haringey</td>\n",
       "      <td>Kensington and Chelsea</td>\n",
       "      <td>work</td>\n",
       "      <td>pt</td>\n",
       "      <td>442</td>\n",
       "      <td>469</td>\n",
       "      <td>1000</td>\n",
       "    </tr>\n",
       "    <tr>\n",
       "      <th>13</th>\n",
       "      <td>13</td>\n",
       "      <td>census_6</td>\n",
       "      <td>census_6</td>\n",
       "      <td>1</td>\n",
       "      <td>Haringey</td>\n",
       "      <td>Kensington and Chelsea</td>\n",
       "      <td>Haringey</td>\n",
       "      <td>work</td>\n",
       "      <td>pt</td>\n",
       "      <td>1012</td>\n",
       "      <td>1039</td>\n",
       "      <td>1000</td>\n",
       "    </tr>\n",
       "    <tr>\n",
       "      <th>14</th>\n",
       "      <td>14</td>\n",
       "      <td>census_7</td>\n",
       "      <td>census_7</td>\n",
       "      <td>0</td>\n",
       "      <td>Ealing</td>\n",
       "      <td>Ealing</td>\n",
       "      <td>Ealing</td>\n",
       "      <td>education</td>\n",
       "      <td>pt</td>\n",
       "      <td>479</td>\n",
       "      <td>484</td>\n",
       "      <td>1000</td>\n",
       "    </tr>\n",
       "    <tr>\n",
       "      <th>15</th>\n",
       "      <td>15</td>\n",
       "      <td>census_7</td>\n",
       "      <td>census_7</td>\n",
       "      <td>1</td>\n",
       "      <td>Ealing</td>\n",
       "      <td>Ealing</td>\n",
       "      <td>Ealing</td>\n",
       "      <td>education</td>\n",
       "      <td>pt</td>\n",
       "      <td>962</td>\n",
       "      <td>967</td>\n",
       "      <td>1000</td>\n",
       "    </tr>\n",
       "    <tr>\n",
       "      <th>16</th>\n",
       "      <td>16</td>\n",
       "      <td>census_8</td>\n",
       "      <td>census_8</td>\n",
       "      <td>0</td>\n",
       "      <td>Lambeth</td>\n",
       "      <td>Lambeth</td>\n",
       "      <td>Westminster,City of London</td>\n",
       "      <td>work</td>\n",
       "      <td>pt</td>\n",
       "      <td>499</td>\n",
       "      <td>510</td>\n",
       "      <td>1000</td>\n",
       "    </tr>\n",
       "    <tr>\n",
       "      <th>17</th>\n",
       "      <td>17</td>\n",
       "      <td>census_8</td>\n",
       "      <td>census_8</td>\n",
       "      <td>1</td>\n",
       "      <td>Lambeth</td>\n",
       "      <td>Westminster,City of London</td>\n",
       "      <td>Lambeth</td>\n",
       "      <td>work</td>\n",
       "      <td>pt</td>\n",
       "      <td>999</td>\n",
       "      <td>1010</td>\n",
       "      <td>1000</td>\n",
       "    </tr>\n",
       "    <tr>\n",
       "      <th>18</th>\n",
       "      <td>18</td>\n",
       "      <td>census_9</td>\n",
       "      <td>census_9</td>\n",
       "      <td>0</td>\n",
       "      <td>Croydon</td>\n",
       "      <td>Croydon</td>\n",
       "      <td>Sutton</td>\n",
       "      <td>work</td>\n",
       "      <td>pt</td>\n",
       "      <td>589</td>\n",
       "      <td>594</td>\n",
       "      <td>1000</td>\n",
       "    </tr>\n",
       "    <tr>\n",
       "      <th>19</th>\n",
       "      <td>19</td>\n",
       "      <td>census_9</td>\n",
       "      <td>census_9</td>\n",
       "      <td>1</td>\n",
       "      <td>Croydon</td>\n",
       "      <td>Sutton</td>\n",
       "      <td>Croydon</td>\n",
       "      <td>work</td>\n",
       "      <td>pt</td>\n",
       "      <td>1122</td>\n",
       "      <td>1127</td>\n",
       "      <td>1000</td>\n",
       "    </tr>\n",
       "  </tbody>\n",
       "</table>\n",
       "</div>"
      ],
      "text/plain": [
       "    uid       pid       hid  seq                       hzone  \\\n",
       "0     0  census_0  census_0    0                      Harrow   \n",
       "1     1  census_0  census_0    1                      Harrow   \n",
       "2     2  census_1  census_1    0                   Greenwich   \n",
       "3     3  census_1  census_1    1                   Greenwich   \n",
       "4     4  census_2  census_2    0                     Croydon   \n",
       "5     5  census_2  census_2    1                     Croydon   \n",
       "6     6  census_3  census_3    0                    Haringey   \n",
       "7     7  census_3  census_3    1                    Haringey   \n",
       "8     8  census_4  census_4    0                    Hounslow   \n",
       "9     9  census_4  census_4    1                    Hounslow   \n",
       "10   10  census_5  census_5    0  Westminster,City of London   \n",
       "11   11  census_5  census_5    1  Westminster,City of London   \n",
       "12   12  census_6  census_6    0                    Haringey   \n",
       "13   13  census_6  census_6    1                    Haringey   \n",
       "14   14  census_7  census_7    0                      Ealing   \n",
       "15   15  census_7  census_7    1                      Ealing   \n",
       "16   16  census_8  census_8    0                     Lambeth   \n",
       "17   17  census_8  census_8    1                     Lambeth   \n",
       "18   18  census_9  census_9    0                     Croydon   \n",
       "19   19  census_9  census_9    1                     Croydon   \n",
       "\n",
       "                         ozone                       dzone       purp mode  \\\n",
       "0                       Harrow                      Camden       work   pt   \n",
       "1                       Camden                      Harrow       work   pt   \n",
       "2                    Greenwich               Tower Hamlets       work   pt   \n",
       "3                Tower Hamlets                   Greenwich       work   pt   \n",
       "4                      Croydon                     Croydon       work   pt   \n",
       "5                      Croydon                     Croydon       work   pt   \n",
       "6                     Haringey                   Redbridge       work   pt   \n",
       "7                    Redbridge                    Haringey       work   pt   \n",
       "8                     Hounslow  Westminster,City of London       work  car   \n",
       "9   Westminster,City of London                    Hounslow       work  car   \n",
       "10  Westminster,City of London      Hammersmith and Fulham  education  car   \n",
       "11      Hammersmith and Fulham  Westminster,City of London  education  car   \n",
       "12                    Haringey      Kensington and Chelsea       work   pt   \n",
       "13      Kensington and Chelsea                    Haringey       work   pt   \n",
       "14                      Ealing                      Ealing  education   pt   \n",
       "15                      Ealing                      Ealing  education   pt   \n",
       "16                     Lambeth  Westminster,City of London       work   pt   \n",
       "17  Westminster,City of London                     Lambeth       work   pt   \n",
       "18                     Croydon                      Sutton       work   pt   \n",
       "19                      Sutton                     Croydon       work   pt   \n",
       "\n",
       "     tst   tet  freq  \n",
       "0    444   473  1000  \n",
       "1    890   919  1000  \n",
       "2    507   528  1000  \n",
       "3   1065  1086  1000  \n",
       "4    422   425  1000  \n",
       "5    917   920  1000  \n",
       "6    428   447  1000  \n",
       "7   1007  1026  1000  \n",
       "8    483   516  1000  \n",
       "9   1017  1050  1000  \n",
       "10   568   577  1000  \n",
       "11  1019  1028  1000  \n",
       "12   442   469  1000  \n",
       "13  1012  1039  1000  \n",
       "14   479   484  1000  \n",
       "15   962   967  1000  \n",
       "16   499   510  1000  \n",
       "17   999  1010  1000  \n",
       "18   589   594  1000  \n",
       "19  1122  1127  1000  "
      ]
     },
     "execution_count": 3,
     "metadata": {},
     "output_type": "execute_result"
    }
   ],
   "source": [
    "trips.head(20)"
   ]
  },
  {
   "cell_type": "markdown",
   "metadata": {},
   "source": [
    "### Sample Geometries\n",
    "Transform trip ozone/dzone to geographically sampled points"
   ]
  },
  {
   "cell_type": "code",
   "execution_count": 4,
   "metadata": {},
   "outputs": [
    {
     "name": "stderr",
     "output_type": "stream",
     "text": [
      "/Users/fred.shone/.ve/pam/lib/python3.7/site-packages/pandas/core/dtypes/cast.py:118: ShapelyDeprecationWarning: The array interface is deprecated and will no longer work in Shapely 2.0. Convert the '.coords' to a numpy array instead.\n",
      "  arr = construct_1d_object_array_from_listlike(values)\n"
     ]
    }
   ],
   "source": [
    "from pam.samplers.spatial import GeometryRandomSampler\n",
    "\n",
    "geom_sampler = GeometryRandomSampler(geo_df_file=\"data/example_data/geometry.geojson\",\n",
    "                                     geometry_name_column=\"NAME\",\n",
    "                                     default_region=\"Westminster,City of London\")\n",
    "\n",
    "geo_trips = trips.copy()\n",
    "geo_trips['start_loc'] = geo_trips.apply(lambda x: geom_sampler.sample_point(x['ozone']), axis=1)\n",
    "geo_trips['end_loc'] = geo_trips.apply(lambda x: geom_sampler.sample_point(x['dzone']), axis=1)\n"
   ]
  },
  {
   "cell_type": "markdown",
   "metadata": {},
   "source": [
    "### Build Activity Plans\n",
    "\n",
    "First we convert the travel diary data to Activity Plans:"
   ]
  },
  {
   "cell_type": "code",
   "execution_count": 5,
   "metadata": {
    "ExecuteTime": {
     "end_time": "2020-04-15T14:23:49.071281Z",
     "start_time": "2020-04-15T14:23:37.908537Z"
    }
   },
   "outputs": [
    {
     "name": "stderr",
     "output_type": "stream",
     "text": [
      "Using tour based purpose parser (recommended)\n",
      "Adding pid->hh mapping to persons_attributes from trips.\n",
      "Adding home locations to persons attributes using trips attributes.\n",
      "Using freq of 'None' for all persons.\n"
     ]
    }
   ],
   "source": [
    "from pam import read\n",
    "population = read.load_travel_diary(geo_trips, attributes, include_loc=True)"
   ]
  },
  {
   "cell_type": "markdown",
   "metadata": {
    "ExecuteTime": {
     "end_time": "2020-04-09T14:32:22.432201Z",
     "start_time": "2020-04-09T14:32:15.568791Z"
    }
   },
   "source": [
    "Let's check out an example Activity Plan and Attributes:"
   ]
  },
  {
   "cell_type": "code",
   "execution_count": 6,
   "metadata": {
    "ExecuteTime": {
     "end_time": "2020-04-15T14:23:58.041512Z",
     "start_time": "2020-04-15T14:23:58.002047Z"
    }
   },
   "outputs": [
    {
     "name": "stdout",
     "output_type": "stream",
     "text": [
      "Person: census_120\n",
      "{'gender': 'other', 'job': 'work', 'occ': 'white', 'inc': 'low', 'hzone': 'Bexley'}\n",
      "0:\tActivity(0 act:home, location:POINT (549552.7664551701 175428.9619809439), time:00:00:00 --> 09:47:00, duration:9:47:00)\n",
      "1:\tLeg(240 mode:pt, area:POINT (549552.7664551701 175428.9619809439) --> POINT (547419.752224589 177633.2205424352), time:09:47:00 --> 10:04:00, duration:0:17:00)\n",
      "2:\tActivity(241 act:work, location:POINT (547419.752224589 177633.2205424352), time:10:04:00 --> 17:12:00, duration:7:08:00)\n",
      "3:\tLeg(241 mode:pt, area:POINT (543441.0576277913 172896.28892256372) --> POINT (550717.0955785038 175894.57709614074), time:17:12:00 --> 17:29:00, duration:0:17:00)\n",
      "4:\tActivity(242 act:home, location:POINT (550717.0955785038 175894.57709614074), time:17:29:00 --> 00:00:00, duration:6:31:00)\n"
     ]
    },
    {
     "data": {
      "image/png": "[encoded data removed]",
      "text/plain": [
       "<Figure size 1152x216 with 1 Axes>"
      ]
     },
     "metadata": {
      "needs_background": "light"
     },
     "output_type": "display_data"
    }
   ],
   "source": [
    "household = population.households['census_120']\n",
    "person = household.people['census_120']\n",
    "person.print()\n",
    "person.plot()"
   ]
  },
  {
   "cell_type": "code",
   "execution_count": 7,
   "metadata": {
    "ExecuteTime": {
     "end_time": "2020-04-15T14:25:01.086381Z",
     "start_time": "2020-04-15T14:25:01.053633Z"
    }
   },
   "outputs": [
    {
     "data": {
      "text/plain": [
       "{'gender': 'other',\n",
       " 'job': 'work',\n",
       " 'occ': 'white',\n",
       " 'inc': 'low',\n",
       " 'hzone': 'Bexley'}"
      ]
     },
     "execution_count": 7,
     "metadata": {},
     "output_type": "execute_result"
    }
   ],
   "source": [
    "person.attributes"
   ]
  },
  {
   "cell_type": "markdown",
   "metadata": {},
   "source": [
    "### Output Matsim XML"
   ]
  },
  {
   "cell_type": "code",
   "execution_count": 8,
   "metadata": {},
   "outputs": [],
   "source": [
    "from pam.write import write_matsim\n",
    "\n",
    "write_matsim(population, \"./outputs/example_output_plans.xml\")"
   ]
  }
 ],
 "metadata": {
  "kernelspec": {
   "display_name": "pam",
   "language": "python",
   "name": "pam"
  },
  "language_info": {
   "codemirror_mode": {
    "name": "ipython",
    "version": 3
   },
   "file_extension": ".py",
   "mimetype": "text/x-python",
   "name": "python",
   "nbconvert_exporter": "python",
   "pygments_lexer": "ipython3",
   "version": "3.7.3"
  },
  "toc": {
   "base_numbering": 1,
   "nav_menu": {},
   "number_sections": true,
   "sideBar": true,
   "skip_h1_title": true,
   "title_cell": "Table of Contents",
   "title_sidebar": "Contents",
   "toc_cell": false,
   "toc_position": {
    "height": "calc(100% - 180px)",
    "left": "10px",
    "top": "150px",
    "width": "248.333px"
   },
   "toc_section_display": true,
   "toc_window_display": false
  },
  "vscode": {
   "interpreter": {
    "hash": "c2a90f01ee7329c0dc072323d04ab57047490a620cb7d1fe86527d3a3edaf28c"
   }
  }
 },
 "nbformat": 4,
 "nbformat_minor": 2
}
