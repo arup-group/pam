{
 "cells": [
  {
   "cell_type": "code",
   "execution_count": null,
   "metadata": {
    "ExecuteTime": {
     "end_time": "2020-11-24T13:44:59.715607Z",
     "start_time": "2020-11-24T13:44:58.666025Z"
    }
   },
   "outputs": [],
   "source": [
    "import os\n",
    "import pandas as pd\n",
    "import random\n",
    "from copy import deepcopy\n",
    "from collections import defaultdict\n",
    "import geopandas as gp\n",
    "from matplotlib import pyplot as plt\n",
    "from pam.core import Population, Household, Person\n",
    "from pam.activity import Plan, Activity, Leg\n",
    "from pam.utils import minutes_to_datetime as mtdt\n",
    "from pam.variables import END_OF_DAY\n",
    "import pam.plot as plot\n",
    "\n",
    "from pam.policy import *"
   ]
  },
  {
   "cell_type": "code",
   "execution_count": null,
   "metadata": {
    "ExecuteTime": {
     "end_time": "2020-11-24T13:44:59.747019Z",
     "start_time": "2020-11-24T13:44:59.718357Z"
    }
   },
   "outputs": [],
   "source": [
    "def print_simple_stats(population):\n",
    "    \"\"\"\n",
    "    Print some simple population statistics.\n",
    "    \"\"\"\n",
    "    time_at_home = 0\n",
    "    travel_time = 0 \n",
    "    low_income_central_trips = 0\n",
    "    high_income_central_trips = 0\n",
    "    \n",
    "    for hid, hh in population.households.items():\n",
    "        for pid, person in hh.people.items():\n",
    "            freq = person.freq\n",
    "            \n",
    "            for p in person.plan:\n",
    "                if p.act == 'travel':\n",
    "                    duration = p.duration.seconds * freq / 3600\n",
    "                    travel_time += duration\n",
    "                    \n",
    "                    if p.end_location.area == \"Westminster,City of London\":\n",
    "                        if person.attributes['inc'] == \"low\":\n",
    "                            low_income_central_trips += freq\n",
    "                            \n",
    "                        elif person.attributes['inc'] == \"high\":\n",
    "                            high_income_central_trips += freq\n",
    "                    \n",
    "                else:  # activity\n",
    "                    if p.act == 'home':\n",
    "                        duration = p.duration.seconds * freq / 3600\n",
    "                        time_at_home += duration\n",
    "                        \n",
    "    print(f\"Population total time at home: {time_at_home:.2f} hours\")\n",
    "    print(f\"Population total travel time: {travel_time:.2f} hours\")"
   ]
  },
  {
   "cell_type": "markdown",
   "metadata": {},
   "source": [
    "## Create example Population"
   ]
  },
  {
   "cell_type": "code",
   "execution_count": null,
   "metadata": {
    "ExecuteTime": {
     "end_time": "2020-11-24T13:44:59.776581Z",
     "start_time": "2020-11-24T13:44:59.753460Z"
    }
   },
   "outputs": [],
   "source": [
    "population = Population()"
   ]
  },
  {
   "cell_type": "markdown",
   "metadata": {},
   "source": [
    "### Add Smith household"
   ]
  },
  {
   "cell_type": "code",
   "execution_count": null,
   "metadata": {
    "ExecuteTime": {
     "end_time": "2020-11-24T13:44:59.886323Z",
     "start_time": "2020-11-24T13:44:59.779452Z"
    }
   },
   "outputs": [],
   "source": [
    "smith_id = 'Smith'\n",
    "\n",
    "Billy = Person('Billy', freq=1, attributes={'age': 26, 'job': 'employed', 'gender': 'female', 'key_worker': False})\n",
    "\n",
    "Billy.add(Activity(1, 'home', 'a', start_time=mtdt(0), end_time=mtdt(8 * 60)))\n",
    "Billy.add(Leg(1, 'car', start_area='a', end_area='g', start_time=mtdt(8 * 60),end_time=mtdt(8 * 60 + 20)))\n",
    "Billy.add(Activity(2, 'work', 'g', start_time=mtdt(8 * 60 + 20),end_time=mtdt(17 * 60)))\n",
    "Billy.add(Leg(2, 'car', start_area='g', end_area='a', start_time=mtdt(17 * 60), end_time=mtdt(17 * 60 + 25)))\n",
    "Billy.add(Activity(3,'home', 'a',start_time=mtdt(17 * 60 + 25),end_time=END_OF_DAY))\n",
    "\n",
    "\n",
    "Bobby = Person('Bobby', freq=1, attributes={'age': 6, 'job': 'education', 'gender': 'male', 'key_worker': False})\n",
    "Bobby.add(Activity(1, 'home', 'a', start_time=mtdt(0), end_time=mtdt(8 * 60)))\n",
    "Bobby.add(Leg(1, 'walk', 'a', 'b', start_time=mtdt(8 * 60 + 5), end_time=mtdt(8 * 60 + 30)))\n",
    "Bobby.add(Activity(2, 'education', 'b', start_time=mtdt(8 * 60 + 30), end_time=mtdt(16 * 60)))\n",
    "Bobby.add(Leg(2, 'walk', 'b', 'c', start_time=mtdt(16 * 60), end_time=mtdt(16 * 60 + 35)))\n",
    "Bobby.add(Activity(3, 'home', 'a', start_time=mtdt(16 * 60 + 30), end_time=mtdt(18 * 60)))\n",
    "Bobby.add(Leg(3, 'car', 'a', 'b', start_time=mtdt(18 * 60), end_time=mtdt(18 * 60 + 20)))\n",
    "Bobby.add(Activity(4, 'shop_1', 'b', start_time=mtdt(18 * 60 + 20), end_time=mtdt(18 * 60 + 50)))\n",
    "Bobby.add(Leg(4, 'car', 'b', 'b', start_time=mtdt(18 * 60 + 50), end_time=mtdt(19 * 60)))\n",
    "Bobby.add(Activity(5, 'shop_2', 'b', start_time=mtdt(19 * 60), end_time=mtdt(19 * 60 + 50)))\n",
    "Bobby.add(Leg(5, 'car', 'b', 'a', start_time=mtdt(19 * 60 + 50), end_time=mtdt(20 * 60 + 10)))\n",
    "Bobby.add(Activity(6, 'home', 'a', start_time=mtdt(20 * 60 + 10), end_time=END_OF_DAY))\n",
    "\n",
    "Bradly = Person('Bradly', freq=1, attributes={'age': 40, 'job': 'employed', 'gender': 'male', 'key_worker': True})\n",
    "Bradly.add(Activity(1, 'home', 'a', start_time=mtdt(0), end_time=mtdt(8 * 60)))\n",
    "\n",
    "Bradly.add(Leg(1, 'walk', 'a', 'b', start_time=mtdt(8 * 60), end_time=mtdt(8 * 60 + 20)))\n",
    "Bradly.add(Activity(2, 'escort', 'b', start_time=mtdt(8 * 60 + 20), end_time=mtdt(8 * 60 + 30)))\n",
    "Bradly.add(Leg(2, 'pt', 'b', 'b', start_time=mtdt(8 * 60 + 30), end_time=mtdt(9 * 60)))\n",
    "\n",
    "Bradly.add(Activity(4, 'work', 'b', start_time=mtdt(9 * 60), end_time=mtdt(10 * 60)))\n",
    "Bradly.add(Leg(3, 'pt', 'b', 'c', start_time=mtdt(10 * 60), end_time=mtdt(10 * 60 + 20)))\n",
    "Bradly.add(Activity(4, 'work', 'b', start_time=mtdt(10 * 60 + 20), end_time=mtdt(12 * 60)))\n",
    "Bradly.add(Leg(4, 'pt', 'b', 'c', start_time=mtdt(12 * 60), end_time=mtdt(12 * 60 + 20)))\n",
    "Bradly.add(Activity(5, 'work', 'b', start_time=mtdt(12 * 60 + 20), end_time=mtdt(14 * 60)))\n",
    "Bradly.add(Leg(5, 'pt', 'b', 'c', start_time=mtdt(14 * 60), end_time=mtdt(14 * 60 + 20)))\n",
    "\n",
    "Bradly.add(Activity(6, 'leisure', 'c', start_time=mtdt(14 * 60 + 20), end_time=mtdt(15 * 60 + 30)))\n",
    "Bradly.add(Leg(4, 'pt', 'c', 'b', start_time=mtdt(15 * 60 + 30), end_time=mtdt(16 * 60 - 10)))\n",
    "Bradly.add(Activity(5, 'escort', 'b', start_time=mtdt(16 * 60 - 10), end_time=mtdt(16 * 60)))\n",
    "Bradly.add(Leg(5, 'walk', 'b', 'a', start_time=mtdt(16 * 60), end_time=mtdt(16 * 60 + 20)))\n",
    "\n",
    "Bradly.add(Activity(8, 'home', 'a', start_time=mtdt(16 * 60 + 20), end_time=mtdt(18 * 60)))\n",
    "Bradly.add(Leg(8, 'car', 'a', 'b', start_time=mtdt(18 * 60), end_time=mtdt(18 * 60 + 20)))\n",
    "Bradly.add(Activity(9, 'shop_1', 'b', start_time=mtdt(18 * 60 + 20), end_time=mtdt(18 * 60 + 50)))\n",
    "Bradly.add(Leg(9, 'car', 'b', 'b', start_time=mtdt(18 * 60 + 50), end_time=mtdt(19 * 60)))\n",
    "Bradly.add(Activity(10, 'shop_2', 'b', start_time=mtdt(19 * 60), end_time=mtdt(19 * 60 + 50)))\n",
    "Bradly.add(Leg(10, 'car', 'b', 'a', start_time=mtdt(19 * 60 + 50), end_time=mtdt(20 * 60 + 10)))\n",
    "Bradly.add(Activity(11, 'home', 'a', start_time=mtdt(20 * 60 + 10), end_time=END_OF_DAY))\n",
    "\n",
    "smiths = Household(smith_id)\n",
    "for person in [Billy, Bradly, Bobby]:\n",
    "    smiths.add(person)\n",
    "\n",
    "smiths.people"
   ]
  },
  {
   "cell_type": "code",
   "execution_count": null,
   "metadata": {
    "ExecuteTime": {
     "end_time": "2020-11-24T13:45:00.563568Z",
     "start_time": "2020-11-24T13:44:59.890084Z"
    }
   },
   "outputs": [],
   "source": [
    "smiths.plot()"
   ]
  },
  {
   "cell_type": "code",
   "execution_count": null,
   "metadata": {
    "ExecuteTime": {
     "end_time": "2020-11-24T13:45:00.606743Z",
     "start_time": "2020-11-24T13:45:00.567704Z"
    }
   },
   "outputs": [],
   "source": [
    "population.add(smiths)"
   ]
  },
  {
   "cell_type": "markdown",
   "metadata": {},
   "source": [
    "### Add Jones household"
   ]
  },
  {
   "cell_type": "code",
   "execution_count": null,
   "metadata": {
    "ExecuteTime": {
     "end_time": "2020-11-24T13:45:00.659226Z",
     "start_time": "2020-11-24T13:45:00.613452Z"
    }
   },
   "outputs": [],
   "source": [
    "jones_id = 'Jones'\n",
    "\n",
    "Hugh = Person('Hugh', freq=1, attributes={'age': 100, 'job': 'unemployed', 'gender': 'male', 'key_worker': False})\n",
    "Hugh.add(Activity(1, 'home', 'a', start_time=mtdt(0), end_time=mtdt(8 * 60)))\n",
    "Hugh.add(Leg(1, 'walk', 'a', 'b', start_time=mtdt(8 * 60), end_time=mtdt(8 * 60 + 30)))\n",
    "Hugh.add(Activity(2, 'health', 'b', start_time=mtdt(8 * 60 + 30), end_time=mtdt(10 * 60)))\n",
    "Hugh.add(Leg(2, 'walk', 'b', 'a', start_time=mtdt(10 * 60), end_time=mtdt(10 * 60 + 30)))\n",
    "Hugh.add(Activity(3, 'home', 'a', start_time=mtdt(10 * 60 + 30), end_time=mtdt(14 * 60)))\n",
    "Hugh.add(Leg(3, 'walk', 'a', 'b', start_time=mtdt(14 * 60), end_time=mtdt(14 * 60 + 30)))\n",
    "Hugh.add(Activity(4, 'health', 'b', start_time=mtdt(14 * 60 + 30), end_time=mtdt(16 * 60)))\n",
    "Hugh.add(Leg(4, 'walk', 'b', 'a', start_time=mtdt(16 * 60), end_time=mtdt(16 * 60 + 30)))\n",
    "Hugh.add(Activity(5, 'home', 'a', start_time=mtdt(16 * 60 + 30), end_time=END_OF_DAY))\n",
    "\n",
    "Bridget = Person('Bridget', freq=1, attributes={'age': 35, 'job': 'employed', 'gender': 'female', 'key_worker': False})\n",
    "Bridget.add(Activity(1, 'home', 'a', start_time=mtdt(0), end_time=mtdt(8 * 60)))\n",
    "Bridget.add(Leg(1, 'walk', 'a', 'b', start_time=mtdt(8 * 60), end_time=mtdt(8 * 60 + 5)))\n",
    "Bridget.add(Activity(2, 'escort', 'b', start_time=mtdt(8 * 60 + 5), end_time=mtdt(10 * 60 + 30)))\n",
    "Bridget.add(Leg(2, 'pt', 'b', 'c', start_time=mtdt(10 * 60 + 30), end_time=mtdt(11 * 60)))\n",
    "Bridget.add(Activity(3, 'work', 'c', start_time=mtdt(11 * 60), end_time=mtdt(16 * 60)))\n",
    "Bridget.add(Leg(3, 'pt', 'c', 'a', start_time=mtdt(16 * 60), end_time=mtdt(16 * 60 + 20)))\n",
    "Bridget.add(Activity(4, 'home', 'a', start_time=mtdt(16 * 60 + 20), end_time=mtdt(17 * 60 + 20)))\n",
    "Bridget.add(Leg(4, 'pt', 'c', 'a', start_time=mtdt(17 * 60 + 20), end_time=mtdt(17 * 60 + 50)))\n",
    "Bridget.add(Activity(5, 'shop', 'a', start_time=mtdt(17 * 60 + 50), end_time=mtdt(18 * 60 + 30)))\n",
    "Bridget.add(Leg(5, 'pt', 'c', 'a', start_time=mtdt(18 * 60 + 30), end_time=mtdt(18 * 60 + 50)))\n",
    "Bridget.add(Activity(6, 'home', 'a', start_time=mtdt(18 * 60 + 50), end_time=END_OF_DAY))\n",
    "\n",
    "jones = Household(jones_id)\n",
    "for person in [Hugh, Bridget]:\n",
    "    jones.add(person)\n",
    "\n",
    "jones.people"
   ]
  },
  {
   "cell_type": "code",
   "execution_count": null,
   "metadata": {
    "ExecuteTime": {
     "end_time": "2020-11-24T13:45:01.131068Z",
     "start_time": "2020-11-24T13:45:00.666320Z"
    }
   },
   "outputs": [],
   "source": [
    "jones.plot()"
   ]
  },
  {
   "cell_type": "code",
   "execution_count": null,
   "metadata": {
    "ExecuteTime": {
     "end_time": "2020-11-24T13:45:01.177985Z",
     "start_time": "2020-11-24T13:45:01.138450Z"
    }
   },
   "outputs": [],
   "source": [
    "population.add(jones)"
   ]
  },
  {
   "cell_type": "code",
   "execution_count": null,
   "metadata": {
    "ExecuteTime": {
     "end_time": "2020-11-24T13:45:01.210065Z",
     "start_time": "2020-11-24T13:45:01.181201Z"
    }
   },
   "outputs": [],
   "source": [
    "print_simple_stats(population)"
   ]
  },
  {
   "cell_type": "markdown",
   "metadata": {},
   "source": [
    "# PAM Complex Policies\n",
    "\n",
    "Based on [link](https://docs.google.com/spreadsheets/d/1FQMa7dLe2cv1NEZnbu5cZo3v07tKXINwvOaLQYoEp-M/edit#gid=0)"
   ]
  },
  {
   "cell_type": "code",
   "execution_count": null,
   "metadata": {
    "ExecuteTime": {
     "end_time": "2020-11-24T13:45:01.249936Z",
     "start_time": "2020-11-24T13:45:01.215845Z"
    }
   },
   "outputs": [],
   "source": [
    "def discrete_joint_distribution_sampler(obj, mapping, distribution):\n",
    "    \"\"\"\n",
    "    Randomly sample from a joint distribution based some discrete features.\n",
    "    Where features are a dictionary structure of features, eg: {'gender':'female'}\n",
    "    Distribution is a nested dict of probabilities based on possible features, eg:\n",
    "    {'0-0': {'male': 0, 'female': 0},... , '90-120': {'male': 1, 'female': 1}}\n",
    "    Mapping provides the feature name for each level of the distribution, eg:\n",
    "    ['age', 'gender']\n",
    "    \"\"\"\n",
    "    p = distribution\n",
    "    for key in mapping:\n",
    "        value = obj.attributes.get(key)\n",
    "        if value is None:\n",
    "            raise KeyError(f\"Cannot find mapping: {key} in sampling features: {features}\")\n",
    "        p = p.get(value)\n",
    "        if p is None:\n",
    "            raise KeyError(f\"Cannot find feature for {key}: {value} in distribution: {p}\")\n",
    "\n",
    "    return p"
   ]
  },
  {
   "cell_type": "code",
   "execution_count": null,
   "metadata": {
    "ExecuteTime": {
     "end_time": "2020-11-24T13:45:01.282899Z",
     "start_time": "2020-11-24T13:45:01.252768Z"
    }
   },
   "outputs": [],
   "source": [
    "vulnerable_mapping = ['age', 'gender']\n",
    "vulnerable_distribution = dict(zip(list(range(101)), [{'male': i/100, 'female': i/100, 'other': i/100} for i in range(101)]))"
   ]
  },
  {
   "cell_type": "code",
   "execution_count": null,
   "metadata": {
    "ExecuteTime": {
     "end_time": "2020-11-24T13:45:01.314448Z",
     "start_time": "2020-11-24T13:45:01.287874Z"
    },
    "scrolled": true
   },
   "outputs": [],
   "source": [
    "dict(list(vulnerable_distribution.items())[0:15])"
   ]
  },
  {
   "cell_type": "code",
   "execution_count": null,
   "metadata": {
    "ExecuteTime": {
     "end_time": "2020-11-24T13:45:01.348229Z",
     "start_time": "2020-11-24T13:45:01.319907Z"
    }
   },
   "outputs": [],
   "source": [
    "discrete_joint_distribution_sampler(Bobby, vulnerable_mapping, vulnerable_distribution)"
   ]
  },
  {
   "cell_type": "markdown",
   "metadata": {},
   "source": [
    "## Household Quarantine\n",
    "\n",
    "Probabilistically apply quarantine to a household (remove all activities - stay at home) "
   ]
  },
  {
   "cell_type": "markdown",
   "metadata": {},
   "source": [
    "### Person-based, all people equal\n",
    "\n",
    "If you have a probability of any person having to be quarantined"
   ]
  },
  {
   "cell_type": "code",
   "execution_count": null,
   "metadata": {
    "ExecuteTime": {
     "end_time": "2020-11-24T13:45:01.416430Z",
     "start_time": "2020-11-24T13:45:01.362265Z"
    }
   },
   "outputs": [],
   "source": [
    "policy_quarantine = \\\n",
    "    HouseholdPolicy(\n",
    "        RemoveActivity(['work', 'health', 'leisure', 'escort', 'shop', 'education']), \n",
    "        PersonProbability(0.0000000000001)\n",
    ")"
   ]
  },
  {
   "cell_type": "code",
   "execution_count": null,
   "metadata": {
    "ExecuteTime": {
     "end_time": "2020-11-24T13:45:01.449008Z",
     "start_time": "2020-11-24T13:45:01.418522Z"
    }
   },
   "outputs": [],
   "source": [
    "q_pop = apply_policies(population, [policy_quarantine])\n",
    "print_simple_stats(q_pop)"
   ]
  },
  {
   "cell_type": "code",
   "execution_count": null,
   "metadata": {
    "ExecuteTime": {
     "end_time": "2020-11-24T13:45:02.127608Z",
     "start_time": "2020-11-24T13:45:01.451381Z"
    }
   },
   "outputs": [],
   "source": [
    "q_pop.households['Smith'].plot()"
   ]
  },
  {
   "cell_type": "code",
   "execution_count": null,
   "metadata": {
    "ExecuteTime": {
     "end_time": "2020-11-24T13:45:02.576960Z",
     "start_time": "2020-11-24T13:45:02.132524Z"
    }
   },
   "outputs": [],
   "source": [
    "q_pop.households['Jones'].plot()"
   ]
  },
  {
   "cell_type": "markdown",
   "metadata": {},
   "source": [
    "### Using joint distribution"
   ]
  },
  {
   "cell_type": "code",
   "execution_count": null,
   "metadata": {
    "ExecuteTime": {
     "end_time": "2020-11-24T13:45:02.616246Z",
     "start_time": "2020-11-24T13:45:02.582749Z"
    }
   },
   "outputs": [],
   "source": [
    "policy_quarantine = \\\n",
    "    HouseholdPolicy(\n",
    "        RemoveActivity(['work', 'health', 'escort', 'leisure', 'shop', 'education']), \n",
    "        PersonProbability(\n",
    "             discrete_joint_distribution_sampler, \n",
    "             dict(mapping=vulnerable_mapping, distribution=vulnerable_distribution))\n",
    ")"
   ]
  },
  {
   "cell_type": "code",
   "execution_count": null,
   "metadata": {
    "ExecuteTime": {
     "end_time": "2020-11-24T13:45:02.648795Z",
     "start_time": "2020-11-24T13:45:02.621466Z"
    }
   },
   "outputs": [],
   "source": [
    "q_pop = apply_policies(population, [policy_quarantine])\n",
    "print_simple_stats(q_pop)"
   ]
  },
  {
   "cell_type": "code",
   "execution_count": null,
   "metadata": {
    "ExecuteTime": {
     "end_time": "2020-11-24T13:45:03.042093Z",
     "start_time": "2020-11-24T13:45:02.654492Z"
    }
   },
   "outputs": [],
   "source": [
    "q_pop.households['Jones'].plot()"
   ]
  },
  {
   "cell_type": "markdown",
   "metadata": {},
   "source": [
    "### Chaining probabilities"
   ]
  },
  {
   "cell_type": "code",
   "execution_count": null,
   "metadata": {
    "ExecuteTime": {
     "end_time": "2020-11-24T13:45:03.092964Z",
     "start_time": "2020-11-24T13:45:03.047351Z"
    }
   },
   "outputs": [],
   "source": [
    "policy_quarantine = \\\n",
    "    HouseholdPolicy(\n",
    "        RemoveActivity(['work', 'health', 'escort', 'leisure', 'shop', 'education']), \n",
    "        [PersonProbability(0.5), \n",
    "         PersonProbability(\n",
    "             discrete_joint_distribution_sampler, \n",
    "             dict(mapping=vulnerable_mapping, distribution=vulnerable_distribution))]\n",
    ")"
   ]
  },
  {
   "cell_type": "code",
   "execution_count": null,
   "metadata": {
    "ExecuteTime": {
     "end_time": "2020-11-24T13:45:03.125321Z",
     "start_time": "2020-11-24T13:45:03.102362Z"
    }
   },
   "outputs": [],
   "source": [
    "q_pop = apply_policies(population, [policy_quarantine])\n",
    "print_simple_stats(q_pop)"
   ]
  },
  {
   "cell_type": "code",
   "execution_count": null,
   "metadata": {
    "ExecuteTime": {
     "end_time": "2020-11-24T13:45:03.454015Z",
     "start_time": "2020-11-24T13:45:03.134308Z"
    }
   },
   "outputs": [],
   "source": [
    "q_pop.households['Jones'].plot()"
   ]
  },
  {
   "cell_type": "markdown",
   "metadata": {},
   "source": [
    "## Remove Education\n",
    "\n",
    "Probabilistically remove education activities from a person and escort from people in the same household"
   ]
  },
  {
   "cell_type": "code",
   "execution_count": null,
   "metadata": {
    "ExecuteTime": {
     "end_time": "2020-11-24T13:45:03.484988Z",
     "start_time": "2020-11-24T13:45:03.457335Z"
    }
   },
   "outputs": [],
   "source": [
    "edu_mapping = ['job']\n",
    "edu_distribution = {'employed': 0, 'unemployed': 0, 'education': 1}"
   ]
  },
  {
   "cell_type": "code",
   "execution_count": null,
   "metadata": {
    "ExecuteTime": {
     "end_time": "2020-11-24T13:45:03.513879Z",
     "start_time": "2020-11-24T13:45:03.489952Z"
    }
   },
   "outputs": [],
   "source": [
    "key_mapping = ['key_worker']\n",
    "key_distribution = {True: 0, False: 1}"
   ]
  },
  {
   "cell_type": "code",
   "execution_count": null,
   "metadata": {
    "ExecuteTime": {
     "end_time": "2020-11-24T13:45:03.546931Z",
     "start_time": "2020-11-24T13:45:03.516381Z"
    }
   },
   "outputs": [],
   "source": [
    "edu_distribution, key_distribution"
   ]
  },
  {
   "cell_type": "code",
   "execution_count": null,
   "metadata": {
    "ExecuteTime": {
     "end_time": "2020-11-24T13:45:03.581495Z",
     "start_time": "2020-11-24T13:45:03.551286Z"
    }
   },
   "outputs": [],
   "source": [
    "policy_remove_education_and_escort = \\\n",
    "    HouseholdPolicy(\n",
    "        RemoveActivity(['education', 'escort']), \n",
    "        [PersonProbability(\n",
    "             discrete_joint_distribution_sampler, \n",
    "             dict(mapping=edu_mapping, distribution=edu_distribution)),\n",
    "         PersonProbability(\n",
    "             discrete_joint_distribution_sampler, \n",
    "             dict(mapping=key_mapping, distribution=key_distribution))])"
   ]
  },
  {
   "cell_type": "code",
   "execution_count": null,
   "metadata": {
    "ExecuteTime": {
     "end_time": "2020-11-24T13:45:03.616928Z",
     "start_time": "2020-11-24T13:45:03.583593Z"
    }
   },
   "outputs": [],
   "source": [
    "edu_pop = apply_policies(population, [policy_remove_education_and_escort])\n",
    "print_simple_stats(edu_pop)"
   ]
  },
  {
   "cell_type": "code",
   "execution_count": null,
   "metadata": {
    "ExecuteTime": {
     "end_time": "2020-11-24T13:45:03.651308Z",
     "start_time": "2020-11-24T13:45:03.620821Z"
    }
   },
   "outputs": [],
   "source": [
    "edu_pop.households['Smith'].people['Bradly'].plan.print()"
   ]
  },
  {
   "cell_type": "code",
   "execution_count": null,
   "metadata": {
    "ExecuteTime": {
     "end_time": "2020-11-24T13:45:04.306572Z",
     "start_time": "2020-11-24T13:45:03.654284Z"
    }
   },
   "outputs": [],
   "source": [
    "q_pop.households['Smith'].plot()"
   ]
  },
  {
   "cell_type": "code",
   "execution_count": null,
   "metadata": {
    "ExecuteTime": {
     "end_time": "2020-11-24T13:45:04.883711Z",
     "start_time": "2020-11-24T13:45:04.315397Z"
    }
   },
   "outputs": [],
   "source": [
    "edu_pop.households['Smith'].plot()"
   ]
  },
  {
   "cell_type": "code",
   "execution_count": null,
   "metadata": {
    "ExecuteTime": {
     "end_time": "2020-11-24T13:45:05.691783Z",
     "start_time": "2020-11-24T13:45:05.232533Z"
    }
   },
   "outputs": [],
   "source": [
    "edu_pop.households['Jones'].plot()"
   ]
  },
  {
   "cell_type": "code",
   "execution_count": null,
   "metadata": {
    "ExecuteTime": {
     "end_time": "2020-11-24T13:45:05.726153Z",
     "start_time": "2020-11-24T13:45:05.694100Z"
    }
   },
   "outputs": [],
   "source": [
    "edu_pop.households['Jones'].people['Bridget'].plan.print()"
   ]
  },
  {
   "cell_type": "markdown",
   "metadata": {},
   "source": [
    "### PersonAttributeFilter\n",
    "You can also use the `modify.PersonAttributeFilter` to only affect people with certain attributes."
   ]
  },
  {
   "cell_type": "code",
   "execution_count": null,
   "metadata": {
    "ExecuteTime": {
     "end_time": "2020-11-24T13:45:05.755758Z",
     "start_time": "2020-11-24T13:45:05.729629Z"
    }
   },
   "outputs": [],
   "source": [
    "def condition_job_education(val):\n",
    "    return val == 'education'\n",
    "\n",
    "policy_remove_education_and_escort = \\\n",
    "    HouseholdPolicy(\n",
    "        RemoveActivity(['education', 'escort']), \n",
    "        PersonProbability(\n",
    "             discrete_joint_distribution_sampler, \n",
    "             dict(mapping=key_mapping, distribution=key_distribution)),\n",
    "        PersonAttributeFilter({'job': condition_job_education})\n",
    ")"
   ]
  },
  {
   "cell_type": "code",
   "execution_count": null,
   "metadata": {
    "ExecuteTime": {
     "end_time": "2020-11-24T13:45:06.341581Z",
     "start_time": "2020-11-24T13:45:05.757988Z"
    }
   },
   "outputs": [],
   "source": [
    "apply_policies(population, [policy_remove_education_and_escort]).households['Smith'].plot()"
   ]
  },
  {
   "cell_type": "code",
   "execution_count": null,
   "metadata": {
    "ExecuteTime": {
     "end_time": "2020-11-24T13:45:06.384208Z",
     "start_time": "2020-11-24T13:45:06.346338Z"
    }
   },
   "outputs": [],
   "source": [
    "policy_remove_education_and_escort = \\\n",
    "    HouseholdPolicy(\n",
    "        RemoveActivity(['education', 'escort']), \n",
    "        [ActivityProbability(['education'], 0.9999),\n",
    "         PersonProbability(\n",
    "             discrete_joint_distribution_sampler, \n",
    "             dict(mapping=edu_mapping, distribution=edu_distribution)),\n",
    "         PersonProbability(\n",
    "             discrete_joint_distribution_sampler, \n",
    "             dict(mapping=key_mapping, distribution=key_distribution))])"
   ]
  },
  {
   "cell_type": "code",
   "execution_count": null,
   "metadata": {
    "ExecuteTime": {
     "end_time": "2020-11-24T13:45:06.931693Z",
     "start_time": "2020-11-24T13:45:06.386976Z"
    }
   },
   "outputs": [],
   "source": [
    "apply_policies(population, [policy_remove_education_and_escort]).households['Smith'].plot()"
   ]
  },
  {
   "cell_type": "markdown",
   "metadata": {},
   "source": [
    "## Remove Leisure Activities\n",
    "\n",
    "Remove all leisure activities"
   ]
  },
  {
   "cell_type": "code",
   "execution_count": null,
   "metadata": {
    "ExecuteTime": {
     "end_time": "2020-11-24T13:45:06.975153Z",
     "start_time": "2020-11-24T13:45:06.939984Z"
    }
   },
   "outputs": [],
   "source": [
    "policy_remove_leisure = \\\n",
    "    PersonPolicy(\n",
    "        RemoveActivity(['leisure']), \n",
    "        PersonProbability(1.))"
   ]
  },
  {
   "cell_type": "code",
   "execution_count": null,
   "metadata": {
    "ExecuteTime": {
     "end_time": "2020-11-24T13:45:07.010331Z",
     "start_time": "2020-11-24T13:45:06.977764Z"
    }
   },
   "outputs": [],
   "source": [
    "lei_pop = apply_policies(population, [policy_remove_leisure])\n",
    "print_simple_stats(lei_pop)"
   ]
  },
  {
   "cell_type": "code",
   "execution_count": null,
   "metadata": {
    "ExecuteTime": {
     "end_time": "2020-11-24T13:45:07.662263Z",
     "start_time": "2020-11-24T13:45:07.016567Z"
    }
   },
   "outputs": [],
   "source": [
    "lei_pop.households['Smith'].plot()"
   ]
  },
  {
   "cell_type": "markdown",
   "metadata": {},
   "source": [
    "## Unemployment/Furlough\n",
    "\n",
    "Probabilistically remove all work activities from a person"
   ]
  },
  {
   "cell_type": "code",
   "execution_count": null,
   "metadata": {
    "ExecuteTime": {
     "end_time": "2020-11-24T13:45:07.702577Z",
     "start_time": "2020-11-24T13:45:07.673569Z"
    }
   },
   "outputs": [],
   "source": [
    "key_mapping = ['key_worker']\n",
    "key_distribution = {True: 0, False: 1}"
   ]
  },
  {
   "cell_type": "code",
   "execution_count": null,
   "metadata": {
    "ExecuteTime": {
     "end_time": "2020-11-24T13:45:07.731135Z",
     "start_time": "2020-11-24T13:45:07.705777Z"
    }
   },
   "outputs": [],
   "source": [
    "policy_unemployment_and_furlough = \\\n",
    "    PersonPolicy(\n",
    "        RemoveActivity(['work']), \n",
    "        [PersonProbability(\n",
    "             discrete_joint_distribution_sampler, \n",
    "             dict(mapping=key_mapping, distribution=key_distribution)),\n",
    "#          PersonProbability(0.1)\n",
    "        ])"
   ]
  },
  {
   "cell_type": "code",
   "execution_count": null,
   "metadata": {
    "ExecuteTime": {
     "end_time": "2020-11-24T13:45:07.763496Z",
     "start_time": "2020-11-24T13:45:07.733436Z"
    }
   },
   "outputs": [],
   "source": [
    "fur_pop = apply_policies(population, [policy_unemployment_and_furlough])\n",
    "print_simple_stats(fur_pop)"
   ]
  },
  {
   "cell_type": "code",
   "execution_count": null,
   "metadata": {
    "ExecuteTime": {
     "end_time": "2020-11-24T13:45:08.427819Z",
     "start_time": "2020-11-24T13:45:07.768383Z"
    }
   },
   "outputs": [],
   "source": [
    "fur_pop.households['Smith'].plot()"
   ]
  },
  {
   "cell_type": "code",
   "execution_count": null,
   "metadata": {
    "ExecuteTime": {
     "end_time": "2020-11-24T13:45:08.841886Z",
     "start_time": "2020-11-24T13:45:08.432779Z"
    }
   },
   "outputs": [],
   "source": [
    "fur_pop.households['Jones'].plot()"
   ]
  },
  {
   "cell_type": "code",
   "execution_count": null,
   "metadata": {
    "ExecuteTime": {
     "end_time": "2020-11-24T13:45:09.433936Z",
     "start_time": "2020-11-24T13:45:08.845751Z"
    }
   },
   "outputs": [],
   "source": [
    "policy_reduced_work = \\\n",
    "    ActivityPolicy(\n",
    "        RemoveActivity(['work']), \n",
    "        ActivityProbability(['work'], 0.5))\n",
    "\n",
    "apply_policies(population, [policy_reduced_work]).households['Smith'].plot()"
   ]
  },
  {
   "cell_type": "markdown",
   "metadata": {},
   "source": [
    "# Remove Shopping \n",
    "\n",
    "Probabilistically remove **individual** shopping activities from a person"
   ]
  },
  {
   "cell_type": "code",
   "execution_count": null,
   "metadata": {
    "ExecuteTime": {
     "end_time": "2020-11-24T13:45:09.468834Z",
     "start_time": "2020-11-24T13:45:09.436546Z"
    }
   },
   "outputs": [],
   "source": [
    "policy_remove_shopping = \\\n",
    "    PersonPolicy(\n",
    "        RemoveActivity(['shop']),\n",
    "        ActivityProbability(['shop'], 1.))"
   ]
  },
  {
   "cell_type": "code",
   "execution_count": null,
   "metadata": {
    "ExecuteTime": {
     "end_time": "2020-11-24T13:45:09.501330Z",
     "start_time": "2020-11-24T13:45:09.471392Z"
    }
   },
   "outputs": [],
   "source": [
    "shop_pop = apply_policies(population, [policy_remove_shopping])\n",
    "print_simple_stats(shop_pop)"
   ]
  },
  {
   "cell_type": "code",
   "execution_count": null,
   "metadata": {
    "ExecuteTime": {
     "end_time": "2020-11-24T13:45:09.766011Z",
     "start_time": "2020-11-24T13:45:09.503374Z"
    }
   },
   "outputs": [],
   "source": [
    "shop_pop.households['Jones'].people['Bridget'].plot()"
   ]
  },
  {
   "cell_type": "markdown",
   "metadata": {},
   "source": [
    "### Reducing shared activities"
   ]
  },
  {
   "cell_type": "code",
   "execution_count": null,
   "metadata": {
    "ExecuteTime": {
     "end_time": "2020-11-24T13:45:09.823167Z",
     "start_time": "2020-11-24T13:45:09.770491Z"
    }
   },
   "outputs": [],
   "source": [
    "policy_reduce_shopping_activities = \\\n",
    "    HouseholdPolicy(\n",
    "        ReduceSharedActivity(['shop_1', 'shop_2', 'shop']),\n",
    "        ActivityProbability(['shop_1', 'shop_2', 'shop'], 1.)\n",
    ")"
   ]
  },
  {
   "cell_type": "code",
   "execution_count": null,
   "metadata": {
    "ExecuteTime": {
     "end_time": "2020-11-24T13:45:09.866227Z",
     "start_time": "2020-11-24T13:45:09.826495Z"
    }
   },
   "outputs": [],
   "source": [
    "population['Smith'].shared_activities()"
   ]
  },
  {
   "cell_type": "code",
   "execution_count": null,
   "metadata": {
    "ExecuteTime": {
     "end_time": "2020-11-24T13:45:09.937077Z",
     "start_time": "2020-11-24T13:45:09.870393Z"
    }
   },
   "outputs": [],
   "source": [
    "shop_reduce_pop = apply_policies(population, [policy_reduce_shopping_activities])\n",
    "print_simple_stats(shop_reduce_pop)"
   ]
  },
  {
   "cell_type": "code",
   "execution_count": null,
   "metadata": {
    "ExecuteTime": {
     "end_time": "2020-11-24T13:45:10.833268Z",
     "start_time": "2020-11-24T13:45:09.941685Z"
    }
   },
   "outputs": [],
   "source": [
    "shop_reduce_pop.households['Smith'].plot()"
   ]
  },
  {
   "cell_type": "code",
   "execution_count": null,
   "metadata": {
    "ExecuteTime": {
     "end_time": "2020-11-24T13:45:10.890480Z",
     "start_time": "2020-11-24T13:45:10.840595Z"
    }
   },
   "outputs": [],
   "source": [
    "shop_reduce_pop.households['Smith'].people['Bobby'].print()"
   ]
  },
  {
   "cell_type": "markdown",
   "metadata": {},
   "source": [
    "### Moving Shopping tours\n"
   ]
  },
  {
   "cell_type": "code",
   "execution_count": null,
   "metadata": {
    "ExecuteTime": {
     "end_time": "2020-11-24T13:45:10.960575Z",
     "start_time": "2020-11-24T13:45:10.914510Z"
    }
   },
   "outputs": [],
   "source": [
    "policy_move_shopping_tours = \\\n",
    "    PersonPolicy(\n",
    "        MoveActivityTourToHomeLocation(['shop_1', 'shop_2']),\n",
    "        [ActivityProbability(['shop_1', 'shop_2'], 1.)]\n",
    ")"
   ]
  },
  {
   "cell_type": "code",
   "execution_count": null,
   "metadata": {
    "ExecuteTime": {
     "end_time": "2020-11-24T13:45:11.004113Z",
     "start_time": "2020-11-24T13:45:10.967006Z"
    }
   },
   "outputs": [],
   "source": [
    "shop_tour_pop = apply_policies(population, [policy_move_shopping_tours])\n",
    "print_simple_stats(shop_tour_pop)"
   ]
  },
  {
   "cell_type": "code",
   "execution_count": null,
   "metadata": {
    "ExecuteTime": {
     "end_time": "2020-11-24T13:45:11.950173Z",
     "start_time": "2020-11-24T13:45:11.008354Z"
    }
   },
   "outputs": [],
   "source": [
    "shop_tour_pop.households['Smith'].plot()"
   ]
  },
  {
   "cell_type": "code",
   "execution_count": null,
   "metadata": {
    "ExecuteTime": {
     "end_time": "2020-11-24T13:45:11.987265Z",
     "start_time": "2020-11-24T13:45:11.953413Z"
    }
   },
   "outputs": [],
   "source": [
    "# above is equivalent to\n",
    "policy_move_shopping_tours = \\\n",
    "    PersonPolicy(\n",
    "        MoveActivityTourToHomeLocation(['shop_1', 'shop_2']),\n",
    "        [ActivityProbability(['shop_1'], 1.), ActivityProbability(['shop_2'], 1.)]\n",
    ")"
   ]
  },
  {
   "cell_type": "code",
   "execution_count": null,
   "metadata": {
    "ExecuteTime": {
     "end_time": "2020-11-24T13:45:12.035879Z",
     "start_time": "2020-11-24T13:45:11.990415Z"
    }
   },
   "outputs": [],
   "source": [
    "shop_tour_pop = apply_policies(population, [policy_move_shopping_tours])\n",
    "print_simple_stats(shop_tour_pop)"
   ]
  },
  {
   "cell_type": "code",
   "execution_count": null,
   "metadata": {
    "ExecuteTime": {
     "end_time": "2020-11-24T13:45:12.931069Z",
     "start_time": "2020-11-24T13:45:12.040202Z"
    }
   },
   "outputs": [],
   "source": [
    "shop_tour_pop.households['Smith'].plot()"
   ]
  },
  {
   "cell_type": "code",
   "execution_count": null,
   "metadata": {
    "ExecuteTime": {
     "end_time": "2020-11-24T13:45:12.972515Z",
     "start_time": "2020-11-24T13:45:12.937825Z"
    }
   },
   "outputs": [],
   "source": [
    "shop_tour_pop.households['Smith'].people['Bradly'].print()"
   ]
  },
  {
   "cell_type": "markdown",
   "metadata": {},
   "source": [
    "# All together now!"
   ]
  },
  {
   "cell_type": "code",
   "execution_count": null,
   "metadata": {
    "ExecuteTime": {
     "end_time": "2020-11-24T13:45:13.019936Z",
     "start_time": "2020-11-24T13:45:12.987530Z"
    }
   },
   "outputs": [],
   "source": [
    "all_together_pop = apply_policies(\n",
    "    population, \n",
    "    [policy_quarantine, \n",
    "     policy_remove_education_and_escort, \n",
    "     policy_remove_leisure, \n",
    "     policy_unemployment_and_furlough, \n",
    "     policy_remove_shopping])\n",
    "\n",
    "print_simple_stats(all_together_pop)"
   ]
  },
  {
   "cell_type": "code",
   "execution_count": null,
   "metadata": {},
   "outputs": [],
   "source": []
  },
  {
   "cell_type": "code",
   "execution_count": null,
   "metadata": {},
   "outputs": [],
   "source": []
  },
  {
   "cell_type": "code",
   "execution_count": null,
   "metadata": {},
   "outputs": [],
   "source": []
  },
  {
   "cell_type": "code",
   "execution_count": null,
   "metadata": {},
   "outputs": [],
   "source": []
  }
 ],
 "metadata": {
  "kernelspec": {
   "display_name": "Python 3.8.2 64-bit ('3.8.2')",
   "language": "python",
   "name": "python3"
  },
  "language_info": {
   "codemirror_mode": {
    "name": "ipython",
    "version": 3
   },
   "file_extension": ".py",
   "mimetype": "text/x-python",
   "name": "python",
   "nbconvert_exporter": "python",
   "pygments_lexer": "ipython3",
   "version": "3.8.2"
  },
  "latex_envs": {
   "LaTeX_envs_menu_present": true,
   "autoclose": true,
   "autocomplete": true,
   "bibliofile": "biblio.bib",
   "cite_by": "apalike",
   "current_citInitial": 1,
   "eqLabelWithNumbers": true,
   "eqNumInitial": 1,
   "hotkeys": {
    "equation": "Ctrl-E",
    "itemize": "Ctrl-I"
   },
   "labels_anchors": false,
   "latex_user_defs": false,
   "report_style_numbering": false,
   "user_envs_cfg": false
  },
  "toc": {
   "base_numbering": 1,
   "nav_menu": {},
   "number_sections": true,
   "sideBar": true,
   "skip_h1_title": false,
   "title_cell": "Table of Contents",
   "title_sidebar": "Contents",
   "toc_cell": false,
   "toc_position": {},
   "toc_section_display": true,
   "toc_window_display": false
  },
  "varInspector": {
   "cols": {
    "lenName": 16,
    "lenType": 16,
    "lenVar": 40
   },
   "kernels_config": {
    "python": {
     "delete_cmd_postfix": "",
     "delete_cmd_prefix": "del ",
     "library": "var_list.py",
     "varRefreshCmd": "print(var_dic_list())"
    },
    "r": {
     "delete_cmd_postfix": ") ",
     "delete_cmd_prefix": "rm(",
     "library": "var_list.r",
     "varRefreshCmd": "cat(var_dic_list()) "
    }
   },
   "types_to_exclude": [
    "module",
    "function",
    "builtin_function_or_method",
    "instance",
    "_Feature"
   ],
   "window_display": false
  },
  "vscode": {
   "interpreter": {
    "hash": "c2a90f01ee7329c0dc072323d04ab57047490a620cb7d1fe86527d3a3edaf28c"
   }
  }
 },
 "nbformat": 4,
 "nbformat_minor": 4
}
